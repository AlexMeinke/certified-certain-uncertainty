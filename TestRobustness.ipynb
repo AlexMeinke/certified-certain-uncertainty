{
 "cells": [
  {
   "cell_type": "code",
   "execution_count": 54,
   "metadata": {},
   "outputs": [
    {
     "data": {
      "text/plain": [
       "<module 'utils.adversarial' from '/home/alexm/project/notebooks/gmm-robust/utils/adversarial.py'>"
      ]
     },
     "execution_count": 54,
     "metadata": {},
     "output_type": "execute_result"
    }
   ],
   "source": [
    "import torch\n",
    "import numpy as np\n",
    "import matplotlib.pyplot as plt\n",
    "\n",
    "from importlib import reload\n",
    "\n",
    "import utils.dataloaders as dl\n",
    "import utils.traintest as tt\n",
    "import utils.adversarial as adv\n",
    "import utils.models as models\n",
    "\n",
    "reload(adv)"
   ]
  },
  {
   "cell_type": "code",
   "execution_count": 2,
   "metadata": {},
   "outputs": [],
   "source": [
    "file = 'SavedModels/base/base_CIFAR10_lr0.1_augm_flagTrue_train_typeCEDA_ACET_OUT_steps40.pth'\n",
    "file = 'SavedModels/base/base_CIFAR10_lr0.1_augm_flagTrue_train_typeACET_OUT_steps40.pth'\n",
    "\n",
    "device = torch.device('cuda:1')\n",
    "\n",
    "model = torch.load(file).to(device)"
   ]
  },
  {
   "cell_type": "code",
   "execution_count": 3,
   "metadata": {},
   "outputs": [],
   "source": [
    "test_loader = dl.CIFAR10(train=False)"
   ]
  },
  {
   "cell_type": "code",
   "execution_count": 4,
   "metadata": {},
   "outputs": [],
   "source": [
    "data, label = next(iter(test_loader))\n",
    "data = data.to(device)"
   ]
  },
  {
   "cell_type": "code",
   "execution_count": 7,
   "metadata": {},
   "outputs": [],
   "source": [
    "x = torch.rand(20, 3, 32, 32, device=device)"
   ]
  },
  {
   "cell_type": "code",
   "execution_count": 29,
   "metadata": {},
   "outputs": [],
   "source": [
    "xp = adv.gen_adv_sample(model, device, data, label, epsilon=0.1, steps=200, step_size=0.0001)"
   ]
  },
  {
   "cell_type": "code",
   "execution_count": 67,
   "metadata": {},
   "outputs": [],
   "source": [
    "data, losses = adv.gen_adv_noise(model, device, x, epsilon=5., restarts=1, \n",
    "                                 perturb=False, steps=500, step_size=.1, norm='inf')"
   ]
  },
  {
   "cell_type": "code",
   "execution_count": 68,
   "metadata": {},
   "outputs": [
    {
     "name": "stdout",
     "output_type": "stream",
     "text": [
      "(tensor([0.1044, 0.9808, 0.1060, 0.1049, 0.1057, 0.1040, 0.1053, 0.1052, 0.9898,\n",
      "        0.1047, 0.1059, 0.1057, 0.1051, 0.1058, 0.9900, 0.1051, 0.1051, 0.1061,\n",
      "        0.1031, 0.9366], device='cuda:1'), tensor([2, 2, 2, 2, 2, 2, 2, 2, 3, 2, 2, 2, 2, 2, 2, 2, 2, 2, 2, 2], device='cuda:1'))\n",
      "tensor(0.2790, device='cuda:1')\n"
     ]
    }
   ],
   "source": [
    "with torch.no_grad():\n",
    "    out = model(data)\n",
    "print(out.exp().max(1))\n",
    "print(out.exp().max(1)[0].mean())"
   ]
  },
  {
   "cell_type": "code",
   "execution_count": 58,
   "metadata": {},
   "outputs": [
    {
     "name": "stdout",
     "output_type": "stream",
     "text": [
      "(tensor([0.1035, 0.1071, 0.1048, 0.1039, 0.1042, 0.1034, 0.1043, 0.1041, 0.1043,\n",
      "        0.1035, 0.1041, 0.1046, 0.1042, 0.1044, 0.1053, 0.1038, 0.1039, 0.1043,\n",
      "        0.1029, 0.1051], device='cuda:1'), tensor([2, 2, 2, 2, 2, 2, 2, 2, 2, 2, 2, 2, 2, 2, 2, 2, 2, 2, 2, 2], device='cuda:1'))\n"
     ]
    }
   ],
   "source": [
    "with torch.no_grad():\n",
    "    out = model(data)\n",
    "print(out.exp().max(1))"
   ]
  },
  {
   "cell_type": "code",
   "execution_count": 69,
   "metadata": {},
   "outputs": [
    {
     "data": {
      "text/plain": [
       "<matplotlib.image.AxesImage at 0x7f1393f08390>"
      ]
     },
     "execution_count": 69,
     "metadata": {},
     "output_type": "execute_result"
    },
    {
     "data": {
      "image/png": "[encoded data removed]",
      "text/plain": [
       "<Figure size 432x288 with 1 Axes>"
      ]
     },
     "metadata": {},
     "output_type": "display_data"
    }
   ],
   "source": [
    "plt.imshow(data[1].detach().cpu().permute(1,2,0))"
   ]
  },
  {
   "cell_type": "code",
   "execution_count": 5,
   "metadata": {},
   "outputs": [],
   "source": [
    "file = 'SavedModels/gmm__PCACIFAR10_lam0.0_n100_lr0.1_lrgmm1e-05_augm_flagTrue_train_typeCEDA_GMM_OUTgrad_vars mu var_OUT.pth'\n",
    "ccu = torch.load(file).cpu()\n",
    "gmm = ccu.mm.to(device)\n",
    "shape = (3,32,32)\n",
    "\n",
    "trans_matrix = gmm.metric.comp_vecs.t()\n",
    "trans_matrix = torch.eye(3072).to(device)\n",
    "\n",
    "pca = models.MyPCA(trans_matrix, 1.+0.*gmm.metric.singular_values, shape)"
   ]
  },
  {
   "cell_type": "code",
   "execution_count": 43,
   "metadata": {},
   "outputs": [
    {
     "name": "stdout",
     "output_type": "stream",
     "text": [
      "(tensor([0.1046, 0.1066, 0.1066, 0.1060, 0.1064, 0.1048, 0.1074, 0.1059, 0.1059,\n",
      "        0.1043, 0.1065, 0.1050, 0.1059, 0.1059, 0.1089, 0.1057, 0.1096, 0.1057,\n",
      "        0.1043, 0.1061], device='cuda:1'), tensor([2, 2, 2, 2, 2, 2, 2, 2, 2, 2, 2, 2, 2, 2, 2, 2, 3, 2, 2, 2], device='cuda:1'))\n",
      "tensor(0.1061, device='cuda:1')\n"
     ]
    }
   ],
   "source": [
    "epsilon = torch.tensor(x.shape[0]*[5.], device=device)\n",
    "data, losses = adv.gen_pca_noise(model, device, x.to(device), pca, epsilon, restarts=1, \n",
    "                                 perturb=False, steps=200, alpha=0.01)\n",
    "\n",
    "with torch.no_grad():\n",
    "    out = model(data)\n",
    "print(out.exp().max(1))\n",
    "print(out.exp().max(1)[0].mean())"
   ]
  },
  {
   "cell_type": "code",
   "execution_count": 64,
   "metadata": {},
   "outputs": [
    {
     "data": {
      "text/plain": [
       "Parameter containing:\n",
       "tensor([1660.7218, 1047.2676,  774.8707,  ...,    0.3064,    0.3064,\n",
       "           0.3027], device='cuda:1')"
      ]
     },
     "execution_count": 64,
     "metadata": {},
     "output_type": "execute_result"
    }
   ],
   "source": [
    "data, losses = adv.gen_adv_noise(model, device, x, epsilon=0.1, restarts=5, \n",
    "                                 perturb=False, steps=500, step_size=0.01)\n",
    "\n",
    "with torch.no_grad():\n",
    "    out = model(data)\n",
    "print(out.exp().max(1))"
   ]
  },
  {
   "cell_type": "code",
   "execution_count": 27,
   "metadata": {},
   "outputs": [
    {
     "name": "stdout",
     "output_type": "stream",
     "text": [
      "tensor(0.1026, device='cuda:1')\n"
     ]
    }
   ],
   "source": [
    "print(out.exp().max(1)[0].mean())"
   ]
  },
  {
   "cell_type": "code",
   "execution_count": 14,
   "metadata": {},
   "outputs": [
    {
     "data": {
      "text/plain": [
       "<module 'utils.adversarial' from '/home/alexm/project/notebooks/gmm-robust/utils/adversarial.py'>"
      ]
     },
     "execution_count": 14,
     "metadata": {},
     "output_type": "execute_result"
    }
   ],
   "source": [
    "reload(adv)"
   ]
  },
  {
   "cell_type": "code",
   "execution_count": null,
   "metadata": {},
   "outputs": [],
   "source": []
  }
 ],
 "metadata": {
  "kernelspec": {
   "display_name": "Python 3",
   "language": "python",
   "name": "python3"
  },
  "language_info": {
   "codemirror_mode": {
    "name": "ipython",
    "version": 3
   },
   "file_extension": ".py",
   "mimetype": "text/x-python",
   "name": "python",
   "nbconvert_exporter": "python",
   "pygments_lexer": "ipython3",
   "version": "3.5.2"
  }
 },
 "nbformat": 4,
 "nbformat_minor": 2
}
