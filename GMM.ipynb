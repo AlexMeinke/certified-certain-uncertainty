{
 "cells": [
  {
   "cell_type": "code",
   "execution_count": 1,
   "metadata": {},
   "outputs": [],
   "source": [
    "import torch\n",
    "\n",
    "from importlib import reload\n",
    "\n",
    "import models\n",
    "import plotting\n",
    "import dataloaders as dl\n",
    "import traintest as tt"
   ]
  },
  {
   "cell_type": "code",
   "execution_count": 2,
   "metadata": {},
   "outputs": [],
   "source": [
    "if torch.cuda.is_available():\n",
    "    device = torch.device('cuda')\n",
    "else:\n",
    "    device = torch.device('cpu')"
   ]
  },
  {
   "cell_type": "code",
   "execution_count": 3,
   "metadata": {},
   "outputs": [],
   "source": [
    "preproc = dl.X_MNIST.view(3000,28,28).mean(dim=0)\n",
    "preproc_std = torch.ones(28,28)\n",
    "temp = dl.X_MNIST.view(3000,28,28).std(dim=0)\n",
    "preproc_std[temp>.1] = temp[temp>.1]\n",
    "base_model = models.LeNet(preproc=(preproc,preproc_std)).to(device)"
   ]
  },
  {
   "cell_type": "code",
   "execution_count": 4,
   "metadata": {
    "collapsed": true
   },
   "outputs": [
    {
     "name": "stdout",
     "output_type": "stream",
     "text": [
      "Train Epoch: 0 [0/60000 (0%)]\tLoss: 2.293383\n",
      "Train Epoch: 0 [10000/60000 (17%)]\tLoss: 0.238598\n",
      "Train Epoch: 0 [20000/60000 (33%)]\tLoss: 0.064641\n",
      "Train Epoch: 0 [30000/60000 (50%)]\tLoss: 0.093125\n",
      "Train Epoch: 0 [40000/60000 (67%)]\tLoss: 0.089759\n",
      "Train Epoch: 0 [50000/60000 (83%)]\tLoss: 0.129659\n",
      "Train Epoch: 1 [0/60000 (0%)]\tLoss: 0.074203\n",
      "Train Epoch: 1 [10000/60000 (17%)]\tLoss: 0.054367\n",
      "Train Epoch: 1 [20000/60000 (33%)]\tLoss: 0.022015\n",
      "Train Epoch: 1 [30000/60000 (50%)]\tLoss: 0.072561\n",
      "Train Epoch: 1 [40000/60000 (67%)]\tLoss: 0.052406\n",
      "Train Epoch: 1 [50000/60000 (83%)]\tLoss: 0.041463\n",
      "Train Epoch: 2 [0/60000 (0%)]\tLoss: 0.045402\n",
      "Train Epoch: 2 [10000/60000 (17%)]\tLoss: 0.034100\n",
      "Train Epoch: 2 [20000/60000 (33%)]\tLoss: 0.045884\n",
      "Train Epoch: 2 [30000/60000 (50%)]\tLoss: 0.034155\n",
      "Train Epoch: 2 [40000/60000 (67%)]\tLoss: 0.025293\n",
      "Train Epoch: 2 [50000/60000 (83%)]\tLoss: 0.024749\n",
      "Train Epoch: 3 [0/60000 (0%)]\tLoss: 0.025586\n",
      "Train Epoch: 3 [10000/60000 (17%)]\tLoss: 0.025845\n",
      "Train Epoch: 3 [20000/60000 (33%)]\tLoss: 0.067355\n",
      "Train Epoch: 3 [30000/60000 (50%)]\tLoss: 0.023228\n",
      "Train Epoch: 3 [40000/60000 (67%)]\tLoss: 0.067127\n",
      "Train Epoch: 3 [50000/60000 (83%)]\tLoss: 0.033670\n",
      "Train Epoch: 4 [0/60000 (0%)]\tLoss: 0.036158\n",
      "Train Epoch: 4 [10000/60000 (17%)]\tLoss: 0.042857\n",
      "Train Epoch: 4 [20000/60000 (33%)]\tLoss: 0.053225\n",
      "Train Epoch: 4 [30000/60000 (50%)]\tLoss: 0.032106\n",
      "Train Epoch: 4 [40000/60000 (67%)]\tLoss: 0.016272\n",
      "Train Epoch: 4 [50000/60000 (83%)]\tLoss: 0.102146\n",
      "Train Epoch: 5 [0/60000 (0%)]\tLoss: 0.033658\n",
      "Train Epoch: 5 [10000/60000 (17%)]\tLoss: 0.041213\n",
      "Train Epoch: 5 [20000/60000 (33%)]\tLoss: 0.024037\n",
      "Train Epoch: 5 [30000/60000 (50%)]\tLoss: 0.035836\n",
      "Train Epoch: 5 [40000/60000 (67%)]\tLoss: 0.043803\n",
      "Train Epoch: 5 [50000/60000 (83%)]\tLoss: 0.038026\n",
      "Train Epoch: 6 [0/60000 (0%)]\tLoss: 0.039094\n",
      "Train Epoch: 6 [10000/60000 (17%)]\tLoss: 0.031608\n",
      "Train Epoch: 6 [20000/60000 (33%)]\tLoss: 0.039286\n",
      "Train Epoch: 6 [30000/60000 (50%)]\tLoss: 0.053838\n",
      "Train Epoch: 6 [40000/60000 (67%)]\tLoss: 0.034679\n",
      "Train Epoch: 6 [50000/60000 (83%)]\tLoss: 0.019089\n",
      "Train Epoch: 7 [0/60000 (0%)]\tLoss: 0.016193\n",
      "Train Epoch: 7 [10000/60000 (17%)]\tLoss: 0.051048\n",
      "Train Epoch: 7 [20000/60000 (33%)]\tLoss: 0.017221\n",
      "Train Epoch: 7 [30000/60000 (50%)]\tLoss: 0.028734\n",
      "Train Epoch: 7 [40000/60000 (67%)]\tLoss: 0.076981\n",
      "Train Epoch: 7 [50000/60000 (83%)]\tLoss: 0.036549\n",
      "Train Epoch: 8 [0/60000 (0%)]\tLoss: 0.018407\n",
      "Train Epoch: 8 [10000/60000 (17%)]\tLoss: 0.041286\n",
      "Train Epoch: 8 [20000/60000 (33%)]\tLoss: 0.028755\n",
      "Train Epoch: 8 [30000/60000 (50%)]\tLoss: 0.074198\n",
      "Train Epoch: 8 [40000/60000 (67%)]\tLoss: 0.025461\n",
      "Train Epoch: 8 [50000/60000 (83%)]\tLoss: 0.033779\n",
      "Train Epoch: 9 [0/60000 (0%)]\tLoss: 0.065580\n",
      "Train Epoch: 9 [10000/60000 (17%)]\tLoss: 0.024100\n",
      "Train Epoch: 9 [20000/60000 (33%)]\tLoss: 0.040139\n",
      "Train Epoch: 9 [30000/60000 (50%)]\tLoss: 0.040044\n",
      "Train Epoch: 9 [40000/60000 (67%)]\tLoss: 0.028328\n",
      "Train Epoch: 9 [50000/60000 (83%)]\tLoss: 0.017354\n",
      "Train Epoch: 10 [0/60000 (0%)]\tLoss: 0.045359\n",
      "Train Epoch: 10 [10000/60000 (17%)]\tLoss: 0.034155\n",
      "Train Epoch: 10 [20000/60000 (33%)]\tLoss: 0.038507\n",
      "Train Epoch: 10 [30000/60000 (50%)]\tLoss: 0.038078\n",
      "Train Epoch: 10 [40000/60000 (67%)]\tLoss: 0.062527\n",
      "Train Epoch: 10 [50000/60000 (83%)]\tLoss: 0.042737\n",
      "Train Epoch: 11 [0/60000 (0%)]\tLoss: 0.023469\n",
      "Train Epoch: 11 [10000/60000 (17%)]\tLoss: 0.011487\n",
      "Train Epoch: 11 [20000/60000 (33%)]\tLoss: 0.024753\n",
      "Train Epoch: 11 [30000/60000 (50%)]\tLoss: 0.029676\n",
      "Train Epoch: 11 [40000/60000 (67%)]\tLoss: 0.052221\n",
      "Train Epoch: 11 [50000/60000 (83%)]\tLoss: 0.034392\n",
      "Train Epoch: 12 [0/60000 (0%)]\tLoss: 0.022129\n",
      "Train Epoch: 12 [10000/60000 (17%)]\tLoss: 0.057322\n",
      "Train Epoch: 12 [20000/60000 (33%)]\tLoss: 0.045565\n",
      "Train Epoch: 12 [30000/60000 (50%)]\tLoss: 0.024004\n",
      "Train Epoch: 12 [40000/60000 (67%)]\tLoss: 0.023702\n",
      "Train Epoch: 12 [50000/60000 (83%)]\tLoss: 0.100412\n",
      "Train Epoch: 13 [0/60000 (0%)]\tLoss: 0.012358\n",
      "Train Epoch: 13 [10000/60000 (17%)]\tLoss: 0.022781\n",
      "Train Epoch: 13 [20000/60000 (33%)]\tLoss: 0.014854\n",
      "Train Epoch: 13 [30000/60000 (50%)]\tLoss: 0.014112\n",
      "Train Epoch: 13 [40000/60000 (67%)]\tLoss: 0.014194\n",
      "Train Epoch: 13 [50000/60000 (83%)]\tLoss: 0.049714\n",
      "Train Epoch: 14 [0/60000 (0%)]\tLoss: 0.029789\n",
      "Train Epoch: 14 [10000/60000 (17%)]\tLoss: 0.019634\n",
      "Train Epoch: 14 [20000/60000 (33%)]\tLoss: 0.061459\n",
      "Train Epoch: 14 [30000/60000 (50%)]\tLoss: 0.029669\n",
      "Train Epoch: 14 [40000/60000 (67%)]\tLoss: 0.017385\n",
      "Train Epoch: 14 [50000/60000 (83%)]\tLoss: 0.028624\n",
      "Train Epoch: 15 [0/60000 (0%)]\tLoss: 0.015868\n",
      "Train Epoch: 15 [10000/60000 (17%)]\tLoss: 0.017745\n",
      "Train Epoch: 15 [20000/60000 (33%)]\tLoss: 0.032624\n",
      "Train Epoch: 15 [30000/60000 (50%)]\tLoss: 0.024778\n",
      "Train Epoch: 15 [40000/60000 (67%)]\tLoss: 0.025554\n",
      "Train Epoch: 15 [50000/60000 (83%)]\tLoss: 0.016068\n",
      "Train Epoch: 16 [0/60000 (0%)]\tLoss: 0.027691\n",
      "Train Epoch: 16 [10000/60000 (17%)]\tLoss: 0.050207\n",
      "Train Epoch: 16 [20000/60000 (33%)]\tLoss: 0.022250\n",
      "Train Epoch: 16 [30000/60000 (50%)]\tLoss: 0.033253\n",
      "Train Epoch: 16 [40000/60000 (67%)]\tLoss: 0.018579\n",
      "Train Epoch: 16 [50000/60000 (83%)]\tLoss: 0.021901\n",
      "Train Epoch: 17 [0/60000 (0%)]\tLoss: 0.031910\n",
      "Train Epoch: 17 [10000/60000 (17%)]\tLoss: 0.052881\n",
      "Train Epoch: 17 [20000/60000 (33%)]\tLoss: 0.027627\n",
      "Train Epoch: 17 [30000/60000 (50%)]\tLoss: 0.050536\n",
      "Train Epoch: 17 [40000/60000 (67%)]\tLoss: 0.053781\n",
      "Train Epoch: 17 [50000/60000 (83%)]\tLoss: 0.048373\n",
      "Train Epoch: 18 [0/60000 (0%)]\tLoss: 0.036509\n",
      "Train Epoch: 18 [10000/60000 (17%)]\tLoss: 0.022064\n",
      "Train Epoch: 18 [20000/60000 (33%)]\tLoss: 0.028710\n",
      "Train Epoch: 18 [30000/60000 (50%)]\tLoss: 0.021087\n",
      "Train Epoch: 18 [40000/60000 (67%)]\tLoss: 0.015337\n",
      "Train Epoch: 18 [50000/60000 (83%)]\tLoss: 0.017805\n",
      "Train Epoch: 19 [0/60000 (0%)]\tLoss: 0.053734\n",
      "Train Epoch: 19 [10000/60000 (17%)]\tLoss: 0.055145\n",
      "Train Epoch: 19 [20000/60000 (33%)]\tLoss: 0.027718\n",
      "Train Epoch: 19 [30000/60000 (50%)]\tLoss: 0.023340\n",
      "Train Epoch: 19 [40000/60000 (67%)]\tLoss: 0.032995\n",
      "Train Epoch: 19 [50000/60000 (83%)]\tLoss: 0.038952\n"
     ]
    }
   ],
   "source": [
    "import torch.optim as optim\n",
    "\n",
    "lr = .01\n",
    "momentum = .9\n",
    "\n",
    "optimizer_base = optim.SGD(base_model.parameters(), lr=lr, momentum=momentum, weight_decay=0.005)\n",
    "for epoch in range(20):\n",
    "    optimizer_base.param_groups[0]['lr'] *= .8\n",
    "    tt.train(base_model, device, dl.train_loader, optimizer_base, epoch)"
   ]
  },
  {
   "cell_type": "code",
   "execution_count": 5,
   "metadata": {},
   "outputs": [],
   "source": [
    "torch.save(base_model, 'base_model.pth')"
   ]
  },
  {
   "cell_type": "code",
   "execution_count": 6,
   "metadata": {},
   "outputs": [],
   "source": [
    "base_model = torch.load('base_model.pth')\n",
    "gmm = models.GMM(1000, 784)\n",
    "gmm.find_solution(dl.X_MNIST, initialize=True, iterate=False, use_kmeans=False)\n",
    "gmm_model = models.RobustModel(base_model, gmm, -7.).to(device)\n",
    "torch.save(gmm_model, 'gmm_model.pth')\n",
    "\n",
    "qmm = models.QuadraticMixtureModel(1000, 784, mu=gmm.mu, logvar=gmm.logvar, alpha=gmm.alpha)\n",
    "#qmm.find_solution(dl.X_MNIST, initialize=True, iterate=False, use_kmeans=False)\n",
    "qmm_model = models.RobustModel(base_model, qmm, -7.).to(device)\n",
    "torch.save(qmm_model, 'qmm_model.pth')"
   ]
  },
  {
   "cell_type": "code",
   "execution_count": 7,
   "metadata": {},
   "outputs": [
    {
     "data": {
      "image/png": "[encoded data removed]",
      "text/plain": [
       "<Figure size 432x288 with 10 Axes>"
      ]
     },
     "metadata": {},
     "output_type": "display_data"
    },
    {
     "name": "stdout",
     "output_type": "stream",
     "text": [
      "\n",
      "\n",
      "\n",
      "Test set: Average loss: 0.2151, Accuracy: 9667/10000 (97%), Ave. Confidence: 83%\n",
      "\n",
      "\n",
      "Test set: Average loss: 0.1478, Accuracy: 9859/10000 (99%), Ave. Confidence: 88%\n",
      "\n",
      "\n",
      "Test set: Average loss: 0.0349, Accuracy: 9877/10000 (99%), Ave. Confidence: 98%\n",
      "\n",
      "\n",
      "Ave. Confidence: 50% Predicted: 47%\n",
      "\n",
      "\n",
      "Ave. Confidence: 71% Predicted: 82%\n",
      "\n",
      "\n",
      "Ave. Confidence: 79% Predicted: 88%\n",
      "\n"
     ]
    },
    {
     "data": {
      "text/plain": [
       "0.7899127976481731"
      ]
     },
     "execution_count": 7,
     "metadata": {},
     "output_type": "execute_result"
    }
   ],
   "source": [
    "#gmm_model.loglam.data = torch.tensor(-8., device=device)\n",
    "qmm_model.loglam.data = torch.tensor(-2., device=device)\n",
    "\n",
    "data = enumerate(dl.test_loader).__next__()[1][0]\n",
    "y = gmm_model(data.to(device))\n",
    "yq = qmm_model(data.to(device))\n",
    "y_base = base_model(data.to(device))\n",
    "\n",
    "plotting.plot_samples([y, yq, y_base], data)\n",
    "\n",
    "min_conf = .5\n",
    "tt.test(gmm_model, device, dl.test_loader, min_conf=min_conf)\n",
    "tt.test(qmm_model, device, dl.test_loader, min_conf=min_conf)\n",
    "tt.test(base_model, device, dl.test_loader, min_conf=min_conf)\n",
    "\n",
    "tt.test_adv(gmm_model, device, dl.EMNIST_test_loader, min_conf=min_conf)\n",
    "tt.test_adv(qmm_model, device, dl.EMNIST_test_loader, min_conf=min_conf)\n",
    "tt.test_adv(base_model, device, dl.EMNIST_test_loader, min_conf=min_conf)"
   ]
  },
  {
   "cell_type": "code",
   "execution_count": 8,
   "metadata": {},
   "outputs": [
    {
     "data": {
      "image/png": "[encoded data removed]",
      "text/plain": [
       "<Figure size 432x288 with 10 Axes>"
      ]
     },
     "metadata": {},
     "output_type": "display_data"
    },
    {
     "name": "stdout",
     "output_type": "stream",
     "text": [
      "\n",
      "\n"
     ]
    }
   ],
   "source": [
    "data = enumerate(dl.EMNIST_test_loader).__next__()[1][0]\n",
    "y = gmm_model(data.to(device))\n",
    "yq = qmm_model(data.to(device))\n",
    "y_base = base_model(data.to(device))\n",
    "\n",
    "plotting.plot_samples([y, yq, y_base], data)"
   ]
  },
  {
   "cell_type": "code",
   "execution_count": null,
   "metadata": {},
   "outputs": [],
   "source": []
  }
 ],
 "metadata": {
  "kernelspec": {
   "display_name": "Python 3",
   "language": "python",
   "name": "python3"
  },
  "language_info": {
   "codemirror_mode": {
    "name": "ipython",
    "version": 3
   },
   "file_extension": ".py",
   "mimetype": "text/x-python",
   "name": "python",
   "nbconvert_exporter": "python",
   "pygments_lexer": "ipython3",
   "version": "3.5.2"
  }
 },
 "nbformat": 4,
 "nbformat_minor": 2
}
