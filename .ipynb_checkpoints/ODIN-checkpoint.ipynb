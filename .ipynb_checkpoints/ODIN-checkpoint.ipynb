{
 "cells": [
  {
   "cell_type": "code",
   "execution_count": 1,
   "metadata": {},
   "outputs": [],
   "source": [
    "import torch\n",
    "import model_params as params\n",
    "import utils.odin as odin\n",
    "\n",
    "import model_paths"
   ]
  },
  {
   "cell_type": "code",
   "execution_count": null,
   "metadata": {},
   "outputs": [],
   "source": [
    "\n",
    "device = torch.device('cuda:0')\n",
    "\n",
    "out_seeds = False\n",
    "\n",
    "datasets = ['MNIST', 'FMNIST', 'SVHN', 'CIFAR10']\n",
    "\n",
    "for dataset in datasets:\n",
    "    print(dataset)\n",
    "    model_params = params.params_dict[dataset](augm_flag=True)\n",
    "    path = model_paths.model_dict[dataset]().file_dict['Base']\n",
    "\n",
    "    model_params = params.params_dict[dataset]()\n",
    "\n",
    "    base_model = torch.load(path).to(device)\n",
    "    ODIN_model, _, _ = odin.grid_search_variables(base_model, model_params, \n",
    "                                                  device, out_seeds=hps.out_seeds)\n",
    "\n",
    "    torch.save(ODIN_model.cpu(), 'SavedModels/other/odin/' + dataset + '_ODIN.pth')"
   ]
  }
 ],
 "metadata": {
  "kernelspec": {
   "display_name": "Python 3",
   "language": "python",
   "name": "python3"
  },
  "language_info": {
   "codemirror_mode": {
    "name": "ipython",
    "version": 3
   },
   "file_extension": ".py",
   "mimetype": "text/x-python",
   "name": "python",
   "nbconvert_exporter": "python",
   "pygments_lexer": "ipython3",
   "version": "3.5.2"
  }
 },
 "nbformat": 4,
 "nbformat_minor": 2
}
