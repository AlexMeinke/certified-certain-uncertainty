{
 "cells": [
  {
   "cell_type": "code",
   "execution_count": 1,
   "metadata": {},
   "outputs": [],
   "source": [
    "import torch\n",
    "import torch.nn as nn\n",
    "import torch.nn.functional as F\n",
    "import torch.optim as optim\n",
    "\n",
    "import matplotlib.pyplot as plt\n",
    "import numpy as np\n",
    "import pandas as pd\n",
    "import scipy\n",
    "from sklearn.metrics import roc_auc_score\n",
    "from sklearn import mixture, preprocessing, datasets\n",
    "\n",
    "from importlib import reload\n",
    "import matplotlib\n",
    "import matplotlib.pyplot as plt\n",
    "from matplotlib import patches\n",
    "\n",
    "import torch.utils.data as data_utils\n",
    "\n",
    "import utils.models as models\n",
    "import utils.plotting as plotting\n",
    "import utils.dataloaders as dl\n",
    "import utils.traintest as tt\n",
    "import utils.adversarial as adv\n",
    "import utils.eval as ev\n",
    "import model_params as params\n",
    "import utils.resnet_orig as resnet\n",
    "import utils.gmm_helpers as gmm_helpers\n",
    "\n",
    "import model_paths"
   ]
  },
  {
   "cell_type": "code",
   "execution_count": 37,
   "metadata": {},
   "outputs": [],
   "source": [
    "def aggregate_adv_stats(gmm, device, shape, classes=10, \n",
    "                        batches=10, batch_size=100, lam=1.):\n",
    "    \n",
    "    pca = models.MyPCA(gmm.metric.comp_vecs.t(), gmm.metric.singular_values, shape)\n",
    "    \n",
    "    f = 1.1\n",
    "    b = lam * (f-1.) / (classes-f)\n",
    "\n",
    "    bounds = []\n",
    "    seeds = []\n",
    "\n",
    "    for i in range(batches):\n",
    "        print(i)\n",
    "        seed = torch.rand((batch_size,) + tuple(shape), device=device)\n",
    "        batch_bounds = []\n",
    "        batch_samples = []\n",
    "\n",
    "        for x in seed:\n",
    "            batch_bounds.append( scipy.optimize.brentq(get_b, \n",
    "                                                       0, 10000., args = (x, gmm, b)) )\n",
    "        batch_bounds = torch.tensor(batch_bounds, device=device)\n",
    "        bounds.append(batch_bounds.clone().cpu())\n",
    "    \n",
    "    #seeds = torch.stack(seeds, 0)\n",
    "    bounds = torch.cat(bounds, 0)\n",
    "    \n",
    "    return bounds"
   ]
  },
  {
   "cell_type": "code",
   "execution_count": 5,
   "metadata": {},
   "outputs": [],
   "source": [
    "train_loader = dl.CIFAR10(train=True)\n",
    "shape = next(iter(train_loader))[0][0].shape"
   ]
  },
  {
   "cell_type": "code",
   "execution_count": 6,
   "metadata": {},
   "outputs": [
    {
     "data": {
      "text/plain": [
       "torch.Size([3, 32, 32])"
      ]
     },
     "execution_count": 6,
     "metadata": {},
     "output_type": "execute_result"
    }
   ],
   "source": [
    "shape"
   ]
  },
  {
   "cell_type": "code",
   "execution_count": 33,
   "metadata": {},
   "outputs": [],
   "source": [
    "file = 'SavedModels/gmm__PCACIFAR10_lam0.0_n10_lr0.1_lrgmm1e-05_augm_flagTrue_train_typeCEDA_GMMgrad_vars mu var.pth'\n",
    "model = torch.load(file)"
   ]
  },
  {
   "cell_type": "code",
   "execution_count": 17,
   "metadata": {},
   "outputs": [
    {
     "name": "stdout",
     "output_type": "stream",
     "text": [
      "0\n",
      "1\n",
      "2\n",
      "3\n",
      "4\n"
     ]
    }
   ],
   "source": [
    "bounds = aggregate_adv_stats(model.mm, 'cpu', shape, batch_size=10, batches=5)"
   ]
  },
  {
   "cell_type": "code",
   "execution_count": 44,
   "metadata": {},
   "outputs": [],
   "source": [
    "def get_b(r, x, gmm, b=1.):\n",
    "    x = x.view(-1)\n",
    "    \n",
    "    d = gmm.metric(gmm.mu[None,:,:], x.view(-1)[None, None,:]).squeeze(0)\n",
    "\n",
    "    var = gmm.logvar.exp()\n",
    "    norm_const = .5*gmm.D*gmm.logvar + gmm.norm_const\n",
    "\n",
    "    exponent = torch.stack([(d - r), torch.zeros_like(var)], 0).max(0)[0]\n",
    "    \n",
    "    exponent = exponent**2 / (2*var)\n",
    "    \n",
    "    bound = torch.logsumexp(gmm.alpha - norm_const - exponent, 0).detach().cpu().item() - np.log(b)\n",
    "    return bound"
   ]
  },
  {
   "cell_type": "code",
   "execution_count": 45,
   "metadata": {},
   "outputs": [
    {
     "name": "stdout",
     "output_type": "stream",
     "text": [
      "0\n",
      "1\n",
      "2\n",
      "3\n",
      "4\n",
      "tensor(-7.0800, grad_fn=<MaxBackward1>)\n",
      "tensor(-11.6820, grad_fn=<MeanBackward0>)\n"
     ]
    },
    {
     "data": {
      "image/png": "[encoded data removed]",
      "text/plain": [
       "<Figure size 432x288 with 1 Axes>"
      ]
     },
     "metadata": {},
     "output_type": "display_data"
    }
   ],
   "source": [
    "file = 'SavedModels/gmm__PCACIFAR10_lam0.0_n100_lr0.1_lrgmm1e-05_augm_flagTrue_train_typeCEDA_GMMgrad_vars mu var.pth'\n",
    "model = torch.load(file)\n",
    "bounds = aggregate_adv_stats(model.mm, 'cpu', shape, batch_size=30, batches=5)\n",
    "print(model.mm.logvar.max())\n",
    "print(model.mm.logvar.mean())\n",
    "plt.hist(bounds)\n",
    "plt.show()"
   ]
  },
  {
   "cell_type": "code",
   "execution_count": 47,
   "metadata": {},
   "outputs": [
    {
     "name": "stdout",
     "output_type": "stream",
     "text": [
      "0\n",
      "1\n",
      "2\n",
      "3\n",
      "4\n",
      "tensor(-7.3891, grad_fn=<MaxBackward1>)\n",
      "tensor(-8.8201, grad_fn=<MeanBackward0>)\n"
     ]
    },
    {
     "data": {
      "image/png": "[encoded data removed]",
      "text/plain": [
       "<Figure size 432x288 with 1 Axes>"
      ]
     },
     "metadata": {},
     "output_type": "display_data"
    }
   ],
   "source": [
    "file = 'SavedModels/gmm__PCACIFAR10_lam0.0_n10_lr0.1_lrgmm1e-05_augm_flagTrue_train_typeCEDA_GMMgrad_vars mu var.pth'\n",
    "model = torch.load(file)\n",
    "bounds = aggregate_adv_stats(model.mm, 'cpu', shape, batch_size=30, batches=5)\n",
    "print(model.mm.logvar.max())\n",
    "print(model.mm.logvar.mean())\n",
    "plt.hist(bounds)\n",
    "plt.show()"
   ]
  },
  {
   "cell_type": "code",
   "execution_count": 46,
   "metadata": {},
   "outputs": [
    {
     "name": "stdout",
     "output_type": "stream",
     "text": [
      "0\n",
      "1\n",
      "2\n",
      "3\n",
      "4\n",
      "tensor(-7.9914, grad_fn=<MaxBackward1>)\n",
      "tensor(-7.9914, grad_fn=<MeanBackward0>)\n"
     ]
    },
    {
     "data": {
      "image/png": "[encoded data removed]",
      "text/plain": [
       "<Figure size 432x288 with 1 Axes>"
      ]
     },
     "metadata": {},
     "output_type": "display_data"
    }
   ],
   "source": [
    "file = 'SavedModels/gmm__PCACIFAR10_lam0.0_n1_lr0.1_lrgmm1e-05_augm_flagTrue_train_typeCEDA_GMMgrad_vars mu var.pth'\n",
    "model = torch.load(file)\n",
    "bounds = aggregate_adv_stats(model.mm, 'cpu', shape, batch_size=30, batches=5)\n",
    "print(model.mm.logvar.max())\n",
    "print(model.mm.logvar.mean())\n",
    "plt.hist(bounds)\n",
    "plt.show()"
   ]
  },
  {
   "cell_type": "code",
   "execution_count": 49,
   "metadata": {},
   "outputs": [
    {
     "data": {
      "text/plain": [
       "(array([1., 0., 0., 0., 0., 0., 0., 2., 4., 3.]),\n",
       " array([-13.82928371, -13.18526645, -12.54124918, -11.89723191,\n",
       "        -11.25321465, -10.60919738,  -9.96518011,  -9.32116284,\n",
       "         -8.67714558,  -8.03312831,  -7.38911104]),\n",
       " <a list of 10 Patch objects>)"
      ]
     },
     "execution_count": 49,
     "metadata": {},
     "output_type": "execute_result"
    },
    {
     "data": {
      "image/png": "[encoded data removed]",
      "text/plain": [
       "<Figure size 432x288 with 1 Axes>"
      ]
     },
     "metadata": {},
     "output_type": "display_data"
    }
   ],
   "source": [
    "plt.hist(model.mm.logvar.detach().numpy())"
   ]
  },
  {
   "cell_type": "code",
   "execution_count": 50,
   "metadata": {},
   "outputs": [
    {
     "name": "stdout",
     "output_type": "stream",
     "text": [
      "tensor(-6.9701, grad_fn=<MaxBackward1>)\n",
      "tensor(-13.0141, grad_fn=<MeanBackward0>)\n"
     ]
    }
   ],
   "source": [
    "file = 'SavedModels/gmm__PCACIFAR10_lam0.0_n1000_lr0.1_lrgmm1e-05_augm_flagTrue_train_typeCEDA_GMMgrad_vars mu var.pth'\n",
    "model = torch.load(file)\n",
    "#bounds = aggregate_adv_stats(model.mm, 'cpu', shape, batch_size=30, batches=5)\n",
    "print(model.mm.logvar.max())\n",
    "print(model.mm.logvar.mean())\n",
    "#plt.hist(bounds)\n",
    "#plt.show()"
   ]
  },
  {
   "cell_type": "code",
   "execution_count": 52,
   "metadata": {},
   "outputs": [
    {
     "name": "stdout",
     "output_type": "stream",
     "text": [
      "-7.407967567443848\n",
      "-8.81313705444336\n"
     ]
    }
   ],
   "source": [
    "gmm = torch.load('SavedModels/GMM/gmm_CIFAR10_n10_data_used50000_augm_flagTrue_PCA.pth')\n",
    "\n",
    "print(gmm.logvar.max().item())\n",
    "print(gmm.logvar.mean().item())"
   ]
  },
  {
   "cell_type": "code",
   "execution_count": 62,
   "metadata": {
    "scrolled": true
   },
   "outputs": [
    {
     "name": "stdout",
     "output_type": "stream",
     "text": [
      "-8.000917434692383\n",
      "-8.000917434692383\n",
      "\n",
      "-8.293191909790039\n",
      "-8.293191909790039\n",
      "\n",
      "-8.359620094299316\n",
      "-10.371013641357422\n",
      "\n",
      "-8.27615737915039\n",
      "-10.942740440368652\n",
      "\n"
     ]
    }
   ],
   "source": [
    "files = (\n",
    "        'SavedModels/GMM/gmm_CIFAR10_n1_data_used50000_augm_flagTrue_PCA.pth',\n",
    "        'SavedModels/GMM/gmm_CIFAR10_n5_data_used50000_augm_flagTrue_PCA.pth',\n",
    "        'SavedModels/GMM/gmm_CIFAR10_n10_data_used50000_augm_flagTrue_PCA.pth',\n",
    "        'SavedModels/GMM/gmm_CIFAR10_n20_data_used50000_augm_flagTrue_PCA.pth')\n",
    "\n",
    "for file in files:\n",
    "    gmm = torch.load(file)\n",
    "\n",
    "    print(gmm.logvar.max().item())\n",
    "    print(gmm.logvar.mean().item())\n",
    "    print('')"
   ]
  },
  {
   "cell_type": "code",
   "execution_count": 63,
   "metadata": {},
   "outputs": [],
   "source": [
    "file = 'Checkpoints/gmm__PCACIFAR10_lam0.0_n5_lr0.1_lrgmm1e-05_augm_flagTrue_train_typeCEDA_GMMgrad_vars mu var.pth'\n",
    "model = torch.load(file)"
   ]
  },
  {
   "cell_type": "code",
   "execution_count": 64,
   "metadata": {},
   "outputs": [
    {
     "data": {
      "text/plain": [
       "Parameter containing:\n",
       "tensor([-8.2932, -8.8595, -8.1164, -8.2797, -7.5388], device='cuda:6',\n",
       "       requires_grad=True)"
      ]
     },
     "execution_count": 64,
     "metadata": {},
     "output_type": "execute_result"
    }
   ],
   "source": [
    "model.mm.logvar"
   ]
  },
  {
   "cell_type": "code",
   "execution_count": null,
   "metadata": {},
   "outputs": [],
   "source": [
    "file = 'Checkpoints/gmm__PCACIFAR10_lam0.0_n5_lr0.1_lrgmm1e-06_augm_flagTrue_train_typeCEDA_GMMgrad_vars mu var.pth'\n",
    "model = torch.load(file)"
   ]
  }
 ],
 "metadata": {
  "kernelspec": {
   "display_name": "Python 3",
   "language": "python",
   "name": "python3"
  },
  "language_info": {
   "codemirror_mode": {
    "name": "ipython",
    "version": 3
   },
   "file_extension": ".py",
   "mimetype": "text/x-python",
   "name": "python",
   "nbconvert_exporter": "python",
   "pygments_lexer": "ipython3",
   "version": "3.5.2"
  }
 },
 "nbformat": 4,
 "nbformat_minor": 2
}
