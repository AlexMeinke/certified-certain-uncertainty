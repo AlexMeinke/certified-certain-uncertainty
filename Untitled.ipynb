{
 "cells": [
  {
   "cell_type": "code",
   "execution_count": 1,
   "metadata": {},
   "outputs": [],
   "source": [
    "import torch\n",
    "import torch.nn as nn\n",
    "import torch.nn.functional as F\n",
    "import torch.optim as optim\n",
    "\n",
    "import matplotlib.pyplot as plt\n",
    "import numpy as np\n",
    "import pandas as pd\n",
    "\n",
    "from importlib import reload\n",
    "import matplotlib.pyplot as plt\n",
    "\n",
    "import utils.models as models\n",
    "import utils.plotting as plotting\n",
    "import utils.dataloaders as dl\n",
    "import utils.traintest as tt\n",
    "import utils.adversarial as adv\n",
    "import utils.eval as ev\n",
    "import model_params as params\n",
    "import utils.resnet_orig as resnet\n",
    "import utils.gmm_helpers as gmm_helpers\n",
    "\n",
    "from tensorboardX import SummaryWriter\n",
    "%load_ext line_profiler"
   ]
  },
  {
   "cell_type": "code",
   "execution_count": 53,
   "metadata": {},
   "outputs": [],
   "source": [
    "model_params = params.params_dict['MNIST'](augm_flag=True, batch_size=128)\n",
    "base_model = model_params.base_model\n",
    "\n",
    "X = []\n",
    "for i, (x, _) in enumerate(model_params.train_loader):\n",
    "    if i>100:\n",
    "        break;\n",
    "    X.append( x.view(-1, 784) )\n",
    "X = torch.cat(X, 0)\n",
    "metric = models.PCAMetric( X, p=2, min_sv_factor=10000)\n",
    "\n",
    "device = torch.device('cuda:0')"
   ]
  },
  {
   "cell_type": "code",
   "execution_count": 137,
   "metadata": {},
   "outputs": [
    {
     "data": {
      "text/plain": [
       "GMM(\n",
       "  (metric): PCAMetric()\n",
       ")"
      ]
     },
     "execution_count": 137,
     "metadata": {},
     "output_type": "execute_result"
    }
   ],
   "source": [
    "# base_model = torch.load('SavedModels/base_MNIST_lr0.001_augm_flagTrue_train_typeACET.pth')\n",
    "# gmm = torch.load('SavedModels/GMM/gmm_MNIST_n1000_data_used60000_augm_flagTrue_alg_scikit.pth')\n",
    "# gmm = models.GMM(100, 784, metric=metric)\n",
    "\n",
    "gmm1 = models.GMM(100, 784, metric=metric)\n",
    "gmm1.find_solution(X, initialize=True, iterate=False, use_kmeans=False, verbose=False)\n",
    "\n",
    "gmm1.mu.data = mu\n",
    "gmm1.logvar.data -= 11.\n",
    "gmm1.alpha.data = (torch.ones_like(gmm1.alpha) / gmm1.K).log()\n",
    "gmm1.to(device)"
   ]
  },
  {
   "cell_type": "code",
   "execution_count": 55,
   "metadata": {},
   "outputs": [],
   "source": [
    "def test(model, device, test_loader):\n",
    "    model.eval()\n",
    "    test_loss = 0\n",
    "    with torch.no_grad():\n",
    "        for data, target in test_loader:\n",
    "            data, target = data.to(device), target.to(device)\n",
    "            \n",
    "            data = data.view(data.shape[0], -1)\n",
    "            \n",
    "            test_loss += -torch.logsumexp( model(data), 0 ).mean() # sum up batch loss\n",
    "            \n",
    "    test_loss /= len(test_loader.dataset)\n",
    "    \n",
    "    return test_loss\n",
    "\n",
    "def test_ran(model, device, test_loader):\n",
    "    model.eval()\n",
    "    test_loss = 0\n",
    "    with torch.no_grad():\n",
    "        for data, target in test_loader:            \n",
    "            data = torch.rand(data.shape[0], 784, device=device)\n",
    "            \n",
    "            test_loss += torch.logsumexp( model(data), 0 ).mean() # sum up batch loss\n",
    "            \n",
    "    test_loss /= len(test_loader.dataset)\n",
    "    \n",
    "    return test_loss"
   ]
  },
  {
   "cell_type": "code",
   "execution_count": 61,
   "metadata": {},
   "outputs": [],
   "source": [
    "def train(model, device, train_loader, noise_loader, optimizer):\n",
    "    model.train()\n",
    "    \n",
    "    train_loss = 0\n",
    "    \n",
    "    for batch_idx, (data, target) in enumerate(train_loader):\n",
    "        data, target = data.to(device), target.to(device)\n",
    "        data = data.view(data.shape[0], -1)\n",
    "\n",
    "        optimizer.zero_grad()\n",
    "        a = torch.logsumexp( model(data), 0 ).mean()\n",
    "        b = torch.logsumexp( model(torch.rand(data.shape[0], 784, device=device)), 0 ).mean()\n",
    "\n",
    "        loss = b - a\n",
    "        loss.backward()\n",
    "\n",
    "        optimizer.step()\n",
    "        \n",
    "        train_loss += loss.item()\n",
    "        \n",
    "    return train_loss/len(train_loader.dataset)"
   ]
  },
  {
   "cell_type": "code",
   "execution_count": 221,
   "metadata": {},
   "outputs": [
    {
     "name": "stdout",
     "output_type": "stream",
     "text": [
      "tensor(395.0552, device='cuda:0')\n",
      "tensor(-1291.6379, device='cuda:0')\n"
     ]
    }
   ],
   "source": [
    "print( test(gmm, device, model_params.test_loader) )\n",
    "print( test_ran(gmm, device, model_params.test_loader) )"
   ]
  },
  {
   "cell_type": "code",
   "execution_count": 139,
   "metadata": {
    "scrolled": false
   },
   "outputs": [
    {
     "data": {
      "image/png": "[encoded data removed]",
      "text/plain": [
       "<Figure size 432x288 with 1 Axes>"
      ]
     },
     "metadata": {},
     "output_type": "display_data"
    },
    {
     "name": "stdout",
     "output_type": "stream",
     "text": [
      "0.0005851052701473236\n",
      "0.03198349103331566\n",
      "-21.68350497639974\n"
     ]
    },
    {
     "data": {
      "image/png": "[encoded data removed]",
      "text/plain": [
       "<Figure size 432x288 with 1 Axes>"
      ]
     },
     "metadata": {},
     "output_type": "display_data"
    },
    {
     "name": "stdout",
     "output_type": "stream",
     "text": [
      "0.0005885772407054901\n",
      "0.031761303544044495\n",
      "-21.562518693033855\n"
     ]
    },
    {
     "data": {
      "image/png": "[encoded data removed]",
      "text/plain": [
       "<Figure size 432x288 with 1 Axes>"
      ]
     },
     "metadata": {},
     "output_type": "display_data"
    },
    {
     "name": "stdout",
     "output_type": "stream",
     "text": [
      "0.0005860619712620974\n",
      "0.031546007841825485\n",
      "-21.607464335123698\n"
     ]
    },
    {
     "data": {
      "image/png": "[encoded data removed]",
      "text/plain": [
       "<Figure size 432x288 with 1 Axes>"
      ]
     },
     "metadata": {},
     "output_type": "display_data"
    },
    {
     "name": "stdout",
     "output_type": "stream",
     "text": [
      "0.0005820705555379391\n",
      "0.03132471814751625\n",
      "-21.537686547851564\n"
     ]
    },
    {
     "data": {
      "image/png": "[encoded data removed]",
      "text/plain": [
       "<Figure size 432x288 with 1 Axes>"
      ]
     },
     "metadata": {},
     "output_type": "display_data"
    },
    {
     "name": "stdout",
     "output_type": "stream",
     "text": [
      "0.0005669521633535624\n",
      "0.03112439624965191\n",
      "-21.553103946940105\n"
     ]
    },
    {
     "data": {
      "image/png": "[encoded data removed]",
      "text/plain": [
       "<Figure size 432x288 with 1 Axes>"
      ]
     },
     "metadata": {},
     "output_type": "display_data"
    }
   ],
   "source": [
    "lr_gmm = .000001\n",
    "\n",
    "model = gmm1\n",
    "\n",
    "param_groups = [{'params':model.mu,'lr':lr_gmm, 'weight_decay':0.},\n",
    "                {'params':model.logvar,'lr':lr_gmm, 'weight_decay':0.}]\n",
    "optimizer = optim.SGD(param_groups,  momentum=.9)\n",
    "\n",
    "plt.hist(model.logvar.exp().sqrt().detach().cpu())\n",
    "plt.show()\n",
    "\n",
    "for epoch in range(5):\n",
    "    trainloss = train(model, device, model_params.cali_loader, \n",
    "                      model_params.loaders[-1][1], optimizer)\n",
    "    print(model.mu.mean().item())\n",
    "    print(model.logvar.exp().sqrt().mean().item())\n",
    "    print(trainloss)\n",
    "    plt.hist(model.logvar.exp().sqrt().detach().cpu())\n",
    "    plt.show()"
   ]
  },
  {
   "cell_type": "code",
   "execution_count": 174,
   "metadata": {},
   "outputs": [
    {
     "data": {
      "text/plain": [
       "<matplotlib.image.AxesImage at 0x7ff0877fe0b8>"
      ]
     },
     "execution_count": 174,
     "metadata": {},
     "output_type": "execute_result"
    },
    {
     "data": {
      "image/png": "[encoded data removed]",
      "text/plain": [
       "<Figure size 432x288 with 1 Axes>"
      ]
     },
     "metadata": {},
     "output_type": "display_data"
    }
   ],
   "source": [
    "plt.imshow(gmm2.mu[5].view(28,28).detach().cpu())"
   ]
  },
  {
   "cell_type": "code",
   "execution_count": 193,
   "metadata": {},
   "outputs": [
    {
     "data": {
      "text/plain": [
       "tensor(-359.7589, device='cuda:0', grad_fn=<MeanBackward1>)"
      ]
     },
     "execution_count": 193,
     "metadata": {},
     "output_type": "execute_result"
    }
   ],
   "source": [
    "data = .8*torch.rand(20, 784, device=device)\n",
    "            \n",
    "torch.logsumexp( gmm2(data), 0 ).mean()"
   ]
  },
  {
   "cell_type": "code",
   "execution_count": 194,
   "metadata": {},
   "outputs": [
    {
     "data": {
      "text/plain": [
       "tensor([ 960.9495, 1032.0103, 1098.9697,  924.9379,  857.8032,  953.6565,\n",
       "         836.3088,  838.1132,  961.3217, 1048.5995,  878.0829,  883.7235,\n",
       "         878.9565,  744.0314, 1016.6716,  868.0276,  973.5457, 1078.5197,\n",
       "         929.0566,  923.7964,  699.5139,  827.8627,  669.9435, 1049.8517,\n",
       "         718.0350,  737.6536,  665.1252, 1248.5212,  718.1786, 1003.0425,\n",
       "        1263.1719, 1405.0496,  881.7969,  913.2502,  778.9000,  518.5793,\n",
       "         968.4261,  729.6293,  747.2715,  843.4413,  664.2833,  881.6548,\n",
       "         717.4409,  996.4236,  862.4084, 1391.4962,  797.5496, 1144.6910,\n",
       "         819.0654,  978.8392, 1082.2660,  813.4560,  877.3666, 1013.2648,\n",
       "         956.7130, 1480.7516,  874.9919,  823.6329, 1105.3652,  975.5497,\n",
       "         880.1104,  643.2594,  803.2730,  924.8546, 1226.1763,  990.0649,\n",
       "         848.9073,  777.4175,  963.5471,  502.7398,  947.8955,  998.2169,\n",
       "         822.6517, 1044.0814, 1159.2563,  923.3263, 1270.9751,  786.9991,\n",
       "        1552.4655, 1024.0283,  711.7766,  830.3975,  971.4736,  811.6876,\n",
       "         849.4587,  953.0483,  877.1899,  852.4096,  838.3495,  668.6740,\n",
       "         897.0392,  852.8373,  693.3630,  753.4651,  654.1502,  809.7570,\n",
       "         725.0776,  856.0126,  774.3539, 1071.7312,  726.5392,  768.1504,\n",
       "         939.7208,  798.7238, 1078.7395,  839.3177,  848.6287,  969.0894,\n",
       "        1304.5414,  766.7960, 1090.1095,  965.2498, 1083.7190,  838.8053,\n",
       "         955.1436,  829.4424,  931.2115,  848.6204, 1079.0991, 1119.8899,\n",
       "         832.7388, 1042.0518, 1430.0977,  611.9528,  951.2979,  655.4897,\n",
       "         815.7651, 1404.7653], device='cuda:0', grad_fn=<LogsumexpBackward>)"
      ]
     },
     "execution_count": 194,
     "metadata": {},
     "output_type": "execute_result"
    }
   ],
   "source": [
    "data = enumerate(model_params.train_loader).__next__()[1][0]\n",
    "data = data.view(data.shape[0], -1).to(device)\n",
    "            \n",
    "torch.logsumexp( gmm2(data), 0 )"
   ]
  },
  {
   "cell_type": "code",
   "execution_count": 2,
   "metadata": {},
   "outputs": [],
   "source": [
    "file = 'gmm_MNIST_lam591.2465985107422_n1000_lr0.0001_augm_flagTrue_train_typeCEDA_GMMgrad_vars mu var.csv'\n",
    "df = pd.read_csv('results/' + file)"
   ]
  },
  {
   "cell_type": "code",
   "execution_count": 3,
   "metadata": {},
   "outputs": [
    {
     "name": "stdout",
     "output_type": "stream",
     "text": [
      "\\begin{tabular}{llrll}\n",
      "\\toprule\n",
      "{} &      DataSet &       MMC &               AUROC &                 FPR@95 \\\\\n",
      "\\midrule\n",
      "0 &         orig &  0.986639 &                   - &                      - \\\\\n",
      "1 &       FMNIST &  0.317012 &  0.9910384449999999 &    0.04360000044107437 \\\\\n",
      "2 &       EMNIST &  0.574584 &         0.907486975 &     0.3197999894618988 \\\\\n",
      "3 &  GrayCIFAR10 &  0.136328 &  0.9965840750000001 &  0.0011999999405816197 \\\\\n",
      "4 &        Noise &  0.137099 &  0.9928988906249999 &                    0.0 \\\\\n",
      "\\bottomrule\n",
      "\\end{tabular}\n",
      "\n"
     ]
    }
   ],
   "source": [
    "print(df.to_latex())"
   ]
  },
  {
   "cell_type": "code",
   "execution_count": 10,
   "metadata": {},
   "outputs": [
    {
     "name": "stderr",
     "output_type": "stream",
     "text": [
      "/usr/local/lib/python3.5/dist-packages/torch/serialization.py:435: SourceChangeWarning: source code of class 'utils.models.GMM' has changed. you can retrieve the original source code by accessing the object's source attribute or set `torch.nn.Module.dump_patches = True` and use the patch tool to revert the changes.\n",
      "  warnings.warn(msg, SourceChangeWarning)\n"
     ]
    }
   ],
   "source": [
    "file = 'base_model_MNIST.pth'\n",
    "base_model = torch.load('SavedModels/' + file).to('cuda')\n",
    "\n",
    "file = 'gmm_MNIST_n1000_data_used60000_augm_flagTrue_alg_scikit.pth'\n",
    "gmm = torch.load('SavedModels/GMM/' + file).to('cuda')\n",
    "lam = 591.2465985107422\n",
    "\n",
    "model = models.RobustModel(base_model, gmm, lam, dim=784).to('cuda')\n",
    "model.loglam.requires_grad = False"
   ]
  },
  {
   "cell_type": "code",
   "execution_count": 11,
   "metadata": {},
   "outputs": [
    {
     "data": {
      "text/plain": [
       "(0.9848, 0.9815024124145508, 0.04458287353515625)"
      ]
     },
     "execution_count": 11,
     "metadata": {},
     "output_type": "execute_result"
    }
   ],
   "source": [
    "tt.test(model, 'cuda', dl.MNIST(train=False, augm_flag=False))"
   ]
  },
  {
   "cell_type": "code",
   "execution_count": 50,
   "metadata": {},
   "outputs": [],
   "source": [
    "data = enumerate(model_params.train_loader).__next__()[1][0]\n",
    "data = data.view(data.shape[0], -1).to(device)\n",
    "\n",
    "noise = enumerate(model_params.loaders[-1][1]).__next__()[1][0]\n",
    "ran = torch.rand(128, 1, 28, 28)"
   ]
  },
  {
   "cell_type": "code",
   "execution_count": 49,
   "metadata": {},
   "outputs": [
    {
     "name": "stdout",
     "output_type": "stream",
     "text": [
      "tensor([ 0.2668,  0.2459,  0.2116,  0.1344,  0.2187,  0.2709,  0.1748,  0.2720,\n",
      "         0.2474,  0.2552,  0.1950,  0.1557,  0.2007,  0.1738,  0.1296,  0.3253,\n",
      "         0.1624,  0.1946,  0.1336,  0.3491,  0.1758,  0.0984,  0.3288,  0.2453,\n",
      "         0.2352,  0.2059,  0.1400,  0.2430,  0.1692,  0.2352,  0.3687,  0.1930,\n",
      "         0.2182,  0.2315,  0.1095,  0.1164,  0.1407,  0.1127,  0.2941,  0.2420,\n",
      "         0.1937,  0.1480,  0.1611,  0.1367,  0.2286,  0.1945,  0.1858,  0.2122,\n",
      "         0.1962,  0.2563,  0.1166,  0.1549,  0.1937,  0.2747,  0.3451,  0.1994,\n",
      "         0.1645,  0.2192,  0.1938,  0.2903,  0.2226,  0.2885,  0.1563,  0.1469,\n",
      "         0.4477,  0.2114,  0.1090,  0.1986,  0.1754,  0.0961,  0.2657,  0.1526,\n",
      "         0.2464,  0.1473,  0.1591,  0.2405,  0.1293,  0.1669,  0.1801,  0.1287,\n",
      "         0.1672,  0.2819,  0.1480,  0.3972,  0.2360,  0.2505,  0.2253,  0.1644,\n",
      "         0.2903,  0.1601,  0.2174,  0.1393,  0.2285,  0.1727,  0.1769,  0.3375,\n",
      "         0.1272,  0.1998,  0.2434,  0.1473,  0.1628,  0.1049,  0.4726,  0.1706,\n",
      "         0.1692,  0.2118,  0.1788,  0.2540,  0.1981,  0.2733,  0.2056,  0.1791,\n",
      "         0.1739,  0.1830,  0.2012,  0.1978,  0.2944,  0.2281,  0.2087,  0.4906,\n",
      "         0.1723, 22.7892,  0.2340,  0.1944,  0.2325,  0.1977,  0.2778,  0.2550],\n",
      "       grad_fn=<MinBackward0>)\n",
      "tensor([0.2643, 0.2446, 0.2103, 0.1340, 0.2176, 0.2687, 0.1736, 0.2692, 0.2452,\n",
      "        0.2537, 0.1893, 0.1551, 0.1999, 0.1732, 0.1292, 0.3169, 0.1619, 0.1938,\n",
      "        0.1330, 0.3314, 0.1751, 0.0982, 0.3100, 0.2431, 0.2338, 0.2045, 0.1396,\n",
      "        0.2403, 0.1686, 0.2338, 0.3373, 0.1887, 0.2169, 0.2305, 0.1092, 0.1161,\n",
      "        0.1403, 0.1124, 0.2885, 0.2408, 0.1928, 0.1473, 0.1605, 0.1365, 0.2252,\n",
      "        0.1925, 0.1832, 0.2115, 0.1926, 0.2509, 0.1162, 0.1540, 0.1908, 0.2623,\n",
      "        0.3003, 0.1939, 0.1639, 0.2179, 0.1931, 0.2814, 0.2201, 0.2832, 0.1558,\n",
      "        0.1465, 0.3831, 0.2081, 0.1087, 0.1974, 0.1711, 0.0959, 0.2638, 0.1513,\n",
      "        0.2415, 0.1470, 0.1585, 0.2389, 0.1257, 0.1662, 0.1793, 0.1281, 0.1620,\n",
      "        0.2517, 0.1476, 0.3737, 0.2303, 0.2491, 0.2232, 0.1640, 0.2868, 0.1595,\n",
      "        0.2162, 0.1389, 0.2267, 0.1714, 0.1761, 0.2870, 0.1268, 0.1991, 0.2422,\n",
      "        0.1470, 0.1612, 0.1047, 0.4142, 0.1700, 0.1687, 0.2104, 0.1782, 0.2517,\n",
      "        0.1973, 0.2667, 0.2044, 0.1783, 0.1733, 0.1818, 0.2000, 0.1970, 0.2895,\n",
      "        0.2271, 0.2065, 0.3771, 0.1716, 0.6968, 0.2328, 0.1924, 0.2309, 0.1967,\n",
      "        0.2767, 0.2519], grad_fn=<MinBackward0>)\n"
     ]
    }
   ],
   "source": [
    "for metric in [metric1, metric2]:\n",
    "    print(metric(data.view(data.cpu().shape[0], -1)[None,:,:].cpu(), \n",
    "                 gmm.mu[:,None,:].cpu()).cpu().min(0)[0])"
   ]
  },
  {
   "cell_type": "code",
   "execution_count": 70,
   "metadata": {},
   "outputs": [
    {
     "name": "stdout",
     "output_type": "stream",
     "text": [
      "tensor([7.1361e-02, 1.2644e+00, 7.5461e-01, 3.1788e-02, 3.5326e+00, 1.4136e+01,\n",
      "        2.3166e-01, 6.5709e-01, 3.5275e-01, 2.7397e+00, 4.9708e-02, 1.0681e+01,\n",
      "        3.2592e-02, 1.7204e-01, 3.1083e-01, 3.8447e-01, 1.4002e+00, 1.4253e+01,\n",
      "        2.8785e-01, 4.9836e-01, 3.9209e+00, 1.7640e+01, 1.3399e-01, 1.0510e+01,\n",
      "        3.5608e+01, 7.2533e-01, 2.0249e+01, 1.7078e+00, 1.7382e+01, 9.1902e+00,\n",
      "        2.9938e+01, 7.2313e-01, 3.1234e-02, 2.0835e+01, 4.8173e+00, 1.0025e-01,\n",
      "        1.5777e+01, 3.2284e-02, 4.7512e-01, 4.9488e+00, 1.9308e-01, 1.7390e+01,\n",
      "        1.3527e+00, 7.7111e+00, 1.7289e+01, 3.5219e+00, 3.8600e-02, 1.4121e+01,\n",
      "        4.7587e+00, 3.1679e-02, 1.2987e+00, 1.1834e+00, 8.0551e+00, 3.3412e-02,\n",
      "        1.5600e-01, 3.8211e-02, 2.3101e+01, 4.1387e-01, 1.4441e-01, 9.5038e+00,\n",
      "        1.8127e+00, 9.7940e-02, 7.9745e-02, 1.1723e-01, 3.4904e+00, 1.0510e-01,\n",
      "        3.3933e-02, 1.4584e-01, 1.7259e-01, 5.9908e+00, 3.4074e+01, 3.4783e+00,\n",
      "        2.3025e+01, 3.2798e-02, 1.0698e-01, 1.2675e+00, 2.3617e-01, 9.3819e-01,\n",
      "        6.3371e-01, 5.2617e-01, 9.6958e+00, 2.1712e+00, 1.4492e+01, 3.9546e-01,\n",
      "        6.4317e-02, 2.7612e+01, 1.8907e+00, 3.2111e-02, 3.1481e-02, 3.4516e+01,\n",
      "        6.4910e+00, 3.8179e+01, 5.0251e+00, 9.8225e+00, 1.3601e+01, 3.1187e-02,\n",
      "        2.4222e+01, 5.3007e-02, 8.3401e-02, 3.1481e-02, 3.3658e+01, 2.0539e+01,\n",
      "        4.0763e-02, 1.0206e+01, 1.0784e+01, 4.1216e+00, 6.1793e+00, 1.3888e+00,\n",
      "        4.7254e-01, 1.6700e+01, 1.6992e+01, 3.3987e+00, 1.0576e+00, 1.7455e-01,\n",
      "        1.6939e+01, 3.5292e-01, 6.3136e-01, 5.4353e+00, 3.8464e-02, 4.5484e+00,\n",
      "        1.0955e-01, 3.0023e+00, 2.1709e+01, 3.3008e-02, 1.2462e+00, 3.2313e-02,\n",
      "        3.5609e+00, 3.1412e-01], grad_fn=<MinBackward0>)\n"
     ]
    }
   ],
   "source": [
    "M1 = metric.cpu()(noise.view(noise.cpu().shape[0], -1)[None,:,:].cpu(), \n",
    "             gmm.mu[:,None,:].cpu()).cpu().min(0)[0]\n",
    "print(M1)"
   ]
  },
  {
   "cell_type": "code",
   "execution_count": 45,
   "metadata": {},
   "outputs": [],
   "source": [
    "metric1 = models.PCAMetric( X, p=2, min_sv_factor=10000)\n",
    "metric2 = models.PCAMetric( X, p=2, min_sv_factor=100.)\n"
   ]
  },
  {
   "cell_type": "code",
   "execution_count": 47,
   "metadata": {},
   "outputs": [
    {
     "data": {
      "text/plain": [
       "Parameter containing:\n",
       "tensor([2.2253e+02, 2.0458e+02, 1.8510e+02, 1.8093e+02, 1.7076e+02, 1.6913e+02,\n",
       "        1.5849e+02, 1.5529e+02, 1.4632e+02, 1.3547e+02, 1.2943e+02, 1.2508e+02,\n",
       "        1.2054e+02, 1.1619e+02, 1.1107e+02, 1.0857e+02, 1.0465e+02, 1.0338e+02,\n",
       "        9.7247e+01, 9.4115e+01, 9.3658e+01, 9.2049e+01, 8.9715e+01, 8.5246e+01,\n",
       "        8.5078e+01, 8.4248e+01, 8.1582e+01, 8.1175e+01, 7.8949e+01, 7.6681e+01,\n",
       "        7.3910e+01, 7.3155e+01, 7.1393e+01, 6.9632e+01, 6.9107e+01, 6.7670e+01,\n",
       "        6.6029e+01, 6.5235e+01, 6.2683e+01, 6.1800e+01, 6.1421e+01, 6.0481e+01,\n",
       "        5.9576e+01, 5.8646e+01, 5.6983e+01, 5.5663e+01, 5.5492e+01, 5.4976e+01,\n",
       "        5.3545e+01, 5.3260e+01, 5.1733e+01, 5.1285e+01, 5.0696e+01, 5.0377e+01,\n",
       "        4.8536e+01, 4.8091e+01, 4.7907e+01, 4.6729e+01, 4.6349e+01, 4.5315e+01,\n",
       "        4.4299e+01, 4.4087e+01, 4.3987e+01, 4.2962e+01, 4.2526e+01, 4.2189e+01,\n",
       "        4.1064e+01, 4.0585e+01, 4.0316e+01, 3.9912e+01, 3.9497e+01, 3.9062e+01,\n",
       "        3.8736e+01, 3.8185e+01, 3.7902e+01, 3.7026e+01, 3.6767e+01, 3.6676e+01,\n",
       "        3.5810e+01, 3.5164e+01, 3.4900e+01, 3.4722e+01, 3.4260e+01, 3.3609e+01,\n",
       "        3.3453e+01, 3.2795e+01, 3.2620e+01, 3.2141e+01, 3.1887e+01, 3.1840e+01,\n",
       "        3.1618e+01, 3.1268e+01, 3.0814e+01, 3.0391e+01, 3.0198e+01, 2.9672e+01,\n",
       "        2.9548e+01, 2.9286e+01, 2.9013e+01, 2.8735e+01, 2.8586e+01, 2.8235e+01,\n",
       "        2.8074e+01, 2.7933e+01, 2.7841e+01, 2.7434e+01, 2.7121e+01, 2.6915e+01,\n",
       "        2.6453e+01, 2.6275e+01, 2.6179e+01, 2.5904e+01, 2.5678e+01, 2.5355e+01,\n",
       "        2.5073e+01, 2.4705e+01, 2.4641e+01, 2.4471e+01, 2.4405e+01, 2.4076e+01,\n",
       "        2.3926e+01, 2.3672e+01, 2.3398e+01, 2.3198e+01, 2.3136e+01, 2.2840e+01,\n",
       "        2.2761e+01, 2.2755e+01, 2.2544e+01, 2.2330e+01, 2.2061e+01, 2.2047e+01,\n",
       "        2.1842e+01, 2.1767e+01, 2.1658e+01, 2.1386e+01, 2.1342e+01, 2.1191e+01,\n",
       "        2.1050e+01, 2.0904e+01, 2.0801e+01, 2.0648e+01, 2.0563e+01, 2.0228e+01,\n",
       "        2.0039e+01, 1.9986e+01, 1.9791e+01, 1.9711e+01, 1.9685e+01, 1.9580e+01,\n",
       "        1.9385e+01, 1.9146e+01, 1.9078e+01, 1.8854e+01, 1.8830e+01, 1.8687e+01,\n",
       "        1.8654e+01, 1.8577e+01, 1.8437e+01, 1.8396e+01, 1.8289e+01, 1.8097e+01,\n",
       "        1.7924e+01, 1.7840e+01, 1.7716e+01, 1.7615e+01, 1.7556e+01, 1.7373e+01,\n",
       "        1.7341e+01, 1.7279e+01, 1.7221e+01, 1.7164e+01, 1.7019e+01, 1.6966e+01,\n",
       "        1.6854e+01, 1.6796e+01, 1.6758e+01, 1.6621e+01, 1.6580e+01, 1.6480e+01,\n",
       "        1.6416e+01, 1.6335e+01, 1.6229e+01, 1.6209e+01, 1.6064e+01, 1.5995e+01,\n",
       "        1.5957e+01, 1.5824e+01, 1.5752e+01, 1.5712e+01, 1.5582e+01, 1.5484e+01,\n",
       "        1.5448e+01, 1.5330e+01, 1.5317e+01, 1.5241e+01, 1.5137e+01, 1.5103e+01,\n",
       "        1.4992e+01, 1.4916e+01, 1.4879e+01, 1.4839e+01, 1.4766e+01, 1.4720e+01,\n",
       "        1.4669e+01, 1.4595e+01, 1.4543e+01, 1.4368e+01, 1.4338e+01, 1.4295e+01,\n",
       "        1.4262e+01, 1.4142e+01, 1.4130e+01, 1.4060e+01, 1.4045e+01, 1.4023e+01,\n",
       "        1.3924e+01, 1.3911e+01, 1.3800e+01, 1.3746e+01, 1.3709e+01, 1.3676e+01,\n",
       "        1.3537e+01, 1.3505e+01, 1.3409e+01, 1.3393e+01, 1.3316e+01, 1.3300e+01,\n",
       "        1.3255e+01, 1.3201e+01, 1.3152e+01, 1.3106e+01, 1.3097e+01, 1.3016e+01,\n",
       "        1.2957e+01, 1.2942e+01, 1.2905e+01, 1.2878e+01, 1.2787e+01, 1.2754e+01,\n",
       "        1.2687e+01, 1.2677e+01, 1.2636e+01, 1.2604e+01, 1.2529e+01, 1.2475e+01,\n",
       "        1.2424e+01, 1.2411e+01, 1.2370e+01, 1.2332e+01, 1.2230e+01, 1.2201e+01,\n",
       "        1.2164e+01, 1.2111e+01, 1.2052e+01, 1.2023e+01, 1.2000e+01, 1.1947e+01,\n",
       "        1.1908e+01, 1.1889e+01, 1.1823e+01, 1.1785e+01, 1.1740e+01, 1.1715e+01,\n",
       "        1.1696e+01, 1.1659e+01, 1.1615e+01, 1.1570e+01, 1.1553e+01, 1.1493e+01,\n",
       "        1.1458e+01, 1.1424e+01, 1.1393e+01, 1.1316e+01, 1.1267e+01, 1.1258e+01,\n",
       "        1.1206e+01, 1.1176e+01, 1.1154e+01, 1.1133e+01, 1.1106e+01, 1.1081e+01,\n",
       "        1.1057e+01, 1.1002e+01, 1.0970e+01, 1.0911e+01, 1.0890e+01, 1.0852e+01,\n",
       "        1.0795e+01, 1.0778e+01, 1.0726e+01, 1.0678e+01, 1.0662e+01, 1.0652e+01,\n",
       "        1.0584e+01, 1.0532e+01, 1.0474e+01, 1.0453e+01, 1.0428e+01, 1.0402e+01,\n",
       "        1.0397e+01, 1.0350e+01, 1.0307e+01, 1.0264e+01, 1.0207e+01, 1.0202e+01,\n",
       "        1.0124e+01, 1.0099e+01, 1.0089e+01, 1.0042e+01, 1.0028e+01, 9.9730e+00,\n",
       "        9.9449e+00, 9.9120e+00, 9.8993e+00, 9.8669e+00, 9.8144e+00, 9.7795e+00,\n",
       "        9.7389e+00, 9.7118e+00, 9.6894e+00, 9.6659e+00, 9.6440e+00, 9.6090e+00,\n",
       "        9.5883e+00, 9.5424e+00, 9.5338e+00, 9.5060e+00, 9.4759e+00, 9.4507e+00,\n",
       "        9.4046e+00, 9.3472e+00, 9.3115e+00, 9.2963e+00, 9.2498e+00, 9.2339e+00,\n",
       "        9.2087e+00, 9.1747e+00, 9.1508e+00, 9.0955e+00, 9.0684e+00, 9.0115e+00,\n",
       "        9.0097e+00, 8.9757e+00, 8.9701e+00, 8.9364e+00, 8.8776e+00, 8.8466e+00,\n",
       "        8.7856e+00, 8.7631e+00, 8.7514e+00, 8.7381e+00, 8.6979e+00, 8.6736e+00,\n",
       "        8.6429e+00, 8.6270e+00, 8.5613e+00, 8.5468e+00, 8.5219e+00, 8.5080e+00,\n",
       "        8.4810e+00, 8.4497e+00, 8.4329e+00, 8.3791e+00, 8.3561e+00, 8.3331e+00,\n",
       "        8.3061e+00, 8.2970e+00, 8.2805e+00, 8.2188e+00, 8.2144e+00, 8.1784e+00,\n",
       "        8.1650e+00, 8.1407e+00, 8.1167e+00, 8.0491e+00, 8.0296e+00, 8.0146e+00,\n",
       "        7.9801e+00, 7.9253e+00, 7.9212e+00, 7.8976e+00, 7.8847e+00, 7.8508e+00,\n",
       "        7.8076e+00, 7.7799e+00, 7.7701e+00, 7.7509e+00, 7.7292e+00, 7.6857e+00,\n",
       "        7.6509e+00, 7.6410e+00, 7.6293e+00, 7.5971e+00, 7.5351e+00, 7.5312e+00,\n",
       "        7.5009e+00, 7.4889e+00, 7.4467e+00, 7.4254e+00, 7.4232e+00, 7.3739e+00,\n",
       "        7.3359e+00, 7.3114e+00, 7.3034e+00, 7.2936e+00, 7.2785e+00, 7.2198e+00,\n",
       "        7.1931e+00, 7.1774e+00, 7.1335e+00, 7.1000e+00, 7.0776e+00, 7.0502e+00,\n",
       "        7.0295e+00, 6.9918e+00, 6.9811e+00, 6.9400e+00, 6.9045e+00, 6.9029e+00,\n",
       "        6.8646e+00, 6.8386e+00, 6.8130e+00, 6.7962e+00, 6.7797e+00, 6.7318e+00,\n",
       "        6.7189e+00, 6.6789e+00, 6.6521e+00, 6.6391e+00, 6.6241e+00, 6.5540e+00,\n",
       "        6.5362e+00, 6.4996e+00, 6.4867e+00, 6.4527e+00, 6.4014e+00, 6.3848e+00,\n",
       "        6.3549e+00, 6.3206e+00, 6.3115e+00, 6.2639e+00, 6.2364e+00, 6.2261e+00,\n",
       "        6.2016e+00, 6.1599e+00, 6.1321e+00, 6.1053e+00, 6.0997e+00, 6.0703e+00,\n",
       "        6.0545e+00, 6.0187e+00, 6.0138e+00, 5.9943e+00, 5.9423e+00, 5.9358e+00,\n",
       "        5.9182e+00, 5.8769e+00, 5.8482e+00, 5.8248e+00, 5.8198e+00, 5.7936e+00,\n",
       "        5.7450e+00, 5.7090e+00, 5.6781e+00, 5.6631e+00, 5.6529e+00, 5.6185e+00,\n",
       "        5.5531e+00, 5.5470e+00, 5.5172e+00, 5.5110e+00, 5.4907e+00, 5.4479e+00,\n",
       "        5.4352e+00, 5.3949e+00, 5.3636e+00, 5.3579e+00, 5.3452e+00, 5.3062e+00,\n",
       "        5.2660e+00, 5.2428e+00, 5.2156e+00, 5.1775e+00, 5.1477e+00, 5.1464e+00,\n",
       "        5.1167e+00, 5.0825e+00, 5.0689e+00, 5.0314e+00, 5.0227e+00, 4.9889e+00,\n",
       "        4.9641e+00, 4.8919e+00, 4.8685e+00, 4.8648e+00, 4.8422e+00, 4.7781e+00,\n",
       "        4.7737e+00, 4.7463e+00, 4.7417e+00, 4.6957e+00, 4.6910e+00, 4.6481e+00,\n",
       "        4.6290e+00, 4.5953e+00, 4.5738e+00, 4.5467e+00, 4.5068e+00, 4.5008e+00,\n",
       "        4.4926e+00, 4.4407e+00, 4.4083e+00, 4.3951e+00, 4.3809e+00, 4.3449e+00,\n",
       "        4.3125e+00, 4.2913e+00, 4.2700e+00, 4.2374e+00, 4.2298e+00, 4.1918e+00,\n",
       "        4.1855e+00, 4.1445e+00, 4.1289e+00, 4.0811e+00, 4.0600e+00, 4.0442e+00,\n",
       "        4.0334e+00, 3.9893e+00, 3.9689e+00, 3.9605e+00, 3.9441e+00, 3.9241e+00,\n",
       "        3.9106e+00, 3.8993e+00, 3.8751e+00, 3.8611e+00, 3.8197e+00, 3.8093e+00,\n",
       "        3.7686e+00, 3.7538e+00, 3.7193e+00, 3.6793e+00, 3.6443e+00, 3.6096e+00,\n",
       "        3.6023e+00, 3.5702e+00, 3.5636e+00, 3.5558e+00, 3.5285e+00, 3.5039e+00,\n",
       "        3.4796e+00, 3.4621e+00, 3.4496e+00, 3.4319e+00, 3.4084e+00, 3.3900e+00,\n",
       "        3.3390e+00, 3.3225e+00, 3.2970e+00, 3.2783e+00, 3.2626e+00, 3.2583e+00,\n",
       "        3.2208e+00, 3.1876e+00, 3.1674e+00, 3.1368e+00, 3.1293e+00, 3.1089e+00,\n",
       "        3.0970e+00, 3.0898e+00, 3.0483e+00, 3.0334e+00, 3.0072e+00, 2.9581e+00,\n",
       "        2.9441e+00, 2.9385e+00, 2.9210e+00, 2.9178e+00, 2.8876e+00, 2.8630e+00,\n",
       "        2.8518e+00, 2.8490e+00, 2.8196e+00, 2.7912e+00, 2.7582e+00, 2.7397e+00,\n",
       "        2.7045e+00, 2.6816e+00, 2.6713e+00, 2.6470e+00, 2.6359e+00, 2.6153e+00,\n",
       "        2.5981e+00, 2.5914e+00, 2.5696e+00, 2.5666e+00, 2.5400e+00, 2.5332e+00,\n",
       "        2.4861e+00, 2.4788e+00, 2.4652e+00, 2.4461e+00, 2.4312e+00, 2.4200e+00,\n",
       "        2.4061e+00, 2.3939e+00, 2.3315e+00, 2.3086e+00, 2.2807e+00, 2.2514e+00,\n",
       "        2.2365e+00, 2.2232e+00, 2.2069e+00, 2.1886e+00, 2.1791e+00, 2.1581e+00,\n",
       "        2.1457e+00, 2.1352e+00, 2.1139e+00, 2.1020e+00, 2.0807e+00, 2.0779e+00,\n",
       "        2.0497e+00, 2.0380e+00, 2.0266e+00, 2.0193e+00, 1.9942e+00, 1.9884e+00,\n",
       "        1.9391e+00, 1.9038e+00, 1.9024e+00, 1.8917e+00, 1.8686e+00, 1.8528e+00,\n",
       "        1.8354e+00, 1.8320e+00, 1.8220e+00, 1.7961e+00, 1.7876e+00, 1.7708e+00,\n",
       "        1.7517e+00, 1.7376e+00, 1.7204e+00, 1.7108e+00, 1.6806e+00, 1.6648e+00,\n",
       "        1.6438e+00, 1.6357e+00, 1.6300e+00, 1.6074e+00, 1.5991e+00, 1.5967e+00,\n",
       "        1.5401e+00, 1.5299e+00, 1.5242e+00, 1.4931e+00, 1.4743e+00, 1.4712e+00,\n",
       "        1.4300e+00, 1.4120e+00, 1.3943e+00, 1.3676e+00, 1.3464e+00, 1.3314e+00,\n",
       "        1.3288e+00, 1.3175e+00, 1.3082e+00, 1.2938e+00, 1.2554e+00, 1.2489e+00,\n",
       "        1.2456e+00, 1.2297e+00, 1.2246e+00, 1.2194e+00, 1.2136e+00, 1.1716e+00,\n",
       "        1.1174e+00, 1.0932e+00, 1.0760e+00, 1.0715e+00, 1.0634e+00, 1.0606e+00,\n",
       "        1.0524e+00, 1.0470e+00, 1.0222e+00, 1.0191e+00, 1.0056e+00, 9.9249e-01,\n",
       "        9.8708e-01, 9.7350e-01, 9.7046e-01, 9.1477e-01, 8.7804e-01, 8.7462e-01,\n",
       "        8.6125e-01, 8.2844e-01, 8.2010e-01, 8.1673e-01, 8.1044e-01, 8.0240e-01,\n",
       "        7.8943e-01, 7.5048e-01, 7.2857e-01, 7.1683e-01, 6.9000e-01, 6.7407e-01,\n",
       "        6.6521e-01, 6.4811e-01, 6.4004e-01, 6.3479e-01, 6.0000e-01, 5.9909e-01,\n",
       "        5.7483e-01, 5.4705e-01, 5.0852e-01, 4.8087e-01, 4.7968e-01, 4.5685e-01,\n",
       "        4.5462e-01, 4.3701e-01, 4.1900e-01, 4.1648e-01, 4.0700e-01, 3.9409e-01,\n",
       "        3.4939e-01, 3.0563e-01, 2.9903e-01, 2.4860e-01, 2.2356e-01, 2.2097e-01,\n",
       "        2.0600e-01, 1.8797e-01, 1.6429e-01, 1.6048e-01, 1.5820e-01, 1.1295e-01,\n",
       "        1.1195e-01, 9.4070e-02, 8.4679e-02, 8.3802e-02, 8.0240e-02, 7.3002e-02,\n",
       "        3.6304e-02, 2.2253e-02, 2.2253e-02, 2.2253e-02, 2.2253e-02, 2.2253e-02,\n",
       "        2.2253e-02, 2.2253e-02, 2.2253e-02, 2.2253e-02, 2.2253e-02, 2.2253e-02,\n",
       "        2.2253e-02, 2.2253e-02, 2.2253e-02, 2.2253e-02, 2.2253e-02, 2.2253e-02,\n",
       "        2.2253e-02, 2.2253e-02, 2.2253e-02, 2.2253e-02, 2.2253e-02, 2.2253e-02,\n",
       "        2.2253e-02, 2.2253e-02, 2.2253e-02, 2.2253e-02, 2.2253e-02, 2.2253e-02,\n",
       "        2.2253e-02, 2.2253e-02, 2.2253e-02, 2.2253e-02, 2.2253e-02, 2.2253e-02,\n",
       "        2.2253e-02, 2.2253e-02, 2.2253e-02, 2.2253e-02])"
      ]
     },
     "execution_count": 47,
     "metadata": {},
     "output_type": "execute_result"
    }
   ],
   "source": [
    "metric1.singular_values"
   ]
  },
  {
   "cell_type": "code",
   "execution_count": 44,
   "metadata": {},
   "outputs": [
    {
     "data": {
      "text/plain": [
       "<module 'utils.models' from '/home/alexm/project/notebooks/gmm-robust/utils/models.py'>"
      ]
     },
     "execution_count": 44,
     "metadata": {},
     "output_type": "execute_result"
    }
   ],
   "source": [
    "reload(models)"
   ]
  },
  {
   "cell_type": "code",
   "execution_count": 91,
   "metadata": {},
   "outputs": [
    {
     "data": {
      "text/plain": [
       "<matplotlib.image.AxesImage at 0x7f7baf27e470>"
      ]
     },
     "execution_count": 91,
     "metadata": {},
     "output_type": "execute_result"
    },
    {
     "data": {
      "image/png": "[encoded data removed]",
      "text/plain": [
       "<Figure size 432x288 with 1 Axes>"
      ]
     },
     "metadata": {},
     "output_type": "display_data"
    }
   ],
   "source": [
    "plt.imshow(metric.comp_vecs[0].view(28,28))"
   ]
  },
  {
   "cell_type": "code",
   "execution_count": 86,
   "metadata": {},
   "outputs": [
    {
     "data": {
      "text/plain": [
       "PCAMetric()"
      ]
     },
     "execution_count": 86,
     "metadata": {},
     "output_type": "execute_result"
    }
   ],
   "source": [
    "metric.cpu()"
   ]
  },
  {
   "cell_type": "code",
   "execution_count": 82,
   "metadata": {},
   "outputs": [
    {
     "ename": "RuntimeError",
     "evalue": "dimension mismatch for operand 0: equation 3 tensor 2",
     "output_type": "error",
     "traceback": [
      "\u001b[0;31m---------------------------------------------------------------------------\u001b[0m",
      "\u001b[0;31mRuntimeError\u001b[0m                              Traceback (most recent call last)",
      "\u001b[0;32m<ipython-input-82-1f3cc2785cf6>\u001b[0m in \u001b[0;36m<module>\u001b[0;34m()\u001b[0m\n\u001b[0;32m----> 1\u001b[0;31m \u001b[0mrotated_dist\u001b[0m \u001b[0;34m=\u001b[0m \u001b[0mtorch\u001b[0m\u001b[0;34m.\u001b[0m\u001b[0meinsum\u001b[0m\u001b[0;34m(\u001b[0m\u001b[0;34m\"ijk,lk->ijl\"\u001b[0m\u001b[0;34m,\u001b[0m \u001b[0;34m(\u001b[0m\u001b[0mX\u001b[0m\u001b[0;34m,\u001b[0m \u001b[0mmetric\u001b[0m\u001b[0;34m.\u001b[0m\u001b[0mcomp_vecs\u001b[0m\u001b[0;34m)\u001b[0m\u001b[0;34m)\u001b[0m\u001b[0;34m\u001b[0m\u001b[0m\n\u001b[0m\u001b[1;32m      2\u001b[0m \u001b[0mrescaled_dist\u001b[0m \u001b[0;34m=\u001b[0m \u001b[0mrotated_dist\u001b[0m \u001b[0;34m/\u001b[0m \u001b[0mmetric\u001b[0m\u001b[0;34m.\u001b[0m\u001b[0msingular_values\u001b[0m\u001b[0;34m[\u001b[0m\u001b[0;32mNone\u001b[0m\u001b[0;34m,\u001b[0m\u001b[0;32mNone\u001b[0m\u001b[0;34m,\u001b[0m\u001b[0;34m:\u001b[0m\u001b[0;34m]\u001b[0m\u001b[0;34m\u001b[0m\u001b[0m\n",
      "\u001b[0;32m/usr/local/lib/python3.5/dist-packages/torch/functional.py\u001b[0m in \u001b[0;36meinsum\u001b[0;34m(equation, *operands)\u001b[0m\n\u001b[1;32m    240\u001b[0m         \u001b[0;31m# the old interface of passing the operands as one list argument\u001b[0m\u001b[0;34m\u001b[0m\u001b[0;34m\u001b[0m\u001b[0m\n\u001b[1;32m    241\u001b[0m         \u001b[0moperands\u001b[0m \u001b[0;34m=\u001b[0m \u001b[0moperands\u001b[0m\u001b[0;34m[\u001b[0m\u001b[0;36m0\u001b[0m\u001b[0;34m]\u001b[0m\u001b[0;34m\u001b[0m\u001b[0m\n\u001b[0;32m--> 242\u001b[0;31m     \u001b[0;32mreturn\u001b[0m \u001b[0mtorch\u001b[0m\u001b[0;34m.\u001b[0m\u001b[0m_C\u001b[0m\u001b[0;34m.\u001b[0m\u001b[0m_VariableFunctions\u001b[0m\u001b[0;34m.\u001b[0m\u001b[0meinsum\u001b[0m\u001b[0;34m(\u001b[0m\u001b[0mequation\u001b[0m\u001b[0;34m,\u001b[0m \u001b[0moperands\u001b[0m\u001b[0;34m)\u001b[0m\u001b[0;34m\u001b[0m\u001b[0m\n\u001b[0m\u001b[1;32m    243\u001b[0m \u001b[0;34m\u001b[0m\u001b[0m\n\u001b[1;32m    244\u001b[0m \u001b[0;34m\u001b[0m\u001b[0m\n",
      "\u001b[0;31mRuntimeError\u001b[0m: dimension mismatch for operand 0: equation 3 tensor 2"
     ]
    }
   ],
   "source": [
    "rotated_dist = torch.einsum(\"ijk,lk->ijl\", (X, metric.comp_vecs))\n",
    "rescaled_dist = rotated_dist / metric.singular_values[None,None,:]"
   ]
  },
  {
   "cell_type": "code",
   "execution_count": 98,
   "metadata": {},
   "outputs": [
    {
     "data": {
      "text/plain": [
       "tensor([[ 1.3883e-02,  1.0895e-03,  2.1391e-02,  ...,  0.0000e+00,\n",
       "          0.0000e+00,  2.5883e-04],\n",
       "        [ 1.1361e-02,  2.6982e-03,  5.3478e-03,  ...,  0.0000e+00,\n",
       "          0.0000e+00, -1.3573e-05],\n",
       "        [ 1.4304e-02, -1.3132e-03,  2.1099e-02,  ...,  0.0000e+00,\n",
       "          0.0000e+00, -3.2807e-05],\n",
       "        ...,\n",
       "        [ 2.3027e-02,  6.0210e-03, -3.1281e-03,  ...,  0.0000e+00,\n",
       "          0.0000e+00,  1.2582e-05],\n",
       "        [ 1.3736e-02,  1.9169e-04,  1.7955e-02,  ...,  0.0000e+00,\n",
       "          0.0000e+00,  3.3527e-06],\n",
       "        [ 2.2929e-02,  6.4675e-04, -6.3547e-03,  ...,  0.0000e+00,\n",
       "          0.0000e+00,  4.8462e-05]])"
      ]
     },
     "execution_count": 98,
     "metadata": {},
     "output_type": "execute_result"
    }
   ],
   "source": [
    "( (X@metric.comp_vecs.t()) / metric.singular_values[None,:] )"
   ]
  },
  {
   "cell_type": "code",
   "execution_count": 92,
   "metadata": {},
   "outputs": [
    {
     "data": {
      "text/plain": [
       "torch.Size([784, 784])"
      ]
     },
     "execution_count": 92,
     "metadata": {},
     "output_type": "execute_result"
    }
   ],
   "source": [
    "metric.comp_vecs.t().shape"
   ]
  },
  {
   "cell_type": "code",
   "execution_count": 99,
   "metadata": {},
   "outputs": [],
   "source": [
    "from sklearn.cluster import KMeans"
   ]
  },
  {
   "cell_type": "code",
   "execution_count": 100,
   "metadata": {},
   "outputs": [],
   "source": [
    "kmeans = KMeans(n_clusters=100, random_state=0, max_iter=300).fit(( (X@metric.comp_vecs.t()) / metric.singular_values[None,:] ))\n"
   ]
  },
  {
   "cell_type": "code",
   "execution_count": 101,
   "metadata": {},
   "outputs": [],
   "source": [
    "mu = torch.tensor(kmeans.cluster_centers_, dtype=torch.float)"
   ]
  },
  {
   "cell_type": "code",
   "execution_count": 106,
   "metadata": {},
   "outputs": [],
   "source": [
    "gmm1.mu.data = mu"
   ]
  },
  {
   "cell_type": "code",
   "execution_count": 109,
   "metadata": {},
   "outputs": [
    {
     "ename": "AssertionError",
     "evalue": "Empty cluster",
     "output_type": "error",
     "traceback": [
      "\u001b[0;31m---------------------------------------------------------------------------\u001b[0m",
      "\u001b[0;31mAssertionError\u001b[0m                            Traceback (most recent call last)",
      "\u001b[0;32m<ipython-input-109-e2323c959656>\u001b[0m in \u001b[0;36m<module>\u001b[0;34m()\u001b[0m\n\u001b[1;32m      1\u001b[0m \u001b[0mindex\u001b[0m \u001b[0;34m=\u001b[0m \u001b[0;34m(\u001b[0m\u001b[0mX\u001b[0m\u001b[0;34m[\u001b[0m\u001b[0;34m:\u001b[0m\u001b[0;34m,\u001b[0m\u001b[0;32mNone\u001b[0m\u001b[0;34m,\u001b[0m\u001b[0;34m:\u001b[0m\u001b[0;34m]\u001b[0m\u001b[0;34m-\u001b[0m\u001b[0mgmm1\u001b[0m\u001b[0;34m.\u001b[0m\u001b[0mmu\u001b[0m\u001b[0;34m.\u001b[0m\u001b[0mclone\u001b[0m\u001b[0;34m(\u001b[0m\u001b[0;34m)\u001b[0m\u001b[0;34m.\u001b[0m\u001b[0mdetach\u001b[0m\u001b[0;34m(\u001b[0m\u001b[0;34m)\u001b[0m\u001b[0;34m[\u001b[0m\u001b[0;32mNone\u001b[0m\u001b[0;34m,\u001b[0m\u001b[0;34m:\u001b[0m\u001b[0;34m,\u001b[0m\u001b[0;34m:\u001b[0m\u001b[0;34m]\u001b[0m\u001b[0;34m)\u001b[0m\u001b[0;34m.\u001b[0m\u001b[0mnorm\u001b[0m\u001b[0;34m(\u001b[0m\u001b[0mdim\u001b[0m\u001b[0;34m=\u001b[0m\u001b[0;36m2\u001b[0m\u001b[0;34m)\u001b[0m\u001b[0;34m.\u001b[0m\u001b[0mmin\u001b[0m\u001b[0;34m(\u001b[0m\u001b[0mdim\u001b[0m\u001b[0;34m=\u001b[0m\u001b[0;36m1\u001b[0m\u001b[0;34m)\u001b[0m\u001b[0;34m[\u001b[0m\u001b[0;36m1\u001b[0m\u001b[0;34m]\u001b[0m\u001b[0;34m\u001b[0m\u001b[0m\n\u001b[1;32m      2\u001b[0m \u001b[0;32mfor\u001b[0m \u001b[0mi\u001b[0m \u001b[0;32min\u001b[0m \u001b[0mrange\u001b[0m\u001b[0;34m(\u001b[0m\u001b[0mgmm1\u001b[0m\u001b[0;34m.\u001b[0m\u001b[0mK\u001b[0m\u001b[0;34m)\u001b[0m\u001b[0;34m:\u001b[0m\u001b[0;34m\u001b[0m\u001b[0m\n\u001b[0;32m----> 3\u001b[0;31m     \u001b[0;32massert\u001b[0m \u001b[0;34m(\u001b[0m\u001b[0mindex\u001b[0m\u001b[0;34m==\u001b[0m\u001b[0mi\u001b[0m\u001b[0;34m)\u001b[0m\u001b[0;34m.\u001b[0m\u001b[0msum\u001b[0m\u001b[0;34m(\u001b[0m\u001b[0;34m)\u001b[0m\u001b[0;34m>\u001b[0m\u001b[0;36m0\u001b[0m\u001b[0;34m,\u001b[0m \u001b[0;34m'Empty cluster'\u001b[0m\u001b[0;34m\u001b[0m\u001b[0m\n\u001b[0m\u001b[1;32m      4\u001b[0m     \u001b[0mgmm1\u001b[0m\u001b[0;34m.\u001b[0m\u001b[0malpha\u001b[0m\u001b[0;34m.\u001b[0m\u001b[0mdata\u001b[0m\u001b[0;34m[\u001b[0m\u001b[0mi\u001b[0m\u001b[0;34m]\u001b[0m \u001b[0;34m=\u001b[0m \u001b[0;34m(\u001b[0m\u001b[0;34m(\u001b[0m\u001b[0mindex\u001b[0m\u001b[0;34m==\u001b[0m\u001b[0mi\u001b[0m\u001b[0;34m)\u001b[0m\u001b[0;34m.\u001b[0m\u001b[0mfloat\u001b[0m\u001b[0;34m(\u001b[0m\u001b[0;34m)\u001b[0m\u001b[0;34m.\u001b[0m\u001b[0msum\u001b[0m\u001b[0;34m(\u001b[0m\u001b[0;34m)\u001b[0m \u001b[0;34m/\u001b[0m \u001b[0;34m(\u001b[0m\u001b[0;36m3\u001b[0m\u001b[0;34m*\u001b[0m\u001b[0mgmm1\u001b[0m\u001b[0;34m.\u001b[0m\u001b[0mK\u001b[0m\u001b[0;34m)\u001b[0m\u001b[0;34m)\u001b[0m\u001b[0;34m.\u001b[0m\u001b[0mlog\u001b[0m\u001b[0;34m(\u001b[0m\u001b[0;34m)\u001b[0m\u001b[0;34m\u001b[0m\u001b[0m\n\u001b[1;32m      5\u001b[0m     \u001b[0mtemp\u001b[0m \u001b[0;34m=\u001b[0m \u001b[0;34m(\u001b[0m\u001b[0mX\u001b[0m\u001b[0;34m[\u001b[0m\u001b[0mindex\u001b[0m\u001b[0;34m==\u001b[0m\u001b[0mi\u001b[0m\u001b[0;34m,\u001b[0m\u001b[0;34m:\u001b[0m\u001b[0;34m]\u001b[0m \u001b[0;34m-\u001b[0m \u001b[0mgmm1\u001b[0m\u001b[0;34m.\u001b[0m\u001b[0mmu\u001b[0m\u001b[0;34m.\u001b[0m\u001b[0mdata\u001b[0m\u001b[0;34m[\u001b[0m\u001b[0mi\u001b[0m\u001b[0;34m,\u001b[0m\u001b[0;34m:\u001b[0m\u001b[0;34m]\u001b[0m\u001b[0;34m)\u001b[0m\u001b[0;34m.\u001b[0m\u001b[0mnorm\u001b[0m\u001b[0;34m(\u001b[0m\u001b[0mdim\u001b[0m\u001b[0;34m=\u001b[0m\u001b[0;36m1\u001b[0m\u001b[0;34m)\u001b[0m\u001b[0;34m.\u001b[0m\u001b[0mmean\u001b[0m\u001b[0;34m(\u001b[0m\u001b[0;34m)\u001b[0m\u001b[0;34m\u001b[0m\u001b[0m\n",
      "\u001b[0;31mAssertionError\u001b[0m: Empty cluster"
     ]
    }
   ],
   "source": [
    "index = (X[:,None,:]-gmm1.mu.clone().detach()[None,:,:]).norm(dim=2).min(dim=1)[1]\n",
    "for i in range(gmm1.K):\n",
    "    assert (index==i).sum()>0, 'Empty cluster'\n",
    "    gmm1.alpha.data[i] = ((index==i).float().sum() / (3*gmm1.K)).log()\n",
    "    temp = (X[index==i,:] - gmm1.mu.data[i,:]).norm(dim=1).mean()\n",
    "    if temp < 0.00001:\n",
    "        temp = torch.tensor(1.)\n",
    "    gmm1.logvar.data[i] = temp.log() * 2\n",
    "\n",
    "gmm1.alpha.data = gmm1.alpha.data.exp()\n",
    "gmm1.alpha.data /= gmm1.alpha.data.sum()\n",
    "gmm1.alpha.data = gmm1.alpha.data.log()"
   ]
  },
  {
   "cell_type": "code",
   "execution_count": 104,
   "metadata": {},
   "outputs": [
    {
     "data": {
      "text/plain": [
       "Parameter containing:\n",
       "tensor([[ 7.3723e-22,  5.2517e-21,  9.6933e-21,  ...,  2.4181e-19,\n",
       "          0.0000e+00,  0.0000e+00],\n",
       "        [-1.5544e-11, -3.0194e-10, -3.4554e-11,  ..., -6.8873e-09,\n",
       "          0.0000e+00,  0.0000e+00],\n",
       "        [-8.2017e-14, -1.3422e-12, -2.8625e-12,  ..., -5.1101e-11,\n",
       "          0.0000e+00,  0.0000e+00],\n",
       "        ...,\n",
       "        [-5.2474e-11, -4.0939e-10,  4.2160e-10,  ..., -1.9035e-08,\n",
       "          0.0000e+00,  0.0000e+00],\n",
       "        [ 2.3447e-10,  1.9112e-09, -6.4478e-09,  ...,  8.7813e-08,\n",
       "          0.0000e+00,  0.0000e+00],\n",
       "        [-6.6645e-13, -6.7947e-12,  8.4323e-12,  ..., -3.4710e-10,\n",
       "          0.0000e+00,  0.0000e+00]], device='cuda:0', requires_grad=True)"
      ]
     },
     "execution_count": 104,
     "metadata": {},
     "output_type": "execute_result"
    }
   ],
   "source": [
    "gmm1.mu"
   ]
  },
  {
   "cell_type": "code",
   "execution_count": 105,
   "metadata": {},
   "outputs": [
    {
     "data": {
      "text/plain": [
       "tensor([[ 1.3149e-02,  4.1593e-03,  1.9990e-02,  ...,  0.0000e+00,\n",
       "          0.0000e+00,  1.0981e-05],\n",
       "        [ 1.5632e-02, -6.4406e-03,  6.7789e-03,  ...,  0.0000e+00,\n",
       "          0.0000e+00, -5.2614e-06],\n",
       "        [ 1.5887e-02,  1.2609e-03,  3.4150e-03,  ...,  0.0000e+00,\n",
       "          0.0000e+00, -5.4999e-06],\n",
       "        ...,\n",
       "        [ 1.3201e-02, -2.3444e-03,  8.1411e-03,  ...,  0.0000e+00,\n",
       "          0.0000e+00, -2.1014e-06],\n",
       "        [ 1.2476e-02, -2.8816e-03,  5.8643e-03,  ...,  0.0000e+00,\n",
       "          0.0000e+00, -1.1333e-05],\n",
       "        [ 1.1895e-02,  5.9170e-03,  1.2595e-02,  ...,  0.0000e+00,\n",
       "          0.0000e+00,  1.1319e-05]])"
      ]
     },
     "execution_count": 105,
     "metadata": {},
     "output_type": "execute_result"
    }
   ],
   "source": [
    "mu"
   ]
  },
  {
   "cell_type": "code",
   "execution_count": 142,
   "metadata": {},
   "outputs": [],
   "source": [
    "torch.save(gmm1.cpu(), 'SavedModels/GMM/gmm_MNIST_K100_custom_for_PCA.pth')"
   ]
  },
  {
   "cell_type": "code",
   "execution_count": 156,
   "metadata": {},
   "outputs": [],
   "source": [
    "dist = torch.distributions.multivariate_normal.MultivariateNormal(mu[0], \n",
    "                                                           covariance_matrix=gmm1.logvar.exp()[0]*torch.eye(784))"
   ]
  },
  {
   "cell_type": "code",
   "execution_count": 158,
   "metadata": {},
   "outputs": [
    {
     "ename": "NotImplementedError",
     "evalue": "",
     "output_type": "error",
     "traceback": [
      "\u001b[0;31m---------------------------------------------------------------------------\u001b[0m",
      "\u001b[0;31mNotImplementedError\u001b[0m                       Traceback (most recent call last)",
      "\u001b[0;32m<ipython-input-158-c38dd57599f8>\u001b[0m in \u001b[0;36m<module>\u001b[0;34m()\u001b[0m\n\u001b[0;32m----> 1\u001b[0;31m \u001b[0mdist\u001b[0m\u001b[0;34m.\u001b[0m\u001b[0mcdf\u001b[0m\u001b[0;34m(\u001b[0m\u001b[0mtorch\u001b[0m\u001b[0;34m.\u001b[0m\u001b[0mones\u001b[0m\u001b[0;34m(\u001b[0m\u001b[0;36m784\u001b[0m\u001b[0;34m)\u001b[0m\u001b[0;34m)\u001b[0m\u001b[0;34m\u001b[0m\u001b[0m\n\u001b[0m",
      "\u001b[0;32m/usr/local/lib/python3.5/dist-packages/torch/distributions/distribution.py\u001b[0m in \u001b[0;36mcdf\u001b[0;34m(self, value)\u001b[0m\n\u001b[1;32m    152\u001b[0m             \u001b[0mvalue\u001b[0m \u001b[0;34m(\u001b[0m\u001b[0mTensor\u001b[0m\u001b[0;34m)\u001b[0m\u001b[0;34m:\u001b[0m\u001b[0;34m\u001b[0m\u001b[0m\n\u001b[1;32m    153\u001b[0m         \"\"\"\n\u001b[0;32m--> 154\u001b[0;31m         \u001b[0;32mraise\u001b[0m \u001b[0mNotImplementedError\u001b[0m\u001b[0;34m\u001b[0m\u001b[0m\n\u001b[0m\u001b[1;32m    155\u001b[0m \u001b[0;34m\u001b[0m\u001b[0m\n\u001b[1;32m    156\u001b[0m     \u001b[0;32mdef\u001b[0m \u001b[0micdf\u001b[0m\u001b[0;34m(\u001b[0m\u001b[0mself\u001b[0m\u001b[0;34m,\u001b[0m \u001b[0mvalue\u001b[0m\u001b[0;34m)\u001b[0m\u001b[0;34m:\u001b[0m\u001b[0;34m\u001b[0m\u001b[0m\n",
      "\u001b[0;31mNotImplementedError\u001b[0m: "
     ]
    }
   ],
   "source": [
    "dist.cdf(torch.ones(784))"
   ]
  },
  {
   "cell_type": "code",
   "execution_count": 159,
   "metadata": {},
   "outputs": [],
   "source": [
    "model = torch.load('Checkpoints/gmm_MNIST_lam2719.3295654296876_n1000_lr0.0001_augm_flagTrue_train_typeCEDA_GMMgrad_vars mu_customGMM.pth')"
   ]
  },
  {
   "cell_type": "code",
   "execution_count": 175,
   "metadata": {},
   "outputs": [
    {
     "data": {
      "text/plain": [
       "tensor([0.9561, 1.0000, 1.0000, 0.8268, 0.9610, 1.0000, 1.0000, 0.9985, 0.9985,\n",
       "        0.9995, 1.0000, 1.0000, 1.0000, 1.0000, 0.9959, 1.0000, 1.0000, 0.9807,\n",
       "        0.9993, 0.9835, 1.0000, 0.9983, 1.0000, 1.0000, 0.1000, 0.9990, 0.9990,\n",
       "        1.0000, 0.9983, 1.0000, 1.0000, 1.0000, 1.0000, 1.0000, 0.9990, 0.9988,\n",
       "        1.0000, 0.9998, 0.9990, 0.9980, 0.9929, 1.0000, 0.1000, 1.0000, 0.9985,\n",
       "        0.9998, 1.0000, 0.9998, 0.9507, 0.1001, 0.9998, 0.9908, 0.9998, 0.9692,\n",
       "        0.9998, 0.9961, 0.9983, 1.0000, 0.9773, 0.9998, 0.1000, 0.1000, 1.0000,\n",
       "        1.0000, 1.0000, 1.0000, 0.9823, 1.0000, 0.9998, 0.9745, 0.8695, 1.0000,\n",
       "        1.0000, 1.0000, 0.9966, 0.9514, 0.9988, 0.9988, 0.9246, 1.0000, 1.0000,\n",
       "        0.9998, 0.9988, 0.4168, 0.9983, 1.0000, 1.0000, 1.0000, 0.9993, 0.9998,\n",
       "        0.9985, 0.9998, 0.9983, 0.7992, 0.9946, 0.9985, 0.9998, 0.9998, 1.0000,\n",
       "        0.9998, 1.0000, 0.1000, 1.0000, 0.9526, 1.0000, 0.9876, 0.9993, 0.9995,\n",
       "        0.9990, 0.9966, 1.0000, 0.9988, 1.0000, 1.0000, 0.9995, 1.0000, 1.0000,\n",
       "        1.0000, 0.8429, 1.0000, 0.9976, 1.0000, 0.9963, 1.0000, 0.9898, 1.0000,\n",
       "        0.1000, 0.9792], grad_fn=<ExpBackward>)"
      ]
     },
     "execution_count": 175,
     "metadata": {},
     "output_type": "execute_result"
    }
   ],
   "source": [
    "model(data.view(128,1,28,28).cpu()).max(1)[0].exp()"
   ]
  },
  {
   "cell_type": "code",
   "execution_count": 178,
   "metadata": {},
   "outputs": [
    {
     "data": {
      "text/plain": [
       "tensor([-174.5781, -181.6245, -187.6233, -174.4519, -180.0427, -186.9189,\n",
       "        -174.4944, -183.1199, -170.4351, -176.9460, -199.6292, -198.2224,\n",
       "        -180.1177, -175.8970, -182.3459, -177.1299, -175.3953, -174.7104,\n",
       "        -175.6101, -185.9175, -200.4778, -189.4229, -188.9475, -202.7275,\n",
       "        -233.6538, -181.5039, -173.4458, -178.4207, -177.5393, -183.5400,\n",
       "        -201.5254, -193.3765, -172.5754, -179.4297, -195.6108, -170.0479,\n",
       "        -177.7075, -169.9553, -173.5544, -172.3086, -194.7690, -183.7178,\n",
       "        -223.9082, -186.6328, -189.2964, -181.1497, -177.2207, -173.7261,\n",
       "        -170.6648, -217.3191, -179.0854, -197.0696, -169.9294, -174.5842,\n",
       "        -174.7551, -182.6526, -168.5300, -175.2751, -212.8455, -178.5605,\n",
       "        -235.0552, -240.2827, -182.9351, -178.7620, -173.5312, -173.9797,\n",
       "        -175.1208, -181.2092, -169.4653, -178.4702, -212.9663, -182.9673,\n",
       "        -188.4556, -178.2468, -170.8271, -190.0337, -178.7192, -170.3989,\n",
       "        -173.5217, -179.3564, -175.8442, -171.2192, -171.3274, -177.1470,\n",
       "        -176.0571, -183.1824, -178.6758, -187.9819, -169.6653, -179.4858,\n",
       "        -199.8618, -183.0417, -174.4551, -173.2400, -190.4285, -178.1694,\n",
       "        -173.8223, -186.6399, -185.5869, -183.7048, -176.4272, -237.3081,\n",
       "        -195.3000, -190.2473, -179.2473, -193.5916, -183.3745, -176.4451,\n",
       "        -184.4836, -173.7881, -178.0632, -177.3257, -195.8760, -184.8979,\n",
       "        -172.0713, -184.4563, -173.5334, -189.9961, -175.6528, -177.0894,\n",
       "        -184.6318, -203.2717, -190.7644, -190.5557, -198.6575, -184.7070,\n",
       "        -228.7769, -212.3198], grad_fn=<SelectBackward>)"
      ]
     },
     "execution_count": 178,
     "metadata": {},
     "output_type": "execute_result"
    }
   ],
   "source": [
    "model.mm(data.cpu())[0]"
   ]
  },
  {
   "cell_type": "code",
   "execution_count": 189,
   "metadata": {},
   "outputs": [
    {
     "data": {
      "text/plain": [
       "<matplotlib.image.AxesImage at 0x7f7bc4b993c8>"
      ]
     },
     "execution_count": 189,
     "metadata": {},
     "output_type": "execute_result"
    },
    {
     "data": {
      "image/png": "[encoded data removed]",
      "text/plain": [
       "<Figure size 432x288 with 1 Axes>"
      ]
     },
     "metadata": {},
     "output_type": "display_data"
    }
   ],
   "source": [
    "plt.imshow(data.cpu()[6].view(28,28))"
   ]
  },
  {
   "cell_type": "code",
   "execution_count": null,
   "metadata": {},
   "outputs": [],
   "source": [
    "( (X@) / metric.singular_values[None,:] )"
   ]
  },
  {
   "cell_type": "code",
   "execution_count": 309,
   "metadata": {},
   "outputs": [],
   "source": [
    "string = 'gmm_MNIST_n100_data_used60000_augm_flagTrue_alg_scikit_PCA.pth'\n",
    "gmm = torch.load('SavedModels/GMM/' + string)\n"
   ]
  },
  {
   "cell_type": "code",
   "execution_count": 213,
   "metadata": {},
   "outputs": [
    {
     "data": {
      "text/plain": [
       "tensor([0.0047, 0.0030, 0.0035, 0.0010, 0.0039, 0.0043, 0.0044, 0.0100, 0.0078,\n",
       "        0.0028, 0.0038, 0.0035, 0.0031, 0.0041, 0.0093, 0.0010, 0.0044, 0.0010,\n",
       "        0.0035, 0.0071, 0.0031, 0.0082, 0.0048, 0.0087, 0.0075, 0.0092, 0.0032,\n",
       "        0.0067, 0.0010, 0.0034, 0.0038, 0.0010, 0.0160, 0.0055, 0.0124, 0.0039,\n",
       "        0.0034, 0.0043, 0.0010, 0.0102, 0.0110, 0.0050, 0.0071, 0.0051, 0.0107,\n",
       "        0.0126, 0.0099, 0.0045, 0.0039, 0.0110, 0.0054, 0.0066, 0.0038, 0.0010,\n",
       "        0.0158, 0.0010, 0.0094, 0.0266, 0.0010, 0.0068, 0.0081, 0.0010, 0.0121,\n",
       "        0.0032, 0.0045, 0.0076, 0.0037, 0.0108, 0.0074, 0.0010, 0.0010, 0.0063,\n",
       "        0.0058, 0.0042, 0.0051, 0.0043, 0.0081, 0.0010, 0.0053, 0.0010, 0.0058,\n",
       "        0.0010, 0.0058, 0.0055, 0.0068, 0.0118, 0.0010, 0.0049, 0.0051, 0.0122,\n",
       "        0.0090, 0.0116, 0.0064, 0.0035, 0.0033, 0.0090, 0.0029, 0.0057, 0.0042,\n",
       "        0.0079], grad_fn=<SqrtBackward>)"
      ]
     },
     "execution_count": 213,
     "metadata": {},
     "output_type": "execute_result"
    }
   ],
   "source": [
    "gmm.logvar.exp().sqrt()"
   ]
  },
  {
   "cell_type": "code",
   "execution_count": 214,
   "metadata": {},
   "outputs": [
    {
     "data": {
      "text/plain": [
       "tensor(1., grad_fn=<SumBackward0>)"
      ]
     },
     "execution_count": 214,
     "metadata": {},
     "output_type": "execute_result"
    }
   ],
   "source": [
    "gmm.alpha.exp().sum()"
   ]
  },
  {
   "cell_type": "code",
   "execution_count": 248,
   "metadata": {},
   "outputs": [
    {
     "data": {
      "text/plain": [
       "PCAMetric()"
      ]
     },
     "execution_count": 248,
     "metadata": {},
     "output_type": "execute_result"
    }
   ],
   "source": [
    "metric"
   ]
  },
  {
   "cell_type": "code",
   "execution_count": 249,
   "metadata": {},
   "outputs": [],
   "source": [
    "gmm.metric = metric"
   ]
  },
  {
   "cell_type": "code",
   "execution_count": 250,
   "metadata": {},
   "outputs": [
    {
     "data": {
      "text/plain": [
       "<matplotlib.image.AxesImage at 0x7f7baf2d3eb8>"
      ]
     },
     "execution_count": 250,
     "metadata": {},
     "output_type": "execute_result"
    },
    {
     "data": {
      "image/png": "[encoded data removed]",
      "text/plain": [
       "<Figure size 432x288 with 1 Axes>"
      ]
     },
     "metadata": {},
     "output_type": "display_data"
    }
   ],
   "source": [
    "plt.imshow( gmm.mu[0].view(28,28).detach().cpu() )"
   ]
  },
  {
   "cell_type": "code",
   "execution_count": 220,
   "metadata": {},
   "outputs": [
    {
     "data": {
      "text/plain": [
       "GMM(\n",
       "  (metric): LpMetric()\n",
       ")"
      ]
     },
     "execution_count": 220,
     "metadata": {},
     "output_type": "execute_result"
    }
   ],
   "source": []
  },
  {
   "cell_type": "code",
   "execution_count": 263,
   "metadata": {},
   "outputs": [
    {
     "data": {
      "text/plain": [
       "tensor([ 2.5590e+03,  2.1677e+03,  2.1424e+03,  2.0556e+03,  2.1469e+03,\n",
       "         1.9414e+03,  2.3896e+03, -4.2777e+03, -8.8957e+05,  2.2758e+03,\n",
       "         1.6558e+03, -6.2796e+06, -5.7892e+05,  2.3544e+03,  2.2502e+03,\n",
       "         8.9711e+02, -1.0991e+07,  1.9872e+03, -4.4902e+05,  2.8463e+02,\n",
       "         1.8527e+03,  2.4164e+03,  2.2664e+03,  2.2393e+03,  1.8796e+03,\n",
       "         2.1893e+03,  2.0006e+03,  1.6233e+03, -1.2863e+04,  2.1413e+03,\n",
       "         2.1249e+03,  1.4057e+03,  2.1126e+03,  7.1077e+02,  1.3916e+03,\n",
       "         1.8511e+03, -5.7660e+02, -1.1478e+07,  4.9249e+02,  2.3578e+03,\n",
       "         1.9685e+03,  2.1499e+03, -9.7909e+06, -4.6957e+05,  2.0819e+03,\n",
       "         1.9761e+03,  2.2036e+03,  1.6780e+03,  1.9563e+03,  2.4585e+03,\n",
       "         1.6618e+03,  2.2339e+03,  1.7471e+03,  2.1377e+03,  1.8448e+03,\n",
       "         2.1842e+03,  1.3465e+03, -2.5915e+03,  2.2755e+03,  1.8421e+03,\n",
       "        -3.0550e+05,  1.4448e+03,  1.7776e+03, -8.2848e+06,  1.9292e+03,\n",
       "         1.6349e+03,  1.7435e+03,  2.6396e+03,  1.1134e+03,  2.2872e+03,\n",
       "         2.5171e+03,  2.1428e+03,  2.0963e+03, -1.5817e+07, -9.3368e+06,\n",
       "        -3.0299e+03,  2.9042e+02,  1.1846e+03, -1.4760e+04,  1.8948e+03,\n",
       "        -4.0934e+05, -2.4155e+03,  1.4601e+03,  1.9272e+03,  6.4954e+02,\n",
       "         1.6050e+03,  1.6179e+03,  2.1752e+03, -1.5391e+03,  2.2799e+03,\n",
       "         1.9102e+03,  8.9256e+02,  2.0397e+03,  2.2805e+03,  2.0945e+03,\n",
       "         2.5150e+03,  1.6922e+03, -7.5103e+02,  2.1115e+03,  2.0908e+03,\n",
       "         1.9937e+03,  1.7509e+03, -6.4386e+03,  2.5194e+03,  2.2907e+03,\n",
       "        -2.6053e+04,  1.6904e+03, -2.8145e+03,  2.0804e+03,  2.0910e+03,\n",
       "         1.7527e+03, -3.7481e+04, -1.0592e+07,  1.4897e+03,  1.8897e+03,\n",
       "         1.9444e+03,  2.2740e+03, -2.5627e+04,  2.3353e+03,  2.0357e+03,\n",
       "         1.4358e+03, -3.8688e+03, -1.8231e+03,  1.8060e+03,  2.1790e+03,\n",
       "        -3.7494e+03,  2.2472e+03,  2.6026e+03], grad_fn=<MaxBackward0>)"
      ]
     },
     "execution_count": 263,
     "metadata": {},
     "output_type": "execute_result"
    }
   ],
   "source": [
    "gmm(data.view(-1,784).cpu()).max(0)[0]"
   ]
  },
  {
   "cell_type": "code",
   "execution_count": 315,
   "metadata": {},
   "outputs": [],
   "source": [
    "data = enumerate(model_params.test_loader).__next__()[1][0]\n",
    "data = data.view(data.shape[0], -1).to(device)\n",
    "\n",
    "noise = enumerate(model_params.loaders[-1][1]).__next__()[1][0]\n",
    "ran = torch.rand(128, 1, 28, 28)"
   ]
  },
  {
   "cell_type": "code",
   "execution_count": 232,
   "metadata": {},
   "outputs": [
    {
     "data": {
      "text/plain": [
       "<matplotlib.image.AxesImage at 0x7f7baf271710>"
      ]
     },
     "execution_count": 232,
     "metadata": {},
     "output_type": "execute_result"
    },
    {
     "data": {
      "image/png": "[encoded data removed]",
      "text/plain": [
       "<Figure size 432x288 with 1 Axes>"
      ]
     },
     "metadata": {},
     "output_type": "display_data"
    }
   ],
   "source": [
    "plt.imshow( data[10].view(28,28).detach().cpu() )"
   ]
  },
  {
   "cell_type": "code",
   "execution_count": 271,
   "metadata": {},
   "outputs": [
    {
     "data": {
      "text/plain": [
       "tensor(0.5987)"
      ]
     },
     "execution_count": 271,
     "metadata": {},
     "output_type": "execute_result"
    }
   ],
   "source": [
    "dist = torch.distributions.normal.Normal(0, 1.)\n",
    "dist.cdf(.25)"
   ]
  },
  {
   "cell_type": "code",
   "execution_count": 280,
   "metadata": {},
   "outputs": [
    {
     "data": {
      "text/plain": [
       "tensor(0.8413, device='cuda:0', grad_fn=<MulBackward0>)"
      ]
     },
     "execution_count": 280,
     "metadata": {},
     "output_type": "execute_result"
    }
   ],
   "source": [
    "dist.cdf()"
   ]
  },
  {
   "cell_type": "code",
   "execution_count": 270,
   "metadata": {},
   "outputs": [
    {
     "data": {
      "text/plain": [
       "tensor(0.5987)"
      ]
     },
     "execution_count": 270,
     "metadata": {},
     "output_type": "execute_result"
    }
   ],
   "source": [
    "dist = torch.distributions.normal.Normal(.5, 2.)\n",
    "dist.cdf(1)"
   ]
  },
  {
   "cell_type": "code",
   "execution_count": 300,
   "metadata": {},
   "outputs": [],
   "source": [
    "N1 = dist.cdf( (1-gmm.mu)/(.5*gmm.logvar[:,None]).exp() ) \n",
    "N2 = dist.cdf( (-gmm.mu)/(.5*gmm.logvar[:,None]).exp() )\n",
    "N = N1 - N2"
   ]
  },
  {
   "cell_type": "code",
   "execution_count": 308,
   "metadata": {},
   "outputs": [
    {
     "data": {
      "text/plain": [
       "tensor(-200.9691, grad_fn=<LogsumexpBackward>)"
      ]
     },
     "execution_count": 308,
     "metadata": {},
     "output_type": "execute_result"
    }
   ],
   "source": [
    "torch.logsumexp(N.log().sum(1), 0)"
   ]
  },
  {
   "cell_type": "code",
   "execution_count": 305,
   "metadata": {},
   "outputs": [
    {
     "data": {
      "text/plain": [
       "tensor([-428.3329, -502.2106, -398.1773, -390.8887, -420.0345, -455.4157,\n",
       "        -380.6339, -431.8239, -442.9338, -437.3446, -401.2774, -436.6505,\n",
       "        -439.4527, -309.4163, -421.4442, -452.6079, -404.8183, -482.4295,\n",
       "        -435.2854, -402.0202, -471.3360, -457.4987, -484.4950, -424.2011,\n",
       "        -445.6696, -394.3818, -426.2827, -486.5812, -432.5025, -368.8576,\n",
       "        -477.5695, -443.6301, -418.6200, -483.8015, -437.3416, -483.1127,\n",
       "        -419.3192, -445.6590, -466.4723, -455.3767, -277.9392, -397.8627,\n",
       "        -493.5421, -200.9691, -411.7433, -426.2794, -444.3082, -372.8612,\n",
       "        -498.3206, -463.0258, -405.4640, -434.5657, -420.7141, -400.6182,\n",
       "        -389.5520, -379.1321, -447.7990, -406.1945, -419.3500, -422.1269,\n",
       "        -406.8347, -503.9301, -490.7411, -424.2140, -408.2295, -429.7345,\n",
       "        -446.3571, -440.1526, -423.5280, -475.4945, -389.5267, -419.9958,\n",
       "        -470.6389, -440.8481, -430.4242, -431.8162, -441.5560, -492.1190,\n",
       "        -433.2235, -425.5825, -455.3904, -415.1854, -448.4722, -405.4547,\n",
       "        -438.0756, -379.1406, -413.0959, -406.8538, -440.8147, -435.2740,\n",
       "        -444.2969, -403.4069, -454.0108, -427.6407, -494.2217, -453.2979,\n",
       "        -482.4207, -518.4568, -389.5394, -377.0415], grad_fn=<SumBackward2>)"
      ]
     },
     "execution_count": 305,
     "metadata": {},
     "output_type": "execute_result"
    }
   ],
   "source": [
    "N.log().sum(1)"
   ]
  },
  {
   "cell_type": "code",
   "execution_count": 326,
   "metadata": {
    "scrolled": true
   },
   "outputs": [
    {
     "name": "stdout",
     "output_type": "stream",
     "text": [
      "tensor([0, 0, 1, 0, 0, 1, 0, 0, 0, 0, 0, 0, 0, 0, 1, 0, 1, 1, 0, 1, 0, 0, 0, 0,\n",
      "        1, 1, 0, 0, 0, 1, 0, 0, 0, 0, 0, 0, 0, 0, 1, 0, 0, 0, 0, 1, 1, 0, 0, 0,\n",
      "        0, 0, 0, 0, 0, 0, 0, 0, 0, 1, 0, 1, 0, 1, 1, 1, 0, 0, 1, 1, 0, 0, 0, 0,\n",
      "        1, 1, 0, 0, 0, 0, 0, 0, 1, 1, 0, 0, 1, 0, 0, 0, 0, 0, 0, 1, 0, 0, 0, 1,\n",
      "        1, 0, 0, 1, 1, 0, 0, 1, 0, 0, 0, 1, 1, 0, 0, 0, 0, 0, 1, 1, 0, 0, 0, 1,\n",
      "        0, 0, 0, 1, 0, 1, 0, 0], dtype=torch.uint8)\n"
     ]
    }
   ],
   "source": [
    "print(torch.logsumexp(gmm(noise.view(-1,784)), 0)>3500)"
   ]
  },
  {
   "cell_type": "code",
   "execution_count": 322,
   "metadata": {},
   "outputs": [
    {
     "data": {
      "text/plain": [
       "tensor([4.3192, 3.7614, 4.4308, 4.1412, 4.2262, 4.4428, 4.1596, 3.5703, 3.9706,\n",
       "        4.0929, 4.2422, 4.0385, 4.3234, 4.2106, 4.3381, 3.9509, 4.2084, 4.1421,\n",
       "        3.8306, 4.3306, 4.2785, 4.2880, 3.9892, 4.1201, 4.1210, 4.0048, 3.8813,\n",
       "        4.2793, 4.2309, 4.3039, 4.2402, 4.3496, 4.2177, 4.0192, 4.1123, 3.9846,\n",
       "        3.9062, 4.4090, 4.1052, 4.4178, 4.2954, 4.2236, 4.2908, 3.9732, 4.3088,\n",
       "        4.2377, 4.2277, 3.7570, 4.1797, 4.0428, 4.2734, 3.9366, 4.0358, 4.0266,\n",
       "        3.6536, 4.2481, 4.1772, 4.4016, 4.2874, 4.1131, 3.7075, 4.0502, 4.2172,\n",
       "        4.2224, 3.9868, 4.3489, 4.0511, 4.0826, 4.1593, 3.9992, 3.6656, 4.0562,\n",
       "        3.9969, 4.2388, 4.4441, 4.0218, 4.2523, 3.8309, 4.3060, 4.1267, 4.1867,\n",
       "        4.2424, 4.0318, 4.2439, 4.0356, 4.1258, 4.2938, 4.0139, 4.0110, 4.3881,\n",
       "        4.2744, 4.2805, 4.1610, 4.2877, 4.2761, 4.1228, 4.2456, 3.4875, 4.2047,\n",
       "        4.2463], grad_fn=<DivBackward0>)"
      ]
     },
     "execution_count": 322,
     "metadata": {},
     "output_type": "execute_result"
    }
   ],
   "source": [
    "torch.logsumexp(gmm(data.view(-1,784).cpu()), 0)/1000"
   ]
  },
  {
   "cell_type": "code",
   "execution_count": 329,
   "metadata": {},
   "outputs": [
    {
     "data": {
      "text/plain": [
       "tensor(-1.0000)"
      ]
     },
     "execution_count": 329,
     "metadata": {},
     "output_type": "execute_result"
    }
   ],
   "source": [
    "gmm.metric.comp_vecs.det()"
   ]
  },
  {
   "cell_type": "code",
   "execution_count": 332,
   "metadata": {},
   "outputs": [
    {
     "data": {
      "text/plain": [
       "tensor(1924.4368)"
      ]
     },
     "execution_count": 332,
     "metadata": {},
     "output_type": "execute_result"
    }
   ],
   "source": [
    "gmm.metric.singular_values.log().sum()"
   ]
  },
  {
   "cell_type": "code",
   "execution_count": 333,
   "metadata": {},
   "outputs": [
    {
     "data": {
      "text/plain": [
       "tensor([[44.9047, 44.9048, 44.9047,  ..., 44.9048, 44.9043, 44.8881],\n",
       "        [54.4489, 54.4490, 54.4489,  ..., 54.4496, 54.4488, 54.4342],\n",
       "        [54.3916, 54.3916, 54.3916,  ..., 54.3924, 54.3914, 54.3911],\n",
       "        ...,\n",
       "        [48.8151, 48.8151, 48.8151,  ..., 48.8150, 48.8152, 48.8112],\n",
       "        [48.9519, 48.9519, 48.9519,  ..., 48.9525, 48.9524, 48.9484],\n",
       "        [53.8393, 53.8394, 53.8393,  ..., 53.8398, 53.8386, 53.8354]],\n",
       "       grad_fn=<NormBackward1>)"
      ]
     },
     "execution_count": 333,
     "metadata": {},
     "output_type": "execute_result"
    }
   ],
   "source": [
    "gmm.metric(ran.view(-1,784)[:,None,:], gmm.mu[None,:,:])"
   ]
  },
  {
   "cell_type": "code",
   "execution_count": 335,
   "metadata": {},
   "outputs": [
    {
     "data": {
      "text/plain": [
       "(tensor([0.0707, 0.0627, 0.0796, 0.0504, 0.0903, 0.1198, 0.0853, 0.4259, 0.6472,\n",
       "         0.9627, 0.0902, 0.0601, 0.0643, 0.1777, 0.0488, 0.0708, 0.2440, 0.0683,\n",
       "         0.1982, 0.4192, 0.0528, 0.3769, 0.5640, 0.0582, 0.0670, 0.1479, 0.7373,\n",
       "         0.3611, 0.0894, 0.0624, 0.0722, 0.1927, 0.2182, 0.0482, 0.3320, 0.0494,\n",
       "         0.2024, 0.1181, 0.0659, 0.6452, 0.4263, 0.0671, 0.0550, 0.0739, 0.6195,\n",
       "         0.0930, 0.1558, 0.0608, 0.0874, 0.7284, 0.1417, 0.0561, 0.1678, 0.2834,\n",
       "         0.1614, 0.0936, 0.0982, 0.1275, 0.0875, 0.6482, 0.9518, 0.0917, 0.0751,\n",
       "         0.3522, 0.7923, 0.0798, 0.2354, 0.7889, 0.0881, 0.9894, 0.1023, 0.2299,\n",
       "         0.0557, 0.0660, 0.3066, 0.8635, 0.1044, 0.1382, 0.1154, 0.2107, 0.3878,\n",
       "         0.1034, 0.1309, 0.0630, 0.0703, 0.2390, 0.0706, 0.0567, 0.3768, 0.1396,\n",
       "         0.0592, 0.2037, 0.3941, 0.5489, 0.1695, 0.7786, 0.0678, 0.2146, 0.1447,\n",
       "         0.9466], grad_fn=<MinBackward0>),\n",
       " tensor([74, 74, 74, 74, 74, 74, 74, 74, 74, 74,  5, 74, 74, 74, 74, 74, 74, 74,\n",
       "          5, 74, 74, 74,  5,  5, 74, 74,  5, 74, 74, 74,  5, 74, 74, 74, 74, 74,\n",
       "          5, 74, 74, 74, 74, 74, 74,  5, 74, 74, 74, 74,  5,  2, 74, 74, 74, 74,\n",
       "         74, 74, 74, 74, 74, 74, 74, 74, 74,  5,  5, 74, 74,  5,  5, 74,  5,  5,\n",
       "         74, 74, 74, 74, 74,  5, 74,  5, 74, 74, 74, 74,  5,  5, 74, 74,  5, 74,\n",
       "         74, 74, 74, 74, 74,  5, 74,  5, 74,  5]))"
      ]
     },
     "execution_count": 335,
     "metadata": {},
     "output_type": "execute_result"
    }
   ],
   "source": [
    "gmm.metric(data.view(-1,784).cpu()[:,None,:], gmm.mu[None,:,:]).min(0)"
   ]
  },
  {
   "cell_type": "code",
   "execution_count": 336,
   "metadata": {},
   "outputs": [],
   "source": [
    "model = torch.load('Checkpoints/gmm__PCAMNIST_lam3181.0263920898437_n100_lr0.0001_augm_flagTrue_train_typeCEDA_GMMgrad_vars mu var.pth')"
   ]
  },
  {
   "cell_type": "code",
   "execution_count": 337,
   "metadata": {},
   "outputs": [
    {
     "data": {
      "text/plain": [
       "RobustModel(\n",
       "  (base_model): LeNetMadry(\n",
       "    (conv1): Conv2d(1, 32, kernel_size=(5, 5), stride=(1, 1), padding=(2, 2))\n",
       "    (conv2): Conv2d(32, 64, kernel_size=(5, 5), stride=(1, 1), padding=(2, 2))\n",
       "    (fc1): Linear(in_features=3136, out_features=1024, bias=True)\n",
       "    (fc2): Linear(in_features=1024, out_features=10, bias=True)\n",
       "  )\n",
       "  (mm): GMM(\n",
       "    (metric): PCAMetric()\n",
       "  )\n",
       ")"
      ]
     },
     "execution_count": 337,
     "metadata": {},
     "output_type": "execute_result"
    }
   ],
   "source": [
    "model.to(device)"
   ]
  },
  {
   "cell_type": "code",
   "execution_count": 338,
   "metadata": {},
   "outputs": [
    {
     "data": {
      "text/plain": [
       "tensor([[-2.3025, -2.3025, -2.3025, -2.3025, -2.3025, -2.3025, -2.3025, -2.3025,\n",
       "         -2.3025, -2.3025],\n",
       "        [-2.3025, -2.3025, -2.3025, -2.3025, -2.3025, -2.3025, -2.3025, -2.3025,\n",
       "         -2.3025, -2.3025],\n",
       "        [-2.3025, -2.3025, -2.3025, -2.3025, -2.3025, -2.3025, -2.3025, -2.3025,\n",
       "         -2.3025, -2.3025],\n",
       "        [-2.3025, -2.3025, -2.3025, -2.3025, -2.3025, -2.3025, -2.3025, -2.3025,\n",
       "         -2.3025, -2.3025],\n",
       "        [-2.3025, -2.3025, -2.3025, -2.3025, -2.3025, -2.3025, -2.3025, -2.3025,\n",
       "         -2.3025, -2.3025],\n",
       "        [-2.3025, -2.3025, -2.3025, -2.3025, -2.3025, -2.3025, -2.3025, -2.3025,\n",
       "         -2.3025, -2.3025],\n",
       "        [-2.3025, -2.3025, -2.3025, -2.3025, -2.3025, -2.3025, -2.3025, -2.3025,\n",
       "         -2.3025, -2.3025],\n",
       "        [-2.3025, -2.3025, -2.3025, -2.3025, -2.3025, -2.3025, -2.3025, -2.3025,\n",
       "         -2.3025, -2.3025],\n",
       "        [-2.3025, -2.3025, -2.3025, -2.3025, -2.3025, -2.3025, -2.3025, -2.3025,\n",
       "         -2.3025, -2.3025],\n",
       "        [-2.3025, -2.3025, -2.3025, -2.3025, -2.3025, -2.3025, -2.3025, -2.3025,\n",
       "         -2.3025, -2.3025]], device='cuda:0', grad_fn=<SubBackward0>)"
      ]
     },
     "execution_count": 338,
     "metadata": {},
     "output_type": "execute_result"
    }
   ],
   "source": [
    "model(torch.rand(10,1,28,28,device=device))"
   ]
  },
  {
   "cell_type": "code",
   "execution_count": 353,
   "metadata": {},
   "outputs": [
    {
     "data": {
      "text/plain": [
       "tensor([0.1002, 0.1002, 0.1002, 0.1002, 0.1002, 0.1002, 0.1002, 0.1002, 0.1002,\n",
       "        0.1002, 0.1002, 0.1002, 0.1002, 0.1002, 0.1002], device='cuda:0',\n",
       "       grad_fn=<ExpBackward>)"
      ]
     },
     "execution_count": 353,
     "metadata": {},
     "output_type": "execute_result"
    }
   ],
   "source": [
    "model(.00001*torch.rand(15,1,28,28,device=device)).max(1)[0].exp()"
   ]
  },
  {
   "cell_type": "code",
   "execution_count": null,
   "metadata": {},
   "outputs": [],
   "source": [
    "model.mm.metric()"
   ]
  }
 ],
 "metadata": {
  "kernelspec": {
   "display_name": "Python 3",
   "language": "python",
   "name": "python3"
  },
  "language_info": {
   "codemirror_mode": {
    "name": "ipython",
    "version": 3
   },
   "file_extension": ".py",
   "mimetype": "text/x-python",
   "name": "python",
   "nbconvert_exporter": "python",
   "pygments_lexer": "ipython3",
   "version": "3.5.2"
  }
 },
 "nbformat": 4,
 "nbformat_minor": 2
}
