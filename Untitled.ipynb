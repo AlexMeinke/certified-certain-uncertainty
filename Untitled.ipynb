{
 "cells": [
  {
   "cell_type": "code",
   "execution_count": 1,
   "metadata": {},
   "outputs": [],
   "source": [
    "import torch\n",
    "import torch.nn as nn\n",
    "import torch.nn.functional as F\n",
    "import torch.optim as optim\n",
    "\n",
    "import matplotlib.pyplot as plt\n",
    "import numpy as np\n",
    "import pandas as pd\n",
    "\n",
    "from importlib import reload\n",
    "import matplotlib.pyplot as plt\n",
    "\n",
    "import utils.models as models\n",
    "import utils.plotting as plotting\n",
    "import utils.dataloaders as dl\n",
    "import utils.traintest as tt\n",
    "import utils.adversarial as adv\n",
    "import utils.eval as ev\n",
    "import model_params as params\n",
    "import utils.resnet_orig as resnet\n",
    "import utils.gmm_helpers as gmm_helpers\n",
    "\n",
    "from tensorboardX import SummaryWriter\n",
    "%load_ext line_profiler"
   ]
  },
  {
   "cell_type": "code",
   "execution_count": 13,
   "metadata": {},
   "outputs": [
    {
     "name": "stderr",
     "output_type": "stream",
     "text": [
      "/usr/local/lib/python3.5/dist-packages/torch/serialization.py:435: SourceChangeWarning: source code of class 'torch.nn.modules.conv.Conv2d' has changed. you can retrieve the original source code by accessing the object's source attribute or set `torch.nn.Module.dump_patches = True` and use the patch tool to revert the changes.\n",
      "  warnings.warn(msg, SourceChangeWarning)\n",
      "/usr/local/lib/python3.5/dist-packages/torch/serialization.py:435: SourceChangeWarning: source code of class 'torch.nn.modules.batchnorm.BatchNorm2d' has changed. you can retrieve the original source code by accessing the object's source attribute or set `torch.nn.Module.dump_patches = True` and use the patch tool to revert the changes.\n",
      "  warnings.warn(msg, SourceChangeWarning)\n",
      "/usr/local/lib/python3.5/dist-packages/torch/serialization.py:435: SourceChangeWarning: source code of class 'torch.nn.modules.linear.Linear' has changed. you can retrieve the original source code by accessing the object's source attribute or set `torch.nn.Module.dump_patches = True` and use the patch tool to revert the changes.\n",
      "  warnings.warn(msg, SourceChangeWarning)\n"
     ]
    }
   ],
   "source": [
    "file = 'base_FMNIST_lr0.001_augm_flagTrue_train_typeACET_steps40.pth'\n",
    "model = torch.load('Checkpoints/' + file).to(device)"
   ]
  },
  {
   "cell_type": "code",
   "execution_count": 472,
   "metadata": {},
   "outputs": [],
   "source": [
    "data, label = enumerate(dl.FMNIST(train=False)).__next__()[1]\n",
    "data = data.to(device)\n",
    "label = label.to(device)"
   ]
  },
  {
   "cell_type": "code",
   "execution_count": 476,
   "metadata": {},
   "outputs": [
    {
     "data": {
      "text/plain": [
       "(0.6665, 0.8274738502502441, 1.5404154052734376)"
      ]
     },
     "execution_count": 476,
     "metadata": {},
     "output_type": "execute_result"
    }
   ],
   "source": [
    "tt.test(model, device, dl.FMNIST(train=False))"
   ]
  },
  {
   "cell_type": "code",
   "execution_count": 531,
   "metadata": {},
   "outputs": [],
   "source": [
    "correct, av_conf, test_loss = tt.test(base_model, device, model_params.test_loader)"
   ]
  },
  {
   "cell_type": "code",
   "execution_count": 532,
   "metadata": {},
   "outputs": [
    {
     "data": {
      "text/plain": [
       "0.7162"
      ]
     },
     "execution_count": 532,
     "metadata": {},
     "output_type": "execute_result"
    }
   ],
   "source": [
    "correct"
   ]
  },
  {
   "cell_type": "code",
   "execution_count": 5,
   "metadata": {},
   "outputs": [],
   "source": [
    "model_params = params.params_dict['FMNIST'](augm_flag=False, batch_size=128)\n",
    "device = torch.device('cuda:6')\n",
    "\n",
    "file = 'gmm__PCAFMNIST_lam0.0_n100_lr0.001_augm_flagTrue_train_typeCEDA_GMMgrad_vars mu var.pth'\n",
    "model = torch.load('Checkpoints/' + file).to(device)"
   ]
  },
  {
   "cell_type": "code",
   "execution_count": 6,
   "metadata": {},
   "outputs": [],
   "source": [
    "data, label = enumerate(model_params.train_loader).__next__()[1]\n",
    "data, label = data.to(device), label.to(device)"
   ]
  },
  {
   "cell_type": "code",
   "execution_count": 171,
   "metadata": {},
   "outputs": [
    {
     "data": {
      "text/plain": [
       "(0.8834, 0.8825927032470703, 0.3177526291847229)"
      ]
     },
     "execution_count": 171,
     "metadata": {},
     "output_type": "execute_result"
    }
   ],
   "source": [
    "tt.test(base_model, device, model_params.test_loader)"
   ]
  },
  {
   "cell_type": "code",
   "execution_count": 176,
   "metadata": {},
   "outputs": [],
   "source": [
    "model_params = params.params_dict['FMNIST'](augm_flag=False, batch_size=128)"
   ]
  },
  {
   "cell_type": "code",
   "execution_count": 19,
   "metadata": {},
   "outputs": [
    {
     "name": "stdout",
     "output_type": "stream",
     "text": [
      "Using downloaded and verified file: ../data/test_32x32.mat\n"
     ]
    }
   ],
   "source": [
    "dataset = 'CIFAR10'\n",
    "device = torch.device('cuda:0')\n",
    "model_params = params.params_dict[dataset](augm_flag=True, batch_size=128)"
   ]
  },
  {
   "cell_type": "code",
   "execution_count": 37,
   "metadata": {},
   "outputs": [
    {
     "name": "stderr",
     "output_type": "stream",
     "text": [
      "/usr/local/lib/python3.5/dist-packages/torch/serialization.py:435: SourceChangeWarning: source code of class 'torch.nn.modules.conv.Conv2d' has changed. you can retrieve the original source code by accessing the object's source attribute or set `torch.nn.Module.dump_patches = True` and use the patch tool to revert the changes.\n",
      "  warnings.warn(msg, SourceChangeWarning)\n",
      "/usr/local/lib/python3.5/dist-packages/torch/serialization.py:435: SourceChangeWarning: source code of class 'torch.nn.modules.batchnorm.BatchNorm2d' has changed. you can retrieve the original source code by accessing the object's source attribute or set `torch.nn.Module.dump_patches = True` and use the patch tool to revert the changes.\n",
      "  warnings.warn(msg, SourceChangeWarning)\n",
      "/usr/local/lib/python3.5/dist-packages/torch/serialization.py:435: SourceChangeWarning: source code of class 'torch.nn.modules.linear.Linear' has changed. you can retrieve the original source code by accessing the object's source attribute or set `torch.nn.Module.dump_patches = True` and use the patch tool to revert the changes.\n",
      "  warnings.warn(msg, SourceChangeWarning)\n"
     ]
    }
   ],
   "source": [
    "file_gmm = 'gmm_CIFAR10_n100_data_used50000_augm_flagTrue_alg_scikit_PCA.pth'\n",
    "file_base = 'base_CIFAR10_lr0.1_augm_flagTrue_train_typeCEDA.pth'\n",
    "file_joint = 'gmm__PCACIFAR10_lam0.0_n100_lr0.01_lrgmm1e-05_augm_flagTrue_train_typeCEDA_GMMgrad_vars mu var.pth'\n",
    "\n",
    "model_joint = torch.load('SavedModels/' + file_joint).to(device)\n",
    "base_model = torch.load('SavedModels/base/' + file_base)\n",
    "gmm = torch.load('SavedModels/GMM/' + file_gmm)"
   ]
  },
  {
   "cell_type": "code",
   "execution_count": 4,
   "metadata": {},
   "outputs": [
    {
     "data": {
      "text/plain": [
       "(9316,\n",
       " tensor(11.0766, grad_fn=<AddBackward0>),\n",
       " tensor(-379785.9062, grad_fn=<AddBackward0>),\n",
       " tensor(115.1291, grad_fn=<AddBackward0>),\n",
       " tensor(34.6573, grad_fn=<AddBackward0>))"
      ]
     },
     "execution_count": 4,
     "metadata": {},
     "output_type": "execute_result"
    }
   ],
   "source": [
    "tt.test_CEDA_GMM(model_joint, 'cpu', model_params.test_loader)"
   ]
  },
  {
   "cell_type": "code",
   "execution_count": 32,
   "metadata": {},
   "outputs": [],
   "source": [
    "model = models.RobustModel(base_model, gmm, loglam=0., dim=model_params.dim).to(device)"
   ]
  },
  {
   "cell_type": "code",
   "execution_count": 24,
   "metadata": {},
   "outputs": [
    {
     "data": {
      "text/plain": [
       "(9314,\n",
       " tensor(11.0766, device='cuda:0'),\n",
       " tensor(-379785.9062, device='cuda:0'),\n",
       " tensor(115.1291, device='cuda:0'),\n",
       " tensor(34.6573, device='cuda:0'))"
      ]
     },
     "execution_count": 24,
     "metadata": {},
     "output_type": "execute_result"
    }
   ],
   "source": [
    "tt.test_CEDA_GMM(model_joint.to(device), device, model_params.test_loader)"
   ]
  },
  {
   "cell_type": "code",
   "execution_count": 25,
   "metadata": {},
   "outputs": [
    {
     "data": {
      "text/plain": [
       "(9441,\n",
       " tensor(9.7928, device='cuda:0'),\n",
       " tensor(-379785.9062, device='cuda:0'),\n",
       " tensor(115.1291, device='cuda:0'),\n",
       " tensor(34.6573, device='cuda:0'))"
      ]
     },
     "execution_count": 25,
     "metadata": {},
     "output_type": "execute_result"
    }
   ],
   "source": [
    "tt.test_CEDA_GMM(model, device, model_params.test_loader)"
   ]
  },
  {
   "cell_type": "code",
   "execution_count": 33,
   "metadata": {},
   "outputs": [
    {
     "data": {
      "text/plain": [
       "(9441,\n",
       " tensor(9.7929, device='cuda:0'),\n",
       " tensor(-379166.4688, device='cuda:0'),\n",
       " tensor(115.1291, device='cuda:0'),\n",
       " tensor(34.6573, device='cuda:0'))"
      ]
     },
     "execution_count": 33,
     "metadata": {},
     "output_type": "execute_result"
    }
   ],
   "source": [
    "tt.test_CEDA_GMM(model, device, model_params.test_loader)"
   ]
  },
  {
   "cell_type": "code",
   "execution_count": 38,
   "metadata": {},
   "outputs": [],
   "source": [
    "lr = 1e-5\n",
    "lr_gmm = 0.\n",
    "model = model_joint\n",
    "\n",
    "param_groups = [{'params':model.mm.mu,'lr':lr_gmm, 'weight_decay':0.},\n",
    "                {'params':model.mm.logvar,'lr':lr_gmm, 'weight_decay':0.},\n",
    "                {'params':model.base_model.parameters(),'lr':lr, 'weight_decay':5e-4}]\n",
    "optimizer = optim.SGD(param_groups,  momentum=.9)"
   ]
  },
  {
   "cell_type": "code",
   "execution_count": 39,
   "metadata": {},
   "outputs": [
    {
     "name": "stdout",
     "output_type": "stream",
     "text": [
      "Train Epoch: 0 [0/50000 (0%)]\tLoss: -3752.531494\n",
      "Train Epoch: 0 [25600/50000 (51%)]\tLoss: -3877.482910\n"
     ]
    }
   ],
   "source": [
    "for epoch in range(1):\n",
    "    trainloss = tt.train_CEDA_gmm(model, device, model_params.train_loader, \n",
    "                                  model_params.loaders[-1][1], \n",
    "                                  optimizer, epoch, verbose=200)"
   ]
  },
  {
   "cell_type": "code",
   "execution_count": 9,
   "metadata": {},
   "outputs": [],
   "source": [
    "like_in = torch.logsumexp( model_joint.mm(data.view(data.shape[0], -1)), 0 )"
   ]
  },
  {
   "cell_type": "code",
   "execution_count": 26,
   "metadata": {},
   "outputs": [
    {
     "data": {
      "text/plain": [
       "(9434,\n",
       " tensor(9.7975, device='cuda:2'),\n",
       " tensor(-379476.1875, device='cuda:2'),\n",
       " tensor(115.1291, device='cuda:2'),\n",
       " tensor(34.6573, device='cuda:2'))"
      ]
     },
     "execution_count": 26,
     "metadata": {},
     "output_type": "execute_result"
    }
   ],
   "source": [
    "model = model.to('cuda:2')\n",
    "tt.test_CEDA_GMM(model, 'cuda:2', model_params.test_loader)"
   ]
  },
  {
   "cell_type": "code",
   "execution_count": 27,
   "metadata": {},
   "outputs": [],
   "source": [
    "data, label = enumerate(model_params.test_loader).__next__()[1]\n",
    "data, label = data.to(device), label.to(device)"
   ]
  },
  {
   "cell_type": "code",
   "execution_count": 40,
   "metadata": {},
   "outputs": [
    {
     "data": {
      "text/plain": [
       "(9322,\n",
       " tensor(11.1107, device='cuda:0'),\n",
       " tensor(-379785.9062, device='cuda:0'),\n",
       " tensor(115.1291, device='cuda:0'),\n",
       " tensor(34.6573, device='cuda:0'))"
      ]
     },
     "execution_count": 40,
     "metadata": {},
     "output_type": "execute_result"
    }
   ],
   "source": [
    "tt.test_CEDA_GMM(model, device, model_params.test_loader)"
   ]
  },
  {
   "cell_type": "code",
   "execution_count": 15,
   "metadata": {},
   "outputs": [],
   "source": [
    "dataset = 'FMNIST'\n",
    "device = torch.device('cuda:0')\n",
    "model_params = params.params_dict[dataset](augm_flag=True, batch_size=128)"
   ]
  },
  {
   "cell_type": "code",
   "execution_count": 41,
   "metadata": {},
   "outputs": [
    {
     "data": {
      "text/plain": [
       "(9322,\n",
       " tensor(11.1107, device='cuda:0'),\n",
       " tensor(-379785.9062, device='cuda:0'),\n",
       " tensor(115.1291, device='cuda:0'),\n",
       " tensor(34.6573, device='cuda:0'))"
      ]
     },
     "execution_count": 41,
     "metadata": {},
     "output_type": "execute_result"
    }
   ],
   "source": [
    "tt.test_CEDA_GMM(model, device, model_params.test_loader)"
   ]
  },
  {
   "cell_type": "code",
   "execution_count": 5,
   "metadata": {},
   "outputs": [
    {
     "name": "stderr",
     "output_type": "stream",
     "text": [
      "/usr/local/lib/python3.5/dist-packages/torch/serialization.py:435: SourceChangeWarning: source code of class 'torch.nn.modules.conv.Conv2d' has changed. you can retrieve the original source code by accessing the object's source attribute or set `torch.nn.Module.dump_patches = True` and use the patch tool to revert the changes.\n",
      "  warnings.warn(msg, SourceChangeWarning)\n",
      "/usr/local/lib/python3.5/dist-packages/torch/serialization.py:435: SourceChangeWarning: source code of class 'torch.nn.modules.batchnorm.BatchNorm2d' has changed. you can retrieve the original source code by accessing the object's source attribute or set `torch.nn.Module.dump_patches = True` and use the patch tool to revert the changes.\n",
      "  warnings.warn(msg, SourceChangeWarning)\n",
      "/usr/local/lib/python3.5/dist-packages/torch/serialization.py:435: SourceChangeWarning: source code of class 'torch.nn.modules.linear.Linear' has changed. you can retrieve the original source code by accessing the object's source attribute or set `torch.nn.Module.dump_patches = True` and use the patch tool to revert the changes.\n",
      "  warnings.warn(msg, SourceChangeWarning)\n"
     ]
    }
   ],
   "source": [
    "dataset = 'FMNIST'\n",
    "device = torch.device('cuda:1')\n",
    "model_params = params.params_dict[dataset](augm_flag=True, batch_size=128)\n",
    "\n",
    "file = 'base_FMNIST_lr0.1_augm_flagTrue_train_typeCEDA.pth'\n",
    "model = torch.load('Checkpoints/' + file).to(device)\n",
    "\n",
    "optimizer = optim.SGD(model.parameters(), lr=0.1, momentum=.9)"
   ]
  },
  {
   "cell_type": "code",
   "execution_count": 6,
   "metadata": {
    "scrolled": true
   },
   "outputs": [
    {
     "name": "stdout",
     "output_type": "stream",
     "text": [
      "Train Epoch: 0 [0/60000 (0%)]\tLoss: 2.017998\n",
      "Train Epoch: 0 [12800/60000 (21%)]\tLoss: 1.376397\n"
     ]
    },
    {
     "ename": "KeyboardInterrupt",
     "evalue": "",
     "output_type": "error",
     "traceback": [
      "\u001b[0;31m---------------------------------------------------------------------------\u001b[0m",
      "\u001b[0;31mKeyboardInterrupt\u001b[0m                         Traceback (most recent call last)",
      "\u001b[0;32m<ipython-input-6-e06fc7b9dc87>\u001b[0m in \u001b[0;36m<module>\u001b[0;34m()\u001b[0m\n\u001b[1;32m      2\u001b[0m     trainloss = tt.train_CEDA(model, device, model_params.train_loader, \n\u001b[1;32m      3\u001b[0m                                   \u001b[0mmodel_params\u001b[0m\u001b[0;34m.\u001b[0m\u001b[0mloaders\u001b[0m\u001b[0;34m[\u001b[0m\u001b[0;34m-\u001b[0m\u001b[0;36m1\u001b[0m\u001b[0;34m]\u001b[0m\u001b[0;34m[\u001b[0m\u001b[0;36m1\u001b[0m\u001b[0;34m]\u001b[0m\u001b[0;34m,\u001b[0m\u001b[0;34m\u001b[0m\u001b[0m\n\u001b[0;32m----> 4\u001b[0;31m                                   optimizer, epoch, verbose=100)\n\u001b[0m",
      "\u001b[0;32m~/project/notebooks/gmm-robust/utils/traintest.py\u001b[0m in \u001b[0;36mtrain_CEDA\u001b[0;34m(model, device, train_loader, noise_loader, optimizer, epoch, lam, steps, epsilon, verbose)\u001b[0m\n\u001b[1;32m     71\u001b[0m         \u001b[0moptimizer\u001b[0m\u001b[0;34m.\u001b[0m\u001b[0mstep\u001b[0m\u001b[0;34m(\u001b[0m\u001b[0;34m)\u001b[0m\u001b[0;34m\u001b[0m\u001b[0m\n\u001b[1;32m     72\u001b[0m \u001b[0;34m\u001b[0m\u001b[0m\n\u001b[0;32m---> 73\u001b[0;31m         \u001b[0mtrain_loss\u001b[0m \u001b[0;34m+=\u001b[0m \u001b[0mloss\u001b[0m\u001b[0;34m.\u001b[0m\u001b[0mitem\u001b[0m\u001b[0;34m(\u001b[0m\u001b[0;34m)\u001b[0m\u001b[0;34m\u001b[0m\u001b[0m\n\u001b[0m\u001b[1;32m     74\u001b[0m         \u001b[0m_\u001b[0m\u001b[0;34m,\u001b[0m \u001b[0mpredicted\u001b[0m \u001b[0;34m=\u001b[0m \u001b[0moutput\u001b[0m\u001b[0;34m.\u001b[0m\u001b[0mmax\u001b[0m\u001b[0;34m(\u001b[0m\u001b[0;36m1\u001b[0m\u001b[0;34m)\u001b[0m\u001b[0;34m\u001b[0m\u001b[0m\n\u001b[1;32m     75\u001b[0m         \u001b[0mcorrect\u001b[0m \u001b[0;34m+=\u001b[0m \u001b[0mpredicted\u001b[0m\u001b[0;34m.\u001b[0m\u001b[0meq\u001b[0m\u001b[0;34m(\u001b[0m\u001b[0mtarget\u001b[0m\u001b[0;34m)\u001b[0m\u001b[0;34m.\u001b[0m\u001b[0msum\u001b[0m\u001b[0;34m(\u001b[0m\u001b[0;34m)\u001b[0m\u001b[0;34m.\u001b[0m\u001b[0mitem\u001b[0m\u001b[0;34m(\u001b[0m\u001b[0;34m)\u001b[0m\u001b[0;34m\u001b[0m\u001b[0m\n",
      "\u001b[0;31mKeyboardInterrupt\u001b[0m: "
     ]
    }
   ],
   "source": [
    "for epoch in range(1):\n",
    "    trainloss = tt.train_CEDA(model, device, model_params.train_loader, \n",
    "                                  model_params.loaders[-1][1], \n",
    "                                  optimizer, epoch, verbose=100)"
   ]
  },
  {
   "cell_type": "code",
   "execution_count": 11,
   "metadata": {},
   "outputs": [],
   "source": [
    "file = 'gmm_FMNIST_n100_data_used60000_augm_flagTrue_alg_scikit_PCA.pth'\n",
    "gmm = torch.load('SavedModels/GMM/' + file).cpu()"
   ]
  },
  {
   "cell_type": "code",
   "execution_count": 19,
   "metadata": {},
   "outputs": [
    {
     "data": {
      "text/plain": [
       "[<matplotlib.lines.Line2D at 0x7f32d6967668>]"
      ]
     },
     "execution_count": 19,
     "metadata": {},
     "output_type": "execute_result"
    },
    {
     "data": {
      "image/png": "[encoded data removed]",
      "text/plain": [
       "<Figure size 432x288 with 1 Axes>"
      ]
     },
     "metadata": {},
     "output_type": "display_data"
    }
   ],
   "source": [
    "plt.plot(np.log(np.arange(1,785)), gmm.metric.singular_values.log().numpy())"
   ]
  },
  {
   "cell_type": "code",
   "execution_count": 20,
   "metadata": {},
   "outputs": [
    {
     "data": {
      "text/plain": [
       "<module 'utils.adversarial' from '/home/alexm/project/notebooks/gmm-robust/utils/adversarial.py'>"
      ]
     },
     "execution_count": 20,
     "metadata": {},
     "output_type": "execute_result"
    }
   ],
   "source": [
    "reload(adv)"
   ]
  },
  {
   "cell_type": "code",
   "execution_count": 21,
   "metadata": {},
   "outputs": [
    {
     "name": "stdout",
     "output_type": "stream",
     "text": [
      "Using downloaded and verified file: ../data/train_32x32.mat\n",
      "Using downloaded and verified file: ../data/train_32x32.mat\n",
      "Using downloaded and verified file: ../data/test_32x32.mat\n"
     ]
    },
    {
     "name": "stderr",
     "output_type": "stream",
     "text": [
      "/usr/local/lib/python3.5/dist-packages/torch/serialization.py:435: SourceChangeWarning: source code of class 'torch.nn.modules.conv.Conv2d' has changed. you can retrieve the original source code by accessing the object's source attribute or set `torch.nn.Module.dump_patches = True` and use the patch tool to revert the changes.\n",
      "  warnings.warn(msg, SourceChangeWarning)\n",
      "/usr/local/lib/python3.5/dist-packages/torch/serialization.py:435: SourceChangeWarning: source code of class 'torch.nn.modules.batchnorm.BatchNorm2d' has changed. you can retrieve the original source code by accessing the object's source attribute or set `torch.nn.Module.dump_patches = True` and use the patch tool to revert the changes.\n",
      "  warnings.warn(msg, SourceChangeWarning)\n",
      "/usr/local/lib/python3.5/dist-packages/torch/serialization.py:435: SourceChangeWarning: source code of class 'torch.nn.modules.linear.Linear' has changed. you can retrieve the original source code by accessing the object's source attribute or set `torch.nn.Module.dump_patches = True` and use the patch tool to revert the changes.\n",
      "  warnings.warn(msg, SourceChangeWarning)\n"
     ]
    }
   ],
   "source": [
    "device = torch.device('cuda:3')\n",
    "dataset = 'SVHN'\n",
    "\n",
    "model_params = params.params_dict[dataset](augm_flag=True, batch_size=128)\n",
    "\n",
    "file_joint = 'gmm__PCASVHN_lam0.0_n100_lr0.1_lrgmm1e-06_augm_flagTrue_train_typeCEDA_GMMgrad_vars mu var.pth'\n",
    "file_base = 'base_SVHN_lr0.1_augm_flagTrue_train_typeplain.pth'\n",
    "file_CEDA = 'base_SVHN_lr0.1_augm_flagTrue_train_typeCEDA.pth'\n",
    "#file_ACET = 'base_FMNIST_lr0.001_augm_flagTrue_train_typeACET_steps40.pth'\n",
    "\n",
    "model_joint = torch.load('SavedModels/' + file_joint).to(device)\n",
    "base_model = torch.load('SavedModels/base/' + file_base).to(device)\n",
    "CEDA_model = torch.load('SavedModels/base/' + file_CEDA).to(device)\n",
    "#ACET_model = torch.load('SavedModels/base/' + file_ACET).to(device)\n",
    "\n",
    "shape = enumerate(model_params.test_loader).__next__()[1][0][0].shape\n",
    "gmm = model_joint.mm\n",
    "model_list = [base_model, CEDA_model, model_joint]\n",
    "lam = model_joint.loglam.exp().item()"
   ]
  },
  {
   "cell_type": "code",
   "execution_count": 44,
   "metadata": {},
   "outputs": [],
   "source": [
    "seed = torch.rand(10, 3, 32, 32, device=device)\n",
    "epsilon = 28.*torch.ones(10, device=device)\n",
    "pca = models.MyPCA(model_joint.mm.metric.comp_vecs.t(), model_joint.mm.metric.singular_values, seed[0].shape)\n"
   ]
  },
  {
   "cell_type": "code",
   "execution_count": 45,
   "metadata": {},
   "outputs": [],
   "source": [
    "adv_noise, loss = adv.gen_pca_noise(CEDA_model, device, seed, pca, epsilon, restarts=10, perturb=True, steps=200, alpha=1.)"
   ]
  },
  {
   "cell_type": "code",
   "execution_count": 46,
   "metadata": {},
   "outputs": [
    {
     "data": {
      "image/png": "[encoded data removed]",
      "text/plain": [
       "<Figure size 432x288 with 10 Axes>"
      ]
     },
     "metadata": {},
     "output_type": "display_data"
    },
    {
     "name": "stdout",
     "output_type": "stream",
     "text": [
      "\n",
      "\n"
     ]
    }
   ],
   "source": [
    "y = CEDA_model(seed)\n",
    "y2 = CEDA_model(adv_noise)\n",
    "\n",
    "plotting.plot_samples([y, y2], adv_noise, dataset='SVHN')"
   ]
  },
  {
   "cell_type": "code",
   "execution_count": 47,
   "metadata": {},
   "outputs": [
    {
     "name": "stdout",
     "output_type": "stream",
     "text": [
      "Using downloaded and verified file: ../data/test_32x32.mat\n"
     ]
    },
    {
     "name": "stderr",
     "output_type": "stream",
     "text": [
      "/usr/local/lib/python3.5/dist-packages/torch/serialization.py:435: SourceChangeWarning: source code of class 'torch.nn.modules.conv.Conv2d' has changed. you can retrieve the original source code by accessing the object's source attribute or set `torch.nn.Module.dump_patches = True` and use the patch tool to revert the changes.\n",
      "  warnings.warn(msg, SourceChangeWarning)\n",
      "/usr/local/lib/python3.5/dist-packages/torch/serialization.py:435: SourceChangeWarning: source code of class 'torch.nn.modules.batchnorm.BatchNorm2d' has changed. you can retrieve the original source code by accessing the object's source attribute or set `torch.nn.Module.dump_patches = True` and use the patch tool to revert the changes.\n",
      "  warnings.warn(msg, SourceChangeWarning)\n",
      "/usr/local/lib/python3.5/dist-packages/torch/serialization.py:435: SourceChangeWarning: source code of class 'torch.nn.modules.linear.Linear' has changed. you can retrieve the original source code by accessing the object's source attribute or set `torch.nn.Module.dump_patches = True` and use the patch tool to revert the changes.\n",
      "  warnings.warn(msg, SourceChangeWarning)\n"
     ]
    }
   ],
   "source": [
    "device = torch.device('cuda:3')\n",
    "dataset = 'CIFAR10'\n",
    "\n",
    "model_params = params.params_dict[dataset](augm_flag=True, batch_size=128)\n",
    "\n",
    "file_joint = 'gmm__PCACIFAR10_lam0.0_n100_lr0.1_lrgmm1e-05_augm_flagTrue_train_typeCEDA_GMMgrad_vars mu var.pth'\n",
    "file_base = 'base_CIFAR10_lr0.1_augm_flagTrue_train_typeplain.pth'\n",
    "file_CEDA = 'base_CIFAR10_lr0.1_augm_flagTrue_train_typeCEDA.pth'\n",
    "#file_ACET = 'base_FMNIST_lr0.001_augm_flagTrue_train_typeACET_steps40.pth'\n",
    "\n",
    "model_joint = torch.load('SavedModels/' + file_joint).to(device)\n",
    "base_model = torch.load('SavedModels/base/' + file_base).to(device)\n",
    "CEDA_model = torch.load('SavedModels/base/' + file_CEDA).to(device)\n",
    "#ACET_model = torch.load('SavedModels/base/' + file_ACET).to(device)\n",
    "\n",
    "shape = enumerate(model_params.test_loader).__next__()[1][0][0].shape\n",
    "gmm = model_joint.mm \n",
    "model_list = [base_model, CEDA_model, model_joint]\n",
    "lam = model_joint.loglam.exp().item()"
   ]
  },
  {
   "cell_type": "code",
   "execution_count": 49,
   "metadata": {},
   "outputs": [],
   "source": [
    "seed = torch.rand(10, 3, 32, 32, device=device)\n",
    "epsilon = 28.*torch.ones(10, device=device)\n",
    "pca = models.MyPCA(model_joint.mm.metric.comp_vecs.t(), model_joint.mm.metric.singular_values, seed[0].shape)"
   ]
  },
  {
   "cell_type": "code",
   "execution_count": 50,
   "metadata": {},
   "outputs": [],
   "source": [
    "adv_noise, loss = adv.gen_pca_noise(CEDA_model, device, seed, pca, epsilon, restarts=10, perturb=True, steps=200, alpha=1.)"
   ]
  },
  {
   "cell_type": "code",
   "execution_count": 51,
   "metadata": {},
   "outputs": [
    {
     "data": {
      "image/png": "[encoded data removed]",
      "text/plain": [
       "<Figure size 432x288 with 10 Axes>"
      ]
     },
     "metadata": {},
     "output_type": "display_data"
    },
    {
     "name": "stdout",
     "output_type": "stream",
     "text": [
      "\n",
      "\n"
     ]
    }
   ],
   "source": [
    "y = CEDA_model(seed)\n",
    "y2 = CEDA_model(adv_noise)\n",
    "\n",
    "plotting.plot_samples([y, y2], adv_noise, dataset='CIFAR10')"
   ]
  },
  {
   "cell_type": "code",
   "execution_count": 52,
   "metadata": {},
   "outputs": [
    {
     "name": "stderr",
     "output_type": "stream",
     "text": [
      "/usr/local/lib/python3.5/dist-packages/torch/serialization.py:435: SourceChangeWarning: source code of class 'torch.nn.modules.conv.Conv2d' has changed. you can retrieve the original source code by accessing the object's source attribute or set `torch.nn.Module.dump_patches = True` and use the patch tool to revert the changes.\n",
      "  warnings.warn(msg, SourceChangeWarning)\n",
      "/usr/local/lib/python3.5/dist-packages/torch/serialization.py:435: SourceChangeWarning: source code of class 'torch.nn.modules.batchnorm.BatchNorm2d' has changed. you can retrieve the original source code by accessing the object's source attribute or set `torch.nn.Module.dump_patches = True` and use the patch tool to revert the changes.\n",
      "  warnings.warn(msg, SourceChangeWarning)\n",
      "/usr/local/lib/python3.5/dist-packages/torch/serialization.py:435: SourceChangeWarning: source code of class 'torch.nn.modules.linear.Linear' has changed. you can retrieve the original source code by accessing the object's source attribute or set `torch.nn.Module.dump_patches = True` and use the patch tool to revert the changes.\n",
      "  warnings.warn(msg, SourceChangeWarning)\n"
     ]
    }
   ],
   "source": [
    "device = torch.device('cuda:3')\n",
    "dataset = 'FMNIST'\n",
    "\n",
    "model_params = params.params_dict[dataset](augm_flag=True, batch_size=128)\n",
    "\n",
    "file_joint = 'gmm__PCAFMNIST_lam0.0_n100_lr0.1_lrgmm1e-05_augm_flagTrue_train_typeCEDA_GMMgrad_vars mu var.pth'\n",
    "file_base = 'base_FMNIST_lr0.1_augm_flagTrue_train_typeplain.pth'\n",
    "file_CEDA = 'base_FMNIST_lr0.1_augm_flagTrue_train_typeCEDA.pth'\n",
    "file_ACET = 'base_FMNIST_lr0.001_augm_flagTrue_train_typeACET_steps40.pth'\n",
    "\n",
    "model_joint = torch.load('SavedModels/' + file_joint).to(device)\n",
    "base_model = torch.load('SavedModels/base/' + file_base).to(device)\n",
    "CEDA_model = torch.load('SavedModels/base/' + file_CEDA).to(device)\n",
    "ACET_model = torch.load('SavedModels/base/' + file_ACET).to(device)\n",
    "\n",
    "shape = enumerate(model_params.test_loader).__next__()[1][0][0].shape\n",
    "gmm = model_joint.mm\n",
    "model_list = [base_model, CEDA_model, ACET_model, model_joint]\n",
    "lam = model_joint.loglam.exp().item()"
   ]
  },
  {
   "cell_type": "code",
   "execution_count": 53,
   "metadata": {},
   "outputs": [],
   "source": [
    "seed = torch.rand(10, 1, 28, 28, device=device)\n",
    "epsilon = .6*torch.ones(10, device=device)\n",
    "pca = models.MyPCA(model_joint.mm.metric.comp_vecs.t(), model_joint.mm.metric.singular_values, seed[0].shape)"
   ]
  },
  {
   "cell_type": "code",
   "execution_count": 56,
   "metadata": {},
   "outputs": [],
   "source": [
    "adv_noise, loss = adv.gen_pca_noise(CEDA_model, device, seed, pca, epsilon, restarts=10, perturb=True, steps=200, alpha=1.)"
   ]
  },
  {
   "cell_type": "code",
   "execution_count": 57,
   "metadata": {},
   "outputs": [
    {
     "data": {
      "image/png": "[encoded data removed]",
      "text/plain": [
       "<Figure size 432x288 with 10 Axes>"
      ]
     },
     "metadata": {},
     "output_type": "display_data"
    },
    {
     "name": "stdout",
     "output_type": "stream",
     "text": [
      "\n",
      "\n"
     ]
    }
   ],
   "source": [
    "y = CEDA_model(seed)\n",
    "y2 = CEDA_model(adv_noise)\n",
    "\n",
    "plotting.plot_samples([y, y2], adv_noise)"
   ]
  },
  {
   "cell_type": "code",
   "execution_count": 90,
   "metadata": {},
   "outputs": [],
   "source": [
    "moons_data, moons_label = sklearn.datasets.make_moons(n_samples=500, shuffle=True, noise=.05)"
   ]
  },
  {
   "cell_type": "code",
   "execution_count": null,
   "metadata": {},
   "outputs": [],
   "source": []
  }
 ],
 "metadata": {
  "kernelspec": {
   "display_name": "Python 3",
   "language": "python",
   "name": "python3"
  },
  "language_info": {
   "codemirror_mode": {
    "name": "ipython",
    "version": 3
   },
   "file_extension": ".py",
   "mimetype": "text/x-python",
   "name": "python",
   "nbconvert_exporter": "python",
   "pygments_lexer": "ipython3",
   "version": "3.5.2"
  }
 },
 "nbformat": 4,
 "nbformat_minor": 2
}
