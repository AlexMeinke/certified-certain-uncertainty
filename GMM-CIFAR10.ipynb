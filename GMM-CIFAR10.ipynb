{
 "cells": [
  {
   "cell_type": "code",
   "execution_count": 1,
   "metadata": {},
   "outputs": [
    {
     "name": "stdout",
     "output_type": "stream",
     "text": [
      "Files already downloaded and verified\n",
      "Files already downloaded and verified\n",
      "Files already downloaded and verified\n"
     ]
    }
   ],
   "source": [
    "import torch\n",
    "import torch.nn as nn\n",
    "import torch.nn.functional as F\n",
    "import torch.optim as optim\n",
    "\n",
    "import matplotlib.pyplot as plt\n",
    "\n",
    "from importlib import reload\n",
    "\n",
    "import models\n",
    "import plotting\n",
    "import dataloaders as dl\n",
    "import traintest as tt"
   ]
  },
  {
   "cell_type": "code",
   "execution_count": 2,
   "metadata": {},
   "outputs": [],
   "source": [
    "if torch.cuda.is_available():\n",
    "    device = torch.device('cuda')\n",
    "else:\n",
    "    device = torch.device('cpu')"
   ]
  },
  {
   "cell_type": "code",
   "execution_count": 3,
   "metadata": {},
   "outputs": [],
   "source": [
    "import resnet\n",
    "rs50 = resnet.ResNet50().to(device)"
   ]
  },
  {
   "cell_type": "code",
   "execution_count": null,
   "metadata": {},
   "outputs": [
    {
     "name": "stdout",
     "output_type": "stream",
     "text": [
      "Train Epoch: 0 [0/50000 (0%)]\tLoss: 2.396156\n",
      "Train Epoch: 0 [10000/50000 (20%)]\tLoss: 2.448792\n",
      "Train Epoch: 0 [20000/50000 (40%)]\tLoss: 1.931553\n",
      "Train Epoch: 0 [30000/50000 (60%)]\tLoss: 1.911191\n",
      "Train Epoch: 0 [40000/50000 (80%)]\tLoss: 1.931136\n",
      "Train Epoch: 1 [0/50000 (0%)]\tLoss: 1.941912\n",
      "Train Epoch: 1 [10000/50000 (20%)]\tLoss: 1.745904\n",
      "Train Epoch: 1 [20000/50000 (40%)]\tLoss: 1.660045\n",
      "Train Epoch: 1 [30000/50000 (60%)]\tLoss: 1.622159\n",
      "Train Epoch: 1 [40000/50000 (80%)]\tLoss: 1.579715\n",
      "Train Epoch: 2 [0/50000 (0%)]\tLoss: 1.711847\n",
      "Train Epoch: 2 [10000/50000 (20%)]\tLoss: 1.660302\n"
     ]
    }
   ],
   "source": [
    "lr = .1\n",
    "\n",
    "optimizer = optim.Adam( rs50.parameters(), lr=lr, weight_decay=0.0001)\n",
    "for epoch in range(50):\n",
    "    tt.train(rs50, device, dl.CIFAR10_train_loader, optimizer, epoch)\n",
    "\n",
    "optimizer.param_groups[0]['lr'] *= .1\n",
    "for epoch in range(50):\n",
    "    tt.train(rs50, device, dl.CIFAR10_train_loader, optimizer, epoch)\n",
    "\n",
    "optimizer.param_groups[0]['lr'] *= .1\n",
    "for epoch in range(50):\n",
    "    tt.train(rs50, device, dl.CIFAR10_train_loader, optimizer, epoch)"
   ]
  },
  {
   "cell_type": "code",
   "execution_count": null,
   "metadata": {},
   "outputs": [],
   "source": [
    "torch.save(rs50, 'SavedModels/resnet50.pth')"
   ]
  },
  {
   "cell_type": "code",
   "execution_count": null,
   "metadata": {},
   "outputs": [],
   "source": [
    "rs50 = torch.load('SavedModels/resnet50.pth')\n",
    "pca_metric = models.PCAMetric(dl.X_CIFAR10, min_sv_factor=1000.)\n",
    "gmm = models.GMM(1000, 3072, metric=pca_metric)\n",
    "gmm.find_solution(dl.X_CIFAR10, initialize=True, iterate=False, use_kmeans=False)\n",
    "gmm_model = models.RobustModel(rs50, gmm, -7., dim=3072).to(device)\n",
    "torch.save(gmm_model, 'SavedModels/gmm_CIFAR10.pth')"
   ]
  },
  {
   "cell_type": "code",
   "execution_count": null,
   "metadata": {},
   "outputs": [],
   "source": [
    "gmm_model = torch.load('SavedModels/gmm_CIFAR10.pth')\n",
    "#rs50 = torch.load('SavedModels/resnet50.pth')"
   ]
  },
  {
   "cell_type": "code",
   "execution_count": null,
   "metadata": {},
   "outputs": [],
   "source": [
    "gmm_model.mm.logvar.data -= 3"
   ]
  },
  {
   "cell_type": "code",
   "execution_count": null,
   "metadata": {},
   "outputs": [],
   "source": [
    "gmm_model.loglam.data = torch.tensor(-7., device=device)\n",
    "\n",
    "data = enumerate(dl.CIFAR10_test_loader).__next__()[1][0]\n",
    "y = gmm_model.base_model(data.to(device))\n",
    "y2 = gmm_model(data.to(device))\n",
    "\n",
    "plotting.plot_samples([y, y2], data, dataset = 'CIFAR10')"
   ]
  },
  {
   "cell_type": "code",
   "execution_count": null,
   "metadata": {},
   "outputs": [],
   "source": [
    "data = enumerate(dl.CIFAR100_test_loader).__next__()[1][0]\n",
    "y = gmm_model.base_model(data.to(device))\n",
    "y2 = gmm_model(data.to(device))\n",
    "\n",
    "plotting.plot_samples([y, y2], data, dataset = 'CIFAR10')"
   ]
  },
  {
   "cell_type": "code",
   "execution_count": null,
   "metadata": {},
   "outputs": [],
   "source": [
    "data = torch.rand(10,3,32,32)\n",
    "y = gmm_model.base_model(data.to(device))\n",
    "y2 = gmm_model(data.to(device))\n",
    "\n",
    "plotting.plot_samples([y, y2], data, dataset = 'CIFAR10')"
   ]
  },
  {
   "cell_type": "code",
   "execution_count": null,
   "metadata": {},
   "outputs": [],
   "source": [
    "min_conf = .1\n",
    "tt.test(gmm_model, device, dl.CIFAR10_test_loader, min_conf=min_conf)\n",
    "tt.test(gmm_model.base_model, device, dl.CIFAR10_test_loader, min_conf=min_conf)\n",
    "\n",
    "tt.test_adv(gmm_model, device, dl.CIFAR100_test_loader, min_conf=min_conf)\n",
    "tt.test_adv(gmm_model.base_model, device, dl.CIFAR100_test_loader, min_conf=min_conf)"
   ]
  },
  {
   "cell_type": "code",
   "execution_count": null,
   "metadata": {},
   "outputs": [],
   "source": [
    "plt.imshow(gmm_model.mm.metric.comp_vecs[0,:].data.cpu().view(3,32,32).transpose(0,2)[:,:,1].numpy())"
   ]
  },
  {
   "cell_type": "code",
   "execution_count": null,
   "metadata": {},
   "outputs": [],
   "source": [
    "plt.plot(gmm_model.mm.metric.singular_values.data.cpu().numpy()[200:])"
   ]
  },
  {
   "cell_type": "code",
   "execution_count": null,
   "metadata": {},
   "outputs": [],
   "source": []
  }
 ],
 "metadata": {
  "kernelspec": {
   "display_name": "Python 3",
   "language": "python",
   "name": "python3"
  },
  "language_info": {
   "codemirror_mode": {
    "name": "ipython",
    "version": 3
   },
   "file_extension": ".py",
   "mimetype": "text/x-python",
   "name": "python",
   "nbconvert_exporter": "python",
   "pygments_lexer": "ipython3",
   "version": "3.5.2"
  }
 },
 "nbformat": 4,
 "nbformat_minor": 2
}
