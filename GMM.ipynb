{
 "cells": [
  {
   "cell_type": "code",
   "execution_count": 1,
   "metadata": {},
   "outputs": [],
   "source": [
    "import torch\n",
    "import torch.nn as nn\n",
    "import torch.nn.functional as F\n",
    "import torch.optim as optim\n",
    "\n",
    "import matplotlib.pyplot as plt\n",
    "import numpy as np\n",
    "import pandas as pd\n",
    "\n",
    "from importlib import reload\n",
    "import matplotlib.pyplot as plt\n",
    "\n",
    "import utils.models as models\n",
    "import utils.plotting as plotting\n",
    "import utils.dataloaders as dl\n",
    "import utils.traintest as tt\n",
    "import utils.adversarial as adv\n",
    "import utils.eval as ev\n",
    "import model_params as params\n",
    "import resnet\n",
    "\n",
    "from tensorboardX import SummaryWriter\n",
    "%load_ext line_profiler"
   ]
  },
  {
   "cell_type": "code",
   "execution_count": 41,
   "metadata": {},
   "outputs": [],
   "source": [
    "gmm = torch.load('SavedModels/GMM/gmm_MNIST_n1000_data_used60000_augm_flagTrue_alg_scikit.pth')"
   ]
  },
  {
   "cell_type": "code",
   "execution_count": 45,
   "metadata": {},
   "outputs": [
    {
     "data": {
      "text/plain": [
       "tensor(5.4173, grad_fn=<MeanBackward1>)"
      ]
     },
     "execution_count": 45,
     "metadata": {},
     "output_type": "execute_result"
    }
   ],
   "source": [
    "((gmm.logvar.exp()**.5).mean())"
   ]
  },
  {
   "cell_type": "code",
   "execution_count": 43,
   "metadata": {},
   "outputs": [],
   "source": [
    "gmm.logvar.data += np.log(784)"
   ]
  },
  {
   "cell_type": "code",
   "execution_count": 46,
   "metadata": {},
   "outputs": [],
   "source": [
    "torch.save(gmm, 'SavedModels/GMM/gmm_MNIST_n1000_data_used60000_augm_flagTrue_alg_scikit_scaledSTD_factor28.pth')"
   ]
  },
  {
   "cell_type": "code",
   "execution_count": 30,
   "metadata": {},
   "outputs": [],
   "source": [
    "loaderE = dl.EMNIST(train=False, augm_flag=False)\n",
    "e = enumerate(loaderE)\n",
    "data = e.__next__()[1][0]\n",
    "a = torch.logsumexp(gmm(data.view(-1,784)), 0)"
   ]
  },
  {
   "cell_type": "code",
   "execution_count": 23,
   "metadata": {},
   "outputs": [
    {
     "name": "stdout",
     "output_type": "stream",
     "text": [
      "(0.9904, 0.9812486883640289, 0.034394571808353064)\n",
      "(0.9904, 0.9805830691337586, 0.0350477294921875)\n"
     ]
    }
   ],
   "source": [
    "name = 'model_gmmMNIST_lam-791.0_n1000_lr0.0001_augm_flagTrue_train_typeACETgrad_vars mu_customGMM.pth'\n",
    "model = torch.load('SavedModels/'+name).to('cpu')\n",
    "\n",
    "device = torch.device('cuda:6')\n",
    "model.to(device)\n",
    "loader = dl.MNIST(train=False, augm_flag=False)\n",
    "a = tt.test(model.base_model, device, loader)\n",
    "b = tt.test(model, device, loader)\n",
    "print(a)\n",
    "print(b)"
   ]
  },
  {
   "cell_type": "code",
   "execution_count": 21,
   "metadata": {},
   "outputs": [
    {
     "name": "stdout",
     "output_type": "stream",
     "text": [
      "(0.9898, 0.9882590006828308, 0.027768791818618774)\n"
     ]
    }
   ],
   "source": [
    "name = 'base_model_MNIST.pth'\n",
    "model = torch.load('SavedModels/'+name).to('cpu')\n",
    "\n",
    "device = torch.device('cuda:6')\n",
    "model.to(device)\n",
    "loader = dl.MNIST(train=False, augm_flag=False)\n",
    "b = tt.test(model, device, loader)\n",
    "print(b)"
   ]
  },
  {
   "cell_type": "code",
   "execution_count": 24,
   "metadata": {},
   "outputs": [
    {
     "ename": "NameError",
     "evalue": "name 'hps' is not defined",
     "output_type": "error",
     "traceback": [
      "\u001b[0;31m---------------------------------------------------------------------------\u001b[0m",
      "\u001b[0;31mNameError\u001b[0m                                 Traceback (most recent call last)",
      "\u001b[0;32m<ipython-input-24-dcfdd35b22ad>\u001b[0m in \u001b[0;36m<module>\u001b[0;34m()\u001b[0m\n\u001b[1;32m      1\u001b[0m \u001b[0mmodel_params\u001b[0m \u001b[0;34m=\u001b[0m \u001b[0mparams\u001b[0m\u001b[0;34m.\u001b[0m\u001b[0mparams_dict\u001b[0m\u001b[0;34m[\u001b[0m\u001b[0;34m'MNIST'\u001b[0m\u001b[0;34m]\u001b[0m\u001b[0;34m(\u001b[0m\u001b[0maugm_flag\u001b[0m\u001b[0;34m=\u001b[0m\u001b[0;32mTrue\u001b[0m\u001b[0;34m)\u001b[0m\u001b[0;34m\u001b[0m\u001b[0m\n\u001b[0;32m----> 2\u001b[0;31m \u001b[0mdf\u001b[0m \u001b[0;34m=\u001b[0m \u001b[0mev\u001b[0m\u001b[0;34m.\u001b[0m\u001b[0mevaluate\u001b[0m\u001b[0;34m(\u001b[0m\u001b[0mmodel\u001b[0m\u001b[0;34m,\u001b[0m \u001b[0mdevice\u001b[0m\u001b[0;34m,\u001b[0m \u001b[0mhps\u001b[0m\u001b[0;34m.\u001b[0m\u001b[0mdataset\u001b[0m\u001b[0;34m,\u001b[0m \u001b[0mmodel_params\u001b[0m\u001b[0;34m.\u001b[0m\u001b[0mloaders\u001b[0m\u001b[0;34m)\u001b[0m\u001b[0;34m\u001b[0m\u001b[0m\n\u001b[0m",
      "\u001b[0;31mNameError\u001b[0m: name 'hps' is not defined"
     ]
    }
   ],
   "source": [
    "model_params = params.params_dict['MNIST'](augm_flag=True)\n",
    "df = ev.evaluate(model, device, 'MNIST', model_params.loaders)"
   ]
  },
  {
   "cell_type": "code",
   "execution_count": 25,
   "metadata": {},
   "outputs": [],
   "source": [
    "df = ev.evaluate(model, device, 'MNIST', model_params.loaders)"
   ]
  },
  {
   "cell_type": "code",
   "execution_count": 98,
   "metadata": {},
   "outputs": [],
   "source": [
    "\n"
   ]
  },
  {
   "cell_type": "code",
   "execution_count": 47,
   "metadata": {},
   "outputs": [
    {
     "name": "stdout",
     "output_type": "stream",
     "text": [
      "17.6 ms ± 4 ms per loop (mean ± std. dev. of 100 runs, 1 loop each)\n"
     ]
    }
   ],
   "source": [
    "%timeit -r 100 -n 1 model(data)"
   ]
  },
  {
   "cell_type": "code",
   "execution_count": 4,
   "metadata": {},
   "outputs": [],
   "source": []
  },
  {
   "cell_type": "code",
   "execution_count": 4,
   "metadata": {},
   "outputs": [],
   "source": [
    "reload(adv)\n",
    "device = 'cuda:2'\n",
    "base_model = resnet.ResNet18()\n",
    "gmm = torch.load('SavedModels/GMM/gmm_CIFAR10_n1000_data_used50000_augm_flagTrue_alg_scikit.pth')\n",
    "model = models.RobustModel(base_model, gmm, 900., dim=3072).to(device)\n",
    "loaderE = dl.CIFAR10(train=False, batch_size=128, augm_flag=False)\n",
    "e = enumerate(loaderE)\n",
    "data = e.__next__()[1][0].to(device)"
   ]
  },
  {
   "cell_type": "code",
   "execution_count": 194,
   "metadata": {},
   "outputs": [],
   "source": [
    "def test():\n",
    "    for _ in range(40):\n",
    "        y = model(data)\n",
    "        y.sum().backward()\n",
    "    #adv.gen_adv_noise(model, device, data, steps = 3)"
   ]
  },
  {
   "cell_type": "code",
   "execution_count": 192,
   "metadata": {},
   "outputs": [],
   "source": [
    "for _ in range(1):\n",
    "    %lprun -f test test()"
   ]
  },
  {
   "cell_type": "code",
   "execution_count": 184,
   "metadata": {},
   "outputs": [],
   "source": [
    "for _ in range(100):\n",
    "    %lprun -f model.forward model.forward(data)"
   ]
  },
  {
   "cell_type": "code",
   "execution_count": 5,
   "metadata": {},
   "outputs": [],
   "source": [
    "for _ in range(1):\n",
    "    %lprun -f adv.gen_adv_noise adv.gen_adv_noise(base_model, device, data, steps = 40)"
   ]
  },
  {
   "cell_type": "code",
   "execution_count": 138,
   "metadata": {},
   "outputs": [
    {
     "data": {
      "text/plain": [
       "<function _VariableFunctions.norm>"
      ]
     },
     "execution_count": 138,
     "metadata": {},
     "output_type": "execute_result"
    }
   ],
   "source": [
    "torch._C._VariableFunctions.norm"
   ]
  },
  {
   "cell_type": "code",
   "execution_count": 99,
   "metadata": {},
   "outputs": [],
   "source": [
    "gmm = models.GMM(K = 1000, D = 3072, mu = gmm.mu, logvar = gmm.logvar, alpha=gmm.alpha)"
   ]
  },
  {
   "cell_type": "code",
   "execution_count": 195,
   "metadata": {},
   "outputs": [
    {
     "data": {
      "text/plain": [
       "<module 'resnet' from '/home/alexm/project/notebooks/gmm-robust/resnet.py'>"
      ]
     },
     "execution_count": 195,
     "metadata": {},
     "output_type": "execute_result"
    }
   ],
   "source": [
    "torch._C._VariableFunctions.norm"
   ]
  },
  {
   "cell_type": "code",
   "execution_count": 196,
   "metadata": {},
   "outputs": [],
   "source": [
    "m = resnet.ResNet18().to(device)"
   ]
  },
  {
   "cell_type": "code",
   "execution_count": 197,
   "metadata": {},
   "outputs": [
    {
     "data": {
      "text/plain": [
       "tensor([[ 0.2940,  0.4537, -0.7690,  ..., -0.4613,  0.0983,  0.4904],\n",
       "        [ 1.2166,  0.3336, -0.0556,  ..., -0.0972, -0.9780, -0.6149],\n",
       "        [ 0.1117,  1.1222,  0.7020,  ..., -0.1378,  0.2008, -0.3253],\n",
       "        ...,\n",
       "        [ 0.0535,  0.5629, -0.5316,  ..., -0.1256,  0.7781, -0.0677],\n",
       "        [-0.2896,  1.0484,  0.5866,  ..., -0.5581, -0.7391, -0.3642],\n",
       "        [-0.1760,  0.8297,  0.5402,  ..., -0.5511, -0.6035,  0.0030]],\n",
       "       device='cuda:1', grad_fn=<AddmmBackward>)"
      ]
     },
     "execution_count": 197,
     "metadata": {},
     "output_type": "execute_result"
    }
   ],
   "source": [
    "m(data)"
   ]
  },
  {
   "cell_type": "code",
   "execution_count": 182,
   "metadata": {},
   "outputs": [],
   "source": [
    "for _ in range(300):\n",
    "    %lprun -f m.forward m.forward(data)"
   ]
  },
  {
   "cell_type": "code",
   "execution_count": 205,
   "metadata": {},
   "outputs": [],
   "source": [
    "import torch"
   ]
  },
  {
   "cell_type": "code",
   "execution_count": 2,
   "metadata": {},
   "outputs": [
    {
     "name": "stderr",
     "output_type": "stream",
     "text": [
      "/usr/local/lib/python3.5/dist-packages/torch/serialization.py:435: SourceChangeWarning: source code of class 'resnet.ResNet' has changed. you can retrieve the original source code by accessing the object's source attribute or set `torch.nn.Module.dump_patches = True` and use the patch tool to revert the changes.\n",
      "  warnings.warn(msg, SourceChangeWarning)\n"
     ]
    }
   ],
   "source": [
    "device = torch.device('cuda:3')\n",
    "base_model = torch.load('SavedModels/model_baseCIFAR10_lr0.1_augm_flagTrue_train_typeplain.pth').to(device)"
   ]
  },
  {
   "cell_type": "code",
   "execution_count": 3,
   "metadata": {},
   "outputs": [
    {
     "data": {
      "text/plain": [
       "tensor([0.9789, 0.4076, 0.9549, 0.4320, 0.8757, 0.9258, 0.6497, 0.9461, 0.5638,\n",
       "        0.7560], device='cuda:3', grad_fn=<ExpBackward>)"
      ]
     },
     "execution_count": 3,
     "metadata": {},
     "output_type": "execute_result"
    }
   ],
   "source": []
  },
  {
   "cell_type": "code",
   "execution_count": 4,
   "metadata": {
    "scrolled": true
   },
   "outputs": [
    {
     "data": {
      "text/plain": [
       "<matplotlib.image.AxesImage at 0x7f4ff850fcf8>"
      ]
     },
     "execution_count": 4,
     "metadata": {},
     "output_type": "execute_result"
    },
    {
     "data": {
      "image/png": "[encoded data removed]",
      "text/plain": [
       "<Figure size 432x288 with 1 Axes>"
      ]
     },
     "metadata": {},
     "output_type": "display_data"
    }
   ],
   "source": [
    "plt.imshow(x[5].detach().cpu().transpose(0,2))"
   ]
  },
  {
   "cell_type": "code",
   "execution_count": 60,
   "metadata": {},
   "outputs": [
    {
     "data": {
      "text/plain": [
       "(tensor([0.7309], device='cuda:3', grad_fn=<MaxBackward0>),\n",
       " tensor([2], device='cuda:3'))"
      ]
     },
     "execution_count": 60,
     "metadata": {},
     "output_type": "execute_result"
    }
   ],
   "source": [
    "x = torch.rand(1,3,32,32,device=device)\n",
    "base_model(x).max(1)[0].exp()\n",
    "noise = adv.gen_adv_noise(base_model, device, x, epsilon=.3, steps=10, step_size=0.01)\n",
    "F.log_softmax(logits(base_model, noise)[:,:10]/5 , dim=1).exp().max(1)"
   ]
  },
  {
   "cell_type": "code",
   "execution_count": 6,
   "metadata": {},
   "outputs": [
    {
     "data": {
      "image/png": "[encoded data removed]",
      "text/plain": [
       "<Figure size 432x288 with 10 Axes>"
      ]
     },
     "metadata": {},
     "output_type": "display_data"
    },
    {
     "name": "stdout",
     "output_type": "stream",
     "text": [
      "\n",
      "\n"
     ]
    }
   ],
   "source": [
    "y = base_model(noise)\n",
    "plotting.plot_samples([y], noise.detach().cpu(), dataset='CIFAR10')"
   ]
  },
  {
   "cell_type": "code",
   "execution_count": 7,
   "metadata": {},
   "outputs": [],
   "source": [
    "def logits(self, x):\n",
    "    x = self.conv1(x)\n",
    "    x = self.bn1(x)\n",
    "    x = self.relu(x)\n",
    "    x = self.maxpool(x)\n",
    "\n",
    "    x = self.layer1(x)\n",
    "    x = self.layer2(x)\n",
    "    x = self.layer3(x)\n",
    "    x = self.layer4(x)\n",
    "\n",
    "    x = self.avgpool(x)\n",
    "    x = x.view(x.size(0), -1)\n",
    "    x = self.fc(x)\n",
    "\n",
    "    return x"
   ]
  },
  {
   "cell_type": "code",
   "execution_count": 47,
   "metadata": {},
   "outputs": [
    {
     "data": {
      "text/plain": [
       "(tensor([0.7487, 0.4003, 0.5828, 0.6995, 0.7426, 0.7409, 0.7399, 0.7677, 0.5360,\n",
       "         0.7351], device='cuda:3', grad_fn=<MaxBackward0>),\n",
       " tensor([6, 3, 1, 4, 2, 6, 4, 2, 9, 2], device='cuda:3'))"
      ]
     },
     "execution_count": 47,
     "metadata": {},
     "output_type": "execute_result"
    }
   ],
   "source": []
  },
  {
   "cell_type": "code",
   "execution_count": 8,
   "metadata": {},
   "outputs": [],
   "source": [
    "loader = dl.CIFAR10(train=False, augm_flag=False)"
   ]
  },
  {
   "cell_type": "code",
   "execution_count": 123,
   "metadata": {},
   "outputs": [
    {
     "data": {
      "text/plain": [
       "(tensor([0.5790, 0.5974, 0.6431, 0.1898, 0.7015, 0.1616, 0.4471, 0.5759, 0.4575,\n",
       "         0.6015, 0.4343, 0.3530, 0.3832, 0.6050, 0.5983, 0.4933, 0.6220, 0.6857,\n",
       "         0.6191, 0.4179, 0.6072, 0.5986, 0.7018, 0.2838, 0.6041, 0.3493, 0.4934,\n",
       "         0.5857, 0.2803, 0.7104, 0.5801, 0.4053, 0.4188, 0.4542, 0.6276, 0.2864,\n",
       "         0.6138, 0.5948, 0.6089, 0.2826, 0.5802, 0.6258, 0.5739, 0.5921, 0.6243,\n",
       "         0.1519, 0.6149, 0.6085, 0.6825, 0.6963, 0.6126, 0.6172, 0.4277, 0.6051,\n",
       "         0.5995, 0.4352, 0.5913, 0.6168, 0.5554, 0.2813, 0.4482, 0.6317, 0.6222,\n",
       "         0.6202, 0.6008, 0.4094, 0.4165, 0.6225, 0.6147, 0.4007, 0.6063, 0.6010,\n",
       "         0.5977, 0.2141, 0.5946, 0.4286, 0.5978, 0.6174, 0.6245, 0.6136, 0.5998,\n",
       "         0.5894, 0.4275, 0.2894, 0.4010, 0.6089, 0.6202, 0.2803, 0.4295, 0.6844,\n",
       "         0.5970, 0.4219, 0.1581, 0.6225, 0.4291, 0.6256, 0.1603, 0.5687, 0.4251,\n",
       "         0.7021], device='cuda:3', grad_fn=<MaxBackward0>),\n",
       " tensor([8, 8, 8, 8, 8, 0, 8, 8, 8, 8, 8, 5, 8, 8, 8, 5, 8, 8, 8, 8, 8, 8, 8, 8,\n",
       "         8, 5, 5, 8, 8, 8, 8, 8, 8, 8, 8, 8, 8, 8, 8, 8, 8, 8, 5, 8, 8, 0, 8, 8,\n",
       "         8, 8, 8, 8, 8, 8, 8, 8, 8, 8, 8, 8, 8, 8, 8, 8, 8, 8, 8, 8, 8, 8, 8, 8,\n",
       "         8, 8, 8, 8, 8, 8, 8, 8, 8, 8, 8, 8, 8, 8, 8, 8, 8, 8, 8, 8, 0, 8, 8, 8,\n",
       "         0, 5, 8, 8], device='cuda:3'))"
      ]
     },
     "execution_count": 123,
     "metadata": {},
     "output_type": "execute_result"
    }
   ],
   "source": [
    "x =1-.01*torch.rand(100,3,32,32,device=device)\n",
    "base_model(x).max(1)[0].exp()\n",
    "noise = adv.gen_adv_noise(base_model, device, x, epsilon=.3, steps=40, step_size=0.01)\n",
    "F.log_softmax(logits(base_model, noise)[:,:10]/5 , dim=1).exp().max(1)"
   ]
  },
  {
   "cell_type": "code",
   "execution_count": 125,
   "metadata": {},
   "outputs": [],
   "source": [
    "\n",
    "T = 10.\n",
    "m = []\n",
    "for _, (a,_) in enumerate(loader):\n",
    "    a = adv.gen_adv_noise(base_model, device, a, epsilon=.3, steps=1, step_size=0.01)\n",
    "    m.append( F.log_softmax(logits(base_model, a.to(device))[:,:10]/T , dim=1).max(1)[0])\n",
    "m = torch.cat(m, 0)\n",
    "a = []\n",
    "for p in noise:\n",
    "    c = F.log_softmax(logits(base_model, p.unsqueeze(0))[:,:10]/T , dim=1).max().item()\n",
    "    a.append( ( (m<c).sum().float()/10000. ).item())\n",
    "a = np.array(a)"
   ]
  },
  {
   "cell_type": "code",
   "execution_count": 124,
   "metadata": {},
   "outputs": [
    {
     "data": {
      "text/plain": [
       "<matplotlib.image.AxesImage at 0x7f50f0a2d160>"
      ]
     },
     "execution_count": 124,
     "metadata": {},
     "output_type": "execute_result"
    },
    {
     "data": {
      "image/png": "[encoded data removed]",
      "text/plain": [
       "<Figure size 432x288 with 1 Axes>"
      ]
     },
     "metadata": {},
     "output_type": "display_data"
    }
   ],
   "source": [
    "plt.imshow(noise[0].permute((1,2,0)).detach().cpu())"
   ]
  },
  {
   "cell_type": "code",
   "execution_count": 77,
   "metadata": {},
   "outputs": [],
   "source": [
    "for p in noise:\n",
    "    temp = logits(base_model, p.unsqueeze(0))[:,:10]/T\n",
    "    c = F.log_softmax(temp , dim=1).max().item()"
   ]
  },
  {
   "cell_type": "code",
   "execution_count": 129,
   "metadata": {},
   "outputs": [],
   "source": [
    "base_model = torch.load('Checkpoints/base_CIFAR10_lr0.1_augm_flagTrue_train_typeplain.pth').to(device)"
   ]
  },
  {
   "cell_type": "code",
   "execution_count": 133,
   "metadata": {},
   "outputs": [
    {
     "data": {
      "text/plain": [
       "(tensor([1.0000, 1.0000, 1.0000, 1.0000, 1.0000, 1.0000, 1.0000, 1.0000, 1.0000,\n",
       "         1.0000], device='cuda:3', grad_fn=<MaxBackward0>),\n",
       " tensor([6, 6, 6, 6, 6, 6, 6, 2, 2, 6], device='cuda:3'))"
      ]
     },
     "execution_count": 133,
     "metadata": {},
     "output_type": "execute_result"
    }
   ],
   "source": [
    "x = torch.rand(10,3,32,32,device=device)\n",
    "base_model(x).max(1)[0].exp()\n",
    "noise = adv.gen_adv_noise(base_model, device, x, epsilon=.3, steps=10, step_size=0.01)\n",
    "F.log_softmax(logits(base_model, noise) , dim=1).exp().max(1)"
   ]
  },
  {
   "cell_type": "code",
   "execution_count": 135,
   "metadata": {},
   "outputs": [
    {
     "data": {
      "text/plain": [
       "tensor([0.9877, 0.9790, 0.9918, 0.9599, 0.9858, 0.9888, 0.9947, 0.9534, 0.9928,\n",
       "        0.9924], device='cuda:3', grad_fn=<ExpBackward>)"
      ]
     },
     "execution_count": 135,
     "metadata": {},
     "output_type": "execute_result"
    }
   ],
   "source": [
    "base_model(x).max(1)[0].exp()"
   ]
  },
  {
   "cell_type": "code",
   "execution_count": null,
   "metadata": {},
   "outputs": [],
   "source": []
  }
 ],
 "metadata": {
  "kernelspec": {
   "display_name": "Python 3",
   "language": "python",
   "name": "python3"
  },
  "language_info": {
   "codemirror_mode": {
    "name": "ipython",
    "version": 3
   },
   "file_extension": ".py",
   "mimetype": "text/x-python",
   "name": "python",
   "nbconvert_exporter": "python",
   "pygments_lexer": "ipython3",
   "version": "3.5.2"
  }
 },
 "nbformat": 4,
 "nbformat_minor": 2
}
