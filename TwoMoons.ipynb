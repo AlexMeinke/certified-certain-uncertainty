{
 "cells": [
  {
   "cell_type": "code",
   "execution_count": 1,
   "metadata": {},
   "outputs": [],
   "source": [
    "import torch\n",
    "import torch.nn as nn\n",
    "import torch.nn.functional as F\n",
    "import torch.optim as optim\n",
    "\n",
    "import matplotlib.pyplot as plt\n",
    "import numpy as np\n",
    "import pandas as pd\n",
    "import scipy\n",
    "from sklearn.metrics import roc_auc_score\n",
    "from sklearn import mixture, preprocessing, datasets\n",
    "\n",
    "from importlib import reload\n",
    "import matplotlib\n",
    "import matplotlib.pyplot as plt\n",
    "from matplotlib import patches\n",
    "\n",
    "import torch.utils.data as data_utils\n",
    "\n",
    "import utils.models as models\n",
    "import utils.plotting as plotting\n",
    "import utils.dataloaders as dl\n",
    "import utils.traintest as tt\n",
    "import utils.adversarial as adv\n",
    "import utils.eval as ev\n",
    "import model_params as params\n",
    "import utils.resnet_orig as resnet\n",
    "import utils.gmm_helpers as gmm_helpers\n",
    "\n",
    "import model_paths\n",
    "\n",
    "from tensorboardX import SummaryWriter\n",
    "%load_ext line_profiler\n",
    "\n",
    "colors = np.array(['#377eb8', '#ff7f00', '#4daf4a',\n",
    "                   '#f781bf', '#a65628', '#984ea3',\n",
    "                   '#999999', '#e41a1c', '#dede00'])\n",
    "\n",
    "norm = matplotlib.colors.Normalize(vmin=0.5, vmax=1, clip=False)"
   ]
  },
  {
   "cell_type": "code",
   "execution_count": 2,
   "metadata": {},
   "outputs": [],
   "source": [
    "class TwoMoonsNet(nn.Module):\n",
    "    def __init__(self):\n",
    "        super().__init__()\n",
    "        self.fc1 = nn.Linear(2, 32)\n",
    "        self.fc2 = nn.Linear(32, 64)\n",
    "        self.fc3 = nn.Linear(64, 2)\n",
    "        \n",
    "    def forward(self, x):\n",
    "        x = F.relu(self.fc1(x))\n",
    "        x = F.relu(self.fc2(x))\n",
    "        x = self.fc3(x)\n",
    "        return F.log_softmax(x, dim=1)"
   ]
  },
  {
   "cell_type": "code",
   "execution_count": 45,
   "metadata": {},
   "outputs": [],
   "source": [
    "moons_data, moons_label = datasets.make_moons(n_samples=1000, shuffle=True, noise=.15)\n",
    "\n",
    "data = (torch.tensor(moons_data, dtype=torch.float) + 1.6) / 4\n",
    "label = torch.tensor(moons_label, dtype=torch.float)\n",
    "label = label.type(torch.LongTensor)\n",
    "\n",
    "train = data_utils.TensorDataset(data, label)\n",
    "train_loader = data_utils.DataLoader(train, batch_size=50, shuffle=True)\n",
    "\n",
    "\n",
    "clf = mixture.GaussianMixture(n_components=50, \n",
    "                              covariance_type='spherical',\n",
    "                              max_iter=500)\n",
    "clf.fit(data.numpy())\n",
    "\n",
    "mu = clf.means_\n",
    "std = np.sqrt(clf.covariances_)\n",
    "\n",
    "mu = torch.tensor(clf.means_ ,dtype=torch.float)\n",
    "logvar = torch.tensor(np.log(clf.covariances_) ,dtype=torch.float)\n",
    "\n",
    "gmm = models.GMM(50, 2, mu=mu, logvar=logvar)\n",
    "\n",
    "\n",
    "\n",
    "\n",
    "data_out = torch.rand(1000, 2)\n",
    "label_out = torch.zeros(1000)\n",
    "label_out = label_out.type(torch.LongTensor)\n",
    "\n",
    "train_out = data_utils.TensorDataset(data_out, label_out)\n",
    "train_loader_out = data_utils.DataLoader(train_out, batch_size=50, shuffle=True)\n",
    "\n",
    "\n",
    "clf = mixture.GaussianMixture(n_components=50, \n",
    "                              covariance_type='spherical',\n",
    "                              max_iter=500)\n",
    "clf.fit(data_out[:1000].numpy())\n",
    "\n",
    "mu = clf.means_\n",
    "std = np.sqrt(clf.covariances_)\n",
    "\n",
    "mu = torch.tensor(clf.means_ ,dtype=torch.float)\n",
    "logvar = torch.tensor(np.log(clf.covariances_) ,dtype=torch.float)\n",
    "\n",
    "gmm_out = models.GMM(50, 2, mu=mu, logvar=logvar)\n",
    "\n",
    "\n",
    "\n",
    "\n",
    "net = TwoMoonsNet()\n",
    "\n",
    "\n",
    "\n",
    "device=torch.device('cuda:0')\n",
    "\n",
    "model = models.DoublyRobustModel(net, gmm, gmm_out, -3., dim=2, classes=2).to(device)\n",
    "base_model = TwoMoonsNet().to(device)"
   ]
  },
  {
   "cell_type": "code",
   "execution_count": 46,
   "metadata": {},
   "outputs": [
    {
     "ename": "KeyboardInterrupt",
     "evalue": "",
     "output_type": "error",
     "traceback": [
      "\u001b[0;31m---------------------------------------------------------------------------\u001b[0m",
      "\u001b[0;31mKeyboardInterrupt\u001b[0m                         Traceback (most recent call last)",
      "\u001b[0;32m<ipython-input-46-71d0263118e0>\u001b[0m in \u001b[0;36m<module>\u001b[0;34m()\u001b[0m\n\u001b[1;32m     11\u001b[0m \u001b[0;32mfor\u001b[0m \u001b[0mepoch\u001b[0m \u001b[0;32min\u001b[0m \u001b[0mrange\u001b[0m\u001b[0;34m(\u001b[0m\u001b[0;36m200\u001b[0m\u001b[0;34m)\u001b[0m\u001b[0;34m:\u001b[0m\u001b[0;34m\u001b[0m\u001b[0m\n\u001b[1;32m     12\u001b[0m     tt.train_CEDA_gmm_out(model, device, train_loader, optimizer, \n\u001b[0;32m---> 13\u001b[0;31m                           epoch, lam=0.001, verbose=-1, noise_loader=iter(train_loader_out))\n\u001b[0m\u001b[1;32m     14\u001b[0m \u001b[0;34m\u001b[0m\u001b[0m\n",
      "\u001b[0;32m~/project/notebooks/gmm-robust/utils/traintest.py\u001b[0m in \u001b[0;36mtrain_CEDA_gmm_out\u001b[0;34m(model, device, train_loader, optimizer, epoch, lam, verbose, noise_loader, epsilon)\u001b[0m\n\u001b[1;32m    210\u001b[0m         \u001b[0moptimizer\u001b[0m\u001b[0;34m.\u001b[0m\u001b[0mstep\u001b[0m\u001b[0;34m(\u001b[0m\u001b[0;34m)\u001b[0m\u001b[0;34m\u001b[0m\u001b[0m\n\u001b[1;32m    211\u001b[0m \u001b[0;34m\u001b[0m\u001b[0m\n\u001b[0;32m--> 212\u001b[0;31m         \u001b[0mlikelihood_loss\u001b[0m \u001b[0;34m+=\u001b[0m \u001b[0mloss3\u001b[0m\u001b[0;34m.\u001b[0m\u001b[0mitem\u001b[0m\u001b[0;34m(\u001b[0m\u001b[0;34m)\u001b[0m\u001b[0;34m\u001b[0m\u001b[0m\n\u001b[0m\u001b[1;32m    213\u001b[0m         \u001b[0mtrain_loss\u001b[0m \u001b[0;34m+=\u001b[0m \u001b[0mloss\u001b[0m\u001b[0;34m.\u001b[0m\u001b[0mitem\u001b[0m\u001b[0;34m(\u001b[0m\u001b[0;34m)\u001b[0m\u001b[0;34m\u001b[0m\u001b[0m\n\u001b[1;32m    214\u001b[0m         \u001b[0m_\u001b[0m\u001b[0;34m,\u001b[0m \u001b[0mpredicted\u001b[0m \u001b[0;34m=\u001b[0m \u001b[0moutput\u001b[0m\u001b[0;34m.\u001b[0m\u001b[0mmax\u001b[0m\u001b[0;34m(\u001b[0m\u001b[0;36m1\u001b[0m\u001b[0;34m)\u001b[0m\u001b[0;34m\u001b[0m\u001b[0m\n",
      "\u001b[0;31mKeyboardInterrupt\u001b[0m: "
     ]
    }
   ],
   "source": [
    "lr = 0.1\n",
    "lr_gmm = 1e-3\n",
    "decay = 5e-4\n",
    "\n",
    "param_groups = [{'params':model.mm.parameters(),'lr':lr_gmm, 'weight_decay':0.},\n",
    "                {'params':model.mm_out.parameters(),'lr':lr_gmm, 'weight_decay':0.},\n",
    "                {'params':model.base_model.parameters(),'lr':lr, 'weight_decay':decay}]\n",
    "\n",
    "optimizer = optim.SGD(param_groups)\n",
    "\n",
    "for epoch in range(200):\n",
    "    tt.train_CEDA_gmm_out(model, device, train_loader, optimizer, \n",
    "                          epoch, lam=0.001, verbose=-1, noise_loader=iter(train_loader_out))\n",
    "    "
   ]
  },
  {
   "cell_type": "code",
   "execution_count": 48,
   "metadata": {},
   "outputs": [
    {
     "ename": "KeyboardInterrupt",
     "evalue": "",
     "output_type": "error",
     "traceback": [
      "\u001b[0;31m---------------------------------------------------------------------------\u001b[0m",
      "\u001b[0;31mKeyboardInterrupt\u001b[0m                         Traceback (most recent call last)",
      "\u001b[0;32m<ipython-input-48-bca985f85453>\u001b[0m in \u001b[0;36m<module>\u001b[0;34m()\u001b[0m\n\u001b[1;32m     11\u001b[0m \u001b[0;32mfor\u001b[0m \u001b[0mepoch\u001b[0m \u001b[0;32min\u001b[0m \u001b[0mrange\u001b[0m\u001b[0;34m(\u001b[0m\u001b[0;36m200\u001b[0m\u001b[0;34m)\u001b[0m\u001b[0;34m:\u001b[0m\u001b[0;34m\u001b[0m\u001b[0m\n\u001b[1;32m     12\u001b[0m     tt.train_CEDA_gmm_out(model, device, train_loader, optimizer, \n\u001b[0;32m---> 13\u001b[0;31m                           epoch, lam=1., verbose=-1, noise_loader=iter(train_loader_out))\n\u001b[0m\u001b[1;32m     14\u001b[0m \u001b[0;34m\u001b[0m\u001b[0m\n",
      "\u001b[0;32m~/project/notebooks/gmm-robust/utils/traintest.py\u001b[0m in \u001b[0;36mtrain_CEDA_gmm_out\u001b[0;34m(model, device, train_loader, optimizer, epoch, lam, verbose, noise_loader, epsilon)\u001b[0m\n\u001b[1;32m    210\u001b[0m         \u001b[0moptimizer\u001b[0m\u001b[0;34m.\u001b[0m\u001b[0mstep\u001b[0m\u001b[0;34m(\u001b[0m\u001b[0;34m)\u001b[0m\u001b[0;34m\u001b[0m\u001b[0m\n\u001b[1;32m    211\u001b[0m \u001b[0;34m\u001b[0m\u001b[0m\n\u001b[0;32m--> 212\u001b[0;31m         \u001b[0mlikelihood_loss\u001b[0m \u001b[0;34m+=\u001b[0m \u001b[0mloss3\u001b[0m\u001b[0;34m.\u001b[0m\u001b[0mitem\u001b[0m\u001b[0;34m(\u001b[0m\u001b[0;34m)\u001b[0m\u001b[0;34m\u001b[0m\u001b[0m\n\u001b[0m\u001b[1;32m    213\u001b[0m         \u001b[0mtrain_loss\u001b[0m \u001b[0;34m+=\u001b[0m \u001b[0mloss\u001b[0m\u001b[0;34m.\u001b[0m\u001b[0mitem\u001b[0m\u001b[0;34m(\u001b[0m\u001b[0;34m)\u001b[0m\u001b[0;34m\u001b[0m\u001b[0m\n\u001b[1;32m    214\u001b[0m         \u001b[0m_\u001b[0m\u001b[0;34m,\u001b[0m \u001b[0mpredicted\u001b[0m \u001b[0;34m=\u001b[0m \u001b[0moutput\u001b[0m\u001b[0;34m.\u001b[0m\u001b[0mmax\u001b[0m\u001b[0;34m(\u001b[0m\u001b[0;36m1\u001b[0m\u001b[0;34m)\u001b[0m\u001b[0;34m\u001b[0m\u001b[0m\n",
      "\u001b[0;31mKeyboardInterrupt\u001b[0m: "
     ]
    }
   ],
   "source": [
    "lr = 0.1\n",
    "lr_gmm = 1e-3\n",
    "decay = 5e-4\n",
    "\n",
    "param_groups = [{'params':model.mm.parameters(),'lr':lr_gmm, 'weight_decay':0.},\n",
    "                {'params':model.mm_out.parameters(),'lr':lr_gmm, 'weight_decay':0.},\n",
    "                {'params':model.base_model.parameters(),'lr':lr, 'weight_decay':decay}]\n",
    "\n",
    "optimizer = optim.SGD(param_groups)\n",
    "\n",
    "for epoch in range(200):\n",
    "    tt.train_CEDA_gmm_out(model, device, train_loader, optimizer, \n",
    "                          epoch, lam=1., verbose=-1, noise_loader=iter(train_loader_out))\n",
    "    "
   ]
  },
  {
   "cell_type": "code",
   "execution_count": 10,
   "metadata": {},
   "outputs": [],
   "source": [
    "def cross_over(y, x, model):\n",
    "    data = torch.tensor([[x, y]])\n",
    "    out = model(data)\n",
    "    return out[0,0]-out[0,1]"
   ]
  },
  {
   "cell_type": "code",
   "execution_count": 49,
   "metadata": {},
   "outputs": [
    {
     "data": {
      "image/png": "[encoded data removed]",
      "text/plain": [
       "<Figure size 432x288 with 1 Axes>"
      ]
     },
     "metadata": {},
     "output_type": "display_data"
    }
   ],
   "source": [
    "f = plt.figure()\n",
    "\n",
    "x = np.arange(-3., 3.01, 0.1)\n",
    "y = np.arange(-3., 3.01, 0.1)\n",
    "\n",
    "points = []\n",
    "for xx in x:\n",
    "    for yy in y:\n",
    "        points.append((xx, yy))\n",
    "\n",
    "output = base_model.cpu()(torch.tensor(points)).detach()\n",
    "output_data = base_model(data).detach().cpu()\n",
    "pred = output.max(1)[0].exp()\n",
    "z = pred.view(len(x), len(y)).detach().t().numpy()\n",
    "\n",
    "ax = plt.gca()\n",
    "ax.cla()\n",
    "\n",
    "h = ax.contourf(x,y,z, norm=norm)\n",
    "\n",
    "#h = ax.contour(x,y,z, norm=norm)\n",
    "\n",
    "ax.scatter(data[:, 0], data[:, 1], s=3, color=colors[output_data.max(1)[1]])\n",
    "plt.xlim([-3, 3])\n",
    "plt.ylim([-3, 3])\n",
    "plt.xticks([])\n",
    "plt.yticks([])\n",
    "\n",
    "#dec_x = np.linspace(0,1,200)\n",
    "#dec_y = [scipy.optimize.brentq(cross_over, -0.1, 1.1, \n",
    "#                               args = (xx, base_model)) for xx in dec_x]\n",
    "#plt.plot(dec_x, dec_y, color='white')\n",
    "\n",
    "plt.gca().set_aspect('equal', adjustable='box')\n",
    "    \n"
   ]
  },
  {
   "cell_type": "code",
   "execution_count": 10,
   "metadata": {},
   "outputs": [],
   "source": [
    "f.savefig('results/two_moons1.eps', format='eps', bbox_inches = 'tight',\n",
    "    pad_inches = 0)"
   ]
  },
  {
   "cell_type": "code",
   "execution_count": 11,
   "metadata": {},
   "outputs": [
    {
     "data": {
      "image/png": "[encoded data removed]",
      "text/plain": [
       "<Figure size 432x288 with 2 Axes>"
      ]
     },
     "metadata": {},
     "output_type": "display_data"
    }
   ],
   "source": [
    "f = plt.figure()\n",
    "\n",
    "output = model.cpu()(torch.tensor(points)).detach()\n",
    "output_data = model(data).detach().cpu()\n",
    "pred = output.max(1)[0].exp()\n",
    "z = pred.view(len(x), len(y)).detach().t().numpy()\n",
    "\n",
    "output_base = model.base_model.cpu()(torch.tensor(points)).detach()\n",
    "pred = output_base.max(1)[0].exp()\n",
    "z_base = pred.view(len(x), len(y)).detach().t().numpy()\n",
    "\n",
    "ax = plt.gca()\n",
    "ax.cla()\n",
    "\n",
    "plt.contourf(x,y,z, vmin=.5, vmax=1., extend='neither')\n",
    "\n",
    "norm2 = matplotlib.colors.Normalize(vmin=0.5, vmax=.6, clip=True)\n",
    "cb = plt.colorbar(ticks=np.linspace(.5,1.,6))\n",
    "\n",
    "\n",
    "# h = ax.contour(x,y,np.log(z_base-.5002)**3)\n",
    "\n",
    "\n",
    "ax.scatter(data[:, 0], data[:, 1], s=3, color=colors[output_data.max(1)[1]])\n",
    "plt.xlim([0, 1])\n",
    "plt.ylim([0, 1])\n",
    "plt.xticks([])\n",
    "plt.yticks([])\n",
    "\n",
    "dec_x = np.linspace(0,1,200)\n",
    "dec_y = [scipy.optimize.brentq(cross_over, -0.1, 1.1, \n",
    "                               args = (xx, model.base_model)) for xx in dec_x]\n",
    "plt.plot(dec_x, dec_y, color='white')\n",
    "\n",
    "plt.gca().set_aspect('equal', adjustable='box')\n",
    "\n",
    "plt.show()"
   ]
  },
  {
   "cell_type": "code",
   "execution_count": 12,
   "metadata": {},
   "outputs": [],
   "source": [
    "f.savefig('results/two_moons2.eps', format='eps', bbox_inches = 'tight',\n",
    "    pad_inches = 0)"
   ]
  },
  {
   "cell_type": "code",
   "execution_count": 32,
   "metadata": {},
   "outputs": [
    {
     "data": {
      "text/plain": [
       "Parameter containing:\n",
       "tensor([-7.3369, -7.4137, -6.9698, -6.8574, -7.2627, -9.0848, -8.0826, -8.4171,\n",
       "        -7.9817, -6.9227, -6.9148, -7.2062, -8.2772, -7.9087, -6.9044, -6.8938,\n",
       "        -8.0409, -7.0436, -9.0690, -6.8806, -7.6584, -7.5172, -7.0739, -7.5837,\n",
       "        -7.1341, -6.9603, -7.2867, -7.5047, -8.7669, -6.9821, -7.1041, -6.9939,\n",
       "        -7.9185, -7.3304, -7.2532, -8.2045, -7.1069, -8.1619, -7.9207, -7.4726,\n",
       "        -7.7224, -6.6110, -7.8958, -7.0240, -7.7641, -7.9487, -7.6825, -7.4379,\n",
       "        -8.2651, -7.4836], device='cuda:0', requires_grad=True)"
      ]
     },
     "execution_count": 32,
     "metadata": {},
     "output_type": "execute_result"
    }
   ],
   "source": [
    "model.mm.logvar"
   ]
  },
  {
   "cell_type": "code",
   "execution_count": 33,
   "metadata": {},
   "outputs": [
    {
     "data": {
      "text/plain": [
       "Parameter containing:\n",
       "tensor([-5.2246, -5.2247, -5.2247, -5.2247, -5.2247, -5.2246, -5.2247, -5.2247,\n",
       "        -5.2239, -5.2247, -5.2247, -5.2247, -5.2247, -5.2247, -5.2247, -5.2247,\n",
       "        -5.2247, -5.2247, -5.2247, -5.2247, -5.2247, -5.2247, -5.2245, -5.2247,\n",
       "        -5.2247, -5.2247, -5.2247, -5.2243, -5.2247, -5.2247, -5.2247, -5.2247,\n",
       "        -5.2247, -5.2247, -5.2247, -5.2247, -5.2247, -5.2247, -5.2243, -5.2241,\n",
       "        -5.2247, -5.2245, -5.2247, -5.2247, -5.2247, -5.2247, -5.2245, -5.2247,\n",
       "        -5.2247, -5.2247], device='cuda:0', requires_grad=True)"
      ]
     },
     "execution_count": 33,
     "metadata": {},
     "output_type": "execute_result"
    }
   ],
   "source": [
    "model.mm_out.logvar"
   ]
  },
  {
   "cell_type": "code",
   "execution_count": null,
   "metadata": {},
   "outputs": [],
   "source": []
  }
 ],
 "metadata": {
  "kernelspec": {
   "display_name": "Python 3",
   "language": "python",
   "name": "python3"
  },
  "language_info": {
   "codemirror_mode": {
    "name": "ipython",
    "version": 3
   },
   "file_extension": ".py",
   "mimetype": "text/x-python",
   "name": "python",
   "nbconvert_exporter": "python",
   "pygments_lexer": "ipython3",
   "version": "3.5.2"
  }
 },
 "nbformat": 4,
 "nbformat_minor": 2
}
