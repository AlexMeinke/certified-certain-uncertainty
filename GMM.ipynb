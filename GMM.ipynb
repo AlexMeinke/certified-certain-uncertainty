{
 "cells": [
  {
   "cell_type": "code",
   "execution_count": 1,
   "metadata": {},
   "outputs": [],
   "source": [
    "import torch\n",
    "\n",
    "from importlib import reload\n",
    "\n",
    "import models\n",
    "import plotting\n",
    "import dataloaders as dl"
   ]
  },
  {
   "cell_type": "code",
   "execution_count": 2,
   "metadata": {},
   "outputs": [],
   "source": [
    "if torch.cuda.is_available():\n",
    "    device = torch.device('cuda')\n",
    "else:\n",
    "    device = torch.device('cpu')"
   ]
  },
  {
   "cell_type": "code",
   "execution_count": 3,
   "metadata": {},
   "outputs": [],
   "source": [
    "import torch.nn as nn\n",
    "import torch.nn.functional as F\n",
    "\n",
    "def train_vanilla(model, device, train_loader, optimizer, epoch, verbose=True):\n",
    "    model.train()\n",
    "    for batch_idx, (data, target) in enumerate(train_loader):\n",
    "        data, target = data.to(device), target.to(device)\n",
    "\n",
    "        optimizer.zero_grad()\n",
    "        output = model(data)\n",
    "\n",
    "        loss = F.nll_loss(output, target)\n",
    "        loss.backward()\n",
    "        optimizer.step()\n",
    "        if batch_idx % 100 == 0 and verbose:\n",
    "            print('Train Epoch: {} [{}/{} ({:.0f}%)]\\tLoss: {:.6f}'.format(\n",
    "                epoch, batch_idx * len(data), len(train_loader.dataset),\n",
    "                100. * batch_idx / len(train_loader), loss.item()))\n",
    "\n",
    "def train(model, device, train_loader, optimizer, epoch, adv_loader, verbose=True):\n",
    "    model.train()\n",
    "    min_loss = torch.tensor(10.).log()\n",
    "    #for batch_idx, (data, target) in enumerate(train_loader):\n",
    "    for ((batch_idx, (data, target)), (_, (data_adv, _))) in zip(enumerate(train_loader),enumerate(adv_loader)):\n",
    "        data, target = data.to(device), target.to(device)\n",
    "        data_adv = data_adv.to(device)\n",
    "        optimizer.zero_grad()\n",
    "        output = model(data)\n",
    "        \n",
    "        #input_rand = torch.rand(train_loader.batch_size,1,28,28).to(device)\n",
    "        #output_rand = model(input_rand)\n",
    "        output_rand = model(data_adv)\n",
    "\n",
    "        loss = F.nll_loss(output, target) - output_rand.sum()/(10*train_loader.batch_size)\n",
    "        loss.backward()\n",
    "        a = torch.isnan(model.gmm.mu.grad).sum()\n",
    "        b = torch.isnan(model.gmm.logvar.grad).sum()\n",
    "        c = torch.isnan(model.gmm.alpha.grad).sum()\n",
    "\n",
    "        if (a+b+c)>0:\n",
    "            return loss, output, target, data_adv, data\n",
    "        optimizer.step()\n",
    "        if batch_idx % 100 == 0 and verbose:\n",
    "            print('Train Epoch: {} [{}/{} ({:.0f}%)]\\tLoss: {:.6f}'.format(\n",
    "                epoch, batch_idx * len(data), len(train_loader.dataset),\n",
    "                100. * batch_idx / len(train_loader), loss.item()))\n",
    "\n",
    "\n",
    "def test(model, device, test_loader):\n",
    "    model.eval()\n",
    "    test_loss = 0\n",
    "    correct = 0\n",
    "    av_conf = 0\n",
    "    with torch.no_grad():\n",
    "        for data, target in test_loader:\n",
    "            data, target = data.to(device), target.to(device)\n",
    "            output = model(data)\n",
    "\n",
    "            test_loss += F.nll_loss(output, target, reduction='sum').item() # sum up batch loss\n",
    "            c, pred = output.max(1, keepdim=True) # get the index of the max log-probability\n",
    "            correct += (pred.eq(target.view_as(pred))*(c.exp()>0.5)).sum().item()\n",
    "            av_conf += c.exp().sum().item()\n",
    "            \n",
    "    test_loss /= len(test_loader.dataset)\n",
    "    av_conf /= len(test_loader.dataset)\n",
    "    \n",
    "    print('\\nTest set: Average loss: {:.4f}, Accuracy: {}/{} ({:.0f}%), Ave. Confidence: {:.0f}%\\n'.format(\n",
    "        test_loss, correct, len(test_loader.dataset),\n",
    "        100. * correct / len(test_loader.dataset), 100. * av_conf))\n",
    "    return correct, av_conf\n",
    "    \n",
    "def test_adv(model, device, adv_test_loader):\n",
    "    model.eval()\n",
    "    av_conf = 0\n",
    "    with torch.no_grad():\n",
    "        for data, _ in adv_test_loader:\n",
    "            data = data.to(device)\n",
    "            output = model(data)\n",
    "\n",
    "            c, pred = output.max(1, keepdim=True) # get the index of the max log-probability\n",
    "            av_conf += c.exp().sum().item()\n",
    "            \n",
    "    av_conf /= len(adv_test_loader.dataset)\n",
    "\n",
    "    print('\\nAve. Confidence: {:.0f}%\\n'.format(100.*av_conf))\n",
    "    return av_conf"
   ]
  },
  {
   "cell_type": "code",
   "execution_count": 6,
   "metadata": {},
   "outputs": [],
   "source": [
    "base_model = models.NetVanilla().to(device)"
   ]
  },
  {
   "cell_type": "code",
   "execution_count": 7,
   "metadata": {
    "collapsed": true
   },
   "outputs": [
    {
     "name": "stdout",
     "output_type": "stream",
     "text": [
      "Train Epoch: 0 [0/60000 (0%)]\tLoss: 2.303466\n",
      "Train Epoch: 0 [10000/60000 (17%)]\tLoss: 2.242125\n",
      "Train Epoch: 0 [20000/60000 (33%)]\tLoss: 2.052248\n",
      "Train Epoch: 0 [30000/60000 (50%)]\tLoss: 1.267184\n",
      "Train Epoch: 0 [40000/60000 (67%)]\tLoss: 0.581124\n",
      "Train Epoch: 0 [50000/60000 (83%)]\tLoss: 0.433457\n",
      "Train Epoch: 1 [0/60000 (0%)]\tLoss: 0.357042\n",
      "Train Epoch: 1 [10000/60000 (17%)]\tLoss: 0.260129\n",
      "Train Epoch: 1 [20000/60000 (33%)]\tLoss: 0.321175\n",
      "Train Epoch: 1 [30000/60000 (50%)]\tLoss: 0.270328\n",
      "Train Epoch: 1 [40000/60000 (67%)]\tLoss: 0.306382\n",
      "Train Epoch: 1 [50000/60000 (83%)]\tLoss: 0.370945\n",
      "Train Epoch: 2 [0/60000 (0%)]\tLoss: 0.288595\n",
      "Train Epoch: 2 [10000/60000 (17%)]\tLoss: 0.235453\n",
      "Train Epoch: 2 [20000/60000 (33%)]\tLoss: 0.230057\n",
      "Train Epoch: 2 [30000/60000 (50%)]\tLoss: 0.176884\n",
      "Train Epoch: 2 [40000/60000 (67%)]\tLoss: 0.157737\n",
      "Train Epoch: 2 [50000/60000 (83%)]\tLoss: 0.142470\n",
      "Train Epoch: 3 [0/60000 (0%)]\tLoss: 0.254140\n",
      "Train Epoch: 3 [10000/60000 (17%)]\tLoss: 0.134829\n",
      "Train Epoch: 3 [20000/60000 (33%)]\tLoss: 0.113751\n",
      "Train Epoch: 3 [30000/60000 (50%)]\tLoss: 0.106633\n",
      "Train Epoch: 3 [40000/60000 (67%)]\tLoss: 0.175867\n",
      "Train Epoch: 3 [50000/60000 (83%)]\tLoss: 0.250854\n",
      "Train Epoch: 4 [0/60000 (0%)]\tLoss: 0.178937\n",
      "Train Epoch: 4 [10000/60000 (17%)]\tLoss: 0.045529\n",
      "Train Epoch: 4 [20000/60000 (33%)]\tLoss: 0.145959\n",
      "Train Epoch: 4 [30000/60000 (50%)]\tLoss: 0.131839\n",
      "Train Epoch: 4 [40000/60000 (67%)]\tLoss: 0.056161\n",
      "Train Epoch: 4 [50000/60000 (83%)]\tLoss: 0.063099\n",
      "Train Epoch: 5 [0/60000 (0%)]\tLoss: 0.121666\n",
      "Train Epoch: 5 [10000/60000 (17%)]\tLoss: 0.096996\n",
      "Train Epoch: 5 [20000/60000 (33%)]\tLoss: 0.102610\n",
      "Train Epoch: 5 [30000/60000 (50%)]\tLoss: 0.125228\n",
      "Train Epoch: 5 [40000/60000 (67%)]\tLoss: 0.182268\n",
      "Train Epoch: 5 [50000/60000 (83%)]\tLoss: 0.126037\n",
      "Train Epoch: 6 [0/60000 (0%)]\tLoss: 0.096785\n",
      "Train Epoch: 6 [10000/60000 (17%)]\tLoss: 0.098018\n",
      "Train Epoch: 6 [20000/60000 (33%)]\tLoss: 0.092636\n",
      "Train Epoch: 6 [30000/60000 (50%)]\tLoss: 0.051009\n",
      "Train Epoch: 6 [40000/60000 (67%)]\tLoss: 0.216562\n",
      "Train Epoch: 6 [50000/60000 (83%)]\tLoss: 0.042255\n",
      "Train Epoch: 7 [0/60000 (0%)]\tLoss: 0.071019\n",
      "Train Epoch: 7 [10000/60000 (17%)]\tLoss: 0.080452\n",
      "Train Epoch: 7 [20000/60000 (33%)]\tLoss: 0.031154\n",
      "Train Epoch: 7 [30000/60000 (50%)]\tLoss: 0.081344\n",
      "Train Epoch: 7 [40000/60000 (67%)]\tLoss: 0.148652\n",
      "Train Epoch: 7 [50000/60000 (83%)]\tLoss: 0.074666\n",
      "Train Epoch: 8 [0/60000 (0%)]\tLoss: 0.088357\n",
      "Train Epoch: 8 [10000/60000 (17%)]\tLoss: 0.054953\n",
      "Train Epoch: 8 [20000/60000 (33%)]\tLoss: 0.106323\n",
      "Train Epoch: 8 [30000/60000 (50%)]\tLoss: 0.038882\n",
      "Train Epoch: 8 [40000/60000 (67%)]\tLoss: 0.032897\n",
      "Train Epoch: 8 [50000/60000 (83%)]\tLoss: 0.057581\n",
      "Train Epoch: 9 [0/60000 (0%)]\tLoss: 0.046993\n",
      "Train Epoch: 9 [10000/60000 (17%)]\tLoss: 0.064446\n",
      "Train Epoch: 9 [20000/60000 (33%)]\tLoss: 0.080646\n",
      "Train Epoch: 9 [30000/60000 (50%)]\tLoss: 0.086545\n",
      "Train Epoch: 9 [40000/60000 (67%)]\tLoss: 0.059943\n",
      "Train Epoch: 9 [50000/60000 (83%)]\tLoss: 0.031974\n"
     ]
    }
   ],
   "source": [
    "import torch.optim as optim\n",
    "\n",
    "lr = .001\n",
    "momentum = .9\n",
    "\n",
    "optimizer_base = optim.SGD(base_model.parameters(), lr=lr, momentum=momentum)\n",
    "for epoch in range(10):\n",
    "    train_vanilla(base_model, device, train_loader, optimizer_base, epoch)\n"
   ]
  },
  {
   "cell_type": "code",
   "execution_count": 10,
   "metadata": {},
   "outputs": [],
   "source": [
    "torch.save(base_model, 'base_model.pth')"
   ]
  },
  {
   "cell_type": "code",
   "execution_count": 8,
   "metadata": {},
   "outputs": [
    {
     "name": "stderr",
     "output_type": "stream",
     "text": [
      "/home/alexm/project/notebooks/gmm-robust/models.py:78: UserWarning: To copy construct from a tensor, it is recommended to use sourceTensor.clone().detach() or sourceTensor.clone().detach().requires_grad_(True), rather than torch.tensor(sourceTensor).\n",
      "  index = (X[:,None,:]-torch.tensor(self.mu.data[None,:,:], dtype=torch.float)).norm(dim=2).min(dim=1)[1]\n"
     ]
    }
   ],
   "source": [
    "base_model = torch.load('base_model.pth')\n",
    "model = models.Net(base_model, X_MNIST, 1000, -764.).to(device)\n",
    "torch.save(model, 'gmm_model.pth')"
   ]
  },
  {
   "cell_type": "code",
   "execution_count": 4,
   "metadata": {},
   "outputs": [
    {
     "ename": "NameError",
     "evalue": "name 'model' is not defined",
     "output_type": "error",
     "traceback": [
      "\u001b[0;31m---------------------------------------------------------------------------\u001b[0m",
      "\u001b[0;31mNameError\u001b[0m                                 Traceback (most recent call last)",
      "\u001b[0;32m<ipython-input-4-f2cf27e785b5>\u001b[0m in \u001b[0;36m<module>\u001b[0;34m()\u001b[0m\n\u001b[1;32m      1\u001b[0m \u001b[0;31m#model.log_pz_lam.data = torch.tensor(-767.132, device=device)\u001b[0m\u001b[0;34m\u001b[0m\u001b[0;34m\u001b[0m\u001b[0m\n\u001b[1;32m      2\u001b[0m \u001b[0mdata\u001b[0m \u001b[0;34m=\u001b[0m \u001b[0menumerate\u001b[0m\u001b[0;34m(\u001b[0m\u001b[0mdl\u001b[0m\u001b[0;34m.\u001b[0m\u001b[0mtest_loader\u001b[0m\u001b[0;34m)\u001b[0m\u001b[0;34m.\u001b[0m\u001b[0m__next__\u001b[0m\u001b[0;34m(\u001b[0m\u001b[0;34m)\u001b[0m\u001b[0;34m[\u001b[0m\u001b[0;36m1\u001b[0m\u001b[0;34m]\u001b[0m\u001b[0;34m[\u001b[0m\u001b[0;36m0\u001b[0m\u001b[0;34m]\u001b[0m\u001b[0;34m\u001b[0m\u001b[0m\n\u001b[0;32m----> 3\u001b[0;31m \u001b[0my\u001b[0m \u001b[0;34m=\u001b[0m \u001b[0mmodel\u001b[0m\u001b[0;34m(\u001b[0m\u001b[0mdata\u001b[0m\u001b[0;34m.\u001b[0m\u001b[0mto\u001b[0m\u001b[0;34m(\u001b[0m\u001b[0mdevice\u001b[0m\u001b[0;34m)\u001b[0m\u001b[0;34m)\u001b[0m\u001b[0;34m\u001b[0m\u001b[0m\n\u001b[0m\u001b[1;32m      4\u001b[0m \u001b[0my_base\u001b[0m \u001b[0;34m=\u001b[0m \u001b[0mbase_model\u001b[0m\u001b[0;34m(\u001b[0m\u001b[0mdata\u001b[0m\u001b[0;34m.\u001b[0m\u001b[0mto\u001b[0m\u001b[0;34m(\u001b[0m\u001b[0mdevice\u001b[0m\u001b[0;34m)\u001b[0m\u001b[0;34m)\u001b[0m\u001b[0;34m\u001b[0m\u001b[0m\n\u001b[1;32m      5\u001b[0m \u001b[0;34m\u001b[0m\u001b[0m\n",
      "\u001b[0;31mNameError\u001b[0m: name 'model' is not defined"
     ]
    }
   ],
   "source": [
    "#model.log_pz_lam.data = torch.tensor(-767.132, device=device)\n",
    "data = enumerate(dl.test_loader).__next__()[1][0]\n",
    "y = model(data.to(device))\n",
    "y_base = base_model(data.to(device))\n",
    "\n",
    "plotting.plot_samples([y,y_base], data)\n",
    "\n",
    "test(model, device, test_loader)\n",
    "test(base_model, device, test_loader)\n",
    "\n",
    "test_adv(model, device, EMNIST_test_loader)\n",
    "test_adv(base_model, device, EMNIST_test_loader)"
   ]
  },
  {
   "cell_type": "code",
   "execution_count": 570,
   "metadata": {},
   "outputs": [
    {
     "name": "stdout",
     "output_type": "stream",
     "text": [
      "Train Epoch: 0 [0/60000 (0%)]\tLoss: 0.841768\n",
      "Train Epoch: 0 [10000/60000 (17%)]\tLoss: 0.488239\n",
      "Train Epoch: 0 [20000/60000 (33%)]\tLoss: 0.471570\n",
      "Train Epoch: 0 [30000/60000 (50%)]\tLoss: 0.495308\n",
      "Train Epoch: 0 [40000/60000 (67%)]\tLoss: 0.416114\n",
      "Train Epoch: 0 [50000/60000 (83%)]\tLoss: 0.419273\n"
     ]
    }
   ],
   "source": [
    "lr = .001\n",
    "momentum = .9\n",
    "\n",
    "optimizer = optim.SGD( model.parameters(), lr=lr, momentum=momentum)\n",
    "for epoch in range(1):\n",
    "    train(model, device, train_loader, optimizer, epoch, EMNIST_train_loader)\n",
    "    #train_vanilla(model, device, train_loader, optimizer, epoch)"
   ]
  },
  {
   "cell_type": "code",
   "execution_count": 39,
   "metadata": {},
   "outputs": [
    {
     "data": {
      "image/png": "[encoded data removed]",
      "text/plain": [
       "<Figure size 432x288 with 10 Axes>"
      ]
     },
     "metadata": {},
     "output_type": "display_data"
    },
    {
     "name": "stdout",
     "output_type": "stream",
     "text": [
      "\n",
      "\n"
     ]
    }
   ],
   "source": [
    "#model.log_pz_lam.data = torch.tensor(-767.132, device=device)\n",
    "data = enumerate(EMNIST_test_loader).__next__()[1][0]\n",
    "y = model(data.to(device))\n",
    "y_base = base_model(data.to(device))\n",
    "\n",
    "plotting.plot_samples([y_base,y], data)"
   ]
  },
  {
   "cell_type": "code",
   "execution_count": 525,
   "metadata": {},
   "outputs": [
    {
     "data": {
      "text/plain": [
       "[<matplotlib.lines.Line2D at 0x7f39ba7c0e48>]"
      ]
     },
     "execution_count": 525,
     "metadata": {},
     "output_type": "execute_result"
    },
    {
     "data": {
      "image/png": "[encoded data removed]",
      "text/plain": [
       "<Figure size 432x288 with 1 Axes>"
      ]
     },
     "metadata": {},
     "output_type": "display_data"
    }
   ],
   "source": [
    "correct = []\n",
    "conf_MNIST = []\n",
    "conf_EMNIST = []\n",
    "lam_vec = torch.linspace(-775.,-755, 20)\n",
    "for lam in lam_vec:\n",
    "    model.log_pz_lam.data = torch.tensor(lam, device=device)\n",
    "\n",
    "    a, b = test(model, device, test_loader)\n",
    "    correct.append(a)\n",
    "    conf_MNIST.append(b)\n",
    "\n",
    "    conf_EMNIST.append(test_adv(model, device, EMNIST_test_loader))\n",
    "\n",
    "#fig=plt.figure(figsize=(20, 6))\n",
    "plt.plot(lam_vec.numpy(), np.array(correct)/10000)\n",
    "plt.plot(lam_vec.numpy(), conf_MNIST)\n",
    "plt.plot(lam_vec.numpy(), conf_EMNIST)"
   ]
  },
  {
   "cell_type": "code",
   "execution_count": 42,
   "metadata": {},
   "outputs": [
    {
     "data": {
      "image/png": "[encoded data removed]",
      "text/plain": [
       "<Figure size 432x288 with 10 Axes>"
      ]
     },
     "metadata": {},
     "output_type": "display_data"
    },
    {
     "name": "stdout",
     "output_type": "stream",
     "text": [
      "\n",
      "\n"
     ]
    }
   ],
   "source": [
    "data = enumerate(EMNIST_test_loader).__next__()[1][0]\n",
    "y = model(data.to(device))\n",
    "y_base = base_model(data.to(device))\n",
    "\n",
    "plotting.plot_samples([y_base, y], data)"
   ]
  },
  {
   "cell_type": "code",
   "execution_count": 487,
   "metadata": {},
   "outputs": [],
   "source": [
    "with torch.no_grad():\n",
    "    for data, _ in test_loader:\n",
    "        data = data.to(device)\n",
    "        output = model(data)\n",
    "        base_output = base_model(data)\n",
    "        c, pred = output.max(1, keepdim=True) # get the index of the max log-probability\n",
    "        c, pred_base = output.max(1, keepdim=True) # get the index of the max log-probability\n",
    "        if any(pred!= pred_base):\n",
    "            print('hi')\n"
   ]
  },
  {
   "cell_type": "code",
   "execution_count": 573,
   "metadata": {},
   "outputs": [
    {
     "name": "stdout",
     "output_type": "stream",
     "text": [
      "\n",
      "Test set: Average loss: 0.4599, Accuracy: 31865/40000 (80%), Ave. Confidence: 76%\n",
      "\n",
      "\n",
      "Test set: Average loss: 0.4556, Accuracy: 31961/40000 (80%), Ave. Confidence: 77%\n",
      "\n"
     ]
    },
    {
     "data": {
      "text/plain": [
       "(31961, 0.7668706594467163)"
      ]
     },
     "execution_count": 573,
     "metadata": {},
     "output_type": "execute_result"
    }
   ],
   "source": [
    "test(model, device, EMNIST_test_loader_digits)\n",
    "test(base_model, device, EMNIST_test_loader_digits)\n"
   ]
  },
  {
   "cell_type": "code",
   "execution_count": 19,
   "metadata": {},
   "outputs": [
    {
     "data": {
      "text/plain": [
       "tensor([-764.8209, -751.8403, -759.9078, -775.3289, -765.0276, -782.1302,\n",
       "        -758.5701, -753.3587, -754.9035, -765.7292], device='cuda:0',\n",
       "       grad_fn=<LogsumexpBackward>)"
      ]
     },
     "execution_count": 19,
     "metadata": {},
     "output_type": "execute_result"
    }
   ],
   "source": [
    "data = enumerate(EMNIST_test_loader).__next__()[1][0]\n",
    "y = model.gmm(data.view(10,784).to(device))\n",
    "torch.logsumexp(y, dim=0)"
   ]
  },
  {
   "cell_type": "code",
   "execution_count": null,
   "metadata": {},
   "outputs": [],
   "source": []
  }
 ],
 "metadata": {
  "kernelspec": {
   "display_name": "Python 3",
   "language": "python",
   "name": "python3"
  },
  "language_info": {
   "codemirror_mode": {
    "name": "ipython",
    "version": 3
   },
   "file_extension": ".py",
   "mimetype": "text/x-python",
   "name": "python",
   "nbconvert_exporter": "python",
   "pygments_lexer": "ipython3",
   "version": "3.5.2"
  }
 },
 "nbformat": 4,
 "nbformat_minor": 2
}
