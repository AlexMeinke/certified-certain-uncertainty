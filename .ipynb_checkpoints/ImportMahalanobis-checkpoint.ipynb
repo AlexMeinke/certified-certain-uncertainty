{
 "cells": [
  {
   "cell_type": "code",
   "execution_count": 1,
   "metadata": {},
   "outputs": [],
   "source": [
    "import torch\n",
    "import torch.nn as nn\n",
    "import torch.nn.functional as F\n",
    "\n",
    "import utils.dataloaders as dl\n",
    "\n",
    "import utils.mahalanobis as maha\n",
    "\n",
    "import model_params as params\n",
    "import model_paths\n",
    "\n",
    "\n",
    "from importlib import reload"
   ]
  },
  {
   "cell_type": "code",
   "execution_count": null,
   "metadata": {},
   "outputs": [
    {
     "name": "stdout",
     "output_type": "stream",
     "text": [
      "SVHN\n",
      "CIFAR10\n"
     ]
    }
   ],
   "source": [
    "reload(maha)\n",
    "reload(params)\n",
    "device = torch.device('cuda:7')\n",
    "\n",
    "datasets = ['MNIST', 'FMNIST', 'SVHN', 'CIFAR10', 'CIFAR100']\n",
    "\n",
    "datasets = ['SVHN', 'CIFAR10', 'CIFAR100']\n",
    "\n",
    "for dataset in datasets:\n",
    "    print(dataset)\n",
    "    model_params = params.params_dict[dataset](augm_flag=True)\n",
    "    path = model_paths.model_dict[dataset]().file_dict['Base']\n",
    "\n",
    "    pretrained = torch.load(path).state_dict()\n",
    "\n",
    "    if dataset=='MNIST':\n",
    "        model = maha.LeNet()\n",
    "    elif dataset=='FMNIST':\n",
    "        model = maha.ResNet18(1, 10)\n",
    "    elif dataset in ['SVHN', 'CIFAR10']:\n",
    "        model = maha.ResNet18(3, 10)\n",
    "    elif dataset=='CIFAR100':\n",
    "        model = maha.ResNet18(3, 100)\n",
    "\n",
    "    model.load_state_dict(pretrained)\n",
    "\n",
    "    final_model = maha.Mahalanobis(model.to(device), model_params, device)\n",
    "\n",
    "    torch.save(final_model.cpu(), 'SavedModels/other/mahalanobis/' + dataset + '.pth')"
   ]
  },
  {
   "cell_type": "code",
   "execution_count": 5,
   "metadata": {},
   "outputs": [],
   "source": [
    "data, label = next(iter(model_params.test_loader))"
   ]
  },
  {
   "cell_type": "code",
   "execution_count": 9,
   "metadata": {},
   "outputs": [],
   "source": [
    "dataset = 'SVHN'"
   ]
  },
  {
   "cell_type": "code",
   "execution_count": 3,
   "metadata": {},
   "outputs": [],
   "source": [
    "model = torch.load('SavedModels/odin/MNIST_OUTSEEDS_ODIN.pth')"
   ]
  },
  {
   "cell_type": "code",
   "execution_count": 12,
   "metadata": {},
   "outputs": [],
   "source": [
    "path = model_paths.model_dict[dataset]().file_dict['Base']"
   ]
  },
  {
   "cell_type": "code",
   "execution_count": 11,
   "metadata": {},
   "outputs": [
    {
     "data": {
      "text/plain": [
       "<module 'model_paths' from '/home/alexm/project/notebooks/gmm-robust/model_paths.py'>"
      ]
     },
     "execution_count": 11,
     "metadata": {},
     "output_type": "execute_result"
    }
   ],
   "source": [
    "reload(model_paths)"
   ]
  },
  {
   "cell_type": "code",
   "execution_count": null,
   "metadata": {},
   "outputs": [],
   "source": []
  }
 ],
 "metadata": {
  "kernelspec": {
   "display_name": "Python 3",
   "language": "python",
   "name": "python3"
  }
 },
 "nbformat": 4,
 "nbformat_minor": 2
}
