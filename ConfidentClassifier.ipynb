{
 "cells": [
  {
   "cell_type": "code",
   "execution_count": 1,
   "metadata": {},
   "outputs": [],
   "source": [
    "import torch\n",
    "\n",
    "import utils.confident_classifier as cc\n",
    "import utils.dataloaders as dl\n",
    "\n",
    "from importlib import reload\n",
    "import matplotlib"
   ]
  },
  {
   "cell_type": "code",
   "execution_count": 5,
   "metadata": {},
   "outputs": [],
   "source": [
    "folder = '../Confident_classifier/SavedModels/'\n",
    "\n",
    "# MNIST\n",
    "file = 'MNIST_epochs100_lr0.0002_classifier.pth'\n",
    "model = cc.LeNet()\n",
    "model.load_state_dict(torch.load(folder + file))\n",
    "\n",
    "model.cpu()\n",
    "torch.save(model, 'SavedModels/other/gan/' + 'MNIST' + '.pth')\n",
    "\n",
    "\n",
    "# FMNIST\n",
    "file = 'FMNIST_epochs100_lr0.0002_classifier.pth'\n",
    "model = cc.vgg13(in_channels=1)\n",
    "model.load_state_dict(torch.load(folder + file))\n",
    "\n",
    "model.cpu()\n",
    "torch.save(model, 'SavedModels/other/gan/' + 'FMNIST' + '.pth')\n",
    "\n",
    "\n",
    "# SVHN\n",
    "file = 'SVHN_epochs100_lr0.0002_classifier.pth'\n",
    "model = cc.vgg13(in_channels=3)\n",
    "model.load_state_dict(torch.load(folder + file))\n",
    "\n",
    "model.cpu()\n",
    "torch.save(model, 'SavedModels/other/gan/' + 'SVHN' + '.pth')\n",
    "\n",
    "\n",
    "# CIFAR10\n",
    "file = 'CIFAR10_epochs100_lr0.0002_classifier.pth'\n",
    "model = cc.vgg13(in_channels=3)\n",
    "model.load_state_dict(torch.load(folder + file))\n",
    "\n",
    "model.cpu()\n",
    "torch.save(model, 'SavedModels/other/gan/' + 'CIFAR10' + '.pth')\n",
    "\n",
    "\n",
    "# CIFAR100\n",
    "file = 'CIFAR100_epochs100_lr0.0002_classifier.pth'\n",
    "model = cc.vgg13(in_channels=3, num_classes=100)\n",
    "model.load_state_dict(torch.load(folder + file))\n",
    "\n",
    "model.cpu()\n",
    "torch.save(model, 'SavedModels/other/gan/' + 'CIFAR100' + '.pth')"
   ]
  },
  {
   "cell_type": "code",
   "execution_count": 6,
   "metadata": {},
   "outputs": [],
   "source": [
    "test_loader = dl.CIFAR10(train=False)\n",
    "data = next(iter(test_loader))[0]"
   ]
  },
  {
   "cell_type": "code",
   "execution_count": 11,
   "metadata": {},
   "outputs": [
    {
     "data": {
      "text/plain": [
       "tensor(0.5800)"
      ]
     },
     "execution_count": 11,
     "metadata": {},
     "output_type": "execute_result"
    }
   ],
   "source": [
    "(model(data).exp().max(1)[0] == 1.).float().mean()"
   ]
  },
  {
   "cell_type": "code",
   "execution_count": 2,
   "metadata": {},
   "outputs": [
    {
     "data": {
      "text/plain": [
       "<module 'utils.confident_classifier' from '/home/alexm/project/notebooks/gmm-robust/utils/confident_classifier.py'>"
      ]
     },
     "execution_count": 2,
     "metadata": {},
     "output_type": "execute_result"
    }
   ],
   "source": [
    "reload(cc)"
   ]
  },
  {
   "cell_type": "code",
   "execution_count": null,
   "metadata": {},
   "outputs": [],
   "source": []
  }
 ],
 "metadata": {
  "kernelspec": {
   "display_name": "Python 3",
   "language": "python",
   "name": "python3"
  },
  "language_info": {
   "codemirror_mode": {
    "name": "ipython",
    "version": 3
   },
   "file_extension": ".py",
   "mimetype": "text/x-python",
   "name": "python",
   "nbconvert_exporter": "python",
   "pygments_lexer": "ipython3",
   "version": "3.5.2"
  }
 },
 "nbformat": 4,
 "nbformat_minor": 2
}
