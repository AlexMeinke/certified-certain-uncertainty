{
 "cells": [
  {
   "cell_type": "code",
   "execution_count": 1,
   "metadata": {},
   "outputs": [],
   "source": [
    "import torch\n",
    "import torch.nn as nn\n",
    "import torch.nn.functional as F\n",
    "import torch.optim as optim\n",
    "\n",
    "import matplotlib.pyplot as plt\n",
    "import numpy as np\n",
    "import pandas as pd\n",
    "import scipy\n",
    "from sklearn.metrics import roc_auc_score\n",
    "from sklearn import mixture, preprocessing, datasets\n",
    "\n",
    "from importlib import reload\n",
    "import matplotlib\n",
    "import matplotlib.pyplot as plt\n",
    "from matplotlib import patches\n",
    "\n",
    "import torch.utils.data as data_utils\n",
    "\n",
    "import utils.models as models\n",
    "import utils.plotting as plotting\n",
    "import utils.dataloaders as dl\n",
    "import utils.traintest as tt\n",
    "import utils.adversarial as adv\n",
    "import utils.eval as ev\n",
    "import model_params as params\n",
    "import utils.resnet_orig as resnet\n",
    "import utils.gmm_helpers as gmm_helpers\n",
    "\n",
    "import model_paths"
   ]
  },
  {
   "cell_type": "code",
   "execution_count": 2,
   "metadata": {},
   "outputs": [],
   "source": [
    "device = torch.device('cuda:6')\n",
    "datasets = ['MNIST', 'FMNIST', 'SVHN', 'CIFAR10', 'CIFAR100']\n",
    "\n",
    "file_dict = {'MNIST' :'samples_steps500_alpha3.0_restarts50_batches2_batch_size100_MNIST_2019-11-08 08:46:38.902661_MNIST.pth',\n",
    "             'FMNIST':'samples_steps500_alpha3.0_restarts50_batches2_batch_size100_FMNIST_2019-11-08 12:10:48.877278_FMNIST.pth',\n",
    "             'SVHN' : 'samples_steps500_alpha3.0_restarts50_batches2_batch_size100_SVHN_2019-11-08 14:45:10.708336_SVHN.pth',\n",
    "             'CIFAR10':'samples_steps500_alpha3.0_restarts50_batches2_batch_size100_CIFAR10_2019-11-08 08:46:55.962307_CIFAR10.pth',\n",
    "             'CIFAR100':'samples_steps500_alpha3.0_restarts50_batches2_batch_size100_CIFAR100_2019-11-10 17:12:27.811439_CIFAR100.pth',\n",
    "            }\n"
   ]
  },
  {
   "cell_type": "code",
   "execution_count": 5,
   "metadata": {},
   "outputs": [
    {
     "data": {
      "image/png": "[encoded data removed]",
      "text/plain": [
       "<Figure size 1008x144 with 5 Axes>"
      ]
     },
     "metadata": {},
     "output_type": "display_data"
    }
   ],
   "source": [
    "plt.figure(figsize=(14,2))\n",
    "\n",
    "for i, ds in enumerate(datasets):\n",
    "    plt.subplot(1, len(datasets), 1 + i)\n",
    "    \n",
    "    file = file_dict[ds]\n",
    "\n",
    "    batch = torch.load('results/backup/' + file)\n",
    "    plt.title(ds)\n",
    "    plt.hist(batch.bounds, density=True, bins=10)\n",
    "    plt.xlabel('R')\n",
    "    plt.yticks([])\n",
    "    \n",
    "myplot = plt.gcf()\n",
    "\n",
    "#myplot.savefig('results/histograms.eps', format='eps')"
   ]
  },
  {
   "cell_type": "code",
   "execution_count": 5,
   "metadata": {},
   "outputs": [],
   "source": [
    "myplot.savefig('results/histograms.eps', format='eps', bbox_inches = 'tight',\n",
    "    pad_inches = 0)"
   ]
  },
  {
   "cell_type": "code",
   "execution_count": null,
   "metadata": {},
   "outputs": [],
   "source": []
  }
 ],
 "metadata": {
  "kernelspec": {
   "display_name": "Python 3",
   "language": "python",
   "name": "python3"
  },
  "language_info": {
   "codemirror_mode": {
    "name": "ipython",
    "version": 3
   },
   "file_extension": ".py",
   "mimetype": "text/x-python",
   "name": "python",
   "nbconvert_exporter": "python",
   "pygments_lexer": "ipython3",
   "version": "3.5.2"
  }
 },
 "nbformat": 4,
 "nbformat_minor": 2
}
