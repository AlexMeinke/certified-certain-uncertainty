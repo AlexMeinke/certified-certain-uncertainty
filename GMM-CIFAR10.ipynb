{
 "cells": [
  {
   "cell_type": "code",
   "execution_count": 285,
   "metadata": {},
   "outputs": [
    {
     "name": "stdout",
     "output_type": "stream",
     "text": [
      "71.9 ms ± 4.55 ms per loop (mean ± std. dev. of 7 runs, 10 loops each)\n"
     ]
    }
   ],
   "source": [
    "import torch\n",
    "import torch.nn as nn\n",
    "import torch.nn.functional as F\n",
    "import torch.optim as optim\n",
    "\n",
    "import matplotlib.pyplot as plt\n",
    "import numpy as np\n",
    "import pandas as pd\n",
    "\n",
    "from importlib import reload\n",
    "\n",
    "import utils.models as models\n",
    "import utils.plotting as plotting\n",
    "import utils.dataloaders as dl\n",
    "import utils.traintest as tt\n",
    "import utils.adversarial as adv\n",
    "import utils.eval as ev\n",
    "import resnet\n",
    "from tensorboardX import SummaryWriter\n",
    "\n",
    "\n",
    "import argparse\n",
    "\n",
    "import param as hps\n",
    "\n",
    "device = torch.device('cuda:' + str(hps.gpu))\n",
    "writer = SummaryWriter()\n",
    "\n",
    "if hps.dataset=='MNIST':\n",
    "    base_model = models.LeNetMadry().to(device)\n",
    "    train_loader = dl.MNIST_train_loader\n",
    "    noise_loader = dl.Noise_train_loader_MNIST\n",
    "    test_loader = dl.MNIST_test_loader\n",
    "elif hps.dataset=='CIFAR10':\n",
    "    base_model = resnet.ResNet50().to(device).to(device)\n",
    "    train_loader = dl.CIFAR10_train_loader\n",
    "    noise_loader = dl.Noise_train_loader_CIFAR10\n",
    "    test_loader = dl.CIFAR10_test_loader\n",
    "    \n",
    "noise_loader = dl.PrecomputeLoader(noise_loader)\n",
    "\n",
    "if hps.use_gmm:\n",
    "    loading_string = hps.dataset+'_n'+str(hps.n) \n",
    "    gmm = torch.load('SavedModels/gmm_'+loading_string+'.pth')\n",
    "    gmm.alpha = nn.Parameter(gmm.alpha)\n",
    "    model = models.RobustModel(base_model, gmm, hps.lam).to(device)\n",
    "    model.loglam.requires_grad = False\n",
    "else:\n",
    "    model = base_model\n",
    "\n",
    "saving_string = hps.dataset+'_lam'+str(hps.lam)+'_n'+str(hps.n)\n",
    "\n",
    "lr = hps.lr\n",
    "\n",
    "if hps.use_gmm:\n",
    "    param_groups = [{'params':model.mm.parameters(),'lr':lr, 'weight_decay':0.},\n",
    "                    {'params':model.base_model.parameters(),'lr':lr, 'weight_decay':hps.decay}]\n",
    "else:\n",
    "    param_groups = [{'params':model.parameters(),'lr':lr, 'weight_decay':hps.decay}]\n",
    "    \n",
    "optimizer = optim.Adam(param_groups)\n",
    "\n",
    "for epoch in range(hps.epochs):\n",
    "    if epoch+1 in [50,75,90]:\n",
    "        for group in optimizer.param_groups:\n",
    "            group['lr'] *= .1\n",
    "    error = tt.train_ACET(model, device, train_loader, noise_loader, optimizer, epoch, steps=hps.steps, verbose=False)\n",
    "    correct, ave_conf = tt.test(model, device, test_loader)\n",
    "    writer.add_scalar('TestSet/TrainLoss', error, epoch)\n",
    "    writer.add_scalar('TestSet/Correct', correct, epoch)\n",
    "    writer.add_scalar('TestSet/Confidence', ave_conf, epoch)\n",
    "    if (epoch)%5==0:\n",
    "        df = ev.evaluate(model, device, writer=writer)\n",
    "        writer.add_scalar('AUROC/FMNIST', df['AUROC'].iloc[1], epoch)\n",
    "        writer.add_scalar('AUROC/EMNIST', df['AUROC'].iloc[2], epoch)\n",
    "        writer.add_scalar('AUROC/GrayCIFAR10', df['AUROC'].iloc[3], epoch)\n",
    "        writer.add_scalar('AUROC/Noise', df['AUROC'].iloc[4], epoch)\n",
    "        writer.add_scalar('AUROC/AdvNoise', df['AUROC'].iloc[5], epoch)\n",
    "        writer.add_scalar('AUROC/AdvSample', df['AUROC'].iloc[6], epoch)\n",
    "        \n",
    "        writer.add_scalar('MMC/FMNIST', df['MMC'].iloc[1], epoch)\n",
    "        writer.add_scalar('MMC/EMNIST', df['MMC'].iloc[2], epoch)\n",
    "        writer.add_scalar('MMC/GrayCIFAR10', df['MMC'].iloc[3], epoch)\n",
    "        writer.add_scalar('MMC/Noise', df['MMC'].iloc[4], epoch)\n",
    "        writer.add_scalar('MMC/AdvNoise', df['MMC'].iloc[5], epoch)\n",
    "        writer.add_scalar('MMC/AdvSample', df['MMC'].iloc[6], epoch)"
   ]
  },
  {
   "cell_type": "code",
   "execution_count": 23,
   "metadata": {},
   "outputs": [
    {
     "ename": "ImportError",
     "evalue": "No module named 'lmdb'",
     "output_type": "error",
     "traceback": [
      "\u001b[0;31m---------------------------------------------------------------------------\u001b[0m",
      "\u001b[0;31mImportError\u001b[0m                               Traceback (most recent call last)",
      "\u001b[0;32m<ipython-input-23-f6cfab3a6dbc>\u001b[0m in \u001b[0;36m<module>\u001b[0;34m()\u001b[0m\n\u001b[1;32m      1\u001b[0m LSUN_test_loader = torch.utils.data.DataLoader(\n\u001b[0;32m----> 2\u001b[0;31m         \u001b[0mdatasets\u001b[0m\u001b[0;34m.\u001b[0m\u001b[0mLSUN\u001b[0m\u001b[0;34m(\u001b[0m\u001b[0;34m'../data'\u001b[0m\u001b[0;34m,\u001b[0m \u001b[0mclasses\u001b[0m\u001b[0;34m=\u001b[0m\u001b[0;34m'train'\u001b[0m\u001b[0;34m,\u001b[0m \u001b[0mtransform\u001b[0m\u001b[0;34m=\u001b[0m\u001b[0mtransforms\u001b[0m\u001b[0;34m.\u001b[0m\u001b[0mToTensor\u001b[0m\u001b[0;34m(\u001b[0m\u001b[0;34m)\u001b[0m\u001b[0;34m)\u001b[0m\u001b[0;34m,\u001b[0m\u001b[0;34m\u001b[0m\u001b[0m\n\u001b[0m\u001b[1;32m      3\u001b[0m         batch_size=100, shuffle=False)\n",
      "\u001b[0;32m/usr/local/lib/python3.5/dist-packages/torchvision/datasets/lsun.py\u001b[0m in \u001b[0;36m__init__\u001b[0;34m(self, root, classes, transform, target_transform)\u001b[0m\n\u001b[1;32m    108\u001b[0m             self.dbs.append(LSUNClass(\n\u001b[1;32m    109\u001b[0m                 \u001b[0mroot\u001b[0m\u001b[0;34m=\u001b[0m\u001b[0mroot\u001b[0m \u001b[0;34m+\u001b[0m \u001b[0;34m'/'\u001b[0m \u001b[0;34m+\u001b[0m \u001b[0mc\u001b[0m \u001b[0;34m+\u001b[0m \u001b[0;34m'_lmdb'\u001b[0m\u001b[0;34m,\u001b[0m\u001b[0;34m\u001b[0m\u001b[0m\n\u001b[0;32m--> 110\u001b[0;31m                 transform=transform))\n\u001b[0m\u001b[1;32m    111\u001b[0m \u001b[0;34m\u001b[0m\u001b[0m\n\u001b[1;32m    112\u001b[0m         \u001b[0mself\u001b[0m\u001b[0;34m.\u001b[0m\u001b[0mindices\u001b[0m \u001b[0;34m=\u001b[0m \u001b[0;34m[\u001b[0m\u001b[0;34m]\u001b[0m\u001b[0;34m\u001b[0m\u001b[0m\n",
      "\u001b[0;32m/usr/local/lib/python3.5/dist-packages/torchvision/datasets/lsun.py\u001b[0m in \u001b[0;36m__init__\u001b[0;34m(self, root, transform, target_transform)\u001b[0m\n\u001b[1;32m     14\u001b[0m \u001b[0;32mclass\u001b[0m \u001b[0mLSUNClass\u001b[0m\u001b[0;34m(\u001b[0m\u001b[0mdata\u001b[0m\u001b[0;34m.\u001b[0m\u001b[0mDataset\u001b[0m\u001b[0;34m)\u001b[0m\u001b[0;34m:\u001b[0m\u001b[0;34m\u001b[0m\u001b[0m\n\u001b[1;32m     15\u001b[0m     \u001b[0;32mdef\u001b[0m \u001b[0m__init__\u001b[0m\u001b[0;34m(\u001b[0m\u001b[0mself\u001b[0m\u001b[0;34m,\u001b[0m \u001b[0mroot\u001b[0m\u001b[0;34m,\u001b[0m \u001b[0mtransform\u001b[0m\u001b[0;34m=\u001b[0m\u001b[0;32mNone\u001b[0m\u001b[0;34m,\u001b[0m \u001b[0mtarget_transform\u001b[0m\u001b[0;34m=\u001b[0m\u001b[0;32mNone\u001b[0m\u001b[0;34m)\u001b[0m\u001b[0;34m:\u001b[0m\u001b[0;34m\u001b[0m\u001b[0m\n\u001b[0;32m---> 16\u001b[0;31m         \u001b[0;32mimport\u001b[0m \u001b[0mlmdb\u001b[0m\u001b[0;34m\u001b[0m\u001b[0m\n\u001b[0m\u001b[1;32m     17\u001b[0m         \u001b[0mself\u001b[0m\u001b[0;34m.\u001b[0m\u001b[0mroot\u001b[0m \u001b[0;34m=\u001b[0m \u001b[0mos\u001b[0m\u001b[0;34m.\u001b[0m\u001b[0mpath\u001b[0m\u001b[0;34m.\u001b[0m\u001b[0mexpanduser\u001b[0m\u001b[0;34m(\u001b[0m\u001b[0mroot\u001b[0m\u001b[0;34m)\u001b[0m\u001b[0;34m\u001b[0m\u001b[0m\n\u001b[1;32m     18\u001b[0m         \u001b[0mself\u001b[0m\u001b[0;34m.\u001b[0m\u001b[0mtransform\u001b[0m \u001b[0;34m=\u001b[0m \u001b[0mtransform\u001b[0m\u001b[0;34m\u001b[0m\u001b[0m\n",
      "\u001b[0;31mImportError\u001b[0m: No module named 'lmdb'"
     ]
    }
   ],
   "source": [
    "LSUN_test_loader = torch.utils.data.DataLoader(\n",
    "        datasets.LSUN('../data', classes='train', transform=transforms.ToTensor()),\n",
    "        batch_size=100, shuffle=False)"
   ]
  },
  {
   "cell_type": "code",
   "execution_count": 4,
   "metadata": {},
   "outputs": [],
   "source": [
    "import torch\n",
    "from torchvision import datasets, transforms\n",
    "import torch.utils.data as data_utils\n"
   ]
  },
  {
   "cell_type": "code",
   "execution_count": 6,
   "metadata": {},
   "outputs": [],
   "source": [
    "import utils.preproc as pre"
   ]
  },
  {
   "cell_type": "code",
   "execution_count": 14,
   "metadata": {},
   "outputs": [],
   "source": [
    "data = enumerate(SVHN_test_loader).__next__()[1][0]"
   ]
  },
  {
   "cell_type": "code",
   "execution_count": 20,
   "metadata": {},
   "outputs": [
    {
     "data": {
      "text/plain": [
       "<matplotlib.image.AxesImage at 0x7fe2b609ae80>"
      ]
     },
     "execution_count": 20,
     "metadata": {},
     "output_type": "execute_result"
    },
    {
     "data": {
      "image/png": "[encoded data removed]",
      "text/plain": [
       "<Figure size 432x288 with 1 Axes>"
      ]
     },
     "metadata": {},
     "output_type": "display_data"
    }
   ],
   "source": [
    "plt.imshow(data[2].transpose(0,2).transpose(0,1))"
   ]
  },
  {
   "cell_type": "code",
   "execution_count": 17,
   "metadata": {},
   "outputs": [],
   "source": [
    "import matplotlib.pyplot as plt"
   ]
  },
  {
   "cell_type": "code",
   "execution_count": null,
   "metadata": {},
   "outputs": [],
   "source": []
  }
 ],
 "metadata": {
  "kernelspec": {
   "display_name": "Python 3",
   "language": "python",
   "name": "python3"
  },
  "language_info": {
   "codemirror_mode": {
    "name": "ipython",
    "version": 3
   },
   "file_extension": ".py",
   "mimetype": "text/x-python",
   "name": "python",
   "nbconvert_exporter": "python",
   "pygments_lexer": "ipython3",
   "version": "3.5.2"
  }
 },
 "nbformat": 4,
 "nbformat_minor": 2
}
