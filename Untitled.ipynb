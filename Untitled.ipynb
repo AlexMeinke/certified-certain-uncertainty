{
 "cells": [
  {
   "cell_type": "code",
   "execution_count": 1,
   "metadata": {},
   "outputs": [],
   "source": [
    "import torch\n",
    "import torch.nn as nn\n",
    "import torch.nn.functional as F\n",
    "import torch.optim as optim\n",
    "\n",
    "import matplotlib.pyplot as plt\n",
    "import numpy as np\n",
    "import pandas as pd\n",
    "\n",
    "from importlib import reload\n",
    "import matplotlib.pyplot as plt\n",
    "\n",
    "import utils.models as models\n",
    "import utils.plotting as plotting\n",
    "import utils.dataloaders as dl\n",
    "import utils.traintest as tt\n",
    "import utils.adversarial as adv\n",
    "import utils.eval as ev\n",
    "import model_params as params\n",
    "import resnet\n",
    "\n",
    "from tensorboardX import SummaryWriter"
   ]
  },
  {
   "cell_type": "code",
   "execution_count": 2,
   "metadata": {},
   "outputs": [],
   "source": [
    "device = torch.device('cuda')"
   ]
  },
  {
   "cell_type": "code",
   "execution_count": 690,
   "metadata": {},
   "outputs": [],
   "source": [
    "loader = dl.MNIST(train=True, augm_flag=False)"
   ]
  },
  {
   "cell_type": "code",
   "execution_count": 691,
   "metadata": {},
   "outputs": [],
   "source": [
    "data, label = enumerate(loader).__next__()[1]\n",
    "x = data[0]\n",
    "y = data[1]\n",
    "\n",
    "x /= x.sum()\n",
    "y /= y.sum()"
   ]
  },
  {
   "cell_type": "code",
   "execution_count": 692,
   "metadata": {},
   "outputs": [
    {
     "name": "stdout",
     "output_type": "stream",
     "text": [
      "tensor(0.0249)\n",
      "tensor(0.0242)\n",
      "tensor(0.0545)\n",
      "tensor(0.0546)\n"
     ]
    },
    {
     "data": {
      "image/png": "[encoded data removed]",
      "text/plain": [
       "<Figure size 432x288 with 1 Axes>"
      ]
     },
     "metadata": {
      "needs_background": "light"
     },
     "output_type": "display_data"
    },
    {
     "data": {
      "image/png": "[encoded data removed]",
      "text/plain": [
       "<Figure size 432x288 with 1 Axes>"
      ]
     },
     "metadata": {
      "needs_background": "light"
     },
     "output_type": "display_data"
    }
   ],
   "source": [
    "print(sh(x,x) )\n",
    "print(sh(y,y) )\n",
    "print(sh(x,y) )\n",
    "print(sh(y,x) )\n",
    "plt.imshow(x.squeeze())\n",
    "plt.show()\n",
    "plt.imshow(y.squeeze())\n",
    "plt.show()"
   ]
  },
  {
   "cell_type": "code",
   "execution_count": 682,
   "metadata": {},
   "outputs": [],
   "source": [
    "class Sinkhorn(nn.Module):\n",
    "    def __init__(self, shape, lam):\n",
    "        super().__init__()\n",
    "        self.dim = shape[-1]\n",
    "        self.lam = lam\n",
    "        d1 = torch.tensor([[(i,j) for j in range(self.dim)] for i in range(self.dim)]).view(-1,2)\n",
    "        self.M = ((d1[:,None,:]-d1[None,:,:])**2).sum(-1).float().sqrt()/self.dim\n",
    "        self.K = torch.exp(-self.lam*self.M-1)\n",
    "        \n",
    "    def forward(self, x, y):\n",
    "\n",
    "        u = torch.ones(self.dim**2)\n",
    "        for _ in range(3):\n",
    "            u = x.view(-1) / ( self.K@( y.view(-1)/(self.K@u) ) )\n",
    "        v = y.view(-1) / (self.K@u)\n",
    "        P = torch.diag(u)@self.K@torch.diag(v)\n",
    "        return ( P*M ).sum()"
   ]
  },
  {
   "cell_type": "code",
   "execution_count": 687,
   "metadata": {},
   "outputs": [],
   "source": [
    "sh = Sinkhorn(x.shape, 50).to(device)\n",
    "x.to(device);"
   ]
  },
  {
   "cell_type": "code",
   "execution_count": 688,
   "metadata": {},
   "outputs": [
    {
     "name": "stdout",
     "output_type": "stream",
     "text": [
      "24.5 ms ± 3.27 ms per loop (mean ± std. dev. of 7 runs, 10 loops each)\n"
     ]
    }
   ],
   "source": [
    "%timeit d = sh(x,x) "
   ]
  },
  {
   "cell_type": "code",
   "execution_count": 675,
   "metadata": {},
   "outputs": [],
   "source": [
    "x = data[0]"
   ]
  },
  {
   "cell_type": "code",
   "execution_count": 437,
   "metadata": {},
   "outputs": [
    {
     "ename": "RuntimeError",
     "evalue": "size mismatch, m1: [784 x 784], m2: [10 x 784] at c:\\a\\w\\1\\s\\tmp_conda_3.7_110509\\conda\\conda-bld\\pytorch_1544094576194\\work\\aten\\src\\th\\generic/THTensorMath.cpp:940",
     "output_type": "error",
     "traceback": [
      "\u001b[1;31m---------------------------------------------------------------------------\u001b[0m",
      "\u001b[1;31mRuntimeError\u001b[0m                              Traceback (most recent call last)",
      "\u001b[1;32m<ipython-input-437-2221ed65415f>\u001b[0m in \u001b[0;36m<module>\u001b[1;34m\u001b[0m\n\u001b[0;32m      1\u001b[0m \u001b[0mu\u001b[0m \u001b[1;33m=\u001b[0m \u001b[0mtorch\u001b[0m\u001b[1;33m.\u001b[0m\u001b[0mones\u001b[0m\u001b[1;33m(\u001b[0m\u001b[1;36m10\u001b[0m\u001b[1;33m,\u001b[0m \u001b[0msh\u001b[0m\u001b[1;33m.\u001b[0m\u001b[0mdim\u001b[0m\u001b[1;33m**\u001b[0m\u001b[1;36m2\u001b[0m\u001b[1;33m)\u001b[0m\u001b[1;33m\u001b[0m\u001b[1;33m\u001b[0m\u001b[0m\n\u001b[1;32m----> 2\u001b[1;33m \u001b[0msh\u001b[0m\u001b[1;33m.\u001b[0m\u001b[0mK\u001b[0m\u001b[1;33m@\u001b[0m\u001b[0mu\u001b[0m\u001b[1;33m\u001b[0m\u001b[1;33m\u001b[0m\u001b[0m\n\u001b[0m",
      "\u001b[1;31mRuntimeError\u001b[0m: size mismatch, m1: [784 x 784], m2: [10 x 784] at c:\\a\\w\\1\\s\\tmp_conda_3.7_110509\\conda\\conda-bld\\pytorch_1544094576194\\work\\aten\\src\\th\\generic/THTensorMath.cpp:940"
     ]
    }
   ],
   "source": [
    "u = torch.ones(10, sh.dim**2)\n",
    "sh.K@u"
   ]
  },
  {
   "cell_type": "code",
   "execution_count": 438,
   "metadata": {},
   "outputs": [
    {
     "data": {
      "text/plain": [
       "torch.Size([10, 784])"
      ]
     },
     "execution_count": 438,
     "metadata": {},
     "output_type": "execute_result"
    }
   ],
   "source": [
    "u.shape"
   ]
  },
  {
   "cell_type": "code",
   "execution_count": 415,
   "metadata": {},
   "outputs": [
    {
     "data": {
      "text/plain": [
       "torch.Size([784, 784])"
      ]
     },
     "execution_count": 415,
     "metadata": {},
     "output_type": "execute_result"
    }
   ],
   "source": [
    "sh.K.shape"
   ]
  },
  {
   "cell_type": "code",
   "execution_count": 412,
   "metadata": {},
   "outputs": [
    {
     "data": {
      "text/plain": [
       "torch.Size([1, 784])"
      ]
     },
     "execution_count": 412,
     "metadata": {},
     "output_type": "execute_result"
    }
   ],
   "source": [
    "(sh.K@u).unsqueeze(0).shape"
   ]
  },
  {
   "cell_type": "code",
   "execution_count": 695,
   "metadata": {},
   "outputs": [],
   "source": [
    "class SinkhornVector(nn.Module):\n",
    "    def __init__(self, shape, lam):\n",
    "        super().__init__()\n",
    "        self.dim = shape[-1]\n",
    "        self.lam = lam\n",
    "        d1 = torch.tensor([[(i,j) for j in range(self.dim)] for i in range(self.dim)]).view(-1,2)\n",
    "        self.M = ((d1[:,None,:]-d1[None,:,:])**2).sum(-1).float().sqrt()/self.dim\n",
    "        self.K = torch.exp(-self.lam*self.M-1).unsqueeze(0).unsqueeze(0)\n",
    "        \n",
    "    def forward(self, x, y):\n",
    "        batch_size_x = x.shape[0]\n",
    "        batch_size_y = y.shape[0]\n",
    "        X = x.view(1, batch_size_x, -1)\n",
    "        Y = y.view(batch_size_y, 1, -1)\n",
    "        U = torch.ones(batch_size_y, batch_size_x, self.dim**2)\n",
    "\n",
    "        V = (Y / (self.K*U.unsqueeze(-1)).sum(-2) )\n",
    "        U = (X / (self.K*V.unsqueeze(-1)).sum(-2) )\n",
    "        P = U.unsqueeze(-2)*self.K*V.unsqueeze(-1)\n",
    "        return P"
   ]
  },
  {
   "cell_type": "code",
   "execution_count": 696,
   "metadata": {},
   "outputs": [],
   "source": [
    "shv = SinkhornVector(x.shape, 50).to(device)\n",
    "data.to(device);"
   ]
  },
  {
   "cell_type": "code",
   "execution_count": 697,
   "metadata": {},
   "outputs": [
    {
     "name": "stdout",
     "output_type": "stream",
     "text": [
      "2min 51s ± 13.4 s per loop (mean ± std. dev. of 7 runs, 1 loop each)\n"
     ]
    }
   ],
   "source": [
    "%timeit P = shv(data,data)"
   ]
  },
  {
   "cell_type": "code",
   "execution_count": null,
   "metadata": {},
   "outputs": [],
   "source": []
  }
 ],
 "metadata": {
  "kernelspec": {
   "display_name": "Python 3",
   "language": "python",
   "name": "python3"
  },
  "language_info": {
   "codemirror_mode": {
    "name": "ipython",
    "version": 3
   },
   "file_extension": ".py",
   "mimetype": "text/x-python",
   "name": "python",
   "nbconvert_exporter": "python",
   "pygments_lexer": "ipython3",
   "version": "3.7.1"
  }
 },
 "nbformat": 4,
 "nbformat_minor": 2
}
