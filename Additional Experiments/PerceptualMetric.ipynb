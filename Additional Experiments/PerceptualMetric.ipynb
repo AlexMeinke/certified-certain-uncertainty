{
 "cells": [
  {
   "cell_type": "code",
   "execution_count": 8,
   "metadata": {},
   "outputs": [],
   "source": [
    "import torch\n",
    "import torch.nn as nn\n",
    "import torch.nn.functional as F\n",
    "import torch.optim as optim\n",
    "\n",
    "import matplotlib.pyplot as plt\n",
    "import numpy as np\n",
    "import pandas as pd\n",
    "import scipy\n",
    "from sklearn.metrics import roc_auc_score\n",
    "from sklearn import mixture, preprocessing, datasets\n",
    "\n",
    "from importlib import reload\n",
    "import matplotlib\n",
    "import matplotlib.pyplot as plt\n",
    "from matplotlib import patches\n",
    "\n",
    "import torch.utils.data as data_utils\n",
    "\n",
    "import sys\n",
    "sys.path.append(\"..\")\n",
    "\n",
    "import utils.models as models\n",
    "import utils.plotting as plotting\n",
    "import utils.dataloaders as dl\n",
    "import utils.traintest as tt\n",
    "import utils.adversarial as adv\n",
    "import utils.eval as ev\n",
    "import model_params as params\n",
    "import utils.resnet_orig as resnet\n",
    "import utils.gmm_helpers as gmm_helpers\n",
    "import utils.perceptual as perc\n",
    "import model_paths"
   ]
  },
  {
   "cell_type": "code",
   "execution_count": 64,
   "metadata": {},
   "outputs": [],
   "source": [
    "dim = 3072\n",
    "\n",
    "dl.path = '../../data'\n",
    "train_loader = dl.CIFAR10(train=True)\n",
    "\n",
    "batch_size = 500\n",
    "test_loader = dl.CIFAR10(train=False, batch_size=batch_size)\n",
    "out_loader = dl.SVHN(train=False, batch_size=batch_size)\n",
    "\n",
    "\n",
    "vgg = perc.Vgg16()\n",
    "perc_metric = models.PerceptualMetric(vgg)\n",
    "\n",
    "l2 = models.LpMetric()\n",
    "\n",
    "\n",
    "X = []\n",
    "for x, f in train_loader:\n",
    "    X.append(x.view(-1, dim))\n",
    "X = torch.cat(X, 0)\n",
    "\n",
    "X = X[:50000] #needed to keep memory of distance matrix below 800 GB\n",
    "pca = models.PCAMetric( X, p=2, min_sv_factor=1e6)\n",
    "\n",
    "\n",
    "X = []\n",
    "for x, f in train_loader:\n",
    "    X.append(vgg(x)[:,perc_metric.indices])\n",
    "X = torch.cat(X, 0)\n",
    "\n",
    "X = X[:50000] #needed to keep memory of distance matrix below 800 GB\n",
    "perc_pca = models.PCAMetric( X, p=2, min_sv_factor=1e6)\n",
    "perc_pca_metric = models.PerceptualPCA(vgg, perc_pca, indices=perc_metric.indices)\n",
    "\n",
    "#device = torch.device('cuda:4')"
   ]
  },
  {
   "cell_type": "code",
   "execution_count": 36,
   "metadata": {},
   "outputs": [],
   "source": [
    "data = next(iter(test_loader))[0].view(-1,3*32*32)\n",
    "data_out = next(iter(out_loader))[0].view(-1,3*32*32)\n",
    "noise = torch.rand(batch_size, 3072)"
   ]
  },
  {
   "cell_type": "code",
   "execution_count": 75,
   "metadata": {
    "scrolled": true
   },
   "outputs": [
    {
     "data": {
      "image/png": "[encoded data removed]",
      "text/plain": [
       "<Figure size 1296x288 with 4 Axes>"
      ]
     },
     "metadata": {},
     "output_type": "display_data"
    }
   ],
   "source": [
    "compare = [data, data_out, noise]\n",
    "metric_list = [l2, perc_metric, pca, perc_pca_metric]\n",
    "metric_names = ['L2', 'Perc', 'PCA', 'Perc PCA']\n",
    "\n",
    "f = plt.figure(figsize=(4.5*len(metric_list), 4))\n",
    "for i, metric in enumerate(metric_list):\n",
    "    plt.subplot(1, len(metric_list), 1+i)\n",
    "    for c in compare:\n",
    "        dist = metric(data.view(batch_size, 1, 3072), c.view(1, batch_size, 3072), dim=2)\n",
    "        plt.hist(dist[dist!=0.].view(-1), density=True, alpha=.5, bins=20)\n",
    "        plt.title(metric_names[i])\n",
    "\n",
    "plt.show()\n",
    "f.savefig('metrics_CIFAR10.eps', format='eps', bbox_inches = 'tight', pad_inches = 0)"
   ]
  },
  {
   "cell_type": "code",
   "execution_count": 77,
   "metadata": {},
   "outputs": [
    {
     "data": {
      "text/plain": [
       "torch.Size([500, 122880])"
      ]
     },
     "execution_count": 77,
     "metadata": {},
     "output_type": "execute_result"
    }
   ],
   "source": [
    "vgg(data).shape"
   ]
  },
  {
   "cell_type": "code",
   "execution_count": null,
   "metadata": {},
   "outputs": [],
   "source": []
  }
 ],
 "metadata": {
  "kernelspec": {
   "display_name": "Python 3",
   "language": "python",
   "name": "python3"
  },
  "language_info": {
   "codemirror_mode": {
    "name": "ipython",
    "version": 3
   },
   "file_extension": ".py",
   "mimetype": "text/x-python",
   "name": "python",
   "nbconvert_exporter": "python",
   "pygments_lexer": "ipython3",
   "version": "3.5.2"
  }
 },
 "nbformat": 4,
 "nbformat_minor": 2
}
