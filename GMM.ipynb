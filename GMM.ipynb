{
 "cells": [
  {
   "cell_type": "code",
   "execution_count": 1,
   "metadata": {},
   "outputs": [],
   "source": [
    "import torch\n",
    "\n",
    "from importlib import reload\n",
    "\n",
    "import models\n",
    "import plotting\n",
    "import dataloaders as dl"
   ]
  },
  {
   "cell_type": "code",
   "execution_count": 2,
   "metadata": {},
   "outputs": [],
   "source": [
    "if torch.cuda.is_available():\n",
    "    device = torch.device('cuda')\n",
    "else:\n",
    "    device = torch.device('cpu')"
   ]
  },
  {
   "cell_type": "code",
   "execution_count": 3,
   "metadata": {},
   "outputs": [],
   "source": [
    "import torch.nn as nn\n",
    "import torch.nn.functional as F\n",
    "\n",
    "def train_vanilla(model, device, train_loader, optimizer, epoch, verbose=True):\n",
    "    model.train()\n",
    "    for batch_idx, (data, target) in enumerate(train_loader):\n",
    "        data, target = data.to(device), target.to(device)\n",
    "\n",
    "        optimizer.zero_grad()\n",
    "        output = model(data)\n",
    "\n",
    "        loss = F.nll_loss(output, target)\n",
    "        loss.backward()\n",
    "        optimizer.step()\n",
    "        if batch_idx % 100 == 0 and verbose:\n",
    "            print('Train Epoch: {} [{}/{} ({:.0f}%)]\\tLoss: {:.6f}'.format(\n",
    "                epoch, batch_idx * len(data), len(train_loader.dataset),\n",
    "                100. * batch_idx / len(train_loader), loss.item()))\n",
    "\n",
    "def train(model, device, train_loader, optimizer, epoch, adv_loader, verbose=True):\n",
    "    model.train()\n",
    "    min_loss = torch.tensor(10.).log()\n",
    "    #for batch_idx, (data, target) in enumerate(train_loader):\n",
    "    for ((batch_idx, (data, target)), (_, (data_adv, _))) in zip(enumerate(train_loader),enumerate(adv_loader)):\n",
    "        data, target = data.to(device), target.to(device)\n",
    "        data_adv = data_adv.to(device)\n",
    "        optimizer.zero_grad()\n",
    "        output = model(data)\n",
    "        \n",
    "        #input_rand = torch.rand(train_loader.batch_size,1,28,28).to(device)\n",
    "        #output_rand = model(input_rand)\n",
    "        output_rand = model(data_adv)\n",
    "\n",
    "        loss = F.nll_loss(output, target) - output_rand.sum()/(10*train_loader.batch_size)\n",
    "        loss.backward()\n",
    "        a = torch.isnan(model.gmm.mu.grad).sum()\n",
    "        b = torch.isnan(model.gmm.logvar.grad).sum()\n",
    "        c = torch.isnan(model.gmm.alpha.grad).sum()\n",
    "\n",
    "        if (a+b+c)>0:\n",
    "            return loss, output, target, data_adv, data\n",
    "        optimizer.step()\n",
    "        if batch_idx % 100 == 0 and verbose:\n",
    "            print('Train Epoch: {} [{}/{} ({:.0f}%)]\\tLoss: {:.6f}'.format(\n",
    "                epoch, batch_idx * len(data), len(train_loader.dataset),\n",
    "                100. * batch_idx / len(train_loader), loss.item()))\n",
    "\n",
    "\n",
    "def test(model, device, test_loader, min_conf=.1):\n",
    "    model.eval()\n",
    "    test_loss = 0\n",
    "    correct = 0\n",
    "    av_conf = 0\n",
    "    with torch.no_grad():\n",
    "        for data, target in test_loader:\n",
    "            data, target = data.to(device), target.to(device)\n",
    "            output = model(data)\n",
    "\n",
    "            test_loss += F.nll_loss(output, target, reduction='sum').item() # sum up batch loss\n",
    "            c, pred = output.max(1, keepdim=True) # get the index of the max log-probability\n",
    "            correct += (pred.eq(target.view_as(pred))*(c.exp()>min_conf)).sum().item()\n",
    "            av_conf += c.exp().sum().item()\n",
    "            \n",
    "    test_loss /= len(test_loader.dataset)\n",
    "    av_conf /= len(test_loader.dataset)\n",
    "    \n",
    "    print('\\nTest set: Average loss: {:.4f}, Accuracy: {}/{} ({:.0f}%), Ave. Confidence: {:.0f}%\\n'.format(\n",
    "        test_loss, correct, len(test_loader.dataset),\n",
    "        100. * correct / len(test_loader.dataset), 100. * av_conf))\n",
    "    return correct, av_conf\n",
    "    \n",
    "def test_adv(model, device, adv_test_loader, min_conf=.1):\n",
    "    model.eval()\n",
    "    av_conf = 0\n",
    "    predicted = 0\n",
    "    with torch.no_grad():\n",
    "        for data, _ in adv_test_loader:\n",
    "            data = data.to(device)\n",
    "            output = model(data)\n",
    "\n",
    "            c, pred = output.max(1, keepdim=True) # get the index of the max log-probability\n",
    "            av_conf += c.exp().sum().item()\n",
    "            predicted += (c.exp()>min_conf).float().sum()\n",
    "            \n",
    "    av_conf /= len(adv_test_loader.dataset)\n",
    "    predicted /= len(adv_test_loader.dataset)\n",
    "\n",
    "    print('\\nAve. Confidence: {:.0f}%, Predicted: {:.0f}%\\n'.format(100.*av_conf, 100.*predicted))\n",
    "    return av_conf"
   ]
  },
  {
   "cell_type": "code",
   "execution_count": 4,
   "metadata": {},
   "outputs": [],
   "source": [
    "preproc = dl.X_MNIST.view(3000,28,28).mean(dim=0)\n",
    "preproc_std = torch.ones(28,28)\n",
    "temp = dl.X_MNIST.view(3000,28,28).std(dim=0)\n",
    "preproc_std[temp>.1] = temp[temp>.1]\n",
    "base_model = models.NetVanilla(preproc=(preproc,preproc_std)).to(device)"
   ]
  },
  {
   "cell_type": "code",
   "execution_count": 5,
   "metadata": {},
   "outputs": [
    {
     "name": "stdout",
     "output_type": "stream",
     "text": [
      "Train Epoch: 0 [0/60000 (0%)]\tLoss: 2.286067\n",
      "Train Epoch: 0 [10000/60000 (17%)]\tLoss: 1.758134\n",
      "Train Epoch: 0 [20000/60000 (33%)]\tLoss: 0.527147\n",
      "Train Epoch: 0 [30000/60000 (50%)]\tLoss: 0.288361\n",
      "Train Epoch: 0 [40000/60000 (67%)]\tLoss: 0.243451\n"
     ]
    },
    {
     "name": "stderr",
     "output_type": "stream",
     "text": [
      "ERROR:root:Internal Python error in the inspect module.\n",
      "Below is the traceback from this internal error.\n",
      "\n"
     ]
    },
    {
     "name": "stdout",
     "output_type": "stream",
     "text": [
      "Traceback (most recent call last):\n",
      "  File \"/usr/local/lib/python3.5/dist-packages/IPython/core/interactiveshell.py\", line 2961, in run_code\n",
      "    exec(code_obj, self.user_global_ns, self.user_ns)\n",
      "  File \"<ipython-input-5-fbd5f511d4a7>\", line 8, in <module>\n",
      "    train_vanilla(base_model, device, dl.train_loader, optimizer_base, epoch)\n",
      "  File \"<ipython-input-3-5d10fcd79729>\", line 6, in train_vanilla\n",
      "    for batch_idx, (data, target) in enumerate(train_loader):\n",
      "  File \"/usr/local/lib/python3.5/dist-packages/torch/utils/data/dataloader.py\", line 615, in __next__\n",
      "    batch = self.collate_fn([self.dataset[i] for i in indices])\n",
      "  File \"/usr/local/lib/python3.5/dist-packages/torch/utils/data/dataloader.py\", line 615, in <listcomp>\n",
      "    batch = self.collate_fn([self.dataset[i] for i in indices])\n",
      "  File \"/usr/local/lib/python3.5/dist-packages/torchvision/datasets/mnist.py\", line 97, in __getitem__\n",
      "    if self.target_transform is not None:\n",
      "KeyboardInterrupt\n",
      "\n",
      "During handling of the above exception, another exception occurred:\n",
      "\n",
      "Traceback (most recent call last):\n",
      "  File \"/usr/local/lib/python3.5/dist-packages/IPython/core/interactiveshell.py\", line 1863, in showtraceback\n",
      "    stb = value._render_traceback_()\n",
      "AttributeError: 'KeyboardInterrupt' object has no attribute '_render_traceback_'\n",
      "\n",
      "During handling of the above exception, another exception occurred:\n",
      "\n",
      "Traceback (most recent call last):\n",
      "  File \"/usr/local/lib/python3.5/dist-packages/IPython/core/ultratb.py\", line 1095, in get_records\n",
      "    return _fixed_getinnerframes(etb, number_of_lines_of_context, tb_offset)\n",
      "  File \"/usr/local/lib/python3.5/dist-packages/IPython/core/ultratb.py\", line 311, in wrapped\n",
      "    return f(*args, **kwargs)\n",
      "  File \"/usr/local/lib/python3.5/dist-packages/IPython/core/ultratb.py\", line 345, in _fixed_getinnerframes\n",
      "    records = fix_frame_records_filenames(inspect.getinnerframes(etb, context))\n",
      "  File \"/usr/lib/python3.5/inspect.py\", line 1453, in getinnerframes\n",
      "    frameinfo = (tb.tb_frame,) + getframeinfo(tb, context)\n",
      "  File \"/usr/lib/python3.5/inspect.py\", line 1410, in getframeinfo\n",
      "    filename = getsourcefile(frame) or getfile(frame)\n",
      "  File \"/usr/lib/python3.5/inspect.py\", line 672, in getsourcefile\n",
      "    if getattr(getmodule(object, filename), '__loader__', None) is not None:\n",
      "  File \"/usr/lib/python3.5/inspect.py\", line 718, in getmodule\n",
      "    os.path.realpath(f)] = module.__name__\n",
      "  File \"/usr/lib/python3.5/posixpath.py\", line 372, in realpath\n",
      "    path, ok = _joinrealpath(filename[:0], filename, {})\n",
      "  File \"/usr/lib/python3.5/posixpath.py\", line 393, in _joinrealpath\n",
      "    if not name or name == curdir:\n",
      "KeyboardInterrupt\n"
     ]
    },
    {
     "ename": "KeyboardInterrupt",
     "evalue": "",
     "output_type": "error",
     "traceback": [
      "\u001b[0;31m---------------------------------------------------------------------------\u001b[0m"
     ]
    }
   ],
   "source": [
    "import torch.optim as optim\n",
    "\n",
    "lr = .001\n",
    "momentum = .9\n",
    "\n",
    "optimizer_base = optim.SGD(base_model.parameters(), lr=lr, momentum=momentum, weight_decay=0.005)\n",
    "for epoch in range(5):\n",
    "    train_vanilla(base_model, device, dl.train_loader, optimizer_base, epoch)\n",
    "\n",
    "lr = .00001\n",
    "momentum = .9\n",
    "\n",
    "optimizer_base = optim.SGD(base_model.parameters(), lr=lr, momentum=momentum, weight_decay=0.005)\n",
    "for epoch in range(5):\n",
    "    train_vanilla(base_model, device, dl.train_loader, optimizer_base, epoch)\n",
    "    \n",
    "lr = .0000001\n",
    "momentum = .9\n",
    "\n",
    "optimizer_base = optim.SGD(base_model.parameters(), lr=lr, momentum=momentum, weight_decay=0.005)\n",
    "for epoch in range(30):\n",
    "    train_vanilla(base_model, device, dl.train_loader, optimizer_base, epoch)\n"
   ]
  },
  {
   "cell_type": "code",
   "execution_count": null,
   "metadata": {},
   "outputs": [],
   "source": [
    "torch.save(base_model, 'base_model.pth')"
   ]
  },
  {
   "cell_type": "code",
   "execution_count": 8,
   "metadata": {},
   "outputs": [
    {
     "name": "stderr",
     "output_type": "stream",
     "text": [
      "/home/alexm/project/notebooks/gmm-robust/models.py:81: UserWarning: To copy construct from a tensor, it is recommended to use sourceTensor.clone().detach() or sourceTensor.clone().detach().requires_grad_(True), rather than torch.tensor(sourceTensor).\n",
      "  index = (X[:,None,:]-torch.tensor(self.mu.data[None,:,:], dtype=torch.float)).norm(dim=2).min(dim=1)[1]\n"
     ]
    }
   ],
   "source": [
    "base_model = torch.load('base_model.pth')\n",
    "model = models.Net(base_model, dl.X_MNIST, 1000, -3.5).to(device)\n",
    "torch.save(model, 'gmm_model.pth')"
   ]
  },
  {
   "cell_type": "code",
   "execution_count": 26,
   "metadata": {},
   "outputs": [
    {
     "data": {
      "image/png": "[encoded data removed]",
      "text/plain": [
       "<Figure size 432x288 with 10 Axes>"
      ]
     },
     "metadata": {},
     "output_type": "display_data"
    },
    {
     "name": "stdout",
     "output_type": "stream",
     "text": [
      "\n",
      "\n",
      "\n",
      "Test set: Average loss: 0.0559, Accuracy: 9791/10000 (98%), Ave. Confidence: 97%\n",
      "\n",
      "\n",
      "Test set: Average loss: 0.0426, Accuracy: 9848/10000 (98%), Ave. Confidence: 98%\n",
      "\n",
      "\n",
      "Ave. Confidence: 48%, Predicted: 46%\n",
      "\n",
      "\n",
      "Ave. Confidence: 79%, Predicted: 89%\n",
      "\n"
     ]
    },
    {
     "data": {
      "text/plain": [
       "0.7927921632620004"
      ]
     },
     "execution_count": 26,
     "metadata": {},
     "output_type": "execute_result"
    }
   ],
   "source": [
    "#model.log_pz_lam.data = torch.tensor(-767.132, device=device)\n",
    "data = enumerate(dl.test_loader).__next__()[1][0]\n",
    "y = model(data.to(device))\n",
    "y_base = base_model(data.to(device))\n",
    "\n",
    "plotting.plot_samples([y,y_base], data)\n",
    "\n",
    "min_conf = .5\n",
    "test(model, device, dl.test_loader, min_conf=min_conf)\n",
    "test(base_model, device, dl.test_loader, min_conf=min_conf)\n",
    "\n",
    "test_adv(model, device, dl.EMNIST_test_loader, min_conf=min_conf)\n",
    "test_adv(base_model, device, dl.EMNIST_test_loader, min_conf=min_conf)"
   ]
  },
  {
   "cell_type": "code",
   "execution_count": 570,
   "metadata": {},
   "outputs": [
    {
     "name": "stdout",
     "output_type": "stream",
     "text": [
      "Train Epoch: 0 [0/60000 (0%)]\tLoss: 0.841768\n",
      "Train Epoch: 0 [10000/60000 (17%)]\tLoss: 0.488239\n",
      "Train Epoch: 0 [20000/60000 (33%)]\tLoss: 0.471570\n",
      "Train Epoch: 0 [30000/60000 (50%)]\tLoss: 0.495308\n",
      "Train Epoch: 0 [40000/60000 (67%)]\tLoss: 0.416114\n",
      "Train Epoch: 0 [50000/60000 (83%)]\tLoss: 0.419273\n"
     ]
    }
   ],
   "source": [
    "lr = .001\n",
    "momentum = .9\n",
    "\n",
    "optimizer = optim.SGD( model.parameters(), lr=lr, momentum=momentum)\n",
    "for epoch in range(1):\n",
    "    train(model, device, train_loader, optimizer, epoch, EMNIST_train_loader)\n",
    "    #train_vanilla(model, device, train_loader, optimizer, epoch)"
   ]
  },
  {
   "cell_type": "code",
   "execution_count": 39,
   "metadata": {},
   "outputs": [
    {
     "data": {
      "image/png": "[encoded data removed]",
      "text/plain": [
       "<Figure size 432x288 with 10 Axes>"
      ]
     },
     "metadata": {},
     "output_type": "display_data"
    },
    {
     "name": "stdout",
     "output_type": "stream",
     "text": [
      "\n",
      "\n"
     ]
    }
   ],
   "source": [
    "#model.log_pz_lam.data = torch.tensor(-767.132, device=device)\n",
    "data = enumerate(EMNIST_test_loader).__next__()[1][0]\n",
    "y = model(data.to(device))\n",
    "y_base = base_model(data.to(device))\n",
    "\n",
    "plotting.plot_samples([y_base,y], data)"
   ]
  },
  {
   "cell_type": "code",
   "execution_count": 525,
   "metadata": {},
   "outputs": [
    {
     "data": {
      "text/plain": [
       "[<matplotlib.lines.Line2D at 0x7f39ba7c0e48>]"
      ]
     },
     "execution_count": 525,
     "metadata": {},
     "output_type": "execute_result"
    },
    {
     "data": {
      "image/png": "[encoded data removed]",
      "text/plain": [
       "<Figure size 432x288 with 1 Axes>"
      ]
     },
     "metadata": {},
     "output_type": "display_data"
    }
   ],
   "source": [
    "correct = []\n",
    "conf_MNIST = []\n",
    "conf_EMNIST = []\n",
    "lam_vec = torch.linspace(-775.,-755, 20)\n",
    "for lam in lam_vec:\n",
    "    model.log_pz_lam.data = torch.tensor(lam, device=device)\n",
    "\n",
    "    a, b = test(model, device, test_loader)\n",
    "    correct.append(a)\n",
    "    conf_MNIST.append(b)\n",
    "\n",
    "    conf_EMNIST.append(test_adv(model, device, EMNIST_test_loader))\n",
    "\n",
    "#fig=plt.figure(figsize=(20, 6))\n",
    "plt.plot(lam_vec.numpy(), np.array(correct)/10000)\n",
    "plt.plot(lam_vec.numpy(), conf_MNIST)\n",
    "plt.plot(lam_vec.numpy(), conf_EMNIST)"
   ]
  },
  {
   "cell_type": "code",
   "execution_count": 42,
   "metadata": {},
   "outputs": [
    {
     "data": {
      "image/png": "[encoded data removed]",
      "text/plain": [
       "<Figure size 432x288 with 10 Axes>"
      ]
     },
     "metadata": {},
     "output_type": "display_data"
    },
    {
     "name": "stdout",
     "output_type": "stream",
     "text": [
      "\n",
      "\n"
     ]
    }
   ],
   "source": [
    "data = enumerate(EMNIST_test_loader).__next__()[1][0]\n",
    "y = model(data.to(device))\n",
    "y_base = base_model(data.to(device))\n",
    "\n",
    "plotting.plot_samples([y_base, y], data)"
   ]
  },
  {
   "cell_type": "code",
   "execution_count": 487,
   "metadata": {},
   "outputs": [],
   "source": [
    "with torch.no_grad():\n",
    "    for data, _ in test_loader:\n",
    "        data = data.to(device)\n",
    "        output = model(data)\n",
    "        base_output = base_model(data)\n",
    "        c, pred = output.max(1, keepdim=True) # get the index of the max log-probability\n",
    "        c, pred_base = output.max(1, keepdim=True) # get the index of the max log-probability\n",
    "        if any(pred!= pred_base):\n",
    "            print('hi')\n"
   ]
  },
  {
   "cell_type": "code",
   "execution_count": 573,
   "metadata": {},
   "outputs": [
    {
     "name": "stdout",
     "output_type": "stream",
     "text": [
      "\n",
      "Test set: Average loss: 0.4599, Accuracy: 31865/40000 (80%), Ave. Confidence: 76%\n",
      "\n",
      "\n",
      "Test set: Average loss: 0.4556, Accuracy: 31961/40000 (80%), Ave. Confidence: 77%\n",
      "\n"
     ]
    },
    {
     "data": {
      "text/plain": [
       "(31961, 0.7668706594467163)"
      ]
     },
     "execution_count": 573,
     "metadata": {},
     "output_type": "execute_result"
    }
   ],
   "source": [
    "test(model, device, EMNIST_test_loader_digits)\n",
    "test(base_model, device, EMNIST_test_loader_digits)\n"
   ]
  },
  {
   "cell_type": "code",
   "execution_count": 19,
   "metadata": {},
   "outputs": [
    {
     "data": {
      "text/plain": [
       "tensor([-764.8209, -751.8403, -759.9078, -775.3289, -765.0276, -782.1302,\n",
       "        -758.5701, -753.3587, -754.9035, -765.7292], device='cuda:0',\n",
       "       grad_fn=<LogsumexpBackward>)"
      ]
     },
     "execution_count": 19,
     "metadata": {},
     "output_type": "execute_result"
    }
   ],
   "source": [
    "data = enumerate(EMNIST_test_loader).__next__()[1][0]\n",
    "y = model.gmm(data.view(10,784).to(device))\n",
    "torch.logsumexp(y, dim=0)"
   ]
  },
  {
   "cell_type": "code",
   "execution_count": 13,
   "metadata": {},
   "outputs": [
    {
     "data": {
      "text/plain": [
       "<matplotlib.image.AxesImage at 0x7f4ae477a160>"
      ]
     },
     "execution_count": 13,
     "metadata": {},
     "output_type": "execute_result"
    },
    {
     "data": {
      "image/png": "[encoded data removed]",
      "text/plain": [
       "<Figure size 432x288 with 1 Axes>"
      ]
     },
     "metadata": {},
     "output_type": "display_data"
    }
   ],
   "source": [
    "import matplotlib.pyplot as plt\n",
    "plt.imshow(preproc)"
   ]
  },
  {
   "cell_type": "code",
   "execution_count": 19,
   "metadata": {},
   "outputs": [],
   "source": []
  },
  {
   "cell_type": "code",
   "execution_count": 21,
   "metadata": {},
   "outputs": [
    {
     "data": {
      "text/plain": [
       "<matplotlib.image.AxesImage at 0x7f4acf147898>"
      ]
     },
     "execution_count": 21,
     "metadata": {},
     "output_type": "execute_result"
    },
    {
     "data": {
      "image/png": "[encoded data removed]",
      "text/plain": [
       "<Figure size 432x288 with 1 Axes>"
      ]
     },
     "metadata": {},
     "output_type": "display_data"
    }
   ],
   "source": [
    "import matplotlib.pyplot as plt\n",
    "plt.imshow(preproc_std)"
   ]
  },
  {
   "cell_type": "code",
   "execution_count": null,
   "metadata": {},
   "outputs": [],
   "source": []
  }
 ],
 "metadata": {
  "kernelspec": {
   "display_name": "Python 3",
   "language": "python",
   "name": "python3"
  },
  "language_info": {
   "codemirror_mode": {
    "name": "ipython",
    "version": 3
   },
   "file_extension": ".py",
   "mimetype": "text/x-python",
   "name": "python",
   "nbconvert_exporter": "python",
   "pygments_lexer": "ipython3",
   "version": "3.5.2"
  }
 },
 "nbformat": 4,
 "nbformat_minor": 2
}
