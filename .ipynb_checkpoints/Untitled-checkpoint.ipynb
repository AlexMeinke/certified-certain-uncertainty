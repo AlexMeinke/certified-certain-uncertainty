{
 "cells": [
  {
   "cell_type": "code",
   "execution_count": 1,
   "metadata": {},
   "outputs": [],
   "source": [
    "import torch\n",
    "import torch.nn as nn\n",
    "import torch.nn.functional as F\n",
    "import torch.optim as optim\n",
    "\n",
    "import matplotlib.pyplot as plt\n",
    "import numpy as np\n",
    "import pandas as pd\n",
    "import scipy\n",
    "from sklearn.metrics import roc_auc_score\n",
    "from sklearn import mixture, preprocessing, datasets\n",
    "\n",
    "from importlib import reload\n",
    "import matplotlib\n",
    "import matplotlib.pyplot as plt\n",
    "from matplotlib import patches\n",
    "\n",
    "import torch.utils.data as data_utils\n",
    "\n",
    "import utils.models as models\n",
    "import utils.plotting as plotting\n",
    "import utils.dataloaders as dl\n",
    "import utils.traintest as tt\n",
    "import utils.adversarial as adv\n",
    "import utils.eval as ev\n",
    "import model_params as params\n",
    "import utils.resnet_orig as resnet\n",
    "import utils.gmm_helpers as gmm_helpers\n",
    "\n",
    "import model_paths"
   ]
  },
  {
   "cell_type": "code",
   "execution_count": 179,
   "metadata": {},
   "outputs": [],
   "source": [
    "def aggregate_adv_stats(gmm, device, shape, classes=10, \n",
    "                        batches=10, batch_size=100, lam=1.):\n",
    "    \n",
    "    pca = models.MyPCA(gmm.metric.comp_vecs.t(), gmm.metric.singular_values, shape)\n",
    "    \n",
    "    f = 1.1\n",
    "    b = lam * (f-1.) / (classes-f)\n",
    "\n",
    "    bounds = []\n",
    "    seeds = []\n",
    "\n",
    "    for i in range(batches):\n",
    "        seed = torch.rand((batch_size,) + tuple(shape), device=device)\n",
    "        batch_bounds = []\n",
    "        batch_samples = []\n",
    "\n",
    "        for x in seed:\n",
    "            batch_bounds.append( scipy.optimize.brentq(get_b, \n",
    "                                                       0, 10000., args = (x, gmm, b)) )\n",
    "        batch_bounds = torch.tensor(batch_bounds, device=device)\n",
    "        bounds.append(batch_bounds.clone().cpu())\n",
    "    \n",
    "    #seeds = torch.stack(seeds, 0)\n",
    "    bounds = torch.cat(bounds, 0)\n",
    "    \n",
    "    return bounds"
   ]
  },
  {
   "cell_type": "code",
   "execution_count": 3,
   "metadata": {},
   "outputs": [],
   "source": [
    "train_loader = dl.CIFAR10(train=True)\n",
    "shape = next(iter(train_loader))[0][0].shape"
   ]
  },
  {
   "cell_type": "code",
   "execution_count": 6,
   "metadata": {},
   "outputs": [
    {
     "data": {
      "text/plain": [
       "torch.Size([3, 32, 32])"
      ]
     },
     "execution_count": 6,
     "metadata": {},
     "output_type": "execute_result"
    }
   ],
   "source": [
    "shape"
   ]
  },
  {
   "cell_type": "code",
   "execution_count": 33,
   "metadata": {},
   "outputs": [],
   "source": [
    "file = 'SavedModels/gmm__PCACIFAR10_lam0.0_n10_lr0.1_lrgmm1e-05_augm_flagTrue_train_typeCEDA_GMMgrad_vars mu var.pth'\n",
    "model = torch.load(file)"
   ]
  },
  {
   "cell_type": "code",
   "execution_count": 17,
   "metadata": {},
   "outputs": [
    {
     "name": "stdout",
     "output_type": "stream",
     "text": [
      "0\n",
      "1\n",
      "2\n",
      "3\n",
      "4\n"
     ]
    }
   ],
   "source": [
    "bounds = aggregate_adv_stats(model.mm, 'cpu', shape, batch_size=10, batches=5)"
   ]
  },
  {
   "cell_type": "code",
   "execution_count": 173,
   "metadata": {},
   "outputs": [],
   "source": [
    "def get_b(r, x, gmm, b=1.):\n",
    "    x = x.view(-1)\n",
    "    \n",
    "    d = gmm.metric(gmm.mu[None,:,:], x.view(-1)[None, None,:]).squeeze(0)\n",
    "\n",
    "    var = gmm.logvar.exp()\n",
    "    norm_const = .5*gmm.D*gmm.logvar + gmm.norm_const\n",
    "\n",
    "    exponent = torch.stack([(d - r), torch.zeros_like(var)], 0).max(0)[0]\n",
    "    \n",
    "    exponent = exponent**2 / (2*var)\n",
    "    \n",
    "    bound = torch.logsumexp(gmm.alpha - norm_const - exponent, 0).detach().cpu().item() - np.log(b)\n",
    "    return bound"
   ]
  },
  {
   "cell_type": "code",
   "execution_count": 45,
   "metadata": {},
   "outputs": [
    {
     "name": "stdout",
     "output_type": "stream",
     "text": [
      "0\n",
      "1\n",
      "2\n",
      "3\n",
      "4\n",
      "tensor(-7.0800, grad_fn=<MaxBackward1>)\n",
      "tensor(-11.6820, grad_fn=<MeanBackward0>)\n"
     ]
    },
    {
     "data": {
      "image/png": "[encoded data removed]",
      "text/plain": [
       "<Figure size 432x288 with 1 Axes>"
      ]
     },
     "metadata": {},
     "output_type": "display_data"
    }
   ],
   "source": [
    "file = 'SavedModels/gmm__PCACIFAR10_lam0.0_n100_lr0.1_lrgmm1e-05_augm_flagTrue_train_typeCEDA_GMMgrad_vars mu var.pth'\n",
    "model = torch.load(file)\n",
    "bounds = aggregate_adv_stats(model.mm, 'cpu', shape, batch_size=30, batches=5)\n",
    "print(model.mm.logvar.max())\n",
    "print(model.mm.logvar.mean())\n",
    "plt.hist(bounds)\n",
    "plt.show()"
   ]
  },
  {
   "cell_type": "code",
   "execution_count": 47,
   "metadata": {},
   "outputs": [
    {
     "name": "stdout",
     "output_type": "stream",
     "text": [
      "0\n",
      "1\n",
      "2\n",
      "3\n",
      "4\n",
      "tensor(-7.3891, grad_fn=<MaxBackward1>)\n",
      "tensor(-8.8201, grad_fn=<MeanBackward0>)\n"
     ]
    },
    {
     "data": {
      "image/png": "[encoded data removed]",
      "text/plain": [
       "<Figure size 432x288 with 1 Axes>"
      ]
     },
     "metadata": {},
     "output_type": "display_data"
    }
   ],
   "source": [
    "file = 'SavedModels/gmm__PCACIFAR10_lam0.0_n10_lr0.1_lrgmm1e-05_augm_flagTrue_train_typeCEDA_GMMgrad_vars mu var.pth'\n",
    "model = torch.load(file)\n",
    "bounds = aggregate_adv_stats(model.mm, 'cpu', shape, batch_size=30, batches=5)\n",
    "print(model.mm.logvar.max())\n",
    "print(model.mm.logvar.mean())\n",
    "plt.hist(bounds)\n",
    "plt.show()"
   ]
  },
  {
   "cell_type": "code",
   "execution_count": 193,
   "metadata": {},
   "outputs": [
    {
     "data": {
      "text/plain": [
       "1"
      ]
     },
     "execution_count": 193,
     "metadata": {},
     "output_type": "execute_result"
    }
   ],
   "source": [
    "1"
   ]
  },
  {
   "cell_type": "code",
   "execution_count": null,
   "metadata": {
    "scrolled": false
   },
   "outputs": [
    {
     "name": "stdout",
     "output_type": "stream",
     "text": [
      "1\n",
      "0.2035502940416336\n",
      "8.934873580932617\n",
      "8.935152053833008\n"
     ]
    },
    {
     "data": {
      "image/png": "[encoded data removed]",
      "text/plain": [
       "<Figure size 432x288 with 1 Axes>"
      ]
     },
     "metadata": {},
     "output_type": "display_data"
    },
    {
     "name": "stdout",
     "output_type": "stream",
     "text": [
      "\n",
      "5\n",
      "0.19672328233718872\n",
      "7.317682266235352\n",
      "7.310103893280029\n"
     ]
    },
    {
     "data": {
      "image/png": "[encoded data removed]",
      "text/plain": [
       "<Figure size 432x288 with 1 Axes>"
      ]
     },
     "metadata": {},
     "output_type": "display_data"
    },
    {
     "name": "stdout",
     "output_type": "stream",
     "text": [
      "\n",
      "10\n",
      "0.19774974882602692\n",
      "7.241204261779785\n",
      "7.236762046813965\n"
     ]
    },
    {
     "data": {
      "image/png": "[encoded data removed]",
      "text/plain": [
       "<Figure size 432x288 with 1 Axes>"
      ]
     },
     "metadata": {},
     "output_type": "display_data"
    },
    {
     "name": "stdout",
     "output_type": "stream",
     "text": [
      "\n",
      "20\n",
      "0.19872666895389557\n",
      "7.458007335662842\n",
      "7.452950954437256\n"
     ]
    },
    {
     "data": {
      "image/png": "[encoded data removed]",
      "text/plain": [
       "<Figure size 432x288 with 1 Axes>"
      ]
     },
     "metadata": {},
     "output_type": "display_data"
    },
    {
     "name": "stdout",
     "output_type": "stream",
     "text": [
      "\n",
      "30\n",
      "0.19214634597301483\n",
      "7.589378356933594\n",
      "7.600235939025879\n"
     ]
    },
    {
     "data": {
      "image/png": "[encoded data removed]",
      "text/plain": [
       "<Figure size 432x288 with 1 Axes>"
      ]
     },
     "metadata": {},
     "output_type": "display_data"
    },
    {
     "name": "stdout",
     "output_type": "stream",
     "text": [
      "\n",
      "50\n",
      "0.20350438356399536\n",
      "7.702420711517334\n",
      "7.704513072967529\n"
     ]
    },
    {
     "data": {
      "image/png": "[encoded data removed]",
      "text/plain": [
       "<Figure size 432x288 with 1 Axes>"
      ]
     },
     "metadata": {},
     "output_type": "display_data"
    },
    {
     "name": "stdout",
     "output_type": "stream",
     "text": [
      "\n",
      "100\n"
     ]
    }
   ],
   "source": [
    "\n",
    "string1 = 'Checkpoints/gmm__PCACIFAR10_lam0.0_n'\n",
    "string2 = '_lr0.1_lrgmm1e-05_augm_flagTrue_train_typeCEDA_GMMgrad_vars mu var.pth'\n",
    "n_list = [1, 5, 10, 20, 30, 50, 100, 200, 500]\n",
    "\n",
    "files = [string1 + str(n) + string2 for n in n_list]\n",
    "\n",
    "all_bounds = []\n",
    "bound_list = []\n",
    "bound_list2 = []\n",
    "\n",
    "for n, file in zip(n_list, files):\n",
    "    print(n)\n",
    "    model = torch.load(file).cpu()\n",
    "    bounds = aggregate_adv_stats(model.mm, 'cpu', shape, batch_size=50, batches=20)\n",
    "    print(bounds.std().item())\n",
    "    print(bounds.mean().item())\n",
    "    bound_list.append(bounds.mean().item())\n",
    "    bound_list2.append(bounds.median().item())\n",
    "    all_bounds.append(bounds)\n",
    "    print(bounds.median().item())\n",
    "    plt.hist(bounds)\n",
    "    plt.show()\n",
    "    print('')"
   ]
  },
  {
   "cell_type": "code",
   "execution_count": 50,
   "metadata": {},
   "outputs": [
    {
     "name": "stdout",
     "output_type": "stream",
     "text": [
      "tensor(-6.9701, grad_fn=<MaxBackward1>)\n",
      "tensor(-13.0141, grad_fn=<MeanBackward0>)\n"
     ]
    }
   ],
   "source": [
    "file = 'SavedModels/gmm__PCACIFAR10_lam0.0_n1000_lr0.1_lrgmm1e-05_augm_flagTrue_train_typeCEDA_GMMgrad_vars mu var.pth'\n",
    "model = torch.load(file)\n",
    "#bounds = aggregate_adv_stats(model.mm, 'cpu', shape, batch_size=30, batches=5)\n",
    "print(model.mm.logvar.max())\n",
    "print(model.mm.logvar.mean())\n",
    "#plt.hist(bounds)\n",
    "#plt.show()"
   ]
  },
  {
   "cell_type": "code",
   "execution_count": null,
   "metadata": {},
   "outputs": [],
   "source": [
    "string1 = 'Checkpoints/gmm__PCACIFAR10_lam0.0_n'\n",
    "string2 = '_lr0.1_lrgmm1e-05_augm_flagTrue_train_typeCEDA_GMMgrad_vars mu var.pth'\n",
    "n_list = [1, 5, 10, 20, 30, 50, 100, 200, 500]\n",
    "\n",
    "files = [string1 + str(n) + string2 for n in n_list]\n",
    "\n",
    "for n, file in zip(n_list, files):\n",
    "    print(n)\n",
    "    model = torch.load(file)\n",
    "\n",
    "    print(model.mm.logvar.max().item())\n",
    "    print(model.mm.logvar.mean().item())\n",
    "    print('')"
   ]
  },
  {
   "cell_type": "code",
   "execution_count": 4,
   "metadata": {},
   "outputs": [],
   "source": [
    "import torch\n",
    "import torch.nn as nn\n",
    "import utils.models as models\n",
    "import utils.dataloaders as dl\n",
    "from sklearn import mixture\n",
    "import numpy as np\n",
    "import utils.gmm_helpers as gmm_helpers\n",
    "\n",
    "import argparse\n",
    "\n",
    "dataset = 'CIFAR10'\n",
    "N = [5]\n",
    "augm_flag = True\n",
    "PCA = True\n",
    "data_used = None\n",
    "\n",
    "if dataset=='MNIST':\n",
    "    dim = 784\n",
    "    loader = dl.MNIST(train=True,augm_flag=augm_flag)\n",
    "    hps.data_used = 60000 if hps.data_used is None else data_used\n",
    "if dataset=='FMNIST':\n",
    "    dim = 784\n",
    "    loader = dl.FMNIST(train=True,augm_flag=hps.augm_flag)\n",
    "    hps.data_used = 60000 if hps.data_used is None else hps.data_used\n",
    "elif dataset=='SVHN':\n",
    "    dim = 3072\n",
    "    loader = dl.SVHN(train=True,augm_flag=hps.augm_flag)\n",
    "    data_used = 50000 if hps.data_used is None else hps.data_used\n",
    "elif dataset=='CIFAR10':\n",
    "    dim = 3072\n",
    "    loader = dl.CIFAR10(train=True,augm_flag=augm_flag)\n",
    "    data_used = 50000 if data_used is None else data_used\n",
    "elif dataset=='CIFAR100':\n",
    "    dim = 3072\n",
    "    loader = dl.CIFAR100(train=True,augm_flag=hps.augm_flag)\n",
    "    hps.data_used = 50000 if hps.data_used is None else hps.data_used\n",
    "\n",
    "X = []\n",
    "for x, f in loader:\n",
    "    X.append(x.view(-1,dim))\n",
    "X = torch.cat(X, 0)\n",
    "\n",
    "X = X[:data_used] #needed to keep memory of distance matrix below 800 GB\n",
    "\n"
   ]
  },
  {
   "cell_type": "code",
   "execution_count": 13,
   "metadata": {},
   "outputs": [
    {
     "name": "stdout",
     "output_type": "stream",
     "text": [
      "5\n"
     ]
    },
    {
     "ename": "TypeError",
     "evalue": "__init__() got an unexpected keyword argument 'params'",
     "output_type": "error",
     "traceback": [
      "\u001b[0;31m---------------------------------------------------------------------------\u001b[0m",
      "\u001b[0;31mTypeError\u001b[0m                                 Traceback (most recent call last)",
      "\u001b[0;32m<ipython-input-13-996662b8de45>\u001b[0m in \u001b[0;36m<module>\u001b[0;34m()\u001b[0m\n\u001b[1;32m     11\u001b[0m     clf = mixture.GaussianMixture(n_components=n, \n\u001b[1;32m     12\u001b[0m                                   \u001b[0mcovariance_type\u001b[0m\u001b[0;34m=\u001b[0m\u001b[0;34m'spherical'\u001b[0m\u001b[0;34m,\u001b[0m\u001b[0;34m\u001b[0m\u001b[0m\n\u001b[0;32m---> 13\u001b[0;31m                                   max_iter=500, params='mc')\n\u001b[0m\u001b[1;32m     14\u001b[0m     \u001b[0mclf\u001b[0m\u001b[0;34m.\u001b[0m\u001b[0mfit\u001b[0m\u001b[0;34m(\u001b[0m\u001b[0mX\u001b[0m\u001b[0;34m)\u001b[0m\u001b[0;34m\u001b[0m\u001b[0m\n\u001b[1;32m     15\u001b[0m     \u001b[0mmu\u001b[0m \u001b[0;34m=\u001b[0m \u001b[0mtorch\u001b[0m\u001b[0;34m.\u001b[0m\u001b[0mtensor\u001b[0m\u001b[0;34m(\u001b[0m\u001b[0mclf\u001b[0m\u001b[0;34m.\u001b[0m\u001b[0mmeans_\u001b[0m \u001b[0;34m,\u001b[0m\u001b[0mdtype\u001b[0m\u001b[0;34m=\u001b[0m\u001b[0mtorch\u001b[0m\u001b[0;34m.\u001b[0m\u001b[0mfloat\u001b[0m\u001b[0;34m)\u001b[0m\u001b[0;34m\u001b[0m\u001b[0m\n",
      "\u001b[0;31mTypeError\u001b[0m: __init__() got an unexpected keyword argument 'params'"
     ]
    }
   ],
   "source": [
    "if PCA:\n",
    "    metric = models.PCAMetric( X, p=2, min_sv_factor=1e6)\n",
    "    X = ( (X@metric.comp_vecs.t()) / metric.singular_values_sqrt[None,:] )\n",
    "else:\n",
    "    metric = models.LpMetric()\n",
    "\n",
    "for n in N:\n",
    "    print(n)\n",
    "    gmm = models.GMM(n, dim, metric=metric)\n",
    "\n",
    "    clf = mixture.GaussianMixture(n_components=n, \n",
    "                                  covariance_type='spherical',\n",
    "                                  max_iter=500, params='mc')\n",
    "    clf.fit(X)\n",
    "    mu = torch.tensor(clf.means_ ,dtype=torch.float)\n",
    "    logvar = torch.tensor(np.log(clf.covariances_) ,dtype=torch.float)\n",
    "    logvar = 0.*logvar + logvar.mean()\n",
    "    alpha = torch.tensor(np.log(clf.weights_) ,dtype=torch.float)\n",
    "    gmm = models.GMM(n, dim, mu=mu, logvar=logvar, metric=metric)\n",
    "\n",
    "\n",
    "    if PCA:\n",
    "        gmm.mu.data = ( (gmm.mu.data * metric.singular_values_sqrt[None,:] ) @ metric.comp_vecs.t().inverse() )\n",
    "\n"
   ]
  },
  {
   "cell_type": "code",
   "execution_count": 206,
   "metadata": {},
   "outputs": [
    {
     "data": {
      "text/plain": [
       "[<matplotlib.lines.Line2D at 0x7fc551e84e48>]"
      ]
     },
     "execution_count": 206,
     "metadata": {},
     "output_type": "execute_result"
    },
    {
     "data": {
      "image/png": "[encoded data removed]",
      "text/plain": [
       "<Figure size 432x288 with 1 Axes>"
      ]
     },
     "metadata": {},
     "output_type": "display_data"
    }
   ],
   "source": [
    "plt.semilogx(n_list[1:], bound_list[1:])"
   ]
  },
  {
   "cell_type": "code",
   "execution_count": 210,
   "metadata": {},
   "outputs": [
    {
     "data": {
      "text/plain": [
       "[<matplotlib.lines.Line2D at 0x7fc579405ba8>]"
      ]
     },
     "execution_count": 210,
     "metadata": {},
     "output_type": "execute_result"
    },
    {
     "data": {
      "image/png": "[encoded data removed]",
      "text/plain": [
       "<Figure size 432x288 with 1 Axes>"
      ]
     },
     "metadata": {},
     "output_type": "display_data"
    }
   ],
   "source": [
    "plt.semilogx(n_list[1:], bound_list2[1:])"
   ]
  },
  {
   "cell_type": "code",
   "execution_count": 211,
   "metadata": {},
   "outputs": [
    {
     "data": {
      "text/plain": [
       "[<matplotlib.lines.Line2D at 0x7fc47d987320>]"
      ]
     },
     "execution_count": 211,
     "metadata": {},
     "output_type": "execute_result"
    },
    {
     "data": {
      "image/png": "[encoded data removed]",
      "text/plain": [
       "<Figure size 432x288 with 1 Axes>"
      ]
     },
     "metadata": {},
     "output_type": "display_data"
    }
   ],
   "source": [
    "plt.loglog(n_list[1:], bound_list2[1:])"
   ]
  },
  {
   "cell_type": "code",
   "execution_count": null,
   "metadata": {
    "scrolled": true
   },
   "outputs": [],
   "source": [
    "n = 5\n",
    "gmm = models.GMM(n, dim, metric=metric)\n",
    "\n",
    "clf2 = mixture.GaussianMixture(n_components=n, \n",
    "                              covariance_type='tied',\n",
    "                              max_iter=100, verbose=True)\n",
    "clf2.fit(X)"
   ]
  },
  {
   "cell_type": "code",
   "execution_count": 15,
   "metadata": {},
   "outputs": [
    {
     "name": "stderr",
     "output_type": "stream",
     "text": [
      "/usr/local/lib/python3.5/dist-packages/sklearn/utils/deprecation.py:58: DeprecationWarning: Class GMM is deprecated; The class GMM is deprecated in 0.18 and will be  removed in 0.20. Use class GaussianMixture instead.\n",
      "  warnings.warn(msg, category=DeprecationWarning)\n"
     ]
    }
   ],
   "source": [
    "clf = mixture.GMM(n_components=n, covariance_type='spherical', params='mc')"
   ]
  },
  {
   "cell_type": "code",
   "execution_count": 208,
   "metadata": {},
   "outputs": [
    {
     "data": {
      "text/plain": [
       "tensor(7.6667)"
      ]
     },
     "execution_count": 208,
     "metadata": {},
     "output_type": "execute_result"
    }
   ],
   "source": []
  },
  {
   "cell_type": "code",
   "execution_count": 24,
   "metadata": {},
   "outputs": [
    {
     "data": {
      "text/plain": [
       "array([0.00106073, 0.001     , 0.001     , 0.001     , 0.001     ])"
      ]
     },
     "execution_count": 24,
     "metadata": {},
     "output_type": "execute_result"
    }
   ],
   "source": [
    "clf.covars_[:,0]"
   ]
  },
  {
   "cell_type": "code",
   "execution_count": 157,
   "metadata": {},
   "outputs": [],
   "source": [
    "cov = np.cov(X.t())"
   ]
  },
  {
   "cell_type": "code",
   "execution_count": 168,
   "metadata": {},
   "outputs": [
    {
     "data": {
      "text/plain": [
       "16663.15978861149"
      ]
     },
     "execution_count": 168,
     "metadata": {},
     "output_type": "execute_result"
    }
   ],
   "source": [
    "1/(cov.trace()/3072)"
   ]
  },
  {
   "cell_type": "code",
   "execution_count": 165,
   "metadata": {},
   "outputs": [
    {
     "data": {
      "text/plain": [
       "tensor(4947.3242)"
      ]
     },
     "execution_count": 165,
     "metadata": {},
     "output_type": "execute_result"
    }
   ],
   "source": [
    "gmm.metric.singular_values.log().sum()"
   ]
  },
  {
   "cell_type": "code",
   "execution_count": 167,
   "metadata": {},
   "outputs": [
    {
     "data": {
      "text/plain": [
       "403.4287934927351"
      ]
     },
     "execution_count": 167,
     "metadata": {},
     "output_type": "execute_result"
    }
   ],
   "source": [
    "np.exp(6)"
   ]
  },
  {
   "cell_type": "code",
   "execution_count": null,
   "metadata": {},
   "outputs": [],
   "source": []
  }
 ],
 "metadata": {
  "kernelspec": {
   "display_name": "Python 3",
   "language": "python",
   "name": "python3"
  },
  "language_info": {
   "codemirror_mode": {
    "name": "ipython",
    "version": 3
   },
   "file_extension": ".py",
   "mimetype": "text/x-python",
   "name": "python",
   "nbconvert_exporter": "python",
   "pygments_lexer": "ipython3",
   "version": "3.5.2"
  }
 },
 "nbformat": 4,
 "nbformat_minor": 2
}
