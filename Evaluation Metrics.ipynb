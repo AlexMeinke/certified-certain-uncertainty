{
 "cells": [
  {
   "cell_type": "code",
   "execution_count": 188,
   "metadata": {},
   "outputs": [],
   "source": [
    "import torch\n",
    "import torch.nn as nn\n",
    "import torch.nn.functional as F\n",
    "import torch.optim as optim\n",
    "from torchvision import datasets, transforms\n",
    "\n",
    "import numpy as np\n",
    "import pandas as pd\n",
    "import matplotlib.pyplot as plt\n",
    "\n",
    "from importlib import reload\n",
    "\n",
    "import models\n",
    "import plotting\n",
    "import utils.dataloaders as dl\n",
    "import traintest as tt\n",
    "import adversarial as adv\n",
    "import utils.preproc as pre"
   ]
  },
  {
   "cell_type": "code",
   "execution_count": 2,
   "metadata": {},
   "outputs": [],
   "source": [
    "if torch.cuda.is_available():\n",
    "    device = torch.device('cuda')\n",
    "else:\n",
    "    device = torch.device('cpu')"
   ]
  },
  {
   "cell_type": "code",
   "execution_count": 36,
   "metadata": {},
   "outputs": [],
   "source": [
    "base_model = torch.load('SavedModels/base_model.pth').to(device)\n",
    "gmm_model = torch.load('SavedModels/gmm_model.pth').to(device)"
   ]
  },
  {
   "cell_type": "code",
   "execution_count": 4,
   "metadata": {},
   "outputs": [],
   "source": [
    "def test_metrics(model, device, in_loader, out_loader, thresholds=torch.linspace(.1, 1., 1000).to(device)):\n",
    "    with torch.no_grad():\n",
    "        model.eval()\n",
    "        conf_in = []\n",
    "        conf_out = []\n",
    "        count = 0.\n",
    "        for ((batch_idx, (data_in, _)), (_, (data_out, _))) in zip(enumerate(in_loader),enumerate(out_loader)):\n",
    "            count += 1\n",
    "            data_in = data_in.to(device)\n",
    "            data_out = data_out.to(device)\n",
    "\n",
    "            output_in = model(data_in).max(1)[0].exp()\n",
    "            output_out = model(data_out).max(1)[0].exp()\n",
    "\n",
    "            conf_in.append(output_in)\n",
    "            conf_out.append(output_out)\n",
    "        conf_in = torch.cat(conf_in)\n",
    "        conf_out = torch.cat(conf_out)\n",
    "        \n",
    "        tp = (conf_in[:,None] > thresholds[None,:]).sum(0).float()/(count*in_loader.batch_size)\n",
    "        fp = (conf_out[:,None] > thresholds[None,:]).sum(0).float()/(count*out_loader.batch_size)\n",
    "        \n",
    "        mmc = conf_out.mean().item()\n",
    "        auroc = -np.trapz(tp.cpu().numpy(), x=fp.cpu().numpy())\n",
    "        fp95 = ((conf_out > 0.95).sum().float()/(count*out_loader.batch_size)).item()\n",
    "        return mmc, auroc, fp95"
   ]
  },
  {
   "cell_type": "code",
   "execution_count": 5,
   "metadata": {},
   "outputs": [],
   "source": [
    "def evaluate_model(model, device, base_loader, loaders):\n",
    "    metrics = []\n",
    "    mmc, _, _ = test_metrics(model, device, base_loader, base_loader)\n",
    "    metrics.append(['MNIST', mmc, '-', '-'])\n",
    "    for (name, data_loader) in loaders:\n",
    "        mmc, auroc, fp95 = test_metrics(model, device, base_loader, data_loader)\n",
    "        metrics.append([name, mmc, auroc, fp95])\n",
    "    df = pd.DataFrame(metrics, columns = ['DataSet', 'MMC', 'AUROC', 'FPR@95'])\n",
    "    return df.set_index('DataSet')"
   ]
  },
  {
   "cell_type": "code",
   "execution_count": 160,
   "metadata": {},
   "outputs": [],
   "source": [
    "loaders = (\n",
    "[('FMNIST', dl.FMNIST_test_loader), \n",
    " ('EMNIST', dl.EMNIST_test_loader),\n",
    " ('GrayCIFAR10', dl.GrayCIFAR10_test_loader),\n",
    " ('Noise', dl.Noise_loader),\n",
    " ('Adv. Noise', Adv_noise_loader)]\n",
    ")"
   ]
  },
  {
   "cell_type": "code",
   "execution_count": 161,
   "metadata": {
    "scrolled": true
   },
   "outputs": [],
   "source": [
    "df = evaluate_model(base_model, device, dl.MNIST_test_loader, loaders)"
   ]
  },
  {
   "cell_type": "code",
   "execution_count": 162,
   "metadata": {},
   "outputs": [
    {
     "data": {
      "text/html": [
       "<div>\n",
       "<style scoped>\n",
       "    .dataframe tbody tr th:only-of-type {\n",
       "        vertical-align: middle;\n",
       "    }\n",
       "\n",
       "    .dataframe tbody tr th {\n",
       "        vertical-align: top;\n",
       "    }\n",
       "\n",
       "    .dataframe thead th {\n",
       "        text-align: right;\n",
       "    }\n",
       "</style>\n",
       "<table border=\"1\" class=\"dataframe\">\n",
       "  <thead>\n",
       "    <tr style=\"text-align: right;\">\n",
       "      <th></th>\n",
       "      <th>MMC</th>\n",
       "      <th>AUROC</th>\n",
       "      <th>FPR@95</th>\n",
       "    </tr>\n",
       "    <tr>\n",
       "      <th>DataSet</th>\n",
       "      <th></th>\n",
       "      <th></th>\n",
       "      <th></th>\n",
       "    </tr>\n",
       "  </thead>\n",
       "  <tbody>\n",
       "    <tr>\n",
       "      <th>MNIST</th>\n",
       "      <td>0.992019</td>\n",
       "      <td>-</td>\n",
       "      <td>-</td>\n",
       "    </tr>\n",
       "    <tr>\n",
       "      <th>FMNIST</th>\n",
       "      <td>0.686990</td>\n",
       "      <td>0.984332</td>\n",
       "      <td>0.1078</td>\n",
       "    </tr>\n",
       "    <tr>\n",
       "      <th>EMNIST</th>\n",
       "      <td>0.854618</td>\n",
       "      <td>0.869306</td>\n",
       "      <td>0.4906</td>\n",
       "    </tr>\n",
       "    <tr>\n",
       "      <th>GrayCIFAR10</th>\n",
       "      <td>0.632773</td>\n",
       "      <td>0.989706</td>\n",
       "      <td>0.0572</td>\n",
       "    </tr>\n",
       "    <tr>\n",
       "      <th>Noise</th>\n",
       "      <td>0.383731</td>\n",
       "      <td>0.999387</td>\n",
       "      <td>0</td>\n",
       "    </tr>\n",
       "    <tr>\n",
       "      <th>Adv. Noise</th>\n",
       "      <td>0.839936</td>\n",
       "      <td>0.898021</td>\n",
       "      <td>0.4257</td>\n",
       "    </tr>\n",
       "  </tbody>\n",
       "</table>\n",
       "</div>"
      ],
      "text/plain": [
       "                  MMC     AUROC  FPR@95\n",
       "DataSet                                \n",
       "MNIST        0.992019         -       -\n",
       "FMNIST       0.686990  0.984332  0.1078\n",
       "EMNIST       0.854618  0.869306  0.4906\n",
       "GrayCIFAR10  0.632773  0.989706  0.0572\n",
       "Noise        0.383731  0.999387       0\n",
       "Adv. Noise   0.839936  0.898021  0.4257"
      ]
     },
     "execution_count": 162,
     "metadata": {},
     "output_type": "execute_result"
    }
   ],
   "source": [
    "df"
   ]
  },
  {
   "cell_type": "code",
   "execution_count": 167,
   "metadata": {},
   "outputs": [],
   "source": [
    "adv_noise_transform = transforms.Compose([dl.noise_transform,\n",
    "                                         pre.AdversarialNoise(base_model, device)])\n",
    "\n",
    "test_batch_size = 10\n",
    "Adv_noise_loader = torch.utils.data.DataLoader(\n",
    "        datasets.MNIST('../data', train=False, transform=adv_noise_transform),\n",
    "        batch_size=test_batch_size, shuffle=False)"
   ]
  },
  {
   "cell_type": "code",
   "execution_count": 210,
   "metadata": {},
   "outputs": [
    {
     "data": {
      "image/png": "[encoded data removed]",
      "text/plain": [
       "<Figure size 432x288 with 10 Axes>"
      ]
     },
     "metadata": {},
     "output_type": "display_data"
    },
    {
     "name": "stdout",
     "output_type": "stream",
     "text": [
      "\n",
      "\n"
     ]
    },
    {
     "data": {
      "image/png": "[encoded data removed]",
      "text/plain": [
       "<Figure size 432x288 with 10 Axes>"
      ]
     },
     "metadata": {},
     "output_type": "display_data"
    },
    {
     "name": "stdout",
     "output_type": "stream",
     "text": [
      "\n",
      "\n"
     ]
    }
   ],
   "source": [
    "data = enumerate(Adv_noise_loader).__next__()[1][0]\n",
    "\n",
    "y_base = base_model(data.to(device))\n",
    "y = gmm_model(data.to(device))\n",
    "\n",
    "plotting.plot_samples([y_base, y], data.detach().cpu())\n",
    "\n",
    "data = enumerate(adv_sample_loader).__next__()[1][0]\n",
    "\n",
    "y_base = base_model(data.to(device))\n",
    "y = gmm_model(data.to(device))\n",
    "\n",
    "plotting.plot_samples([y_base, y], data.detach().cpu())"
   ]
  },
  {
   "cell_type": "code",
   "execution_count": 348,
   "metadata": {},
   "outputs": [
    {
     "name": "stdout",
     "output_type": "stream",
     "text": [
      "Train Epoch: 0 [0/60000 (0%)]\tLoss: 0.359271\n",
      "Train Epoch: 0 [10000/60000 (17%)]\tLoss: 2.532630\n",
      "Train Epoch: 0 [20000/60000 (33%)]\tLoss: 2.532842\n",
      "Train Epoch: 0 [30000/60000 (50%)]\tLoss: 2.532842\n",
      "Train Epoch: 0 [40000/60000 (67%)]\tLoss: 2.532846\n",
      "Train Epoch: 0 [50000/60000 (83%)]\tLoss: 2.532845\n"
     ]
    }
   ],
   "source": [
    "lr = .0001\n",
    "momentum = .9\n",
    "\n",
    "optimizer_base = optim.SGD(base_model.parameters(), lr=lr, momentum=momentum, weight_decay=0.005)\n",
    "for epoch in range(1):\n",
    "    optimizer_base.param_groups[0]['lr'] *= .8\n",
    "    tt.train_adv(base_model, device, dl.train_loader, optimizer_base, epoch)"
   ]
  },
  {
   "cell_type": "code",
   "execution_count": 204,
   "metadata": {},
   "outputs": [
    {
     "data": {
      "text/plain": [
       "<module 'adversarial' from '/home/alexm/project/notebooks/gmm-robust/adversarial.py'>"
      ]
     },
     "execution_count": 204,
     "metadata": {},
     "output_type": "execute_result"
    }
   ],
   "source": [
    "reload(adv)"
   ]
  },
  {
   "cell_type": "code",
   "execution_count": 205,
   "metadata": {},
   "outputs": [
    {
     "name": "stdout",
     "output_type": "stream",
     "text": [
      "0\n",
      "100\n",
      "200\n",
      "300\n",
      "400\n",
      "500\n",
      "600\n",
      "700\n",
      "800\n",
      "900\n"
     ]
    }
   ],
   "source": [
    "new_data = []\n",
    "for batch_idx, (data, target) in enumerate(dl.MNIST_test_loader):\n",
    "    data, target = data.to(device), target.to(device)\n",
    "    \n",
    "    new_data.append(adv.generate_adv_sample(base_model, 3., data, target,\n",
    "                        device=device, \n",
    "                        batch_size=10, norm=2, \n",
    "                        num_of_it=40, alpha=0.01).detach().cpu()\n",
    "                   )\n",
    "    if batch_idx % 100 == 0:\n",
    "        print(batch_idx)"
   ]
  },
  {
   "cell_type": "code",
   "execution_count": 207,
   "metadata": {},
   "outputs": [],
   "source": [
    "new_data= torch.cat(new_data, 0)"
   ]
  },
  {
   "cell_type": "code",
   "execution_count": 208,
   "metadata": {},
   "outputs": [
    {
     "data": {
      "text/plain": [
       "torch.Size([10000, 1, 28, 28])"
      ]
     },
     "execution_count": 208,
     "metadata": {},
     "output_type": "execute_result"
    }
   ],
   "source": [
    "new_data.shape"
   ]
  },
  {
   "cell_type": "code",
   "execution_count": 209,
   "metadata": {},
   "outputs": [
    {
     "data": {
      "text/plain": [
       "<matplotlib.image.AxesImage at 0x7fe850089198>"
      ]
     },
     "execution_count": 209,
     "metadata": {},
     "output_type": "execute_result"
    },
    {
     "data": {
      "image/png": "[encoded data removed]",
      "text/plain": [
       "<Figure size 432x288 with 1 Axes>"
      ]
     },
     "metadata": {},
     "output_type": "display_data"
    }
   ],
   "source": [
    "plt.imshow(new_data[0][0])"
   ]
  },
  {
   "cell_type": "code",
   "execution_count": 201,
   "metadata": {},
   "outputs": [],
   "source": [
    "import torch.utils.data as data_utils\n",
    "\n",
    "adv_sample_set = data_utils.TensorDataset(new_data, torch.zeros(10000,10))\n",
    "adv_sample_loader = data_utils.DataLoader(adv_sample_set, batch_size=10, shuffle=True)"
   ]
  },
  {
   "cell_type": "code",
   "execution_count": 261,
   "metadata": {},
   "outputs": [],
   "source": [
    "def generate_adv_sample(model, epsilon, seed_images, seed_labels,\n",
    "                        device=torch.device('cpu'), \n",
    "                        batch_size=10, norm=2, \n",
    "                        num_of_it=40, alpha=0.01):\n",
    "    \n",
    "    image = seed_images.to(device).requires_grad_()\n",
    "    perturbed_image = image\n",
    "    for _ in range(num_of_it):\n",
    "        with torch.enable_grad():\n",
    "            y = model(perturbed_image)\n",
    "            loss = F.nll_loss(y, seed_labels)\n",
    "        \n",
    "        loss.backward()\n",
    "\n",
    "        with torch.no_grad():\n",
    "            perturbed_image += alpha*image.grad\n",
    "\n",
    "            delta = perturbed_image-image\n",
    "            delta /= delta.view((batch_size,784)).norm(p=norm, dim=1)[:,None,None,None]\n",
    "            delta *= epsilon\n",
    "            perturbed_image = image + delta\n",
    "            perturbed_image = torch.clamp(perturbed_image, 0, 1)\n",
    "\n",
    "            perturbed_image = perturbed_image.detach()\n",
    "    return perturbed_image"
   ]
  },
  {
   "cell_type": "code",
   "execution_count": 262,
   "metadata": {},
   "outputs": [],
   "source": [
    "(data, target) = enumerate(dl.MNIST_test_loader).__next__()[1]"
   ]
  },
  {
   "cell_type": "code",
   "execution_count": 272,
   "metadata": {},
   "outputs": [],
   "source": [
    "a = generate_adv_sample(base_model, .4, data.to(device), target.to(device),\n",
    "                        device=device, \n",
    "                        batch_size=10, norm=20, \n",
    "                        num_of_it=4000, alpha=.1).detach().cpu()"
   ]
  },
  {
   "cell_type": "code",
   "execution_count": 273,
   "metadata": {},
   "outputs": [
    {
     "data": {
      "text/plain": [
       "tensor(1987.2286)"
      ]
     },
     "execution_count": 273,
     "metadata": {},
     "output_type": "execute_result"
    }
   ],
   "source": [
    "(data-a).abs().sum()"
   ]
  },
  {
   "cell_type": "code",
   "execution_count": 274,
   "metadata": {},
   "outputs": [
    {
     "data": {
      "text/plain": [
       "<matplotlib.image.AxesImage at 0x7fe835085e48>"
      ]
     },
     "execution_count": 274,
     "metadata": {},
     "output_type": "execute_result"
    },
    {
     "data": {
      "image/png": "[encoded data removed]",
      "text/plain": [
       "<Figure size 432x288 with 1 Axes>"
      ]
     },
     "metadata": {},
     "output_type": "display_data"
    }
   ],
   "source": [
    "plt.imshow(a[0][0]-data[0][0])\n"
   ]
  },
  {
   "cell_type": "code",
   "execution_count": 275,
   "metadata": {},
   "outputs": [
    {
     "data": {
      "image/png": "[encoded data removed]",
      "text/plain": [
       "<Figure size 432x288 with 10 Axes>"
      ]
     },
     "metadata": {},
     "output_type": "display_data"
    },
    {
     "name": "stdout",
     "output_type": "stream",
     "text": [
      "\n",
      "\n"
     ]
    }
   ],
   "source": [
    "#data = enumerate(adv_sample_loader).__next__()[1][0]\n",
    "\n",
    "y_base = base_model(data.to(device))\n",
    "y = base_model(a.to(device))\n",
    "\n",
    "plotting.plot_samples([y_base, y], a.detach().cpu())"
   ]
  },
  {
   "cell_type": "code",
   "execution_count": 367,
   "metadata": {},
   "outputs": [],
   "source": [
    "def gen_adv_noise(model, device, seed, epsilon=0.1, steps=40, step_size=10000.):\n",
    "    \n",
    "    with torch.no_grad():\n",
    "        batch_size = seed.shape[0]\n",
    "        alpha = step_size * torch.ones(batch_size,1,1,1, device=device)\n",
    "\n",
    "        orig_data = seed.to(device)\n",
    "        prev_data = seed.to(device)\n",
    "        data = seed.to(device).requires_grad_()\n",
    "\n",
    "        prev_losses = -100000.*torch.ones(batch_size, device=device)\n",
    "        prev_grad = torch.zeros_like(seed, device=device)\n",
    "    for _ in range(steps):\n",
    "        with torch.enable_grad():\n",
    "            y = model(data)\n",
    "            losses = y.max(1)[0]\n",
    "            losses.sum().backward()\n",
    "            \n",
    "        with torch.no_grad():\n",
    "            grad = data.grad\n",
    "            regret_index = losses<prev_losses\n",
    "            alpha[regret_index] /= 2.\n",
    "            data[regret_index] = prev_data[regret_index]\n",
    "            grad[regret_index] = prev_grad[regret_index]\n",
    "            \n",
    "            prev_losses=losses\n",
    "            prev_data = data\n",
    "            prev_grad = grad\n",
    "            \n",
    "\n",
    "            data += alpha*grad\n",
    "            delta = torch.clamp(data-orig_data, -epsilon, epsilon)\n",
    "            data = torch.clamp(orig_data + delta, 0, 1).requires_grad_()\n",
    "    return data"
   ]
  },
  {
   "cell_type": "code",
   "execution_count": 363,
   "metadata": {},
   "outputs": [],
   "source": [
    "a,b,c = gen_adv_noise(base_model, device, torch.rand(10,1,28,28))"
   ]
  },
  {
   "cell_type": "code",
   "execution_count": 362,
   "metadata": {},
   "outputs": [
    {
     "data": {
      "text/plain": [
       "<matplotlib.image.AxesImage at 0x7fe8851b8d30>"
      ]
     },
     "execution_count": 362,
     "metadata": {},
     "output_type": "execute_result"
    },
    {
     "data": {
      "image/png": "[encoded data removed]",
      "text/plain": [
       "<Figure size 432x288 with 1 Axes>"
      ]
     },
     "metadata": {},
     "output_type": "display_data"
    }
   ],
   "source": [
    "plt.imshow((a.cpu())[0][0].detach())"
   ]
  },
  {
   "cell_type": "code",
   "execution_count": 366,
   "metadata": {},
   "outputs": [
    {
     "data": {
      "text/plain": [
       "(tensor([0.9998, 0.9999, 0.9997, 0.9997, 0.9997, 0.9997, 0.9988, 0.9996, 0.9998,\n",
       "         0.9999], device='cuda:0', grad_fn=<MaxBackward0>),\n",
       " tensor([8, 8, 8, 8, 8, 8, 8, 8, 8, 8], device='cuda:0'))"
      ]
     },
     "execution_count": 366,
     "metadata": {},
     "output_type": "execute_result"
    }
   ],
   "source": [
    "base_model(a.to(device)).exp().max(1)"
   ]
  },
  {
   "cell_type": "code",
   "execution_count": 355,
   "metadata": {},
   "outputs": [
    {
     "data": {
      "text/plain": [
       "tensor([[[[10000.0000]]],\n",
       "\n",
       "\n",
       "        [[[10000.0000]]],\n",
       "\n",
       "\n",
       "        [[[ 1250.0000]]],\n",
       "\n",
       "\n",
       "        [[[ 5000.0000]]],\n",
       "\n",
       "\n",
       "        [[[ 2500.0000]]],\n",
       "\n",
       "\n",
       "        [[[10000.0000]]],\n",
       "\n",
       "\n",
       "        [[[ 2500.0000]]],\n",
       "\n",
       "\n",
       "        [[[   78.1250]]],\n",
       "\n",
       "\n",
       "        [[[10000.0000]]],\n",
       "\n",
       "\n",
       "        [[[ 5000.0000]]]], device='cuda:0')"
      ]
     },
     "execution_count": 355,
     "metadata": {},
     "output_type": "execute_result"
    }
   ],
   "source": [
    "b"
   ]
  },
  {
   "cell_type": "code",
   "execution_count": 330,
   "metadata": {},
   "outputs": [
    {
     "data": {
      "text/plain": [
       "tensor(0.0185, grad_fn=<MaxBackward1>)"
      ]
     },
     "execution_count": 330,
     "metadata": {},
     "output_type": "execute_result"
    }
   ],
   "source": [
    "diff.abs().max()"
   ]
  },
  {
   "cell_type": "code",
   "execution_count": 359,
   "metadata": {},
   "outputs": [
    {
     "data": {
      "text/plain": [
       "<matplotlib.image.AxesImage at 0x7fe88524e4e0>"
      ]
     },
     "execution_count": 359,
     "metadata": {},
     "output_type": "execute_result"
    },
    {
     "data": {
      "image/png": "[encoded data removed]",
      "text/plain": [
       "<Figure size 432x288 with 1 Axes>"
      ]
     },
     "metadata": {},
     "output_type": "display_data"
    }
   ],
   "source": [
    "plt.imshow(a.detach().cpu()[0][0])"
   ]
  },
  {
   "cell_type": "code",
   "execution_count": 369,
   "metadata": {},
   "outputs": [
    {
     "data": {
      "image/png": "[encoded data removed]",
      "text/plain": [
       "<Figure size 432x288 with 10 Axes>"
      ]
     },
     "metadata": {},
     "output_type": "display_data"
    },
    {
     "name": "stdout",
     "output_type": "stream",
     "text": [
      "\n",
      "\n"
     ]
    },
    {
     "data": {
      "image/png": "[encoded data removed]",
      "text/plain": [
       "<Figure size 432x288 with 10 Axes>"
      ]
     },
     "metadata": {},
     "output_type": "display_data"
    },
    {
     "name": "stdout",
     "output_type": "stream",
     "text": [
      "\n",
      "\n"
     ]
    }
   ],
   "source": [
    "data = enumerate(dl.Noise_loader).__next__()[1][0]\n",
    "\n",
    "y_base = base_model(data.to(device))\n",
    "y = gmm_model(data.to(device))\n",
    "\n",
    "plotting.plot_samples([y_base, y], data.detach().cpu())\n",
    "\n",
    "data = gen_adv_noise(base_model, device, data)\n",
    "\n",
    "y_base = base_model(data.to(device))\n",
    "y = gmm_model(data.to(device))\n",
    "\n",
    "plotting.plot_samples([y_base, y], data.detach().cpu())"
   ]
  },
  {
   "cell_type": "code",
   "execution_count": null,
   "metadata": {},
   "outputs": [],
   "source": []
  }
 ],
 "metadata": {
  "kernelspec": {
   "display_name": "Python 3",
   "language": "python",
   "name": "python3"
  },
  "language_info": {
   "codemirror_mode": {
    "name": "ipython",
    "version": 3
   },
   "file_extension": ".py",
   "mimetype": "text/x-python",
   "name": "python",
   "nbconvert_exporter": "python",
   "pygments_lexer": "ipython3",
   "version": "3.5.2"
  }
 },
 "nbformat": 4,
 "nbformat_minor": 2
}
