{
 "cells": [
  {
   "cell_type": "code",
   "execution_count": 1,
   "metadata": {},
   "outputs": [],
   "source": [
    "import torch\n",
    "import torch.nn as nn\n",
    "import torch.nn.functional as F\n",
    "import torch.optim as optim\n",
    "\n",
    "import matplotlib.pyplot as plt\n",
    "import numpy as np\n",
    "import pandas as pd\n",
    "\n",
    "from importlib import reload\n",
    "\n",
    "import utils.models as models\n",
    "import utils.plotting as plotting\n",
    "import utils.dataloaders as dl\n",
    "import utils.traintest as tt\n",
    "import utils.adversarial as adv\n",
    "import utils.eval as ev\n",
    "import utils.gmm_helpers as gmm_helpers\n",
    "import model_params as params\n",
    "import resnet\n",
    "\n",
    "from tensorboardX import SummaryWriter"
   ]
  },
  {
   "cell_type": "code",
   "execution_count": 2,
   "metadata": {},
   "outputs": [],
   "source": [
    "gmm=torch.load('SavedModels/GMM/gmm_CIFAR10_n1000_data_used50000_augm_flagTrue_alg_scikit.pth')"
   ]
  },
  {
   "cell_type": "code",
   "execution_count": 4,
   "metadata": {},
   "outputs": [
    {
     "data": {
      "text/plain": [
       "tensor(9.8527, grad_fn=<MeanBackward1>)"
      ]
     },
     "execution_count": 4,
     "metadata": {},
     "output_type": "execute_result"
    }
   ],
   "source": [
    "loader = dl.CIFAR10(train=True,augm_flag=True)\n",
    "ev.rescale_gmm(gmm, loader)\n",
    "gmm.logvar.exp().sqrt().mean()"
   ]
  },
  {
   "cell_type": "code",
   "execution_count": 5,
   "metadata": {},
   "outputs": [],
   "source": [
    "X = ev.find_lam(gmm, 0.01, loader)"
   ]
  },
  {
   "cell_type": "code",
   "execution_count": 2,
   "metadata": {},
   "outputs": [
    {
     "name": "stdout",
     "output_type": "stream",
     "text": [
      "Using downloaded and verified file: ../data/test_32x32.mat\n",
      "loaded\n"
     ]
    }
   ],
   "source": [
    "test_loader = dl.SVHN(train=False,augm_flag=False)\n",
    "base_model=torch.load('SavedModels/model_baseSVHN_lr0.1_augm_flagTrue_train_typeplain.pth').cpu()\n",
    "print('loaded')\n",
    "correct, av_conf, test_loss = tt.test(base_model, 'cpu', test_loader, min_conf=.1)"
   ]
  },
  {
   "cell_type": "code",
   "execution_count": 3,
   "metadata": {},
   "outputs": [
    {
     "name": "stdout",
     "output_type": "stream",
     "text": [
      "\\begin{tabular}{llrll}\n",
      "\\toprule\n",
      "{} &      DataSet &       MMC &               AUROC &               FPR@95 \\\\\n",
      "\\midrule\n",
      "0 &        MNIST &  0.987650 &                   - &                    - \\\\\n",
      "1 &      CIFAR10 &  0.743120 &  0.9511390999999999 &  0.25619998574256897 \\\\\n",
      "2 &     CIFAR100 &  0.736812 &  0.9540600100000001 &  0.24929998815059662 \\\\\n",
      "3 &      LSUN\\_CR &  0.735161 &              0.9523 &  0.24666666984558105 \\\\\n",
      "4 &    Imagenet- &  0.730366 &         0.955624395 &   0.2377999871969223 \\\\\n",
      "5 &        Noise &  0.723415 &  0.9675720180840849 &  0.21634380519390106 \\\\\n",
      "6 &   Adv. Noise &  0.917751 &  0.4421688196847366 &   0.7025489807128906 \\\\\n",
      "7 &  Adv. Sample &  1.000000 &                 0.0 &                  1.0 \\\\\n",
      "\\bottomrule\n",
      "\\end{tabular}\n",
      "\n"
     ]
    }
   ],
   "source": [
    "df = pd.read_csv('results/model_baseSVHN_lr0.1_augm_flagTrue_train_typeplain.csv')\n",
    "print(df.to_latex())"
   ]
  },
  {
   "cell_type": "code",
   "execution_count": 4,
   "metadata": {},
   "outputs": [
    {
     "name": "stdout",
     "output_type": "stream",
     "text": [
      "Using downloaded and verified file: ../data/train_32x32.mat\n",
      "Using downloaded and verified file: ../data/train_32x32.mat\n",
      "Using downloaded and verified file: ../data/test_32x32.mat\n",
      "1776.5617868652344\n"
     ]
    }
   ],
   "source": [
    "gmm=torch.load('SavedModels/GMM/gmm_SVHN_n1000_data_used50000_augm_flagTrue_alg_scikit.pth')\n",
    "\n",
    "model_params = params.params_dict['SVHN'](augm_flag=True)\n",
    "lam = gmm_helpers.find_lam(gmm, .1, model_params.cali_loader)\n",
    "print(lam)"
   ]
  },
  {
   "cell_type": "code",
   "execution_count": 6,
   "metadata": {},
   "outputs": [
    {
     "name": "stdout",
     "output_type": "stream",
     "text": [
      "0.9662722802704364\n",
      "0.9847904930249561\n"
     ]
    }
   ],
   "source": [
    "base_model=torch.load('SavedModels/model_baseSVHN_lr0.1_augm_flagTrue_train_typeplain.pth').cpu()\n",
    "model = models.RobustModel(base_model, gmm, lam, dim=model_params.dim)\n",
    "correct, av_conf, test_loss = tt.test(model, 'cpu', model_params.test_loader, min_conf=.1)\n",
    "print(correct)\n",
    "print(av_conf)"
   ]
  },
  {
   "cell_type": "code",
   "execution_count": 9,
   "metadata": {},
   "outputs": [
    {
     "name": "stdout",
     "output_type": "stream",
     "text": [
      "Using downloaded and verified file: ../data/test_32x32.mat\n",
      "Using downloaded and verified file: ../data/test_32x32.mat\n"
     ]
    },
    {
     "name": "stderr",
     "output_type": "stream",
     "text": [
      "Exception ignored in: <bound method _DataLoaderIter.__del__ of <torch.utils.data.dataloader._DataLoaderIter object at 0x7f278702eb38>>\n",
      "Traceback (most recent call last):\n",
      "  File \"/usr/local/lib/python3.5/dist-packages/torch/utils/data/dataloader.py\", line 717, in __del__\n",
      "    self._shutdown_workers()\n",
      "  File \"/usr/local/lib/python3.5/dist-packages/torch/utils/data/dataloader.py\", line 713, in _shutdown_workers\n",
      "    w.join()\n",
      "  File \"/usr/lib/python3.5/multiprocessing/process.py\", line 119, in join\n",
      "    assert self._parent_pid == os.getpid(), 'can only join a child process'\n",
      "AssertionError: can only join a child process\n",
      "Exception ignored in: <bound method _DataLoaderIter.__del__ of <torch.utils.data.dataloader._DataLoaderIter object at 0x7f278702eb38>>\n",
      "Traceback (most recent call last):\n",
      "Exception ignored in: <bound method _DataLoaderIter.__del__ of <torch.utils.data.dataloader._DataLoaderIter object at 0x7f278702eb38>>\n",
      "  File \"/usr/local/lib/python3.5/dist-packages/torch/utils/data/dataloader.py\", line 717, in __del__\n",
      "Traceback (most recent call last):\n",
      "    self._shutdown_workers()\n",
      "  File \"/usr/local/lib/python3.5/dist-packages/torch/utils/data/dataloader.py\", line 717, in __del__\n",
      "  File \"/usr/local/lib/python3.5/dist-packages/torch/utils/data/dataloader.py\", line 713, in _shutdown_workers\n",
      "    self._shutdown_workers()\n",
      "    w.join()\n",
      "  File \"/usr/local/lib/python3.5/dist-packages/torch/utils/data/dataloader.py\", line 713, in _shutdown_workers\n",
      "  File \"/usr/lib/python3.5/multiprocessing/process.py\", line 119, in join\n",
      "    w.join()\n",
      "    assert self._parent_pid == os.getpid(), 'can only join a child process'\n",
      "  File \"/usr/lib/python3.5/multiprocessing/process.py\", line 119, in join\n",
      "AssertionError: can only join a child process\n",
      "    assert self._parent_pid == os.getpid(), 'can only join a child process'\n",
      "AssertionError: can only join a child process\n",
      "Exception ignored in: <bound method _DataLoaderIter.__del__ of <torch.utils.data.dataloader._DataLoaderIter object at 0x7f278702eb38>>\n",
      "Traceback (most recent call last):\n",
      "  File \"/usr/local/lib/python3.5/dist-packages/torch/utils/data/dataloader.py\", line 717, in __del__\n",
      "    self._shutdown_workers()\n",
      "  File \"/usr/local/lib/python3.5/dist-packages/torch/utils/data/dataloader.py\", line 713, in _shutdown_workers\n",
      "    w.join()\n",
      "  File \"/usr/lib/python3.5/multiprocessing/process.py\", line 119, in join\n",
      "    assert self._parent_pid == os.getpid(), 'can only join a child process'\n",
      "AssertionError: can only join a child process\n"
     ]
    },
    {
     "name": "stdout",
     "output_type": "stream",
     "text": [
      "\\begin{tabular}{lrll}\n",
      "\\toprule\n",
      "{} &       MMC &      AUROC &    FPR@95 \\\\\n",
      "DataSet     &           &            &           \\\\\n",
      "\\midrule\n",
      "orig        &  0.984791 &          - &         - \\\\\n",
      "CIFAR10     &  0.655151 &   0.953954 &    0.2196 \\\\\n",
      "CIFAR100    &  0.618495 &   0.958728 &    0.2051 \\\\\n",
      "LSUN\\_CR     &  0.682799 &   0.945867 &      0.23 \\\\\n",
      "Imagenet-   &  0.632350 &   0.957342 &    0.2084 \\\\\n",
      "Noise       &  0.722466 &   0.963863 &  0.216864 \\\\\n",
      "Adv. Noise  &  0.959212 &    0.24468 &      0.81 \\\\\n",
      "Adv. Sample &  0.995500 &  0.0555667 &     0.995 \\\\\n",
      "\\bottomrule\n",
      "\\end{tabular}\n",
      "\n"
     ]
    }
   ],
   "source": [
    "device = 'cuda:0'\n",
    "model = model.to(device)\n",
    "df = ev.evaluate(model, device, 'SVHN', model_params.loaders)\n",
    "print(df.to_latex())"
   ]
  },
  {
   "cell_type": "code",
   "execution_count": 8,
   "metadata": {},
   "outputs": [
    {
     "name": "stdout",
     "output_type": "stream",
     "text": [
      "0.9691917639827904\n",
      "0.9876502057710307\n"
     ]
    }
   ],
   "source": [
    "print(correct)\n",
    "print(av_conf)"
   ]
  },
  {
   "cell_type": "code",
   "execution_count": 15,
   "metadata": {},
   "outputs": [
    {
     "data": {
      "text/plain": [
       "tensor(6.3971, grad_fn=<SqrtBackward>)"
      ]
     },
     "execution_count": 15,
     "metadata": {},
     "output_type": "execute_result"
    }
   ],
   "source": [
    "model.mm.logvar.exp().mean().sqrt()"
   ]
  },
  {
   "cell_type": "code",
   "execution_count": 34,
   "metadata": {},
   "outputs": [
    {
     "data": {
      "text/plain": [
       "tensor(-4194.6812, grad_fn=<MeanBackward1>)"
      ]
     },
     "execution_count": 34,
     "metadata": {},
     "output_type": "execute_result"
    }
   ],
   "source": [
    "data = enumerate(model_params.loaders[0][1]).__next__()[1][0]\n",
    "torch.logsumexp(gmm(data.view(data.shape[0], -1)), 0).mean()"
   ]
  },
  {
   "cell_type": "code",
   "execution_count": 31,
   "metadata": {},
   "outputs": [
    {
     "data": {
      "text/plain": [
       "[('CIFAR10', <torch.utils.data.dataloader.DataLoader at 0x7f09ecc0aa20>),\n",
       " ('CIFAR100', <torch.utils.data.dataloader.DataLoader at 0x7f09ecc0a080>),\n",
       " ('LSUN_CR', <torch.utils.data.dataloader.DataLoader at 0x7f09f1f530b8>),\n",
       " ('Imagenet-', <torch.utils.data.dataloader.DataLoader at 0x7f0ae23c5d68>),\n",
       " ('Noise', <torch.utils.data.dataloader.DataLoader at 0x7f09f1852d68>)]"
      ]
     },
     "execution_count": 31,
     "metadata": {},
     "output_type": "execute_result"
    }
   ],
   "source": [
    "torch.logsumexp(gmm(data.view(data.shape[0], -1)), 0).mean()"
   ]
  },
  {
   "cell_type": "code",
   "execution_count": 40,
   "metadata": {},
   "outputs": [],
   "source": [
    "model.loglam.data = torch.tensor(-4196.)"
   ]
  },
  {
   "cell_type": "code",
   "execution_count": 39,
   "metadata": {},
   "outputs": [
    {
     "data": {
      "text/plain": [
       "tensor(-4193.0845, grad_fn=<MeanBackward1>)"
      ]
     },
     "execution_count": 39,
     "metadata": {},
     "output_type": "execute_result"
    }
   ],
   "source": [
    "data = enumerate(model_params.train_loader).__next__()[1][0]\n",
    "torch.logsumexp(gmm(data.view(data.shape[0], -1)), 0).mean()"
   ]
  },
  {
   "cell_type": "code",
   "execution_count": 42,
   "metadata": {},
   "outputs": [
    {
     "data": {
      "text/plain": [
       "<module 'model_params' from '/home/alexm/project/notebooks/gmm-robust/model_params.py'>"
      ]
     },
     "execution_count": 42,
     "metadata": {},
     "output_type": "execute_result"
    }
   ],
   "source": [
    "reload(params)"
   ]
  },
  {
   "cell_type": "code",
   "execution_count": 10,
   "metadata": {},
   "outputs": [
    {
     "data": {
      "text/plain": [
       "0.03380000000000005"
      ]
     },
     "execution_count": 10,
     "metadata": {},
     "output_type": "execute_result"
    }
   ],
   "source": [
    "\n",
    "1-0.9662"
   ]
  },
  {
   "cell_type": "code",
   "execution_count": 11,
   "metadata": {},
   "outputs": [
    {
     "data": {
      "text/plain": [
       "8"
      ]
     },
     "execution_count": 11,
     "metadata": {},
     "output_type": "execute_result"
    }
   ],
   "source": [
    "len(df)"
   ]
  },
  {
   "cell_type": "code",
   "execution_count": 18,
   "metadata": {},
   "outputs": [
    {
     "data": {
      "text/plain": [
       "0.6551506519317627"
      ]
     },
     "execution_count": 18,
     "metadata": {},
     "output_type": "execute_result"
    }
   ],
   "source": [
    "df.loc['CIFAR10']"
   ]
  },
  {
   "cell_type": "code",
   "execution_count": 24,
   "metadata": {},
   "outputs": [
    {
     "name": "stdout",
     "output_type": "stream",
     "text": [
      "orig\n",
      "CIFAR10\n",
      "CIFAR100\n",
      "LSUN_CR\n",
      "Imagenet-\n",
      "Noise\n",
      "Adv. Noise\n",
      "Adv. Sample\n"
     ]
    }
   ],
   "source": [
    "for i in df.index:\n",
    "    print(i)"
   ]
  },
  {
   "cell_type": "code",
   "execution_count": 25,
   "metadata": {},
   "outputs": [
    {
     "data": {
      "text/plain": [
       "<module 'utils.eval' from '/home/alexm/project/notebooks/gmm-robust/utils/eval.py'>"
      ]
     },
     "execution_count": 25,
     "metadata": {},
     "output_type": "execute_result"
    }
   ],
   "source": [
    "reload(ev)"
   ]
  },
  {
   "cell_type": "code",
   "execution_count": null,
   "metadata": {},
   "outputs": [],
   "source": [
    "for i in df.index:\n",
    "    print('AUROC/'+i, df.loc[i]['AUROC'], epoch)\n",
    "    writer.add_scalar('MMC/'+i, df.loc[i]['MMC'], epoch)"
   ]
  }
 ],
 "metadata": {
  "kernelspec": {
   "display_name": "Python 3",
   "language": "python",
   "name": "python3"
  },
  "language_info": {
   "codemirror_mode": {
    "name": "ipython",
    "version": 3
   },
   "file_extension": ".py",
   "mimetype": "text/x-python",
   "name": "python",
   "nbconvert_exporter": "python",
   "pygments_lexer": "ipython3",
   "version": "3.5.2"
  }
 },
 "nbformat": 4,
 "nbformat_minor": 2
}
