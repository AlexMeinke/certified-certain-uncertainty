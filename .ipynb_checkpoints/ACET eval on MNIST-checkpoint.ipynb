{
 "cells": [
  {
   "cell_type": "code",
   "execution_count": 1,
   "metadata": {},
   "outputs": [],
   "source": [
    "import torch\n",
    "import torch.nn as nn\n",
    "import torch.nn.functional as F\n",
    "import torch.optim as optim\n",
    "\n",
    "import matplotlib.pyplot as plt\n",
    "import numpy as np\n",
    "import pandas as pd\n",
    "\n",
    "from importlib import reload\n",
    "import matplotlib.pyplot as plt\n",
    "\n",
    "import utils.models as models\n",
    "import utils.plotting as plotting\n",
    "import utils.dataloaders as dl\n",
    "import utils.traintest as tt\n",
    "import utils.adversarial as adv\n",
    "import utils.eval as ev\n",
    "import model_params as params\n",
    "import utils.resnet_orig as resnet\n",
    "import utils.gmm_helpers as gmm_helpers\n",
    "\n",
    "from tensorboardX import SummaryWriter\n",
    "%load_ext line_profiler"
   ]
  },
  {
   "cell_type": "code",
   "execution_count": null,
   "metadata": {},
   "outputs": [],
   "source": [
    "model_params = params.params_dict['MNIST'](augm_flag=True, batch_size=128)\n",
    "base_model = model_params.base_model\n",
    "\n",
    "X = []\n",
    "for i, (x, _) in enumerate(model_params.train_loader):\n",
    "    if i>100:\n",
    "        break;\n",
    "    X.append( x.view(-1, 784) )\n",
    "X = torch.cat(X, 0)\n",
    "metric = models.PCAMetric( X, p=2, min_sv_factor=100)\n",
    "\n",
    "device = torch.device('cuda:2')"
   ]
  },
  {
   "cell_type": "code",
   "execution_count": 19,
   "metadata": {},
   "outputs": [],
   "source": [
    "# base_model = torch.load('SavedModels/base_MNIST_lr0.001_augm_flagTrue_train_typeACET.pth')\n",
    "# gmm = torch.load('SavedModels/GMM/gmm_MNIST_n1000_data_used60000_augm_flagTrue_alg_scikit.pth')\n",
    "# gmm = models.GMM(100, 784, metric=metric)\n",
    "\n",
    "gmm = models.GMM(100, 784)\n",
    "gmm.find_solution(X, initialize=True, iterate=False, use_kmeans=False, verbose=False)"
   ]
  },
  {
   "cell_type": "code",
   "execution_count": 22,
   "metadata": {},
   "outputs": [
    {
     "name": "stdout",
     "output_type": "stream",
     "text": [
      "-1395.3472277832032\n"
     ]
    }
   ],
   "source": [
    "#gmm_helpers.rescale(gmm, 5, model_params.cali_loader)\n",
    "lam = gmm_helpers.find_lam(gmm, 1, model_params.cali_loader)\n",
    "print(lam)"
   ]
  },
  {
   "cell_type": "code",
   "execution_count": 35,
   "metadata": {},
   "outputs": [],
   "source": [
    "#lam = -911.408\n",
    "gmm.alpha = nn.Parameter(gmm.alpha)\n",
    "gmm.mu.requires_grad = True\n",
    "gmm.logvar.requires_grad = True\n",
    "gmm.alpha.requires_grad = (False)\n",
    "\n",
    "model = models.RobustModel(base_model, gmm, lam, dim=model_params.dim).to(device)\n",
    "model.loglam.requires_grad = False"
   ]
  },
  {
   "cell_type": "code",
   "execution_count": 36,
   "metadata": {},
   "outputs": [],
   "source": [
    "lr = 0.001\n",
    "lr_gmm = .001\n",
    "\n",
    "param_groups = [{'params':model.mm.mu,'lr':lr_gmm, 'weight_decay':0.},\n",
    "                {'params':model.mm.logvar,'lr':0.1*lr_gmm, 'weight_decay':0.},\n",
    "                {'params':model.base_model.parameters(),'lr':lr, 'weight_decay':5e-4}]\n",
    "optimizer = optim.SGD(param_groups,  momentum=.9)"
   ]
  },
  {
   "cell_type": "code",
   "execution_count": 24,
   "metadata": {},
   "outputs": [],
   "source": [
    "ran = torch.rand(50, 1, 28, 28, device=device)\n",
    "_, (data, target) = enumerate(model_params.train_loader).__next__()\n",
    "data, target = data.to(device), target.to(device)\n",
    "\n",
    "noise_loader = model_params.loaders[-1][1]\n",
    "_, (noise, _) = enumerate(noise_loader).__next__()\n",
    "noise = noise.to(device)"
   ]
  },
  {
   "cell_type": "code",
   "execution_count": 38,
   "metadata": {
    "scrolled": false
   },
   "outputs": [
    {
     "name": "stdout",
     "output_type": "stream",
     "text": [
      "tensor(1.2981, device='cuda:2', grad_fn=<MeanBackward1>)\n",
      "tensor(0.5006, device='cuda:2', grad_fn=<MeanBackward1>)\n",
      "-10.85886001586914\n",
      "-11.407681465148926\n",
      "-11.218962669372559\n",
      "Train Epoch: 0 [0/60000 (0%)]\tLoss: 4.619010\n",
      "Train Epoch: 0 [25600/60000 (43%)]\tLoss: 1.272465\n",
      "Train Epoch: 0 [51200/60000 (85%)]\tLoss: 0.590617\n",
      "tensor(1.2979, device='cuda:2', grad_fn=<MeanBackward1>)\n",
      "tensor(0.5006, device='cuda:2', grad_fn=<MeanBackward1>)\n",
      "12.595541954040527\n",
      "13.104945182800293\n",
      "13.265920639038086\n",
      "Train Epoch: 1 [0/60000 (0%)]\tLoss: 0.458662\n",
      "Train Epoch: 1 [25600/60000 (43%)]\tLoss: 0.364121\n",
      "Train Epoch: 1 [51200/60000 (85%)]\tLoss: 0.267267\n",
      "tensor(1.2977, device='cuda:2', grad_fn=<MeanBackward1>)\n",
      "tensor(0.5005, device='cuda:2', grad_fn=<MeanBackward1>)\n",
      "25.65390968322754\n",
      "26.580551147460938\n",
      "26.730932235717773\n",
      "Train Epoch: 2 [0/60000 (0%)]\tLoss: 0.176035\n",
      "Train Epoch: 2 [25600/60000 (43%)]\tLoss: 0.178463\n",
      "Train Epoch: 2 [51200/60000 (85%)]\tLoss: 0.173433\n",
      "tensor(1.2974, device='cuda:2', grad_fn=<MeanBackward1>)\n",
      "tensor(0.5005, device='cuda:2', grad_fn=<MeanBackward1>)\n",
      "46.81243133544922\n",
      "48.232303619384766\n",
      "48.373374938964844\n",
      "Train Epoch: 3 [0/60000 (0%)]\tLoss: 0.200110\n",
      "Train Epoch: 3 [25600/60000 (43%)]\tLoss: 0.101070\n",
      "Train Epoch: 3 [51200/60000 (85%)]\tLoss: -0.018634\n",
      "tensor(1.2971, device='cuda:2', grad_fn=<MeanBackward1>)\n",
      "tensor(0.5004, device='cuda:2', grad_fn=<MeanBackward1>)\n",
      "77.85879516601562\n",
      "79.90933990478516\n",
      "80.04161834716797\n",
      "Train Epoch: 4 [0/60000 (0%)]\tLoss: -0.091007\n",
      "Train Epoch: 4 [25600/60000 (43%)]\tLoss: -0.100068\n",
      "Train Epoch: 4 [51200/60000 (85%)]\tLoss: -0.147077\n"
     ]
    }
   ],
   "source": [
    "for epoch in range(5):\n",
    "    if epoch+1 in [50,75,90]:\n",
    "        for group in optimizer.param_groups:\n",
    "            group['lr'] *= .1\n",
    "    print( model.mm.logvar.exp().sqrt().mean() )\n",
    "    print( model.mm.mu.mean() )\n",
    "    print(torch.logsumexp(model.mm(ran.view(ran.shape[0],-1)), 0).mean().item())\n",
    "    print(torch.logsumexp(model.mm(data.view(data.shape[0],-1)), 0).mean().item())\n",
    "    print(torch.logsumexp(model.mm(noise.view(noise.shape[0],-1)), 0).mean().item())\n",
    "    trainloss = tt.train_CEDA_gmm(model, device, model_params.cali_loader, \n",
    "                                  model_params.loaders[-1][1], \n",
    "                                  optimizer, epoch, verbose=200)\n",
    "    print(trainloss)"
   ]
  },
  {
   "cell_type": "code",
   "execution_count": 95,
   "metadata": {},
   "outputs": [
    {
     "name": "stdout",
     "output_type": "stream",
     "text": [
      "tensor(-598.4886, device='cuda:2', grad_fn=<MinBackward1>)\n",
      "tensor(-586.4437, device='cuda:2', grad_fn=<MinBackward1>)\n"
     ]
    }
   ],
   "source": [
    "#model.mm.logvar.data-=.1\n",
    "print(torch.logsumexp(model.mm(ran.view(50,-1)), 0).min())\n",
    "print(torch.logsumexp(model.mm(data.view(128,-1)), 0).min())"
   ]
  },
  {
   "cell_type": "code",
   "execution_count": 9,
   "metadata": {},
   "outputs": [],
   "source": [
    "lam = 0."
   ]
  },
  {
   "cell_type": "code",
   "execution_count": 40,
   "metadata": {},
   "outputs": [
    {
     "ename": "RuntimeError",
     "evalue": "CUDA error: an illegal memory access was encountered",
     "output_type": "error",
     "traceback": [
      "\u001b[0;31m---------------------------------------------------------------------------\u001b[0m",
      "\u001b[0;31mRuntimeError\u001b[0m                              Traceback (most recent call last)",
      "\u001b[0;32m<ipython-input-40-e94b46300389>\u001b[0m in \u001b[0;36m<module>\u001b[0;34m()\u001b[0m\n\u001b[0;32m----> 1\u001b[0;31m \u001b[0mmodel\u001b[0m\u001b[0;34m.\u001b[0m\u001b[0mloglam\u001b[0m\u001b[0;34m.\u001b[0m\u001b[0mdata\u001b[0m \u001b[0;34m=\u001b[0m \u001b[0mtorch\u001b[0m\u001b[0;34m.\u001b[0m\u001b[0mtensor\u001b[0m\u001b[0;34m(\u001b[0m\u001b[0;36m328.896019897461\u001b[0m\u001b[0;34m,\u001b[0m \u001b[0mdevice\u001b[0m\u001b[0;34m=\u001b[0m\u001b[0mdevice\u001b[0m\u001b[0;34m)\u001b[0m\u001b[0;34m\u001b[0m\u001b[0m\n\u001b[0m\u001b[1;32m      2\u001b[0m \u001b[0mprint\u001b[0m\u001b[0;34m(\u001b[0m \u001b[0mmodel\u001b[0m\u001b[0;34m(\u001b[0m\u001b[0mran\u001b[0m\u001b[0;34m)\u001b[0m\u001b[0;34m.\u001b[0m\u001b[0mmax\u001b[0m\u001b[0;34m(\u001b[0m\u001b[0;36m1\u001b[0m\u001b[0;34m)\u001b[0m\u001b[0;34m[\u001b[0m\u001b[0;36m0\u001b[0m\u001b[0;34m]\u001b[0m\u001b[0;34m.\u001b[0m\u001b[0mexp\u001b[0m\u001b[0;34m(\u001b[0m\u001b[0;34m)\u001b[0m \u001b[0;34m)\u001b[0m\u001b[0;34m\u001b[0m\u001b[0m\n",
      "\u001b[0;31mRuntimeError\u001b[0m: CUDA error: an illegal memory access was encountered"
     ]
    }
   ],
   "source": [
    "model.loglam.data = torch.tensor(328.896019897461, device=device)\n",
    "print( model(ran).max(1)[0].exp() )"
   ]
  },
  {
   "cell_type": "code",
   "execution_count": 13,
   "metadata": {},
   "outputs": [
    {
     "name": "stdout",
     "output_type": "stream",
     "text": [
      "0.9582\n",
      "0.943073314666748\n",
      "0.13513391060829164\n",
      "0.9582\n",
      "0.9430732063293457\n",
      "0.1351339080810547\n"
     ]
    }
   ],
   "source": [
    "correct, av_conf, test_loss = tt.test(model.base_model, device, model_params.test_loader)\n",
    "print(correct)\n",
    "print(av_conf)\n",
    "print(test_loss)\n",
    "\n",
    "correct_combined, av_conf_combined, test_loss_combined = tt.test(model, device, model_params.test_loader)\n",
    "print(correct_combined)\n",
    "print(av_conf_combined)\n",
    "print(test_loss_combined)"
   ]
  },
  {
   "cell_type": "code",
   "execution_count": 53,
   "metadata": {},
   "outputs": [],
   "source": [
    "lr = 0.001\n",
    "\n",
    "param_groups = [{'params':model.mm.mu,'lr':lr, 'weight_decay':0.},\n",
    "                {'params':model.mm.logvar,'lr':0.1*lr, 'weight_decay':0.},\n",
    "                {'params':model.base_model.parameters(),'lr':lr, 'weight_decay':5e-4}]\n",
    "optimizer = optim.SGD(param_groups,  momentum=.9)"
   ]
  },
  {
   "cell_type": "code",
   "execution_count": 56,
   "metadata": {},
   "outputs": [
    {
     "name": "stdout",
     "output_type": "stream",
     "text": [
      "tensor(2.0517, device='cuda:2', grad_fn=<NllLossBackward>)\n",
      "tensor(2.0617, device='cuda:2', grad_fn=<SubBackward0>)\n",
      "tensor(0.0006, device='cuda:2')\n",
      "(tensor(3.8104, device='cuda:2'), tensor(32, device='cuda:2'))\n"
     ]
    }
   ],
   "source": [
    "_, (data, target) = enumerate(model_params.train_loader).__next__()\n",
    "noise = enumerate(noise_loader).__next__()[1][0]\n",
    "data, target = data.to(device), target.to(device)\n",
    "\n",
    "noise = noise.to(device)\n",
    "\n",
    "criterion = nn.NLLLoss()\n",
    "optimizer.zero_grad()\n",
    "output = model(data)\n",
    "\n",
    "output_adv = model(noise)\n",
    "print(F.nll_loss(output, target))\n",
    "loss = F.nll_loss(output, target) - output_adv.max(1)[0].sum()/(noise_loader.batch_size)\n",
    "\n",
    "print(loss)\n",
    "loss.backward()\n",
    "optimizer.step()\n",
    "print(model.mm.mu.grad.abs().max())\n",
    "print(model.mm.logvar.grad.abs().max(0))"
   ]
  },
  {
   "cell_type": "code",
   "execution_count": 52,
   "metadata": {},
   "outputs": [
    {
     "data": {
      "text/plain": [
       "tensor(7.2830, device='cuda:2', grad_fn=<MeanBackward1>)"
      ]
     },
     "execution_count": 52,
     "metadata": {},
     "output_type": "execute_result"
    }
   ],
   "source": [
    "gmm.logvar.exp().sqrt().mean()"
   ]
  },
  {
   "cell_type": "code",
   "execution_count": 9,
   "metadata": {},
   "outputs": [
    {
     "data": {
      "text/plain": [
       "<matplotlib.image.AxesImage at 0x7fdb9943bda0>"
      ]
     },
     "execution_count": 9,
     "metadata": {},
     "output_type": "execute_result"
    },
    {
     "data": {
      "image/png": "[encoded data removed]",
      "text/plain": [
       "<Figure size 432x288 with 1 Axes>"
      ]
     },
     "metadata": {},
     "output_type": "display_data"
    }
   ],
   "source": [
    "plt.imshow(gmm.mu[15].view(28,28).detach().cpu(), cmap='gray')"
   ]
  },
  {
   "cell_type": "code",
   "execution_count": 24,
   "metadata": {},
   "outputs": [
    {
     "name": "stdout",
     "output_type": "stream",
     "text": [
      "-127.35750579833984\n",
      "630.4345703125\n",
      "808.810791015625\n"
     ]
    }
   ],
   "source": [
    "print(torch.logsumexp(model.mm(ran.view(50,-1)), 0).mean().item())\n",
    "print(torch.logsumexp(model.mm(data.view(128,-1)), 0).mean().item())\n",
    "print(torch.logsumexp(model.mm(noise.view(noise.shape[0],-1)), 0).mean().item())"
   ]
  },
  {
   "cell_type": "code",
   "execution_count": 23,
   "metadata": {},
   "outputs": [
    {
     "name": "stdout",
     "output_type": "stream",
     "text": [
      "tensor([0.1586, 0.1670, 0.1642, 0.2598, 0.1587, 0.4193, 0.2773, 0.1616, 0.1587,\n",
      "        0.1809, 0.1604, 0.1585, 0.1616, 0.1591, 0.1596, 0.2225, 0.1673, 0.9921,\n",
      "        0.1599, 0.1604, 0.7428, 0.1603, 0.1941, 0.2065, 0.1588, 0.2051, 0.1699,\n",
      "        0.1583, 0.1618, 0.2338, 0.1599, 0.1531, 0.1861, 0.1620, 0.1750, 0.1601,\n",
      "        0.1674, 0.1756, 0.1784, 0.1665, 0.3809, 0.1593, 0.9205, 0.1748, 0.1600,\n",
      "        0.2581, 0.1703, 0.1741, 0.1676, 0.1662, 0.1585, 0.1598, 0.1652, 0.1757,\n",
      "        0.2948, 0.1600, 0.2896, 0.1910, 0.1751, 0.1584, 0.1742, 0.1584, 0.2519,\n",
      "        0.1686, 0.1586, 0.5145, 0.5003, 0.6875, 0.1619, 0.3584, 0.1585, 0.1584,\n",
      "        0.1612, 0.1744, 0.6987, 0.1721, 0.1638, 0.2366, 0.1603, 0.1595, 0.3666,\n",
      "        0.1667, 0.1972, 0.1626, 0.1818, 0.2467, 0.1606, 0.1596, 0.1591, 0.1669,\n",
      "        0.1700, 0.1631, 0.2257, 0.2074, 0.1715, 0.1597, 0.1585, 0.1626, 0.1586,\n",
      "        0.3179, 0.8841, 0.1807, 0.2252, 0.1649, 0.4515, 0.1614, 0.1670, 0.1807,\n",
      "        0.1745, 0.1593, 0.1785, 0.1578, 0.8128, 0.1586, 0.1854, 0.1585, 0.1695,\n",
      "        0.2392, 0.6754, 0.1631, 0.6110, 0.1967, 0.1600, 0.1584, 0.3572, 0.3983,\n",
      "        0.8328, 0.7257], device='cuda:2', grad_fn=<ExpBackward>)\n"
     ]
    }
   ],
   "source": [
    "print(model(noise).max(1)[0].exp())"
   ]
  },
  {
   "cell_type": "code",
   "execution_count": 17,
   "metadata": {},
   "outputs": [],
   "source": []
  },
  {
   "cell_type": "code",
   "execution_count": 31,
   "metadata": {},
   "outputs": [
    {
     "data": {
      "text/plain": [
       "<matplotlib.image.AxesImage at 0x7f87e48c7b38>"
      ]
     },
     "execution_count": 31,
     "metadata": {},
     "output_type": "execute_result"
    },
    {
     "data": {
      "image/png": "[encoded data removed]",
      "text/plain": [
       "<Figure size 432x288 with 1 Axes>"
      ]
     },
     "metadata": {},
     "output_type": "display_data"
    }
   ],
   "source": [
    "plt.imshow(metric.comp_vecs[-1].view(28, 28), cmap='gray')"
   ]
  },
  {
   "cell_type": "code",
   "execution_count": 41,
   "metadata": {},
   "outputs": [
    {
     "data": {
      "text/plain": [
       "<matplotlib.image.AxesImage at 0x7f87e54514a8>"
      ]
     },
     "execution_count": 41,
     "metadata": {},
     "output_type": "execute_result"
    },
    {
     "data": {
      "image/png": "[encoded data removed]",
      "text/plain": [
       "<Figure size 432x288 with 1 Axes>"
      ]
     },
     "metadata": {},
     "output_type": "display_data"
    }
   ],
   "source": [
    "plt.imshow(noise[0][0].detach().cpu())"
   ]
  },
  {
   "cell_type": "code",
   "execution_count": 65,
   "metadata": {},
   "outputs": [
    {
     "ename": "RuntimeError",
     "evalue": "Expected tensor to have CPU Backend, but got tensor with CUDA Backend (while checking arguments for bmm)",
     "output_type": "error",
     "traceback": [
      "\u001b[0;31m---------------------------------------------------------------------------\u001b[0m",
      "\u001b[0;31mRuntimeError\u001b[0m                              Traceback (most recent call last)",
      "\u001b[0;32m<ipython-input-65-e33e9b865654>\u001b[0m in \u001b[0;36m<module>\u001b[0;34m()\u001b[0m\n\u001b[0;32m----> 1\u001b[0;31m \u001b[0mM1\u001b[0m \u001b[0;34m=\u001b[0m \u001b[0mmetric\u001b[0m\u001b[0;34m(\u001b[0m\u001b[0mnoise\u001b[0m\u001b[0;34m.\u001b[0m\u001b[0mview\u001b[0m\u001b[0;34m(\u001b[0m\u001b[0mnoise\u001b[0m\u001b[0;34m.\u001b[0m\u001b[0mcpu\u001b[0m\u001b[0;34m(\u001b[0m\u001b[0;34m)\u001b[0m\u001b[0;34m.\u001b[0m\u001b[0mshape\u001b[0m\u001b[0;34m[\u001b[0m\u001b[0;36m0\u001b[0m\u001b[0;34m]\u001b[0m\u001b[0;34m,\u001b[0m \u001b[0;34m-\u001b[0m\u001b[0;36m1\u001b[0m\u001b[0;34m)\u001b[0m\u001b[0;34m[\u001b[0m\u001b[0;32mNone\u001b[0m\u001b[0;34m,\u001b[0m\u001b[0;34m:\u001b[0m\u001b[0;34m,\u001b[0m\u001b[0;34m:\u001b[0m\u001b[0;34m]\u001b[0m\u001b[0;34m,\u001b[0m \u001b[0mgmm\u001b[0m\u001b[0;34m.\u001b[0m\u001b[0mmu\u001b[0m\u001b[0;34m[\u001b[0m\u001b[0;34m:\u001b[0m\u001b[0;34m,\u001b[0m\u001b[0;32mNone\u001b[0m\u001b[0;34m,\u001b[0m\u001b[0;34m:\u001b[0m\u001b[0;34m]\u001b[0m\u001b[0;34m)\u001b[0m\u001b[0;34m.\u001b[0m\u001b[0mcpu\u001b[0m\u001b[0;34m(\u001b[0m\u001b[0;34m)\u001b[0m\u001b[0;34m\u001b[0m\u001b[0m\n\u001b[0m",
      "\u001b[0;32m/usr/local/lib/python3.5/dist-packages/torch/nn/modules/module.py\u001b[0m in \u001b[0;36m__call__\u001b[0;34m(self, *input, **kwargs)\u001b[0m\n\u001b[1;32m    487\u001b[0m             \u001b[0mresult\u001b[0m \u001b[0;34m=\u001b[0m \u001b[0mself\u001b[0m\u001b[0;34m.\u001b[0m\u001b[0m_slow_forward\u001b[0m\u001b[0;34m(\u001b[0m\u001b[0;34m*\u001b[0m\u001b[0minput\u001b[0m\u001b[0;34m,\u001b[0m \u001b[0;34m**\u001b[0m\u001b[0mkwargs\u001b[0m\u001b[0;34m)\u001b[0m\u001b[0;34m\u001b[0m\u001b[0m\n\u001b[1;32m    488\u001b[0m         \u001b[0;32melse\u001b[0m\u001b[0;34m:\u001b[0m\u001b[0;34m\u001b[0m\u001b[0m\n\u001b[0;32m--> 489\u001b[0;31m             \u001b[0mresult\u001b[0m \u001b[0;34m=\u001b[0m \u001b[0mself\u001b[0m\u001b[0;34m.\u001b[0m\u001b[0mforward\u001b[0m\u001b[0;34m(\u001b[0m\u001b[0;34m*\u001b[0m\u001b[0minput\u001b[0m\u001b[0;34m,\u001b[0m \u001b[0;34m**\u001b[0m\u001b[0mkwargs\u001b[0m\u001b[0;34m)\u001b[0m\u001b[0;34m\u001b[0m\u001b[0m\n\u001b[0m\u001b[1;32m    490\u001b[0m         \u001b[0;32mfor\u001b[0m \u001b[0mhook\u001b[0m \u001b[0;32min\u001b[0m \u001b[0mself\u001b[0m\u001b[0;34m.\u001b[0m\u001b[0m_forward_hooks\u001b[0m\u001b[0;34m.\u001b[0m\u001b[0mvalues\u001b[0m\u001b[0;34m(\u001b[0m\u001b[0;34m)\u001b[0m\u001b[0;34m:\u001b[0m\u001b[0;34m\u001b[0m\u001b[0m\n\u001b[1;32m    491\u001b[0m             \u001b[0mhook_result\u001b[0m \u001b[0;34m=\u001b[0m \u001b[0mhook\u001b[0m\u001b[0;34m(\u001b[0m\u001b[0mself\u001b[0m\u001b[0;34m,\u001b[0m \u001b[0minput\u001b[0m\u001b[0;34m,\u001b[0m \u001b[0mresult\u001b[0m\u001b[0;34m)\u001b[0m\u001b[0;34m\u001b[0m\u001b[0m\n",
      "\u001b[0;32m~/project/notebooks/gmm-robust/utils/models.py\u001b[0m in \u001b[0;36mforward\u001b[0;34m(self, x, y, dim)\u001b[0m\n\u001b[1;32m     35\u001b[0m \u001b[0;34m\u001b[0m\u001b[0m\n\u001b[1;32m     36\u001b[0m     \u001b[0;32mdef\u001b[0m \u001b[0mforward\u001b[0m\u001b[0;34m(\u001b[0m\u001b[0mself\u001b[0m\u001b[0;34m,\u001b[0m \u001b[0mx\u001b[0m\u001b[0;34m,\u001b[0m \u001b[0my\u001b[0m\u001b[0;34m,\u001b[0m \u001b[0mdim\u001b[0m\u001b[0;34m=\u001b[0m\u001b[0;32mNone\u001b[0m\u001b[0;34m)\u001b[0m\u001b[0;34m:\u001b[0m\u001b[0;34m\u001b[0m\u001b[0m\n\u001b[0;32m---> 37\u001b[0;31m         \u001b[0mrotated_dist\u001b[0m \u001b[0;34m=\u001b[0m \u001b[0mtorch\u001b[0m\u001b[0;34m.\u001b[0m\u001b[0meinsum\u001b[0m\u001b[0;34m(\u001b[0m\u001b[0;34m\"ijk,lk->ijl\"\u001b[0m\u001b[0;34m,\u001b[0m \u001b[0;34m(\u001b[0m\u001b[0mx\u001b[0m\u001b[0;34m-\u001b[0m\u001b[0my\u001b[0m\u001b[0;34m,\u001b[0m \u001b[0mself\u001b[0m\u001b[0;34m.\u001b[0m\u001b[0mcomp_vecs\u001b[0m\u001b[0;34m)\u001b[0m\u001b[0;34m)\u001b[0m\u001b[0;34m\u001b[0m\u001b[0m\n\u001b[0m\u001b[1;32m     38\u001b[0m         \u001b[0mrescaled_dist\u001b[0m \u001b[0;34m=\u001b[0m \u001b[0mrotated_dist\u001b[0m \u001b[0;34m/\u001b[0m \u001b[0mself\u001b[0m\u001b[0;34m.\u001b[0m\u001b[0msingular_values\u001b[0m\u001b[0;34m[\u001b[0m\u001b[0;32mNone\u001b[0m\u001b[0;34m,\u001b[0m\u001b[0;32mNone\u001b[0m\u001b[0;34m,\u001b[0m\u001b[0;34m:\u001b[0m\u001b[0;34m]\u001b[0m\u001b[0;34m\u001b[0m\u001b[0m\n\u001b[1;32m     39\u001b[0m         \u001b[0;32mreturn\u001b[0m \u001b[0mrescaled_dist\u001b[0m\u001b[0;34m.\u001b[0m\u001b[0mnorm\u001b[0m\u001b[0;34m(\u001b[0m\u001b[0mdim\u001b[0m\u001b[0;34m=\u001b[0m\u001b[0;36m2\u001b[0m\u001b[0;34m,\u001b[0m \u001b[0mp\u001b[0m\u001b[0;34m=\u001b[0m\u001b[0mself\u001b[0m\u001b[0;34m.\u001b[0m\u001b[0mp\u001b[0m\u001b[0;34m)\u001b[0m\u001b[0;34m\u001b[0m\u001b[0m\n",
      "\u001b[0;32m/usr/local/lib/python3.5/dist-packages/torch/functional.py\u001b[0m in \u001b[0;36meinsum\u001b[0;34m(equation, *operands)\u001b[0m\n\u001b[1;32m    240\u001b[0m         \u001b[0;31m# the old interface of passing the operands as one list argument\u001b[0m\u001b[0;34m\u001b[0m\u001b[0;34m\u001b[0m\u001b[0m\n\u001b[1;32m    241\u001b[0m         \u001b[0moperands\u001b[0m \u001b[0;34m=\u001b[0m \u001b[0moperands\u001b[0m\u001b[0;34m[\u001b[0m\u001b[0;36m0\u001b[0m\u001b[0;34m]\u001b[0m\u001b[0;34m\u001b[0m\u001b[0m\n\u001b[0;32m--> 242\u001b[0;31m     \u001b[0;32mreturn\u001b[0m \u001b[0mtorch\u001b[0m\u001b[0;34m.\u001b[0m\u001b[0m_C\u001b[0m\u001b[0;34m.\u001b[0m\u001b[0m_VariableFunctions\u001b[0m\u001b[0;34m.\u001b[0m\u001b[0meinsum\u001b[0m\u001b[0;34m(\u001b[0m\u001b[0mequation\u001b[0m\u001b[0;34m,\u001b[0m \u001b[0moperands\u001b[0m\u001b[0;34m)\u001b[0m\u001b[0;34m\u001b[0m\u001b[0m\n\u001b[0m\u001b[1;32m    243\u001b[0m \u001b[0;34m\u001b[0m\u001b[0m\n\u001b[1;32m    244\u001b[0m \u001b[0;34m\u001b[0m\u001b[0m\n",
      "\u001b[0;31mRuntimeError\u001b[0m: Expected tensor to have CPU Backend, but got tensor with CUDA Backend (while checking arguments for bmm)"
     ]
    }
   ],
   "source": [
    "M1 = metric(noise.view(noise.cpu().shape[0], -1)[None,:,:], gmm.mu[:,None,:]).cpu()"
   ]
  },
  {
   "cell_type": "code",
   "execution_count": 69,
   "metadata": {},
   "outputs": [],
   "source": [
    "M2 = metric(gmm.mu[None,:,:], gmm.mu[:,None,:]).cpu()"
   ]
  },
  {
   "cell_type": "code",
   "execution_count": 52,
   "metadata": {},
   "outputs": [
    {
     "data": {
      "text/plain": [
       "tensor(2.8616, grad_fn=<MeanBackward1>)"
      ]
     },
     "execution_count": 52,
     "metadata": {},
     "output_type": "execute_result"
    }
   ],
   "source": [
    "M1.mean()"
   ]
  },
  {
   "cell_type": "code",
   "execution_count": 51,
   "metadata": {},
   "outputs": [
    {
     "data": {
      "text/plain": [
       "tensor(2.8629, grad_fn=<MeanBackward1>)"
      ]
     },
     "execution_count": 51,
     "metadata": {},
     "output_type": "execute_result"
    }
   ],
   "source": [
    "M2.mean()"
   ]
  },
  {
   "cell_type": "code",
   "execution_count": 14,
   "metadata": {},
   "outputs": [
    {
     "data": {
      "text/plain": [
       "<matplotlib.image.AxesImage at 0x7ff001b3b588>"
      ]
     },
     "execution_count": 14,
     "metadata": {},
     "output_type": "execute_result"
    },
    {
     "data": {
      "image/png": "[encoded data removed]",
      "text/plain": [
       "<Figure size 432x288 with 1 Axes>"
      ]
     },
     "metadata": {},
     "output_type": "display_data"
    }
   ],
   "source": [
    "plt.imshow(gmm.mu[70].view(28,28).detach().cpu())"
   ]
  },
  {
   "cell_type": "code",
   "execution_count": 64,
   "metadata": {},
   "outputs": [],
   "source": [
    "noise = noise.cpu()"
   ]
  },
  {
   "cell_type": "code",
   "execution_count": 68,
   "metadata": {},
   "outputs": [
    {
     "data": {
      "text/plain": [
       "GMM(\n",
       "  (metric): PCAMetric()\n",
       ")"
      ]
     },
     "execution_count": 68,
     "metadata": {},
     "output_type": "execute_result"
    }
   ],
   "source": [
    "gmm.cpu()"
   ]
  },
  {
   "cell_type": "code",
   "execution_count": 4,
   "metadata": {},
   "outputs": [
    {
     "data": {
      "text/plain": [
       "Parameter containing:\n",
       "tensor([[0., 0., 0.,  ..., 0., 0., 0.],\n",
       "        [0., 0., 0.,  ..., 0., 0., 0.],\n",
       "        [0., 0., 0.,  ..., 0., 0., 0.],\n",
       "        ...,\n",
       "        [0., 0., 0.,  ..., 0., 0., 0.],\n",
       "        [0., 0., 0.,  ..., 0., 0., 0.],\n",
       "        [0., 0., 0.,  ..., 0., 0., 0.]], requires_grad=True)"
      ]
     },
     "execution_count": 4,
     "metadata": {},
     "output_type": "execute_result"
    }
   ],
   "source": [
    "gmm.mu"
   ]
  },
  {
   "cell_type": "code",
   "execution_count": 4,
   "metadata": {},
   "outputs": [
    {
     "data": {
      "text/plain": [
       "tensor(43.0933, grad_fn=<SumBackward0>)"
      ]
     },
     "execution_count": 4,
     "metadata": {},
     "output_type": "execute_result"
    }
   ],
   "source": [
    "gmm.alpha.exp().sum()"
   ]
  },
  {
   "cell_type": "code",
   "execution_count": 9,
   "metadata": {},
   "outputs": [
    {
     "data": {
      "text/plain": [
       "tensor([2.0785, 2.0440, 2.0025, 1.9572, 2.0281, 2.0691, 2.0496, 1.9689, 2.0530,\n",
       "        2.0420, 2.0795, 2.0101, 2.0069, 1.9785, 2.0321, 2.0007, 2.0918, 2.0060,\n",
       "        2.0315, 2.0461, 1.9509, 2.0496, 1.9892, 1.9814, 2.0655, 2.0771, 2.0885,\n",
       "        2.0463, 1.9924, 2.0319, 2.0993, 2.0508, 2.0629, 2.0652, 2.0793, 2.0263,\n",
       "        1.9125, 2.0305, 2.0173, 2.0108, 1.9828, 2.0220, 1.9754, 2.0155, 2.0315,\n",
       "        2.0185, 2.0650, 2.0160, 2.0573, 2.0774, 2.0852, 2.0280, 1.9967, 2.0490,\n",
       "        2.0164, 2.0321, 2.0400, 2.0641, 2.0504, 2.0234, 2.0636, 2.0685, 2.0537,\n",
       "        2.0835, 1.9046, 2.0868, 2.0282, 2.0432, 1.9217, 2.0156, 2.0457, 2.0237,\n",
       "        2.0208, 2.0258, 2.0686, 2.0349, 1.9001, 2.0344, 1.9536, 2.0200, 2.0569,\n",
       "        2.0252, 2.0047, 2.0528, 2.0707, 2.0649, 2.0301, 2.0016, 1.9776, 1.9866,\n",
       "        2.0604, 2.0084, 2.0477, 1.9834, 2.0618, 1.9882, 2.0256, 2.0641, 2.0190,\n",
       "        1.9109], grad_fn=<SqrtBackward>)"
      ]
     },
     "execution_count": 9,
     "metadata": {},
     "output_type": "execute_result"
    }
   ],
   "source": [
    "gmm.logvar.sqrt()"
   ]
  },
  {
   "cell_type": "code",
   "execution_count": 31,
   "metadata": {},
   "outputs": [
    {
     "ename": "RuntimeError",
     "evalue": "expected type torch.cuda.FloatTensor but got torch.FloatTensor",
     "output_type": "error",
     "traceback": [
      "\u001b[0;31m---------------------------------------------------------------------------\u001b[0m",
      "\u001b[0;31mRuntimeError\u001b[0m                              Traceback (most recent call last)",
      "\u001b[0;32m<ipython-input-31-fc92a4fe130f>\u001b[0m in \u001b[0;36m<module>\u001b[0;34m()\u001b[0m\n\u001b[0;32m----> 1\u001b[0;31m \u001b[0mM1\u001b[0m \u001b[0;34m=\u001b[0m \u001b[0mmetric\u001b[0m\u001b[0;34m(\u001b[0m\u001b[0mnoise\u001b[0m\u001b[0;34m.\u001b[0m\u001b[0mview\u001b[0m\u001b[0;34m(\u001b[0m\u001b[0mnoise\u001b[0m\u001b[0;34m.\u001b[0m\u001b[0mcpu\u001b[0m\u001b[0;34m(\u001b[0m\u001b[0;34m)\u001b[0m\u001b[0;34m.\u001b[0m\u001b[0mshape\u001b[0m\u001b[0;34m[\u001b[0m\u001b[0;36m0\u001b[0m\u001b[0;34m]\u001b[0m\u001b[0;34m,\u001b[0m \u001b[0;34m-\u001b[0m\u001b[0;36m1\u001b[0m\u001b[0;34m)\u001b[0m\u001b[0;34m[\u001b[0m\u001b[0;32mNone\u001b[0m\u001b[0;34m,\u001b[0m\u001b[0;34m:\u001b[0m\u001b[0;34m,\u001b[0m\u001b[0;34m:\u001b[0m\u001b[0;34m]\u001b[0m\u001b[0;34m,\u001b[0m \u001b[0mgmm\u001b[0m\u001b[0;34m.\u001b[0m\u001b[0mmu\u001b[0m\u001b[0;34m[\u001b[0m\u001b[0;34m:\u001b[0m\u001b[0;34m,\u001b[0m\u001b[0;32mNone\u001b[0m\u001b[0;34m,\u001b[0m\u001b[0;34m:\u001b[0m\u001b[0;34m]\u001b[0m\u001b[0;34m.\u001b[0m\u001b[0mcpu\u001b[0m\u001b[0;34m(\u001b[0m\u001b[0;34m)\u001b[0m\u001b[0;34m)\u001b[0m\u001b[0;34m.\u001b[0m\u001b[0mcpu\u001b[0m\u001b[0;34m(\u001b[0m\u001b[0;34m)\u001b[0m\u001b[0;34m\u001b[0m\u001b[0m\n\u001b[0m",
      "\u001b[0;32m/usr/local/lib/python3.5/dist-packages/torch/nn/modules/module.py\u001b[0m in \u001b[0;36m__call__\u001b[0;34m(self, *input, **kwargs)\u001b[0m\n\u001b[1;32m    487\u001b[0m             \u001b[0mresult\u001b[0m \u001b[0;34m=\u001b[0m \u001b[0mself\u001b[0m\u001b[0;34m.\u001b[0m\u001b[0m_slow_forward\u001b[0m\u001b[0;34m(\u001b[0m\u001b[0;34m*\u001b[0m\u001b[0minput\u001b[0m\u001b[0;34m,\u001b[0m \u001b[0;34m**\u001b[0m\u001b[0mkwargs\u001b[0m\u001b[0;34m)\u001b[0m\u001b[0;34m\u001b[0m\u001b[0m\n\u001b[1;32m    488\u001b[0m         \u001b[0;32melse\u001b[0m\u001b[0;34m:\u001b[0m\u001b[0;34m\u001b[0m\u001b[0m\n\u001b[0;32m--> 489\u001b[0;31m             \u001b[0mresult\u001b[0m \u001b[0;34m=\u001b[0m \u001b[0mself\u001b[0m\u001b[0;34m.\u001b[0m\u001b[0mforward\u001b[0m\u001b[0;34m(\u001b[0m\u001b[0;34m*\u001b[0m\u001b[0minput\u001b[0m\u001b[0;34m,\u001b[0m \u001b[0;34m**\u001b[0m\u001b[0mkwargs\u001b[0m\u001b[0;34m)\u001b[0m\u001b[0;34m\u001b[0m\u001b[0m\n\u001b[0m\u001b[1;32m    490\u001b[0m         \u001b[0;32mfor\u001b[0m \u001b[0mhook\u001b[0m \u001b[0;32min\u001b[0m \u001b[0mself\u001b[0m\u001b[0;34m.\u001b[0m\u001b[0m_forward_hooks\u001b[0m\u001b[0;34m.\u001b[0m\u001b[0mvalues\u001b[0m\u001b[0;34m(\u001b[0m\u001b[0;34m)\u001b[0m\u001b[0;34m:\u001b[0m\u001b[0;34m\u001b[0m\u001b[0m\n\u001b[1;32m    491\u001b[0m             \u001b[0mhook_result\u001b[0m \u001b[0;34m=\u001b[0m \u001b[0mhook\u001b[0m\u001b[0;34m(\u001b[0m\u001b[0mself\u001b[0m\u001b[0;34m,\u001b[0m \u001b[0minput\u001b[0m\u001b[0;34m,\u001b[0m \u001b[0mresult\u001b[0m\u001b[0;34m)\u001b[0m\u001b[0;34m\u001b[0m\u001b[0m\n",
      "\u001b[0;32m~/project/notebooks/gmm-robust/utils/models.py\u001b[0m in \u001b[0;36mforward\u001b[0;34m(self, x, y, dim)\u001b[0m\n\u001b[1;32m     35\u001b[0m         \u001b[0mself\u001b[0m\u001b[0;34m.\u001b[0m\u001b[0msingular_values\u001b[0m\u001b[0;34m[\u001b[0m\u001b[0mself\u001b[0m\u001b[0;34m.\u001b[0m\u001b[0msingular_values\u001b[0m\u001b[0;34m<\u001b[0m\u001b[0mself\u001b[0m\u001b[0;34m.\u001b[0m\u001b[0mmin_sv\u001b[0m\u001b[0;34m]\u001b[0m \u001b[0;34m=\u001b[0m \u001b[0mself\u001b[0m\u001b[0;34m.\u001b[0m\u001b[0mmin_sv\u001b[0m\u001b[0;34m\u001b[0m\u001b[0m\n\u001b[1;32m     36\u001b[0m         \u001b[0mself\u001b[0m\u001b[0;34m.\u001b[0m\u001b[0msingular_values\u001b[0m \u001b[0;34m=\u001b[0m \u001b[0mnn\u001b[0m\u001b[0;34m.\u001b[0m\u001b[0mParameter\u001b[0m\u001b[0;34m(\u001b[0m\u001b[0mself\u001b[0m\u001b[0;34m.\u001b[0m\u001b[0msingular_values\u001b[0m\u001b[0;34m,\u001b[0m \u001b[0mrequires_grad\u001b[0m\u001b[0;34m=\u001b[0m\u001b[0;32mFalse\u001b[0m\u001b[0;34m)\u001b[0m\u001b[0;34m\u001b[0m\u001b[0m\n\u001b[0;32m---> 37\u001b[0;31m \u001b[0;34m\u001b[0m\u001b[0m\n\u001b[0m\u001b[1;32m     38\u001b[0m     \u001b[0;32mdef\u001b[0m \u001b[0mforward\u001b[0m\u001b[0;34m(\u001b[0m\u001b[0mself\u001b[0m\u001b[0;34m,\u001b[0m \u001b[0mx\u001b[0m\u001b[0;34m,\u001b[0m \u001b[0my\u001b[0m\u001b[0;34m,\u001b[0m \u001b[0mdim\u001b[0m\u001b[0;34m=\u001b[0m\u001b[0;32mNone\u001b[0m\u001b[0;34m)\u001b[0m\u001b[0;34m:\u001b[0m\u001b[0;34m\u001b[0m\u001b[0m\n\u001b[1;32m     39\u001b[0m         \u001b[0mrotated_dist\u001b[0m \u001b[0;34m=\u001b[0m \u001b[0mtorch\u001b[0m\u001b[0;34m.\u001b[0m\u001b[0meinsum\u001b[0m\u001b[0;34m(\u001b[0m\u001b[0;34m\"ijk,lk->ijl\"\u001b[0m\u001b[0;34m,\u001b[0m \u001b[0;34m(\u001b[0m\u001b[0mx\u001b[0m\u001b[0;34m-\u001b[0m\u001b[0my\u001b[0m\u001b[0;34m,\u001b[0m \u001b[0mself\u001b[0m\u001b[0;34m.\u001b[0m\u001b[0mcomp_vecs\u001b[0m\u001b[0;34m)\u001b[0m\u001b[0;34m)\u001b[0m\u001b[0;34m\u001b[0m\u001b[0m\n",
      "\u001b[0;31mRuntimeError\u001b[0m: expected type torch.cuda.FloatTensor but got torch.FloatTensor"
     ]
    }
   ],
   "source": [
    "M1 = metric(noise.view(noise.cpu().shape[0], -1)[None,:,:].cpu(), gmm.mu[:,None,:].cpu()).cpu()"
   ]
  },
  {
   "cell_type": "code",
   "execution_count": 33,
   "metadata": {},
   "outputs": [
    {
     "data": {
      "text/plain": [
       "Parameter containing:\n",
       "tensor([[-2.0752e-10,  4.4703e-08, -2.9802e-07,  ..., -0.0000e+00,\n",
       "         -0.0000e+00, -0.0000e+00],\n",
       "        [ 1.8159e-10, -1.4901e-08,  5.9605e-08,  ..., -0.0000e+00,\n",
       "         -0.0000e+00, -0.0000e+00],\n",
       "        [ 2.6592e-10, -1.0431e-07,  8.9407e-08,  ..., -0.0000e+00,\n",
       "         -0.0000e+00, -0.0000e+00],\n",
       "        ...,\n",
       "        [ 0.0000e+00,  0.0000e+00,  0.0000e+00,  ...,  0.0000e+00,\n",
       "          0.0000e+00,  1.0000e+00],\n",
       "        [ 9.9995e-01, -3.3424e-03, -4.5487e-03,  ...,  0.0000e+00,\n",
       "          0.0000e+00,  0.0000e+00],\n",
       "        [ 0.0000e+00, -5.0213e-01, -5.9950e-02,  ...,  0.0000e+00,\n",
       "          0.0000e+00,  0.0000e+00]])"
      ]
     },
     "execution_count": 33,
     "metadata": {},
     "output_type": "execute_result"
    }
   ],
   "source": [
    "metric.comp_vecs"
   ]
  },
  {
   "cell_type": "code",
   "execution_count": null,
   "metadata": {},
   "outputs": [],
   "source": []
  }
 ],
 "metadata": {
  "kernelspec": {
   "display_name": "Python 3",
   "language": "python",
   "name": "python3"
  },
  "language_info": {
   "codemirror_mode": {
    "name": "ipython",
    "version": 3
   },
   "file_extension": ".py",
   "mimetype": "text/x-python",
   "name": "python",
   "nbconvert_exporter": "python",
   "pygments_lexer": "ipython3",
   "version": "3.5.2"
  }
 },
 "nbformat": 4,
 "nbformat_minor": 2
}
