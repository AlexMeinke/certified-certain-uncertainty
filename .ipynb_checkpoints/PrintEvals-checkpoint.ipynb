{
 "cells": [
  {
   "cell_type": "code",
   "execution_count": 1,
   "metadata": {},
   "outputs": [],
   "source": [
    "import torch\n",
    "import torch.nn as nn\n",
    "import torch.nn.functional as F\n",
    "import torch.optim as optim\n",
    "\n",
    "import matplotlib.pyplot as plt\n",
    "import numpy as np\n",
    "import pandas as pd\n",
    "\n",
    "from importlib import reload\n",
    "import matplotlib.pyplot as plt\n",
    "\n",
    "import utils.models as models\n",
    "import utils.plotting as plotting\n",
    "import utils.dataloaders as dl\n",
    "import utils.traintest as tt\n",
    "import utils.adversarial as adv\n",
    "import utils.eval as ev\n",
    "import model_params as params\n",
    "import utils.resnet_orig as resnet\n",
    "import utils.gmm_helpers as gmm_helpers\n",
    "\n",
    "from tensorboardX import SummaryWriter\n",
    "%load_ext line_profiler"
   ]
  },
  {
   "cell_type": "code",
   "execution_count": null,
   "metadata": {},
   "outputs": [],
   "source": [
    "device = torch.device('cuda:1')\n",
    "dataset = 'MNIST'\n",
    "\n",
    "model_params = params.params_dict[dataset](augm_flag=True, batch_size=128)\n",
    "\n",
    "file = ''\n",
    "model_joint = torch.load('SavedModels/' + file)\n",
    "\n",
    "print(tt.test(model_joint, device, model_params.test_loader))\n",
    "df_joint = ev.evaluate(model_joint, device, dataset, model_params.loaders)\n",
    "print(df_joint.to_latex())\n",
    "\n",
    "\n",
    "file = ''\n",
    "base_model = torch.load('SavedModels/base' + file)\n",
    "\n",
    "file = ''\n",
    "gmm = torch.load('SavedModels/GMM' + file)\n",
    "\n",
    "lam = model_joint.loglam\n",
    "model = models.RobustModel(base_model, gmm, lam, dim=model_params.dim).to(device)\n",
    "\n",
    "print(tt.test(model, device, model_params.test_loader))\n",
    "df = ev.evaluate(model, device, dataset, model_params.loaders)\n",
    "print(df.to_latex())"
   ]
  }
 ],
 "metadata": {
  "kernelspec": {
   "display_name": "Python 3",
   "language": "python",
   "name": "python3"
  },
  "language_info": {
   "codemirror_mode": {
    "name": "ipython",
    "version": 3
   },
   "file_extension": ".py",
   "mimetype": "text/x-python",
   "name": "python",
   "nbconvert_exporter": "python",
   "pygments_lexer": "ipython3",
   "version": "3.5.2"
  }
 },
 "nbformat": 4,
 "nbformat_minor": 2
}
