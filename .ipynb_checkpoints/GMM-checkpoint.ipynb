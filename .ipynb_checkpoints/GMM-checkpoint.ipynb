{
 "cells": [
  {
   "cell_type": "code",
   "execution_count": 1,
   "metadata": {},
   "outputs": [],
   "source": [
    "import torch\n",
    "import torch.optim as optim\n",
    "\n",
    "\n",
    "from importlib import reload\n",
    "\n",
    "import models\n",
    "import plotting\n",
    "import dataloaders as dl\n",
    "import traintest as tt"
   ]
  },
  {
   "cell_type": "code",
   "execution_count": 2,
   "metadata": {},
   "outputs": [],
   "source": [
    "if torch.cuda.is_available():\n",
    "    device = torch.device('cuda')\n",
    "else:\n",
    "    device = torch.device('cpu')"
   ]
  },
  {
   "cell_type": "code",
   "execution_count": 3,
   "metadata": {},
   "outputs": [],
   "source": [
    "preproc = dl.X_MNIST.view(3000,28,28).mean(dim=0)\n",
    "preproc_std = torch.ones(28,28)\n",
    "temp = dl.X_MNIST.view(3000,28,28).std(dim=0)\n",
    "preproc_std[temp>.1] = temp[temp>.1]\n",
    "base_model = models.LeNet(preproc=(preproc,preproc_std)).to(device)"
   ]
  },
  {
   "cell_type": "code",
   "execution_count": 4,
   "metadata": {},
   "outputs": [
    {
     "name": "stdout",
     "output_type": "stream",
     "text": [
      "Train Epoch: 0 [0/60000 (0%)]\tLoss: 2.307579\n",
      "Train Epoch: 0 [10000/60000 (17%)]\tLoss: 0.302651\n",
      "Train Epoch: 0 [20000/60000 (33%)]\tLoss: 0.110220\n",
      "Train Epoch: 0 [30000/60000 (50%)]\tLoss: 0.147019\n",
      "Train Epoch: 0 [40000/60000 (67%)]\tLoss: 0.113233\n",
      "Train Epoch: 0 [50000/60000 (83%)]\tLoss: 0.110837\n",
      "Train Epoch: 1 [0/60000 (0%)]\tLoss: 0.073952\n",
      "Train Epoch: 1 [10000/60000 (17%)]\tLoss: 0.055857\n",
      "Train Epoch: 1 [20000/60000 (33%)]\tLoss: 0.043764\n",
      "Train Epoch: 1 [30000/60000 (50%)]\tLoss: 0.079792\n",
      "Train Epoch: 1 [40000/60000 (67%)]\tLoss: 0.070172\n",
      "Train Epoch: 1 [50000/60000 (83%)]\tLoss: 0.130196\n",
      "Train Epoch: 2 [0/60000 (0%)]\tLoss: 0.042287\n",
      "Train Epoch: 2 [10000/60000 (17%)]\tLoss: 0.058693\n",
      "Train Epoch: 2 [20000/60000 (33%)]\tLoss: 0.017384\n",
      "Train Epoch: 2 [30000/60000 (50%)]\tLoss: 0.026628\n",
      "Train Epoch: 2 [40000/60000 (67%)]\tLoss: 0.040052\n",
      "Train Epoch: 2 [50000/60000 (83%)]\tLoss: 0.043451\n",
      "Train Epoch: 3 [0/60000 (0%)]\tLoss: 0.047924\n",
      "Train Epoch: 3 [10000/60000 (17%)]\tLoss: 0.043234\n",
      "Train Epoch: 3 [20000/60000 (33%)]\tLoss: 0.033442\n",
      "Train Epoch: 3 [30000/60000 (50%)]\tLoss: 0.037742\n",
      "Train Epoch: 3 [40000/60000 (67%)]\tLoss: 0.096741\n",
      "Train Epoch: 3 [50000/60000 (83%)]\tLoss: 0.093029\n",
      "Train Epoch: 4 [0/60000 (0%)]\tLoss: 0.078144\n",
      "Train Epoch: 4 [10000/60000 (17%)]\tLoss: 0.017921\n",
      "Train Epoch: 4 [20000/60000 (33%)]\tLoss: 0.029861\n",
      "Train Epoch: 4 [30000/60000 (50%)]\tLoss: 0.085264\n",
      "Train Epoch: 4 [40000/60000 (67%)]\tLoss: 0.022109\n",
      "Train Epoch: 4 [50000/60000 (83%)]\tLoss: 0.015181\n",
      "Train Epoch: 5 [0/60000 (0%)]\tLoss: 0.019787\n",
      "Train Epoch: 5 [10000/60000 (17%)]\tLoss: 0.033122\n",
      "Train Epoch: 5 [20000/60000 (33%)]\tLoss: 0.029003\n",
      "Train Epoch: 5 [30000/60000 (50%)]\tLoss: 0.074368\n",
      "Train Epoch: 5 [40000/60000 (67%)]\tLoss: 0.039441\n",
      "Train Epoch: 5 [50000/60000 (83%)]\tLoss: 0.037160\n",
      "Train Epoch: 6 [0/60000 (0%)]\tLoss: 0.049306\n",
      "Train Epoch: 6 [10000/60000 (17%)]\tLoss: 0.038025\n",
      "Train Epoch: 6 [20000/60000 (33%)]\tLoss: 0.063773\n",
      "Train Epoch: 6 [30000/60000 (50%)]\tLoss: 0.094023\n",
      "Train Epoch: 6 [40000/60000 (67%)]\tLoss: 0.019545\n",
      "Train Epoch: 6 [50000/60000 (83%)]\tLoss: 0.078720\n",
      "Train Epoch: 7 [0/60000 (0%)]\tLoss: 0.024252\n",
      "Train Epoch: 7 [10000/60000 (17%)]\tLoss: 0.027478\n",
      "Train Epoch: 7 [20000/60000 (33%)]\tLoss: 0.031396\n",
      "Train Epoch: 7 [30000/60000 (50%)]\tLoss: 0.021824\n",
      "Train Epoch: 7 [40000/60000 (67%)]\tLoss: 0.023648\n",
      "Train Epoch: 7 [50000/60000 (83%)]\tLoss: 0.070365\n",
      "Train Epoch: 8 [0/60000 (0%)]\tLoss: 0.036672\n",
      "Train Epoch: 8 [10000/60000 (17%)]\tLoss: 0.077789\n",
      "Train Epoch: 8 [20000/60000 (33%)]\tLoss: 0.041313\n",
      "Train Epoch: 8 [30000/60000 (50%)]\tLoss: 0.068599\n",
      "Train Epoch: 8 [40000/60000 (67%)]\tLoss: 0.174905\n",
      "Train Epoch: 8 [50000/60000 (83%)]\tLoss: 0.024161\n",
      "Train Epoch: 9 [0/60000 (0%)]\tLoss: 0.022904\n",
      "Train Epoch: 9 [10000/60000 (17%)]\tLoss: 0.035946\n",
      "Train Epoch: 9 [20000/60000 (33%)]\tLoss: 0.029016\n",
      "Train Epoch: 9 [30000/60000 (50%)]\tLoss: 0.056554\n",
      "Train Epoch: 9 [40000/60000 (67%)]\tLoss: 0.048894\n",
      "Train Epoch: 9 [50000/60000 (83%)]\tLoss: 0.012729\n",
      "Train Epoch: 10 [0/60000 (0%)]\tLoss: 0.010398\n",
      "Train Epoch: 10 [10000/60000 (17%)]\tLoss: 0.030879\n",
      "Train Epoch: 10 [20000/60000 (33%)]\tLoss: 0.010881\n",
      "Train Epoch: 10 [30000/60000 (50%)]\tLoss: 0.019101\n",
      "Train Epoch: 10 [40000/60000 (67%)]\tLoss: 0.069664\n",
      "Train Epoch: 10 [50000/60000 (83%)]\tLoss: 0.016940\n",
      "Train Epoch: 11 [0/60000 (0%)]\tLoss: 0.021595\n",
      "Train Epoch: 11 [10000/60000 (17%)]\tLoss: 0.015199\n",
      "Train Epoch: 11 [20000/60000 (33%)]\tLoss: 0.012933\n",
      "Train Epoch: 11 [30000/60000 (50%)]\tLoss: 0.021778\n",
      "Train Epoch: 11 [40000/60000 (67%)]\tLoss: 0.033511\n",
      "Train Epoch: 11 [50000/60000 (83%)]\tLoss: 0.031869\n",
      "Train Epoch: 12 [0/60000 (0%)]\tLoss: 0.068976\n",
      "Train Epoch: 12 [10000/60000 (17%)]\tLoss: 0.024051\n",
      "Train Epoch: 12 [20000/60000 (33%)]\tLoss: 0.012584\n",
      "Train Epoch: 12 [30000/60000 (50%)]\tLoss: 0.046346\n",
      "Train Epoch: 12 [40000/60000 (67%)]\tLoss: 0.035766\n",
      "Train Epoch: 12 [50000/60000 (83%)]\tLoss: 0.038167\n",
      "Train Epoch: 13 [0/60000 (0%)]\tLoss: 0.025393\n",
      "Train Epoch: 13 [10000/60000 (17%)]\tLoss: 0.012490\n",
      "Train Epoch: 13 [20000/60000 (33%)]\tLoss: 0.020703\n",
      "Train Epoch: 13 [30000/60000 (50%)]\tLoss: 0.056288\n",
      "Train Epoch: 13 [40000/60000 (67%)]\tLoss: 0.059815\n",
      "Train Epoch: 13 [50000/60000 (83%)]\tLoss: 0.006659\n",
      "Train Epoch: 14 [0/60000 (0%)]\tLoss: 0.015220\n",
      "Train Epoch: 14 [10000/60000 (17%)]\tLoss: 0.032414\n",
      "Train Epoch: 14 [20000/60000 (33%)]\tLoss: 0.049088\n",
      "Train Epoch: 14 [30000/60000 (50%)]\tLoss: 0.038294\n",
      "Train Epoch: 14 [40000/60000 (67%)]\tLoss: 0.024060\n",
      "Train Epoch: 14 [50000/60000 (83%)]\tLoss: 0.021154\n",
      "Train Epoch: 15 [0/60000 (0%)]\tLoss: 0.025809\n",
      "Train Epoch: 15 [10000/60000 (17%)]\tLoss: 0.031554\n",
      "Train Epoch: 15 [20000/60000 (33%)]\tLoss: 0.045985\n",
      "Train Epoch: 15 [30000/60000 (50%)]\tLoss: 0.018975\n",
      "Train Epoch: 15 [40000/60000 (67%)]\tLoss: 0.044028\n",
      "Train Epoch: 15 [50000/60000 (83%)]\tLoss: 0.022071\n",
      "Train Epoch: 16 [0/60000 (0%)]\tLoss: 0.012984\n",
      "Train Epoch: 16 [10000/60000 (17%)]\tLoss: 0.107777\n",
      "Train Epoch: 16 [20000/60000 (33%)]\tLoss: 0.070934\n",
      "Train Epoch: 16 [30000/60000 (50%)]\tLoss: 0.011750\n",
      "Train Epoch: 16 [40000/60000 (67%)]\tLoss: 0.025015\n",
      "Train Epoch: 16 [50000/60000 (83%)]\tLoss: 0.053817\n",
      "Train Epoch: 17 [0/60000 (0%)]\tLoss: 0.019551\n",
      "Train Epoch: 17 [10000/60000 (17%)]\tLoss: 0.047834\n",
      "Train Epoch: 17 [20000/60000 (33%)]\tLoss: 0.024255\n",
      "Train Epoch: 17 [30000/60000 (50%)]\tLoss: 0.024995\n",
      "Train Epoch: 17 [40000/60000 (67%)]\tLoss: 0.067402\n",
      "Train Epoch: 17 [50000/60000 (83%)]\tLoss: 0.020641\n",
      "Train Epoch: 18 [0/60000 (0%)]\tLoss: 0.078442\n",
      "Train Epoch: 18 [10000/60000 (17%)]\tLoss: 0.019873\n",
      "Train Epoch: 18 [20000/60000 (33%)]\tLoss: 0.015919\n",
      "Train Epoch: 18 [30000/60000 (50%)]\tLoss: 0.029954\n",
      "Train Epoch: 18 [40000/60000 (67%)]\tLoss: 0.066763\n",
      "Train Epoch: 18 [50000/60000 (83%)]\tLoss: 0.023722\n",
      "Train Epoch: 19 [0/60000 (0%)]\tLoss: 0.014123\n",
      "Train Epoch: 19 [10000/60000 (17%)]\tLoss: 0.021338\n",
      "Train Epoch: 19 [20000/60000 (33%)]\tLoss: 0.024220\n",
      "Train Epoch: 19 [30000/60000 (50%)]\tLoss: 0.023476\n",
      "Train Epoch: 19 [40000/60000 (67%)]\tLoss: 0.061202\n",
      "Train Epoch: 19 [50000/60000 (83%)]\tLoss: 0.020164\n"
     ]
    }
   ],
   "source": [
    "lr = .01\n",
    "momentum = .9\n",
    "\n",
    "optimizer_base = optim.SGD(base_model.parameters(), lr=lr, momentum=momentum, weight_decay=0.005)\n",
    "for epoch in range(20):\n",
    "    optimizer_base.param_groups[0]['lr'] *= .8\n",
    "    tt.train(base_model, device, dl.train_loader, optimizer_base, epoch)"
   ]
  },
  {
   "cell_type": "code",
   "execution_count": 5,
   "metadata": {},
   "outputs": [],
   "source": [
    "torch.save(base_model, 'SavedModels/base_model.pth')"
   ]
  },
  {
   "cell_type": "code",
   "execution_count": 13,
   "metadata": {},
   "outputs": [],
   "source": [
    "base_model = torch.load('SavedModels/base_model.pth')\n",
    "gmm = models.GMM(1000, 784)\n",
    "gmm.find_solution(dl.X_MNIST, initialize=True, iterate=False, use_kmeans=False)\n",
    "gmm_model = models.RobustModel(base_model, gmm, -7.).to(device)\n",
    "torch.save(gmm_model, 'SavedModels/gmm_model.pth')\n",
    "\n",
    "qmm = models.QuadraticMixtureModel(1000, 784, mu=gmm.mu, logvar=gmm.logvar, alpha=gmm.alpha)\n",
    "#qmm.find_solution(dl.X_MNIST, initialize=True, iterate=False, use_kmeans=False)\n",
    "qmm_model = models.RobustModel(base_model, qmm, -7.).to(device)\n",
    "torch.save(qmm_model, 'SavedModels/qmm_model.pth')"
   ]
  },
  {
   "cell_type": "code",
   "execution_count": 14,
   "metadata": {},
   "outputs": [
    {
     "data": {
      "image/png": "[encoded data removed]",
      "text/plain": [
       "<Figure size 432x288 with 10 Axes>"
      ]
     },
     "metadata": {},
     "output_type": "display_data"
    },
    {
     "name": "stdout",
     "output_type": "stream",
     "text": [
      "\n",
      "\n",
      "\n",
      "Test set: Average loss: 0.2875, Accuracy: 9271/10000 (93%), Ave. Confidence: 78%\n",
      "\n",
      "\n",
      "Test set: Average loss: 0.1453, Accuracy: 9847/10000 (98%), Ave. Confidence: 88%\n",
      "\n",
      "\n",
      "Test set: Average loss: 0.0353, Accuracy: 9880/10000 (99%), Ave. Confidence: 98%\n",
      "\n",
      "\n",
      "Ave. Confidence: 43% Predicted: 34%\n",
      "\n",
      "\n",
      "Ave. Confidence: 71% Predicted: 82%\n",
      "\n",
      "\n",
      "Ave. Confidence: 79% Predicted: 88%\n",
      "\n"
     ]
    },
    {
     "data": {
      "text/plain": [
       "0.787044229553296"
      ]
     },
     "execution_count": 14,
     "metadata": {},
     "output_type": "execute_result"
    }
   ],
   "source": [
    "#gmm_model.loglam.data = torch.tensor(-8., device=device)\n",
    "#qmm_model.loglam.data = torch.tensor(-8., device=device)\n",
    "\n",
    "data = enumerate(dl.test_loader).__next__()[1][0]\n",
    "y = gmm_model(data.to(device))\n",
    "yq = qmm_model(data.to(device))\n",
    "y_base = base_model(data.to(device))\n",
    "\n",
    "plotting.plot_samples([y, yq, y_base], data)\n",
    "\n",
    "min_conf = .5\n",
    "tt.test(gmm_model, device, dl.test_loader, min_conf=min_conf)\n",
    "tt.test(qmm_model, device, dl.test_loader, min_conf=min_conf)\n",
    "tt.test(base_model, device, dl.test_loader, min_conf=min_conf)\n",
    "\n",
    "tt.test_adv(gmm_model, device, dl.EMNIST_test_loader, min_conf=min_conf)\n",
    "tt.test_adv(qmm_model, device, dl.EMNIST_test_loader, min_conf=min_conf)\n",
    "tt.test_adv(base_model, device, dl.EMNIST_test_loader, min_conf=min_conf)"
   ]
  },
  {
   "cell_type": "code",
   "execution_count": 15,
   "metadata": {},
   "outputs": [
    {
     "data": {
      "image/png": "[encoded data removed]",
      "text/plain": [
       "<Figure size 432x288 with 10 Axes>"
      ]
     },
     "metadata": {},
     "output_type": "display_data"
    },
    {
     "name": "stdout",
     "output_type": "stream",
     "text": [
      "\n",
      "\n"
     ]
    }
   ],
   "source": [
    "data = enumerate(dl.EMNIST_test_loader).__next__()[1][0]\n",
    "y = gmm_model(data.to(device))\n",
    "yq = qmm_model(data.to(device))\n",
    "y_base = base_model(data.to(device))\n",
    "\n",
    "plotting.plot_samples([y, yq, y_base], data)"
   ]
  },
  {
   "cell_type": "code",
   "execution_count": null,
   "metadata": {},
   "outputs": [],
   "source": []
  }
 ],
 "metadata": {
  "kernelspec": {
   "display_name": "Python 3",
   "language": "python",
   "name": "python3"
  },
  "language_info": {
   "codemirror_mode": {
    "name": "ipython",
    "version": 3
   },
   "file_extension": ".py",
   "mimetype": "text/x-python",
   "name": "python",
   "nbconvert_exporter": "python",
   "pygments_lexer": "ipython3",
   "version": "3.5.2"
  }
 },
 "nbformat": 4,
 "nbformat_minor": 2
}
