{
 "cells": [
  {
   "cell_type": "code",
   "execution_count": 7,
   "metadata": {},
   "outputs": [],
   "source": [
    "import torch\n",
    "\n",
    "import utils.confident_classifier as cc\n",
    "\n",
    "\n",
    "from importlib import reload\n",
    "import matplotlib"
   ]
  },
  {
   "cell_type": "code",
   "execution_count": 13,
   "metadata": {},
   "outputs": [
    {
     "data": {
      "text/plain": [
       "IncompatibleKeys(missing_keys=[], unexpected_keys=[])"
      ]
     },
     "execution_count": 13,
     "metadata": {},
     "output_type": "execute_result"
    }
   ],
   "source": [
    "file = '../Confident_classifier/results/joint_confidence_loss/5391/model_epoch_100.pth'\n",
    "\n",
    "model = cc.vgg13()\n",
    "model.load_state_dict(torch.load(file))\n",
    "\n",
    "model.cpu()\n",
    "torch.save(model, 'SavedModels/other/' + 'CC_CIFAR10' + '.pth')"
   ]
  },
  {
   "cell_type": "code",
   "execution_count": 14,
   "metadata": {},
   "outputs": [],
   "source": [
    "x = torch.rand(10,3,32,32)"
   ]
  },
  {
   "cell_type": "code",
   "execution_count": 15,
   "metadata": {},
   "outputs": [
    {
     "data": {
      "text/plain": [
       "tensor([[0.0857, 0.0888, 0.1084, 0.0887, 0.0910, 0.1175, 0.1043, 0.1081, 0.1098,\n",
       "         0.0977],\n",
       "        [0.0953, 0.1081, 0.0893, 0.0725, 0.1008, 0.1133, 0.1084, 0.1080, 0.1034,\n",
       "         0.1009],\n",
       "        [0.1115, 0.1043, 0.1179, 0.0746, 0.0635, 0.1081, 0.0977, 0.0903, 0.1223,\n",
       "         0.1099],\n",
       "        [0.1102, 0.1013, 0.1065, 0.0708, 0.0923, 0.1151, 0.1002, 0.0958, 0.1166,\n",
       "         0.0911],\n",
       "        [0.1027, 0.1133, 0.1017, 0.0770, 0.0899, 0.1093, 0.1015, 0.1069, 0.1094,\n",
       "         0.0883],\n",
       "        [0.0981, 0.1183, 0.0820, 0.0831, 0.1077, 0.1024, 0.1084, 0.0986, 0.1079,\n",
       "         0.0934],\n",
       "        [0.1005, 0.1171, 0.0951, 0.0705, 0.0982, 0.1129, 0.1085, 0.1035, 0.1120,\n",
       "         0.0819],\n",
       "        [0.0996, 0.1147, 0.1023, 0.0569, 0.0862, 0.1298, 0.1066, 0.1100, 0.1296,\n",
       "         0.0644],\n",
       "        [0.1141, 0.0974, 0.1101, 0.0860, 0.1079, 0.1061, 0.0887, 0.0977, 0.1029,\n",
       "         0.0890],\n",
       "        [0.0977, 0.1047, 0.0918, 0.0507, 0.0967, 0.1306, 0.1084, 0.1220, 0.1120,\n",
       "         0.0855]], grad_fn=<ExpBackward>)"
      ]
     },
     "execution_count": 15,
     "metadata": {},
     "output_type": "execute_result"
    }
   ],
   "source": [
    "model(x).exp()"
   ]
  },
  {
   "cell_type": "code",
   "execution_count": 12,
   "metadata": {},
   "outputs": [
    {
     "data": {
      "text/plain": [
       "<module 'utils.confident_classifier' from '/home/alexm/project/notebooks/gmm-robust/utils/confident_classifier.py'>"
      ]
     },
     "execution_count": 12,
     "metadata": {},
     "output_type": "execute_result"
    }
   ],
   "source": [
    "reload(cc)"
   ]
  },
  {
   "cell_type": "code",
   "execution_count": null,
   "metadata": {},
   "outputs": [],
   "source": []
  }
 ],
 "metadata": {
  "kernelspec": {
   "display_name": "Python 3",
   "language": "python",
   "name": "python3"
  },
  "language_info": {
   "codemirror_mode": {
    "name": "ipython",
    "version": 3
   },
   "file_extension": ".py",
   "mimetype": "text/x-python",
   "name": "python",
   "nbconvert_exporter": "python",
   "pygments_lexer": "ipython3",
   "version": "3.5.2"
  }
 },
 "nbformat": 4,
 "nbformat_minor": 2
}
