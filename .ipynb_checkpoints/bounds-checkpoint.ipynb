{
 "cells": [
  {
   "cell_type": "code",
   "execution_count": 1,
   "metadata": {},
   "outputs": [],
   "source": [
    "import torch\n",
    "import torch.nn as nn\n",
    "import torch.nn.functional as F\n",
    "import torch.optim as optim\n",
    "\n",
    "import matplotlib.pyplot as plt\n",
    "import numpy as np\n",
    "import pandas as pd\n",
    "import scipy\n",
    "from sklearn.metrics import roc_auc_score\n",
    "\n",
    "from importlib import reload\n",
    "import matplotlib.pyplot as plt\n",
    "\n",
    "import utils.models as models\n",
    "import utils.plotting as plotting\n",
    "import utils.dataloaders as dl\n",
    "import utils.traintest as tt\n",
    "import utils.adversarial as adv\n",
    "import utils.eval as ev\n",
    "import model_params as params\n",
    "import utils.resnet_orig as resnet\n",
    "import utils.gmm_helpers as gmm_helpers\n",
    "\n",
    "from tensorboardX import SummaryWriter\n",
    "%load_ext line_profiler"
   ]
  },
  {
   "cell_type": "code",
   "execution_count": 2,
   "metadata": {},
   "outputs": [],
   "source": [
    "def get_auroc(model_list, model_params, stats, device):\n",
    "    auroc = []\n",
    "    for i, model in enumerate(model_list):\n",
    "        with torch.no_grad():\n",
    "            conf = []\n",
    "            for data, _ in model_params.test_loader:\n",
    "                data = data.to(device)\n",
    "\n",
    "                output = model(data).max(1)[0].exp()\n",
    "\n",
    "                conf.append(output.cpu())\n",
    "\n",
    "        conf = torch.cat(conf, 0)\n",
    "\n",
    "        y_true = torch.cat([torch.ones_like(conf.cpu()), \n",
    "                            torch.zeros_like(stats[i])]).cpu().numpy()\n",
    "        y_scores = torch.cat([conf.cpu(), \n",
    "                              stats[i]]).cpu().numpy()\n",
    "\n",
    "        auroc.append(roc_auc_score(y_true, y_scores))\n",
    "    return auroc"
   ]
  },
  {
   "cell_type": "code",
   "execution_count": 3,
   "metadata": {},
   "outputs": [],
   "source": [
    "steps = 20\n",
    "alpha = 1.\n",
    "restarts = 3\n",
    "batches = 5\n",
    "batch_size = 100"
   ]
  },
  {
   "cell_type": "code",
   "execution_count": 20,
   "metadata": {},
   "outputs": [
    {
     "name": "stderr",
     "output_type": "stream",
     "text": [
      "/usr/local/lib/python3.5/dist-packages/torch/serialization.py:435: SourceChangeWarning: source code of class 'torch.nn.modules.conv.Conv2d' has changed. you can retrieve the original source code by accessing the object's source attribute or set `torch.nn.Module.dump_patches = True` and use the patch tool to revert the changes.\n",
      "  warnings.warn(msg, SourceChangeWarning)\n",
      "/usr/local/lib/python3.5/dist-packages/torch/serialization.py:435: SourceChangeWarning: source code of class 'torch.nn.modules.batchnorm.BatchNorm2d' has changed. you can retrieve the original source code by accessing the object's source attribute or set `torch.nn.Module.dump_patches = True` and use the patch tool to revert the changes.\n",
      "  warnings.warn(msg, SourceChangeWarning)\n",
      "/usr/local/lib/python3.5/dist-packages/torch/serialization.py:435: SourceChangeWarning: source code of class 'torch.nn.modules.linear.Linear' has changed. you can retrieve the original source code by accessing the object's source attribute or set `torch.nn.Module.dump_patches = True` and use the patch tool to revert the changes.\n",
      "  warnings.warn(msg, SourceChangeWarning)\n"
     ]
    }
   ],
   "source": [
    "device = torch.device('cuda:3')\n",
    "dataset = 'MNIST'\n",
    "\n",
    "model_params = params.params_dict[dataset](augm_flag=True, batch_size=128)\n",
    "\n",
    "file_joint = 'gmm__PCAMNIST_lam0.0_n100_lr0.001_lrgmm1e-05_augm_flagTrue_train_typeCEDA_GMMgrad_vars mu var.pth'\n",
    "file_base = 'base_MNIST_lr0.001_augm_flagTrue_train_typeplain.pth'\n",
    "file_CEDA = 'base_MNIST_lr0.001_augm_flagTrue_train_typeCEDA.pth'\n",
    "file_ACET = 'base_MNIST_lr0.001_augm_flagTrue_train_typeACET_steps40.pth'\n",
    "\n",
    "model_joint = torch.load('SavedModels/' + file_joint).to(device)\n",
    "base_model = torch.load('SavedModels/base/' + file_base).to(device)\n",
    "CEDA_model = torch.load('SavedModels/base/' + file_CEDA).to(device)\n",
    "# ACET_model = torch.load('SavedModels/base/' + file_ACET).to(device)\n",
    "\n",
    "shape = enumerate(model_params.test_loader).__next__()[1][0][0].shape\n",
    "gmm = model_joint.mm\n",
    "model_list = [base_model, CEDA_model, model_joint]\n",
    "lam = model_joint.loglam.exp().item()"
   ]
  },
  {
   "cell_type": "code",
   "execution_count": 46,
   "metadata": {},
   "outputs": [],
   "source": [
    "stats, bounds = ev.aggregate_adv_stats(model_list, gmm, device, shape, classes=model_params.classes, \n",
    "                                       batches=batches, batch_size=batch_size, steps=steps, \n",
    "                                       restarts=restarts, alpha=alpha, lam=lam)\n",
    "auroc = get_auroc(model_list, model_params, stats, device)"
   ]
  },
  {
   "cell_type": "code",
   "execution_count": 47,
   "metadata": {},
   "outputs": [
    {
     "name": "stdout",
     "output_type": "stream",
     "text": [
      "tensor([0.9661, 0.9387, 0.8557])\n",
      "tensor([0.8440, 0.7510, 0.7550])\n",
      "[0.6795531000000001, 0.739243, 0.20536590000000002]\n"
     ]
    },
    {
     "data": {
      "image/png": "[encoded data removed]",
      "text/plain": [
       "<Figure size 432x288 with 1 Axes>"
      ]
     },
     "metadata": {},
     "output_type": "display_data"
    }
   ],
   "source": [
    "print(stats.mean(1))\n",
    "print((stats>.95).float().mean(1))\n",
    "print(auroc)\n",
    "plt.hist(bounds)\n",
    "plt.show()"
   ]
  },
  {
   "cell_type": "code",
   "execution_count": 7,
   "metadata": {},
   "outputs": [
    {
     "name": "stderr",
     "output_type": "stream",
     "text": [
      "/usr/local/lib/python3.5/dist-packages/torch/serialization.py:435: SourceChangeWarning: source code of class 'torch.nn.modules.conv.Conv2d' has changed. you can retrieve the original source code by accessing the object's source attribute or set `torch.nn.Module.dump_patches = True` and use the patch tool to revert the changes.\n",
      "  warnings.warn(msg, SourceChangeWarning)\n",
      "/usr/local/lib/python3.5/dist-packages/torch/serialization.py:435: SourceChangeWarning: source code of class 'torch.nn.modules.batchnorm.BatchNorm2d' has changed. you can retrieve the original source code by accessing the object's source attribute or set `torch.nn.Module.dump_patches = True` and use the patch tool to revert the changes.\n",
      "  warnings.warn(msg, SourceChangeWarning)\n",
      "/usr/local/lib/python3.5/dist-packages/torch/serialization.py:435: SourceChangeWarning: source code of class 'torch.nn.modules.linear.Linear' has changed. you can retrieve the original source code by accessing the object's source attribute or set `torch.nn.Module.dump_patches = True` and use the patch tool to revert the changes.\n",
      "  warnings.warn(msg, SourceChangeWarning)\n"
     ]
    }
   ],
   "source": [
    "device = torch.device('cuda:3')\n",
    "dataset = 'FMNIST'\n",
    "\n",
    "model_params = params.params_dict[dataset](augm_flag=True, batch_size=128)\n",
    "\n",
    "file_joint = 'gmm__PCAFMNIST_lam0.0_n100_lr0.1_lrgmm1e-05_augm_flagTrue_train_typeCEDA_GMMgrad_vars mu var.pth'\n",
    "file_base = 'base_FMNIST_lr0.1_augm_flagTrue_train_typeplain.pth'\n",
    "file_CEDA = 'base_FMNIST_lr0.1_augm_flagTrue_train_typeCEDA.pth'\n",
    "file_ACET = 'base_FMNIST_lr0.001_augm_flagTrue_train_typeACET_steps40.pth'\n",
    "\n",
    "model_joint = torch.load('SavedModels/' + file_joint).to(device)\n",
    "base_model = torch.load('SavedModels/base/' + file_base).to(device)\n",
    "CEDA_model = torch.load('SavedModels/base/' + file_CEDA).to(device)\n",
    "ACET_model = torch.load('SavedModels/base/' + file_ACET).to(device)\n",
    "\n",
    "shape = enumerate(model_params.test_loader).__next__()[1][0][0].shape\n",
    "gmm = model_joint.mm\n",
    "model_list = [base_model, CEDA_model, ACET_model, model_joint]\n",
    "lam = model_joint.loglam.exp().item()"
   ]
  },
  {
   "cell_type": "code",
   "execution_count": 8,
   "metadata": {},
   "outputs": [],
   "source": [
    "stats, bounds = ev.aggregate_adv_stats(model_list, gmm, device, shape, classes=model_params.classes, \n",
    "                                       batches=batches, batch_size=batch_size, steps=steps, \n",
    "                                       restarts=restarts, alpha=alpha, lam=lam)\n",
    "auroc = get_auroc(model_list, model_params, stats, device)"
   ]
  },
  {
   "cell_type": "code",
   "execution_count": 9,
   "metadata": {},
   "outputs": [
    {
     "name": "stdout",
     "output_type": "stream",
     "text": [
      "tensor([0.9497, 0.9786, 0.5463, 0.1000])\n",
      "tensor([0.8330, 0.9280, 0.0000, 0.0000])\n",
      "[0.4850823, 0.8879921, 0.3865075499999999, 0.9996]\n"
     ]
    },
    {
     "data": {
      "image/png": "[encoded data removed]",
      "text/plain": [
       "<Figure size 432x288 with 1 Axes>"
      ]
     },
     "metadata": {},
     "output_type": "display_data"
    }
   ],
   "source": [
    "print(stats.mean(1))\n",
    "print((stats>.95).float().mean(1))\n",
    "print(auroc)\n",
    "plt.hist(bounds)\n",
    "plt.show()"
   ]
  },
  {
   "cell_type": "code",
   "execution_count": 10,
   "metadata": {},
   "outputs": [
    {
     "name": "stdout",
     "output_type": "stream",
     "text": [
      "Using downloaded and verified file: ../data/train_32x32.mat\n",
      "Using downloaded and verified file: ../data/train_32x32.mat\n",
      "Using downloaded and verified file: ../data/test_32x32.mat\n"
     ]
    },
    {
     "name": "stderr",
     "output_type": "stream",
     "text": [
      "/usr/local/lib/python3.5/dist-packages/torch/serialization.py:435: SourceChangeWarning: source code of class 'torch.nn.modules.conv.Conv2d' has changed. you can retrieve the original source code by accessing the object's source attribute or set `torch.nn.Module.dump_patches = True` and use the patch tool to revert the changes.\n",
      "  warnings.warn(msg, SourceChangeWarning)\n",
      "/usr/local/lib/python3.5/dist-packages/torch/serialization.py:435: SourceChangeWarning: source code of class 'torch.nn.modules.batchnorm.BatchNorm2d' has changed. you can retrieve the original source code by accessing the object's source attribute or set `torch.nn.Module.dump_patches = True` and use the patch tool to revert the changes.\n",
      "  warnings.warn(msg, SourceChangeWarning)\n",
      "/usr/local/lib/python3.5/dist-packages/torch/serialization.py:435: SourceChangeWarning: source code of class 'torch.nn.modules.linear.Linear' has changed. you can retrieve the original source code by accessing the object's source attribute or set `torch.nn.Module.dump_patches = True` and use the patch tool to revert the changes.\n",
      "  warnings.warn(msg, SourceChangeWarning)\n"
     ]
    }
   ],
   "source": [
    "device = torch.device('cuda:3')\n",
    "dataset = 'SVHN'\n",
    "\n",
    "model_params = params.params_dict[dataset](augm_flag=True, batch_size=128)\n",
    "\n",
    "file_joint = 'gmm__PCASVHN_lam0.0_n100_lr0.1_lrgmm1e-05_augm_flagTrue_train_typeCEDA_GMMgrad_vars mu var.pth'\n",
    "file_base = 'base_SVHN_lr0.1_augm_flagTrue_train_typeplain.pth'\n",
    "file_CEDA = 'base_SVHN_lr0.1_augm_flagTrue_train_typeCEDA.pth'\n",
    "#file_ACET = 'base_FMNIST_lr0.001_augm_flagTrue_train_typeACET_steps40.pth'\n",
    "\n",
    "model_joint = torch.load('SavedModels/' + file_joint).to(device)\n",
    "base_model = torch.load('SavedModels/base/' + file_base).to(device)\n",
    "CEDA_model = torch.load('SavedModels/base/' + file_CEDA).to(device)\n",
    "#ACET_model = torch.load('SavedModels/base/' + file_ACET).to(device)\n",
    "\n",
    "shape = enumerate(model_params.test_loader).__next__()[1][0][0].shape\n",
    "gmm = model_joint.mm\n",
    "model_list = [base_model, CEDA_model, model_joint]\n",
    "lam = model_joint.loglam.exp().item()"
   ]
  },
  {
   "cell_type": "code",
   "execution_count": 11,
   "metadata": {},
   "outputs": [],
   "source": [
    "stats, bounds = ev.aggregate_adv_stats(model_list, gmm, device, shape, classes=model_params.classes, \n",
    "                                       batches=batches, batch_size=batch_size, steps=steps, \n",
    "                                       restarts=restarts, alpha=alpha, lam=lam)\n",
    "auroc = get_auroc(model_list, model_params, stats, device)"
   ]
  },
  {
   "cell_type": "code",
   "execution_count": 12,
   "metadata": {},
   "outputs": [
    {
     "name": "stdout",
     "output_type": "stream",
     "text": [
      "tensor([0.9896, 0.9931, 0.1000])\n",
      "tensor([0.9630, 0.9910, 0.0000])\n",
      "[0.1934737822679779, 0.6385844537492318, 0.9999615473263676]\n"
     ]
    },
    {
     "data": {
      "image/png": "[encoded data removed]",
      "text/plain": [
       "<Figure size 432x288 with 1 Axes>"
      ]
     },
     "metadata": {},
     "output_type": "display_data"
    }
   ],
   "source": [
    "print(stats.mean(1))\n",
    "print((stats>.95).float().mean(1))\n",
    "print(auroc)\n",
    "plt.hist(bounds)\n",
    "plt.show()"
   ]
  },
  {
   "cell_type": "code",
   "execution_count": 13,
   "metadata": {},
   "outputs": [
    {
     "name": "stdout",
     "output_type": "stream",
     "text": [
      "Using downloaded and verified file: ../data/test_32x32.mat\n"
     ]
    },
    {
     "name": "stderr",
     "output_type": "stream",
     "text": [
      "/usr/local/lib/python3.5/dist-packages/torch/serialization.py:435: SourceChangeWarning: source code of class 'torch.nn.modules.conv.Conv2d' has changed. you can retrieve the original source code by accessing the object's source attribute or set `torch.nn.Module.dump_patches = True` and use the patch tool to revert the changes.\n",
      "  warnings.warn(msg, SourceChangeWarning)\n",
      "/usr/local/lib/python3.5/dist-packages/torch/serialization.py:435: SourceChangeWarning: source code of class 'torch.nn.modules.batchnorm.BatchNorm2d' has changed. you can retrieve the original source code by accessing the object's source attribute or set `torch.nn.Module.dump_patches = True` and use the patch tool to revert the changes.\n",
      "  warnings.warn(msg, SourceChangeWarning)\n",
      "/usr/local/lib/python3.5/dist-packages/torch/serialization.py:435: SourceChangeWarning: source code of class 'torch.nn.modules.linear.Linear' has changed. you can retrieve the original source code by accessing the object's source attribute or set `torch.nn.Module.dump_patches = True` and use the patch tool to revert the changes.\n",
      "  warnings.warn(msg, SourceChangeWarning)\n"
     ]
    }
   ],
   "source": [
    "device = torch.device('cuda:3')\n",
    "dataset = 'CIFAR10'\n",
    "\n",
    "model_params = params.params_dict[dataset](augm_flag=True, batch_size=128)\n",
    "\n",
    "file_joint = 'gmm__PCACIFAR10_lam0.0_n100_lr0.1_lrgmm1e-05_augm_flagTrue_train_typeCEDA_GMMgrad_vars mu var.pth'\n",
    "file_base = 'base_CIFAR10_lr0.1_augm_flagTrue_train_typeplain.pth'\n",
    "file_CEDA = 'base_CIFAR10_lr0.1_augm_flagTrue_train_typeCEDA.pth'\n",
    "#file_ACET = 'base_FMNIST_lr0.001_augm_flagTrue_train_typeACET_steps40.pth'\n",
    "\n",
    "model_joint = torch.load('SavedModels/' + file_joint).to(device)\n",
    "base_model = torch.load('SavedModels/base/' + file_base).to(device)\n",
    "CEDA_model = torch.load('SavedModels/base/' + file_CEDA).to(device)\n",
    "#ACET_model = torch.load('SavedModels/base/' + file_ACET).to(device)\n",
    "\n",
    "shape = enumerate(model_params.test_loader).__next__()[1][0][0].shape\n",
    "gmm = model_joint.mm \n",
    "model_list = [base_model, CEDA_model, model_joint]\n",
    "lam = model_joint.loglam.exp().item()"
   ]
  },
  {
   "cell_type": "code",
   "execution_count": 14,
   "metadata": {},
   "outputs": [],
   "source": [
    "stats, bounds = ev.aggregate_adv_stats(model_list, gmm, device, shape, classes=model_params.classes, \n",
    "                                       batches=batches, batch_size=batch_size, steps=steps, \n",
    "                                       restarts=restarts, alpha=alpha, lam=lam)\n",
    "auroc = get_auroc(model_list, model_params, stats, device)"
   ]
  },
  {
   "cell_type": "code",
   "execution_count": 15,
   "metadata": {},
   "outputs": [
    {
     "name": "stdout",
     "output_type": "stream",
     "text": [
      "tensor([0.9643, 0.9684, 0.1000])\n",
      "tensor([0.8990, 0.8920, 0.0000])\n",
      "[0.30309145, 0.30996075, 0.9996499999999999]\n"
     ]
    },
    {
     "data": {
      "image/png": "[encoded data removed]",
      "text/plain": [
       "<Figure size 432x288 with 1 Axes>"
      ]
     },
     "metadata": {},
     "output_type": "display_data"
    }
   ],
   "source": [
    "print(stats.mean(1))\n",
    "print((stats>.95).float().mean(1))\n",
    "print(auroc)\n",
    "plt.hist(bounds)\n",
    "plt.show()"
   ]
  },
  {
   "cell_type": "code",
   "execution_count": 16,
   "metadata": {},
   "outputs": [
    {
     "name": "stdout",
     "output_type": "stream",
     "text": [
      "Using downloaded and verified file: ../data/test_32x32.mat\n"
     ]
    },
    {
     "name": "stderr",
     "output_type": "stream",
     "text": [
      "/usr/local/lib/python3.5/dist-packages/torch/serialization.py:435: SourceChangeWarning: source code of class 'torch.nn.modules.conv.Conv2d' has changed. you can retrieve the original source code by accessing the object's source attribute or set `torch.nn.Module.dump_patches = True` and use the patch tool to revert the changes.\n",
      "  warnings.warn(msg, SourceChangeWarning)\n",
      "/usr/local/lib/python3.5/dist-packages/torch/serialization.py:435: SourceChangeWarning: source code of class 'torch.nn.modules.batchnorm.BatchNorm2d' has changed. you can retrieve the original source code by accessing the object's source attribute or set `torch.nn.Module.dump_patches = True` and use the patch tool to revert the changes.\n",
      "  warnings.warn(msg, SourceChangeWarning)\n",
      "/usr/local/lib/python3.5/dist-packages/torch/serialization.py:435: SourceChangeWarning: source code of class 'torch.nn.modules.linear.Linear' has changed. you can retrieve the original source code by accessing the object's source attribute or set `torch.nn.Module.dump_patches = True` and use the patch tool to revert the changes.\n",
      "  warnings.warn(msg, SourceChangeWarning)\n"
     ]
    }
   ],
   "source": [
    "device = torch.device('cuda:3')\n",
    "dataset = 'CIFAR100'\n",
    "\n",
    "model_params = params.params_dict[dataset](augm_flag=True, batch_size=128)\n",
    "\n",
    "file_joint = 'gmm__PCACIFAR100_lam0.0_n100_lr0.1_lrgmm1e-05_augm_flagTrue_train_typeCEDA_GMMgrad_vars mu var.pth'\n",
    "file_base = 'base_CIFAR100_lr0.1_augm_flagTrue_train_typeplain.pth'\n",
    "file_CEDA = 'base_CIFAR100_lr0.1_augm_flagTrue_train_typeCEDA.pth'\n",
    "#file_ACET = 'base_FMNIST_lr0.001_augm_flagTrue_train_typeACET_steps40.pth'\n",
    "\n",
    "model_joint = torch.load('SavedModels/' + file_joint).to(device)\n",
    "base_model = torch.load('SavedModels/base/' + file_base).to(device)\n",
    "CEDA_model = torch.load('SavedModels/base/' + file_CEDA).to(device)\n",
    "#ACET_model = torch.load('SavedModels/base/' + file_ACET).to(device)\n",
    "\n",
    "shape = enumerate(model_params.test_loader).__next__()[1][0][0].shape\n",
    "gmm = model_joint.mm\n",
    "model_list = [base_model, CEDA_model, model_joint]\n",
    "lam = model_joint.loglam.exp().item()"
   ]
  },
  {
   "cell_type": "code",
   "execution_count": 17,
   "metadata": {},
   "outputs": [],
   "source": [
    "stats, bounds = ev.aggregate_adv_stats(model_list, gmm, device, shape, classes=model_params.classes, \n",
    "                                       batches=batches, batch_size=batch_size, steps=steps, \n",
    "                                       restarts=restarts, alpha=alpha, lam=lam)\n",
    "auroc = get_auroc(model_list, model_params, stats, device)"
   ]
  },
  {
   "cell_type": "code",
   "execution_count": 18,
   "metadata": {},
   "outputs": [
    {
     "name": "stdout",
     "output_type": "stream",
     "text": [
      "tensor([0.9766, 0.9750, 0.1000])\n",
      "tensor([0.8890, 0.8880, 0.0000])\n",
      "[0.4128504, 0.41665870000000005, 0.9975499999999999]\n"
     ]
    },
    {
     "data": {
      "image/png": "[encoded data removed]",
      "text/plain": [
       "<Figure size 432x288 with 1 Axes>"
      ]
     },
     "metadata": {},
     "output_type": "display_data"
    }
   ],
   "source": [
    "print(stats.mean(1))\n",
    "print((stats>.95).float().mean(1))\n",
    "print(auroc)\n",
    "plt.hist(bounds)\n",
    "plt.show()"
   ]
  }
 ],
 "metadata": {
  "kernelspec": {
   "display_name": "Python 3",
   "language": "python",
   "name": "python3"
  },
  "language_info": {
   "codemirror_mode": {
    "name": "ipython",
    "version": 3
   },
   "file_extension": ".py",
   "mimetype": "text/x-python",
   "name": "python",
   "nbconvert_exporter": "python",
   "pygments_lexer": "ipython3",
   "version": "3.5.2"
  }
 },
 "nbformat": 4,
 "nbformat_minor": 2
}
