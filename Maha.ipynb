{
 "cells": [
  {
   "cell_type": "code",
   "execution_count": 1,
   "metadata": {},
   "outputs": [],
   "source": [
    "import torch\n",
    "import torch.nn as nn\n",
    "import torch.nn.functional as F\n",
    "\n",
    "import utils.dataloaders as dl\n",
    "\n",
    "import utils.single_maha as maha\n",
    "\n",
    "import model_params as params\n",
    "import model_paths\n",
    "\n",
    "from importlib import reload"
   ]
  },
  {
   "cell_type": "code",
   "execution_count": 4,
   "metadata": {},
   "outputs": [
    {
     "name": "stdout",
     "output_type": "stream",
     "text": [
      "MNIST\n",
      "FMNIST\n",
      "SVHN\n",
      "CIFAR10\n"
     ]
    }
   ],
   "source": [
    "reload(maha)\n",
    "reload(params)\n",
    "reload(model_paths)\n",
    "device = torch.device('cuda:0')\n",
    "\n",
    "datasets = ['MNIST', 'FMNIST', 'SVHN', 'CIFAR10']\n",
    "\n",
    "#datasets = ['CIFAR10']\n",
    "\n",
    "for dataset in datasets:\n",
    "    print(dataset)\n",
    "    model_params = params.params_dict[dataset](augm_flag=True)\n",
    "    path = model_paths.model_dict[dataset]().file_dict['Base']\n",
    "\n",
    "    pretrained = torch.load(path).state_dict()\n",
    "\n",
    "    if dataset=='MNIST':\n",
    "        model = maha.LeNetMadry()\n",
    "    elif dataset=='FMNIST':\n",
    "        model = maha.ResNet18(1, 10)\n",
    "    elif dataset in ['SVHN', 'CIFAR10']:\n",
    "        model = maha.ResNet18(3, 10)\n",
    "    elif dataset=='CIFAR100':\n",
    "        model = maha.ResNet18(3, 100)\n",
    "\n",
    "    model.load_state_dict(pretrained)\n",
    "\n",
    "    maha_model = maha.Mahalanobis(model.to(device), model_params, device)\n",
    "    final_model = maha.ModelODIN(maha_model, model_params, device)\n",
    "\n",
    "    torch.save(final_model.cpu(), 'SavedModels/other/single_mahalanobis/' + dataset + '.pth')"
   ]
  },
  {
   "cell_type": "code",
   "execution_count": 3,
   "metadata": {},
   "outputs": [],
   "source": [
    "data, label = next(iter(dl.MNIST(train=False)))\n"
   ]
  },
  {
   "cell_type": "code",
   "execution_count": 13,
   "metadata": {},
   "outputs": [],
   "source": [
    "import utils.eval as ev\n",
    "\n",
    "dataset = 'CIFAR10'\n",
    "\n",
    "model_params = params.params_dict[dataset](augm_flag=True)\n",
    "device = torch.device('cuda:0')\n",
    "\n",
    "model = torch.load('SavedModels/other/single_mahalanobis/' + dataset + '.pth').to(device)"
   ]
  },
  {
   "cell_type": "code",
   "execution_count": 17,
   "metadata": {},
   "outputs": [],
   "source": [
    "out = ev.evaluate(model, device, dataset, model_params.loaders, load_adversaries=False, \n",
    "                  writer=None, epoch=0, drop_mmc=True)"
   ]
  },
  {
   "cell_type": "code",
   "execution_count": 18,
   "metadata": {},
   "outputs": [
    {
     "data": {
      "text/html": [
       "<div>\n",
       "<style scoped>\n",
       "    .dataframe tbody tr th:only-of-type {\n",
       "        vertical-align: middle;\n",
       "    }\n",
       "\n",
       "    .dataframe tbody tr th {\n",
       "        vertical-align: top;\n",
       "    }\n",
       "\n",
       "    .dataframe thead th {\n",
       "        text-align: right;\n",
       "    }\n",
       "</style>\n",
       "<table border=\"1\" class=\"dataframe\">\n",
       "  <thead>\n",
       "    <tr style=\"text-align: right;\">\n",
       "      <th></th>\n",
       "      <th>AUC</th>\n",
       "    </tr>\n",
       "    <tr>\n",
       "      <th>DataSet</th>\n",
       "      <th></th>\n",
       "    </tr>\n",
       "  </thead>\n",
       "  <tbody>\n",
       "    <tr>\n",
       "      <th>SVHN</th>\n",
       "      <td>94.834108</td>\n",
       "    </tr>\n",
       "    <tr>\n",
       "      <th>CIFAR100</th>\n",
       "      <td>68.692244</td>\n",
       "    </tr>\n",
       "    <tr>\n",
       "      <th>LSUN_CR</th>\n",
       "      <td>68.389567</td>\n",
       "    </tr>\n",
       "    <tr>\n",
       "      <th>Imagenet-</th>\n",
       "      <td>65.379701</td>\n",
       "    </tr>\n",
       "    <tr>\n",
       "      <th>Noise</th>\n",
       "      <td>81.338357</td>\n",
       "    </tr>\n",
       "    <tr>\n",
       "      <th>UniformNoise</th>\n",
       "      <td>56.760514</td>\n",
       "    </tr>\n",
       "  </tbody>\n",
       "</table>\n",
       "</div>"
      ],
      "text/plain": [
       "                    AUC\n",
       "DataSet                \n",
       "SVHN          94.834108\n",
       "CIFAR100      68.692244\n",
       "LSUN_CR       68.389567\n",
       "Imagenet-     65.379701\n",
       "Noise         81.338357\n",
       "UniformNoise  56.760514"
      ]
     },
     "execution_count": 18,
     "metadata": {},
     "output_type": "execute_result"
    }
   ],
   "source": [
    "out"
   ]
  },
  {
   "cell_type": "code",
   "execution_count": 24,
   "metadata": {},
   "outputs": [
    {
     "ename": "AttributeError",
     "evalue": "'DataFrame' object has no attribute 'show'",
     "output_type": "error",
     "traceback": [
      "\u001b[0;31m---------------------------------------------------------------------------\u001b[0m",
      "\u001b[0;31mAttributeError\u001b[0m                            Traceback (most recent call last)",
      "\u001b[0;32m<ipython-input-24-c3791f73461b>\u001b[0m in \u001b[0;36m<module>\u001b[0;34m()\u001b[0m\n\u001b[0;32m----> 1\u001b[0;31m \u001b[0mout\u001b[0m\u001b[0;34m.\u001b[0m\u001b[0mshow\u001b[0m\u001b[0;34m(\u001b[0m\u001b[0;34m)\u001b[0m\u001b[0;34m\u001b[0m\u001b[0m\n\u001b[0m",
      "\u001b[0;32m/usr/local/lib/python3.5/dist-packages/pandas/core/generic.py\u001b[0m in \u001b[0;36m__getattr__\u001b[0;34m(self, name)\u001b[0m\n\u001b[1;32m   4374\u001b[0m             \u001b[0;32mif\u001b[0m \u001b[0mself\u001b[0m\u001b[0;34m.\u001b[0m\u001b[0m_info_axis\u001b[0m\u001b[0;34m.\u001b[0m\u001b[0m_can_hold_identifiers_and_holds_name\u001b[0m\u001b[0;34m(\u001b[0m\u001b[0mname\u001b[0m\u001b[0;34m)\u001b[0m\u001b[0;34m:\u001b[0m\u001b[0;34m\u001b[0m\u001b[0m\n\u001b[1;32m   4375\u001b[0m                 \u001b[0;32mreturn\u001b[0m \u001b[0mself\u001b[0m\u001b[0;34m[\u001b[0m\u001b[0mname\u001b[0m\u001b[0;34m]\u001b[0m\u001b[0;34m\u001b[0m\u001b[0m\n\u001b[0;32m-> 4376\u001b[0;31m             \u001b[0;32mreturn\u001b[0m \u001b[0mobject\u001b[0m\u001b[0;34m.\u001b[0m\u001b[0m__getattribute__\u001b[0m\u001b[0;34m(\u001b[0m\u001b[0mself\u001b[0m\u001b[0;34m,\u001b[0m \u001b[0mname\u001b[0m\u001b[0;34m)\u001b[0m\u001b[0;34m\u001b[0m\u001b[0m\n\u001b[0m\u001b[1;32m   4377\u001b[0m \u001b[0;34m\u001b[0m\u001b[0m\n\u001b[1;32m   4378\u001b[0m     \u001b[0;32mdef\u001b[0m \u001b[0m__setattr__\u001b[0m\u001b[0;34m(\u001b[0m\u001b[0mself\u001b[0m\u001b[0;34m,\u001b[0m \u001b[0mname\u001b[0m\u001b[0;34m,\u001b[0m \u001b[0mvalue\u001b[0m\u001b[0;34m)\u001b[0m\u001b[0;34m:\u001b[0m\u001b[0;34m\u001b[0m\u001b[0m\n",
      "\u001b[0;31mAttributeError\u001b[0m: 'DataFrame' object has no attribute 'show'"
     ]
    }
   ],
   "source": [
    "out.show()"
   ]
  },
  {
   "cell_type": "code",
   "execution_count": 21,
   "metadata": {},
   "outputs": [
    {
     "data": {
      "text/html": [
       "<div>\n",
       "<style scoped>\n",
       "    .dataframe tbody tr th:only-of-type {\n",
       "        vertical-align: middle;\n",
       "    }\n",
       "\n",
       "    .dataframe tbody tr th {\n",
       "        vertical-align: top;\n",
       "    }\n",
       "\n",
       "    .dataframe thead th {\n",
       "        text-align: right;\n",
       "    }\n",
       "</style>\n",
       "<table border=\"1\" class=\"dataframe\">\n",
       "  <thead>\n",
       "    <tr style=\"text-align: right;\">\n",
       "      <th></th>\n",
       "      <th>AUC</th>\n",
       "    </tr>\n",
       "    <tr>\n",
       "      <th>DataSet</th>\n",
       "      <th></th>\n",
       "    </tr>\n",
       "  </thead>\n",
       "  <tbody>\n",
       "    <tr>\n",
       "      <th>SVHN</th>\n",
       "      <td>65.959964</td>\n",
       "    </tr>\n",
       "    <tr>\n",
       "      <th>CIFAR100</th>\n",
       "      <td>66.836739</td>\n",
       "    </tr>\n",
       "    <tr>\n",
       "      <th>LSUN_CR</th>\n",
       "      <td>74.772767</td>\n",
       "    </tr>\n",
       "    <tr>\n",
       "      <th>Imagenet-</th>\n",
       "      <td>74.329027</td>\n",
       "    </tr>\n",
       "    <tr>\n",
       "      <th>Noise</th>\n",
       "      <td>59.163790</td>\n",
       "    </tr>\n",
       "    <tr>\n",
       "      <th>UniformNoise</th>\n",
       "      <td>13.481253</td>\n",
       "    </tr>\n",
       "  </tbody>\n",
       "</table>\n",
       "</div>"
      ],
      "text/plain": [
       "                    AUC\n",
       "DataSet                \n",
       "SVHN          65.959964\n",
       "CIFAR100      66.836739\n",
       "LSUN_CR       74.772767\n",
       "Imagenet-     74.329027\n",
       "Noise         59.163790\n",
       "UniformNoise  13.481253"
      ]
     },
     "execution_count": 21,
     "metadata": {},
     "output_type": "execute_result"
    }
   ],
   "source": [
    "model.epsilon = 0.005\n",
    "ev.evaluate(model, device, dataset, model_params.loaders, load_adversaries=False, \n",
    "                  writer=None, epoch=0, drop_mmc=True)"
   ]
  },
  {
   "cell_type": "code",
   "execution_count": 25,
   "metadata": {},
   "outputs": [
    {
     "name": "stdout",
     "output_type": "stream",
     "text": [
      "                    AUC\n",
      "DataSet                \n",
      "SVHN          83.914293\n",
      "CIFAR100      83.246608\n",
      "LSUN_CR       88.965033\n",
      "Imagenet-     85.759728\n",
      "Noise         93.687199\n",
      "UniformNoise  98.306508\n",
      "\n",
      "                    AUC\n",
      "DataSet                \n",
      "SVHN          55.869605\n",
      "CIFAR100      65.565038\n",
      "LSUN_CR       76.273233\n",
      "Imagenet-     76.221443\n",
      "Noise         49.215109\n",
      "UniformNoise  24.182202\n",
      "\n",
      "                    AUC\n",
      "DataSet                \n",
      "SVHN          65.959979\n",
      "CIFAR100      66.836745\n",
      "LSUN_CR       74.772567\n",
      "Imagenet-     74.329019\n",
      "Noise         59.163777\n",
      "UniformNoise  13.481271\n",
      "\n",
      "                    AUC\n",
      "DataSet                \n",
      "SVHN          79.926930\n",
      "CIFAR100      61.086927\n",
      "LSUN_CR       63.244833\n",
      "Imagenet-     63.868304\n",
      "Noise         72.635824\n",
      "UniformNoise  14.156658\n",
      "\n",
      "                    AUC\n",
      "DataSet                \n",
      "SVHN          85.167535\n",
      "CIFAR100      60.377637\n",
      "LSUN_CR       60.628800\n",
      "Imagenet-     61.100651\n",
      "Noise         77.364653\n",
      "UniformNoise  19.389752\n",
      "\n",
      "                    AUC\n",
      "DataSet                \n",
      "SVHN          89.485551\n",
      "CIFAR100      62.181954\n",
      "LSUN_CR       61.029367\n",
      "Imagenet-     61.131430\n",
      "Noise         80.357503\n",
      "UniformNoise  27.883985\n",
      "\n",
      "                    AUC\n",
      "DataSet                \n",
      "SVHN          94.834104\n",
      "CIFAR100      68.692252\n",
      "LSUN_CR       68.389400\n",
      "Imagenet-     65.379692\n",
      "Noise         81.338359\n",
      "UniformNoise  56.760509\n",
      "\n"
     ]
    }
   ],
   "source": [
    "epsilons = [0.0, 0.01, 0.005, 0.002, 0.0014, 0.001, 0.0005]\n",
    "\n",
    "for eps in epsilons:\n",
    "    model.epsilon = eps\n",
    "    df = ev.evaluate(model, device, dataset, model_params.loaders, load_adversaries=False, \n",
    "                  writer=None, epoch=0, drop_mmc=True)\n",
    "    print(df)\n",
    "    print('')"
   ]
  },
  {
   "cell_type": "code",
   "execution_count": null,
   "metadata": {},
   "outputs": [],
   "source": []
  }
 ],
 "metadata": {
  "kernelspec": {
   "display_name": "Python 3",
   "language": "python",
   "name": "python3"
  },
  "language_info": {
   "codemirror_mode": {
    "name": "ipython",
    "version": 3
   },
   "file_extension": ".py",
   "mimetype": "text/x-python",
   "name": "python",
   "nbconvert_exporter": "python",
   "pygments_lexer": "ipython3",
   "version": "3.5.2"
  }
 },
 "nbformat": 4,
 "nbformat_minor": 2
}
