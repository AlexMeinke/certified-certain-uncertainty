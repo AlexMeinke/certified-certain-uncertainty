{
 "cells": [
  {
   "cell_type": "code",
   "execution_count": 1,
   "metadata": {},
   "outputs": [],
   "source": [
    "import torch\n",
    "import torch.nn as nn\n",
    "import torch.nn.functional as F\n",
    "\n",
    "import utils.dataloaders as dl\n",
    "\n",
    "import utils.single_maha as maha\n",
    "\n",
    "import model_params as params\n",
    "import model_paths\n",
    "\n",
    "from importlib import reload"
   ]
  },
  {
   "cell_type": "code",
   "execution_count": 4,
   "metadata": {},
   "outputs": [
    {
     "name": "stdout",
     "output_type": "stream",
     "text": [
      "MNIST\n",
      "FMNIST\n",
      "SVHN\n",
      "CIFAR10\n"
     ]
    }
   ],
   "source": [
    "reload(maha)\n",
    "reload(params)\n",
    "reload(model_paths)\n",
    "device = torch.device('cuda:0')\n",
    "\n",
    "datasets = ['MNIST', 'FMNIST', 'SVHN', 'CIFAR10']\n",
    "\n",
    "#datasets = ['CIFAR10']\n",
    "\n",
    "for dataset in datasets:\n",
    "    print(dataset)\n",
    "    model_params = params.params_dict[dataset](augm_flag=True)\n",
    "    path = model_paths.model_dict[dataset]().file_dict['Base']\n",
    "\n",
    "    pretrained = torch.load(path).state_dict()\n",
    "\n",
    "    if dataset=='MNIST':\n",
    "        model = maha.LeNetMadry()\n",
    "    elif dataset=='FMNIST':\n",
    "        model = maha.ResNet18(1, 10)\n",
    "    elif dataset in ['SVHN', 'CIFAR10']:\n",
    "        model = maha.ResNet18(3, 10)\n",
    "    elif dataset=='CIFAR100':\n",
    "        model = maha.ResNet18(3, 100)\n",
    "\n",
    "    model.load_state_dict(pretrained)\n",
    "\n",
    "    maha_model = maha.Mahalanobis(model.to(device), model_params, device)\n",
    "    final_model = maha.ModelODIN(maha_model, model_params, device)\n",
    "\n",
    "    torch.save(final_model.cpu(), 'SavedModels/other/single_mahalanobis/' + dataset + '.pth')"
   ]
  },
  {
   "cell_type": "code",
   "execution_count": null,
   "metadata": {},
   "outputs": [],
   "source": []
  }
 ],
 "metadata": {
  "kernelspec": {
   "display_name": "Python 3",
   "language": "python",
   "name": "python3"
  },
  "language_info": {
   "codemirror_mode": {
    "name": "ipython",
    "version": 3
   },
   "file_extension": ".py",
   "mimetype": "text/x-python",
   "name": "python",
   "nbconvert_exporter": "python",
   "pygments_lexer": "ipython3",
   "version": "3.5.2"
  }
 },
 "nbformat": 4,
 "nbformat_minor": 2
}
