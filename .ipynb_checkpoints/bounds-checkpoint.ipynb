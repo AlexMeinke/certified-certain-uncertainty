{
 "cells": [
  {
   "cell_type": "code",
   "execution_count": 1,
   "metadata": {},
   "outputs": [],
   "source": [
    "import torch\n",
    "import torch.nn as nn\n",
    "import torch.nn.functional as F\n",
    "import torch.optim as optim\n",
    "\n",
    "import matplotlib.pyplot as plt\n",
    "import numpy as np\n",
    "import pandas as pd\n",
    "import scipy\n",
    "from sklearn.metrics import roc_auc_score\n",
    "\n",
    "from importlib import reload\n",
    "import matplotlib.pyplot as plt\n",
    "\n",
    "import utils.models as models\n",
    "import utils.plotting as plotting\n",
    "import utils.dataloaders as dl\n",
    "import utils.traintest as tt\n",
    "import utils.adversarial as adv\n",
    "import utils.eval as ev\n",
    "import model_params as params\n",
    "import utils.resnet_orig as resnet\n",
    "import utils.gmm_helpers as gmm_helpers\n",
    "\n",
    "from tensorboardX import SummaryWriter\n",
    "%load_ext line_profiler"
   ]
  },
  {
   "cell_type": "code",
   "execution_count": 23,
   "metadata": {},
   "outputs": [],
   "source": [
    "def get_auroc(model_list, model_params, stats, device):\n",
    "    auroc = []\n",
    "    for i, model in enumerate(model_list):\n",
    "        with torch.no_grad():\n",
    "            conf = []\n",
    "            for data, _ in model_params.test_loader:\n",
    "                data = data.to(device)\n",
    "\n",
    "                output = model(data).max(1)[0].exp()\n",
    "\n",
    "                conf.append(output.cpu())\n",
    "\n",
    "        conf = torch.cat(conf, 0)\n",
    "\n",
    "        y_true = torch.cat([torch.ones_like(conf.cpu()), \n",
    "                            torch.zeros_like(stats[i])]).cpu().numpy()\n",
    "        y_scores = torch.cat([conf.cpu(), \n",
    "                              stats[i]]).cpu().numpy()\n",
    "\n",
    "        auroc.append(roc_auc_score(y_true, y_scores))\n",
    "    return auroc"
   ]
  },
  {
   "cell_type": "code",
   "execution_count": null,
   "metadata": {},
   "outputs": [],
   "source": [
    "steps = 200\n",
    "alpha = 1.\n",
    "restarts = 10\n",
    "batches = 10\n",
    "batch_size = 100"
   ]
  },
  {
   "cell_type": "code",
   "execution_count": 24,
   "metadata": {},
   "outputs": [
    {
     "name": "stderr",
     "output_type": "stream",
     "text": [
      "/usr/local/lib/python3.5/dist-packages/torch/serialization.py:435: SourceChangeWarning: source code of class 'torch.nn.modules.conv.Conv2d' has changed. you can retrieve the original source code by accessing the object's source attribute or set `torch.nn.Module.dump_patches = True` and use the patch tool to revert the changes.\n",
      "  warnings.warn(msg, SourceChangeWarning)\n",
      "/usr/local/lib/python3.5/dist-packages/torch/serialization.py:435: SourceChangeWarning: source code of class 'torch.nn.modules.linear.Linear' has changed. you can retrieve the original source code by accessing the object's source attribute or set `torch.nn.Module.dump_patches = True` and use the patch tool to revert the changes.\n",
      "  warnings.warn(msg, SourceChangeWarning)\n"
     ]
    }
   ],
   "source": [
    "device = torch.device('cuda:3')\n",
    "dataset = 'MNIST'\n",
    "\n",
    "model_params = params.params_dict[dataset](augm_flag=True, batch_size=128)\n",
    "\n",
    "file_joint = 'gmm__PCAMNIST_lam0.0_n100_lr0.001_lrgmm0.001_augm_flagTrue_train_typeCEDA_GMMgrad_vars mu var.pth'\n",
    "file_base = 'base_MNIST_lr0.001_augm_flagTrue_train_typeplain.pth'\n",
    "file_CEDA = 'base_MNIST_lr0.001_augm_flagTrue_train_typeCEDA.pth'\n",
    "file_ACET = 'base_MNIST_lr0.001_augm_flagTrue_train_typeACET_steps40.pth'\n",
    "\n",
    "model_joint = torch.load('SavedModels/' + file_joint).to(device)\n",
    "base_model = torch.load('SavedModels/base/' + file_base).to(device)\n",
    "CEDA_model = torch.load('SavedModels/base/' + file_CEDA).to(device)\n",
    "ACET_model = torch.load('SavedModels/base/' + file_ACET).to(device)\n",
    "\n",
    "shape = enumerate(model_params.test_loader).__next__()[1][0][0].shape\n",
    "gmm = model_joint.mm\n",
    "model_list = [base_model, CEDA_model, ACET_model, model_joint]\n",
    "lam = model_joint.loglam.exp().item()"
   ]
  },
  {
   "cell_type": "code",
   "execution_count": 26,
   "metadata": {},
   "outputs": [],
   "source": [
    "stats, bounds = ev.aggregate_adv_stats(model_list, gmm, device, shape, classes=model_params.classes, \n",
    "                                       batches=batches, batch_size=batch_size, steps=steps, \n",
    "                                       restarts=restarts, alpha=alpha, lam=lam)\n",
    "auroc = get_auroc(model_list, model_params, stats, device)"
   ]
  },
  {
   "cell_type": "code",
   "execution_count": 28,
   "metadata": {},
   "outputs": [],
   "source": [
    "print(stats.mean(1))\n",
    "print((stats>.95).float().mean(1))\n",
    "print(auroc)\n",
    "plt.hist(bounds)\n",
    "plt.show()"
   ]
  },
  {
   "cell_type": "code",
   "execution_count": 312,
   "metadata": {},
   "outputs": [
    {
     "name": "stderr",
     "output_type": "stream",
     "text": [
      "/usr/local/lib/python3.5/dist-packages/torch/serialization.py:435: SourceChangeWarning: source code of class 'torch.nn.modules.conv.Conv2d' has changed. you can retrieve the original source code by accessing the object's source attribute or set `torch.nn.Module.dump_patches = True` and use the patch tool to revert the changes.\n",
      "  warnings.warn(msg, SourceChangeWarning)\n",
      "/usr/local/lib/python3.5/dist-packages/torch/serialization.py:435: SourceChangeWarning: source code of class 'torch.nn.modules.batchnorm.BatchNorm2d' has changed. you can retrieve the original source code by accessing the object's source attribute or set `torch.nn.Module.dump_patches = True` and use the patch tool to revert the changes.\n",
      "  warnings.warn(msg, SourceChangeWarning)\n",
      "/usr/local/lib/python3.5/dist-packages/torch/serialization.py:435: SourceChangeWarning: source code of class 'torch.nn.modules.linear.Linear' has changed. you can retrieve the original source code by accessing the object's source attribute or set `torch.nn.Module.dump_patches = True` and use the patch tool to revert the changes.\n",
      "  warnings.warn(msg, SourceChangeWarning)\n"
     ]
    }
   ],
   "source": [
    "device = torch.device('cuda:3')\n",
    "dataset = 'FMNIST'\n",
    "\n",
    "model_params = params.params_dict[dataset](augm_flag=True, batch_size=128)\n",
    "\n",
    "file_joint = 'gmm__PCAFMNIST_lam0.0_n100_lr0.1_lrgmm1e-05_augm_flagTrue_train_typeCEDA_GMMgrad_vars mu var.pth'\n",
    "file_base = 'base_FMNIST_lr0.1_augm_flagTrue_train_typeplain.pth'\n",
    "file_CEDA = 'base_FMNIST_lr0.1_augm_flagTrue_train_typeCEDA.pth'\n",
    "file_ACET = 'base_FMNIST_lr0.001_augm_flagTrue_train_typeACET_steps40.pth'\n",
    "\n",
    "model_joint = torch.load('SavedModels/' + file_joint).to(device)\n",
    "base_model = torch.load('SavedModels/base/' + file_base).to(device)\n",
    "CEDA_model = torch.load('SavedModels/base/' + file_CEDA).to(device)\n",
    "ACET_model = torch.load('SavedModels/base/' + file_ACET).to(device)\n",
    "\n",
    "shape = enumerate(model_params.test_loader).__next__()[1][0][0].shape\n",
    "gmm = model_joint.mm\n",
    "model_list = [base_model, CEDA_model, ACET_model, model_joint]\n",
    "lam = model_joint.loglam.exp().item()"
   ]
  },
  {
   "cell_type": "code",
   "execution_count": 314,
   "metadata": {},
   "outputs": [],
   "source": [
    "stats, bounds = ev.aggregate_adv_stats(model_list, gmm, device, shape, classes=model_params.classes, \n",
    "                                       batches=batches, batch_size=batch_size, steps=steps, \n",
    "                                       restarts=restarts, alpha=alpha, lam=lam)\n",
    "auroc = get_auroc(model_list, model_params, stats, device)"
   ]
  },
  {
   "cell_type": "code",
   "execution_count": 322,
   "metadata": {},
   "outputs": [
    {
     "name": "stdout",
     "output_type": "stream",
     "text": [
      "tensor([0.6166, 0.6248, 0.4746, 0.1000])\n",
      "tensor([0.0533, 0.0767, 0.0000, 0.0000])\n"
     ]
    },
    {
     "data": {
      "image/png": "[encoded data removed]",
      "text/plain": [
       "<Figure size 432x288 with 1 Axes>"
      ]
     },
     "metadata": {},
     "output_type": "display_data"
    }
   ],
   "source": [
    "print(stats.mean(1))\n",
    "print((stats>.95).float().mean(1))\n",
    "print(auroc)\n",
    "plt.hist(bounds)\n",
    "plt.show()"
   ]
  },
  {
   "cell_type": "code",
   "execution_count": 326,
   "metadata": {},
   "outputs": [
    {
     "name": "stdout",
     "output_type": "stream",
     "text": [
      "Using downloaded and verified file: ../data/train_32x32.mat\n",
      "Using downloaded and verified file: ../data/train_32x32.mat\n",
      "Using downloaded and verified file: ../data/test_32x32.mat\n"
     ]
    },
    {
     "name": "stderr",
     "output_type": "stream",
     "text": [
      "/usr/local/lib/python3.5/dist-packages/torch/serialization.py:435: SourceChangeWarning: source code of class 'torch.nn.modules.conv.Conv2d' has changed. you can retrieve the original source code by accessing the object's source attribute or set `torch.nn.Module.dump_patches = True` and use the patch tool to revert the changes.\n",
      "  warnings.warn(msg, SourceChangeWarning)\n",
      "/usr/local/lib/python3.5/dist-packages/torch/serialization.py:435: SourceChangeWarning: source code of class 'torch.nn.modules.batchnorm.BatchNorm2d' has changed. you can retrieve the original source code by accessing the object's source attribute or set `torch.nn.Module.dump_patches = True` and use the patch tool to revert the changes.\n",
      "  warnings.warn(msg, SourceChangeWarning)\n",
      "/usr/local/lib/python3.5/dist-packages/torch/serialization.py:435: SourceChangeWarning: source code of class 'torch.nn.modules.linear.Linear' has changed. you can retrieve the original source code by accessing the object's source attribute or set `torch.nn.Module.dump_patches = True` and use the patch tool to revert the changes.\n",
      "  warnings.warn(msg, SourceChangeWarning)\n"
     ]
    }
   ],
   "source": [
    "device = torch.device('cuda:3')\n",
    "dataset = 'SVHN'\n",
    "\n",
    "model_params = params.params_dict[dataset](augm_flag=True, batch_size=128)\n",
    "\n",
    "file_joint = 'gmm__PCASVHN_lam0.0_n100_lr0.1_lrgmm1e-06_augm_flagTrue_train_typeCEDA_GMMgrad_vars mu var.pth'\n",
    "file_base = 'base_SVHN_lr0.1_augm_flagTrue_train_typeplain.pth'\n",
    "file_CEDA = 'base_SVHN_lr0.1_augm_flagTrue_train_typeCEDA.pth'\n",
    "#file_ACET = 'base_FMNIST_lr0.001_augm_flagTrue_train_typeACET_steps40.pth'\n",
    "\n",
    "model_joint = torch.load('SavedModels/' + file_joint).to(device)\n",
    "base_model = torch.load('SavedModels/base/' + file_base).to(device)\n",
    "CEDA_model = torch.load('SavedModels/base/' + file_CEDA).to(device)\n",
    "#ACET_model = torch.load('SavedModels/base/' + file_ACET).to(device)\n",
    "\n",
    "shape = enumerate(model_params.test_loader).__next__()[1][0][0].shape\n",
    "gmm = model_joint.mm\n",
    "model_list = [base_model, CEDA_model, model_joint]\n",
    "lam = model_joint.loglam.exp().item()"
   ]
  },
  {
   "cell_type": "code",
   "execution_count": 327,
   "metadata": {},
   "outputs": [],
   "source": [
    "stats, bounds = ev.aggregate_adv_stats(model_list, gmm, device, shape, classes=model_params.classes, \n",
    "                                       batches=batches, batch_size=batch_size, steps=steps, \n",
    "                                       restarts=restarts, alpha=alpha, lam=lam)\n",
    "auroc = get_auroc(model_list, model_params, stats, device)"
   ]
  },
  {
   "cell_type": "code",
   "execution_count": 328,
   "metadata": {},
   "outputs": [
    {
     "name": "stdout",
     "output_type": "stream",
     "text": [
      "tensor([0.7707, 0.8051, 0.1000])\n",
      "tensor([0.3600, 0.4200, 0.0000])\n"
     ]
    },
    {
     "data": {
      "image/png": "[encoded data removed]",
      "text/plain": [
       "<Figure size 432x288 with 1 Axes>"
      ]
     },
     "metadata": {},
     "output_type": "display_data"
    }
   ],
   "source": [
    "print(stats.mean(1))\n",
    "print((stats>.95).float().mean(1))\n",
    "print(auroc)\n",
    "plt.hist(bounds)\n",
    "plt.show()"
   ]
  },
  {
   "cell_type": "code",
   "execution_count": 2,
   "metadata": {},
   "outputs": [
    {
     "name": "stdout",
     "output_type": "stream",
     "text": [
      "Using downloaded and verified file: ../data/test_32x32.mat\n"
     ]
    },
    {
     "name": "stderr",
     "output_type": "stream",
     "text": [
      "/usr/local/lib/python3.5/dist-packages/torch/serialization.py:435: SourceChangeWarning: source code of class 'torch.nn.modules.conv.Conv2d' has changed. you can retrieve the original source code by accessing the object's source attribute or set `torch.nn.Module.dump_patches = True` and use the patch tool to revert the changes.\n",
      "  warnings.warn(msg, SourceChangeWarning)\n",
      "/usr/local/lib/python3.5/dist-packages/torch/serialization.py:435: SourceChangeWarning: source code of class 'torch.nn.modules.batchnorm.BatchNorm2d' has changed. you can retrieve the original source code by accessing the object's source attribute or set `torch.nn.Module.dump_patches = True` and use the patch tool to revert the changes.\n",
      "  warnings.warn(msg, SourceChangeWarning)\n",
      "/usr/local/lib/python3.5/dist-packages/torch/serialization.py:435: SourceChangeWarning: source code of class 'torch.nn.modules.linear.Linear' has changed. you can retrieve the original source code by accessing the object's source attribute or set `torch.nn.Module.dump_patches = True` and use the patch tool to revert the changes.\n",
      "  warnings.warn(msg, SourceChangeWarning)\n"
     ]
    }
   ],
   "source": [
    "device = torch.device('cuda:3')\n",
    "dataset = 'CIFAR10'\n",
    "\n",
    "model_params = params.params_dict[dataset](augm_flag=True, batch_size=128)\n",
    "\n",
    "file_joint = 'gmm__PCACIFAR10_lam0.0_n100_lr0.1_lrgmm1e-05_augm_flagTrue_train_typeCEDA_GMMgrad_vars mu var.pth'\n",
    "file_base = 'base_CIFAR10_lr0.1_augm_flagTrue_train_typeplain.pth'\n",
    "file_CEDA = 'base_CIFAR10_lr0.1_augm_flagTrue_train_typeCEDA.pth'\n",
    "#file_ACET = 'base_FMNIST_lr0.001_augm_flagTrue_train_typeACET_steps40.pth'\n",
    "\n",
    "model_joint = torch.load('SavedModels/' + file_joint).to(device)\n",
    "base_model = torch.load('SavedModels/base/' + file_base).to(device)\n",
    "CEDA_model = torch.load('SavedModels/base/' + file_CEDA).to(device)\n",
    "#ACET_model = torch.load('SavedModels/base/' + file_ACET).to(device)\n",
    "\n",
    "shape = enumerate(model_params.test_loader).__next__()[1][0][0].shape\n",
    "gmm = model_joint.mm\n",
    "model_list = [base_model, CEDA_model, model_joint]\n",
    "lam = model_joint.loglam.exp().item()"
   ]
  },
  {
   "cell_type": "code",
   "execution_count": 5,
   "metadata": {},
   "outputs": [],
   "source": [
    "stats, bounds = ev.aggregate_adv_stats(model_list, gmm, device, shape, classes=model_params.classes, \n",
    "                                       batches=batches, batch_size=batch_size, steps=steps, \n",
    "                                       restarts=restarts, alpha=alpha, lam=lam)\n",
    "auroc = get_auroc(model_list, model_params, stats, device)"
   ]
  },
  {
   "cell_type": "code",
   "execution_count": 6,
   "metadata": {},
   "outputs": [
    {
     "name": "stdout",
     "output_type": "stream",
     "text": [
      "tensor([0.7670, 0.7298, 0.1000])\n",
      "tensor([0.2733, 0.2133, 0.0000])\n"
     ]
    },
    {
     "data": {
      "image/png": "[encoded data removed]",
      "text/plain": [
       "<Figure size 432x288 with 1 Axes>"
      ]
     },
     "metadata": {},
     "output_type": "display_data"
    }
   ],
   "source": [
    "print(stats.mean(1))\n",
    "print((stats>.95).float().mean(1))\n",
    "print(auroc)\n",
    "plt.hist(bounds)\n",
    "plt.show()"
   ]
  },
  {
   "cell_type": "code",
   "execution_count": 20,
   "metadata": {},
   "outputs": [],
   "source": [
    "device = torch.device('cuda:3')\n",
    "dataset = 'CIFAR100'\n",
    "\n",
    "model_params = params.params_dict[dataset](augm_flag=True, batch_size=128)\n",
    "\n",
    "file_joint = 'gmm__PCACIFAR100_lam0.0_n100_lr0.1_lrgmm1e-05_augm_flagTrue_train_typeCEDA_GMMgrad_vars mu var.pth'\n",
    "file_base = 'base_CIFAR100_lr0.1_augm_flagTrue_train_typeplain.pth'\n",
    "file_CEDA = 'base_CIFAR100_lr0.1_augm_flagTrue_train_typeCEDA.pth'\n",
    "#file_ACET = 'base_FMNIST_lr0.001_augm_flagTrue_train_typeACET_steps40.pth'\n",
    "\n",
    "model_joint = torch.load('SavedModels/' + file_joint).to(device)\n",
    "base_model = torch.load('SavedModels/base/' + file_base).to(device)\n",
    "CEDA_model = torch.load('SavedModels/base/' + file_CEDA).to(device)\n",
    "#ACET_model = torch.load('SavedModels/base/' + file_ACET).to(device)\n",
    "\n",
    "shape = enumerate(model_params.test_loader).__next__()[1][0][0].shape\n",
    "gmm = model_joint.mm\n",
    "model_list = [base_model, CEDA_model, model_joint]\n",
    "lam = model_joint.loglam.exp().item()"
   ]
  },
  {
   "cell_type": "code",
   "execution_count": null,
   "metadata": {},
   "outputs": [],
   "source": [
    "stats, bounds = ev.aggregate_adv_stats(model_list, gmm, device, shape, classes=model_params.classes, \n",
    "                                       batches=batches, batch_size=batch_size, steps=steps, \n",
    "                                       restarts=restarts, alpha=alpha, lam=lam)\n",
    "auroc = get_auroc(model_list, model_params, stats, device)"
   ]
  },
  {
   "cell_type": "code",
   "execution_count": null,
   "metadata": {},
   "outputs": [],
   "source": [
    "print(stats.mean(1))\n",
    "print((stats>.95).float().mean(1))\n",
    "print(auroc)\n",
    "plt.hist(bounds)\n",
    "plt.show()"
   ]
  }
 ],
 "metadata": {
  "kernelspec": {
   "display_name": "Python 3",
   "language": "python",
   "name": "python3"
  },
  "language_info": {
   "codemirror_mode": {
    "name": "ipython",
    "version": 3
   },
   "file_extension": ".py",
   "mimetype": "text/x-python",
   "name": "python",
   "nbconvert_exporter": "python",
   "pygments_lexer": "ipython3",
   "version": "3.5.2"
  }
 },
 "nbformat": 4,
 "nbformat_minor": 2
}
