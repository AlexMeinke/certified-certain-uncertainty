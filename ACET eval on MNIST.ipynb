{
 "cells": [
  {
   "cell_type": "code",
   "execution_count": 1,
   "metadata": {},
   "outputs": [],
   "source": [
    "import torch\n",
    "import torch.nn as nn\n",
    "import torch.nn.functional as F\n",
    "import torch.optim as optim\n",
    "\n",
    "import matplotlib.pyplot as plt\n",
    "import numpy as np\n",
    "import pandas as pd\n",
    "\n",
    "from importlib import reload\n",
    "import matplotlib.pyplot as plt\n",
    "\n",
    "import utils.models as models\n",
    "import utils.plotting as plotting\n",
    "import utils.dataloaders as dl\n",
    "import utils.traintest as tt\n",
    "import utils.adversarial as adv\n",
    "import utils.eval as ev\n",
    "import model_params as params\n",
    "import utils.resnet_orig as resnet\n",
    "import utils.gmm_helpers as gmm_helpers\n",
    "\n",
    "from tensorboardX import SummaryWriter\n",
    "%load_ext line_profiler"
   ]
  },
  {
   "cell_type": "code",
   "execution_count": 13,
   "metadata": {},
   "outputs": [],
   "source": [
    "device = torch.device('cuda:2')\n",
    "base_model = torch.load('SavedModels/base_MNIST_lr0.001_augm_flagTrue_train_typeACET.pth')\n",
    "gmm = torch.load('SavedModels/GMM/gmm_MNIST_n1000_data_used60000_augm_flagTrue_alg_scikit.pth')\n",
    "model_params = params.params_dict['MNIST'](augm_flag=True, batch_size=128)"
   ]
  },
  {
   "cell_type": "code",
   "execution_count": 14,
   "metadata": {},
   "outputs": [
    {
     "name": "stdout",
     "output_type": "stream",
     "text": [
      "508.10611114501955\n"
     ]
    }
   ],
   "source": [
    "lam = gmm_helpers.find_lam(gmm, .5, model_params.cali_loader)\n",
    "print(lam)"
   ]
  },
  {
   "cell_type": "code",
   "execution_count": 15,
   "metadata": {},
   "outputs": [],
   "source": [
    "gmm.alpha = nn.Parameter(gmm.alpha)\n",
    "gmm.mu.requires_grad = True\n",
    "gmm.logvar.requires_grad = True\n",
    "gmm.alpha.requires_grad = (False)\n",
    "\n",
    "model = models.RobustModel(base_model, gmm, lam, dim=model_params.dim).to(device)\n",
    "model.loglam.requires_grad = False"
   ]
  },
  {
   "cell_type": "code",
   "execution_count": 16,
   "metadata": {},
   "outputs": [
    {
     "name": "stdout",
     "output_type": "stream",
     "text": [
      "tensor([0.1005, 0.1015, 0.1048, 0.1007, 0.1033, 0.1039, 0.1213, 0.1005, 0.1066,\n",
      "        0.1035, 0.1006, 0.1008, 0.1005, 0.1066, 0.1032, 0.1152, 0.1009, 0.1006,\n",
      "        0.1039, 0.1026, 0.1013, 0.1020, 0.1005, 0.1049, 0.1005, 0.1089, 0.1039,\n",
      "        0.1010, 0.1008, 0.1005, 0.1106, 0.1019, 0.1018, 0.1022, 0.1491, 0.1005,\n",
      "        0.1014, 0.1006, 0.1006, 0.1006, 0.1012, 0.1013, 0.1034, 0.1018, 0.1039,\n",
      "        0.1023, 0.1005, 0.1027, 0.1077, 0.1007], device='cuda:2',\n",
      "       grad_fn=<ExpBackward>)\n",
      "tensor([1.0000, 1.0000, 1.0000, 1.0000, 1.0000, 1.0000, 1.0000, 1.0000, 1.0000,\n",
      "        1.0000, 1.0000, 1.0000, 0.9999, 1.0000, 1.0000, 1.0000, 0.9997, 1.0000,\n",
      "        1.0000, 1.0000, 1.0000, 1.0000, 1.0000, 1.0000, 0.9998, 1.0000, 1.0000,\n",
      "        1.0000, 1.0000, 1.0000, 1.0000, 1.0000, 1.0000, 0.9999, 1.0000, 1.0000,\n",
      "        1.0000, 1.0000, 1.0000, 0.9999, 1.0000, 1.0000, 1.0000, 1.0000, 1.0000,\n",
      "        1.0000, 1.0000, 1.0000, 1.0000, 1.0000], device='cuda:2',\n",
      "       grad_fn=<ExpBackward>)\n"
     ]
    }
   ],
   "source": [
    "ran = torch.rand(50,1,28, 28).to(device)\n",
    "print( base_model(ran).max(1)[0].exp() )\n",
    "noise = adv.gen_adv_noise(base_model, device, ran, epsilon=.3, steps=40)\n",
    "print( base_model(noise).max(1)[0].exp() )"
   ]
  },
  {
   "cell_type": "code",
   "execution_count": 17,
   "metadata": {},
   "outputs": [
    {
     "name": "stdout",
     "output_type": "stream",
     "text": [
      "0.9948\n",
      "0.9928470855712891\n",
      "0.01583202826976776\n",
      "0.992\n",
      "0.9888877990722656\n",
      "0.025437997436523436\n"
     ]
    }
   ],
   "source": [
    "correct, av_conf, test_loss = tt.test(model.base_model, device, model_params.test_loader)\n",
    "print(correct)\n",
    "print(av_conf)\n",
    "print(test_loss)\n",
    "\n",
    "correct_combined, av_conf_combined, test_loss_combined = tt.test(model, device, model_params.test_loader)\n",
    "print(correct_combined)\n",
    "print(av_conf_combined)\n",
    "print(test_loss_combined)"
   ]
  },
  {
   "cell_type": "code",
   "execution_count": 18,
   "metadata": {},
   "outputs": [
    {
     "name": "stdout",
     "output_type": "stream",
     "text": [
      "tensor([0.1000, 0.1000, 0.1000, 0.1000, 0.1000, 0.1000, 0.1000, 0.1000, 0.1000,\n",
      "        0.1000, 0.1000, 0.1000, 0.1000, 0.1000, 0.1000, 0.1000, 0.1000, 0.1000,\n",
      "        0.1000, 0.1000, 0.1000, 0.1000, 0.1000, 0.1000, 0.1000, 0.1000, 0.1000,\n",
      "        0.1000, 0.1000, 0.1000, 0.1000, 0.1000, 0.1000, 0.1000, 0.1000, 0.1000,\n",
      "        0.1000, 0.1000, 0.1000, 0.1000, 0.1000, 0.1000, 0.1000, 0.1000, 0.1000,\n",
      "        0.1000, 0.1000, 0.1000, 0.1000, 0.1000], device='cuda:2',\n",
      "       grad_fn=<ExpBackward>)\n",
      "tensor([0.1000, 0.1000, 0.1000, 0.1000, 0.1000, 0.1000, 0.1000, 0.1000, 0.1000,\n",
      "        0.1000, 0.1000, 0.1000, 0.1000, 0.1000, 0.1000, 0.1000, 0.1000, 0.1000,\n",
      "        0.1000, 0.1000, 0.1000, 0.1000, 0.1000, 0.1000, 0.1000, 0.1000, 0.1000,\n",
      "        0.1000, 0.1000, 0.1000, 0.1000, 0.1000, 0.1000, 0.1000, 0.1000, 0.1000,\n",
      "        0.1000, 0.1000, 0.1000, 0.1000, 0.1000, 0.1000, 0.1000, 0.1000, 0.1000,\n",
      "        0.1000, 0.1000, 0.1000, 0.1000, 0.1000], device='cuda:2',\n",
      "       grad_fn=<ExpBackward>)\n"
     ]
    }
   ],
   "source": [
    "print( model(noise).max(1)[0].exp() )\n",
    "noise = adv.gen_adv_noise(model, device, noise, epsilon=.3, steps=40)\n",
    "print( model(noise).max(1)[0].exp() )"
   ]
  },
  {
   "cell_type": "code",
   "execution_count": 19,
   "metadata": {},
   "outputs": [
    {
     "name": "stdout",
     "output_type": "stream",
     "text": [
      "                  MMC     AUROC  FPR@95\n",
      "DataSet                                \n",
      "orig         0.992847         -       -\n",
      "FMNIST       0.383859  0.994957  0.0474\n",
      "EMNIST       0.800431  0.913057  0.3797\n",
      "GrayCIFAR10  0.101113         1       0\n",
      "Noise        0.100045         1       0\n",
      "                  MMC     AUROC  FPR@95\n",
      "DataSet                                \n",
      "orig         0.988888         -       -\n",
      "FMNIST       0.234574  0.994379  0.0284\n",
      "EMNIST       0.687237  0.910574  0.3278\n",
      "GrayCIFAR10  0.100293  0.998113       0\n",
      "Noise        0.100049  0.996631       0\n"
     ]
    }
   ],
   "source": [
    "model_params = params.params_dict['MNIST'](augm_flag=True)\n",
    "df_base = ev.evaluate(model.base_model, device, 'MNIST', model_params.loaders)\n",
    "df_combined = ev.evaluate(model, device, 'MNIST', model_params.loaders)\n",
    "print(df_base)\n",
    "print(df_combined)"
   ]
  },
  {
   "cell_type": "code",
   "execution_count": 27,
   "metadata": {},
   "outputs": [
    {
     "data": {
      "text/plain": [
       "<matplotlib.image.AxesImage at 0x7f41da0a3358>"
      ]
     },
     "execution_count": 27,
     "metadata": {},
     "output_type": "execute_result"
    },
    {
     "data": {
      "image/png": "[encoded data removed]",
      "text/plain": [
       "<Figure size 432x288 with 1 Axes>"
      ]
     },
     "metadata": {},
     "output_type": "display_data"
    }
   ],
   "source": [
    "plt.imshow(gmm.mu[10].view(28,28).detach().cpu(), cmap='gray')"
   ]
  },
  {
   "cell_type": "code",
   "execution_count": null,
   "metadata": {},
   "outputs": [],
   "source": [
    "torch."
   ]
  }
 ],
 "metadata": {
  "kernelspec": {
   "display_name": "Python 3",
   "language": "python",
   "name": "python3"
  },
  "language_info": {
   "codemirror_mode": {
    "name": "ipython",
    "version": 3
   },
   "file_extension": ".py",
   "mimetype": "text/x-python",
   "name": "python",
   "nbconvert_exporter": "python",
   "pygments_lexer": "ipython3",
   "version": "3.5.2"
  }
 },
 "nbformat": 4,
 "nbformat_minor": 2
}
