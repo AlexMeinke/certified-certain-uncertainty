{
 "cells": [
  {
   "cell_type": "code",
   "execution_count": 135,
   "metadata": {},
   "outputs": [
    {
     "name": "stdout",
     "output_type": "stream",
     "text": [
      "The line_profiler extension is already loaded. To reload it, use:\n",
      "  %reload_ext line_profiler\n"
     ]
    }
   ],
   "source": [
    "import torch\n",
    "import torch.nn as nn\n",
    "import torch.nn.functional as F\n",
    "import torch.optim as optim\n",
    "\n",
    "import matplotlib.pyplot as plt\n",
    "import numpy as np\n",
    "import pandas as pd\n",
    "import scipy\n",
    "from sklearn.metrics import roc_auc_score\n",
    "\n",
    "from importlib import reload\n",
    "import matplotlib.pyplot as plt\n",
    "\n",
    "import utils.models as models\n",
    "import utils.plotting as plotting\n",
    "import utils.dataloaders as dl\n",
    "import utils.traintest as tt\n",
    "import utils.adversarial as adv\n",
    "import utils.eval as ev\n",
    "import model_params as params\n",
    "import utils.resnet_orig as resnet\n",
    "import utils.gmm_helpers as gmm_helpers\n",
    "import utils.odin as odin\n",
    "\n",
    "from tensorboardX import SummaryWriter\n",
    "%load_ext line_profiler"
   ]
  },
  {
   "cell_type": "code",
   "execution_count": 3,
   "metadata": {},
   "outputs": [],
   "source": [
    "device = torch.device('cuda:0')\n",
    "\n",
    "dataset = 'MNIST'\n",
    "\n",
    "model_params = params.params_dict[dataset](augm_flag=True, batch_size=128)\n",
    "\n",
    "file = 'base_MNIST_lr0.001_augm_flagTrue_train_typeplain.pth'\n",
    "base_model = torch.load('SavedModels/base/' + file).to(device)\n",
    "ODIN_model = models.LeNetODIN(base_model, 10.)"
   ]
  },
  {
   "cell_type": "code",
   "execution_count": 47,
   "metadata": {},
   "outputs": [],
   "source": [
    "base_model = torch.load('SavedModels/base/' + file).to(device)\n",
    "ODIN_model = odin.LeNetODIN(base_model, 10.)"
   ]
  },
  {
   "cell_type": "code",
   "execution_count": 82,
   "metadata": {},
   "outputs": [],
   "source": [
    "def FGSM(model, device, seed, epsilon=0.1):\n",
    "    with torch.no_grad():\n",
    "        data = seed.clone().to(device).requires_grad_()\n",
    "\n",
    "    with torch.enable_grad():\n",
    "        y = model(data)\n",
    "        losses = y.max(1)[0]\n",
    "        losses.sum().backward()\n",
    "\n",
    "    with torch.no_grad():\n",
    "        data += epsilon * data.grad\n",
    "        data = torch.clamp(data, 0, 1).requires_grad_()\n",
    "    return data.detach()"
   ]
  },
  {
   "cell_type": "code",
   "execution_count": 128,
   "metadata": {},
   "outputs": [],
   "source": [
    "seed = torch.rand(10, 1, 28, 28, device=device)"
   ]
  },
  {
   "cell_type": "code",
   "execution_count": 131,
   "metadata": {},
   "outputs": [],
   "source": [
    "adv_noise = FGSM(odin, device, seed)"
   ]
  },
  {
   "cell_type": "code",
   "execution_count": 116,
   "metadata": {},
   "outputs": [],
   "source": [
    "def get_auroc(model_list, model_params, stats, device):\n",
    "    auroc = []\n",
    "    fp95 = []\n",
    "    for i, model in enumerate(model_list):\n",
    "        with torch.no_grad():\n",
    "            conf = []\n",
    "            for data, _ in model_params.test_loader:\n",
    "                data = data.to(device)\n",
    "\n",
    "                output = model(data).max(1)[0].exp()\n",
    "\n",
    "                conf.append(output.cpu())\n",
    "\n",
    "        conf = torch.cat(conf, 0)\n",
    "\n",
    "        y_true = torch.cat([torch.ones_like(conf.cpu()), \n",
    "                            torch.zeros_like(stats[i])]).cpu().numpy()\n",
    "        y_scores = torch.cat([conf.cpu(), \n",
    "                              stats[i]]).cpu().numpy()\n",
    "\n",
    "        auroc.append(roc_auc_score(y_true, y_scores))\n",
    "        fp95.append( ((stats[i] > 0.95).float().mean()).item() )\n",
    "    return auroc, fp95"
   ]
  },
  {
   "cell_type": "code",
   "execution_count": 108,
   "metadata": {},
   "outputs": [],
   "source": [
    "def aggregate_stats(model_list, device, shape, classes=10, \n",
    "                    batches=10, batch_size=100):\n",
    "    stats = []\n",
    "\n",
    "    for _ in range(batches):\n",
    "        seed = torch.rand((batch_size,)+tuple(shape), device=device)\n",
    "        \n",
    "        batch_stats = []\n",
    "        for i, model in enumerate(model_list):\n",
    "            batch_stats.append(model(seed).max(1)[0].exp().detach().cpu().clone())\n",
    "            \n",
    "        batch_stats = torch.stack(batch_stats, 0)\n",
    "        stats.append(batch_stats.clone())\n",
    "\n",
    "    stats = torch.cat(stats, -1)\n",
    "    \n",
    "    return stats"
   ]
  },
  {
   "cell_type": "code",
   "execution_count": 117,
   "metadata": {},
   "outputs": [],
   "source": [
    "a, b = get_auroc(model_list, model_params, stats, device)"
   ]
  },
  {
   "cell_type": "code",
   "execution_count": null,
   "metadata": {},
   "outputs": [],
   "source": [
    "temperatures = [1, 2, 5, 10, 20, 50, 100, 200]\n",
    "epsilons = np.linspace(0, 0.004, 21)\n",
    "\n",
    "grid = []\n",
    "\n",
    "for T in temperatures:\n",
    "    vec = []\n",
    "    for eps in epsilons:\n",
    "        model_list = [odin.ModelODIN(odin.LeNetTemp(base_model, T), \n",
    "                                     .1, device=device) for T in temperatures]\n",
    "        stats = aggregate_stats(model_list, device, seed[0].shape)\n",
    "        auroc, fp95 = get_auroc(model_list, model_params, stats, device)\n",
    "        vec.append(auroc + fp95)\n",
    "    grid.append(vec)"
   ]
  },
  {
   "cell_type": "code",
   "execution_count": null,
   "metadata": {},
   "outputs": [],
   "source": []
  }
 ],
 "metadata": {
  "kernelspec": {
   "display_name": "Python 3",
   "language": "python",
   "name": "python3"
  },
  "language_info": {
   "codemirror_mode": {
    "name": "ipython",
    "version": 3
   },
   "file_extension": ".py",
   "mimetype": "text/x-python",
   "name": "python",
   "nbconvert_exporter": "python",
   "pygments_lexer": "ipython3",
   "version": "3.5.2"
  }
 },
 "nbformat": 4,
 "nbformat_minor": 2
}
