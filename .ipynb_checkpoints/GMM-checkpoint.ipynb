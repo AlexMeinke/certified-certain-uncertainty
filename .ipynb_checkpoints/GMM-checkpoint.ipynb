{
 "cells": [
  {
   "cell_type": "code",
   "execution_count": 1,
   "metadata": {},
   "outputs": [],
   "source": [
    "import torch\n",
    "\n",
    "from importlib import reload\n",
    "\n",
    "import models\n",
    "import plotting\n",
    "import dataloaders as dl\n",
    "import traintest as tt"
   ]
  },
  {
   "cell_type": "code",
   "execution_count": 2,
   "metadata": {},
   "outputs": [],
   "source": [
    "if torch.cuda.is_available():\n",
    "    device = torch.device('cuda')\n",
    "else:\n",
    "    device = torch.device('cpu')"
   ]
  },
  {
   "cell_type": "code",
   "execution_count": 3,
   "metadata": {},
   "outputs": [],
   "source": [
    "preproc = dl.X_MNIST.view(3000,28,28).mean(dim=0)\n",
    "preproc_std = torch.ones(28,28)\n",
    "temp = dl.X_MNIST.view(3000,28,28).std(dim=0)\n",
    "preproc_std[temp>.1] = temp[temp>.1]\n",
    "base_model = models.LeNet(preproc=(preproc,preproc_std)).to(device)"
   ]
  },
  {
   "cell_type": "code",
   "execution_count": 4,
   "metadata": {
    "collapsed": true
   },
   "outputs": [
    {
     "name": "stdout",
     "output_type": "stream",
     "text": [
      "Train Epoch: 0 [0/60000 (0%)]\tLoss: 2.313509\n",
      "Train Epoch: 0 [10000/60000 (17%)]\tLoss: 0.250428\n",
      "Train Epoch: 0 [20000/60000 (33%)]\tLoss: 0.111483\n",
      "Train Epoch: 0 [30000/60000 (50%)]\tLoss: 0.133130\n",
      "Train Epoch: 0 [40000/60000 (67%)]\tLoss: 0.105312\n",
      "Train Epoch: 0 [50000/60000 (83%)]\tLoss: 0.090721\n",
      "Train Epoch: 1 [0/60000 (0%)]\tLoss: 0.050608\n",
      "Train Epoch: 1 [10000/60000 (17%)]\tLoss: 0.050822\n",
      "Train Epoch: 1 [20000/60000 (33%)]\tLoss: 0.067809\n",
      "Train Epoch: 1 [30000/60000 (50%)]\tLoss: 0.061400\n",
      "Train Epoch: 1 [40000/60000 (67%)]\tLoss: 0.099788\n",
      "Train Epoch: 1 [50000/60000 (83%)]\tLoss: 0.107544\n",
      "Train Epoch: 2 [0/60000 (0%)]\tLoss: 0.064563\n",
      "Train Epoch: 2 [10000/60000 (17%)]\tLoss: 0.046664\n",
      "Train Epoch: 2 [20000/60000 (33%)]\tLoss: 0.075936\n",
      "Train Epoch: 2 [30000/60000 (50%)]\tLoss: 0.090520\n",
      "Train Epoch: 2 [40000/60000 (67%)]\tLoss: 0.010672\n",
      "Train Epoch: 2 [50000/60000 (83%)]\tLoss: 0.014993\n",
      "Train Epoch: 3 [0/60000 (0%)]\tLoss: 0.062188\n",
      "Train Epoch: 3 [10000/60000 (17%)]\tLoss: 0.062687\n",
      "Train Epoch: 3 [20000/60000 (33%)]\tLoss: 0.066869\n",
      "Train Epoch: 3 [30000/60000 (50%)]\tLoss: 0.048380\n",
      "Train Epoch: 3 [40000/60000 (67%)]\tLoss: 0.038364\n",
      "Train Epoch: 3 [50000/60000 (83%)]\tLoss: 0.050963\n",
      "Train Epoch: 4 [0/60000 (0%)]\tLoss: 0.023118\n",
      "Train Epoch: 4 [10000/60000 (17%)]\tLoss: 0.020705\n",
      "Train Epoch: 4 [20000/60000 (33%)]\tLoss: 0.018188\n",
      "Train Epoch: 4 [30000/60000 (50%)]\tLoss: 0.081008\n",
      "Train Epoch: 4 [40000/60000 (67%)]\tLoss: 0.039887\n",
      "Train Epoch: 4 [50000/60000 (83%)]\tLoss: 0.151345\n",
      "Train Epoch: 5 [0/60000 (0%)]\tLoss: 0.048770\n",
      "Train Epoch: 5 [10000/60000 (17%)]\tLoss: 0.010911\n",
      "Train Epoch: 5 [20000/60000 (33%)]\tLoss: 0.071556\n",
      "Train Epoch: 5 [30000/60000 (50%)]\tLoss: 0.065986\n",
      "Train Epoch: 5 [40000/60000 (67%)]\tLoss: 0.065086\n",
      "Train Epoch: 5 [50000/60000 (83%)]\tLoss: 0.026366\n",
      "Train Epoch: 6 [0/60000 (0%)]\tLoss: 0.049900\n",
      "Train Epoch: 6 [10000/60000 (17%)]\tLoss: 0.023109\n",
      "Train Epoch: 6 [20000/60000 (33%)]\tLoss: 0.044276\n",
      "Train Epoch: 6 [30000/60000 (50%)]\tLoss: 0.029638\n",
      "Train Epoch: 6 [40000/60000 (67%)]\tLoss: 0.060165\n",
      "Train Epoch: 6 [50000/60000 (83%)]\tLoss: 0.027413\n",
      "Train Epoch: 7 [0/60000 (0%)]\tLoss: 0.040401\n",
      "Train Epoch: 7 [10000/60000 (17%)]\tLoss: 0.039181\n",
      "Train Epoch: 7 [20000/60000 (33%)]\tLoss: 0.102116\n",
      "Train Epoch: 7 [30000/60000 (50%)]\tLoss: 0.082470\n",
      "Train Epoch: 7 [40000/60000 (67%)]\tLoss: 0.035850\n",
      "Train Epoch: 7 [50000/60000 (83%)]\tLoss: 0.025131\n",
      "Train Epoch: 8 [0/60000 (0%)]\tLoss: 0.016258\n",
      "Train Epoch: 8 [10000/60000 (17%)]\tLoss: 0.028447\n",
      "Train Epoch: 8 [20000/60000 (33%)]\tLoss: 0.123173\n",
      "Train Epoch: 8 [30000/60000 (50%)]\tLoss: 0.052485\n",
      "Train Epoch: 8 [40000/60000 (67%)]\tLoss: 0.043058\n",
      "Train Epoch: 8 [50000/60000 (83%)]\tLoss: 0.029405\n",
      "Train Epoch: 9 [0/60000 (0%)]\tLoss: 0.071584\n",
      "Train Epoch: 9 [10000/60000 (17%)]\tLoss: 0.024091\n",
      "Train Epoch: 9 [20000/60000 (33%)]\tLoss: 0.104591\n",
      "Train Epoch: 9 [30000/60000 (50%)]\tLoss: 0.017493\n",
      "Train Epoch: 9 [40000/60000 (67%)]\tLoss: 0.009751\n",
      "Train Epoch: 9 [50000/60000 (83%)]\tLoss: 0.038887\n",
      "Train Epoch: 10 [0/60000 (0%)]\tLoss: 0.013429\n",
      "Train Epoch: 10 [10000/60000 (17%)]\tLoss: 0.061919\n",
      "Train Epoch: 10 [20000/60000 (33%)]\tLoss: 0.031386\n",
      "Train Epoch: 10 [30000/60000 (50%)]\tLoss: 0.027200\n",
      "Train Epoch: 10 [40000/60000 (67%)]\tLoss: 0.011889\n",
      "Train Epoch: 10 [50000/60000 (83%)]\tLoss: 0.040752\n",
      "Train Epoch: 11 [0/60000 (0%)]\tLoss: 0.027402\n",
      "Train Epoch: 11 [10000/60000 (17%)]\tLoss: 0.039653\n",
      "Train Epoch: 11 [20000/60000 (33%)]\tLoss: 0.016692\n",
      "Train Epoch: 11 [30000/60000 (50%)]\tLoss: 0.094647\n",
      "Train Epoch: 11 [40000/60000 (67%)]\tLoss: 0.019896\n",
      "Train Epoch: 11 [50000/60000 (83%)]\tLoss: 0.016515\n",
      "Train Epoch: 12 [0/60000 (0%)]\tLoss: 0.046873\n",
      "Train Epoch: 12 [10000/60000 (17%)]\tLoss: 0.053318\n",
      "Train Epoch: 12 [20000/60000 (33%)]\tLoss: 0.023098\n",
      "Train Epoch: 12 [30000/60000 (50%)]\tLoss: 0.024673\n",
      "Train Epoch: 12 [40000/60000 (67%)]\tLoss: 0.077027\n",
      "Train Epoch: 12 [50000/60000 (83%)]\tLoss: 0.016022\n",
      "Train Epoch: 13 [0/60000 (0%)]\tLoss: 0.020490\n",
      "Train Epoch: 13 [10000/60000 (17%)]\tLoss: 0.044117\n",
      "Train Epoch: 13 [20000/60000 (33%)]\tLoss: 0.038646\n",
      "Train Epoch: 13 [30000/60000 (50%)]\tLoss: 0.029915\n",
      "Train Epoch: 13 [40000/60000 (67%)]\tLoss: 0.033826\n",
      "Train Epoch: 13 [50000/60000 (83%)]\tLoss: 0.022472\n",
      "Train Epoch: 14 [0/60000 (0%)]\tLoss: 0.044734\n",
      "Train Epoch: 14 [10000/60000 (17%)]\tLoss: 0.065989\n",
      "Train Epoch: 14 [20000/60000 (33%)]\tLoss: 0.008528\n",
      "Train Epoch: 14 [30000/60000 (50%)]\tLoss: 0.065979\n",
      "Train Epoch: 14 [40000/60000 (67%)]\tLoss: 0.023515\n",
      "Train Epoch: 14 [50000/60000 (83%)]\tLoss: 0.076591\n",
      "Train Epoch: 15 [0/60000 (0%)]\tLoss: 0.024095\n",
      "Train Epoch: 15 [10000/60000 (17%)]\tLoss: 0.051302\n",
      "Train Epoch: 15 [20000/60000 (33%)]\tLoss: 0.057547\n",
      "Train Epoch: 15 [30000/60000 (50%)]\tLoss: 0.042356\n",
      "Train Epoch: 15 [40000/60000 (67%)]\tLoss: 0.013159\n",
      "Train Epoch: 15 [50000/60000 (83%)]\tLoss: 0.034857\n",
      "Train Epoch: 16 [0/60000 (0%)]\tLoss: 0.011488\n",
      "Train Epoch: 16 [10000/60000 (17%)]\tLoss: 0.095340\n",
      "Train Epoch: 16 [20000/60000 (33%)]\tLoss: 0.024965\n",
      "Train Epoch: 16 [30000/60000 (50%)]\tLoss: 0.015830\n",
      "Train Epoch: 16 [40000/60000 (67%)]\tLoss: 0.040242\n",
      "Train Epoch: 16 [50000/60000 (83%)]\tLoss: 0.038880\n",
      "Train Epoch: 17 [0/60000 (0%)]\tLoss: 0.039608\n",
      "Train Epoch: 17 [10000/60000 (17%)]\tLoss: 0.032462\n",
      "Train Epoch: 17 [20000/60000 (33%)]\tLoss: 0.031352\n",
      "Train Epoch: 17 [30000/60000 (50%)]\tLoss: 0.038993\n",
      "Train Epoch: 17 [40000/60000 (67%)]\tLoss: 0.009366\n",
      "Train Epoch: 17 [50000/60000 (83%)]\tLoss: 0.021528\n",
      "Train Epoch: 18 [0/60000 (0%)]\tLoss: 0.046182\n",
      "Train Epoch: 18 [10000/60000 (17%)]\tLoss: 0.027166\n",
      "Train Epoch: 18 [20000/60000 (33%)]\tLoss: 0.095424\n",
      "Train Epoch: 18 [30000/60000 (50%)]\tLoss: 0.018248\n",
      "Train Epoch: 18 [40000/60000 (67%)]\tLoss: 0.015815\n",
      "Train Epoch: 18 [50000/60000 (83%)]\tLoss: 0.083773\n",
      "Train Epoch: 19 [0/60000 (0%)]\tLoss: 0.045449\n",
      "Train Epoch: 19 [10000/60000 (17%)]\tLoss: 0.021146\n",
      "Train Epoch: 19 [20000/60000 (33%)]\tLoss: 0.022949\n",
      "Train Epoch: 19 [30000/60000 (50%)]\tLoss: 0.061633\n",
      "Train Epoch: 19 [40000/60000 (67%)]\tLoss: 0.019097\n",
      "Train Epoch: 19 [50000/60000 (83%)]\tLoss: 0.027146\n"
     ]
    }
   ],
   "source": [
    "import torch.optim as optim\n",
    "\n",
    "lr = .01\n",
    "momentum = .9\n",
    "\n",
    "optimizer_base = optim.SGD(base_model.parameters(), lr=lr, momentum=momentum, weight_decay=0.005)\n",
    "for epoch in range(20):\n",
    "    optimizer_base.param_groups[0]['lr'] *= .8\n",
    "    tt.train(base_model, device, dl.train_loader, optimizer_base, epoch)"
   ]
  },
  {
   "cell_type": "code",
   "execution_count": 5,
   "metadata": {},
   "outputs": [],
   "source": [
    "torch.save(base_model, 'base_model.pth')"
   ]
  },
  {
   "cell_type": "code",
   "execution_count": 28,
   "metadata": {},
   "outputs": [],
   "source": [
    "base_model = torch.load('base_model.pth')\n",
    "gmm = models.GMM(1000, 784)\n",
    "gmm.find_solution(dl.X_MNIST, initialize=True, iterate=False, use_kmeans=False)\n",
    "gmm_model = models.RobustModel(base_model, gmm, -7.).to(device)\n",
    "torch.save(gmm_model, 'gmm_model.pth')\n",
    "\n",
    "qmm = models.QuadraticMixtureModel(1000, 784, mu=gmm.mu, logvar=gmm.logvar, alpha=gmm.alpha)\n",
    "#qmm.find_solution(dl.X_MNIST, initialize=True, iterate=False, use_kmeans=False)\n",
    "qmm_model = models.RobustModel(base_model, qmm, -7.).to(device)\n",
    "torch.save(qmm_model, 'qmm_model.pth')"
   ]
  },
  {
   "cell_type": "code",
   "execution_count": 38,
   "metadata": {},
   "outputs": [
    {
     "data": {
      "image/png": "[encoded data removed]",
      "text/plain": [
       "<Figure size 432x288 with 10 Axes>"
      ]
     },
     "metadata": {},
     "output_type": "display_data"
    },
    {
     "name": "stdout",
     "output_type": "stream",
     "text": [
      "\n",
      "\n",
      "\n",
      "Test set: Average loss: 0.2264, Accuracy: 9584/10000 (96%), Ave. Confidence: 82%\n",
      "\n",
      "\n",
      "Test set: Average loss: 0.1473, Accuracy: 9850/10000 (98%), Ave. Confidence: 87%\n",
      "\n",
      "\n",
      "Test set: Average loss: 0.0341, Accuracy: 9873/10000 (99%), Ave. Confidence: 98%\n",
      "\n",
      "\n",
      "Ave. Confidence: 48% Predicted: 43%\n",
      "\n",
      "\n",
      "Ave. Confidence: 70% Predicted: 81%\n",
      "\n",
      "\n",
      "Ave. Confidence: 78% Predicted: 87%\n",
      "\n"
     ]
    },
    {
     "data": {
      "text/plain": [
       "0.7838825700833247"
      ]
     },
     "execution_count": 38,
     "metadata": {},
     "output_type": "execute_result"
    }
   ],
   "source": [
    "#gmm_model.loglam.data = torch.tensor(-8., device=device)\n",
    "qmm_model.loglam.data = torch.tensor(-2., device=device)\n",
    "\n",
    "data = enumerate(dl.test_loader).__next__()[1][0]\n",
    "y = gmm_model(data.to(device))\n",
    "yq = qmm_model(data.to(device))\n",
    "y_base = base_model(data.to(device))\n",
    "\n",
    "plotting.plot_samples([y, yq, y_base], data)\n",
    "\n",
    "min_conf = .5\n",
    "tt.test(gmm_model, device, dl.test_loader, min_conf=min_conf)\n",
    "tt.test(qmm_model, device, dl.test_loader, min_conf=min_conf)\n",
    "tt.test(base_model, device, dl.test_loader, min_conf=min_conf)\n",
    "\n",
    "tt.test_adv(gmm_model, device, dl.EMNIST_test_loader, min_conf=min_conf)\n",
    "tt.test_adv(qmm_model, device, dl.EMNIST_test_loader, min_conf=min_conf)\n",
    "tt.test_adv(base_model, device, dl.EMNIST_test_loader, min_conf=min_conf)"
   ]
  },
  {
   "cell_type": "code",
   "execution_count": 39,
   "metadata": {},
   "outputs": [
    {
     "data": {
      "image/png": "[encoded data removed]",
      "text/plain": [
       "<Figure size 432x288 with 10 Axes>"
      ]
     },
     "metadata": {},
     "output_type": "display_data"
    },
    {
     "name": "stdout",
     "output_type": "stream",
     "text": [
      "\n",
      "\n"
     ]
    }
   ],
   "source": [
    "data = enumerate(dl.EMNIST_test_loader).__next__()[1][0]\n",
    "y = gmm_model(data.to(device))\n",
    "yq = qmm_model(data.to(device))\n",
    "y_base = base_model(data.to(device))\n",
    "\n",
    "plotting.plot_samples([y, yq, y_base], data)"
   ]
  },
  {
   "cell_type": "code",
   "execution_count": null,
   "metadata": {},
   "outputs": [],
   "source": []
  }
 ],
 "metadata": {
  "kernelspec": {
   "display_name": "Python 3",
   "language": "python",
   "name": "python3"
  },
  "language_info": {
   "codemirror_mode": {
    "name": "ipython",
    "version": 3
   },
   "file_extension": ".py",
   "mimetype": "text/x-python",
   "name": "python",
   "nbconvert_exporter": "python",
   "pygments_lexer": "ipython3",
   "version": "3.5.2"
  }
 },
 "nbformat": 4,
 "nbformat_minor": 2
}
