{
 "cells": [
  {
   "cell_type": "code",
   "execution_count": 1,
   "metadata": {},
   "outputs": [
    {
     "name": "stdout",
     "output_type": "stream",
     "text": [
      "Files already downloaded and verified\n",
      "Files already downloaded and verified\n",
      "Files already downloaded and verified\n"
     ]
    }
   ],
   "source": [
    "import torch\n",
    "import torch.nn as nn\n",
    "import torch.nn.functional as F\n",
    "import torch.optim as optim\n",
    "from torchvision import datasets, transforms\n",
    "\n",
    "import numpy as np\n",
    "import pandas as pd\n",
    "import matplotlib.pyplot as plt\n",
    "\n",
    "from importlib import reload\n",
    "\n",
    "import utils.models as models\n",
    "import utils.plotting as plotting\n",
    "import utils.dataloaders as dl\n",
    "import utils.traintest as tt\n",
    "import utils.adversarial as adv\n",
    "import utils.preproc as pre\n",
    "import utils.eval as ev"
   ]
  },
  {
   "cell_type": "code",
   "execution_count": 2,
   "metadata": {},
   "outputs": [],
   "source": [
    "if torch.cuda.is_available():\n",
    "    device = torch.device('cuda')\n",
    "else:\n",
    "    device = torch.device('cpu')"
   ]
  },
  {
   "cell_type": "code",
   "execution_count": 20,
   "metadata": {},
   "outputs": [],
   "source": [
    "gmm_model_joint = torch.load('SavedModels/gmm_ACET_joint_lam=-2.pth').to(device)\n",
    "\n",
    "base_model = torch.load('SavedModels/base_ACET.pth').to(device)\n",
    "gmm = torch.load('SavedModels/MNIST_gmm.pth')\n",
    "loglam = gmm_model_joint.loglam.data.item()\n",
    "gmm_model_sep1 = models.RobustModel(base_model, gmm, loglam).to(device)\n",
    "gmm_model_sep2 = models.RobustModel(base_model, gmm_model_joint.mm, loglam).to(device)"
   ]
  },
  {
   "cell_type": "code",
   "execution_count": 21,
   "metadata": {},
   "outputs": [
    {
     "name": "stdout",
     "output_type": "stream",
     "text": [
      "\n",
      "Test set: Average loss: 0.0735, Accuracy: 9757/10000 (98%), Ave. Confidence: 97%\n",
      "\n",
      "\n",
      "Test set: Average loss: 0.1985, Accuracy: 9772/10000 (98%), Ave. Confidence: 86%\n",
      "\n"
     ]
    },
    {
     "data": {
      "text/plain": [
       "(9772, 0.8580248844623566)"
      ]
     },
     "execution_count": 21,
     "metadata": {},
     "output_type": "execute_result"
    }
   ],
   "source": [
    "tt.test(base_model, device, dl.MNIST_test_loader)\n",
    "tt.test(gmm_model_joint, device, dl.MNIST_test_loader)"
   ]
  },
  {
   "cell_type": "code",
   "execution_count": null,
   "metadata": {},
   "outputs": [],
   "source": [
    "base_df1 = ev.evaluate_MNIST(gmm_model_sep1, device)\n",
    "#base_df2 = ev.evaluate_MNIST(gmm_model_sep2, device)\n",
    "gmm_df = ev.evaluate_MNIST(gmm_model_joint, device)"
   ]
  },
  {
   "cell_type": "code",
   "execution_count": null,
   "metadata": {},
   "outputs": [],
   "source": [
    "df_ACET = base_df1.merge(gmm_df, right_index=True, left_index=True, suffixes=(\"_sep\", \"_joint\"))"
   ]
  },
  {
   "cell_type": "code",
   "execution_count": null,
   "metadata": {},
   "outputs": [],
   "source": [
    "df_ACET"
   ]
  },
  {
   "cell_type": "code",
   "execution_count": 13,
   "metadata": {},
   "outputs": [
    {
     "data": {
      "text/html": [
       "<div>\n",
       "<style scoped>\n",
       "    .dataframe tbody tr th:only-of-type {\n",
       "        vertical-align: middle;\n",
       "    }\n",
       "\n",
       "    .dataframe tbody tr th {\n",
       "        vertical-align: top;\n",
       "    }\n",
       "\n",
       "    .dataframe thead th {\n",
       "        text-align: right;\n",
       "    }\n",
       "</style>\n",
       "<table border=\"1\" class=\"dataframe\">\n",
       "  <thead>\n",
       "    <tr style=\"text-align: right;\">\n",
       "      <th></th>\n",
       "      <th>MMC</th>\n",
       "      <th>AUROC</th>\n",
       "      <th>FPR@95</th>\n",
       "    </tr>\n",
       "    <tr>\n",
       "      <th>DataSet</th>\n",
       "      <th></th>\n",
       "      <th></th>\n",
       "      <th></th>\n",
       "    </tr>\n",
       "  </thead>\n",
       "  <tbody>\n",
       "    <tr>\n",
       "      <th>MNIST</th>\n",
       "      <td>0.959555</td>\n",
       "      <td>-</td>\n",
       "      <td>-</td>\n",
       "    </tr>\n",
       "    <tr>\n",
       "      <th>FMNIST</th>\n",
       "      <td>0.445582</td>\n",
       "      <td>0.985282</td>\n",
       "      <td>0.0034</td>\n",
       "    </tr>\n",
       "    <tr>\n",
       "      <th>EMNIST</th>\n",
       "      <td>0.762707</td>\n",
       "      <td>0.891386</td>\n",
       "      <td>0.2232</td>\n",
       "    </tr>\n",
       "    <tr>\n",
       "      <th>GrayCIFAR10</th>\n",
       "      <td>0.113843</td>\n",
       "      <td>0.99997</td>\n",
       "      <td>0</td>\n",
       "    </tr>\n",
       "    <tr>\n",
       "      <th>Noise</th>\n",
       "      <td>0.100018</td>\n",
       "      <td>1</td>\n",
       "      <td>0</td>\n",
       "    </tr>\n",
       "    <tr>\n",
       "      <th>Adv. Noise</th>\n",
       "      <td>0.253791</td>\n",
       "      <td>0.994296</td>\n",
       "      <td>0.00588235</td>\n",
       "    </tr>\n",
       "    <tr>\n",
       "      <th>Adv. Sample</th>\n",
       "      <td>0.919499</td>\n",
       "      <td>0.613868</td>\n",
       "      <td>0.709804</td>\n",
       "    </tr>\n",
       "  </tbody>\n",
       "</table>\n",
       "</div>"
      ],
      "text/plain": [
       "                  MMC     AUROC      FPR@95\n",
       "DataSet                                    \n",
       "MNIST        0.959555         -           -\n",
       "FMNIST       0.445582  0.985282      0.0034\n",
       "EMNIST       0.762707  0.891386      0.2232\n",
       "GrayCIFAR10  0.113843   0.99997           0\n",
       "Noise        0.100018         1           0\n",
       "Adv. Noise   0.253791  0.994296  0.00588235\n",
       "Adv. Sample  0.919499  0.613868    0.709804"
      ]
     },
     "execution_count": 13,
     "metadata": {},
     "output_type": "execute_result"
    }
   ],
   "source": [
    "base_df1"
   ]
  },
  {
   "cell_type": "code",
   "execution_count": null,
   "metadata": {},
   "outputs": [],
   "source": [
    "data, label = enumerate(dl.MNIST_test_loader).__next__()[1]\n",
    "#data, label = enumerate(dl.Noise_loader).__next__()[1]\n",
    "\n",
    "\n",
    "y_base = gmm_model_joint(data.to(device))\n",
    "\n",
    "plotting.plot_samples([y_base], data.detach().cpu())\n",
    "\n",
    "data = adv.gen_adv_sample(gmm_model_joint, device, data, label, epsilon=0.3, step_size=0.01)\n",
    "\n",
    "y_base = gmm_model_joint(data.to(device))\n",
    "\n",
    "plotting.plot_samples([y_base], data.detach().cpu())"
   ]
  },
  {
   "cell_type": "code",
   "execution_count": 24,
   "metadata": {},
   "outputs": [
    {
     "data": {
      "image/png": "[encoded data removed]",
      "text/plain": [
       "<Figure size 432x288 with 10 Axes>"
      ]
     },
     "metadata": {},
     "output_type": "display_data"
    },
    {
     "name": "stdout",
     "output_type": "stream",
     "text": [
      "\n",
      "\n"
     ]
    },
    {
     "data": {
      "image/png": "[encoded data removed]",
      "text/plain": [
       "<Figure size 432x288 with 10 Axes>"
      ]
     },
     "metadata": {},
     "output_type": "display_data"
    },
    {
     "name": "stdout",
     "output_type": "stream",
     "text": [
      "\n",
      "\n"
     ]
    }
   ],
   "source": [
    "data, label = enumerate(dl.MNIST_test_loader).__next__()[1]\n",
    "#data, label = enumerate(dl.Noise_loader).__next__()[1]\n",
    "\n",
    "y_base = base_model(data.to(device))\n",
    "\n",
    "plotting.plot_samples([y_base], data.detach().cpu())\n",
    "\n",
    "data = adv.gen_adv_sample(base_model, device, data, label, epsilon=0.3, step_size=0.01)\n",
    "\n",
    "y_base = base_model(data.to(device))\n",
    "\n",
    "plotting.plot_samples([y_base], data.detach().cpu())"
   ]
  },
  {
   "cell_type": "code",
   "execution_count": null,
   "metadata": {},
   "outputs": [],
   "source": [
    "gmm_model_joint.loglam+=1."
   ]
  },
  {
   "cell_type": "code",
   "execution_count": null,
   "metadata": {},
   "outputs": [],
   "source": [
    "gmm_model_joint.loglam"
   ]
  },
  {
   "cell_type": "code",
   "execution_count": null,
   "metadata": {},
   "outputs": [],
   "source": []
  }
 ],
 "metadata": {
  "kernelspec": {
   "display_name": "Python 3",
   "language": "python",
   "name": "python3"
  },
  "language_info": {
   "codemirror_mode": {
    "name": "ipython",
    "version": 3
   },
   "file_extension": ".py",
   "mimetype": "text/x-python",
   "name": "python",
   "nbconvert_exporter": "python",
   "pygments_lexer": "ipython3",
   "version": "3.5.2"
  }
 },
 "nbformat": 4,
 "nbformat_minor": 2
}
