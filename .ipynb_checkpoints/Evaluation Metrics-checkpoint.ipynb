{
 "cells": [
  {
   "cell_type": "code",
   "execution_count": 289,
   "metadata": {},
   "outputs": [],
   "source": [
    "import torch\n",
    "import torch.nn as nn\n",
    "import torch.nn.functional as F\n",
    "import torch.optim as optim\n",
    "\n",
    "import numpy as np\n",
    "import pandas as pd\n",
    "import matplotlib.pyplot as plt\n",
    "\n",
    "from importlib import reload\n",
    "\n",
    "import models\n",
    "import plotting\n",
    "import dataloaders as dl\n",
    "import traintest as tt"
   ]
  },
  {
   "cell_type": "code",
   "execution_count": 2,
   "metadata": {},
   "outputs": [],
   "source": [
    "if torch.cuda.is_available():\n",
    "    device = torch.device('cuda')\n",
    "else:\n",
    "    device = torch.device('cpu')"
   ]
  },
  {
   "cell_type": "code",
   "execution_count": 443,
   "metadata": {},
   "outputs": [],
   "source": [
    "base_model = torch.load('SavedModels/base_model.pth').to(device)\n",
    "gmm_model = torch.load('SavedModels/gmm_model.pth').to(device)"
   ]
  },
  {
   "cell_type": "code",
   "execution_count": 184,
   "metadata": {},
   "outputs": [],
   "source": [
    "def test_metrics(model, device, in_loader, out_loader, thresholds=torch.linspace(.1, 1., 1000).to(device)):\n",
    "    with torch.no_grad():\n",
    "        model.eval()\n",
    "        conf_in = []\n",
    "        conf_out = []\n",
    "        count = 0.\n",
    "        for ((batch_idx, (data_in, _)), (_, (data_out, _))) in zip(enumerate(in_loader),enumerate(out_loader)):\n",
    "            count += 1\n",
    "            data_in = data_in.to(device)\n",
    "            data_out = data_out.to(device)\n",
    "\n",
    "            output_in = model(data_in).max(1)[0].exp()\n",
    "            output_out = model(data_out).max(1)[0].exp()\n",
    "\n",
    "            conf_in.append(output_in)\n",
    "            conf_out.append(output_out)\n",
    "        conf_in = torch.cat(conf_in)\n",
    "        conf_out = torch.cat(conf_out)\n",
    "        \n",
    "        tp = (conf_in[:,None] > thresholds[None,:]).sum(0).float()/(count*in_loader.batch_size)\n",
    "        fp = (conf_out[:,None] > thresholds[None,:]).sum(0).float()/(count*out_loader.batch_size)\n",
    "        \n",
    "        mmc = conf_out.mean().item()\n",
    "        auroc = -np.trapz(tp.cpu().numpy(), x=fp.cpu().numpy())\n",
    "        fp95 = ((conf_out > 0.95).sum().float()/(count*out_loader.batch_size)).item()\n",
    "        return mmc, auroc, fp95"
   ]
  },
  {
   "cell_type": "code",
   "execution_count": 345,
   "metadata": {},
   "outputs": [
    {
     "name": "stdout",
     "output_type": "stream",
     "text": [
      "0.5297605395317078\n",
      "0.5\n",
      "0.0\n"
     ]
    }
   ],
   "source": [
    "mmc, auroc, fp95 = test_metrics(base_model, device, dl.test_loader, dl.FMNIST_test_loader)\n",
    "print(mmc)\n",
    "print(auroc)\n",
    "print(fp95)"
   ]
  },
  {
   "cell_type": "code",
   "execution_count": 225,
   "metadata": {},
   "outputs": [
    {
     "name": "stdout",
     "output_type": "stream",
     "text": [
      "Files already downloaded and verified\n",
      "Files already downloaded and verified\n",
      "Files already downloaded and verified\n"
     ]
    },
    {
     "data": {
      "text/plain": [
       "<module 'dataloaders' from '/home/alexm/project/notebooks/gmm-robust/dataloaders.py'>"
      ]
     },
     "execution_count": 225,
     "metadata": {},
     "output_type": "execute_result"
    }
   ],
   "source": [
    "reload(dl)"
   ]
  },
  {
   "cell_type": "code",
   "execution_count": 261,
   "metadata": {},
   "outputs": [],
   "source": [
    "def evaluate_model(model, device, base_loader, loaders):\n",
    "    metrics = []\n",
    "    mmc, _, _ = test_metrics(model, device, base_loader, base_loader)\n",
    "    metrics.append(['MNIST', mmc, '-', '-'])\n",
    "    for (name, data_loader) in loaders:\n",
    "        mmc, auroc, fp95 = test_metrics(model, device, base_loader, data_loader)\n",
    "        metrics.append([name, mmc, auroc, fp95])\n",
    "    df = pd.DataFrame(metrics, columns = ['DataSet', 'MMC', 'AUROC', 'FPR@95'])\n",
    "    return df.set_index('DataSet')"
   ]
  },
  {
   "cell_type": "code",
   "execution_count": 438,
   "metadata": {},
   "outputs": [],
   "source": [
    "loaders = (\n",
    "[('EMNIST', dl.EMNIST_test_loader), \n",
    " ('FMNIST', dl.FMNIST_test_loader),\n",
    " ('GreyCIFAR10', dl.GreyCIFAR10_test_loader),\n",
    " ('Noise', dl.Noise_loader)]\n",
    ")"
   ]
  },
  {
   "cell_type": "code",
   "execution_count": null,
   "metadata": {},
   "outputs": [],
   "source": [
    "df = evaluate_model(base_model, device, dl.MNIST_test_loader, loaders)"
   ]
  },
  {
   "cell_type": "code",
   "execution_count": null,
   "metadata": {},
   "outputs": [],
   "source": [
    "df"
   ]
  },
  {
   "cell_type": "code",
   "execution_count": 315,
   "metadata": {},
   "outputs": [],
   "source": [
    "y_base = base_model(perturbed.to(device))\n",
    "y = gmm_model(perturbed.to(device))"
   ]
  },
  {
   "cell_type": "code",
   "execution_count": 316,
   "metadata": {},
   "outputs": [
    {
     "data": {
      "image/png": "[encoded data removed]",
      "text/plain": [
       "<Figure size 432x288 with 10 Axes>"
      ]
     },
     "metadata": {},
     "output_type": "display_data"
    },
    {
     "name": "stdout",
     "output_type": "stream",
     "text": [
      "\n",
      "\n"
     ]
    }
   ],
   "source": [
    "plotting.plot_samples([y_base, y], perturbed.detach().cpu())"
   ]
  },
  {
   "cell_type": "code",
   "execution_count": 287,
   "metadata": {},
   "outputs": [
    {
     "data": {
      "text/plain": [
       "<module 'traintest' from '/home/alexm/project/notebooks/gmm-robust/traintest.py'>"
      ]
     },
     "execution_count": 287,
     "metadata": {},
     "output_type": "execute_result"
    }
   ],
   "source": [
    "tt.train_adv(model, device, train_loader, optimizer, 0)"
   ]
  },
  {
   "cell_type": "code",
   "execution_count": 348,
   "metadata": {},
   "outputs": [
    {
     "name": "stdout",
     "output_type": "stream",
     "text": [
      "Train Epoch: 0 [0/60000 (0%)]\tLoss: 0.359271\n",
      "Train Epoch: 0 [10000/60000 (17%)]\tLoss: 2.532630\n",
      "Train Epoch: 0 [20000/60000 (33%)]\tLoss: 2.532842\n",
      "Train Epoch: 0 [30000/60000 (50%)]\tLoss: 2.532842\n",
      "Train Epoch: 0 [40000/60000 (67%)]\tLoss: 2.532846\n",
      "Train Epoch: 0 [50000/60000 (83%)]\tLoss: 2.532845\n"
     ]
    }
   ],
   "source": [
    "lr = .0001\n",
    "momentum = .9\n",
    "\n",
    "optimizer_base = optim.SGD(base_model.parameters(), lr=lr, momentum=momentum, weight_decay=0.005)\n",
    "for epoch in range(1):\n",
    "    optimizer_base.param_groups[0]['lr'] *= .8\n",
    "    tt.train_adv(base_model, device, dl.train_loader, optimizer_base, epoch)"
   ]
  },
  {
   "cell_type": "code",
   "execution_count": 311,
   "metadata": {},
   "outputs": [],
   "source": [
    "image = perturbed.to(device).requires_grad_()\n",
    "\n",
    "perturbed_image = image\n",
    "for _ in range(20):\n",
    "    y = base_model(perturbed_image)\n",
    "    #loss = -y.max(dim=1)[0].sum()\n",
    "    loss = -y.sum()\n",
    "    loss.backward()\n",
    "\n",
    "    with torch.no_grad():\n",
    "        perturbed_image += 0.001*image.grad\n",
    "        delta = perturbed_image-image\n",
    "        #delta /= delta.view((batch_size,784)).norm(p=norm, dim=1)[:,None,None,None]\n",
    "        #delta *= epsilon\n",
    "        perturbed_image = image + delta\n",
    "        perturbed_image = torch.clamp(perturbed_image, 0, 1)\n",
    "\n",
    "        perturbed_image = perturbed_image.detach()\n"
   ]
  },
  {
   "cell_type": "code",
   "execution_count": 340,
   "metadata": {},
   "outputs": [],
   "source": [
    "def ff(x):\n",
    "    x = (x-base_model.preproc)/base_model.preproc_std\n",
    "    x = F.relu(base_model.conv1(x))\n",
    "    x = F.max_pool2d(x, 2, 2)\n",
    "    x = F.relu(base_model.conv2(x))\n",
    "    x = F.max_pool2d(x, 2, 2)\n",
    "    x = x.view(-1, 4*4*64)\n",
    "    x = F.relu(base_model.fc1(x))\n",
    "    return x"
   ]
  },
  {
   "cell_type": "code",
   "execution_count": 341,
   "metadata": {},
   "outputs": [],
   "source": [
    "x = ff(image)"
   ]
  },
  {
   "cell_type": "code",
   "execution_count": 401,
   "metadata": {},
   "outputs": [],
   "source": [
    "shape = data.shape\n",
    "for x in data:\n",
    "    idx = torch.tensor(np.random.permutation(np.prod(shape[1:])))\n",
    "    x = (x.view(np.prod(shape[1:]))[idx]).view(shape[1:])\n"
   ]
  },
  {
   "cell_type": "code",
   "execution_count": 403,
   "metadata": {},
   "outputs": [],
   "source": [
    "idx = torch.tensor(np.random.permutation(np.prod(shape[1:])))"
   ]
  },
  {
   "cell_type": "code",
   "execution_count": 404,
   "metadata": {},
   "outputs": [],
   "source": [
    "x = (data[0].view(np.prod(shape[1:]))[idx]).view(shape[1:])"
   ]
  },
  {
   "cell_type": "code",
   "execution_count": null,
   "metadata": {},
   "outputs": [],
   "source": []
  }
 ],
 "metadata": {
  "kernelspec": {
   "display_name": "Python 3",
   "language": "python",
   "name": "python3"
  },
  "language_info": {
   "codemirror_mode": {
    "name": "ipython",
    "version": 3
   },
   "file_extension": ".py",
   "mimetype": "text/x-python",
   "name": "python",
   "nbconvert_exporter": "python",
   "pygments_lexer": "ipython3",
   "version": "3.5.2"
  }
 },
 "nbformat": 4,
 "nbformat_minor": 2
}
