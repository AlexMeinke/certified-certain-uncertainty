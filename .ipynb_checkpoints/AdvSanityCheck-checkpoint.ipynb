{
 "cells": [
  {
   "cell_type": "code",
   "execution_count": 1,
   "metadata": {},
   "outputs": [],
   "source": [
    "import torch\n",
    "import torch.nn as nn\n",
    "import torch.nn.functional as F\n",
    "import torch.optim as optim\n",
    "\n",
    "import matplotlib.pyplot as plt\n",
    "import numpy as np\n",
    "import pandas as pd\n",
    "import scipy\n",
    "from sklearn.metrics import roc_auc_score\n",
    "from sklearn import mixture, preprocessing, datasets\n",
    "\n",
    "from importlib import reload\n",
    "import matplotlib\n",
    "import matplotlib.pyplot as plt\n",
    "from matplotlib import patches\n",
    "\n",
    "import torch.utils.data as data_utils\n",
    "\n",
    "import utils.models as models\n",
    "import utils.plotting as plotting\n",
    "import utils.dataloaders as dl\n",
    "import utils.traintest as tt\n",
    "import utils.adversarial as adv\n",
    "import utils.eval as ev\n",
    "import model_params as params\n",
    "import utils.resnet_orig as resnet\n",
    "import utils.gmm_helpers as gmm_helpers\n",
    "\n",
    "import model_paths\n",
    "\n",
    "from tqdm import tqdm\n",
    "\n",
    "import utils.single_maha as maha"
   ]
  },
  {
   "cell_type": "code",
   "execution_count": 39,
   "metadata": {},
   "outputs": [],
   "source": [
    "device = torch.device('cuda:7')\n",
    "\n",
    "seed = torch.rand(20, 3, 32, 32, device=device)\n",
    "\n",
    "model = torch.load('SavedModels/base/base_CIFAR10_lr0.1_augm_flagTrue_train_typeACET_OUT_steps40.pth').to(device)\n",
    "ccu = torch.load('SavedModels/gmm__PCACIFAR10_lam0.0_n100_lr0.1_lrgmm1e-05_augm_flagTrue_train_typeCEDA_GMM_OUTgrad_vars mu var_OUT.pth').to(device)"
   ]
  },
  {
   "cell_type": "code",
   "execution_count": 8,
   "metadata": {},
   "outputs": [
    {
     "data": {
      "text/plain": [
       "tensor([[0.0098, 0.0098, 0.0097,  ..., 0.0099, 0.0098, 0.0104],\n",
       "        [0.0098, 0.0097, 0.0096,  ..., 0.0098, 0.0098, 0.0103],\n",
       "        [0.0099, 0.0099, 0.0098,  ..., 0.0100, 0.0098, 0.0104],\n",
       "        ...,\n",
       "        [0.0097, 0.0097, 0.0096,  ..., 0.0099, 0.0097, 0.0103],\n",
       "        [0.0098, 0.0098, 0.0097,  ..., 0.0099, 0.0097, 0.0102],\n",
       "        [0.0098, 0.0097, 0.0096,  ..., 0.0098, 0.0097, 0.0104]],\n",
       "       device='cuda:7', grad_fn=<ExpBackward>)"
      ]
     },
     "execution_count": 8,
     "metadata": {},
     "output_type": "execute_result"
    }
   ],
   "source": [
    "model(seed).exp()"
   ]
  },
  {
   "cell_type": "code",
   "execution_count": 40,
   "metadata": {},
   "outputs": [
    {
     "ename": "NameError",
     "evalue": "name 'model_list' is not defined",
     "output_type": "error",
     "traceback": [
      "\u001b[0;31m---------------------------------------------------------------------------\u001b[0m",
      "\u001b[0;31mNameError\u001b[0m                                 Traceback (most recent call last)",
      "\u001b[0;32m<ipython-input-40-2b5e16a9ae08>\u001b[0m in \u001b[0;36m<module>\u001b[0;34m()\u001b[0m\n\u001b[1;32m     24\u001b[0m \u001b[0;34m\u001b[0m\u001b[0m\n\u001b[1;32m     25\u001b[0m \u001b[0mbatch_stats\u001b[0m \u001b[0;34m=\u001b[0m \u001b[0;34m[\u001b[0m\u001b[0;34m]\u001b[0m\u001b[0;34m\u001b[0m\u001b[0m\n\u001b[0;32m---> 26\u001b[0;31m \u001b[0;32mfor\u001b[0m \u001b[0mi\u001b[0m\u001b[0;34m,\u001b[0m \u001b[0mmodel\u001b[0m \u001b[0;32min\u001b[0m \u001b[0menumerate\u001b[0m\u001b[0;34m(\u001b[0m\u001b[0mmodel_list\u001b[0m\u001b[0;34m)\u001b[0m\u001b[0;34m:\u001b[0m\u001b[0;34m\u001b[0m\u001b[0m\n\u001b[0m\u001b[1;32m     27\u001b[0m     \u001b[0mmodel\u001b[0m\u001b[0;34m.\u001b[0m\u001b[0meval\u001b[0m\u001b[0;34m(\u001b[0m\u001b[0;34m)\u001b[0m\u001b[0;34m\u001b[0m\u001b[0m\n\u001b[1;32m     28\u001b[0m     adv_noise, _ = adv.gen_pca_noise(model, device, seed, pca, \n",
      "\u001b[0;31mNameError\u001b[0m: name 'model_list' is not defined"
     ]
    }
   ],
   "source": [
    "gmm = ccu.mm\n",
    "gmm_out = ccu.mm_out\n",
    "shape = (3, 32, 32)\n",
    "lam = 1.\n",
    "classes = 10\n",
    "\n",
    "pca = models.MyPCA(gmm.metric.comp_vecs.t(), gmm.metric.singular_values, shape)\n",
    "\n",
    "f = 1.1\n",
    "b = lam * (f-1.) / (classes-f)\n",
    "\n",
    "bounds = []\n",
    "batch_samples = []\n",
    "\n",
    "for x in seed:\n",
    "    a = gmm_helpers.get_b_out(0., x, gmm, gmm_out, b)\n",
    "    if a>=0:\n",
    "        bounds.append(0.)\n",
    "    else:\n",
    "        bounds.append( scipy.optimize.brentq(gmm_helpers.get_b_out, 0, \n",
    "                                               10000., args = (x, gmm, gmm_out, b),\n",
    "                                                  maxiter=10000) )\n",
    "bounds = torch.tensor(bounds, device=device)\n",
    "\n",
    "batch_stats = []\n",
    "for i, model in enumerate(model_list):\n",
    "    model.eval()\n",
    "    adv_noise, _ = adv.gen_pca_noise(model, device, seed, pca, \n",
    "                                     epsilon=bounds, perturb=True, \n",
    "                                     restarts=restarts, steps=steps, alpha=alpha)\n",
    "    out = model(adv_noise).max(1)[0].detach().cpu().clone()\n",
    "\n",
    "    batch_stats.append(out)\n",
    "    batch_samples.append(adv_noise.detach().cpu())\n",
    "\n",
    "seeds.append(seed.cpu())\n",
    "\n",
    "batch_samples = torch.stack(batch_samples, 0)\n",
    "batch_stats = torch.stack(batch_stats, 0)\n",
    "stats.append(batch_stats.clone())\n",
    "samples.append(batch_samples.clone())\n"
   ]
  },
  {
   "cell_type": "code",
   "execution_count": 20,
   "metadata": {},
   "outputs": [],
   "source": [
    "bounds = batch_bounds"
   ]
  },
  {
   "cell_type": "code",
   "execution_count": 77,
   "metadata": {},
   "outputs": [],
   "source": [
    "pca = models.MyPCA(gmm.metric.comp_vecs.t(), 0*gmm.metric.singular_values+1, shape)"
   ]
  },
  {
   "cell_type": "code",
   "execution_count": 78,
   "metadata": {},
   "outputs": [],
   "source": [
    "model.eval()\n",
    "\n",
    "steps = 200\n",
    "restarts = 10\n",
    "alpha = 100.\n",
    "\n",
    "adv_noise, _ = adv.gen_pca_noise(model, device, seed, pca, \n",
    "                                     epsilon=10.*bounds, perturb=True, \n",
    "                                     restarts=restarts, steps=steps, alpha=alpha)"
   ]
  },
  {
   "cell_type": "code",
   "execution_count": 79,
   "metadata": {},
   "outputs": [
    {
     "data": {
      "text/plain": [
       "tensor([[[[-0.1773,  0.1848, -0.0886,  ..., -0.0307,  0.3540, -0.2798],\n",
       "          [-0.2114, -0.4174,  0.7558,  ...,  0.0967, -0.5991,  0.2180],\n",
       "          [-0.2553,  0.2616,  0.1418,  ..., -0.9224, -0.5343, -0.0955],\n",
       "          ...,\n",
       "          [-0.3125,  0.1335,  0.2057,  ...,  0.2057,  0.3304,  0.5103],\n",
       "          [ 0.4472, -0.2489, -0.8758,  ...,  0.1148,  0.0430, -0.0550],\n",
       "          [-0.0322,  0.2527, -0.4170,  ..., -0.2064,  0.1534,  0.2273]],\n",
       "\n",
       "         [[ 0.3878,  0.0750, -0.3348,  ..., -0.4464,  0.1637, -0.7903],\n",
       "          [ 0.0204, -0.3816,  0.7036,  ..., -0.3340,  0.3841,  0.9611],\n",
       "          [ 0.0935,  0.1991,  0.3394,  ..., -0.2076, -0.3462, -0.2072],\n",
       "          ...,\n",
       "          [ 0.2745,  0.3691,  0.1749,  ...,  0.8059, -0.1501,  0.3818],\n",
       "          [ 0.2361,  0.4192, -0.3726,  ...,  0.0782,  0.3652,  0.5009],\n",
       "          [-0.0063, -0.3943, -0.2603,  ...,  0.0094, -0.1072, -0.0606]],\n",
       "\n",
       "         [[ 0.8221,  0.9811, -0.8067,  ..., -0.0242, -0.3604, -0.7565],\n",
       "          [ 0.1612,  0.0021,  0.1018,  ..., -0.0910,  0.9626,  0.1128],\n",
       "          [ 0.7043,  0.0327,  0.2118,  ..., -0.3448, -0.1661, -0.2513],\n",
       "          ...,\n",
       "          [ 0.5075, -0.1300,  0.1829,  ...,  0.4237, -0.2761, -0.0953],\n",
       "          [-0.2419, -0.7391,  0.0700,  ...,  0.3105,  0.6389, -0.1943],\n",
       "          [-0.4793,  0.4323, -0.1925,  ...,  0.3088,  0.2626, -0.6522]]],\n",
       "\n",
       "\n",
       "        [[[-0.0023,  0.4056, -0.7255,  ...,  0.0485,  0.5108, -0.1539],\n",
       "          [-0.0752,  0.2706,  0.2811,  ...,  0.6448,  0.4206,  0.7047],\n",
       "          [ 0.6093, -0.1970,  0.7200,  ...,  0.0917,  0.1092, -0.0964],\n",
       "          ...,\n",
       "          [-0.0706,  0.3932, -0.0581,  ..., -0.2876, -0.4858, -0.8471],\n",
       "          [-0.0992,  0.3150, -0.3936,  ...,  0.3828,  0.0718,  0.0656],\n",
       "          [-0.4714, -0.1121,  0.2209,  ..., -0.3427, -0.1988, -0.0345]],\n",
       "\n",
       "         [[ 0.1381,  0.4752,  0.5044,  ..., -0.5386,  0.1127, -0.6237],\n",
       "          [-0.4609, -0.0093, -0.0073,  ..., -0.7785,  0.3000,  0.4673],\n",
       "          [ 0.1646, -0.2290,  0.6857,  ...,  0.3977, -0.2101, -0.7423],\n",
       "          ...,\n",
       "          [-0.0867, -0.0334, -0.8242,  ..., -0.2126, -0.0061, -0.2218],\n",
       "          [-0.6076, -0.0585,  0.0115,  ...,  0.2968, -0.2555, -0.0194],\n",
       "          [-0.2014, -0.1932, -0.2907,  ..., -0.2635,  0.2864, -0.2349]],\n",
       "\n",
       "         [[-0.1553,  0.4573, -0.3787,  ...,  0.1372, -0.1677, -0.2683],\n",
       "          [-0.1349,  0.7131, -0.1622,  ..., -0.0901,  0.2107,  0.5583],\n",
       "          [ 0.3506, -0.0903,  0.6721,  ..., -0.4861,  0.0103,  0.0695],\n",
       "          ...,\n",
       "          [ 0.0479, -0.0153, -0.7623,  ...,  0.2857, -0.0738,  0.1695],\n",
       "          [-0.0992,  0.9949,  0.2817,  ...,  0.7951,  0.0439, -0.3943],\n",
       "          [-0.3403,  0.2408, -0.3414,  ..., -0.2323, -0.5704,  0.0406]]],\n",
       "\n",
       "\n",
       "        [[[-0.2298, -0.1850, -0.1241,  ..., -0.0943,  0.1587, -0.3023],\n",
       "          [ 0.4330, -0.1022,  0.0255,  ...,  0.9236,  0.5081, -0.1786],\n",
       "          [-0.9070,  0.4320,  0.6663,  ..., -0.1843,  0.2120,  0.0322],\n",
       "          ...,\n",
       "          [-0.4651,  0.8827, -0.5285,  ...,  0.7046, -0.4614, -0.0064],\n",
       "          [ 0.5459, -0.8892, -0.5911,  ...,  0.1717, -0.2939, -0.2499],\n",
       "          [-0.0535,  0.0254,  0.3848,  ...,  0.3249,  0.0049, -0.9170]],\n",
       "\n",
       "         [[-0.4590, -0.3365, -0.7570,  ..., -0.1197,  0.2632, -0.1949],\n",
       "          [ 0.3654,  0.1333,  0.4395,  ...,  0.3055, -0.1982, -0.0404],\n",
       "          [-0.4633, -0.8993, -0.5372,  ..., -0.0178,  0.0715,  0.8213],\n",
       "          ...,\n",
       "          [ 0.3701, -0.0441, -0.1789,  ...,  0.6035, -0.3952,  0.2258],\n",
       "          [-0.4887, -0.0941,  0.3970,  ..., -0.2705, -0.3589,  0.5202],\n",
       "          [-0.1971, -0.5690,  0.2084,  ..., -0.2889,  0.1356,  0.0952]],\n",
       "\n",
       "         [[-0.2036, -0.0153, -0.1822,  ..., -0.4918, -0.0064,  0.6525],\n",
       "          [ 0.9261,  0.3481,  0.3303,  ...,  0.0520,  0.1423, -0.2665],\n",
       "          [ 0.6459, -0.1302, -0.0070,  ..., -0.0389,  0.6381, -0.3795],\n",
       "          ...,\n",
       "          [-0.2148,  0.1337, -0.3644,  ...,  0.0620,  0.7133,  0.6522],\n",
       "          [-0.5998, -0.7184, -0.0196,  ...,  0.2774,  0.0424,  0.3373],\n",
       "          [ 0.1912, -0.5394, -0.7120,  ..., -0.4643, -0.1604,  0.0507]]],\n",
       "\n",
       "\n",
       "        ...,\n",
       "\n",
       "\n",
       "        [[[ 0.0421, -0.2895, -0.4394,  ...,  0.7734, -0.3789, -0.2264],\n",
       "          [-0.7944, -0.0262,  0.3046,  ...,  0.1159, -0.2958, -0.1577],\n",
       "          [ 0.3190,  0.5289, -0.7784,  ...,  0.1269, -0.7581, -0.1016],\n",
       "          ...,\n",
       "          [-0.9143, -0.1536,  0.5292,  ...,  0.1555,  0.0517, -0.0830],\n",
       "          [ 0.1591, -0.0817,  0.2518,  ..., -0.3269,  0.4563,  0.7736],\n",
       "          [ 0.9255,  0.3135,  0.2051,  ..., -0.5723, -0.3531,  0.0595]],\n",
       "\n",
       "         [[ 0.1247,  0.0050, -0.2872,  ..., -0.3484, -0.9688,  0.0234],\n",
       "          [-0.3317, -0.4680, -0.1326,  ...,  0.2471, -0.1366,  0.1116],\n",
       "          [ 0.4045, -0.3439, -0.3307,  ...,  0.3774, -0.6734, -0.7089],\n",
       "          ...,\n",
       "          [ 0.2191,  0.5843, -0.3230,  ..., -0.0107, -0.0918, -0.0639],\n",
       "          [-0.2098,  0.3722,  0.2320,  ...,  0.1765,  0.3149, -0.0088],\n",
       "          [ 0.8300, -0.2533, -0.1997,  ..., -0.1294,  0.0017,  0.0680]],\n",
       "\n",
       "         [[ 0.1423,  0.1911,  0.6214,  ..., -0.0192,  0.0409,  0.2223],\n",
       "          [ 0.4766,  0.3877,  0.6496,  ...,  0.0796,  0.4146, -0.1120],\n",
       "          [ 0.3269,  0.1272,  0.3413,  ...,  0.1673, -0.3023,  0.5074],\n",
       "          ...,\n",
       "          [ 0.7219,  0.8557, -0.5674,  ...,  0.3436,  0.1229,  0.2412],\n",
       "          [-0.1195, -0.6404,  0.0136,  ...,  0.2541, -0.0665, -0.6807],\n",
       "          [-0.0549, -0.1087, -0.2120,  ..., -0.0754, -0.1545, -0.1682]]],\n",
       "\n",
       "\n",
       "        [[[ 0.0324, -0.0030, -0.5785,  ...,  0.1436,  0.1789,  0.5659],\n",
       "          [-0.7504,  0.3239,  0.0692,  ..., -0.5150, -0.0167, -0.7290],\n",
       "          [-0.4631, -0.4940,  0.1876,  ...,  0.7303,  0.5637,  0.1666],\n",
       "          ...,\n",
       "          [ 0.2953,  0.1392, -0.0549,  ..., -0.7777, -0.1855,  0.1411],\n",
       "          [ 0.2006,  0.1281, -0.0330,  ..., -0.2680, -0.1439,  0.7617],\n",
       "          [ 0.3893,  0.0058,  0.4434,  ..., -0.9491, -0.5512,  0.3069]],\n",
       "\n",
       "         [[ 0.2275, -0.2042, -0.0615,  ...,  0.5228,  0.6587,  0.2612],\n",
       "          [ 0.3492,  0.8619,  0.1378,  ...,  0.4054,  0.0350, -0.9922],\n",
       "          [-0.1712,  0.5180,  0.6946,  ...,  0.5530,  0.6368,  0.1664],\n",
       "          ...,\n",
       "          [-0.1300, -0.3134, -0.2540,  ...,  0.2534, -0.0924, -0.0129],\n",
       "          [-0.0540, -0.1562,  0.1827,  ..., -0.0293, -0.4701,  0.5721],\n",
       "          [-0.3567,  0.0652, -0.1252,  ..., -0.6604, -0.5783, -0.1365]],\n",
       "\n",
       "         [[ 0.3025,  0.3598, -0.7763,  ..., -0.0871,  0.3401,  0.3718],\n",
       "          [ 0.1802,  0.5255,  0.0513,  ...,  0.2633, -0.8803, -0.7900],\n",
       "          [-0.0993,  0.7038, -0.0750,  ..., -0.1765,  0.3616,  0.2303],\n",
       "          ...,\n",
       "          [ 0.6137, -0.2474, -0.1460,  ...,  0.4595, -0.3377,  0.0241],\n",
       "          [ 0.4769, -0.0542, -0.4158,  ..., -0.0203, -0.4296,  0.0880],\n",
       "          [-0.4024,  0.1445,  0.5971,  ..., -0.2162,  0.1152,  0.6285]]],\n",
       "\n",
       "\n",
       "        [[[-0.0060,  0.4644,  0.2384,  ...,  0.4273,  0.1274,  0.1851],\n",
       "          [ 0.3878,  0.1336,  0.0709,  ...,  0.2943, -0.1833,  0.4310],\n",
       "          [ 0.2422, -0.6446, -0.9561,  ..., -0.1614, -0.0591, -0.2222],\n",
       "          ...,\n",
       "          [ 0.0860,  0.0176,  0.0166,  ..., -0.0708, -0.1150,  0.0095],\n",
       "          [-0.3584,  0.8762,  0.3581,  ..., -0.4350, -0.5230, -0.1156],\n",
       "          [-0.1988, -0.2494, -0.4858,  ...,  0.9822,  0.3016,  0.4873]],\n",
       "\n",
       "         [[-0.4351, -0.2562,  0.3611,  ...,  0.4499,  0.2342,  0.1523],\n",
       "          [ 0.2935,  0.3072,  0.6551,  ..., -0.1919, -0.4552,  0.3544],\n",
       "          [-0.1291, -0.0053, -0.2712,  ..., -0.1909,  0.5504,  0.0729],\n",
       "          ...,\n",
       "          [-0.2035, -0.6284,  0.3517,  ..., -0.2554,  0.0381,  0.0955],\n",
       "          [-0.5811,  0.4034,  0.7399,  ...,  0.1479, -0.5111,  0.5036],\n",
       "          [-0.0556, -0.2048,  0.1149,  ...,  0.1997,  0.1222, -0.0208]],\n",
       "\n",
       "         [[-0.3113, -0.0142,  0.1404,  ...,  0.3540,  0.1738,  0.4550],\n",
       "          [-0.1062,  0.3955, -0.7788,  ..., -0.3138, -0.7492, -0.6830],\n",
       "          [-0.0361, -0.7759,  0.4121,  ...,  0.1872,  0.4095,  0.1349],\n",
       "          ...,\n",
       "          [-0.6447, -0.2060, -0.1896,  ..., -0.4262,  0.1779, -0.2410],\n",
       "          [-0.1307,  0.0028, -0.4587,  ...,  0.1828, -0.0377, -0.0927],\n",
       "          [ 0.2943, -0.0182,  0.6260,  ...,  0.4792, -0.0153, -0.2405]]]],\n",
       "       device='cuda:7')"
      ]
     },
     "execution_count": 79,
     "metadata": {},
     "output_type": "execute_result"
    }
   ],
   "source": [
    "adv_noise-seed"
   ]
  },
  {
   "cell_type": "code",
   "execution_count": 91,
   "metadata": {},
   "outputs": [
    {
     "data": {
      "text/plain": [
       "tensor([0.1006, 0.1006, 0.1007, 0.1006, 0.1006, 0.1009, 0.1006, 0.1008, 0.1006,\n",
       "        0.1007, 0.1007, 0.1008, 0.1007, 0.1008, 0.1006, 0.1008, 0.1007, 0.1005,\n",
       "        0.1005, 0.1007], device='cuda:7', grad_fn=<ExpBackward>)"
      ]
     },
     "execution_count": 91,
     "metadata": {},
     "output_type": "execute_result"
    }
   ],
   "source": [
    "model(seed).max(1)[0].exp()"
   ]
  },
  {
   "cell_type": "code",
   "execution_count": 89,
   "metadata": {},
   "outputs": [
    {
     "data": {
      "text/plain": [
       "tensor([0.1127, 0.1144, 0.1149, 0.1149, 0.1166, 0.1140, 0.1140, 0.1144, 0.1152,\n",
       "        0.1140, 0.1145, 0.1175, 0.1160, 0.1156, 0.1145, 0.1150, 0.1160, 0.1157,\n",
       "        0.1147, 0.1146], device='cuda:7', grad_fn=<ExpBackward>)"
      ]
     },
     "execution_count": 89,
     "metadata": {},
     "output_type": "execute_result"
    }
   ],
   "source": [
    "model(adv_noise).max(1)[0].exp()"
   ]
  },
  {
   "cell_type": "code",
   "execution_count": 92,
   "metadata": {},
   "outputs": [],
   "source": [
    "data, label = next(iter(dl.CIFAR10(train=False)))\n",
    "data = data.to(device)\n",
    "label = label.to(device)"
   ]
  },
  {
   "cell_type": "code",
   "execution_count": 120,
   "metadata": {},
   "outputs": [],
   "source": [
    "orig_conf, orig_pred = model(data).exp().max(1)"
   ]
  },
  {
   "cell_type": "code",
   "execution_count": 131,
   "metadata": {},
   "outputs": [],
   "source": [
    "out = adv.gen_adv_sample(model, device, data, label.cpu(), epsilon=0.3, steps=100, step_size=0.01)"
   ]
  },
  {
   "cell_type": "code",
   "execution_count": 134,
   "metadata": {},
   "outputs": [],
   "source": [
    "conf, pred = model(out).exp().max(1)"
   ]
  },
  {
   "cell_type": "code",
   "execution_count": 135,
   "metadata": {
    "collapsed": true
   },
   "outputs": [
    {
     "name": "stderr",
     "output_type": "stream",
     "text": [
      "Clipping input data to the valid range for imshow with RGB data ([0..1] for floats or [0..255] for integers).\n"
     ]
    },
    {
     "data": {
      "image/png": "[encoded data removed]",
      "text/plain": [
       "<Figure size 432x288 with 1 Axes>"
      ]
     },
     "metadata": {},
     "output_type": "display_data"
    },
    {
     "data": {
      "text/plain": [
       "<matplotlib.image.AxesImage at 0x7f974c33b2b0>"
      ]
     },
     "execution_count": 135,
     "metadata": {},
     "output_type": "execute_result"
    },
    {
     "data": {
      "image/png": "[encoded data removed]",
      "text/plain": [
       "<Figure size 432x288 with 1 Axes>"
      ]
     },
     "metadata": {},
     "output_type": "display_data"
    }
   ],
   "source": [
    "plt.imshow(data[0].detach().cpu().permute(1,2,0))\n",
    "plt.show()\n",
    "plt.imshow(out[0].detach().cpu().permute(1,2,0))"
   ]
  },
  {
   "cell_type": "code",
   "execution_count": 132,
   "metadata": {},
   "outputs": [],
   "source": [
    "device = torch.device('cuda:7')\n",
    "model = torch.load('SavedModels/base/base_CIFAR10_lr0.1_augm_flagTrue_train_typeplain.pth').to(device)\n",
    "model = model.eval()"
   ]
  },
  {
   "cell_type": "code",
   "execution_count": 133,
   "metadata": {},
   "outputs": [],
   "source": [
    "base_model = maha.ResNet18(num_of_channels=3, num_classes=10)"
   ]
  },
  {
   "cell_type": "code",
   "execution_count": 134,
   "metadata": {},
   "outputs": [],
   "source": [
    "base_model.load_state_dict(model.state_dict())\n",
    "base_model = base_model.eval().to(device)"
   ]
  },
  {
   "cell_type": "code",
   "execution_count": 6,
   "metadata": {},
   "outputs": [],
   "source": [
    "loader = dl.CIFAR10(train=False)"
   ]
  },
  {
   "cell_type": "code",
   "execution_count": 122,
   "metadata": {},
   "outputs": [],
   "source": [
    "import utils.single_maha as maha"
   ]
  },
  {
   "cell_type": "code",
   "execution_count": 29,
   "metadata": {},
   "outputs": [],
   "source": [
    "data, label = next(iter(loader))\n",
    "data = data.to(device)\n",
    "label = label.to(device)"
   ]
  },
  {
   "cell_type": "code",
   "execution_count": 70,
   "metadata": {},
   "outputs": [
    {
     "data": {
      "text/plain": [
       "tensor(0.9400, device='cuda:7')"
      ]
     },
     "execution_count": 70,
     "metadata": {},
     "output_type": "execute_result"
    }
   ],
   "source": [
    "(model(data).max(1)[1] == label).float().mean()"
   ]
  },
  {
   "cell_type": "code",
   "execution_count": 96,
   "metadata": {},
   "outputs": [
    {
     "name": "stderr",
     "output_type": "stream",
     "text": [
      "100%|██████████| 100/100 [00:02<00:00, 45.18it/s]\n",
      "100%|██████████| 100/100 [00:03<00:00, 27.25it/s]\n"
     ]
    }
   ],
   "source": [
    "means = get_layer_stats(base_model, device, loader, 10)"
   ]
  },
  {
   "cell_type": "code",
   "execution_count": 8,
   "metadata": {},
   "outputs": [],
   "source": [
    "out = base_model(data)"
   ]
  },
  {
   "cell_type": "code",
   "execution_count": 99,
   "metadata": {},
   "outputs": [],
   "source": [
    "cov = means[1]"
   ]
  },
  {
   "cell_type": "code",
   "execution_count": 10,
   "metadata": {},
   "outputs": [],
   "source": [
    "class_num = ((torch.tensor(loader.dataset.targets)[:,None]\n",
    "              == torch.arange(10)[None,:])).float().sum(0)"
   ]
  },
  {
   "cell_type": "code",
   "execution_count": 106,
   "metadata": {},
   "outputs": [
    {
     "name": "stdout",
     "output_type": "stream",
     "text": [
      "tensor([[0.9504, 0.1054, 0.0727],\n",
      "        [0.1054, 1.7589, 0.2390],\n",
      "        [0.0727, 0.2390, 0.8703]], device='cuda:7')\n"
     ]
    }
   ],
   "source": [
    "print(cov[:3,:3].inverse())"
   ]
  },
  {
   "cell_type": "code",
   "execution_count": 126,
   "metadata": {},
   "outputs": [],
   "source": [
    "def get_layer_stats(model, device, loader, classes):\n",
    "    model.eval()\n",
    "\n",
    "    class_num = ((torch.tensor(loader.dataset.targets)[:,None]\n",
    "                  == torch.arange(10)[None,:]).sum(0).float()).to(device)\n",
    "    \n",
    "    data = next(iter(loader))[0].to(device)\n",
    "    dim = base_model.penultimate(data).shape[1]\n",
    "    \n",
    "    with torch.no_grad():\n",
    "        \n",
    "        means = torch.zeros(classes, dim, device=device)\n",
    "\n",
    "        for data, label in tqdm(loader):\n",
    "            data, label = data.to(device), label.to(device)\n",
    "            idx = (label[:,None] == torch.arange(classes, device=device)[None,:])\n",
    "            idx = idx.float()[:,:,None]\n",
    "            out = model.penultimate(data)[:,None,:]\n",
    "            means += (out * idx).sum(0)\n",
    "\n",
    "        means /= class_num\n",
    "\n",
    "        cov = torch.zeros(classes, classes, device=device)\n",
    "        for data, label in tqdm(loader):\n",
    "            data = data.to(device)\n",
    "            label = label.to(device)\n",
    "\n",
    "            diff = (model.penultimate(data) - means[label])\n",
    "\n",
    "            cov += (diff[:,None,:] * diff[:,:,None]).sum(0)\n",
    "\n",
    "\n",
    "        cov /= len(loader.dataset)\n",
    "    return means, cov"
   ]
  },
  {
   "cell_type": "code",
   "execution_count": 135,
   "metadata": {},
   "outputs": [
    {
     "name": "stderr",
     "output_type": "stream",
     "text": [
      "  0%|          | 0/100 [00:00<?, ?it/s]\n"
     ]
    },
    {
     "ename": "RuntimeError",
     "evalue": "The size of tensor a (10) must match the size of tensor b (8192) at non-singleton dimension 1",
     "output_type": "error",
     "traceback": [
      "\u001b[0;31m---------------------------------------------------------------------------\u001b[0m",
      "\u001b[0;31mRuntimeError\u001b[0m                              Traceback (most recent call last)",
      "\u001b[0;32m<ipython-input-135-6446b2151d4a>\u001b[0m in \u001b[0;36m<module>\u001b[0;34m()\u001b[0m\n\u001b[0;32m----> 1\u001b[0;31m \u001b[0mget_layer_stats\u001b[0m\u001b[0;34m(\u001b[0m\u001b[0mbase_model\u001b[0m\u001b[0;34m,\u001b[0m \u001b[0mdevice\u001b[0m\u001b[0;34m,\u001b[0m \u001b[0mloader\u001b[0m\u001b[0;34m,\u001b[0m \u001b[0;36m10\u001b[0m\u001b[0;34m)\u001b[0m\u001b[0;34m\u001b[0m\u001b[0m\n\u001b[0m",
      "\u001b[0;32m<ipython-input-126-080a49090159>\u001b[0m in \u001b[0;36mget_layer_stats\u001b[0;34m(model, device, loader, classes)\u001b[0m\n\u001b[1;32m     15\u001b[0m             \u001b[0midx\u001b[0m \u001b[0;34m=\u001b[0m \u001b[0midx\u001b[0m\u001b[0;34m.\u001b[0m\u001b[0mfloat\u001b[0m\u001b[0;34m(\u001b[0m\u001b[0;34m)\u001b[0m\u001b[0;34m[\u001b[0m\u001b[0;34m:\u001b[0m\u001b[0;34m,\u001b[0m\u001b[0;34m:\u001b[0m\u001b[0;34m,\u001b[0m\u001b[0;32mNone\u001b[0m\u001b[0;34m]\u001b[0m\u001b[0;34m\u001b[0m\u001b[0m\n\u001b[1;32m     16\u001b[0m             \u001b[0mout\u001b[0m \u001b[0;34m=\u001b[0m \u001b[0mmodel\u001b[0m\u001b[0;34m.\u001b[0m\u001b[0mpenultimate\u001b[0m\u001b[0;34m(\u001b[0m\u001b[0mdata\u001b[0m\u001b[0;34m)\u001b[0m\u001b[0;34m[\u001b[0m\u001b[0;34m:\u001b[0m\u001b[0;34m,\u001b[0m\u001b[0;32mNone\u001b[0m\u001b[0;34m,\u001b[0m\u001b[0;34m:\u001b[0m\u001b[0;34m]\u001b[0m\u001b[0;34m\u001b[0m\u001b[0m\n\u001b[0;32m---> 17\u001b[0;31m             \u001b[0mmeans\u001b[0m \u001b[0;34m+=\u001b[0m \u001b[0;34m(\u001b[0m\u001b[0mout\u001b[0m \u001b[0;34m*\u001b[0m \u001b[0midx\u001b[0m\u001b[0;34m)\u001b[0m\u001b[0;34m.\u001b[0m\u001b[0msum\u001b[0m\u001b[0;34m(\u001b[0m\u001b[0;36m0\u001b[0m\u001b[0;34m)\u001b[0m\u001b[0;34m\u001b[0m\u001b[0m\n\u001b[0m\u001b[1;32m     18\u001b[0m \u001b[0;34m\u001b[0m\u001b[0m\n\u001b[1;32m     19\u001b[0m         \u001b[0mmeans\u001b[0m \u001b[0;34m/=\u001b[0m \u001b[0mclass_num\u001b[0m\u001b[0;34m\u001b[0m\u001b[0m\n",
      "\u001b[0;31mRuntimeError\u001b[0m: The size of tensor a (10) must match the size of tensor b (8192) at non-singleton dimension 1"
     ]
    }
   ],
   "source": [
    "get_layer_stats(base_model, device, loader, 10)"
   ]
  },
  {
   "cell_type": "code",
   "execution_count": 43,
   "metadata": {},
   "outputs": [],
   "source": [
    "label = torch.zeros(label.shape[0], 10, \n",
    "                            device=device).scatter_(1, label[:,None], 1)"
   ]
  },
  {
   "cell_type": "code",
   "execution_count": 136,
   "metadata": {},
   "outputs": [
    {
     "data": {
      "text/plain": [
       "torch.Size([100, 8192])"
      ]
     },
     "execution_count": 136,
     "metadata": {},
     "output_type": "execute_result"
    }
   ],
   "source": [
    "base_model.penultimate(data).shape"
   ]
  },
  {
   "cell_type": "code",
   "execution_count": 137,
   "metadata": {},
   "outputs": [
    {
     "data": {
      "text/plain": [
       "8192"
      ]
     },
     "execution_count": 137,
     "metadata": {},
     "output_type": "execute_result"
    }
   ],
   "source": [
    "8192"
   ]
  },
  {
   "cell_type": "code",
   "execution_count": 131,
   "metadata": {},
   "outputs": [
    {
     "data": {
      "text/plain": [
       "<module 'utils.single_maha' from '/home/alexm/project/notebooks/gmm-robust/utils/single_maha.py'>"
      ]
     },
     "execution_count": 131,
     "metadata": {},
     "output_type": "execute_result"
    }
   ],
   "source": [
    "reload(maha)"
   ]
  },
  {
   "cell_type": "code",
   "execution_count": null,
   "metadata": {},
   "outputs": [],
   "source": []
  }
 ],
 "metadata": {
  "kernelspec": {
   "display_name": "Python 3",
   "language": "python",
   "name": "python3"
  },
  "language_info": {
   "codemirror_mode": {
    "name": "ipython",
    "version": 3
   },
   "file_extension": ".py",
   "mimetype": "text/x-python",
   "name": "python",
   "nbconvert_exporter": "python",
   "pygments_lexer": "ipython3",
   "version": "3.5.2"
  }
 },
 "nbformat": 4,
 "nbformat_minor": 2
}
