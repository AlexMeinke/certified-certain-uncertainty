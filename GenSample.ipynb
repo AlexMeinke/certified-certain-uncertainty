{
 "cells": [
  {
   "cell_type": "code",
   "execution_count": 1,
   "metadata": {},
   "outputs": [],
   "source": [
    "import torch\n",
    "import torch.nn as nn\n",
    "import torch.nn.functional as F\n",
    "import torch.optim as optim\n",
    "\n",
    "import matplotlib.pyplot as plt\n",
    "import numpy as np\n",
    "import pandas as pd\n",
    "import scipy\n",
    "from sklearn.metrics import roc_auc_score\n",
    "from sklearn import mixture, preprocessing, datasets\n",
    "\n",
    "from importlib import reload\n",
    "import matplotlib\n",
    "import matplotlib.pyplot as plt\n",
    "from matplotlib import patches\n",
    "\n",
    "import torch.utils.data as data_utils\n",
    "\n",
    "import utils.models as models\n",
    "import utils.plotting as plotting\n",
    "import utils.dataloaders as dl\n",
    "import utils.traintest as tt\n",
    "import utils.adversarial as adv\n",
    "import utils.eval as ev\n",
    "import model_params as params\n",
    "import utils.resnet_orig as resnet\n",
    "import utils.gmm_helpers as gmm_helpers\n",
    "\n",
    "import model_paths"
   ]
  },
  {
   "cell_type": "markdown",
   "metadata": {},
   "source": [
    "This notebook finds the best attack samples for a given dataset, using the statistics collecting in **gen_attack_stats.py**. In the file_dict below one has to specify the path name of the saved results, one wishes to select from.\n",
    "The output is a sample for each model in **model_paths.py**. All samples in a row are generated from the same seed."
   ]
  },
  {
   "cell_type": "code",
   "execution_count": 2,
   "metadata": {},
   "outputs": [],
   "source": [
    "dataset = 'MNIST'\n",
    "\n",
    "file_dict = {'MNIST' :'samples_steps200_alpha3.0_restarts10_batches10_batch_size100_MNIST_2019-06-11 07:41:24.005548_MNIST.pth',\n",
    "             'FMNIST':'samples_steps200_alpha3.0_restarts10_batches10_batch_size100_FMNIST_2019-06-11 08:05:12.188177_FMNIST.pth',\n",
    "             'SVHN' : 'samples_steps200_alpha3.0_restarts10_batches10_batch_size100_SVHN_2019-06-11 08:06:13.094571_SVHN.pth',\n",
    "             'CIFAR10':'samples_steps200_alpha3.0_restarts10_batches10_batch_size100_CIFAR10_2019-06-11 08:06:41.329635_CIFAR10.pth',\n",
    "             'CIFAR100' : 'samples_steps200_alpha3.0_restarts10_batches10_batch_size100_CIFAR100_2019-06-11 08:07:09.095861_CIFAR100.pth'\n",
    "            }\n",
    "\n",
    "file = file_dict[dataset]\n",
    "\n",
    "batch = torch.load('results/backup/' + file)\n",
    "\n",
    "model_params = params.params_dict[dataset]()\n",
    "model_path = model_paths.model_dict[dataset]() \n",
    "model_list = [torch.load(file).cpu().eval() for file in list(model_path.file_dict.values())]"
   ]
  },
  {
   "cell_type": "code",
   "execution_count": 3,
   "metadata": {},
   "outputs": [],
   "source": [
    "num_of_models = len(model_list)\n",
    "\n",
    "if dataset in ['MNIST', 'FMNIST']:\n",
    "    noise = batch.samples.transpose(0,1).contiguous().view(num_of_models, 1000, 1, 28, 28)\n",
    "elif dataset in ['CIFAR10', 'SVHN', 'CIFAR100']:\n",
    "    noise = batch.samples.transpose(0,1).contiguous().view(num_of_models, 1000, 3, 32, 32)\n",
    "    \n",
    "noise_list = []\n",
    "for i in range(num_of_models):\n",
    "    noise_list.append(noise[i])"
   ]
  },
  {
   "cell_type": "code",
   "execution_count": 4,
   "metadata": {},
   "outputs": [],
   "source": [
    "Y = [model(no).max(1) for (no, model) in zip(noise_list, model_list)]\n",
    "conf = [y[0][0].exp().item() for y in Y]\n",
    "pred = [y[1][0].item() for y in Y]"
   ]
  },
  {
   "cell_type": "code",
   "execution_count": 5,
   "metadata": {},
   "outputs": [],
   "source": [
    "conf = torch.stack([y[0] for y in Y], 0)\n",
    "index = conf.exp().sum(0).argmax()\n",
    "#index = 10\n",
    "\n",
    "if dataset in ['MNIST', 'FMNIST']:\n",
    "    seed = batch.seeds.view(-1,1,28,28)[index]\n",
    "elif dataset in ['CIFAR10', 'SVHN', 'CIFAR100']:\n",
    "    seed = batch.seeds.view(-1,3,32,32)[index]\n",
    "\n",
    "adv_noise = noise[:,index]"
   ]
  },
  {
   "cell_type": "code",
   "execution_count": 6,
   "metadata": {},
   "outputs": [
    {
     "data": {
      "image/png": "[encoded data removed]",
      "text/plain": [
       "<Figure size 432x288 with 5 Axes>"
      ]
     },
     "metadata": {},
     "output_type": "display_data"
    }
   ],
   "source": [
    "#plt.subplot(1, num_of_models, 1)\n",
    "#plt.ylabel(' ' + dataset + '\\n', rotation=90, horizontalalignment='left', va='center',\n",
    "#          fontsize=14, position=(0,0))\n",
    "\n",
    "#if dataset in ['MNIST', 'FMNIST']:\n",
    "#    plt.imshow(seed.squeeze().detach().cpu(), cmap='gray', interpolation='none')\n",
    "#elif dataset in ['CIFAR10', 'SVHN', 'CIFAR100']:\n",
    "#    plt.imshow(seed.transpose(0,2).transpose(0,1).detach().cpu(), interpolation='none')\n",
    "\n",
    "#plt.xticks([])\n",
    "#plt.yticks([])\n",
    "\n",
    "for i in range(num_of_models):\n",
    "    plt.subplot(1, num_of_models, 1 + i)\n",
    "    if i==0:\n",
    "        plt.ylabel(' ' + dataset + '\\n', rotation=90, horizontalalignment='left', va='center',\n",
    "                   fontsize=14, position=(0,0))\n",
    "        \n",
    "    if dataset in ['MNIST', 'SVHN']:\n",
    "        string = list(model_path.file_dict.keys())[i] + '\\n'\n",
    "    else:\n",
    "        string = ''\n",
    "\n",
    "    string += ( str(plotting.classes_dict[dataset][pred[i]] )\n",
    "               + \": %.2f\" % conf[i][index].exp().item() )\n",
    "\n",
    "    plt.title(string, fontsize=10)\n",
    "    plt.title(string)\n",
    "\n",
    "    if dataset in ['MNIST', 'FMNIST']:\n",
    "        plt.imshow(adv_noise[i].squeeze().detach().cpu(), cmap='gray', interpolation='none')\n",
    "    elif dataset in ['CIFAR10', 'SVHN', 'CIFAR100']:\n",
    "        plt.imshow(adv_noise[i].transpose(0,2).transpose(0,1).detach().cpu(), interpolation='none')\n",
    "    plt.xticks([])\n",
    "    plt.yticks([])\n",
    "    \n",
    "# plt.tight_layout()\n",
    "plt.subplots_adjust(left=None, bottom=None, right=None, top=None, wspace=.12, hspace=None)\n",
    "myplot = plt.gcf()"
   ]
  },
  {
   "cell_type": "code",
   "execution_count": 7,
   "metadata": {},
   "outputs": [],
   "source": [
    "myplot.savefig('results/' + dataset + '_sample' + '.eps', format='eps', \n",
    "               bbox_inches = 'tight', pad_inches = 0)"
   ]
  },
  {
   "cell_type": "code",
   "execution_count": null,
   "metadata": {},
   "outputs": [],
   "source": []
  }
 ],
 "metadata": {
  "kernelspec": {
   "display_name": "Python 3",
   "language": "python",
   "name": "python3"
  },
  "language_info": {
   "codemirror_mode": {
    "name": "ipython",
    "version": 3
   },
   "file_extension": ".py",
   "mimetype": "text/x-python",
   "name": "python",
   "nbconvert_exporter": "python",
   "pygments_lexer": "ipython3",
   "version": "3.5.2"
  }
 },
 "nbformat": 4,
 "nbformat_minor": 2
}
