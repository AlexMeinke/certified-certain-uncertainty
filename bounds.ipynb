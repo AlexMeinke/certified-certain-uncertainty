{
 "cells": [
  {
   "cell_type": "code",
   "execution_count": 20,
   "metadata": {},
   "outputs": [
    {
     "name": "stdout",
     "output_type": "stream",
     "text": [
      "The line_profiler extension is already loaded. To reload it, use:\n",
      "  %reload_ext line_profiler\n"
     ]
    }
   ],
   "source": [
    "import torch\n",
    "import torch.nn as nn\n",
    "import torch.nn.functional as F\n",
    "import torch.optim as optim\n",
    "\n",
    "import matplotlib.pyplot as plt\n",
    "import numpy as np\n",
    "import pandas as pd\n",
    "import scipy\n",
    "from sklearn.metrics import roc_auc_score\n",
    "\n",
    "from importlib import reload\n",
    "import matplotlib.pyplot as plt\n",
    "\n",
    "import utils.models as models\n",
    "import utils.plotting as plotting\n",
    "import utils.dataloaders as dl\n",
    "import utils.traintest as tt\n",
    "import utils.adversarial as adv\n",
    "import utils.eval as ev\n",
    "import model_params as params\n",
    "import utils.resnet_orig as resnet\n",
    "import utils.gmm_helpers as gmm_helpers\n",
    "import model_paths\n",
    "\n",
    "from tensorboardX import SummaryWriter\n",
    "%load_ext line_profiler"
   ]
  },
  {
   "cell_type": "code",
   "execution_count": 160,
   "metadata": {},
   "outputs": [],
   "source": [
    "def get_auroc(model_list, model_params, stats, device):\n",
    "    auroc = []\n",
    "    success_rate = []\n",
    "    conf_list = []\n",
    "    for i, model in enumerate(model_list):\n",
    "        with torch.no_grad():\n",
    "            conf = []\n",
    "            for data, _ in model_params.test_loader:\n",
    "                data = data.to(device)\n",
    "\n",
    "                output = model(data).max(1)[0].exp()\n",
    "\n",
    "                conf.append(output.cpu())\n",
    "\n",
    "        conf = torch.cat(conf, 0)\n",
    "\n",
    "        y_true = torch.cat([torch.ones_like(conf.cpu()), \n",
    "                            torch.zeros_like(stats[i])]).cpu().numpy()\n",
    "        y_scores = torch.cat([conf.cpu(), \n",
    "                              stats[i]]).cpu().numpy()\n",
    "        success_rate.append((stats[i] > conf.mean()).float().mean().item())\n",
    "        auroc.append(roc_auc_score(y_true, y_scores))\n",
    "        conf_list.append(conf)\n",
    "    return auroc, success_rate, conf_list"
   ]
  },
  {
   "cell_type": "code",
   "execution_count": 156,
   "metadata": {},
   "outputs": [],
   "source": [
    "steps = 200\n",
    "alpha = 1.\n",
    "restarts = 10\n",
    "batches = 10\n",
    "batch_size = 100"
   ]
  },
  {
   "cell_type": "code",
   "execution_count": 21,
   "metadata": {},
   "outputs": [
    {
     "name": "stderr",
     "output_type": "stream",
     "text": [
      "/usr/local/lib/python3.5/dist-packages/torch/serialization.py:435: SourceChangeWarning: source code of class 'torch.nn.modules.conv.Conv2d' has changed. you can retrieve the original source code by accessing the object's source attribute or set `torch.nn.Module.dump_patches = True` and use the patch tool to revert the changes.\n",
      "  warnings.warn(msg, SourceChangeWarning)\n",
      "/usr/local/lib/python3.5/dist-packages/torch/serialization.py:435: SourceChangeWarning: source code of class 'torch.nn.modules.linear.Linear' has changed. you can retrieve the original source code by accessing the object's source attribute or set `torch.nn.Module.dump_patches = True` and use the patch tool to revert the changes.\n",
      "  warnings.warn(msg, SourceChangeWarning)\n"
     ]
    }
   ],
   "source": [
    "dataset = 'MNIST'\n",
    "device = torch.device('cuda:7')\n",
    "\n",
    "model_params = params.params_dict[dataset]()\n",
    "model_path = model_paths.model_dict[dataset]() \n",
    "model_list = [torch.load(file).to(device) for file in model_path.files]\n",
    "gmm = model_list[-1].mm\n",
    "\n",
    "shape = enumerate(model_params.cali_loader).__next__()[1][0][0].shape"
   ]
  },
  {
   "cell_type": "code",
   "execution_count": 22,
   "metadata": {},
   "outputs": [],
   "source": [
    "shape = enumerate(model_params.cali_loader).__next__()[1][0][0].shape"
   ]
  },
  {
   "cell_type": "code",
   "execution_count": 157,
   "metadata": {},
   "outputs": [],
   "source": [
    "stats, bounds = ev.aggregate_adv_stats(model_list, gmm, device, shape, classes=model_params.classes, \n",
    "                                       batches=batches, batch_size=batch_size, steps=steps, \n",
    "                                       restarts=restarts, alpha=alpha, lam=lam)\n",
    "auroc, success_rate, conf = get_auroc(model_list, model_params, stats, device)"
   ]
  },
  {
   "cell_type": "code",
   "execution_count": 26,
   "metadata": {},
   "outputs": [],
   "source": [
    "pca = models.MyPCA(gmm.metric.comp_vecs.t(), gmm.metric.singular_values, shape)"
   ]
  },
  {
   "cell_type": "code",
   "execution_count": 158,
   "metadata": {},
   "outputs": [],
   "source": [
    "auroc, success_rate = get_auroc(model_list, model_params, stats, device)"
   ]
  },
  {
   "cell_type": "code",
   "execution_count": 159,
   "metadata": {},
   "outputs": [
    {
     "name": "stdout",
     "output_type": "stream",
     "text": [
      "tensor([0.9855, 0.9647, 0.1023, 0.1000])\n",
      "[0.9549999833106995, 0.9229999780654907, 0.9990000128746033, 0.0]\n",
      "[0.2884072, 0.42128495000000005, 0.002650850000000002, 1.0]\n"
     ]
    },
    {
     "data": {
      "image/png": "[encoded data removed]",
      "text/plain": [
       "<Figure size 432x288 with 1 Axes>"
      ]
     },
     "metadata": {},
     "output_type": "display_data"
    }
   ],
   "source": [
    "print(stats.mean(1))\n",
    "print(success_rate)\n",
    "print(auroc)\n",
    "plt.hist(bounds)\n",
    "plt.show()"
   ]
  },
  {
   "cell_type": "code",
   "execution_count": 138,
   "metadata": {},
   "outputs": [],
   "source": [
    "def gen_pca_noise(model, device, seed, pca, epsilon, restarts=1, perturb=False, steps=40, alpha=0.01):\n",
    "    batch_size = seed.shape[0]\n",
    "    if restarts>1:\n",
    "        data = seed.clone()\n",
    "        losses = -100000.*torch.ones(batch_size, device=device)\n",
    "        current_data, current_losses = gen_pca_noise(model, device, seed, pca, epsilon,\n",
    "                                                     restarts=1, perturb=True, steps=steps, alpha=alpha)\n",
    "        index = losses < current_losses\n",
    "        data[index] = current_data[index]\n",
    "        return data, losses\n",
    "        \n",
    "    else:\n",
    "        with torch.no_grad():\n",
    "            alpha = alpha * torch.ones(batch_size,1, device=device)\n",
    "\n",
    "            orig_data_pca = pca.trans(seed)\n",
    "            prev_data_pca = pca.trans(seed).to(device)\n",
    "            data_pca = pca.trans(seed).requires_grad_()\n",
    "\n",
    "            if perturb:\n",
    "                perturbation = epsilon[:,None]*(torch.rand_like(prev_data_pca) - .5)\n",
    "                prev_data_pca += perturbation\n",
    "                data_pca += perturbation\n",
    "\n",
    "            prev_losses = -100000.*torch.ones(batch_size, device=device)\n",
    "            prev_grad = torch.zeros_like(data_pca, device=device)\n",
    "\n",
    "        for _ in range(steps):\n",
    "            with torch.enable_grad():\n",
    "                y = model(pca.inv_trans(data_pca))\n",
    "                losses = y.max(1)[0]\n",
    "                grad = torch.autograd.grad (losses.sum(), data_pca)[0]\n",
    "\n",
    "            with torch.no_grad():\n",
    "                regret_index = losses < prev_losses\n",
    "                alpha[regret_index] /= 2.\n",
    "                data_pca[regret_index] = prev_data_pca[regret_index]\n",
    "                grad[regret_index] = prev_grad[regret_index]\n",
    "\n",
    "                prev_losses=losses\n",
    "                prev_data_pca = data_pca\n",
    "                prev_grad = grad\n",
    "\n",
    "                data_pca += alpha*grad\n",
    "                \n",
    "                delta = data_pca - orig_data_pca\n",
    "                N = delta.norm(dim=-1)\n",
    "\n",
    "                index = N>epsilon\n",
    "\n",
    "                delta[index] *= (epsilon[index] / N[index])[:, None]\n",
    "\n",
    "\n",
    "                data_pca = orig_data_pca + delta\n",
    "\n",
    "                data = pca.inv_trans(data_pca)\n",
    "                data = torch.clamp(data, 0, 1)\n",
    "                data_pca = pca.trans(data).requires_grad_()\n",
    "                \n",
    "        for _ in range(10):\n",
    "            with torch.no_grad():\n",
    "                    delta = data_pca - orig_data_pca\n",
    "                    N = delta.norm(dim=-1)\n",
    "\n",
    "                    index = N>epsilon\n",
    "\n",
    "                    delta[index] *= (epsilon[index] / N[index])[:, None]\n",
    "\n",
    "\n",
    "                    data_pca = orig_data_pca + delta\n",
    "\n",
    "                    data = pca.inv_trans(data_pca)\n",
    "                    data = torch.clamp(data, 0, 1)\n",
    "                    data_pca = pca.trans(data)\n",
    "        y = model(data)\n",
    "        losses = y.max(1)[0]\n",
    "        return data, losses    "
   ]
  },
  {
   "cell_type": "code",
   "execution_count": 139,
   "metadata": {},
   "outputs": [],
   "source": [
    "class ModelODIN(nn.Module):\n",
    "    def __init__(self, model, epsilon, device=torch.device('cpu')):\n",
    "        super().__init__()\n",
    "        self.epsilon = epsilon\n",
    "        self.device = device\n",
    "        self.model = model.to(device)\n",
    "        \n",
    "    def forward(self, x):\n",
    "        x = self.FGSM(x)\n",
    "        x = self.model(x)\n",
    "        return x\n",
    "    \n",
    "    def FGSM(self, x):\n",
    "        with torch.enable_grad():\n",
    "            \n",
    "            x = x.requires_grad_()\n",
    "            y = self.model(x)\n",
    "            losses = y.max(1)[0]\n",
    "            loss = losses.sum()\n",
    "            #loss.backward()\n",
    "            grad = torch.autograd.grad (losses.sum(), x)[0]\n",
    "  \n",
    "        x = x + self.epsilon * grad\n",
    "        x = torch.clamp(x, 0, 1).requires_grad_()\n",
    "        return x"
   ]
  },
  {
   "cell_type": "code",
   "execution_count": 140,
   "metadata": {},
   "outputs": [],
   "source": [
    "myodin = ModelODIN(odin_model.model, odin_model.epsilon, device)"
   ]
  },
  {
   "cell_type": "code",
   "execution_count": 141,
   "metadata": {
    "scrolled": true
   },
   "outputs": [],
   "source": [
    "myodin(seed);"
   ]
  },
  {
   "cell_type": "code",
   "execution_count": 142,
   "metadata": {},
   "outputs": [],
   "source": [
    "epsilon= torch.ones(10, device=device)"
   ]
  },
  {
   "cell_type": "code",
   "execution_count": 144,
   "metadata": {},
   "outputs": [],
   "source": [
    "adv_noise, _ = gen_pca_noise(myodin, device, seed, pca, epsilon)"
   ]
  },
  {
   "cell_type": "code",
   "execution_count": 145,
   "metadata": {},
   "outputs": [
    {
     "data": {
      "image/png": "[encoded data removed]",
      "text/plain": [
       "<Figure size 432x288 with 10 Axes>"
      ]
     },
     "metadata": {},
     "output_type": "display_data"
    },
    {
     "name": "stdout",
     "output_type": "stream",
     "text": [
      "\n",
      "\n"
     ]
    }
   ],
   "source": [
    "y1 = myodin(seed)\n",
    "y2 = myodin(adv_noise)\n",
    "\n",
    "plotting.plot_samples([y1, y2], adv_noise)"
   ]
  },
  {
   "cell_type": "code",
   "execution_count": 146,
   "metadata": {},
   "outputs": [],
   "source": [
    "model_list[-2] = myodin"
   ]
  },
  {
   "cell_type": "code",
   "execution_count": 149,
   "metadata": {},
   "outputs": [
    {
     "data": {
      "text/plain": [
       "tensor([[0.9999, 0.9999, 0.9999,  ..., 0.9998, 0.9999, 1.0000],\n",
       "        [0.9998, 0.9999, 0.9998,  ..., 0.9999, 0.9995, 0.9749],\n",
       "        [0.1011, 0.1012, 0.1011,  ..., 0.1012, 0.1012, 0.1015],\n",
       "        [0.1000, 0.1000, 0.1000,  ..., 0.1000, 0.1000, 0.1000]])"
      ]
     },
     "execution_count": 149,
     "metadata": {},
     "output_type": "execute_result"
    }
   ],
   "source": [
    "stats"
   ]
  },
  {
   "cell_type": "code",
   "execution_count": 161,
   "metadata": {},
   "outputs": [],
   "source": [
    "auroc, success_rate, conf = get_auroc(model_list, model_params, stats, device)"
   ]
  },
  {
   "cell_type": "code",
   "execution_count": 163,
   "metadata": {},
   "outputs": [
    {
     "data": {
      "text/plain": [
       "tensor(0.9917)"
      ]
     },
     "execution_count": 163,
     "metadata": {},
     "output_type": "execute_result"
    }
   ],
   "source": [
    "conf[0].mean()"
   ]
  },
  {
   "cell_type": "code",
   "execution_count": 164,
   "metadata": {},
   "outputs": [
    {
     "data": {
      "text/plain": [
       "[0.9549999833106995, 0.9229999780654907, 0.9990000128746033, 0.0]"
      ]
     },
     "execution_count": 164,
     "metadata": {},
     "output_type": "execute_result"
    }
   ],
   "source": [
    "success_rate"
   ]
  },
  {
   "cell_type": "code",
   "execution_count": null,
   "metadata": {},
   "outputs": [],
   "source": []
  }
 ],
 "metadata": {
  "kernelspec": {
   "display_name": "Python 3",
   "language": "python",
   "name": "python3"
  },
  "language_info": {
   "codemirror_mode": {
    "name": "ipython",
    "version": 3
   },
   "file_extension": ".py",
   "mimetype": "text/x-python",
   "name": "python",
   "nbconvert_exporter": "python",
   "pygments_lexer": "ipython3",
   "version": "3.5.2"
  }
 },
 "nbformat": 4,
 "nbformat_minor": 2
}
