{
 "cells": [
  {
   "cell_type": "code",
   "execution_count": 1,
   "metadata": {},
   "outputs": [],
   "source": [
    "import torch\n",
    "import torch.nn as nn\n",
    "import torch.nn.functional as F\n",
    "import torch.optim as optim\n",
    "\n",
    "import matplotlib.pyplot as plt\n",
    "import numpy as np\n",
    "import pandas as pd\n",
    "\n",
    "from importlib import reload\n",
    "import matplotlib.pyplot as plt\n",
    "\n",
    "import utils.models as models\n",
    "import utils.plotting as plotting\n",
    "import utils.dataloaders as dl\n",
    "import utils.traintest as tt\n",
    "import utils.adversarial as adv\n",
    "import utils.eval as ev\n",
    "import model_params as params\n",
    "import utils.resnet_orig as resnet\n",
    "import utils.gmm_helpers as gmm_helpers\n",
    "\n",
    "from tensorboardX import SummaryWriter\n",
    "%load_ext line_profiler"
   ]
  },
  {
   "cell_type": "code",
   "execution_count": 53,
   "metadata": {},
   "outputs": [],
   "source": [
    "model_params = params.params_dict['MNIST'](augm_flag=True, batch_size=128)\n",
    "base_model = model_params.base_model\n",
    "\n",
    "X = []\n",
    "for i, (x, _) in enumerate(model_params.train_loader):\n",
    "    if i>100:\n",
    "        break;\n",
    "    X.append( x.view(-1, 784) )\n",
    "X = torch.cat(X, 0)\n",
    "metric = models.PCAMetric( X, p=2, min_sv_factor=10000)\n",
    "\n",
    "device = torch.device('cuda:0')"
   ]
  },
  {
   "cell_type": "code",
   "execution_count": 54,
   "metadata": {},
   "outputs": [
    {
     "data": {
      "text/plain": [
       "GMM(\n",
       "  (metric): PCAMetric()\n",
       ")"
      ]
     },
     "execution_count": 54,
     "metadata": {},
     "output_type": "execute_result"
    }
   ],
   "source": [
    "# base_model = torch.load('SavedModels/base_MNIST_lr0.001_augm_flagTrue_train_typeACET.pth')\n",
    "# gmm = torch.load('SavedModels/GMM/gmm_MNIST_n1000_data_used60000_augm_flagTrue_alg_scikit.pth')\n",
    "# gmm = models.GMM(100, 784, metric=metric)\n",
    "\n",
    "gmm1 = models.GMM(1000, 784, metric=metric)\n",
    "gmm1.find_solution(X, initialize=True, iterate=False, use_kmeans=False, verbose=False)\n",
    "gmm1.to(device)"
   ]
  },
  {
   "cell_type": "code",
   "execution_count": 55,
   "metadata": {},
   "outputs": [],
   "source": [
    "def test(model, device, test_loader):\n",
    "    model.eval()\n",
    "    test_loss = 0\n",
    "    with torch.no_grad():\n",
    "        for data, target in test_loader:\n",
    "            data, target = data.to(device), target.to(device)\n",
    "            \n",
    "            data = data.view(data.shape[0], -1)\n",
    "            \n",
    "            test_loss += -torch.logsumexp( model(data), 0 ).mean() # sum up batch loss\n",
    "            \n",
    "    test_loss /= len(test_loader.dataset)\n",
    "    \n",
    "    return test_loss\n",
    "\n",
    "def test_ran(model, device, test_loader):\n",
    "    model.eval()\n",
    "    test_loss = 0\n",
    "    with torch.no_grad():\n",
    "        for data, target in test_loader:            \n",
    "            data = torch.rand(data.shape[0], 784, device=device)\n",
    "            \n",
    "            test_loss += torch.logsumexp( model(data), 0 ).mean() # sum up batch loss\n",
    "            \n",
    "    test_loss /= len(test_loader.dataset)\n",
    "    \n",
    "    return test_loss"
   ]
  },
  {
   "cell_type": "code",
   "execution_count": 130,
   "metadata": {},
   "outputs": [],
   "source": [
    "def train(model, device, train_loader, noise_loader, optimizer):\n",
    "    model.train()\n",
    "    \n",
    "    train_loss = 0\n",
    "    \n",
    "    for batch_idx, (data, target) in enumerate(train_loader):\n",
    "        data, target = data.to(device), target.to(device)\n",
    "        data = data.view(data.shape[0], -1)\n",
    "\n",
    "        optimizer.zero_grad()\n",
    "        a = torch.logsumexp( model(data), 0 ).mean()\n",
    "        b = torch.logsumexp( model(torch.rand(data.shape[0], 784, device=device)), 0 ).mean()\n",
    "        b = 0.\n",
    "        loss = b - a\n",
    "        loss.backward()\n",
    "\n",
    "        optimizer.step()\n",
    "        \n",
    "        train_loss += loss.item()\n",
    "        \n",
    "    return train_loss/len(train_loader.dataset)"
   ]
  },
  {
   "cell_type": "code",
   "execution_count": 59,
   "metadata": {},
   "outputs": [
    {
     "name": "stdout",
     "output_type": "stream",
     "text": [
      "tensor(0.0662, device='cuda:0')\n",
      "tensor(-16.1315, device='cuda:0')\n"
     ]
    }
   ],
   "source": [
    "print( test(gmm1, device, model_params.test_loader) )\n",
    "print( test_ran(gmm1, device, model_params.test_loader) )"
   ]
  },
  {
   "cell_type": "code",
   "execution_count": 60,
   "metadata": {
    "scrolled": false
   },
   "outputs": [
    {
     "data": {
      "image/png": "[encoded data removed]",
      "text/plain": [
       "<Figure size 432x288 with 1 Axes>"
      ]
     },
     "metadata": {},
     "output_type": "display_data"
    },
    {
     "ename": "NameError",
     "evalue": "name 'train' is not defined",
     "output_type": "error",
     "traceback": [
      "\u001b[0;31m---------------------------------------------------------------------------\u001b[0m",
      "\u001b[0;31mNameError\u001b[0m                                 Traceback (most recent call last)",
      "\u001b[0;32m<ipython-input-60-ebb67e7fbcf3>\u001b[0m in \u001b[0;36m<module>\u001b[0;34m()\u001b[0m\n\u001b[1;32m     11\u001b[0m \u001b[0;34m\u001b[0m\u001b[0m\n\u001b[1;32m     12\u001b[0m \u001b[0;32mfor\u001b[0m \u001b[0mepoch\u001b[0m \u001b[0;32min\u001b[0m \u001b[0mrange\u001b[0m\u001b[0;34m(\u001b[0m\u001b[0;36m5\u001b[0m\u001b[0;34m)\u001b[0m\u001b[0;34m:\u001b[0m\u001b[0;34m\u001b[0m\u001b[0m\n\u001b[0;32m---> 13\u001b[0;31m     trainloss = train(model, device, model_params.cali_loader, \n\u001b[0m\u001b[1;32m     14\u001b[0m                       model_params.loaders[-1][1], optimizer)\n\u001b[1;32m     15\u001b[0m     \u001b[0mprint\u001b[0m\u001b[0;34m(\u001b[0m\u001b[0mmodel\u001b[0m\u001b[0;34m.\u001b[0m\u001b[0mmu\u001b[0m\u001b[0;34m.\u001b[0m\u001b[0mmean\u001b[0m\u001b[0;34m(\u001b[0m\u001b[0;34m)\u001b[0m\u001b[0;34m.\u001b[0m\u001b[0mitem\u001b[0m\u001b[0;34m(\u001b[0m\u001b[0;34m)\u001b[0m\u001b[0;34m)\u001b[0m\u001b[0;34m\u001b[0m\u001b[0m\n",
      "\u001b[0;31mNameError\u001b[0m: name 'train' is not defined"
     ]
    }
   ],
   "source": [
    "lr_gmm = .000001\n",
    "\n",
    "model = gmm1\n",
    "\n",
    "param_groups = [{'params':model.mu,'lr':lr_gmm, 'weight_decay':0.},\n",
    "                {'params':model.logvar,'lr':lr_gmm, 'weight_decay':0.}]\n",
    "optimizer = optim.SGD(param_groups,  momentum=.9)\n",
    "\n",
    "plt.hist(model.logvar.exp().sqrt().detach().cpu())\n",
    "plt.show()\n",
    "\n",
    "for epoch in range(5):\n",
    "    trainloss = train(model, device, model_params.cali_loader, \n",
    "                      model_params.loaders[-1][1], optimizer)\n",
    "    print(model.mu.mean().item())\n",
    "    print(model.logvar.exp().sqrt().mean().item())\n",
    "    print(trainloss)\n",
    "    plt.hist(model.logvar.exp().sqrt().detach().cpu())\n",
    "    plt.show()"
   ]
  },
  {
   "cell_type": "code",
   "execution_count": 174,
   "metadata": {},
   "outputs": [
    {
     "data": {
      "text/plain": [
       "<matplotlib.image.AxesImage at 0x7ff0877fe0b8>"
      ]
     },
     "execution_count": 174,
     "metadata": {},
     "output_type": "execute_result"
    },
    {
     "data": {
      "image/png": "[encoded data removed]",
      "text/plain": [
       "<Figure size 432x288 with 1 Axes>"
      ]
     },
     "metadata": {},
     "output_type": "display_data"
    }
   ],
   "source": [
    "plt.imshow(gmm2.mu[5].view(28,28).detach().cpu())"
   ]
  },
  {
   "cell_type": "code",
   "execution_count": 193,
   "metadata": {},
   "outputs": [
    {
     "data": {
      "text/plain": [
       "tensor(-359.7589, device='cuda:0', grad_fn=<MeanBackward1>)"
      ]
     },
     "execution_count": 193,
     "metadata": {},
     "output_type": "execute_result"
    }
   ],
   "source": [
    "data = .8*torch.rand(20, 784, device=device)\n",
    "            \n",
    "torch.logsumexp( gmm2(data), 0 ).mean()"
   ]
  },
  {
   "cell_type": "code",
   "execution_count": 194,
   "metadata": {},
   "outputs": [
    {
     "data": {
      "text/plain": [
       "tensor([ 960.9495, 1032.0103, 1098.9697,  924.9379,  857.8032,  953.6565,\n",
       "         836.3088,  838.1132,  961.3217, 1048.5995,  878.0829,  883.7235,\n",
       "         878.9565,  744.0314, 1016.6716,  868.0276,  973.5457, 1078.5197,\n",
       "         929.0566,  923.7964,  699.5139,  827.8627,  669.9435, 1049.8517,\n",
       "         718.0350,  737.6536,  665.1252, 1248.5212,  718.1786, 1003.0425,\n",
       "        1263.1719, 1405.0496,  881.7969,  913.2502,  778.9000,  518.5793,\n",
       "         968.4261,  729.6293,  747.2715,  843.4413,  664.2833,  881.6548,\n",
       "         717.4409,  996.4236,  862.4084, 1391.4962,  797.5496, 1144.6910,\n",
       "         819.0654,  978.8392, 1082.2660,  813.4560,  877.3666, 1013.2648,\n",
       "         956.7130, 1480.7516,  874.9919,  823.6329, 1105.3652,  975.5497,\n",
       "         880.1104,  643.2594,  803.2730,  924.8546, 1226.1763,  990.0649,\n",
       "         848.9073,  777.4175,  963.5471,  502.7398,  947.8955,  998.2169,\n",
       "         822.6517, 1044.0814, 1159.2563,  923.3263, 1270.9751,  786.9991,\n",
       "        1552.4655, 1024.0283,  711.7766,  830.3975,  971.4736,  811.6876,\n",
       "         849.4587,  953.0483,  877.1899,  852.4096,  838.3495,  668.6740,\n",
       "         897.0392,  852.8373,  693.3630,  753.4651,  654.1502,  809.7570,\n",
       "         725.0776,  856.0126,  774.3539, 1071.7312,  726.5392,  768.1504,\n",
       "         939.7208,  798.7238, 1078.7395,  839.3177,  848.6287,  969.0894,\n",
       "        1304.5414,  766.7960, 1090.1095,  965.2498, 1083.7190,  838.8053,\n",
       "         955.1436,  829.4424,  931.2115,  848.6204, 1079.0991, 1119.8899,\n",
       "         832.7388, 1042.0518, 1430.0977,  611.9528,  951.2979,  655.4897,\n",
       "         815.7651, 1404.7653], device='cuda:0', grad_fn=<LogsumexpBackward>)"
      ]
     },
     "execution_count": 194,
     "metadata": {},
     "output_type": "execute_result"
    }
   ],
   "source": [
    "data = enumerate(model_params.train_loader).__next__()[1][0]\n",
    "data = data.view(data.shape[0], -1).to(device)\n",
    "            \n",
    "torch.logsumexp( gmm2(data), 0 )"
   ]
  },
  {
   "cell_type": "code",
   "execution_count": 2,
   "metadata": {},
   "outputs": [],
   "source": [
    "file = 'gmm_MNIST_lam591.2465985107422_n1000_lr0.0001_augm_flagTrue_train_typeCEDA_GMMgrad_vars mu var.csv'\n",
    "df = pd.read_csv('results/' + file)"
   ]
  },
  {
   "cell_type": "code",
   "execution_count": 3,
   "metadata": {},
   "outputs": [
    {
     "name": "stdout",
     "output_type": "stream",
     "text": [
      "\\begin{tabular}{llrll}\n",
      "\\toprule\n",
      "{} &      DataSet &       MMC &               AUROC &                 FPR@95 \\\\\n",
      "\\midrule\n",
      "0 &         orig &  0.986639 &                   - &                      - \\\\\n",
      "1 &       FMNIST &  0.317012 &  0.9910384449999999 &    0.04360000044107437 \\\\\n",
      "2 &       EMNIST &  0.574584 &         0.907486975 &     0.3197999894618988 \\\\\n",
      "3 &  GrayCIFAR10 &  0.136328 &  0.9965840750000001 &  0.0011999999405816197 \\\\\n",
      "4 &        Noise &  0.137099 &  0.9928988906249999 &                    0.0 \\\\\n",
      "\\bottomrule\n",
      "\\end{tabular}\n",
      "\n"
     ]
    }
   ],
   "source": [
    "print(df.to_latex())"
   ]
  },
  {
   "cell_type": "code",
   "execution_count": 10,
   "metadata": {},
   "outputs": [
    {
     "name": "stderr",
     "output_type": "stream",
     "text": [
      "/usr/local/lib/python3.5/dist-packages/torch/serialization.py:435: SourceChangeWarning: source code of class 'utils.models.GMM' has changed. you can retrieve the original source code by accessing the object's source attribute or set `torch.nn.Module.dump_patches = True` and use the patch tool to revert the changes.\n",
      "  warnings.warn(msg, SourceChangeWarning)\n"
     ]
    }
   ],
   "source": [
    "file = 'base_model_MNIST.pth'\n",
    "base_model = torch.load('SavedModels/' + file).to('cuda')\n",
    "\n",
    "file = 'gmm_MNIST_n1000_data_used60000_augm_flagTrue_alg_scikit.pth'\n",
    "gmm = torch.load('SavedModels/GMM/' + file).to('cuda')\n",
    "lam = 591.2465985107422\n",
    "\n",
    "model = models.RobustModel(base_model, gmm, lam, dim=784).to('cuda')\n",
    "model.loglam.requires_grad = False"
   ]
  },
  {
   "cell_type": "code",
   "execution_count": 11,
   "metadata": {},
   "outputs": [
    {
     "data": {
      "text/plain": [
       "(0.9848, 0.9815024124145508, 0.04458287353515625)"
      ]
     },
     "execution_count": 11,
     "metadata": {},
     "output_type": "execute_result"
    }
   ],
   "source": [
    "tt.test(model, 'cuda', dl.MNIST(train=False, augm_flag=False))"
   ]
  },
  {
   "cell_type": "code",
   "execution_count": 50,
   "metadata": {},
   "outputs": [],
   "source": [
    "data = enumerate(model_params.train_loader).__next__()[1][0]\n",
    "data = data.view(data.shape[0], -1).to(device)\n",
    "\n",
    "noise = enumerate(model_params.loaders[-1][1]).__next__()[1][0]\n",
    "ran = torch.rand(128, 1, 28, 28)"
   ]
  },
  {
   "cell_type": "code",
   "execution_count": 49,
   "metadata": {},
   "outputs": [
    {
     "name": "stdout",
     "output_type": "stream",
     "text": [
      "tensor([ 0.2668,  0.2459,  0.2116,  0.1344,  0.2187,  0.2709,  0.1748,  0.2720,\n",
      "         0.2474,  0.2552,  0.1950,  0.1557,  0.2007,  0.1738,  0.1296,  0.3253,\n",
      "         0.1624,  0.1946,  0.1336,  0.3491,  0.1758,  0.0984,  0.3288,  0.2453,\n",
      "         0.2352,  0.2059,  0.1400,  0.2430,  0.1692,  0.2352,  0.3687,  0.1930,\n",
      "         0.2182,  0.2315,  0.1095,  0.1164,  0.1407,  0.1127,  0.2941,  0.2420,\n",
      "         0.1937,  0.1480,  0.1611,  0.1367,  0.2286,  0.1945,  0.1858,  0.2122,\n",
      "         0.1962,  0.2563,  0.1166,  0.1549,  0.1937,  0.2747,  0.3451,  0.1994,\n",
      "         0.1645,  0.2192,  0.1938,  0.2903,  0.2226,  0.2885,  0.1563,  0.1469,\n",
      "         0.4477,  0.2114,  0.1090,  0.1986,  0.1754,  0.0961,  0.2657,  0.1526,\n",
      "         0.2464,  0.1473,  0.1591,  0.2405,  0.1293,  0.1669,  0.1801,  0.1287,\n",
      "         0.1672,  0.2819,  0.1480,  0.3972,  0.2360,  0.2505,  0.2253,  0.1644,\n",
      "         0.2903,  0.1601,  0.2174,  0.1393,  0.2285,  0.1727,  0.1769,  0.3375,\n",
      "         0.1272,  0.1998,  0.2434,  0.1473,  0.1628,  0.1049,  0.4726,  0.1706,\n",
      "         0.1692,  0.2118,  0.1788,  0.2540,  0.1981,  0.2733,  0.2056,  0.1791,\n",
      "         0.1739,  0.1830,  0.2012,  0.1978,  0.2944,  0.2281,  0.2087,  0.4906,\n",
      "         0.1723, 22.7892,  0.2340,  0.1944,  0.2325,  0.1977,  0.2778,  0.2550],\n",
      "       grad_fn=<MinBackward0>)\n",
      "tensor([0.2643, 0.2446, 0.2103, 0.1340, 0.2176, 0.2687, 0.1736, 0.2692, 0.2452,\n",
      "        0.2537, 0.1893, 0.1551, 0.1999, 0.1732, 0.1292, 0.3169, 0.1619, 0.1938,\n",
      "        0.1330, 0.3314, 0.1751, 0.0982, 0.3100, 0.2431, 0.2338, 0.2045, 0.1396,\n",
      "        0.2403, 0.1686, 0.2338, 0.3373, 0.1887, 0.2169, 0.2305, 0.1092, 0.1161,\n",
      "        0.1403, 0.1124, 0.2885, 0.2408, 0.1928, 0.1473, 0.1605, 0.1365, 0.2252,\n",
      "        0.1925, 0.1832, 0.2115, 0.1926, 0.2509, 0.1162, 0.1540, 0.1908, 0.2623,\n",
      "        0.3003, 0.1939, 0.1639, 0.2179, 0.1931, 0.2814, 0.2201, 0.2832, 0.1558,\n",
      "        0.1465, 0.3831, 0.2081, 0.1087, 0.1974, 0.1711, 0.0959, 0.2638, 0.1513,\n",
      "        0.2415, 0.1470, 0.1585, 0.2389, 0.1257, 0.1662, 0.1793, 0.1281, 0.1620,\n",
      "        0.2517, 0.1476, 0.3737, 0.2303, 0.2491, 0.2232, 0.1640, 0.2868, 0.1595,\n",
      "        0.2162, 0.1389, 0.2267, 0.1714, 0.1761, 0.2870, 0.1268, 0.1991, 0.2422,\n",
      "        0.1470, 0.1612, 0.1047, 0.4142, 0.1700, 0.1687, 0.2104, 0.1782, 0.2517,\n",
      "        0.1973, 0.2667, 0.2044, 0.1783, 0.1733, 0.1818, 0.2000, 0.1970, 0.2895,\n",
      "        0.2271, 0.2065, 0.3771, 0.1716, 0.6968, 0.2328, 0.1924, 0.2309, 0.1967,\n",
      "        0.2767, 0.2519], grad_fn=<MinBackward0>)\n"
     ]
    }
   ],
   "source": [
    "for metric in [metric1, metric2]:\n",
    "    print(metric(data.view(data.cpu().shape[0], -1)[None,:,:].cpu(), \n",
    "                 gmm.mu[:,None,:].cpu()).cpu().min(0)[0])"
   ]
  },
  {
   "cell_type": "code",
   "execution_count": 52,
   "metadata": {},
   "outputs": [
    {
     "name": "stdout",
     "output_type": "stream",
     "text": [
      "tensor([ 0.0917,  3.0677,  1.0067,  0.0620,  4.3530, 14.3670,  0.2500,  0.8417,\n",
      "         0.7700,  2.8021,  0.0598, 11.9599,  0.0475,  0.1889,  0.3419,  0.4123,\n",
      "         1.6668, 16.0907,  0.4235,  0.5520,  4.5928, 19.6534,  0.1884, 11.5237,\n",
      "        41.3782,  0.7794, 21.8756,  2.2279, 26.0442,  9.3016, 36.0347,  0.9269,\n",
      "         0.0466, 22.9762,  6.5557,  0.1247, 16.8221,  0.0484,  0.5356,  5.9679,\n",
      "         0.2067, 20.7467,  1.6659,  9.2554, 40.0009,  4.4284,  0.0696, 16.5530,\n",
      "         2.7289,  0.0470,  1.2258,  1.2502, 12.3746,  0.0489,  0.1827,  0.0586,\n",
      "        25.4948,  0.4102,  0.1925,  9.5422,  1.8501,  0.1063,  0.0900,  0.1259,\n",
      "         7.3217,  0.1258,  0.0521,  0.1888,  0.1710,  6.1837, 40.7911,  3.8647,\n",
      "        27.4988,  0.0481,  0.1155,  1.2921,  0.2980,  1.0494,  0.8376,  0.5964,\n",
      "        10.8202,  2.3727, 14.8393,  0.4629,  0.0788, 28.6119,  2.2790,  0.0509,\n",
      "         0.0472, 36.9776,  7.1472, 38.6410,  5.3179, 10.1411, 15.0924,  0.0467,\n",
      "        24.5101,  0.0639,  0.1097,  0.0468, 34.2287, 23.2602,  0.0567, 11.9219,\n",
      "        12.7334,  4.2660,  6.5875,  1.9992,  0.7991, 19.3896, 19.7789,  3.3302,\n",
      "         1.0720,  0.4252, 17.1404,  0.4049,  0.7888,  5.5244,  0.0794,  5.4826,\n",
      "         0.1278,  3.0867, 24.0946,  0.0485,  4.1018,  0.0475,  4.6989,  0.3243],\n",
      "       grad_fn=<MinBackward0>)\n",
      "tensor([0.0275, 0.6505, 0.0783, 0.0268, 0.0848, 0.2131, 0.0268, 0.0331, 0.0766,\n",
      "        0.0527, 0.0267, 0.2167, 0.0266, 0.0267, 0.0271, 0.0690, 0.0373, 0.2229,\n",
      "        0.0330, 0.0276, 0.2234, 0.2962, 0.0267, 0.1770, 0.4697, 0.0299, 0.2876,\n",
      "        0.0393, 0.4005, 0.1034, 0.4316, 0.0295, 0.0266, 0.3946, 0.2763, 0.0267,\n",
      "        0.2144, 0.0267, 0.0292, 0.1028, 0.0266, 0.4060, 0.0415, 0.2683, 0.9706,\n",
      "        0.1857, 0.0265, 0.3264, 0.3867, 0.0266, 0.0532, 0.0498, 0.2722, 0.0266,\n",
      "        0.0266, 0.0267, 0.4877, 0.0956, 0.0358, 0.1274, 0.0327, 0.0266, 0.0266,\n",
      "        0.0295, 0.1316, 0.0293, 0.0266, 0.0267, 0.0273, 0.0821, 0.6521, 0.0678,\n",
      "        0.5347, 0.0266, 0.0267, 0.0296, 0.0300, 0.0373, 0.0311, 0.0286, 0.1822,\n",
      "        0.0504, 0.1981, 0.0276, 0.0266, 0.3918, 0.1675, 0.0268, 0.0266, 0.4897,\n",
      "        0.1377, 0.5742, 0.0798, 0.1436, 0.1968, 0.0266, 0.2522, 0.0266, 0.0266,\n",
      "        0.0266, 0.3447, 0.3981, 0.0266, 0.2251, 0.2522, 0.0887, 0.1398, 0.0702,\n",
      "        0.0330, 0.3260, 0.3465, 0.0458, 0.1571, 0.0280, 0.2945, 0.0291, 0.1447,\n",
      "        0.0692, 0.0267, 0.1044, 0.0267, 0.1984, 0.4047, 0.0266, 0.0797, 0.0266,\n",
      "        0.1273, 0.0334], grad_fn=<MinBackward0>)\n"
     ]
    }
   ],
   "source": [
    "for metric in [metric1, metric2]:\n",
    "    M1 = metric(noise.view(noise.cpu().shape[0], -1)[None,:,:].cpu(), \n",
    "                 gmm.mu[:,None,:].cpu()).cpu().min(0)[0]\n",
    "    print(M1)"
   ]
  },
  {
   "cell_type": "code",
   "execution_count": 45,
   "metadata": {},
   "outputs": [],
   "source": [
    "metric1 = models.PCAMetric( X, p=2, min_sv_factor=10000)\n",
    "metric2 = models.PCAMetric( X, p=2, min_sv_factor=100.)\n"
   ]
  },
  {
   "cell_type": "code",
   "execution_count": 47,
   "metadata": {},
   "outputs": [
    {
     "data": {
      "text/plain": [
       "Parameter containing:\n",
       "tensor([2.2253e+02, 2.0458e+02, 1.8510e+02, 1.8093e+02, 1.7076e+02, 1.6913e+02,\n",
       "        1.5849e+02, 1.5529e+02, 1.4632e+02, 1.3547e+02, 1.2943e+02, 1.2508e+02,\n",
       "        1.2054e+02, 1.1619e+02, 1.1107e+02, 1.0857e+02, 1.0465e+02, 1.0338e+02,\n",
       "        9.7247e+01, 9.4115e+01, 9.3658e+01, 9.2049e+01, 8.9715e+01, 8.5246e+01,\n",
       "        8.5078e+01, 8.4248e+01, 8.1582e+01, 8.1175e+01, 7.8949e+01, 7.6681e+01,\n",
       "        7.3910e+01, 7.3155e+01, 7.1393e+01, 6.9632e+01, 6.9107e+01, 6.7670e+01,\n",
       "        6.6029e+01, 6.5235e+01, 6.2683e+01, 6.1800e+01, 6.1421e+01, 6.0481e+01,\n",
       "        5.9576e+01, 5.8646e+01, 5.6983e+01, 5.5663e+01, 5.5492e+01, 5.4976e+01,\n",
       "        5.3545e+01, 5.3260e+01, 5.1733e+01, 5.1285e+01, 5.0696e+01, 5.0377e+01,\n",
       "        4.8536e+01, 4.8091e+01, 4.7907e+01, 4.6729e+01, 4.6349e+01, 4.5315e+01,\n",
       "        4.4299e+01, 4.4087e+01, 4.3987e+01, 4.2962e+01, 4.2526e+01, 4.2189e+01,\n",
       "        4.1064e+01, 4.0585e+01, 4.0316e+01, 3.9912e+01, 3.9497e+01, 3.9062e+01,\n",
       "        3.8736e+01, 3.8185e+01, 3.7902e+01, 3.7026e+01, 3.6767e+01, 3.6676e+01,\n",
       "        3.5810e+01, 3.5164e+01, 3.4900e+01, 3.4722e+01, 3.4260e+01, 3.3609e+01,\n",
       "        3.3453e+01, 3.2795e+01, 3.2620e+01, 3.2141e+01, 3.1887e+01, 3.1840e+01,\n",
       "        3.1618e+01, 3.1268e+01, 3.0814e+01, 3.0391e+01, 3.0198e+01, 2.9672e+01,\n",
       "        2.9548e+01, 2.9286e+01, 2.9013e+01, 2.8735e+01, 2.8586e+01, 2.8235e+01,\n",
       "        2.8074e+01, 2.7933e+01, 2.7841e+01, 2.7434e+01, 2.7121e+01, 2.6915e+01,\n",
       "        2.6453e+01, 2.6275e+01, 2.6179e+01, 2.5904e+01, 2.5678e+01, 2.5355e+01,\n",
       "        2.5073e+01, 2.4705e+01, 2.4641e+01, 2.4471e+01, 2.4405e+01, 2.4076e+01,\n",
       "        2.3926e+01, 2.3672e+01, 2.3398e+01, 2.3198e+01, 2.3136e+01, 2.2840e+01,\n",
       "        2.2761e+01, 2.2755e+01, 2.2544e+01, 2.2330e+01, 2.2061e+01, 2.2047e+01,\n",
       "        2.1842e+01, 2.1767e+01, 2.1658e+01, 2.1386e+01, 2.1342e+01, 2.1191e+01,\n",
       "        2.1050e+01, 2.0904e+01, 2.0801e+01, 2.0648e+01, 2.0563e+01, 2.0228e+01,\n",
       "        2.0039e+01, 1.9986e+01, 1.9791e+01, 1.9711e+01, 1.9685e+01, 1.9580e+01,\n",
       "        1.9385e+01, 1.9146e+01, 1.9078e+01, 1.8854e+01, 1.8830e+01, 1.8687e+01,\n",
       "        1.8654e+01, 1.8577e+01, 1.8437e+01, 1.8396e+01, 1.8289e+01, 1.8097e+01,\n",
       "        1.7924e+01, 1.7840e+01, 1.7716e+01, 1.7615e+01, 1.7556e+01, 1.7373e+01,\n",
       "        1.7341e+01, 1.7279e+01, 1.7221e+01, 1.7164e+01, 1.7019e+01, 1.6966e+01,\n",
       "        1.6854e+01, 1.6796e+01, 1.6758e+01, 1.6621e+01, 1.6580e+01, 1.6480e+01,\n",
       "        1.6416e+01, 1.6335e+01, 1.6229e+01, 1.6209e+01, 1.6064e+01, 1.5995e+01,\n",
       "        1.5957e+01, 1.5824e+01, 1.5752e+01, 1.5712e+01, 1.5582e+01, 1.5484e+01,\n",
       "        1.5448e+01, 1.5330e+01, 1.5317e+01, 1.5241e+01, 1.5137e+01, 1.5103e+01,\n",
       "        1.4992e+01, 1.4916e+01, 1.4879e+01, 1.4839e+01, 1.4766e+01, 1.4720e+01,\n",
       "        1.4669e+01, 1.4595e+01, 1.4543e+01, 1.4368e+01, 1.4338e+01, 1.4295e+01,\n",
       "        1.4262e+01, 1.4142e+01, 1.4130e+01, 1.4060e+01, 1.4045e+01, 1.4023e+01,\n",
       "        1.3924e+01, 1.3911e+01, 1.3800e+01, 1.3746e+01, 1.3709e+01, 1.3676e+01,\n",
       "        1.3537e+01, 1.3505e+01, 1.3409e+01, 1.3393e+01, 1.3316e+01, 1.3300e+01,\n",
       "        1.3255e+01, 1.3201e+01, 1.3152e+01, 1.3106e+01, 1.3097e+01, 1.3016e+01,\n",
       "        1.2957e+01, 1.2942e+01, 1.2905e+01, 1.2878e+01, 1.2787e+01, 1.2754e+01,\n",
       "        1.2687e+01, 1.2677e+01, 1.2636e+01, 1.2604e+01, 1.2529e+01, 1.2475e+01,\n",
       "        1.2424e+01, 1.2411e+01, 1.2370e+01, 1.2332e+01, 1.2230e+01, 1.2201e+01,\n",
       "        1.2164e+01, 1.2111e+01, 1.2052e+01, 1.2023e+01, 1.2000e+01, 1.1947e+01,\n",
       "        1.1908e+01, 1.1889e+01, 1.1823e+01, 1.1785e+01, 1.1740e+01, 1.1715e+01,\n",
       "        1.1696e+01, 1.1659e+01, 1.1615e+01, 1.1570e+01, 1.1553e+01, 1.1493e+01,\n",
       "        1.1458e+01, 1.1424e+01, 1.1393e+01, 1.1316e+01, 1.1267e+01, 1.1258e+01,\n",
       "        1.1206e+01, 1.1176e+01, 1.1154e+01, 1.1133e+01, 1.1106e+01, 1.1081e+01,\n",
       "        1.1057e+01, 1.1002e+01, 1.0970e+01, 1.0911e+01, 1.0890e+01, 1.0852e+01,\n",
       "        1.0795e+01, 1.0778e+01, 1.0726e+01, 1.0678e+01, 1.0662e+01, 1.0652e+01,\n",
       "        1.0584e+01, 1.0532e+01, 1.0474e+01, 1.0453e+01, 1.0428e+01, 1.0402e+01,\n",
       "        1.0397e+01, 1.0350e+01, 1.0307e+01, 1.0264e+01, 1.0207e+01, 1.0202e+01,\n",
       "        1.0124e+01, 1.0099e+01, 1.0089e+01, 1.0042e+01, 1.0028e+01, 9.9730e+00,\n",
       "        9.9449e+00, 9.9120e+00, 9.8993e+00, 9.8669e+00, 9.8144e+00, 9.7795e+00,\n",
       "        9.7389e+00, 9.7118e+00, 9.6894e+00, 9.6659e+00, 9.6440e+00, 9.6090e+00,\n",
       "        9.5883e+00, 9.5424e+00, 9.5338e+00, 9.5060e+00, 9.4759e+00, 9.4507e+00,\n",
       "        9.4046e+00, 9.3472e+00, 9.3115e+00, 9.2963e+00, 9.2498e+00, 9.2339e+00,\n",
       "        9.2087e+00, 9.1747e+00, 9.1508e+00, 9.0955e+00, 9.0684e+00, 9.0115e+00,\n",
       "        9.0097e+00, 8.9757e+00, 8.9701e+00, 8.9364e+00, 8.8776e+00, 8.8466e+00,\n",
       "        8.7856e+00, 8.7631e+00, 8.7514e+00, 8.7381e+00, 8.6979e+00, 8.6736e+00,\n",
       "        8.6429e+00, 8.6270e+00, 8.5613e+00, 8.5468e+00, 8.5219e+00, 8.5080e+00,\n",
       "        8.4810e+00, 8.4497e+00, 8.4329e+00, 8.3791e+00, 8.3561e+00, 8.3331e+00,\n",
       "        8.3061e+00, 8.2970e+00, 8.2805e+00, 8.2188e+00, 8.2144e+00, 8.1784e+00,\n",
       "        8.1650e+00, 8.1407e+00, 8.1167e+00, 8.0491e+00, 8.0296e+00, 8.0146e+00,\n",
       "        7.9801e+00, 7.9253e+00, 7.9212e+00, 7.8976e+00, 7.8847e+00, 7.8508e+00,\n",
       "        7.8076e+00, 7.7799e+00, 7.7701e+00, 7.7509e+00, 7.7292e+00, 7.6857e+00,\n",
       "        7.6509e+00, 7.6410e+00, 7.6293e+00, 7.5971e+00, 7.5351e+00, 7.5312e+00,\n",
       "        7.5009e+00, 7.4889e+00, 7.4467e+00, 7.4254e+00, 7.4232e+00, 7.3739e+00,\n",
       "        7.3359e+00, 7.3114e+00, 7.3034e+00, 7.2936e+00, 7.2785e+00, 7.2198e+00,\n",
       "        7.1931e+00, 7.1774e+00, 7.1335e+00, 7.1000e+00, 7.0776e+00, 7.0502e+00,\n",
       "        7.0295e+00, 6.9918e+00, 6.9811e+00, 6.9400e+00, 6.9045e+00, 6.9029e+00,\n",
       "        6.8646e+00, 6.8386e+00, 6.8130e+00, 6.7962e+00, 6.7797e+00, 6.7318e+00,\n",
       "        6.7189e+00, 6.6789e+00, 6.6521e+00, 6.6391e+00, 6.6241e+00, 6.5540e+00,\n",
       "        6.5362e+00, 6.4996e+00, 6.4867e+00, 6.4527e+00, 6.4014e+00, 6.3848e+00,\n",
       "        6.3549e+00, 6.3206e+00, 6.3115e+00, 6.2639e+00, 6.2364e+00, 6.2261e+00,\n",
       "        6.2016e+00, 6.1599e+00, 6.1321e+00, 6.1053e+00, 6.0997e+00, 6.0703e+00,\n",
       "        6.0545e+00, 6.0187e+00, 6.0138e+00, 5.9943e+00, 5.9423e+00, 5.9358e+00,\n",
       "        5.9182e+00, 5.8769e+00, 5.8482e+00, 5.8248e+00, 5.8198e+00, 5.7936e+00,\n",
       "        5.7450e+00, 5.7090e+00, 5.6781e+00, 5.6631e+00, 5.6529e+00, 5.6185e+00,\n",
       "        5.5531e+00, 5.5470e+00, 5.5172e+00, 5.5110e+00, 5.4907e+00, 5.4479e+00,\n",
       "        5.4352e+00, 5.3949e+00, 5.3636e+00, 5.3579e+00, 5.3452e+00, 5.3062e+00,\n",
       "        5.2660e+00, 5.2428e+00, 5.2156e+00, 5.1775e+00, 5.1477e+00, 5.1464e+00,\n",
       "        5.1167e+00, 5.0825e+00, 5.0689e+00, 5.0314e+00, 5.0227e+00, 4.9889e+00,\n",
       "        4.9641e+00, 4.8919e+00, 4.8685e+00, 4.8648e+00, 4.8422e+00, 4.7781e+00,\n",
       "        4.7737e+00, 4.7463e+00, 4.7417e+00, 4.6957e+00, 4.6910e+00, 4.6481e+00,\n",
       "        4.6290e+00, 4.5953e+00, 4.5738e+00, 4.5467e+00, 4.5068e+00, 4.5008e+00,\n",
       "        4.4926e+00, 4.4407e+00, 4.4083e+00, 4.3951e+00, 4.3809e+00, 4.3449e+00,\n",
       "        4.3125e+00, 4.2913e+00, 4.2700e+00, 4.2374e+00, 4.2298e+00, 4.1918e+00,\n",
       "        4.1855e+00, 4.1445e+00, 4.1289e+00, 4.0811e+00, 4.0600e+00, 4.0442e+00,\n",
       "        4.0334e+00, 3.9893e+00, 3.9689e+00, 3.9605e+00, 3.9441e+00, 3.9241e+00,\n",
       "        3.9106e+00, 3.8993e+00, 3.8751e+00, 3.8611e+00, 3.8197e+00, 3.8093e+00,\n",
       "        3.7686e+00, 3.7538e+00, 3.7193e+00, 3.6793e+00, 3.6443e+00, 3.6096e+00,\n",
       "        3.6023e+00, 3.5702e+00, 3.5636e+00, 3.5558e+00, 3.5285e+00, 3.5039e+00,\n",
       "        3.4796e+00, 3.4621e+00, 3.4496e+00, 3.4319e+00, 3.4084e+00, 3.3900e+00,\n",
       "        3.3390e+00, 3.3225e+00, 3.2970e+00, 3.2783e+00, 3.2626e+00, 3.2583e+00,\n",
       "        3.2208e+00, 3.1876e+00, 3.1674e+00, 3.1368e+00, 3.1293e+00, 3.1089e+00,\n",
       "        3.0970e+00, 3.0898e+00, 3.0483e+00, 3.0334e+00, 3.0072e+00, 2.9581e+00,\n",
       "        2.9441e+00, 2.9385e+00, 2.9210e+00, 2.9178e+00, 2.8876e+00, 2.8630e+00,\n",
       "        2.8518e+00, 2.8490e+00, 2.8196e+00, 2.7912e+00, 2.7582e+00, 2.7397e+00,\n",
       "        2.7045e+00, 2.6816e+00, 2.6713e+00, 2.6470e+00, 2.6359e+00, 2.6153e+00,\n",
       "        2.5981e+00, 2.5914e+00, 2.5696e+00, 2.5666e+00, 2.5400e+00, 2.5332e+00,\n",
       "        2.4861e+00, 2.4788e+00, 2.4652e+00, 2.4461e+00, 2.4312e+00, 2.4200e+00,\n",
       "        2.4061e+00, 2.3939e+00, 2.3315e+00, 2.3086e+00, 2.2807e+00, 2.2514e+00,\n",
       "        2.2365e+00, 2.2232e+00, 2.2069e+00, 2.1886e+00, 2.1791e+00, 2.1581e+00,\n",
       "        2.1457e+00, 2.1352e+00, 2.1139e+00, 2.1020e+00, 2.0807e+00, 2.0779e+00,\n",
       "        2.0497e+00, 2.0380e+00, 2.0266e+00, 2.0193e+00, 1.9942e+00, 1.9884e+00,\n",
       "        1.9391e+00, 1.9038e+00, 1.9024e+00, 1.8917e+00, 1.8686e+00, 1.8528e+00,\n",
       "        1.8354e+00, 1.8320e+00, 1.8220e+00, 1.7961e+00, 1.7876e+00, 1.7708e+00,\n",
       "        1.7517e+00, 1.7376e+00, 1.7204e+00, 1.7108e+00, 1.6806e+00, 1.6648e+00,\n",
       "        1.6438e+00, 1.6357e+00, 1.6300e+00, 1.6074e+00, 1.5991e+00, 1.5967e+00,\n",
       "        1.5401e+00, 1.5299e+00, 1.5242e+00, 1.4931e+00, 1.4743e+00, 1.4712e+00,\n",
       "        1.4300e+00, 1.4120e+00, 1.3943e+00, 1.3676e+00, 1.3464e+00, 1.3314e+00,\n",
       "        1.3288e+00, 1.3175e+00, 1.3082e+00, 1.2938e+00, 1.2554e+00, 1.2489e+00,\n",
       "        1.2456e+00, 1.2297e+00, 1.2246e+00, 1.2194e+00, 1.2136e+00, 1.1716e+00,\n",
       "        1.1174e+00, 1.0932e+00, 1.0760e+00, 1.0715e+00, 1.0634e+00, 1.0606e+00,\n",
       "        1.0524e+00, 1.0470e+00, 1.0222e+00, 1.0191e+00, 1.0056e+00, 9.9249e-01,\n",
       "        9.8708e-01, 9.7350e-01, 9.7046e-01, 9.1477e-01, 8.7804e-01, 8.7462e-01,\n",
       "        8.6125e-01, 8.2844e-01, 8.2010e-01, 8.1673e-01, 8.1044e-01, 8.0240e-01,\n",
       "        7.8943e-01, 7.5048e-01, 7.2857e-01, 7.1683e-01, 6.9000e-01, 6.7407e-01,\n",
       "        6.6521e-01, 6.4811e-01, 6.4004e-01, 6.3479e-01, 6.0000e-01, 5.9909e-01,\n",
       "        5.7483e-01, 5.4705e-01, 5.0852e-01, 4.8087e-01, 4.7968e-01, 4.5685e-01,\n",
       "        4.5462e-01, 4.3701e-01, 4.1900e-01, 4.1648e-01, 4.0700e-01, 3.9409e-01,\n",
       "        3.4939e-01, 3.0563e-01, 2.9903e-01, 2.4860e-01, 2.2356e-01, 2.2097e-01,\n",
       "        2.0600e-01, 1.8797e-01, 1.6429e-01, 1.6048e-01, 1.5820e-01, 1.1295e-01,\n",
       "        1.1195e-01, 9.4070e-02, 8.4679e-02, 8.3802e-02, 8.0240e-02, 7.3002e-02,\n",
       "        3.6304e-02, 2.2253e-02, 2.2253e-02, 2.2253e-02, 2.2253e-02, 2.2253e-02,\n",
       "        2.2253e-02, 2.2253e-02, 2.2253e-02, 2.2253e-02, 2.2253e-02, 2.2253e-02,\n",
       "        2.2253e-02, 2.2253e-02, 2.2253e-02, 2.2253e-02, 2.2253e-02, 2.2253e-02,\n",
       "        2.2253e-02, 2.2253e-02, 2.2253e-02, 2.2253e-02, 2.2253e-02, 2.2253e-02,\n",
       "        2.2253e-02, 2.2253e-02, 2.2253e-02, 2.2253e-02, 2.2253e-02, 2.2253e-02,\n",
       "        2.2253e-02, 2.2253e-02, 2.2253e-02, 2.2253e-02, 2.2253e-02, 2.2253e-02,\n",
       "        2.2253e-02, 2.2253e-02, 2.2253e-02, 2.2253e-02])"
      ]
     },
     "execution_count": 47,
     "metadata": {},
     "output_type": "execute_result"
    }
   ],
   "source": [
    "metric1.singular_values"
   ]
  },
  {
   "cell_type": "code",
   "execution_count": 44,
   "metadata": {},
   "outputs": [
    {
     "data": {
      "text/plain": [
       "<module 'utils.models' from '/home/alexm/project/notebooks/gmm-robust/utils/models.py'>"
      ]
     },
     "execution_count": 44,
     "metadata": {},
     "output_type": "execute_result"
    }
   ],
   "source": [
    "reload(models)"
   ]
  },
  {
   "cell_type": "code",
   "execution_count": 51,
   "metadata": {},
   "outputs": [
    {
     "data": {
      "text/plain": [
       "<matplotlib.image.AxesImage at 0x7f7bc74dd358>"
      ]
     },
     "execution_count": 51,
     "metadata": {},
     "output_type": "execute_result"
    },
    {
     "data": {
      "image/png": "[encoded data removed]",
      "text/plain": [
       "<Figure size 432x288 with 1 Axes>"
      ]
     },
     "metadata": {},
     "output_type": "display_data"
    }
   ],
   "source": [
    "plt.imshow(noise[0][0])"
   ]
  },
  {
   "cell_type": "code",
   "execution_count": null,
   "metadata": {},
   "outputs": [],
   "source": []
  }
 ],
 "metadata": {
  "kernelspec": {
   "display_name": "Python 3",
   "language": "python",
   "name": "python3"
  },
  "language_info": {
   "codemirror_mode": {
    "name": "ipython",
    "version": 3
   },
   "file_extension": ".py",
   "mimetype": "text/x-python",
   "name": "python",
   "nbconvert_exporter": "python",
   "pygments_lexer": "ipython3",
   "version": "3.5.2"
  }
 },
 "nbformat": 4,
 "nbformat_minor": 2
}
