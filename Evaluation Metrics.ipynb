{
 "cells": [
  {
   "cell_type": "code",
   "execution_count": 1,
   "metadata": {},
   "outputs": [
    {
     "name": "stdout",
     "output_type": "stream",
     "text": [
      "Files already downloaded and verified\n",
      "Files already downloaded and verified\n",
      "Files already downloaded and verified\n"
     ]
    }
   ],
   "source": [
    "import torch\n",
    "import torch.nn as nn\n",
    "import torch.nn.functional as F\n",
    "import torch.optim as optim\n",
    "from torchvision import datasets, transforms\n",
    "\n",
    "import numpy as np\n",
    "import pandas as pd\n",
    "import matplotlib.pyplot as plt\n",
    "\n",
    "from importlib import reload\n",
    "\n",
    "import models\n",
    "import plotting\n",
    "import dataloaders as dl\n",
    "import traintest as tt"
   ]
  },
  {
   "cell_type": "code",
   "execution_count": 2,
   "metadata": {},
   "outputs": [],
   "source": [
    "if torch.cuda.is_available():\n",
    "    device = torch.device('cuda')\n",
    "else:\n",
    "    device = torch.device('cpu')"
   ]
  },
  {
   "cell_type": "code",
   "execution_count": 36,
   "metadata": {},
   "outputs": [],
   "source": [
    "base_model = torch.load('SavedModels/base_model.pth').to(device)\n",
    "gmm_model = torch.load('SavedModels/gmm_model.pth').to(device)"
   ]
  },
  {
   "cell_type": "code",
   "execution_count": 4,
   "metadata": {},
   "outputs": [],
   "source": [
    "def test_metrics(model, device, in_loader, out_loader, thresholds=torch.linspace(.1, 1., 1000).to(device)):\n",
    "    with torch.no_grad():\n",
    "        model.eval()\n",
    "        conf_in = []\n",
    "        conf_out = []\n",
    "        count = 0.\n",
    "        for ((batch_idx, (data_in, _)), (_, (data_out, _))) in zip(enumerate(in_loader),enumerate(out_loader)):\n",
    "            count += 1\n",
    "            data_in = data_in.to(device)\n",
    "            data_out = data_out.to(device)\n",
    "\n",
    "            output_in = model(data_in).max(1)[0].exp()\n",
    "            output_out = model(data_out).max(1)[0].exp()\n",
    "\n",
    "            conf_in.append(output_in)\n",
    "            conf_out.append(output_out)\n",
    "        conf_in = torch.cat(conf_in)\n",
    "        conf_out = torch.cat(conf_out)\n",
    "        \n",
    "        tp = (conf_in[:,None] > thresholds[None,:]).sum(0).float()/(count*in_loader.batch_size)\n",
    "        fp = (conf_out[:,None] > thresholds[None,:]).sum(0).float()/(count*out_loader.batch_size)\n",
    "        \n",
    "        mmc = conf_out.mean().item()\n",
    "        auroc = -np.trapz(tp.cpu().numpy(), x=fp.cpu().numpy())\n",
    "        fp95 = ((conf_out > 0.95).sum().float()/(count*out_loader.batch_size)).item()\n",
    "        return mmc, auroc, fp95"
   ]
  },
  {
   "cell_type": "code",
   "execution_count": 5,
   "metadata": {},
   "outputs": [],
   "source": [
    "def evaluate_model(model, device, base_loader, loaders):\n",
    "    metrics = []\n",
    "    mmc, _, _ = test_metrics(model, device, base_loader, base_loader)\n",
    "    metrics.append(['MNIST', mmc, '-', '-'])\n",
    "    for (name, data_loader) in loaders:\n",
    "        mmc, auroc, fp95 = test_metrics(model, device, base_loader, data_loader)\n",
    "        metrics.append([name, mmc, auroc, fp95])\n",
    "    df = pd.DataFrame(metrics, columns = ['DataSet', 'MMC', 'AUROC', 'FPR@95'])\n",
    "    return df.set_index('DataSet')"
   ]
  },
  {
   "cell_type": "code",
   "execution_count": 6,
   "metadata": {},
   "outputs": [],
   "source": [
    "loaders = (\n",
    "[('FMNIST', dl.FMNIST_test_loader), \n",
    " ('EMNIST', dl.EMNIST_test_loader),\n",
    " ('GrayCIFAR10', dl.GrayCIFAR10_test_loader),\n",
    " ('Noise', dl.Noise_loader)]\n",
    ")"
   ]
  },
  {
   "cell_type": "code",
   "execution_count": 37,
   "metadata": {},
   "outputs": [],
   "source": [
    "df = evaluate_model(base_model, device, dl.MNIST_test_loader, loaders)"
   ]
  },
  {
   "cell_type": "code",
   "execution_count": 38,
   "metadata": {},
   "outputs": [
    {
     "data": {
      "text/html": [
       "<div>\n",
       "<style scoped>\n",
       "    .dataframe tbody tr th:only-of-type {\n",
       "        vertical-align: middle;\n",
       "    }\n",
       "\n",
       "    .dataframe tbody tr th {\n",
       "        vertical-align: top;\n",
       "    }\n",
       "\n",
       "    .dataframe thead th {\n",
       "        text-align: right;\n",
       "    }\n",
       "</style>\n",
       "<table border=\"1\" class=\"dataframe\">\n",
       "  <thead>\n",
       "    <tr style=\"text-align: right;\">\n",
       "      <th></th>\n",
       "      <th>MMC</th>\n",
       "      <th>AUROC</th>\n",
       "      <th>FPR@95</th>\n",
       "    </tr>\n",
       "    <tr>\n",
       "      <th>DataSet</th>\n",
       "      <th></th>\n",
       "      <th></th>\n",
       "      <th></th>\n",
       "    </tr>\n",
       "  </thead>\n",
       "  <tbody>\n",
       "    <tr>\n",
       "      <th>MNIST</th>\n",
       "      <td>0.992019</td>\n",
       "      <td>-</td>\n",
       "      <td>-</td>\n",
       "    </tr>\n",
       "    <tr>\n",
       "      <th>FMNIST</th>\n",
       "      <td>0.688095</td>\n",
       "      <td>0.984546</td>\n",
       "      <td>0.1042</td>\n",
       "    </tr>\n",
       "    <tr>\n",
       "      <th>EMNIST</th>\n",
       "      <td>0.855630</td>\n",
       "      <td>0.869242</td>\n",
       "      <td>0.4928</td>\n",
       "    </tr>\n",
       "    <tr>\n",
       "      <th>GrayCIFAR10</th>\n",
       "      <td>0.632773</td>\n",
       "      <td>0.989706</td>\n",
       "      <td>0.0572</td>\n",
       "    </tr>\n",
       "    <tr>\n",
       "      <th>Noise</th>\n",
       "      <td>0.384055</td>\n",
       "      <td>0.999358</td>\n",
       "      <td>0</td>\n",
       "    </tr>\n",
       "  </tbody>\n",
       "</table>\n",
       "</div>"
      ],
      "text/plain": [
       "                  MMC     AUROC  FPR@95\n",
       "DataSet                                \n",
       "MNIST        0.992019         -       -\n",
       "FMNIST       0.688095  0.984546  0.1042\n",
       "EMNIST       0.855630  0.869242  0.4928\n",
       "GrayCIFAR10  0.632773  0.989706  0.0572\n",
       "Noise        0.384055  0.999358       0"
      ]
     },
     "execution_count": 38,
     "metadata": {},
     "output_type": "execute_result"
    }
   ],
   "source": [
    "df"
   ]
  },
  {
   "cell_type": "code",
   "execution_count": 39,
   "metadata": {},
   "outputs": [],
   "source": [
    "class AdversarialNoise(object):\n",
    "    def __init__(self, model, device, epsilon=0.3):\n",
    "        self.model = model\n",
    "        self.pretransform = dl.noise_transform\n",
    "        self.device = device\n",
    "        self.epsilon = epsilon\n",
    "        \n",
    "    def __call__(self, data):\n",
    "        perturbed = tt.generate_adv_noise(self.model, self.epsilon, \n",
    "                                       device=self.device, batch_size=1, \n",
    "                                       norm=20, num_of_it=400, \n",
    "                                       alpha=0.001, seed_images=data.unsqueeze(0))\n",
    "        return perturbed.squeeze(0)\n",
    "\n",
    "adv_noise_transform = transforms.Compose([dl.noise_transform,\n",
    "                                         AdversarialNoise(base_model, device)])\n",
    "\n",
    "test_batch_size = 10\n",
    "Adv_noise_loader = torch.utils.data.DataLoader(\n",
    "        datasets.MNIST('../data', train=False, transform=adv_noise_transform),\n",
    "        batch_size=test_batch_size, shuffle=False)"
   ]
  },
  {
   "cell_type": "code",
   "execution_count": 40,
   "metadata": {},
   "outputs": [
    {
     "data": {
      "image/png": "[encoded data removed]",
      "text/plain": [
       "<Figure size 432x288 with 10 Axes>"
      ]
     },
     "metadata": {},
     "output_type": "display_data"
    },
    {
     "name": "stdout",
     "output_type": "stream",
     "text": [
      "\n",
      "\n"
     ]
    },
    {
     "data": {
      "image/png": "[encoded data removed]",
      "text/plain": [
       "<Figure size 432x288 with 10 Axes>"
      ]
     },
     "metadata": {},
     "output_type": "display_data"
    },
    {
     "name": "stdout",
     "output_type": "stream",
     "text": [
      "\n",
      "\n"
     ]
    }
   ],
   "source": [
    "data = enumerate(Adv_noise_loader).__next__()[1][0]\n",
    "\n",
    "y_base = base_model(data.to(device))\n",
    "y = gmm_model(data.to(device))\n",
    "\n",
    "plotting.plot_samples([y_base, y], data.detach().cpu())\n",
    "\n",
    "data = enumerate(dl.Noise_loader).__next__()[1][0]\n",
    "\n",
    "y_base = base_model(data.to(device))\n",
    "y = gmm_model(data.to(device))\n",
    "\n",
    "plotting.plot_samples([y_base, y], data.detach().cpu())"
   ]
  },
  {
   "cell_type": "code",
   "execution_count": 348,
   "metadata": {},
   "outputs": [
    {
     "name": "stdout",
     "output_type": "stream",
     "text": [
      "Train Epoch: 0 [0/60000 (0%)]\tLoss: 0.359271\n",
      "Train Epoch: 0 [10000/60000 (17%)]\tLoss: 2.532630\n",
      "Train Epoch: 0 [20000/60000 (33%)]\tLoss: 2.532842\n",
      "Train Epoch: 0 [30000/60000 (50%)]\tLoss: 2.532842\n",
      "Train Epoch: 0 [40000/60000 (67%)]\tLoss: 2.532846\n",
      "Train Epoch: 0 [50000/60000 (83%)]\tLoss: 2.532845\n"
     ]
    }
   ],
   "source": [
    "lr = .0001\n",
    "momentum = .9\n",
    "\n",
    "optimizer_base = optim.SGD(base_model.parameters(), lr=lr, momentum=momentum, weight_decay=0.005)\n",
    "for epoch in range(1):\n",
    "    optimizer_base.param_groups[0]['lr'] *= .8\n",
    "    tt.train_adv(base_model, device, dl.train_loader, optimizer_base, epoch)"
   ]
  },
  {
   "cell_type": "code",
   "execution_count": 311,
   "metadata": {},
   "outputs": [],
   "source": [
    "image = perturbed.to(device).requires_grad_()\n",
    "\n",
    "perturbed_image = image\n",
    "for _ in range(20):\n",
    "    y = base_model(perturbed_image)\n",
    "    #loss = -y.max(dim=1)[0].sum()\n",
    "    loss = -y.sum()\n",
    "    loss.backward()\n",
    "\n",
    "    with torch.no_grad():\n",
    "        perturbed_image += 0.001*image.grad\n",
    "        delta = perturbed_image-image\n",
    "        #delta /= delta.view((batch_size,784)).norm(p=norm, dim=1)[:,None,None,None]\n",
    "        #delta *= epsilon\n",
    "        perturbed_image = image + delta\n",
    "        perturbed_image = torch.clamp(perturbed_image, 0, 1)\n",
    "\n",
    "        perturbed_image = perturbed_image.detach()\n"
   ]
  },
  {
   "cell_type": "code",
   "execution_count": null,
   "metadata": {},
   "outputs": [],
   "source": []
  }
 ],
 "metadata": {
  "kernelspec": {
   "display_name": "Python 3",
   "language": "python",
   "name": "python3"
  },
  "language_info": {
   "codemirror_mode": {
    "name": "ipython",
    "version": 3
   },
   "file_extension": ".py",
   "mimetype": "text/x-python",
   "name": "python",
   "nbconvert_exporter": "python",
   "pygments_lexer": "ipython3",
   "version": "3.5.2"
  }
 },
 "nbformat": 4,
 "nbformat_minor": 2
}
