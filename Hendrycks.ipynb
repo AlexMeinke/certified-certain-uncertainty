{
 "cells": [
  {
   "cell_type": "code",
   "execution_count": 5,
   "metadata": {},
   "outputs": [],
   "source": [
    "import torch\n",
    "import utils.hendrycks as wrn\n",
    "import utils.dataloaders as dl\n",
    "\n",
    "from importlib import reload\n",
    "\n",
    "folder = 'SavedModels/other/outlier-exposure/'\n",
    "device = torch.device('cpu')"
   ]
  },
  {
   "cell_type": "code",
   "execution_count": 15,
   "metadata": {},
   "outputs": [],
   "source": [
    "folder = 'SavedModels/other/outlier-exposure/'\n",
    "device = torch.device('cpu')\n",
    "\n",
    "\n",
    "# MNIST\n",
    "file = '../outlier-exposure/MNIST/snapshots/oe_scratch/oe_scratch_epoch_99.pt'\n",
    "\n",
    "model = wrn.MNIST_ConvNet()\n",
    "model.load_state_dict(torch.load(file, map_location = device))\n",
    "model.cpu()\n",
    "torch.save(model, folder + 'hendrycks_MNIST' + '.pth')\n",
    "\n",
    "\n",
    "# FMNIST\n",
    "file = '../outlier-exposure/FMNIST/snapshots/oe_scratch/oe_scratch_epoch_99.pt'\n",
    "\n",
    "model = wrn.WideResNet(40, 10, channels=1, dataset='FMNIST')\n",
    "model.load_state_dict(torch.load(file, map_location = device))\n",
    "model.cpu()\n",
    "torch.save(model, folder + 'hendrycks_FMNIST' + '.pth')\n",
    "\n",
    "\n",
    "# SVHN\n",
    "file = '../outlier-exposure/SVHN/snapshots/oe_scratch/wrn_oe_scratch_epoch_99.pt'\n",
    "\n",
    "model = wrn.WideResNet(16, 10, 4, 0.4, dataset='SVHN')\n",
    "model.load_state_dict(torch.load(file, map_location = device))\n",
    "model.cpu()\n",
    "torch.save(model, folder + 'hendrycks_SVHN' + '.pth')\n",
    "\n",
    "\n",
    "# CIFAR10\n",
    "file = '../outlier-exposure/CIFAR/snapshots/oe_scratch/cifar10_wrn_oe_scratch_epoch_99.pt'\n",
    "\n",
    "model = wrn.WideResNet(40, 10, 2, 0.3)\n",
    "model.load_state_dict(torch.load(file, map_location = device))\n",
    "model.cpu()\n",
    "torch.save(model, folder + 'hendrycks_CIFAR10' + '.pth')\n",
    "\n",
    "\n",
    "# CIFAR100\n",
    "file = '../outlier-exposure/CIFAR/snapshots/oe_scratch/cifar100_wrn_oe_scratch_epoch_99.pt'\n",
    "\n",
    "model = wrn.WideResNet(40, 100, 2, 0.3)\n",
    "model.load_state_dict(torch.load(file, map_location = device))\n",
    "model.cpu()\n",
    "torch.save(model, folder + 'hendrycks_CIFAR100' + '.pth')"
   ]
  },
  {
   "cell_type": "code",
   "execution_count": null,
   "metadata": {},
   "outputs": [],
   "source": []
  }
 ],
 "metadata": {
  "kernelspec": {
   "display_name": "Python 3",
   "language": "python",
   "name": "python3"
  },
  "language_info": {
   "codemirror_mode": {
    "name": "ipython",
    "version": 3
   },
   "file_extension": ".py",
   "mimetype": "text/x-python",
   "name": "python",
   "nbconvert_exporter": "python",
   "pygments_lexer": "ipython3",
   "version": "3.5.2"
  }
 },
 "nbformat": 4,
 "nbformat_minor": 2
}
