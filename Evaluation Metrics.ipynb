{
 "cells": [
  {
   "cell_type": "code",
   "execution_count": 1,
   "metadata": {},
   "outputs": [
    {
     "name": "stdout",
     "output_type": "stream",
     "text": [
      "Files already downloaded and verified\n",
      "Files already downloaded and verified\n",
      "Files already downloaded and verified\n"
     ]
    }
   ],
   "source": [
    "import torch\n",
    "import torch.nn as nn\n",
    "import torch.nn.functional as F\n",
    "import torch.optim as optim\n",
    "from torchvision import datasets, transforms\n",
    "\n",
    "import numpy as np\n",
    "import pandas as pd\n",
    "import matplotlib.pyplot as plt\n",
    "\n",
    "from importlib import reload\n",
    "\n",
    "import models\n",
    "import plotting\n",
    "import utils.dataloaders as dl\n",
    "import traintest as tt\n",
    "import adversarial as adv\n",
    "import utils.preproc as pre\n",
    "import utils.eval as ev"
   ]
  },
  {
   "cell_type": "code",
   "execution_count": 2,
   "metadata": {},
   "outputs": [],
   "source": [
    "if torch.cuda.is_available():\n",
    "    device = torch.device('cuda')\n",
    "else:\n",
    "    device = torch.device('cpu')"
   ]
  },
  {
   "cell_type": "code",
   "execution_count": 4,
   "metadata": {},
   "outputs": [],
   "source": [
    "class LeNetMadry(nn.Module):\n",
    "    def __init__(self):\n",
    "        super().__init__()\n",
    "        self.conv1 = nn.Conv2d(1, 32, 5, 1, padding=2)\n",
    "        self.conv2 = nn.Conv2d(32, 64, 5, 1, padding=2)\n",
    "        self.fc1 = nn.Linear(7*7*64, 1024)\n",
    "        self.fc2 = nn.Linear(1024, 10)\n",
    "\n",
    "    def forward(self, x):\n",
    "        x = F.relu(self.conv1(x))\n",
    "        x = F.max_pool2d(x, 2, 2)\n",
    "        x = F.relu(self.conv2(x))\n",
    "        x = F.max_pool2d(x, 2, 2)\n",
    "        x = x.view(-1, 7*7*64)\n",
    "        x = F.relu(self.fc1(x))\n",
    "        x = self.fc2(x)\n",
    "        x = F.log_softmax(x, dim=1)\n",
    "        return x"
   ]
  },
  {
   "cell_type": "code",
   "execution_count": 27,
   "metadata": {},
   "outputs": [],
   "source": [
    "base_model = torch.load('SavedModels/madry.pth').to(device)\n",
    "base_model_ACET = torch.load('SavedModels/madry.pth').to(device)\n",
    "gmm_model = torch.load('SavedModels/gmm_model.pth').to(device)\n",
    "gmm_model_ACET = torch.load('SavedModels/gmm_model.pth').to(device)"
   ]
  },
  {
   "cell_type": "code",
   "execution_count": 90,
   "metadata": {},
   "outputs": [],
   "source": [
    "Base_AdversarialNoiseLoader = adv.create_adv_noise_loader(base_model, dl.Noise_loader, device)\n",
    "Base_AdversarialSampleLoader = adv.create_adv_sample_loader(base_model, dl.MNIST_test_loader, device)\n",
    "\n",
    "base_loaders = (\n",
    "[('FMNIST', dl.FMNIST_test_loader), \n",
    " ('EMNIST', dl.EMNIST_test_loader),\n",
    " ('GrayCIFAR10', dl.GrayCIFAR10_test_loader),\n",
    " ('Noise', dl.Noise_loader),\n",
    " ('Adv. Noise', Base_AdversarialNoiseLoader ),\n",
    " ('Adv. Sample', Base_AdversarialSampleLoader)]\n",
    ")\n",
    "\n",
    "base_df = evaluate_model(base_model, device, dl.MNIST_test_loader, base_loaders)"
   ]
  },
  {
   "cell_type": "code",
   "execution_count": 94,
   "metadata": {},
   "outputs": [],
   "source": [
    "GMM_AdversarialNoiseLoader = adv.create_adv_noise_loader(gmm_model, dl.Noise_loader, device)\n",
    "GMM_AdversarialSampleLoader = adv.create_adv_sample_loader(gmm_model, dl.MNIST_test_loader, device)\n",
    "\n",
    "GMM_loaders = (\n",
    "[('FMNIST', dl.FMNIST_test_loader), \n",
    " ('EMNIST', dl.EMNIST_test_loader),\n",
    " ('GrayCIFAR10', dl.GrayCIFAR10_test_loader),\n",
    " ('Noise', dl.Noise_loader),\n",
    " ('Adv. Noise', GMM_AdversarialNoiseLoader ),\n",
    " ('Adv. Sample', GMM_AdversarialSampleLoader)]\n",
    ")\n",
    "\n",
    "gmm_df = evaluate_model(gmm_model, device, dl.MNIST_test_loader, GMM_loaders)"
   ]
  },
  {
   "cell_type": "code",
   "execution_count": 102,
   "metadata": {},
   "outputs": [],
   "source": [
    "df3 = df.merge(gmm_df, right_index=True, left_index=True, suffixes=(\"_plain\", \"_gmm\"))"
   ]
  },
  {
   "cell_type": "code",
   "execution_count": 28,
   "metadata": {
    "collapsed": true
   },
   "outputs": [
    {
     "name": "stdout",
     "output_type": "stream",
     "text": [
      "Train Epoch: 0 [0/60000 (0%)]\tLoss: 1.192976\n",
      "Train Epoch: 0 [10000/60000 (17%)]\tLoss: 0.852346\n",
      "Train Epoch: 0 [20000/60000 (33%)]\tLoss: 1.115857\n",
      "Train Epoch: 0 [30000/60000 (50%)]\tLoss: 1.029042\n",
      "Train Epoch: 0 [40000/60000 (67%)]\tLoss: 0.955626\n",
      "Train Epoch: 0 [50000/60000 (83%)]\tLoss: 0.894749\n",
      "Train Epoch: 1 [0/60000 (0%)]\tLoss: 0.962357\n",
      "Train Epoch: 1 [10000/60000 (17%)]\tLoss: 0.953286\n",
      "Train Epoch: 1 [20000/60000 (33%)]\tLoss: 0.862570\n",
      "Train Epoch: 1 [30000/60000 (50%)]\tLoss: 0.819326\n",
      "Train Epoch: 1 [40000/60000 (67%)]\tLoss: 0.825107\n",
      "Train Epoch: 1 [50000/60000 (83%)]\tLoss: 0.773230\n",
      "Train Epoch: 2 [0/60000 (0%)]\tLoss: 0.842316\n",
      "Train Epoch: 2 [10000/60000 (17%)]\tLoss: 0.758830\n",
      "Train Epoch: 2 [20000/60000 (33%)]\tLoss: 0.790493\n",
      "Train Epoch: 2 [30000/60000 (50%)]\tLoss: 0.807953\n",
      "Train Epoch: 2 [40000/60000 (67%)]\tLoss: 0.774516\n",
      "Train Epoch: 2 [50000/60000 (83%)]\tLoss: 0.760352\n"
     ]
    }
   ],
   "source": [
    "lr = .00001\n",
    "momentum = .9\n",
    "\n",
    "optimizer = optim.SGD(base_model_ACET.parameters(), lr=lr, momentum=momentum)\n",
    "#tt.train_ACET(base_model_ACET, device, dl.MNIST_train_loader, dl.Noise_loader, optimizer_base, 0)\n",
    "\n",
    "for epoch in range(3):\n",
    "    optimizer.param_groups[0]['lr'] /= 1.1\n",
    "    tt.train_ACET(base_model_ACET, device, dl.MNIST_train_loader, dl.Noise_loader, optimizer, epoch)"
   ]
  },
  {
   "cell_type": "code",
   "execution_count": 30,
   "metadata": {},
   "outputs": [
    {
     "data": {
      "image/png": "[encoded data removed]",
      "text/plain": [
       "<Figure size 432x288 with 10 Axes>"
      ]
     },
     "metadata": {},
     "output_type": "display_data"
    },
    {
     "name": "stdout",
     "output_type": "stream",
     "text": [
      "\n",
      "\n"
     ]
    }
   ],
   "source": [
    "lr = .00001\n",
    "momentum = .9\n",
    "\n",
    "optimizer = optim.SGD(gmm_model_ACET.parameters(), lr=lr, momentum=momentum)\n",
    "\n",
    "for epoch in range(3):\n",
    "    optimizer.param_groups[0]['lr'] /= 1.1\n",
    "    tt.train_ACET(gmm_model_ACET, device, dl.MNIST_train_loader, dl.Noise_loader, optimizer, epoch)"
   ]
  },
  {
   "cell_type": "code",
   "execution_count": null,
   "metadata": {},
   "outputs": [],
   "source": [
    "Base_ACET_AdversarialNoiseLoader = adv.create_adv_noise_loader(base_model_ACET, dl.Noise_loader, device)\n",
    "Base_ACET_AdversarialSampleLoader = adv.create_adv_sample_loader(base_model_ACET, dl.MNIST_test_loader, device)\n",
    "\n",
    "base_ACET_loaders = (\n",
    "[('FMNIST', dl.FMNIST_test_loader), \n",
    " ('EMNIST', dl.EMNIST_test_loader),\n",
    " ('GrayCIFAR10', dl.GrayCIFAR10_test_loader),\n",
    " ('Noise', dl.Noise_loader),\n",
    " ('Adv. Noise', Base_ACET_AdversarialNoiseLoader ),\n",
    " ('Adv. Sample', Base_ACET_AdversarialSampleLoader)]\n",
    ")\n",
    "\n",
    "base_ACET_df = evaluate_model(base_model_ACET, device, dl.MNIST_test_loader, base_ACET_loaders)"
   ]
  },
  {
   "cell_type": "code",
   "execution_count": null,
   "metadata": {},
   "outputs": [],
   "source": [
    "GMM_ACET_AdversarialNoiseLoader = adv.create_adv_noise_loader(gmm_model_ACET, dl.Noise_loader, device)\n",
    "GMM_ACET_AdversarialSampleLoader = adv.create_adv_sample_loader(gmm_model_ACET, dl.MNIST_test_loader, device)\n",
    "\n",
    "GMM_ACET_loaders = (\n",
    "[('FMNIST', dl.FMNIST_test_loader), \n",
    " ('EMNIST', dl.EMNIST_test_loader),\n",
    " ('GrayCIFAR10', dl.GrayCIFAR10_test_loader),\n",
    " ('Noise', dl.Noise_loader),\n",
    " ('Adv. Noise', GMM_ACET_AdversarialNoiseLoader ),\n",
    " ('Adv. Sample', GMM_ACET_AdversarialSampleLoader)]\n",
    ")\n",
    "\n",
    "gmm_ACET_df = evaluate_model(gmm_model_ACET, device, dl.MNIST_test_loader, GMM_ACET_loaders)"
   ]
  }
 ],
 "metadata": {
  "kernelspec": {
   "display_name": "Python 3",
   "language": "python",
   "name": "python3"
  },
  "language_info": {
   "codemirror_mode": {
    "name": "ipython",
    "version": 3
   },
   "file_extension": ".py",
   "mimetype": "text/x-python",
   "name": "python",
   "nbconvert_exporter": "python",
   "pygments_lexer": "ipython3",
   "version": "3.5.2"
  }
 },
 "nbformat": 4,
 "nbformat_minor": 2
}
