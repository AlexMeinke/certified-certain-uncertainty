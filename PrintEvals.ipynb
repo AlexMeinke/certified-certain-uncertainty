{
 "cells": [
  {
   "cell_type": "code",
   "execution_count": 1,
   "metadata": {},
   "outputs": [],
   "source": [
    "import torch\n",
    "import torch.nn as nn\n",
    "import torch.nn.functional as F\n",
    "import torch.optim as optim\n",
    "\n",
    "import matplotlib.pyplot as plt\n",
    "import numpy as np\n",
    "import pandas as pd\n",
    "\n",
    "from importlib import reload\n",
    "import matplotlib.pyplot as plt\n",
    "\n",
    "import utils.models as models\n",
    "import utils.plotting as plotting\n",
    "import utils.dataloaders as dl\n",
    "import utils.traintest as tt\n",
    "import utils.adversarial as adv\n",
    "import utils.eval as ev\n",
    "import model_params as params\n",
    "import utils.resnet_orig as resnet\n",
    "import utils.gmm_helpers as gmm_helpers\n",
    "\n",
    "import model_paths\n",
    "\n",
    "from tensorboardX import SummaryWriter\n",
    "%load_ext line_profiler"
   ]
  },
  {
   "cell_type": "code",
   "execution_count": 53,
   "metadata": {},
   "outputs": [],
   "source": [
    "def show_stats(model, device, model_params):\n",
    "    acc = tt.test(model, device, model_params.test_loader, min_conf=.001)[0]\n",
    "    df = ev.evaluate(model, device, model_params.data_name, model_params.loaders)\n",
    "    return df, acc"
   ]
  },
  {
   "cell_type": "code",
   "execution_count": 67,
   "metadata": {},
   "outputs": [
    {
     "name": "stderr",
     "output_type": "stream",
     "text": [
      "/usr/local/lib/python3.5/dist-packages/torch/serialization.py:435: SourceChangeWarning: source code of class 'torch.nn.modules.conv.Conv2d' has changed. you can retrieve the original source code by accessing the object's source attribute or set `torch.nn.Module.dump_patches = True` and use the patch tool to revert the changes.\n",
      "  warnings.warn(msg, SourceChangeWarning)\n",
      "/usr/local/lib/python3.5/dist-packages/torch/serialization.py:435: SourceChangeWarning: source code of class 'torch.nn.modules.batchnorm.BatchNorm2d' has changed. you can retrieve the original source code by accessing the object's source attribute or set `torch.nn.Module.dump_patches = True` and use the patch tool to revert the changes.\n",
      "  warnings.warn(msg, SourceChangeWarning)\n",
      "/usr/local/lib/python3.5/dist-packages/torch/serialization.py:435: SourceChangeWarning: source code of class 'torch.nn.modules.linear.Linear' has changed. you can retrieve the original source code by accessing the object's source attribute or set `torch.nn.Module.dump_patches = True` and use the patch tool to revert the changes.\n",
      "  warnings.warn(msg, SourceChangeWarning)\n"
     ]
    }
   ],
   "source": [
    "dataset = 'FMNIST'\n",
    "device = torch.device('cuda:6')\n",
    "model_params = params.params_dict[dataset]()\n",
    "model_path = model_paths.model_dict[dataset]() \n",
    "model_list = [torch.load(file).to(device) for file in model_path.files]"
   ]
  },
  {
   "cell_type": "code",
   "execution_count": 68,
   "metadata": {
    "scrolled": true
   },
   "outputs": [],
   "source": [
    "accuracies = [tt.test(model, device, model_params.test_loader, min_conf=.001)[0]\n",
    "              for model in model_list]\n",
    "results = [ev.evaluate(model, device, model_params.data_name, model_params.loaders) \n",
    "           for model in model_list]\n",
    "test_error = [100*(1.-acc) for acc in accuracies]\n",
    "keys = [key + ' (TE: ' + str(te) + '\\%)' for (te, key) in zip(test_error, model_path.keys)]\n",
    "df = pd.concat(results, axis=1, keys=keys)"
   ]
  },
  {
   "cell_type": "code",
   "execution_count": 69,
   "metadata": {},
   "outputs": [],
   "source": [
    "keys = [key + ' (TE: {:.2f}%)'.format(te) for (te, key) in zip(test_error, model_path.keys)]\n",
    "df = pd.concat(results, axis=1, keys=keys)\n",
    "df = pd.concat(results, axis=1, keys=keys)"
   ]
  },
  {
   "cell_type": "code",
   "execution_count": 70,
   "metadata": {},
   "outputs": [
    {
     "name": "stdout",
     "output_type": "stream",
     "text": [
      "\\begin{tabular}{lrrrrrrrr}\n",
      "\\toprule\n",
      "{} & \\multicolumn{2}{l}{Base (TE: 4.66\\%)} & \\multicolumn{2}{l}{CEDA (TE: 5.03\\%)} & \\multicolumn{2}{l}{ODIN (TE: 4.69\\%)} & \\multicolumn{2}{l}{GMM (TE: 5.04\\%)} \\\\\n",
      "{} &              MMC &  AUROC &              MMC &  AUROC &              MMC &  AUROC &             MMC &  AUROC \\\\\n",
      "DataSet      &                  &        &                  &        &                  &        &                 &        \\\\\n",
      "\\midrule\n",
      "orig         &            0.984 &  0.000 &            0.985 &  0.000 &            0.423 &  0.000 &           0.984 &  0.000 \\\\\n",
      "MNIST        &            0.693 &  0.967 &            0.689 &  0.973 &            0.224 &  0.994 &           0.708 &  0.968 \\\\\n",
      "EMNIST       &            0.681 &  0.969 &            0.668 &  0.975 &            0.226 &  0.994 &           0.660 &  0.974 \\\\\n",
      "GrayCIFAR10  &            0.893 &  0.893 &            0.842 &  0.931 &            0.369 &  0.794 &           0.527 &  0.969 \\\\\n",
      "Noise        &            0.781 &  0.959 &            0.548 &  0.987 &            0.297 &  0.960 &           0.719 &  0.960 \\\\\n",
      "UniformNoise &            0.644 &  0.981 &            0.750 &  0.962 &            0.195 &  0.999 &           0.100 &  1.000 \\\\\n",
      "\\bottomrule\n",
      "\\end{tabular}\n",
      "\n"
     ]
    }
   ],
   "source": [
    "print(df.round(3).to_latex())"
   ]
  },
  {
   "cell_type": "code",
   "execution_count": 71,
   "metadata": {},
   "outputs": [
    {
     "data": {
      "text/html": [
       "<div>\n",
       "<style scoped>\n",
       "    .dataframe tbody tr th:only-of-type {\n",
       "        vertical-align: middle;\n",
       "    }\n",
       "\n",
       "    .dataframe tbody tr th {\n",
       "        vertical-align: top;\n",
       "    }\n",
       "\n",
       "    .dataframe thead tr th {\n",
       "        text-align: left;\n",
       "    }\n",
       "\n",
       "    .dataframe thead tr:last-of-type th {\n",
       "        text-align: right;\n",
       "    }\n",
       "</style>\n",
       "<table border=\"1\" class=\"dataframe\">\n",
       "  <thead>\n",
       "    <tr>\n",
       "      <th></th>\n",
       "      <th colspan=\"2\" halign=\"left\">Base (TE: 4.66%)</th>\n",
       "      <th colspan=\"2\" halign=\"left\">CEDA (TE: 5.03%)</th>\n",
       "      <th colspan=\"2\" halign=\"left\">ODIN (TE: 4.69%)</th>\n",
       "      <th colspan=\"2\" halign=\"left\">GMM (TE: 5.04%)</th>\n",
       "    </tr>\n",
       "    <tr>\n",
       "      <th></th>\n",
       "      <th>MMC</th>\n",
       "      <th>AUROC</th>\n",
       "      <th>MMC</th>\n",
       "      <th>AUROC</th>\n",
       "      <th>MMC</th>\n",
       "      <th>AUROC</th>\n",
       "      <th>MMC</th>\n",
       "      <th>AUROC</th>\n",
       "    </tr>\n",
       "    <tr>\n",
       "      <th>DataSet</th>\n",
       "      <th></th>\n",
       "      <th></th>\n",
       "      <th></th>\n",
       "      <th></th>\n",
       "      <th></th>\n",
       "      <th></th>\n",
       "      <th></th>\n",
       "      <th></th>\n",
       "    </tr>\n",
       "  </thead>\n",
       "  <tbody>\n",
       "    <tr>\n",
       "      <th>orig</th>\n",
       "      <td>0.984078</td>\n",
       "      <td>0.000000</td>\n",
       "      <td>0.984831</td>\n",
       "      <td>0.000000</td>\n",
       "      <td>0.423192</td>\n",
       "      <td>0.000000</td>\n",
       "      <td>0.983714</td>\n",
       "      <td>0.000000</td>\n",
       "    </tr>\n",
       "    <tr>\n",
       "      <th>MNIST</th>\n",
       "      <td>0.692679</td>\n",
       "      <td>0.966765</td>\n",
       "      <td>0.689281</td>\n",
       "      <td>0.973178</td>\n",
       "      <td>0.224143</td>\n",
       "      <td>0.993511</td>\n",
       "      <td>0.707906</td>\n",
       "      <td>0.968166</td>\n",
       "    </tr>\n",
       "    <tr>\n",
       "      <th>EMNIST</th>\n",
       "      <td>0.681222</td>\n",
       "      <td>0.969314</td>\n",
       "      <td>0.668332</td>\n",
       "      <td>0.974855</td>\n",
       "      <td>0.226076</td>\n",
       "      <td>0.993593</td>\n",
       "      <td>0.659582</td>\n",
       "      <td>0.974457</td>\n",
       "    </tr>\n",
       "    <tr>\n",
       "      <th>GrayCIFAR10</th>\n",
       "      <td>0.893414</td>\n",
       "      <td>0.893392</td>\n",
       "      <td>0.842169</td>\n",
       "      <td>0.930958</td>\n",
       "      <td>0.368576</td>\n",
       "      <td>0.793775</td>\n",
       "      <td>0.526969</td>\n",
       "      <td>0.969102</td>\n",
       "    </tr>\n",
       "    <tr>\n",
       "      <th>Noise</th>\n",
       "      <td>0.781063</td>\n",
       "      <td>0.958617</td>\n",
       "      <td>0.548391</td>\n",
       "      <td>0.987270</td>\n",
       "      <td>0.296943</td>\n",
       "      <td>0.959822</td>\n",
       "      <td>0.718811</td>\n",
       "      <td>0.960331</td>\n",
       "    </tr>\n",
       "    <tr>\n",
       "      <th>UniformNoise</th>\n",
       "      <td>0.643546</td>\n",
       "      <td>0.981035</td>\n",
       "      <td>0.750159</td>\n",
       "      <td>0.961726</td>\n",
       "      <td>0.195112</td>\n",
       "      <td>0.999312</td>\n",
       "      <td>0.100000</td>\n",
       "      <td>1.000000</td>\n",
       "    </tr>\n",
       "  </tbody>\n",
       "</table>\n",
       "</div>"
      ],
      "text/plain": [
       "             Base (TE: 4.66%)           CEDA (TE: 5.03%)            \\\n",
       "                          MMC     AUROC              MMC     AUROC   \n",
       "DataSet                                                              \n",
       "orig                 0.984078  0.000000         0.984831  0.000000   \n",
       "MNIST                0.692679  0.966765         0.689281  0.973178   \n",
       "EMNIST               0.681222  0.969314         0.668332  0.974855   \n",
       "GrayCIFAR10          0.893414  0.893392         0.842169  0.930958   \n",
       "Noise                0.781063  0.958617         0.548391  0.987270   \n",
       "UniformNoise         0.643546  0.981035         0.750159  0.961726   \n",
       "\n",
       "             ODIN (TE: 4.69%)           GMM (TE: 5.04%)            \n",
       "                          MMC     AUROC             MMC     AUROC  \n",
       "DataSet                                                            \n",
       "orig                 0.423192  0.000000        0.983714  0.000000  \n",
       "MNIST                0.224143  0.993511        0.707906  0.968166  \n",
       "EMNIST               0.226076  0.993593        0.659582  0.974457  \n",
       "GrayCIFAR10          0.368576  0.793775        0.526969  0.969102  \n",
       "Noise                0.296943  0.959822        0.718811  0.960331  \n",
       "UniformNoise         0.195112  0.999312        0.100000  1.000000  "
      ]
     },
     "execution_count": 71,
     "metadata": {},
     "output_type": "execute_result"
    }
   ],
   "source": [
    "df.to_csv('results/' + dataset)"
   ]
  },
  {
   "cell_type": "code",
   "execution_count": 44,
   "metadata": {},
   "outputs": [
    {
     "data": {
      "text/plain": [
       "<module 'model_params' from '/home/alexm/project/notebooks/gmm-robust/model_params.py'>"
      ]
     },
     "execution_count": 44,
     "metadata": {},
     "output_type": "execute_result"
    }
   ],
   "source": [
    "reload(params)"
   ]
  },
  {
   "cell_type": "code",
   "execution_count": 41,
   "metadata": {},
   "outputs": [
    {
     "data": {
      "text/plain": [
       "Parameter containing:\n",
       "tensor(1000., device='cuda:7')"
      ]
     },
     "execution_count": 41,
     "metadata": {},
     "output_type": "execute_result"
    }
   ],
   "source": [
    "model_list[-2].model.temperature"
   ]
  },
  {
   "cell_type": "code",
   "execution_count": 46,
   "metadata": {},
   "outputs": [
    {
     "data": {
      "text/plain": [
       "<module 'utils.dataloaders' from '/home/alexm/project/notebooks/gmm-robust/utils/dataloaders.py'>"
      ]
     },
     "execution_count": 46,
     "metadata": {},
     "output_type": "execute_result"
    }
   ],
   "source": [
    "reload(dl)"
   ]
  },
  {
   "cell_type": "code",
   "execution_count": null,
   "metadata": {},
   "outputs": [],
   "source": []
  }
 ],
 "metadata": {
  "kernelspec": {
   "display_name": "Python 3",
   "language": "python",
   "name": "python3"
  },
  "language_info": {
   "codemirror_mode": {
    "name": "ipython",
    "version": 3
   },
   "file_extension": ".py",
   "mimetype": "text/x-python",
   "name": "python",
   "nbconvert_exporter": "python",
   "pygments_lexer": "ipython3",
   "version": "3.5.2"
  },
  "widgets": {
   "application/vnd.jupyter.widget-state+json": {
    "state": {},
    "version_major": 2,
    "version_minor": 0
   }
  }
 },
 "nbformat": 4,
 "nbformat_minor": 2
}
