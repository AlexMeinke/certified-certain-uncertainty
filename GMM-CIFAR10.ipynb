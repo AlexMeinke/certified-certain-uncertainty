{
 "cells": [
  {
   "cell_type": "code",
   "execution_count": 2,
   "metadata": {},
   "outputs": [
    {
     "name": "stdout",
     "output_type": "stream",
     "text": [
      "Files already downloaded and verified\n",
      "Files already downloaded and verified\n",
      "Files already downloaded and verified\n"
     ]
    }
   ],
   "source": [
    "import torch\n",
    "import torch.nn as nn\n",
    "import torch.nn.functional as F\n",
    "import torch.optim as optim\n",
    "\n",
    "import matplotlib.pyplot as plt\n",
    "\n",
    "from importlib import reload\n",
    "\n",
    "import utils.models as models\n",
    "import utils.plotting as plotting\n",
    "import utils.dataloaders as dl\n",
    "import utils.traintest as tt"
   ]
  },
  {
   "cell_type": "code",
   "execution_count": 3,
   "metadata": {},
   "outputs": [],
   "source": [
    "if torch.cuda.is_available():\n",
    "    device = torch.device('cuda:1')\n",
    "else:\n",
    "    device = torch.device('cpu')"
   ]
  },
  {
   "cell_type": "code",
   "execution_count": null,
   "metadata": {},
   "outputs": [
    {
     "name": "stdout",
     "output_type": "stream",
     "text": [
      "Prepared X\n"
     ]
    }
   ],
   "source": [
    "gmm = models.GMM(1000, 3072)\n",
    "\n",
    "X = []\n",
    "for x, f in dl.CIFAR10_train_loader:\n",
    "    X.append(x.view(-1, 3072))\n",
    "X = torch.cat(X, 0)\n",
    "print('Prepared X')\n",
    "gmm.find_solution(X, initialize=True, iterate=False, use_kmeans=True)\n",
    "\n",
    "torch.save(gmm, 'SavedModels/CIFAR10_GMM.pth')"
   ]
  },
  {
   "cell_type": "code",
   "execution_count": 7,
   "metadata": {},
   "outputs": [],
   "source": [
    "import resnet\n",
    "rs50 = resnet.ResNet50().to(device)"
   ]
  },
  {
   "cell_type": "code",
   "execution_count": 18,
   "metadata": {
    "collapsed": true
   },
   "outputs": [
    {
     "name": "stdout",
     "output_type": "stream",
     "text": [
      "Train Epoch: 0 [0/50000 (0%)]\tLoss: 0.277957\n",
      "Train Epoch: 0 [10000/50000 (20%)]\tLoss: 1.791380\n",
      "Train Epoch: 0 [20000/50000 (40%)]\tLoss: 1.904014\n",
      "Train Epoch: 0 [30000/50000 (60%)]\tLoss: 1.616970\n",
      "Train Epoch: 0 [40000/50000 (80%)]\tLoss: 1.693904\n",
      "Train Epoch: 1 [0/50000 (0%)]\tLoss: 1.629494\n",
      "Train Epoch: 1 [10000/50000 (20%)]\tLoss: 1.749766\n",
      "Train Epoch: 1 [20000/50000 (40%)]\tLoss: 1.700186\n",
      "Train Epoch: 1 [30000/50000 (60%)]\tLoss: 1.861064\n",
      "Train Epoch: 1 [40000/50000 (80%)]\tLoss: 1.646301\n",
      "Train Epoch: 2 [0/50000 (0%)]\tLoss: 1.574648\n",
      "Train Epoch: 2 [10000/50000 (20%)]\tLoss: 1.312002\n",
      "Train Epoch: 2 [20000/50000 (40%)]\tLoss: 1.432460\n",
      "Train Epoch: 2 [30000/50000 (60%)]\tLoss: 1.879186\n",
      "Train Epoch: 2 [40000/50000 (80%)]\tLoss: 1.410805\n",
      "Train Epoch: 3 [0/50000 (0%)]\tLoss: 1.425751\n",
      "Train Epoch: 3 [10000/50000 (20%)]\tLoss: 1.341006\n",
      "Train Epoch: 3 [20000/50000 (40%)]\tLoss: 1.338527\n",
      "Train Epoch: 3 [30000/50000 (60%)]\tLoss: 1.343538\n",
      "Train Epoch: 3 [40000/50000 (80%)]\tLoss: 1.324250\n",
      "Train Epoch: 4 [0/50000 (0%)]\tLoss: 1.315350\n",
      "Train Epoch: 4 [10000/50000 (20%)]\tLoss: 1.240201\n",
      "Train Epoch: 4 [20000/50000 (40%)]\tLoss: 1.266445\n",
      "Train Epoch: 4 [30000/50000 (60%)]\tLoss: 1.383803\n",
      "Train Epoch: 4 [40000/50000 (80%)]\tLoss: 1.244199\n",
      "Train Epoch: 5 [0/50000 (0%)]\tLoss: 1.291695\n",
      "Train Epoch: 5 [10000/50000 (20%)]\tLoss: 1.447434\n",
      "Train Epoch: 5 [20000/50000 (40%)]\tLoss: 1.361255\n",
      "Train Epoch: 5 [30000/50000 (60%)]\tLoss: 1.261132\n",
      "Train Epoch: 5 [40000/50000 (80%)]\tLoss: 1.110182\n",
      "Train Epoch: 6 [0/50000 (0%)]\tLoss: 1.245450\n",
      "Train Epoch: 6 [10000/50000 (20%)]\tLoss: 1.569532\n",
      "Train Epoch: 6 [20000/50000 (40%)]\tLoss: 1.323332\n",
      "Train Epoch: 6 [30000/50000 (60%)]\tLoss: 1.307272\n",
      "Train Epoch: 6 [40000/50000 (80%)]\tLoss: 1.208792\n",
      "Train Epoch: 7 [0/50000 (0%)]\tLoss: 1.272249\n",
      "Train Epoch: 7 [10000/50000 (20%)]\tLoss: 1.553936\n",
      "Train Epoch: 7 [20000/50000 (40%)]\tLoss: 1.382585\n",
      "Train Epoch: 7 [30000/50000 (60%)]\tLoss: 1.520120\n",
      "Train Epoch: 7 [40000/50000 (80%)]\tLoss: 1.363644\n",
      "Train Epoch: 8 [0/50000 (0%)]\tLoss: 1.231594\n",
      "Train Epoch: 8 [10000/50000 (20%)]\tLoss: 1.469606\n",
      "Train Epoch: 8 [20000/50000 (40%)]\tLoss: 1.588402\n",
      "Train Epoch: 8 [30000/50000 (60%)]\tLoss: 1.262428\n",
      "Train Epoch: 8 [40000/50000 (80%)]\tLoss: 1.467273\n",
      "Train Epoch: 9 [0/50000 (0%)]\tLoss: 1.306908\n",
      "Train Epoch: 9 [10000/50000 (20%)]\tLoss: 1.286700\n",
      "Train Epoch: 9 [20000/50000 (40%)]\tLoss: 1.425040\n",
      "Train Epoch: 9 [30000/50000 (60%)]\tLoss: 1.380787\n",
      "Train Epoch: 9 [40000/50000 (80%)]\tLoss: 1.357253\n",
      "Train Epoch: 0 [0/50000 (0%)]\tLoss: 1.376069\n",
      "Train Epoch: 0 [10000/50000 (20%)]\tLoss: 0.982506\n",
      "Train Epoch: 0 [20000/50000 (40%)]\tLoss: 0.872919\n",
      "Train Epoch: 0 [30000/50000 (60%)]\tLoss: 1.047719\n",
      "Train Epoch: 0 [40000/50000 (80%)]\tLoss: 0.882339\n",
      "Train Epoch: 1 [0/50000 (0%)]\tLoss: 0.950521\n",
      "Train Epoch: 1 [10000/50000 (20%)]\tLoss: 1.207419\n",
      "Train Epoch: 1 [20000/50000 (40%)]\tLoss: 1.071607\n",
      "Train Epoch: 1 [30000/50000 (60%)]\tLoss: 1.114335\n",
      "Train Epoch: 1 [40000/50000 (80%)]\tLoss: 1.078589\n",
      "Train Epoch: 2 [0/50000 (0%)]\tLoss: 1.247939\n",
      "Train Epoch: 2 [10000/50000 (20%)]\tLoss: 1.234924\n",
      "Train Epoch: 2 [20000/50000 (40%)]\tLoss: 1.020032\n",
      "Train Epoch: 2 [30000/50000 (60%)]\tLoss: 1.138978\n",
      "Train Epoch: 2 [40000/50000 (80%)]\tLoss: 0.891743\n",
      "Train Epoch: 3 [0/50000 (0%)]\tLoss: 0.992252\n",
      "Train Epoch: 3 [10000/50000 (20%)]\tLoss: 1.248064\n",
      "Train Epoch: 3 [20000/50000 (40%)]\tLoss: 0.768983\n",
      "Train Epoch: 3 [30000/50000 (60%)]\tLoss: 0.974047\n",
      "Train Epoch: 3 [40000/50000 (80%)]\tLoss: 1.012577\n",
      "Train Epoch: 4 [0/50000 (0%)]\tLoss: 0.767560\n",
      "Train Epoch: 4 [10000/50000 (20%)]\tLoss: 0.906110\n",
      "Train Epoch: 4 [20000/50000 (40%)]\tLoss: 0.998955\n",
      "Train Epoch: 4 [30000/50000 (60%)]\tLoss: 0.975613\n",
      "Train Epoch: 4 [40000/50000 (80%)]\tLoss: 1.052914\n",
      "Train Epoch: 5 [0/50000 (0%)]\tLoss: 0.831436\n",
      "Train Epoch: 5 [10000/50000 (20%)]\tLoss: 0.978578\n",
      "Train Epoch: 5 [20000/50000 (40%)]\tLoss: 0.979837\n",
      "Train Epoch: 5 [30000/50000 (60%)]\tLoss: 1.051025\n",
      "Train Epoch: 5 [40000/50000 (80%)]\tLoss: 0.818168\n",
      "Train Epoch: 6 [0/50000 (0%)]\tLoss: 0.900263\n",
      "Train Epoch: 6 [10000/50000 (20%)]\tLoss: 0.906135\n",
      "Train Epoch: 6 [20000/50000 (40%)]\tLoss: 0.960211\n",
      "Train Epoch: 6 [30000/50000 (60%)]\tLoss: 0.915508\n",
      "Train Epoch: 6 [40000/50000 (80%)]\tLoss: 1.089137\n",
      "Train Epoch: 7 [0/50000 (0%)]\tLoss: 1.060541\n",
      "Train Epoch: 7 [10000/50000 (20%)]\tLoss: 0.962306\n",
      "Train Epoch: 7 [20000/50000 (40%)]\tLoss: 1.055749\n",
      "Train Epoch: 7 [30000/50000 (60%)]\tLoss: 0.964536\n",
      "Train Epoch: 7 [40000/50000 (80%)]\tLoss: 0.966569\n",
      "Train Epoch: 8 [0/50000 (0%)]\tLoss: 0.881941\n",
      "Train Epoch: 8 [10000/50000 (20%)]\tLoss: 0.764022\n",
      "Train Epoch: 8 [20000/50000 (40%)]\tLoss: 0.912462\n",
      "Train Epoch: 8 [30000/50000 (60%)]\tLoss: 1.008534\n",
      "Train Epoch: 8 [40000/50000 (80%)]\tLoss: 1.109793\n",
      "Train Epoch: 9 [0/50000 (0%)]\tLoss: 0.824260\n",
      "Train Epoch: 9 [10000/50000 (20%)]\tLoss: 0.953161\n",
      "Train Epoch: 9 [20000/50000 (40%)]\tLoss: 1.019623\n",
      "Train Epoch: 9 [30000/50000 (60%)]\tLoss: 0.959055\n",
      "Train Epoch: 9 [40000/50000 (80%)]\tLoss: 1.049226\n",
      "Train Epoch: 0 [0/50000 (0%)]\tLoss: 1.006029\n",
      "Train Epoch: 0 [10000/50000 (20%)]\tLoss: 0.869282\n",
      "Train Epoch: 0 [20000/50000 (40%)]\tLoss: 0.814127\n",
      "Train Epoch: 0 [30000/50000 (60%)]\tLoss: 0.911942\n",
      "Train Epoch: 0 [40000/50000 (80%)]\tLoss: 0.678110\n",
      "Train Epoch: 1 [0/50000 (0%)]\tLoss: 0.777836\n",
      "Train Epoch: 1 [10000/50000 (20%)]\tLoss: 0.679528\n",
      "Train Epoch: 1 [20000/50000 (40%)]\tLoss: 0.924224\n",
      "Train Epoch: 1 [30000/50000 (60%)]\tLoss: 0.985165\n",
      "Train Epoch: 1 [40000/50000 (80%)]\tLoss: 0.881140\n",
      "Train Epoch: 2 [0/50000 (0%)]\tLoss: 0.688056\n",
      "Train Epoch: 2 [10000/50000 (20%)]\tLoss: 0.912424\n",
      "Train Epoch: 2 [20000/50000 (40%)]\tLoss: 0.968527\n",
      "Train Epoch: 2 [30000/50000 (60%)]\tLoss: 0.814554\n",
      "Train Epoch: 2 [40000/50000 (80%)]\tLoss: 0.960859\n",
      "Train Epoch: 3 [0/50000 (0%)]\tLoss: 0.792798\n",
      "Train Epoch: 3 [10000/50000 (20%)]\tLoss: 0.837698\n",
      "Train Epoch: 3 [20000/50000 (40%)]\tLoss: 0.830519\n",
      "Train Epoch: 3 [30000/50000 (60%)]\tLoss: 0.887616\n",
      "Train Epoch: 3 [40000/50000 (80%)]\tLoss: 0.923776\n",
      "Train Epoch: 4 [0/50000 (0%)]\tLoss: 1.002105\n",
      "Train Epoch: 4 [10000/50000 (20%)]\tLoss: 0.647750\n",
      "Train Epoch: 4 [20000/50000 (40%)]\tLoss: 0.847855\n",
      "Train Epoch: 4 [30000/50000 (60%)]\tLoss: 0.787063\n",
      "Train Epoch: 4 [40000/50000 (80%)]\tLoss: 0.767764\n",
      "Train Epoch: 5 [0/50000 (0%)]\tLoss: 0.652552\n",
      "Train Epoch: 5 [10000/50000 (20%)]\tLoss: 0.916454\n",
      "Train Epoch: 5 [20000/50000 (40%)]\tLoss: 0.862102\n",
      "Train Epoch: 5 [30000/50000 (60%)]\tLoss: 0.932273\n",
      "Train Epoch: 5 [40000/50000 (80%)]\tLoss: 0.873349\n",
      "Train Epoch: 6 [0/50000 (0%)]\tLoss: 0.682239\n",
      "Train Epoch: 6 [10000/50000 (20%)]\tLoss: 0.722116\n",
      "Train Epoch: 6 [20000/50000 (40%)]\tLoss: 0.766089\n",
      "Train Epoch: 6 [30000/50000 (60%)]\tLoss: 0.803249\n",
      "Train Epoch: 6 [40000/50000 (80%)]\tLoss: 0.715708\n",
      "Train Epoch: 7 [0/50000 (0%)]\tLoss: 0.836558\n",
      "Train Epoch: 7 [10000/50000 (20%)]\tLoss: 0.694055\n",
      "Train Epoch: 7 [20000/50000 (40%)]\tLoss: 0.697298\n",
      "Train Epoch: 7 [30000/50000 (60%)]\tLoss: 0.702689\n",
      "Train Epoch: 7 [40000/50000 (80%)]\tLoss: 0.746780\n",
      "Train Epoch: 8 [0/50000 (0%)]\tLoss: 0.775254\n",
      "Train Epoch: 8 [10000/50000 (20%)]\tLoss: 0.693265\n",
      "Train Epoch: 8 [20000/50000 (40%)]\tLoss: 0.757265\n",
      "Train Epoch: 8 [30000/50000 (60%)]\tLoss: 0.797325\n",
      "Train Epoch: 8 [40000/50000 (80%)]\tLoss: 0.934757\n",
      "Train Epoch: 9 [0/50000 (0%)]\tLoss: 0.589305\n",
      "Train Epoch: 9 [10000/50000 (20%)]\tLoss: 0.891263\n",
      "Train Epoch: 9 [20000/50000 (40%)]\tLoss: 0.884822\n",
      "Train Epoch: 9 [30000/50000 (60%)]\tLoss: 0.796378\n",
      "Train Epoch: 9 [40000/50000 (80%)]\tLoss: 0.822862\n"
     ]
    }
   ],
   "source": [
    "lr = .1\n",
    "\n",
    "optimizer = optim.Adam( rs50.parameters(), lr=lr, weight_decay=5e-4)\n",
    "for epoch in range(10):\n",
    "    tt.train(rs50, device, dl.CIFAR10_train_loader, optimizer, epoch)\n",
    "\n",
    "optimizer.param_groups[0]['lr'] *= .1\n",
    "for epoch in range(10):\n",
    "    tt.train(rs50, device, dl.CIFAR10_train_loader, optimizer, epoch)\n",
    "\n",
    "optimizer.param_groups[0]['lr'] *= .1\n",
    "for epoch in range(10):\n",
    "    tt.train(rs50, device, dl.CIFAR10_train_loader, optimizer, epoch)"
   ]
  },
  {
   "cell_type": "code",
   "execution_count": 20,
   "metadata": {},
   "outputs": [],
   "source": [
    "torch.save(rs50, 'SavedModels/resnet50_base.pth')"
   ]
  },
  {
   "cell_type": "code",
   "execution_count": null,
   "metadata": {},
   "outputs": [],
   "source": [
    "base_model = resnet.ResNet50().to(device)\n",
    "\n",
    "gmm = torch.load('SavedModels/CIFAR10_GMM.pth')\n",
    "gmm_model = models.RobustModel(base_model, gmm, -3.).to(device)\n",
    "gmm_model.loglam.requires_grad = False"
   ]
  },
  {
   "cell_type": "code",
   "execution_count": null,
   "metadata": {},
   "outputs": [],
   "source": [
    "gmm_model = torch.load('SavedModels/gmm_CIFAR10.pth')\n",
    "#rs50 = torch.load('SavedModels/resnet50.pth')"
   ]
  },
  {
   "cell_type": "code",
   "execution_count": null,
   "metadata": {},
   "outputs": [],
   "source": [
    "gmm_model.mm.logvar.data -= 3"
   ]
  },
  {
   "cell_type": "code",
   "execution_count": 16,
   "metadata": {},
   "outputs": [],
   "source": [
    "rs50 = torch.load('SavedModels/resnet50.pth').to(device)"
   ]
  },
  {
   "cell_type": "code",
   "execution_count": 45,
   "metadata": {},
   "outputs": [],
   "source": [
    "class PermutationNoise(object):\n",
    "    def __init__(self):\n",
    "        pass\n",
    "    def __call__(self, data):\n",
    "        shape = data.shape\n",
    "        new_data = 0*data\n",
    "        for (i, x) in enumerate(data):\n",
    "            idx = torch.tensor(np.random.permutation(np.prod(shape[1:])))\n",
    "            new_data[i] = (x.view(np.prod(shape[1:]))[idx]).view(shape[1:])\n",
    "        return new_data"
   ]
  },
  {
   "cell_type": "code",
   "execution_count": 51,
   "metadata": {},
   "outputs": [
    {
     "data": {
      "text/plain": [
       "<matplotlib.image.AxesImage at 0x7ff0313a5d30>"
      ]
     },
     "execution_count": 51,
     "metadata": {},
     "output_type": "execute_result"
    },
    {
     "data": {
      "image/png": "[encoded data removed]",
      "text/plain": [
       "<Figure size 432x288 with 1 Axes>"
      ]
     },
     "metadata": {},
     "output_type": "display_data"
    }
   ],
   "source": [
    "plt.imshow(PermutationNoise()(data[0]).transpose(0,2))"
   ]
  },
  {
   "cell_type": "code",
   "execution_count": 237,
   "metadata": {},
   "outputs": [
    {
     "data": {
      "text/plain": [
       "<module 'utils.preproc' from '/home/alexm/project/notebooks/gmm-robust/utils/preproc.py'>"
      ]
     },
     "execution_count": 237,
     "metadata": {},
     "output_type": "execute_result"
    }
   ],
   "source": [
    "reload(pre)"
   ]
  },
  {
   "cell_type": "code",
   "execution_count": 238,
   "metadata": {},
   "outputs": [],
   "source": [
    "import torch\n",
    "from torchvision import datasets, transforms\n",
    "\n",
    "import numpy as np\n",
    "import scipy.ndimage.filters as filters\n",
    "import utils.preproc as pre\n",
    "\n",
    "Noise_loader = torch.utils.data.DataLoader(\n",
    "        datasets.CIFAR10('../data', train=False, transform=pre.noise_transform_cont),\n",
    "        batch_size=10, shuffle=False)"
   ]
  },
  {
   "cell_type": "code",
   "execution_count": 264,
   "metadata": {},
   "outputs": [
    {
     "data": {
      "text/plain": [
       "<matplotlib.image.AxesImage at 0x7fd1a0e49908>"
      ]
     },
     "execution_count": 264,
     "metadata": {},
     "output_type": "execute_result"
    },
    {
     "data": {
      "image/png": "[encoded data removed]",
      "text/plain": [
       "<Figure size 432x288 with 1 Axes>"
      ]
     },
     "metadata": {},
     "output_type": "display_data"
    }
   ],
   "source": []
  },
  {
   "cell_type": "code",
   "execution_count": 279,
   "metadata": {},
   "outputs": [
    {
     "data": {
      "text/plain": [
       "<matplotlib.image.AxesImage at 0x7fd1a0b80550>"
      ]
     },
     "execution_count": 279,
     "metadata": {},
     "output_type": "execute_result"
    },
    {
     "data": {
      "image/png": "[encoded data removed]",
      "text/plain": [
       "<Figure size 432x288 with 1 Axes>"
      ]
     },
     "metadata": {},
     "output_type": "display_data"
    }
   ],
   "source": [
    "x = enumerate(Noise_loader).__next__()[1][0][7].transpose(0,2)\n",
    "plt.imshow(x)"
   ]
  },
  {
   "cell_type": "code",
   "execution_count": 263,
   "metadata": {},
   "outputs": [
    {
     "data": {
      "text/plain": [
       "tensor(0.4666)"
      ]
     },
     "execution_count": 263,
     "metadata": {},
     "output_type": "execute_result"
    }
   ],
   "source": []
  },
  {
   "cell_type": "code",
   "execution_count": 149,
   "metadata": {},
   "outputs": [],
   "source": [
    "class PermutationNoise(object):\n",
    "    def __init__(self):\n",
    "        pass\n",
    "    def __call__(self, data):\n",
    "        shape = data.shape\n",
    "        new_data = 0*data\n",
    "        idx = [torch.tensor(np.random.permutation(np.prod(shape[-2:])))]\n",
    "        for i, x in enumerate(data):\n",
    "            new_data[i] = (x.view(np.prod(shape[-2:]))[idx]).view(shape[-2:])\n",
    "        return new_data"
   ]
  },
  {
   "cell_type": "code",
   "execution_count": 150,
   "metadata": {},
   "outputs": [
    {
     "data": {
      "text/plain": [
       "<matplotlib.image.AxesImage at 0x7fefec06def0>"
      ]
     },
     "execution_count": 150,
     "metadata": {},
     "output_type": "execute_result"
    },
    {
     "data": {
      "image/png": "[encoded data removed]",
      "text/plain": [
       "<Figure size 432x288 with 1 Axes>"
      ]
     },
     "metadata": {},
     "output_type": "display_data"
    }
   ],
   "source": [
    "plt.imshow(PermutationNoise()(data[0]).transpose(0,2))"
   ]
  },
  {
   "cell_type": "code",
   "execution_count": 128,
   "metadata": {},
   "outputs": [
    {
     "data": {
      "text/plain": [
       "(1024,)"
      ]
     },
     "execution_count": 128,
     "metadata": {},
     "output_type": "execute_result"
    }
   ],
   "source": [
    "np.random.permutation(np.prod(data[0].shape[-2:])).shape"
   ]
  },
  {
   "cell_type": "code",
   "execution_count": 129,
   "metadata": {},
   "outputs": [],
   "source": [
    "idx = torch.tensor(np.random.permutation(np.prod(data[0].shape[-2:]))).unsqueeze(0)"
   ]
  },
  {
   "cell_type": "code",
   "execution_count": 131,
   "metadata": {},
   "outputs": [],
   "source": [
    "shape = data[0].shape"
   ]
  },
  {
   "cell_type": "code",
   "execution_count": 139,
   "metadata": {},
   "outputs": [
    {
     "ename": "RuntimeError",
     "evalue": "index 544 is out of bounds for dim with size 3",
     "output_type": "error",
     "traceback": [
      "\u001b[0;31m---------------------------------------------------------------------------\u001b[0m",
      "\u001b[0;31mRuntimeError\u001b[0m                              Traceback (most recent call last)",
      "\u001b[0;32m<ipython-input-139-d831aed8a21f>\u001b[0m in \u001b[0;36m<module>\u001b[0;34m()\u001b[0m\n\u001b[0;32m----> 1\u001b[0;31m \u001b[0mdata\u001b[0m\u001b[0;34m[\u001b[0m\u001b[0;36m0\u001b[0m\u001b[0;34m]\u001b[0m\u001b[0;34m.\u001b[0m\u001b[0mview\u001b[0m\u001b[0;34m(\u001b[0m\u001b[0mshape\u001b[0m\u001b[0;34m[\u001b[0m\u001b[0;36m0\u001b[0m\u001b[0;34m]\u001b[0m\u001b[0;34m,\u001b[0m \u001b[0mnp\u001b[0m\u001b[0;34m.\u001b[0m\u001b[0mprod\u001b[0m\u001b[0;34m(\u001b[0m\u001b[0mshape\u001b[0m\u001b[0;34m[\u001b[0m\u001b[0;36m1\u001b[0m\u001b[0;34m:\u001b[0m\u001b[0;34m]\u001b[0m\u001b[0;34m)\u001b[0m\u001b[0;34m)\u001b[0m\u001b[0;34m[\u001b[0m\u001b[0midx\u001b[0m\u001b[0;34m]\u001b[0m\u001b[0;34m\u001b[0m\u001b[0m\n\u001b[0m",
      "\u001b[0;31mRuntimeError\u001b[0m: index 544 is out of bounds for dim with size 3"
     ]
    }
   ],
   "source": [
    "data[0].view(shape[0], np.prod(shape[1:]))[idx]"
   ]
  },
  {
   "cell_type": "code",
   "execution_count": 136,
   "metadata": {},
   "outputs": [],
   "source": [
    "idx = torch.stack(shape[0]*[torch.tensor(np.random.permutation(np.prod(shape[-2:])))], 0)"
   ]
  },
  {
   "cell_type": "code",
   "execution_count": 137,
   "metadata": {},
   "outputs": [
    {
     "data": {
      "text/plain": [
       "torch.Size([3, 1024])"
      ]
     },
     "execution_count": 137,
     "metadata": {},
     "output_type": "execute_result"
    }
   ],
   "source": [
    "idx.shape"
   ]
  },
  {
   "cell_type": "code",
   "execution_count": 138,
   "metadata": {},
   "outputs": [
    {
     "data": {
      "text/plain": [
       "tensor([818, 818, 818])"
      ]
     },
     "execution_count": 138,
     "metadata": {},
     "output_type": "execute_result"
    }
   ],
   "source": [
    "idx[:,0]"
   ]
  },
  {
   "cell_type": "code",
   "execution_count": 154,
   "metadata": {},
   "outputs": [
    {
     "data": {
      "text/plain": [
       "<module 'utils.preproc' from '/home/alexm/project/notebooks/gmm-robust/utils/preproc.py'>"
      ]
     },
     "execution_count": 154,
     "metadata": {},
     "output_type": "execute_result"
    }
   ],
   "source": [
    "reload(pre)"
   ]
  },
  {
   "cell_type": "code",
   "execution_count": null,
   "metadata": {},
   "outputs": [],
   "source": [
    "re"
   ]
  }
 ],
 "metadata": {
  "kernelspec": {
   "display_name": "Python 3",
   "language": "python",
   "name": "python3"
  },
  "language_info": {
   "codemirror_mode": {
    "name": "ipython",
    "version": 3
   },
   "file_extension": ".py",
   "mimetype": "text/x-python",
   "name": "python",
   "nbconvert_exporter": "python",
   "pygments_lexer": "ipython3",
   "version": "3.5.2"
  }
 },
 "nbformat": 4,
 "nbformat_minor": 2
}
