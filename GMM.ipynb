{
 "cells": [
  {
   "cell_type": "code",
   "execution_count": 20,
   "metadata": {},
   "outputs": [],
   "source": [
    "import torch\n",
    "import math\n",
    "import numpy as np\n",
    "\n",
    "import torch.nn as nn\n",
    "\n",
    "class GMM(nn.Module):\n",
    "    \n",
    "    \n",
    "    def __init__(self, K, D):\n",
    "        \"\"\"\n",
    "        Initializes means, variances and weights randomly\n",
    "        :param K: number of gaussians\n",
    "        :param D: number of features\n",
    "        \"\"\"\n",
    "        super(GMM, self).__init__()\n",
    "\n",
    "        self.D = D\n",
    "        self.K = K\n",
    "        self.mu = nn.Parameter(torch.rand(K, D))\n",
    "        self.logvar = nn.Parameter(torch.rand(K))\n",
    "        self.alpha = nn.Parameter(torch.empty(K).fill_(1. / K))\n",
    "\n",
    "        self.logvarbound = 0\n",
    "        self.NORM_CONST = torch.tensor(2*math.pi).log()\n",
    "    \n",
    "    def forward(self, X):\n",
    "        \"\"\"\n",
    "        Compute the likelihood of each data point under each gaussians.\n",
    "        :param X: design matrix (examples, features) (N,D)\n",
    "        :return likelihoods: (K, examples) (K, N)\n",
    "        \"\"\"\n",
    "        \n",
    "        a = ((X[None,:,:]-self.mu[:,None,:])**2).sum(-1)\n",
    "        b = self.logvar[:,None].exp()\n",
    "        return (self.alpha.log()[:,None] \n",
    "                - .5*( self.D*self.NORM_CONST \n",
    "                      + self.D*self.logvar[:,None] \n",
    "                      + a/b ) )\n",
    "                                          \n",
    "    \n",
    "    def get_posteriors(self, X):\n",
    "        log_like = self.forward(X)\n",
    "        log_post = log_like - self.logsumexp(log_like, dim=0, keepdim=True)\n",
    "        return log_post\n",
    "    \n",
    "    def EM_step(self, X):\n",
    "        log_post = self.get_posteriors(X)\n",
    "        post = log_post.exp()\n",
    "        Nk = post.sum(dim=1)\n",
    "        \n",
    "        self.mu.data = (post[:,:,None]*X[None,:,:]).sum(dim=1) / Nk[:,None]\n",
    "        temp = log_post + ((X[None,:,:]-self.mu[:,None,:])**2).sum(dim=-1).log()\n",
    "        self.logvar.data = (- Nk.log() \n",
    "                       + self.logsumexp(temp, dim=1, keepdim=False))\n",
    "        \n",
    "        self.alpha.data = Nk/Nk.sum()\n",
    "        \n",
    "    def find_solution(self, X, initialize=True, iterate=True):\n",
    "        \n",
    "        assert X.device==self.mu.device, 'Data stored on ' + str(X.device) + ' but model on ' + str(self.mu.device)\n",
    "        \n",
    "        with torch.no_grad():\n",
    "            if initialize:\n",
    "                m = X.size(0)\n",
    "                idxs = torch.from_numpy(np.random.choice(m, self.K, replace=False)).long()\n",
    "                self.mu.data = X[idxs]\n",
    "                self.logvar.data = torch.empty(self.K, device=self.mu.device).fill_( (X.var() / self.K).log() ) + 6\n",
    "                self.alpha.data = torch.empty(self.K, device=self.mu.device).fill_(1. / self.K)\n",
    "                self.logvarbound = (X.var() / m).log()\n",
    "\n",
    "            if iterate:\n",
    "                for _ in range(500):\n",
    "                    mu_prev = self.mu\n",
    "                    logvar_prev = self.logvar\n",
    "                    alpha_prev = self.alpha\n",
    "                    self.EM_step(X)\n",
    "                    self.logvar.data[self.logvar < self.logvarbound] = self.logvarbound\n",
    "\n",
    "                    delta = torch.stack( ((mu_prev-self.mu).abs().max(),\n",
    "                                (logvar_prev-self.logvar).abs().max(),\n",
    "                                (alpha_prev-self.alpha).abs().max()) ).max()\n",
    "\n",
    "                    if delta<10e-6:\n",
    "                        break\n",
    "\n",
    "    \n",
    "    @staticmethod\n",
    "    def logsumexp(x, dim, keepdim=False):\n",
    "        \"\"\"\n",
    "        :param x: input data\n",
    "        :param dim: dimension to sum over\n",
    "        :param keepdim: whether it should squeeze that dimension\n",
    "        :return:\n",
    "        \"\"\"\n",
    "        max, _ = torch.max(x, dim=dim, keepdim=True)\n",
    "        out = max.squeeze() + (x - max).exp().sum(dim=dim, keepdim=keepdim).log()\n",
    "        return out\n",
    "\n",
    "    "
   ]
  },
  {
   "cell_type": "code",
   "execution_count": 2,
   "metadata": {},
   "outputs": [],
   "source": [
    "def sample(mu, var, nb_samples=500):\n",
    "    \"\"\"\n",
    "    Return a tensor of (nb_samples, features), sampled\n",
    "    from the parameterized gaussian.\n",
    "    :param mu: torch.Tensor of the means\n",
    "    :param var: torch.Tensor of variances (NOTE: zero covars.)\n",
    "    \"\"\"\n",
    "    out = []\n",
    "    for i in range(nb_samples):\n",
    "        out += [\n",
    "            torch.normal(mu, var.sqrt())\n",
    "        ]\n",
    "    return torch.stack(out, dim=0)\n",
    "\n",
    "# generate some clusters\n",
    "cluster1 = sample(\n",
    "    torch.Tensor([2.5, 2.5]),\n",
    "    torch.Tensor([1.2, .8]),\n",
    "    nb_samples=500\n",
    ")\n",
    "\n",
    "cluster2 = sample(\n",
    "    torch.Tensor([7.5, 7.5]),\n",
    "    torch.Tensor([.75, .5]),\n",
    "    nb_samples=500\n",
    ")\n",
    "\n",
    "cluster3 = sample(\n",
    "    torch.Tensor([8, 1.5]),\n",
    "    torch.Tensor([.6, .8]),\n",
    "    nb_samples=1000\n",
    ")\n",
    "\n",
    "X = torch.cat([cluster1, cluster2, cluster3])"
   ]
  },
  {
   "cell_type": "code",
   "execution_count": 3,
   "metadata": {},
   "outputs": [],
   "source": [
    "if torch.cuda.is_available():\n",
    "    device = torch.device('cuda')\n",
    "else:\n",
    "    device = torch.device('cpu')\n",
    "\n",
    "gmm = GMM(100, 2).to(device)\n",
    "gmm.find_solution(X.to(device))"
   ]
  },
  {
   "cell_type": "code",
   "execution_count": 5,
   "metadata": {},
   "outputs": [],
   "source": [
    "import matplotlib.pyplot as plt\n",
    "from matplotlib import cm\n",
    "from mpl_toolkits.mplot3d import Axes3D\n",
    "%matplotlib inline\n",
    "#import seaborn as sns\n",
    "from matplotlib import patches\n",
    "\n",
    "def plot_2d_sample(sample, mu=None, sig=None, idx=(0,1)):\n",
    "    \"\"\"\n",
    "    :param sample: \n",
    "    :param mu:\n",
    "    :param sig: \n",
    "    :return:\n",
    "    \"\"\"\n",
    "    #fig = plt.figure(figsize=(5, 5))\n",
    "    ax = plt.gca()\n",
    "    ax.cla()\n",
    "    \n",
    "    sample_np = sample.numpy()\n",
    "    x = sample_np[:, idx[0]]\n",
    "    y = sample_np[:, idx[1]]\n",
    "    ax.scatter(x, y)\n",
    "\n",
    "    if (mu is not None and sig is not None):\n",
    "        for i in range(mu.shape[0]):\n",
    "            ellipse = patches.Ellipse( (mu[i,idx[0]], mu[i,idx[1]]) , sig[i], sig[i], color='r', fill=False) \n",
    "            ax.add_artist(ellipse)\n",
    "    plt.axis('equal')\n",
    "    plt.show()"
   ]
  },
  {
   "cell_type": "code",
   "execution_count": 6,
   "metadata": {},
   "outputs": [
    {
     "data": {
      "image/png": "[encoded data removed]",
      "text/plain": [
       "<Figure size 432x288 with 1 Axes>"
      ]
     },
     "metadata": {},
     "output_type": "display_data"
    }
   ],
   "source": [
    "plot_2d_sample(X,gmm.mu, (gmm.logvar/2).exp())"
   ]
  },
  {
   "cell_type": "code",
   "execution_count": 7,
   "metadata": {},
   "outputs": [],
   "source": [
    "import torch\n",
    "import torch.nn as nn\n",
    "import torch.nn.functional as F\n",
    "\n",
    "class Net(nn.Module):\n",
    "    def __init__(self, base_model, X, K, i=1.):\n",
    "        super(Net, self).__init__()\n",
    "        self.base_model = base_model\n",
    "        \n",
    "        self.gmm = GMM(K, 784)\n",
    "        self.gmm.find_solution(X, iterate=False)\n",
    "        self.log_pz_lam = -784*torch.tensor(i).log().to(device)\n",
    "        self.log_K = -torch.tensor(10.).log().to(device)\n",
    "        \n",
    "        \n",
    "    def forward(self, x):\n",
    "        batch_size = x.shape[0]\n",
    "        likelihood_per_peak = self.gmm(x.view(batch_size, 784))\n",
    "        like = self.gmm.logsumexp(likelihood_per_peak, 0)\n",
    "\n",
    "        x = self.base_model(x)\n",
    "        \n",
    "        a1 = torch.stack( (x + like[:,None], (self.log_pz_lam + self.log_K)*torch.ones_like(x) ), 0)\n",
    "        b1 = self.gmm.logsumexp(a1, 0).squeeze()\n",
    "\n",
    "        a2 = torch.stack( (like , (self.log_pz_lam)*torch.ones_like(like) ), 0)\n",
    "        b2 = self.gmm.logsumexp(a2, 0).squeeze()[:,None]\n",
    "\n",
    "        return b1-b2\n",
    "\n",
    "\n",
    "class NetVanilla(nn.Module):\n",
    "    def __init__(self):\n",
    "        super(NetVanilla, self).__init__()\n",
    "        self.conv1 = nn.Conv2d(1, 20, 5, 1)\n",
    "        self.conv2 = nn.Conv2d(20, 50, 5, 1)\n",
    "        self.fc1 = nn.Linear(4*4*50, 500)\n",
    "        self.fc2 = nn.Linear(500, 10)\n",
    "\n",
    "    def forward(self, x):\n",
    "        x = F.relu(self.conv1(x))\n",
    "        x = F.max_pool2d(x, 2, 2)\n",
    "        x = F.relu(self.conv2(x))\n",
    "        x = F.max_pool2d(x, 2, 2)\n",
    "        x = x.view(-1, 4*4*50)\n",
    "        x = F.relu(self.fc1(x))\n",
    "        x = self.fc2(x)\n",
    "        x = F.log_softmax(x, dim=1)\n",
    "        return x"
   ]
  },
  {
   "cell_type": "code",
   "execution_count": 8,
   "metadata": {
    "scrolled": true
   },
   "outputs": [],
   "source": [
    "from torchvision import datasets, transforms\n",
    "\n",
    "batch_size = 100\n",
    "test_batch_size = 10\n",
    "\n",
    "\n",
    "class Transpose(object):\n",
    "    def __init__(self):\n",
    "        pass\n",
    "    def __call__(self, data):\n",
    "        return data.transpose(-1,-2)\n",
    "\n",
    "transform = transforms.Compose([\n",
    "                           transforms.ToTensor(),\n",
    "                           transforms.Normalize((0.1307,), (0.3081,))\n",
    "                       ])\n",
    "\n",
    "transform = transforms.ToTensor()\n",
    "\n",
    "train_loader = torch.utils.data.DataLoader(\n",
    "        datasets.MNIST('../data', train=True, download=True, transform=transform),\n",
    "        batch_size=batch_size, shuffle=True)\n",
    "test_loader = torch.utils.data.DataLoader(\n",
    "        datasets.MNIST('../data', train=False, transform=transform),\n",
    "        batch_size=test_batch_size, shuffle=False)\n",
    "gmm_loader = torch.utils.data.DataLoader(\n",
    "        datasets.MNIST('../data', train=True, download=True, transform=transform),\n",
    "        batch_size=3000, shuffle=True)\n",
    "\n",
    "#EMNIST is rotated 90 degrees from MNIST\n",
    "EMNIST_train_loader = torch.utils.data.DataLoader(\n",
    "    datasets.EMNIST('../data', split='letters', download=True, train=True, \n",
    "                    transform=transforms.Compose([transform, Transpose()])),\n",
    "    batch_size=batch_size, shuffle=True)\n",
    "\n",
    "EMNIST_test_loader = torch.utils.data.DataLoader(\n",
    "    datasets.EMNIST('../data', split='letters', download=True, train=False, \n",
    "                    transform=transforms.Compose([transform, Transpose()])),\n",
    "    batch_size=test_batch_size, shuffle=True)\n",
    "\n",
    "EMNIST_test_loader_digits = torch.utils.data.DataLoader(\n",
    "    datasets.EMNIST('../data', split='digits', download=True, train=False, \n",
    "                    transform=transforms.Compose([transform, Transpose()])),\n",
    "    batch_size=test_batch_size, shuffle=True)\n",
    "\n",
    "X_MNIST = enumerate(gmm_loader).__next__()[1][0].view(gmm_loader.batch_size, 784)"
   ]
  },
  {
   "cell_type": "code",
   "execution_count": 9,
   "metadata": {},
   "outputs": [],
   "source": [
    "def train(model, device, train_loader, optimizer, epoch, adv_loader):\n",
    "    model.train()\n",
    "    min_loss = torch.tensor(10.).log()\n",
    "    #for batch_idx, (data, target) in enumerate(train_loader):\n",
    "    for ((batch_idx, (data, target)), (_, (data_adv, _))) in zip(enumerate(train_loader),enumerate(adv_loader)):\n",
    "        data, target = data.to(device), target.to(device)\n",
    "        data_adv = data_adv.to(device)\n",
    "        optimizer.zero_grad()\n",
    "        output = model(data)\n",
    "        \n",
    "        input_rand = torch.rand(train_loader.batch_size,1,28,28).to(device)\n",
    "        #output_rand = model(input_rand)\n",
    "        output_rand = model(data_adv)\n",
    "\n",
    "        loss = F.nll_loss(output, target) - output_rand.sum()/(10*train_loader.batch_size)\n",
    "        loss.backward()\n",
    "        optimizer.step()\n",
    "        if batch_idx % 100 == 0:\n",
    "            print('Train Epoch: {} [{}/{} ({:.0f}%)]\\tLoss: {:.6f}'.format(\n",
    "                epoch, batch_idx * len(data), len(train_loader.dataset),\n",
    "                100. * batch_idx / len(train_loader), loss.item()))\n",
    "\n",
    "\n",
    "def test(model, device, test_loader):\n",
    "    model.eval()\n",
    "    test_loss = 0\n",
    "    correct = 0\n",
    "    av_conf = 0\n",
    "    with torch.no_grad():\n",
    "        for data, target in test_loader:\n",
    "            data, target = data.to(device), target.to(device)\n",
    "            output = model(data)\n",
    "\n",
    "            test_loss += F.nll_loss(output, target, reduction='sum').item() # sum up batch loss\n",
    "            c, pred = output.max(1, keepdim=True) # get the index of the max log-probability\n",
    "            correct += pred.eq(target.view_as(pred)).sum().item()\n",
    "            av_conf += c.exp().sum().item()\n",
    "            \n",
    "    test_loss /= len(test_loader.dataset)\n",
    "    av_conf /= len(test_loader.dataset)\n",
    "\n",
    "    print('\\nTest set: Average loss: {:.4f}, Accuracy: {}/{} ({:.0f}%), Ave. Confidence: {:.0f}%\\n'.format(\n",
    "        test_loss, correct, len(test_loader.dataset),\n",
    "        100. * correct / len(test_loader.dataset), 100. * av_conf))"
   ]
  },
  {
   "cell_type": "code",
   "execution_count": 12,
   "metadata": {},
   "outputs": [],
   "source": [
    "base_model = NetVanilla().to(device)"
   ]
  },
  {
   "cell_type": "code",
   "execution_count": 14,
   "metadata": {},
   "outputs": [
    {
     "name": "stdout",
     "output_type": "stream",
     "text": [
      "Train Epoch: 0 [0/60000 (0%)]\tLoss: 3.543947\n",
      "Train Epoch: 0 [10000/60000 (17%)]\tLoss: 3.360509\n",
      "Train Epoch: 0 [20000/60000 (33%)]\tLoss: 3.332151\n",
      "Train Epoch: 0 [30000/60000 (50%)]\tLoss: 3.211148\n",
      "Train Epoch: 0 [40000/60000 (67%)]\tLoss: 3.160079\n",
      "Train Epoch: 0 [50000/60000 (83%)]\tLoss: 2.933857\n",
      "Train Epoch: 1 [0/60000 (0%)]\tLoss: 2.927609\n",
      "Train Epoch: 1 [10000/60000 (17%)]\tLoss: 3.017762\n",
      "Train Epoch: 1 [20000/60000 (33%)]\tLoss: 3.039484\n",
      "Train Epoch: 1 [30000/60000 (50%)]\tLoss: 2.859704\n",
      "Train Epoch: 1 [40000/60000 (67%)]\tLoss: 2.740639\n",
      "Train Epoch: 1 [50000/60000 (83%)]\tLoss: 2.766888\n"
     ]
    }
   ],
   "source": [
    "import torch.optim as optim\n",
    "\n",
    "lr = .001\n",
    "momentum = .9\n",
    "\n",
    "optimizer_base = optim.SGD(base_model.parameters(), lr=lr, momentum=momentum)\n",
    "for epoch in range(2):\n",
    "    train(base_model, device, train_loader, optimizer_base, epoch, EMNIST_train_loader)"
   ]
  },
  {
   "cell_type": "code",
   "execution_count": 21,
   "metadata": {},
   "outputs": [],
   "source": [
    "model = Net(base_model, X_MNIST, 1000).to(device)"
   ]
  },
  {
   "cell_type": "code",
   "execution_count": 23,
   "metadata": {},
   "outputs": [
    {
     "data": {
      "image/png": "[encoded data removed]",
      "text/plain": [
       "<Figure size 432x288 with 10 Axes>"
      ]
     },
     "metadata": {},
     "output_type": "display_data"
    }
   ],
   "source": [
    "data = enumerate(test_loader).__next__()[1][0]\n",
    "y = model(data.to(device))\n",
    "\n",
    "for i in range(10):\n",
    "    plt.subplot(2,5,i+1)\n",
    "    plt.title(str(y.argmax(1)[i].item()) + \":   %.2f\" % y[i].max().exp().item())\n",
    "    plt.imshow(data[i].squeeze(), cmap='gray', interpolation='none')\n",
    "    plt.xticks([])\n",
    "    plt.yticks([])"
   ]
  },
  {
   "cell_type": "code",
   "execution_count": 205,
   "metadata": {},
   "outputs": [
    {
     "data": {
      "image/png": "[encoded data removed]",
      "text/plain": [
       "<Figure size 432x288 with 10 Axes>"
      ]
     },
     "metadata": {},
     "output_type": "display_data"
    }
   ],
   "source": [
    "def unnormalize(tensor, mean, std):\n",
    "\n",
    "    for t, m, s in zip(tensor, mean, std):\n",
    "        t.mul_(s).add_(m)\n",
    "        # The normalize code -> t.sub_(m).div_(s)\n",
    "    return tensor\n",
    "\n",
    "data = enumerate(EMNIST_test_loader_digits).__next__()[1][0]\n",
    "y = model(data.to(device))\n",
    "\n",
    "for i in range(10):\n",
    "    plt.subplot(2,5,i+1)\n",
    "    plt.title(str(y.argmax(1)[i].item()) + \":   %.2f\" % y[i].max().exp().item())\n",
    "    plt.imshow(unnormalize(data, (0.1307,), (0.3081,) )[i].squeeze(), cmap='gray', interpolation='none')\n",
    "    plt.xticks([])\n",
    "    plt.yticks([])"
   ]
  },
  {
   "cell_type": "code",
   "execution_count": 16,
   "metadata": {},
   "outputs": [
    {
     "data": {
      "image/png": "[encoded data removed]",
      "text/plain": [
       "<Figure size 432x288 with 10 Axes>"
      ]
     },
     "metadata": {},
     "output_type": "display_data"
    }
   ],
   "source": [
    "import matplotlib.pyplot as plt\n",
    "\n",
    "x = torch.rand(10,1,28,28).to(device)\n",
    "y = model(x)\n",
    "x = x.cpu()\n",
    "fig = plt.figure()\n",
    "for i in range(10):\n",
    "    plt.subplot(2,5,i+1)\n",
    "    plt.title(str(y.argmax(1)[i].item()) + \":   %.2f\" % y[i].max().exp().item())\n",
    "    plt.imshow(x.view((10, 1, 28, 28))[i].squeeze(), cmap='gray', interpolation='none')\n",
    "    plt.xticks([])\n",
    "    plt.yticks([])"
   ]
  },
  {
   "cell_type": "code",
   "execution_count": 139,
   "metadata": {},
   "outputs": [
    {
     "name": "stdout",
     "output_type": "stream",
     "text": [
      "\n",
      "Test set: Average loss: 0.7974, Accuracy: 8093/10000 (81%), Ave. Confidence: 59%\n",
      "\n"
     ]
    }
   ],
   "source": [
    "test(model, device, test_loader)"
   ]
  },
  {
   "cell_type": "code",
   "execution_count": 140,
   "metadata": {
    "scrolled": true
   },
   "outputs": [
    {
     "name": "stdout",
     "output_type": "stream",
     "text": [
      "\n",
      "Test set: Average loss: 1.4339, Accuracy: 23327/40000 (58%), Ave. Confidence: 37%\n",
      "\n"
     ]
    }
   ],
   "source": [
    "test(model, device, EMNIST_test_loader_digits)"
   ]
  },
  {
   "cell_type": "code",
   "execution_count": 96,
   "metadata": {},
   "outputs": [
    {
     "name": "stdout",
     "output_type": "stream",
     "text": [
      "\n",
      "Test set: Average loss: 0.3818, Accuracy: 9467/10000 (95%), Ave. Confidence: 74%\n",
      "\n"
     ]
    }
   ],
   "source": [
    "test(model2, device, test_loader)"
   ]
  },
  {
   "cell_type": "code",
   "execution_count": 97,
   "metadata": {},
   "outputs": [
    {
     "name": "stdout",
     "output_type": "stream",
     "text": [
      "\n",
      "Test set: Average loss: 1.1050, Accuracy: 29378/40000 (73%), Ave. Confidence: 45%\n",
      "\n"
     ]
    }
   ],
   "source": [
    "test(model2, device, EMNIST_test_loader_digits)"
   ]
  },
  {
   "cell_type": "code",
   "execution_count": 107,
   "metadata": {},
   "outputs": [
    {
     "name": "stdout",
     "output_type": "stream",
     "text": [
      "0.9977548122406006\n"
     ]
    }
   ],
   "source": [
    "print(model.gmm.mu[0].max().item())"
   ]
  },
  {
   "cell_type": "code",
   "execution_count": 90,
   "metadata": {},
   "outputs": [
    {
     "data": {
      "text/plain": [
       "0.9977548122406006"
      ]
     },
     "execution_count": 90,
     "metadata": {},
     "output_type": "execute_result"
    }
   ],
   "source": [
    "mu1[0].max().item()"
   ]
  },
  {
   "cell_type": "code",
   "execution_count": 66,
   "metadata": {},
   "outputs": [
    {
     "data": {
      "text/plain": [
       "Parameter containing:\n",
       "tensor([[0.5834, 0.6609, 0.1568,  ..., 0.2830, 0.8090, 0.1345],\n",
       "        [0.2466, 0.5433, 0.8761,  ..., 0.0734, 0.6454, 0.5918],\n",
       "        [0.0334, 0.3833, 0.1505,  ..., 0.4978, 0.4704, 0.1261],\n",
       "        ...,\n",
       "        [0.4401, 0.4736, 0.8255,  ..., 0.5408, 0.8884, 0.8873],\n",
       "        [0.0602, 0.3778, 0.0906,  ..., 0.9051, 0.0199, 0.5290],\n",
       "        [0.4124, 0.6566, 0.9070,  ..., 0.3148, 0.1679, 0.5927]],\n",
       "       requires_grad=True)"
      ]
     },
     "execution_count": 66,
     "metadata": {},
     "output_type": "execute_result"
    }
   ],
   "source": [
    "model.gmm.parameters().__next__()"
   ]
  },
  {
   "cell_type": "code",
   "execution_count": 72,
   "metadata": {},
   "outputs": [
    {
     "data": {
      "text/plain": [
       "3816.41015625"
      ]
     },
     "execution_count": 72,
     "metadata": {},
     "output_type": "execute_result"
    }
   ],
   "source": [
    "model.gmm.mu.sum().item()"
   ]
  },
  {
   "cell_type": "code",
   "execution_count": 214,
   "metadata": {},
   "outputs": [
    {
     "data": {
      "image/png": "[encoded data removed]",
      "text/plain": [
       "<Figure size 432x288 with 10 Axes>"
      ]
     },
     "metadata": {},
     "output_type": "display_data"
    }
   ],
   "source": [
    "def unnormalize(tensor, mean, std):\n",
    "\n",
    "    for t, m, s in zip(tensor, mean, std):\n",
    "        t.mul_(s).add_(m)\n",
    "        # The normalize code -> t.sub_(m).div_(s)\n",
    "    return tensor\n",
    "\n",
    "data = enumerate(EMNIST_test_loader).__next__()[1][0]\n",
    "y = model(data.to(device))\n",
    "\n",
    "for i in range(10):\n",
    "    plt.subplot(2,5,i+1)\n",
    "    plt.title(str(y.argmax(1)[i].item()) + \":   %.2f\" % y[i].max().exp().item())\n",
    "    plt.imshow(unnormalize(data, (0.1307,), (0.3081,) )[i].squeeze(), cmap='gray', interpolation='none')\n",
    "    plt.xticks([])\n",
    "    plt.yticks([])"
   ]
  },
  {
   "cell_type": "code",
   "execution_count": 106,
   "metadata": {},
   "outputs": [
    {
     "data": {
      "image/png": "[encoded data removed]",
      "text/plain": [
       "<Figure size 432x288 with 10 Axes>"
      ]
     },
     "metadata": {},
     "output_type": "display_data"
    }
   ],
   "source": [
    "def unnormalize(tensor, mean, std):\n",
    "\n",
    "    for t, m, s in zip(tensor, mean, std):\n",
    "        t.mul_(s).add_(m)\n",
    "        # The normalize code -> t.sub_(m).div_(s)\n",
    "    return tensor\n",
    "\n",
    "data = enumerate(EMNIST_test_loader).__next__()[1][0]\n",
    "y = model2(data.to(device))\n",
    "\n",
    "for i in range(10):\n",
    "    plt.subplot(2,5,i+1)\n",
    "    plt.title(str(y.argmax(1)[i].item()) + \":   %.2f\" % y[i].max().exp().item())\n",
    "    plt.imshow(unnormalize(data, (0.1307,), (0.3081,) )[i].squeeze(), cmap='gray', interpolation='none')\n",
    "    plt.xticks([])\n",
    "    plt.yticks([])"
   ]
  },
  {
   "cell_type": "code",
   "execution_count": 108,
   "metadata": {},
   "outputs": [],
   "source": [
    "data = enumerate(train_loader).__next__()[1][0]"
   ]
  },
  {
   "cell_type": "code",
   "execution_count": 111,
   "metadata": {},
   "outputs": [
    {
     "data": {
      "text/plain": [
       "tensor(3.2457)"
      ]
     },
     "execution_count": 111,
     "metadata": {},
     "output_type": "execute_result"
    }
   ],
   "source": [
    "data.max()-data.min()"
   ]
  },
  {
   "cell_type": "code",
   "execution_count": 114,
   "metadata": {},
   "outputs": [
    {
     "data": {
      "text/plain": [
       "tensor(-861.3121)"
      ]
     },
     "execution_count": 114,
     "metadata": {},
     "output_type": "execute_result"
    }
   ],
   "source": [
    "model.log_pz_lam"
   ]
  },
  {
   "cell_type": "code",
   "execution_count": 121,
   "metadata": {},
   "outputs": [
    {
     "data": {
      "text/plain": [
       "tensor(-0.)"
      ]
     },
     "execution_count": 121,
     "metadata": {},
     "output_type": "execute_result"
    }
   ],
   "source": [
    "model.log_pz_lam"
   ]
  },
  {
   "cell_type": "code",
   "execution_count": 179,
   "metadata": {},
   "outputs": [
    {
     "name": "stdout",
     "output_type": "stream",
     "text": [
      "2.2694740295410156\n"
     ]
    }
   ],
   "source": [
    "print(model.gmm.mu[0].max().item())"
   ]
  },
  {
   "cell_type": "code",
   "execution_count": 180,
   "metadata": {},
   "outputs": [
    {
     "name": "stdout",
     "output_type": "stream",
     "text": [
      "2.2694740295410156\n"
     ]
    }
   ],
   "source": [
    "print(mu1[0].max().item())"
   ]
  },
  {
   "cell_type": "code",
   "execution_count": 146,
   "metadata": {},
   "outputs": [
    {
     "data": {
      "text/plain": [
       "tensor(3.2457)"
      ]
     },
     "execution_count": 146,
     "metadata": {},
     "output_type": "execute_result"
    }
   ],
   "source": [
    "X_MNIST.max()-X_MNIST.min()"
   ]
  },
  {
   "cell_type": "code",
   "execution_count": 145,
   "metadata": {},
   "outputs": [
    {
     "data": {
      "text/plain": [
       "tensor(-0.4242)"
      ]
     },
     "execution_count": 145,
     "metadata": {},
     "output_type": "execute_result"
    }
   ],
   "source": []
  },
  {
   "cell_type": "code",
   "execution_count": 12,
   "metadata": {},
   "outputs": [],
   "source": [
    "((batch_idx, (data, target)), (_, (data_adv, _))) = zip(enumerate(train_loader),enumerate(EMNIST_train_loader)).__next__()\n",
    "\n",
    "data, target = data.to(device), target.to(device)\n",
    "data_adv = data_adv.to(device)\n",
    "\n",
    "output = model(data)\n",
    "\n",
    "input_rand = torch.rand(train_loader.batch_size,1,28,28).to(device)\n",
    "#output_rand = model(input_rand)\n",
    "output_rand = model(data_adv)\n",
    "\n",
    "loss = F.nll_loss(output, target) - output_rand.sum()/(10*train_loader.batch_size)\n",
    "#loss = F.nll_loss(output, target)\n",
    "loss.backward()"
   ]
  },
  {
   "cell_type": "code",
   "execution_count": null,
   "metadata": {},
   "outputs": [],
   "source": []
  },
  {
   "cell_type": "code",
   "execution_count": 199,
   "metadata": {},
   "outputs": [
    {
     "data": {
      "text/plain": [
       "tensor(1.1461e-39)"
      ]
     },
     "execution_count": 199,
     "metadata": {},
     "output_type": "execute_result"
    }
   ],
   "source": [
    "model.gmm.mu.grad.abs().max()"
   ]
  },
  {
   "cell_type": "code",
   "execution_count": 200,
   "metadata": {},
   "outputs": [
    {
     "data": {
      "text/plain": [
       "tensor(2.7200, grad_fn=<MaxBackward1>)"
      ]
     },
     "execution_count": 200,
     "metadata": {},
     "output_type": "execute_result"
    }
   ],
   "source": [
    "model.gmm.mu.abs().max()"
   ]
  },
  {
   "cell_type": "code",
   "execution_count": 203,
   "metadata": {},
   "outputs": [
    {
     "data": {
      "text/plain": [
       "tensor(2.7200, grad_fn=<MaxBackward1>)"
      ]
     },
     "execution_count": 203,
     "metadata": {},
     "output_type": "execute_result"
    }
   ],
   "source": [
    "model.gmm.mu.max()"
   ]
  },
  {
   "cell_type": "code",
   "execution_count": 21,
   "metadata": {},
   "outputs": [
    {
     "data": {
      "text/plain": [
       "tensor(-2450.0173, grad_fn=<MaxBackward1>)"
      ]
     },
     "execution_count": 21,
     "metadata": {},
     "output_type": "execute_result"
    }
   ],
   "source": [
    "model.gmm(data_adv.view(100, 784)).max()"
   ]
  },
  {
   "cell_type": "code",
   "execution_count": 22,
   "metadata": {},
   "outputs": [
    {
     "data": {
      "text/plain": [
       "tensor(-2449.5859, grad_fn=<MaxBackward1>)"
      ]
     },
     "execution_count": 22,
     "metadata": {},
     "output_type": "execute_result"
    }
   ],
   "source": [
    "model.gmm(data.view(100, 784)).max()"
   ]
  },
  {
   "cell_type": "code",
   "execution_count": 23,
   "metadata": {},
   "outputs": [
    {
     "data": {
      "text/plain": [
       "tensor(-2454.0696, grad_fn=<MaxBackward1>)"
      ]
     },
     "execution_count": 23,
     "metadata": {},
     "output_type": "execute_result"
    }
   ],
   "source": [
    "model.gmm(torch.rand(100,784)).max()"
   ]
  },
  {
   "cell_type": "code",
   "execution_count": 50,
   "metadata": {},
   "outputs": [],
   "source": [
    "l = []\n",
    "for i in range(100)\n",
    "    a = X_MNIST[5]-model.gmm.mu[0]"
   ]
  },
  {
   "cell_type": "code",
   "execution_count": 51,
   "metadata": {},
   "outputs": [
    {
     "data": {
      "text/plain": [
       "tensor(25.3999, grad_fn=<NormBackward0>)"
      ]
     },
     "execution_count": 51,
     "metadata": {},
     "output_type": "execute_result"
    }
   ],
   "source": [
    "a.norm()"
   ]
  },
  {
   "cell_type": "code",
   "execution_count": 54,
   "metadata": {},
   "outputs": [
    {
     "data": {
      "text/plain": [
       "tensor([362.0951, 392.7061, 112.4149, 281.5462, 361.1005, 157.4860, 297.7184,\n",
       "        286.1122, 310.3561, 188.8785], grad_fn=<ExpBackward>)"
      ]
     },
     "execution_count": 54,
     "metadata": {},
     "output_type": "execute_result"
    }
   ],
   "source": [
    "model.gmm.logvar[0:10].exp()"
   ]
  },
  {
   "cell_type": "code",
   "execution_count": 56,
   "metadata": {},
   "outputs": [
    {
     "data": {
      "text/plain": [
       "torch.Size([100, 784])"
      ]
     },
     "execution_count": 56,
     "metadata": {},
     "output_type": "execute_result"
    }
   ],
   "source": [
    "model.gmm.mu.shape"
   ]
  },
  {
   "cell_type": "code",
   "execution_count": 69,
   "metadata": {},
   "outputs": [],
   "source": [
    "a = torch.norm(X_MNIST[:,None,:]-model.gmm.mu[None,:,:], dim=2)\n",
    "b = torch.norm(torch.rand(2000,1,784)-model.gmm.mu[None,:,:], dim=2)"
   ]
  },
  {
   "cell_type": "code",
   "execution_count": 19,
   "metadata": {},
   "outputs": [
    {
     "data": {
      "image/png": "[encoded data removed]",
      "text/plain": [
       "<Figure size 432x288 with 1 Axes>"
      ]
     },
     "metadata": {},
     "output_type": "display_data"
    }
   ],
   "source": [
    "plot_2d_sample(X_MNIST,model.gmm.mu, (model.gmm.logvar/2).exp(),idx=(345,346))"
   ]
  },
  {
   "cell_type": "code",
   "execution_count": null,
   "metadata": {},
   "outputs": [],
   "source": []
  }
 ],
 "metadata": {
  "kernelspec": {
   "display_name": "Python 3",
   "language": "python",
   "name": "python3"
  },
  "language_info": {
   "codemirror_mode": {
    "name": "ipython",
    "version": 3
   },
   "file_extension": ".py",
   "mimetype": "text/x-python",
   "name": "python",
   "nbconvert_exporter": "python",
   "pygments_lexer": "ipython3",
   "version": "3.5.2"
  }
 },
 "nbformat": 4,
 "nbformat_minor": 2
}
