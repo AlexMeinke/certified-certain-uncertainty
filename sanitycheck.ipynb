{
 "cells": [
  {
   "cell_type": "code",
   "execution_count": 1,
   "metadata": {},
   "outputs": [],
   "source": [
    "import torch\n",
    "import numpy as np\n",
    "import pandas as pd\n",
    "from sklearn.metrics import roc_auc_score\n",
    "\n",
    "import scipy\n",
    "import matplotlib.pyplot as plt\n",
    "\n",
    "import utils.adversarial as adv\n",
    "import utils.dataloaders as dl\n",
    "import utils.models as models\n",
    "import utils.gmm_helpers as gmm_helpers\n",
    "\n",
    "log = lambda x: np.log(x)\n",
    "import utils.dataloaders as dl"
   ]
  },
  {
   "cell_type": "code",
   "execution_count": 2,
   "metadata": {},
   "outputs": [],
   "source": [
    "train_loader = dl.MNIST(train=True, augm_flag=True)"
   ]
  },
  {
   "cell_type": "code",
   "execution_count": 3,
   "metadata": {},
   "outputs": [],
   "source": [
    "file = 'gmm__PCAMNIST_lam0.0_n100_lr0.001_lrgmm1e-05_augm_flagTrue_train_typeCEDA_GMM_OUTgrad_vars mu var_OUT.pth'\n",
    "model = torch.load('SavedModels/' + file)"
   ]
  },
  {
   "cell_type": "code",
   "execution_count": 4,
   "metadata": {},
   "outputs": [],
   "source": [
    "seed = torch.rand(100,1,28,28)"
   ]
  },
  {
   "cell_type": "code",
   "execution_count": 5,
   "metadata": {},
   "outputs": [],
   "source": [
    "gmm = model.mm\n",
    "gmm_out = model.mm_out\n",
    "\n",
    "classes = 10\n",
    "lam = 1.\n",
    "f = 1.1\n",
    "b = lam * (f-1.) / (classes-f)\n",
    "\n",
    "\n",
    "batch_bounds = []\n",
    "\n",
    "for x in seed:\n",
    "    a = gmm_helpers.get_b_out(0., x, gmm, gmm_out, b)\n",
    "    if a>=0:\n",
    "        batch_bounds.append(0.)\n",
    "    else:\n",
    "        batch_bounds.append( scipy.optimize.brentq(gmm_helpers.get_b_out, 0, \n",
    "                                                  10000., args = (x, gmm, gmm_out, b),\n",
    "                                                  maxiter=10000) )"
   ]
  },
  {
   "cell_type": "code",
   "execution_count": 6,
   "metadata": {},
   "outputs": [],
   "source": [
    "outliers = []\n",
    "for data, _ in train_loader:\n",
    "    dist_real = model.mm.metric(seed.view(-1,784)[:,None,:], data.view(-1, 784)[None,:,:]).min(1)[0]\n",
    "    outs = (torch.tensor(batch_bounds) > dist_real).float().sum()\n",
    "    if outs>0.:\n",
    "        print(outs)\n",
    "        outliers.append(data)"
   ]
  },
  {
   "cell_type": "code",
   "execution_count": 7,
   "metadata": {},
   "outputs": [
    {
     "ename": "IndexError",
     "evalue": "list index out of range",
     "output_type": "error",
     "traceback": [
      "\u001b[0;31m---------------------------------------------------------------------------\u001b[0m",
      "\u001b[0;31mIndexError\u001b[0m                                Traceback (most recent call last)",
      "\u001b[0;32m<ipython-input-7-83ffe949d3ba>\u001b[0m in \u001b[0;36m<module>\u001b[0;34m()\u001b[0m\n\u001b[0;32m----> 1\u001b[0;31m \u001b[0mdata\u001b[0m \u001b[0;34m=\u001b[0m \u001b[0moutliers\u001b[0m\u001b[0;34m[\u001b[0m\u001b[0;36m0\u001b[0m\u001b[0;34m]\u001b[0m\u001b[0;34m\u001b[0m\u001b[0m\n\u001b[0m\u001b[1;32m      2\u001b[0m \u001b[0mdist_real\u001b[0m \u001b[0;34m=\u001b[0m \u001b[0mmodel\u001b[0m\u001b[0;34m.\u001b[0m\u001b[0mmm\u001b[0m\u001b[0;34m.\u001b[0m\u001b[0mmetric\u001b[0m\u001b[0;34m(\u001b[0m\u001b[0mseed\u001b[0m\u001b[0;34m.\u001b[0m\u001b[0mview\u001b[0m\u001b[0;34m(\u001b[0m\u001b[0;34m-\u001b[0m\u001b[0;36m1\u001b[0m\u001b[0;34m,\u001b[0m\u001b[0;36m784\u001b[0m\u001b[0;34m)\u001b[0m\u001b[0;34m[\u001b[0m\u001b[0;34m:\u001b[0m\u001b[0;34m,\u001b[0m\u001b[0;32mNone\u001b[0m\u001b[0;34m,\u001b[0m\u001b[0;34m:\u001b[0m\u001b[0;34m]\u001b[0m\u001b[0;34m,\u001b[0m \u001b[0mdata\u001b[0m\u001b[0;34m.\u001b[0m\u001b[0mview\u001b[0m\u001b[0;34m(\u001b[0m\u001b[0;34m-\u001b[0m\u001b[0;36m1\u001b[0m\u001b[0;34m,\u001b[0m \u001b[0;36m784\u001b[0m\u001b[0;34m)\u001b[0m\u001b[0;34m[\u001b[0m\u001b[0;32mNone\u001b[0m\u001b[0;34m,\u001b[0m\u001b[0;34m:\u001b[0m\u001b[0;34m,\u001b[0m\u001b[0;34m:\u001b[0m\u001b[0;34m]\u001b[0m\u001b[0;34m)\u001b[0m\u001b[0;34m.\u001b[0m\u001b[0mmin\u001b[0m\u001b[0;34m(\u001b[0m\u001b[0;36m1\u001b[0m\u001b[0;34m)\u001b[0m\u001b[0;34m[\u001b[0m\u001b[0;36m0\u001b[0m\u001b[0;34m]\u001b[0m\u001b[0;34m\u001b[0m\u001b[0m\n\u001b[1;32m      3\u001b[0m \u001b[0mdiscrepancy\u001b[0m \u001b[0;34m=\u001b[0m \u001b[0;34m(\u001b[0m\u001b[0mtorch\u001b[0m\u001b[0;34m.\u001b[0m\u001b[0mtensor\u001b[0m\u001b[0;34m(\u001b[0m\u001b[0mbatch_bounds\u001b[0m\u001b[0;34m)\u001b[0m \u001b[0;34m<\u001b[0m \u001b[0mdist_real\u001b[0m\u001b[0;34m)\u001b[0m\u001b[0;34m\u001b[0m\u001b[0m\n",
      "\u001b[0;31mIndexError\u001b[0m: list index out of range"
     ]
    }
   ],
   "source": [
    "data = outliers[0]\n",
    "dist_real = model.mm.metric(seed.view(-1,784)[:,None,:], data.view(-1, 784)[None,:,:]).min(1)[0]\n",
    "discrepancy = (torch.tensor(batch_bounds) < dist_real)"
   ]
  },
  {
   "cell_type": "code",
   "execution_count": null,
   "metadata": {},
   "outputs": [],
   "source": [
    "data, label = next(iter(train_loader))"
   ]
  },
  {
   "cell_type": "code",
   "execution_count": 70,
   "metadata": {},
   "outputs": [
    {
     "data": {
      "text/plain": [
       "<matplotlib.image.AxesImage at 0x7fc44eb24470>"
      ]
     },
     "execution_count": 70,
     "metadata": {},
     "output_type": "execute_result"
    },
    {
     "data": {
      "image/png": "[encoded data removed]",
      "text/plain": [
       "<Figure size 432x288 with 1 Axes>"
      ]
     },
     "metadata": {},
     "output_type": "display_data"
    }
   ],
   "source": [
    "plt.imshow(data[87].squeeze().numpy(), cmap='gray')"
   ]
  },
  {
   "cell_type": "code",
   "execution_count": 7,
   "metadata": {},
   "outputs": [
    {
     "name": "stdout",
     "output_type": "stream",
     "text": [
      "tensor(1.)\n"
     ]
    }
   ],
   "source": [
    "outliers = []\n",
    "while len(outliers)==0:\n",
    "    batch_bounds = []\n",
    "    seed = torch.rand(100,1,28,28)\n",
    "\n",
    "    for x in seed:\n",
    "        a = gmm_helpers.get_b_out(0., x, gmm, gmm_out, b)\n",
    "        if a>=0:\n",
    "            batch_bounds.append(0.)\n",
    "        else:\n",
    "            batch_bounds.append( scipy.optimize.brentq(gmm_helpers.get_b_out, 0, \n",
    "                                                      10000., args = (x, gmm, gmm_out, b),\n",
    "                                                      maxiter=10000) )\n",
    "    for data, _ in train_loader:\n",
    "        dist_real = model.mm.metric(seed.view(-1,784)[:,None,:], data.view(-1, 784)[None,:,:]).min(1)[0]\n",
    "        outs = (torch.tensor(batch_bounds) > dist_real).float().sum()\n",
    "        if outs>0.:\n",
    "            print(outs)\n",
    "            outliers.append(data)"
   ]
  },
  {
   "cell_type": "code",
   "execution_count": 8,
   "metadata": {},
   "outputs": [],
   "source": [
    "data = outliers[0]\n",
    "dist_real = model.mm.metric(seed.view(-1,784)[:,None,:], data.view(-1, 784)[None,:,:]).min(1)[0]"
   ]
  },
  {
   "cell_type": "code",
   "execution_count": 12,
   "metadata": {},
   "outputs": [],
   "source": [
    "idx_seed = (torch.tensor(batch_bounds) > dist_real).max(0)[1]"
   ]
  },
  {
   "cell_type": "code",
   "execution_count": 13,
   "metadata": {},
   "outputs": [],
   "source": [
    "seed2 = torch.stack([seed[idx_seed], seed[idx_seed]], 0)"
   ]
  },
  {
   "cell_type": "code",
   "execution_count": 21,
   "metadata": {},
   "outputs": [],
   "source": [
    "idx_sample = (model.mm.metric(seed.view(-1,784)[:,None,:], data.view(-1, 784)[None,:,:])[idx_seed]<batch_bounds[idx_seed]).max(0)[1]"
   ]
  },
  {
   "cell_type": "code",
   "execution_count": 15,
   "metadata": {},
   "outputs": [
    {
     "data": {
      "text/plain": [
       "68.86056137085018"
      ]
     },
     "execution_count": 15,
     "metadata": {},
     "output_type": "execute_result"
    }
   ],
   "source": [
    "batch_bounds[idx_seed]"
   ]
  },
  {
   "cell_type": "code",
   "execution_count": 24,
   "metadata": {},
   "outputs": [],
   "source": [
    "import torch\n",
    "import numpy as np\n",
    "import pandas as pd\n",
    "from sklearn.metrics import roc_auc_score\n",
    "\n",
    "import scipy\n",
    "\n",
    "import utils.adversarial as adv\n",
    "import utils.dataloaders as dl\n",
    "import utils.models as models\n",
    "import utils.gmm_helpers as gmm_helpers\n",
    "\n",
    "log = lambda x: np.log(x)"
   ]
  },
  {
   "cell_type": "code",
   "execution_count": 25,
   "metadata": {},
   "outputs": [],
   "source": [
    "def aggregate_adv_stats_out(model_list, gmm, gmm_out, device, shape, classes=10, \n",
    "                            batches=10, batch_size=100, steps=200, out_seeds=False,\n",
    "                            restarts=10, alpha=1., lam=1.):\n",
    "    \n",
    "    pca = models.MyPCA(gmm.metric.comp_vecs.t(), gmm.metric.singular_values, shape)\n",
    "    \n",
    "    f = 1.1\n",
    "    b = lam * (f-1.) / (classes-f)\n",
    "\n",
    "    bounds = []\n",
    "    stats = []\n",
    "    samples = []\n",
    "    seeds = []\n",
    "    \n",
    "    seed = seed2.to(device)\n",
    "    \n",
    "    batch_bounds = []\n",
    "    batch_samples = []\n",
    "\n",
    "    for x in seed:\n",
    "        a = gmm_helpers.get_b_out(0., x, gmm, gmm_out, b)\n",
    "        if a>=0:\n",
    "            batch_bounds.append(0.)\n",
    "        else:\n",
    "            batch_bounds.append( scipy.optimize.brentq(gmm_helpers.get_b_out, 0, \n",
    "                                                   10000., args = (x, gmm, gmm_out, b),\n",
    "                                                      maxiter=10000) )\n",
    "    batch_bounds = torch.tensor(batch_bounds, device=device)\n",
    "    bounds.append(batch_bounds.clone().cpu())\n",
    "\n",
    "    batch_stats = []\n",
    "    for i, model in enumerate(model_list):\n",
    "        model.eval()\n",
    "        adv_noise, _ = adv.gen_pca_noise(model, device, seed, pca, \n",
    "                                         epsilon=batch_bounds, perturb=True, \n",
    "                                         restarts=restarts, steps=steps, alpha=alpha)\n",
    "        out = model(adv_noise).max(1)[0].detach().cpu().clone()\n",
    "\n",
    "        batch_stats.append(out)\n",
    "        batch_samples.append(adv_noise.detach().cpu())\n",
    "\n",
    "    seeds.append(seed.cpu())\n",
    "\n",
    "    batch_samples = torch.stack(batch_samples, 0)\n",
    "    batch_stats = torch.stack(batch_stats, 0)\n",
    "    stats.append(batch_stats.clone())\n",
    "    samples.append(batch_samples.clone())\n",
    "\n",
    "    seeds = torch.stack(seeds, 0)\n",
    "    samples = torch.stack(samples, 0)\n",
    "    stats = torch.cat(stats, -1)\n",
    "    bounds = torch.cat(bounds, 0)\n",
    "    \n",
    "    return stats, bounds, seeds, samples"
   ]
  },
  {
   "cell_type": "code",
   "execution_count": 26,
   "metadata": {},
   "outputs": [],
   "source": [
    "import model_paths\n",
    "import model_params as params\n",
    "import utils.traintest as tt\n",
    "\n",
    "dataset = 'MNIST'\n",
    "device = torch.device('cuda:4')\n",
    "\n",
    "model_params = params.params_dict[dataset]()\n",
    "model_path = model_paths.model_dict[dataset]() \n",
    "model_list = [torch.load(file).to(device) for file in model_path.file_dict.values()]\n",
    "\n",
    "\n",
    "model_list = model_list[:-1]\n",
    "\n",
    "accuracies = [tt.test(model, device, model_params.test_loader, min_conf=.001)[0]\n",
    "              for model in model_list]\n",
    "\n",
    "shape = next(iter(model_params.cali_loader))[0][0].shape\n",
    "\n",
    "\n",
    "gmm = model_list[-1].mm\n",
    "gmm_out = model_list[-1].mm_out"
   ]
  },
  {
   "cell_type": "code",
   "execution_count": 27,
   "metadata": {},
   "outputs": [],
   "source": [
    "steps = 500\n",
    "restarts = 50\n",
    "alpha = 3.\n",
    "\n",
    "results = aggregate_adv_stats_out(model_list, gmm, gmm_out, device, \n",
    "                         shape, classes=model_params.classes, \n",
    "                         steps=steps, restarts=restarts, alpha=alpha)"
   ]
  },
  {
   "cell_type": "code",
   "execution_count": 28,
   "metadata": {},
   "outputs": [],
   "source": [
    "stats, bounds, seeds, samples = results"
   ]
  },
  {
   "cell_type": "code",
   "execution_count": 30,
   "metadata": {},
   "outputs": [
    {
     "data": {
      "image/png": "[encoded data removed]",
      "text/plain": [
       "<Figure size 432x288 with 1 Axes>"
      ]
     },
     "metadata": {},
     "output_type": "display_data"
    }
   ],
   "source": [
    "f = plt.figure()\n",
    "plt.title('Sample')\n",
    "plt.imshow(data[idx_sample][0], cmap='gray')\n",
    "plt.xticks([])\n",
    "plt.yticks([])\n",
    "plt.show()\n",
    "\n",
    "f.savefig('Export/' + 'Sample' + '.eps')\n",
    "f.savefig('Export/' + 'Sample' + '.png')"
   ]
  },
  {
   "cell_type": "code",
   "execution_count": 31,
   "metadata": {},
   "outputs": [
    {
     "data": {
      "image/png": "[encoded data removed]",
      "text/plain": [
       "<Figure size 432x288 with 1 Axes>"
      ]
     },
     "metadata": {},
     "output_type": "display_data"
    }
   ],
   "source": [
    "f = plt.figure()\n",
    "plt.title('Seed')\n",
    "plt.imshow(seed2[0][0], cmap='gray')\n",
    "plt.xticks([])\n",
    "plt.yticks([])\n",
    "plt.show()\n",
    "\n",
    "f.savefig('Export/' + 'Seed' + '.eps')\n",
    "f.savefig('Export/' + 'Seed' + '.png')"
   ]
  },
  {
   "cell_type": "code",
   "execution_count": 32,
   "metadata": {},
   "outputs": [],
   "source": [
    "key = ['Base', 'MCD', 'GAN', 'ODIN', 'Maha', 'ACET', 'OE', 'CCU', 'CCUs']"
   ]
  },
  {
   "cell_type": "code",
   "execution_count": 33,
   "metadata": {
    "scrolled": false
   },
   "outputs": [
    {
     "data": {
      "image/png": "[encoded data removed]",
      "text/plain": [
       "<Figure size 432x288 with 1 Axes>"
      ]
     },
     "metadata": {},
     "output_type": "display_data"
    },
    {
     "data": {
      "image/png": "[encoded data removed]",
      "text/plain": [
       "<Figure size 432x288 with 1 Axes>"
      ]
     },
     "metadata": {},
     "output_type": "display_data"
    },
    {
     "data": {
      "image/png": "[encoded data removed]",
      "text/plain": [
       "<Figure size 432x288 with 1 Axes>"
      ]
     },
     "metadata": {},
     "output_type": "display_data"
    },
    {
     "data": {
      "image/png": "[encoded data removed]",
      "text/plain": [
       "<Figure size 432x288 with 1 Axes>"
      ]
     },
     "metadata": {},
     "output_type": "display_data"
    },
    {
     "data": {
      "image/png": "[encoded data removed]",
      "text/plain": [
       "<Figure size 432x288 with 1 Axes>"
      ]
     },
     "metadata": {},
     "output_type": "display_data"
    },
    {
     "data": {
      "image/png": "[encoded data removed]",
      "text/plain": [
       "<Figure size 432x288 with 1 Axes>"
      ]
     },
     "metadata": {},
     "output_type": "display_data"
    },
    {
     "data": {
      "image/png": "[encoded data removed]",
      "text/plain": [
       "<Figure size 432x288 with 1 Axes>"
      ]
     },
     "metadata": {},
     "output_type": "display_data"
    },
    {
     "data": {
      "image/png": "[encoded data removed]",
      "text/plain": [
       "<Figure size 432x288 with 1 Axes>"
      ]
     },
     "metadata": {},
     "output_type": "display_data"
    }
   ],
   "source": [
    "for i in range(8):\n",
    "    f = plt.figure()\n",
    "    plt.title(key[i])\n",
    "    plt.imshow(samples.squeeze()[i][0], cmap='gray')\n",
    "    plt.xticks([])\n",
    "    plt.yticks([])\n",
    "    plt.show()\n",
    "    \n",
    "    f.savefig('Export/' + key[i] + '.eps')\n",
    "    f.savefig('Export/' + key[i] + '.png')"
   ]
  },
  {
   "cell_type": "code",
   "execution_count": null,
   "metadata": {},
   "outputs": [],
   "source": []
  }
 ],
 "metadata": {
  "kernelspec": {
   "display_name": "Python 3",
   "language": "python",
   "name": "python3"
  },
  "language_info": {
   "codemirror_mode": {
    "name": "ipython",
    "version": 3
   },
   "file_extension": ".py",
   "mimetype": "text/x-python",
   "name": "python",
   "nbconvert_exporter": "python",
   "pygments_lexer": "ipython3",
   "version": "3.5.2"
  }
 },
 "nbformat": 4,
 "nbformat_minor": 2
}
