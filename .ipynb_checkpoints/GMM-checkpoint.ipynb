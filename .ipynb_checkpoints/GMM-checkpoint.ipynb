{
 "cells": [
  {
   "cell_type": "code",
   "execution_count": 1,
   "metadata": {},
   "outputs": [],
   "source": [
    "import torch\n",
    "\n",
    "from importlib import reload\n",
    "\n",
    "import models\n",
    "import plotting\n",
    "import dataloaders as dl"
   ]
  },
  {
   "cell_type": "code",
   "execution_count": 2,
   "metadata": {},
   "outputs": [],
   "source": [
    "if torch.cuda.is_available():\n",
    "    device = torch.device('cuda')\n",
    "else:\n",
    "    device = torch.device('cpu')"
   ]
  },
  {
   "cell_type": "code",
   "execution_count": 3,
   "metadata": {},
   "outputs": [],
   "source": [
    "import torch.nn as nn\n",
    "import torch.nn.functional as F\n",
    "\n",
    "def train_vanilla(model, device, train_loader, optimizer, epoch, verbose=True):\n",
    "    model.train()\n",
    "    for batch_idx, (data, target) in enumerate(train_loader):\n",
    "        data, target = data.to(device), target.to(device)\n",
    "\n",
    "        optimizer.zero_grad()\n",
    "        output = model(data)\n",
    "\n",
    "        loss = F.nll_loss(output, target)\n",
    "        loss.backward()\n",
    "        optimizer.step()\n",
    "        if batch_idx % 100 == 0 and verbose:\n",
    "            print('Train Epoch: {} [{}/{} ({:.0f}%)]\\tLoss: {:.6f}'.format(\n",
    "                epoch, batch_idx * len(data), len(train_loader.dataset),\n",
    "                100. * batch_idx / len(train_loader), loss.item()))\n",
    "\n",
    "def train(model, device, train_loader, optimizer, epoch, adv_loader, verbose=True):\n",
    "    model.train()\n",
    "    min_loss = torch.tensor(10.).log()\n",
    "    #for batch_idx, (data, target) in enumerate(train_loader):\n",
    "    for ((batch_idx, (data, target)), (_, (data_adv, _))) in zip(enumerate(train_loader),enumerate(adv_loader)):\n",
    "        data, target = data.to(device), target.to(device)\n",
    "        data_adv = data_adv.to(device)\n",
    "        optimizer.zero_grad()\n",
    "        output = model(data)\n",
    "        \n",
    "        #input_rand = torch.rand(train_loader.batch_size,1,28,28).to(device)\n",
    "        #output_rand = model(input_rand)\n",
    "        output_rand = model(data_adv)\n",
    "\n",
    "        loss = F.nll_loss(output, target) - output_rand.sum()/(10*train_loader.batch_size)\n",
    "        loss.backward()\n",
    "        a = torch.isnan(model.gmm.mu.grad).sum()\n",
    "        b = torch.isnan(model.gmm.logvar.grad).sum()\n",
    "        c = torch.isnan(model.gmm.alpha.grad).sum()\n",
    "\n",
    "        if (a+b+c)>0:\n",
    "            return loss, output, target, data_adv, data\n",
    "        optimizer.step()\n",
    "        if batch_idx % 100 == 0 and verbose:\n",
    "            print('Train Epoch: {} [{}/{} ({:.0f}%)]\\tLoss: {:.6f}'.format(\n",
    "                epoch, batch_idx * len(data), len(train_loader.dataset),\n",
    "                100. * batch_idx / len(train_loader), loss.item()))\n",
    "\n",
    "\n",
    "def test(model, device, test_loader):\n",
    "    model.eval()\n",
    "    test_loss = 0\n",
    "    correct = 0\n",
    "    av_conf = 0\n",
    "    with torch.no_grad():\n",
    "        for data, target in test_loader:\n",
    "            data, target = data.to(device), target.to(device)\n",
    "            output = model(data)\n",
    "\n",
    "            test_loss += F.nll_loss(output, target, reduction='sum').item() # sum up batch loss\n",
    "            c, pred = output.max(1, keepdim=True) # get the index of the max log-probability\n",
    "            correct += (pred.eq(target.view_as(pred))*(c.exp()>0.1)).sum().item()\n",
    "            av_conf += c.exp().sum().item()\n",
    "            \n",
    "    test_loss /= len(test_loader.dataset)\n",
    "    av_conf /= len(test_loader.dataset)\n",
    "    \n",
    "    print('\\nTest set: Average loss: {:.4f}, Accuracy: {}/{} ({:.0f}%), Ave. Confidence: {:.0f}%\\n'.format(\n",
    "        test_loss, correct, len(test_loader.dataset),\n",
    "        100. * correct / len(test_loader.dataset), 100. * av_conf))\n",
    "    return correct, av_conf\n",
    "    \n",
    "def test_adv(model, device, adv_test_loader):\n",
    "    model.eval()\n",
    "    av_conf = 0\n",
    "    with torch.no_grad():\n",
    "        for data, _ in adv_test_loader:\n",
    "            data = data.to(device)\n",
    "            output = model(data)\n",
    "\n",
    "            c, pred = output.max(1, keepdim=True) # get the index of the max log-probability\n",
    "            av_conf += c.exp().sum().item()\n",
    "            \n",
    "    av_conf /= len(adv_test_loader.dataset)\n",
    "\n",
    "    print('\\nAve. Confidence: {:.0f}%\\n'.format(100.*av_conf))\n",
    "    return av_conf"
   ]
  },
  {
   "cell_type": "code",
   "execution_count": 22,
   "metadata": {},
   "outputs": [
    {
     "ename": "TypeError",
     "evalue": "_make_subclass(): argument 'data' (position 2) must be Tensor, not tuple",
     "output_type": "error",
     "traceback": [
      "\u001b[0;31m---------------------------------------------------------------------------\u001b[0m",
      "\u001b[0;31mTypeError\u001b[0m                                 Traceback (most recent call last)",
      "\u001b[0;32m<ipython-input-22-915112bf5d2d>\u001b[0m in \u001b[0;36m<module>\u001b[0;34m()\u001b[0m\n\u001b[1;32m      3\u001b[0m \u001b[0mtemp\u001b[0m \u001b[0;34m=\u001b[0m \u001b[0mdl\u001b[0m\u001b[0;34m.\u001b[0m\u001b[0mX_MNIST\u001b[0m\u001b[0;34m.\u001b[0m\u001b[0mview\u001b[0m\u001b[0;34m(\u001b[0m\u001b[0;36m3000\u001b[0m\u001b[0;34m,\u001b[0m\u001b[0;36m28\u001b[0m\u001b[0;34m,\u001b[0m\u001b[0;36m28\u001b[0m\u001b[0;34m)\u001b[0m\u001b[0;34m.\u001b[0m\u001b[0mstd\u001b[0m\u001b[0;34m(\u001b[0m\u001b[0mdim\u001b[0m\u001b[0;34m=\u001b[0m\u001b[0;36m0\u001b[0m\u001b[0;34m)\u001b[0m\u001b[0;34m\u001b[0m\u001b[0m\n\u001b[1;32m      4\u001b[0m \u001b[0;34m\u001b[0m\u001b[0m\n\u001b[0;32m----> 5\u001b[0;31m \u001b[0mbase_model\u001b[0m \u001b[0;34m=\u001b[0m \u001b[0mmodels\u001b[0m\u001b[0;34m.\u001b[0m\u001b[0mNetVanilla\u001b[0m\u001b[0;34m(\u001b[0m\u001b[0mpreproc\u001b[0m\u001b[0;34m=\u001b[0m\u001b[0;34m(\u001b[0m\u001b[0mpreproc\u001b[0m\u001b[0;34m,\u001b[0m\u001b[0mpreproc_std\u001b[0m\u001b[0;34m)\u001b[0m\u001b[0;34m)\u001b[0m\u001b[0;34m.\u001b[0m\u001b[0mto\u001b[0m\u001b[0;34m(\u001b[0m\u001b[0mdevice\u001b[0m\u001b[0;34m)\u001b[0m\u001b[0;34m\u001b[0m\u001b[0m\n\u001b[0m",
      "\u001b[0;32m~/project/notebooks/gmm-robust/models.py\u001b[0m in \u001b[0;36m__init__\u001b[0;34m(self, preproc)\u001b[0m\n\u001b[1;32m    143\u001b[0m         \u001b[0mself\u001b[0m\u001b[0;34m.\u001b[0m\u001b[0mfc1\u001b[0m \u001b[0;34m=\u001b[0m \u001b[0mnn\u001b[0m\u001b[0;34m.\u001b[0m\u001b[0mLinear\u001b[0m\u001b[0;34m(\u001b[0m\u001b[0;36m4\u001b[0m\u001b[0;34m*\u001b[0m\u001b[0;36m4\u001b[0m\u001b[0;34m*\u001b[0m\u001b[0;36m64\u001b[0m\u001b[0;34m,\u001b[0m \u001b[0;36m1024\u001b[0m\u001b[0;34m)\u001b[0m\u001b[0;34m\u001b[0m\u001b[0m\n\u001b[1;32m    144\u001b[0m         \u001b[0mself\u001b[0m\u001b[0;34m.\u001b[0m\u001b[0mfc2\u001b[0m \u001b[0;34m=\u001b[0m \u001b[0mnn\u001b[0m\u001b[0;34m.\u001b[0m\u001b[0mLinear\u001b[0m\u001b[0;34m(\u001b[0m\u001b[0;36m1024\u001b[0m\u001b[0;34m,\u001b[0m \u001b[0;36m10\u001b[0m\u001b[0;34m)\u001b[0m\u001b[0;34m\u001b[0m\u001b[0m\n\u001b[0;32m--> 145\u001b[0;31m         \u001b[0mself\u001b[0m\u001b[0;34m.\u001b[0m\u001b[0mpreproc\u001b[0m \u001b[0;34m=\u001b[0m \u001b[0mnn\u001b[0m\u001b[0;34m.\u001b[0m\u001b[0mParameter\u001b[0m\u001b[0;34m(\u001b[0m\u001b[0mpreproc\u001b[0m\u001b[0;34m,\u001b[0m \u001b[0mrequires_grad\u001b[0m\u001b[0;34m=\u001b[0m\u001b[0;32mFalse\u001b[0m\u001b[0;34m)\u001b[0m\u001b[0;34m\u001b[0m\u001b[0m\n\u001b[0m\u001b[1;32m    146\u001b[0m \u001b[0;34m\u001b[0m\u001b[0m\n\u001b[1;32m    147\u001b[0m     \u001b[0;32mdef\u001b[0m \u001b[0mforward\u001b[0m\u001b[0;34m(\u001b[0m\u001b[0mself\u001b[0m\u001b[0;34m,\u001b[0m \u001b[0mx\u001b[0m\u001b[0;34m)\u001b[0m\u001b[0;34m:\u001b[0m\u001b[0;34m\u001b[0m\u001b[0m\n",
      "\u001b[0;32m/usr/local/lib/python3.5/dist-packages/torch/nn/parameter.py\u001b[0m in \u001b[0;36m__new__\u001b[0;34m(cls, data, requires_grad)\u001b[0m\n\u001b[1;32m     24\u001b[0m         \u001b[0;32mif\u001b[0m \u001b[0mdata\u001b[0m \u001b[0;32mis\u001b[0m \u001b[0;32mNone\u001b[0m\u001b[0;34m:\u001b[0m\u001b[0;34m\u001b[0m\u001b[0m\n\u001b[1;32m     25\u001b[0m             \u001b[0mdata\u001b[0m \u001b[0;34m=\u001b[0m \u001b[0mtorch\u001b[0m\u001b[0;34m.\u001b[0m\u001b[0mTensor\u001b[0m\u001b[0;34m(\u001b[0m\u001b[0;34m)\u001b[0m\u001b[0;34m\u001b[0m\u001b[0m\n\u001b[0;32m---> 26\u001b[0;31m         \u001b[0;32mreturn\u001b[0m \u001b[0mtorch\u001b[0m\u001b[0;34m.\u001b[0m\u001b[0mTensor\u001b[0m\u001b[0;34m.\u001b[0m\u001b[0m_make_subclass\u001b[0m\u001b[0;34m(\u001b[0m\u001b[0mcls\u001b[0m\u001b[0;34m,\u001b[0m \u001b[0mdata\u001b[0m\u001b[0;34m,\u001b[0m \u001b[0mrequires_grad\u001b[0m\u001b[0;34m)\u001b[0m\u001b[0;34m\u001b[0m\u001b[0m\n\u001b[0m\u001b[1;32m     27\u001b[0m \u001b[0;34m\u001b[0m\u001b[0m\n\u001b[1;32m     28\u001b[0m     \u001b[0;32mdef\u001b[0m \u001b[0m__deepcopy__\u001b[0m\u001b[0;34m(\u001b[0m\u001b[0mself\u001b[0m\u001b[0;34m,\u001b[0m \u001b[0mmemo\u001b[0m\u001b[0;34m)\u001b[0m\u001b[0;34m:\u001b[0m\u001b[0;34m\u001b[0m\u001b[0m\n",
      "\u001b[0;31mTypeError\u001b[0m: _make_subclass(): argument 'data' (position 2) must be Tensor, not tuple"
     ]
    }
   ],
   "source": [
    "preproc = dl.X_MNIST.view(3000,28,28).mean(dim=0)\n",
    "preproc_std = torch.ones(28,28)\n",
    "temp = dl.X_MNIST.view(3000,28,28).std(dim=0)\n",
    "preproc_std[temp>.1] = temp[temp>.1]\n",
    "base_model = models.NetVanilla(preproc=(preproc,preproc_std)).to(device)"
   ]
  },
  {
   "cell_type": "code",
   "execution_count": 17,
   "metadata": {},
   "outputs": [
    {
     "name": "stdout",
     "output_type": "stream",
     "text": [
      "Train Epoch: 0 [0/60000 (0%)]\tLoss: 0.043099\n",
      "Train Epoch: 0 [10000/60000 (17%)]\tLoss: 0.086144\n",
      "Train Epoch: 0 [20000/60000 (33%)]\tLoss: 0.085262\n",
      "Train Epoch: 0 [30000/60000 (50%)]\tLoss: 0.041388\n",
      "Train Epoch: 0 [40000/60000 (67%)]\tLoss: 0.055187\n",
      "Train Epoch: 0 [50000/60000 (83%)]\tLoss: 0.073890\n",
      "Train Epoch: 1 [0/60000 (0%)]\tLoss: 0.104670\n",
      "Train Epoch: 1 [10000/60000 (17%)]\tLoss: 0.066412\n",
      "Train Epoch: 1 [20000/60000 (33%)]\tLoss: 0.085076\n",
      "Train Epoch: 1 [30000/60000 (50%)]\tLoss: 0.089652\n",
      "Train Epoch: 1 [40000/60000 (67%)]\tLoss: 0.032478\n",
      "Train Epoch: 1 [50000/60000 (83%)]\tLoss: 0.033671\n"
     ]
    }
   ],
   "source": [
    "import torch.optim as optim\n",
    "\n",
    "lr = .0000001\n",
    "momentum = .9\n",
    "\n",
    "optimizer_base = optim.SGD(base_model.parameters(), lr=lr, momentum=momentum, weight_decay=0.005)\n",
    "for epoch in range(2):\n",
    "    train_vanilla(base_model, device, dl.train_loader, optimizer_base, epoch)\n"
   ]
  },
  {
   "cell_type": "code",
   "execution_count": 26,
   "metadata": {},
   "outputs": [
    {
     "data": {
      "text/plain": [
       "(array([271.,  53.,  55.,  37.,  38.,  27.,  28.,  41.,  45., 189.]),\n",
       " array([0.        , 0.04477551, 0.08955102, 0.13432653, 0.17910204,\n",
       "        0.22387755, 0.26865306, 0.31342857, 0.35820408, 0.40297959,\n",
       "        0.4477551 ]),\n",
       " <a list of 10 Patch objects>)"
      ]
     },
     "execution_count": 26,
     "metadata": {},
     "output_type": "execute_result"
    },
    {
     "data": {
      "image/png": "[encoded data removed]",
      "text/plain": [
       "<Figure size 432x288 with 1 Axes>"
      ]
     },
     "metadata": {},
     "output_type": "display_data"
    }
   ],
   "source": [
    "plt.hist(temp.view(784))"
   ]
  },
  {
   "cell_type": "code",
   "execution_count": 6,
   "metadata": {},
   "outputs": [],
   "source": [
    "torch.save(base_model, 'base_model.pth')"
   ]
  },
  {
   "cell_type": "code",
   "execution_count": 7,
   "metadata": {},
   "outputs": [
    {
     "name": "stderr",
     "output_type": "stream",
     "text": [
      "/home/alexm/project/notebooks/gmm-robust/models.py:84: UserWarning: To copy construct from a tensor, it is recommended to use sourceTensor.clone().detach() or sourceTensor.clone().detach().requires_grad_(True), rather than torch.tensor(sourceTensor).\n",
      "  index = (X[:,None,:]-torch.tensor(self.mu.data[None,:,:], dtype=torch.float)).norm(dim=2).min(dim=1)[1]\n"
     ]
    }
   ],
   "source": [
    "base_model = torch.load('base_model.pth')\n",
    "model = models.Net(base_model, dl.X_MNIST, 1000, -764.).to(device)\n",
    "torch.save(model, 'gmm_model.pth')"
   ]
  },
  {
   "cell_type": "code",
   "execution_count": 18,
   "metadata": {},
   "outputs": [
    {
     "data": {
      "image/png": "[encoded data removed]",
      "text/plain": [
       "<Figure size 432x288 with 10 Axes>"
      ]
     },
     "metadata": {},
     "output_type": "display_data"
    },
    {
     "name": "stdout",
     "output_type": "stream",
     "text": [
      "\n",
      "\n",
      "\n",
      "Test set: Average loss: 0.0890, Accuracy: 9801/10000 (98%), Ave. Confidence: 95%\n",
      "\n",
      "\n",
      "Test set: Average loss: 0.0712, Accuracy: 9801/10000 (98%), Ave. Confidence: 96%\n",
      "\n",
      "\n",
      "Ave. Confidence: 48%\n",
      "\n",
      "\n",
      "Ave. Confidence: 78%\n",
      "\n"
     ]
    },
    {
     "data": {
      "text/plain": [
       "0.7822195973992347"
      ]
     },
     "execution_count": 18,
     "metadata": {},
     "output_type": "execute_result"
    }
   ],
   "source": [
    "#model.log_pz_lam.data = torch.tensor(-767.132, device=device)\n",
    "data = enumerate(dl.test_loader).__next__()[1][0]\n",
    "y = model(data.to(device))\n",
    "y_base = base_model(data.to(device))\n",
    "\n",
    "plotting.plot_samples([y,y_base], data)\n",
    "\n",
    "test(model, device, dl.test_loader)\n",
    "test(base_model, device, dl.test_loader)\n",
    "\n",
    "test_adv(model, device, dl.EMNIST_test_loader)\n",
    "test_adv(base_model, device, dl.EMNIST_test_loader)"
   ]
  },
  {
   "cell_type": "code",
   "execution_count": 570,
   "metadata": {},
   "outputs": [
    {
     "name": "stdout",
     "output_type": "stream",
     "text": [
      "Train Epoch: 0 [0/60000 (0%)]\tLoss: 0.841768\n",
      "Train Epoch: 0 [10000/60000 (17%)]\tLoss: 0.488239\n",
      "Train Epoch: 0 [20000/60000 (33%)]\tLoss: 0.471570\n",
      "Train Epoch: 0 [30000/60000 (50%)]\tLoss: 0.495308\n",
      "Train Epoch: 0 [40000/60000 (67%)]\tLoss: 0.416114\n",
      "Train Epoch: 0 [50000/60000 (83%)]\tLoss: 0.419273\n"
     ]
    }
   ],
   "source": [
    "lr = .001\n",
    "momentum = .9\n",
    "\n",
    "optimizer = optim.SGD( model.parameters(), lr=lr, momentum=momentum)\n",
    "for epoch in range(1):\n",
    "    train(model, device, train_loader, optimizer, epoch, EMNIST_train_loader)\n",
    "    #train_vanilla(model, device, train_loader, optimizer, epoch)"
   ]
  },
  {
   "cell_type": "code",
   "execution_count": 39,
   "metadata": {},
   "outputs": [
    {
     "data": {
      "image/png": "[encoded data removed]",
      "text/plain": [
       "<Figure size 432x288 with 10 Axes>"
      ]
     },
     "metadata": {},
     "output_type": "display_data"
    },
    {
     "name": "stdout",
     "output_type": "stream",
     "text": [
      "\n",
      "\n"
     ]
    }
   ],
   "source": [
    "#model.log_pz_lam.data = torch.tensor(-767.132, device=device)\n",
    "data = enumerate(EMNIST_test_loader).__next__()[1][0]\n",
    "y = model(data.to(device))\n",
    "y_base = base_model(data.to(device))\n",
    "\n",
    "plotting.plot_samples([y_base,y], data)"
   ]
  },
  {
   "cell_type": "code",
   "execution_count": 525,
   "metadata": {},
   "outputs": [
    {
     "data": {
      "text/plain": [
       "[<matplotlib.lines.Line2D at 0x7f39ba7c0e48>]"
      ]
     },
     "execution_count": 525,
     "metadata": {},
     "output_type": "execute_result"
    },
    {
     "data": {
      "image/png": "[encoded data removed]",
      "text/plain": [
       "<Figure size 432x288 with 1 Axes>"
      ]
     },
     "metadata": {},
     "output_type": "display_data"
    }
   ],
   "source": [
    "correct = []\n",
    "conf_MNIST = []\n",
    "conf_EMNIST = []\n",
    "lam_vec = torch.linspace(-775.,-755, 20)\n",
    "for lam in lam_vec:\n",
    "    model.log_pz_lam.data = torch.tensor(lam, device=device)\n",
    "\n",
    "    a, b = test(model, device, test_loader)\n",
    "    correct.append(a)\n",
    "    conf_MNIST.append(b)\n",
    "\n",
    "    conf_EMNIST.append(test_adv(model, device, EMNIST_test_loader))\n",
    "\n",
    "#fig=plt.figure(figsize=(20, 6))\n",
    "plt.plot(lam_vec.numpy(), np.array(correct)/10000)\n",
    "plt.plot(lam_vec.numpy(), conf_MNIST)\n",
    "plt.plot(lam_vec.numpy(), conf_EMNIST)"
   ]
  },
  {
   "cell_type": "code",
   "execution_count": 42,
   "metadata": {},
   "outputs": [
    {
     "data": {
      "image/png": "[encoded data removed]",
      "text/plain": [
       "<Figure size 432x288 with 10 Axes>"
      ]
     },
     "metadata": {},
     "output_type": "display_data"
    },
    {
     "name": "stdout",
     "output_type": "stream",
     "text": [
      "\n",
      "\n"
     ]
    }
   ],
   "source": [
    "data = enumerate(EMNIST_test_loader).__next__()[1][0]\n",
    "y = model(data.to(device))\n",
    "y_base = base_model(data.to(device))\n",
    "\n",
    "plotting.plot_samples([y_base, y], data)"
   ]
  },
  {
   "cell_type": "code",
   "execution_count": 487,
   "metadata": {},
   "outputs": [],
   "source": [
    "with torch.no_grad():\n",
    "    for data, _ in test_loader:\n",
    "        data = data.to(device)\n",
    "        output = model(data)\n",
    "        base_output = base_model(data)\n",
    "        c, pred = output.max(1, keepdim=True) # get the index of the max log-probability\n",
    "        c, pred_base = output.max(1, keepdim=True) # get the index of the max log-probability\n",
    "        if any(pred!= pred_base):\n",
    "            print('hi')\n"
   ]
  },
  {
   "cell_type": "code",
   "execution_count": 573,
   "metadata": {},
   "outputs": [
    {
     "name": "stdout",
     "output_type": "stream",
     "text": [
      "\n",
      "Test set: Average loss: 0.4599, Accuracy: 31865/40000 (80%), Ave. Confidence: 76%\n",
      "\n",
      "\n",
      "Test set: Average loss: 0.4556, Accuracy: 31961/40000 (80%), Ave. Confidence: 77%\n",
      "\n"
     ]
    },
    {
     "data": {
      "text/plain": [
       "(31961, 0.7668706594467163)"
      ]
     },
     "execution_count": 573,
     "metadata": {},
     "output_type": "execute_result"
    }
   ],
   "source": [
    "test(model, device, EMNIST_test_loader_digits)\n",
    "test(base_model, device, EMNIST_test_loader_digits)\n"
   ]
  },
  {
   "cell_type": "code",
   "execution_count": 19,
   "metadata": {},
   "outputs": [
    {
     "data": {
      "text/plain": [
       "tensor([-764.8209, -751.8403, -759.9078, -775.3289, -765.0276, -782.1302,\n",
       "        -758.5701, -753.3587, -754.9035, -765.7292], device='cuda:0',\n",
       "       grad_fn=<LogsumexpBackward>)"
      ]
     },
     "execution_count": 19,
     "metadata": {},
     "output_type": "execute_result"
    }
   ],
   "source": [
    "data = enumerate(EMNIST_test_loader).__next__()[1][0]\n",
    "y = model.gmm(data.view(10,784).to(device))\n",
    "torch.logsumexp(y, dim=0)"
   ]
  },
  {
   "cell_type": "code",
   "execution_count": 13,
   "metadata": {},
   "outputs": [
    {
     "data": {
      "text/plain": [
       "<matplotlib.image.AxesImage at 0x7f4ae477a160>"
      ]
     },
     "execution_count": 13,
     "metadata": {},
     "output_type": "execute_result"
    },
    {
     "data": {
      "image/png": "[encoded data removed]",
      "text/plain": [
       "<Figure size 432x288 with 1 Axes>"
      ]
     },
     "metadata": {},
     "output_type": "display_data"
    }
   ],
   "source": [
    "import matplotlib.pyplot as plt\n",
    "plt.imshow(preproc)"
   ]
  },
  {
   "cell_type": "code",
   "execution_count": 19,
   "metadata": {},
   "outputs": [],
   "source": []
  },
  {
   "cell_type": "code",
   "execution_count": 21,
   "metadata": {},
   "outputs": [
    {
     "data": {
      "text/plain": [
       "<matplotlib.image.AxesImage at 0x7f4acf147898>"
      ]
     },
     "execution_count": 21,
     "metadata": {},
     "output_type": "execute_result"
    },
    {
     "data": {
      "image/png": "[encoded data removed]",
      "text/plain": [
       "<Figure size 432x288 with 1 Axes>"
      ]
     },
     "metadata": {},
     "output_type": "display_data"
    }
   ],
   "source": [
    "import matplotlib.pyplot as plt\n",
    "plt.imshow(preproc_std)"
   ]
  },
  {
   "cell_type": "code",
   "execution_count": null,
   "metadata": {},
   "outputs": [],
   "source": []
  }
 ],
 "metadata": {
  "kernelspec": {
   "display_name": "Python 3",
   "language": "python",
   "name": "python3"
  },
  "language_info": {
   "codemirror_mode": {
    "name": "ipython",
    "version": 3
   },
   "file_extension": ".py",
   "mimetype": "text/x-python",
   "name": "python",
   "nbconvert_exporter": "python",
   "pygments_lexer": "ipython3",
   "version": "3.5.2"
  }
 },
 "nbformat": 4,
 "nbformat_minor": 2
}
