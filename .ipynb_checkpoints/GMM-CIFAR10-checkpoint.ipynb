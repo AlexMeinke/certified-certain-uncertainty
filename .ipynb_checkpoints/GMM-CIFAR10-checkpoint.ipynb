{
 "cells": [
  {
   "cell_type": "code",
   "execution_count": 1,
   "metadata": {},
   "outputs": [],
   "source": [
    "import torch\n",
    "import torch.nn as nn\n",
    "import torch.nn.functional as F\n",
    "import torch.optim as optim\n",
    "\n",
    "import matplotlib.pyplot as plt\n",
    "import numpy as np\n",
    "import pandas as pd\n",
    "\n",
    "from importlib import reload\n",
    "\n",
    "import utils.models as models\n",
    "import utils.plotting as plotting\n",
    "import utils.dataloaders as dl\n",
    "import utils.traintest as tt\n",
    "import utils.adversarial as adv\n",
    "import utils.eval as ev\n",
    "import utils.gmm_helpers as gmm_helpers\n",
    "import model_params as params\n",
    "import resnet\n",
    "\n",
    "from tensorboardX import SummaryWriter"
   ]
  },
  {
   "cell_type": "code",
   "execution_count": 3,
   "metadata": {},
   "outputs": [],
   "source": [
    "gmm=torch.load('SavedModels/GMM/gmm_CIFAR10_n1000_data_used50000_augm_flagTrue_alg_scikit.pth')"
   ]
  },
  {
   "cell_type": "code",
   "execution_count": 4,
   "metadata": {},
   "outputs": [
    {
     "data": {
      "text/plain": [
       "tensor(9.8527, grad_fn=<MeanBackward1>)"
      ]
     },
     "execution_count": 4,
     "metadata": {},
     "output_type": "execute_result"
    }
   ],
   "source": [
    "loader = dl.CIFAR10(train=True,augm_flag=True)\n",
    "ev.rescale_gmm(gmm, loader)\n",
    "gmm.logvar.exp().sqrt().mean()"
   ]
  },
  {
   "cell_type": "code",
   "execution_count": 5,
   "metadata": {},
   "outputs": [],
   "source": [
    "X = ev.find_lam(gmm, 0.01, loader)"
   ]
  },
  {
   "cell_type": "code",
   "execution_count": 2,
   "metadata": {},
   "outputs": [
    {
     "name": "stdout",
     "output_type": "stream",
     "text": [
      "Using downloaded and verified file: ../data/test_32x32.mat\n",
      "loaded\n"
     ]
    }
   ],
   "source": [
    "test_loader = dl.SVHN(train=False,augm_flag=False)\n",
    "base_model=torch.load('SavedModels/model_baseSVHN_lr0.1_augm_flagTrue_train_typeplain.pth').cpu()\n",
    "print('loaded')\n",
    "correct, av_conf, test_loss = tt.test(base_model, 'cpu', test_loader, min_conf=.1)"
   ]
  },
  {
   "cell_type": "code",
   "execution_count": 3,
   "metadata": {},
   "outputs": [
    {
     "name": "stdout",
     "output_type": "stream",
     "text": [
      "\\begin{tabular}{llrll}\n",
      "\\toprule\n",
      "{} &      DataSet &       MMC &               AUROC &               FPR@95 \\\\\n",
      "\\midrule\n",
      "0 &        MNIST &  0.987650 &                   - &                    - \\\\\n",
      "1 &      CIFAR10 &  0.743120 &  0.9511390999999999 &  0.25619998574256897 \\\\\n",
      "2 &     CIFAR100 &  0.736812 &  0.9540600100000001 &  0.24929998815059662 \\\\\n",
      "3 &      LSUN\\_CR &  0.735161 &              0.9523 &  0.24666666984558105 \\\\\n",
      "4 &    Imagenet- &  0.730366 &         0.955624395 &   0.2377999871969223 \\\\\n",
      "5 &        Noise &  0.723415 &  0.9675720180840849 &  0.21634380519390106 \\\\\n",
      "6 &   Adv. Noise &  0.917751 &  0.4421688196847366 &   0.7025489807128906 \\\\\n",
      "7 &  Adv. Sample &  1.000000 &                 0.0 &                  1.0 \\\\\n",
      "\\bottomrule\n",
      "\\end{tabular}\n",
      "\n"
     ]
    }
   ],
   "source": [
    "df = pd.read_csv('results/model_baseSVHN_lr0.1_augm_flagTrue_train_typeplain.csv')\n",
    "print(df.to_latex())"
   ]
  },
  {
   "cell_type": "code",
   "execution_count": null,
   "metadata": {},
   "outputs": [
    {
     "name": "stdout",
     "output_type": "stream",
     "text": [
      "Using downloaded and verified file: ../data/train_32x32.mat\n",
      "Using downloaded and verified file: ../data/train_32x32.mat\n",
      "Using downloaded and verified file: ../data/test_32x32.mat\n"
     ]
    }
   ],
   "source": [
    "gmm=torch.load('SavedModels/GMM/gmm_SVHN_n1000_data_used50000_augm_flagTrue_alg_scikit_rescaled.pth')\n",
    "model_params = params.params_dict['SVHN'](augm_flag=True)\n",
    "\n",
    "lam = gmm_helpers.find_lam(gmm, .1, model_params.cali_loader)\n",
    "print(lam)"
   ]
  },
  {
   "cell_type": "code",
   "execution_count": 41,
   "metadata": {},
   "outputs": [
    {
     "name": "stdout",
     "output_type": "stream",
     "text": [
      "0.9461047940995697\n",
      "0.8177047521700211\n"
     ]
    }
   ],
   "source": [
    "lam = -4196.\n",
    "model = models.RobustModel(base_model, gmm, lam, dim=model_params.dim)\n",
    "correct, av_conf, test_loss = tt.test(model, 'cpu', model_params.test_loader, min_conf=.1)\n",
    "print(correct)\n",
    "print(av_conf)"
   ]
  },
  {
   "cell_type": "code",
   "execution_count": null,
   "metadata": {},
   "outputs": [],
   "source": [
    "df = ev.evaluate(model, device, 'SVHN', model_params.loaders)\n",
    "print(df.to_latex())"
   ]
  },
  {
   "cell_type": "code",
   "execution_count": 8,
   "metadata": {},
   "outputs": [
    {
     "name": "stdout",
     "output_type": "stream",
     "text": [
      "0.9691917639827904\n",
      "0.9876502057710307\n"
     ]
    }
   ],
   "source": [
    "print(correct)\n",
    "print(av_conf)"
   ]
  },
  {
   "cell_type": "code",
   "execution_count": 15,
   "metadata": {},
   "outputs": [
    {
     "data": {
      "text/plain": [
       "tensor(6.3971, grad_fn=<SqrtBackward>)"
      ]
     },
     "execution_count": 15,
     "metadata": {},
     "output_type": "execute_result"
    }
   ],
   "source": [
    "model.mm.logvar.exp().mean().sqrt()"
   ]
  },
  {
   "cell_type": "code",
   "execution_count": 34,
   "metadata": {},
   "outputs": [
    {
     "data": {
      "text/plain": [
       "tensor(-4194.6812, grad_fn=<MeanBackward1>)"
      ]
     },
     "execution_count": 34,
     "metadata": {},
     "output_type": "execute_result"
    }
   ],
   "source": [
    "data = enumerate(model_params.loaders[0][1]).__next__()[1][0]\n",
    "torch.logsumexp(gmm(data.view(data.shape[0], -1)), 0).mean()"
   ]
  },
  {
   "cell_type": "code",
   "execution_count": 31,
   "metadata": {},
   "outputs": [
    {
     "data": {
      "text/plain": [
       "[('CIFAR10', <torch.utils.data.dataloader.DataLoader at 0x7f09ecc0aa20>),\n",
       " ('CIFAR100', <torch.utils.data.dataloader.DataLoader at 0x7f09ecc0a080>),\n",
       " ('LSUN_CR', <torch.utils.data.dataloader.DataLoader at 0x7f09f1f530b8>),\n",
       " ('Imagenet-', <torch.utils.data.dataloader.DataLoader at 0x7f0ae23c5d68>),\n",
       " ('Noise', <torch.utils.data.dataloader.DataLoader at 0x7f09f1852d68>)]"
      ]
     },
     "execution_count": 31,
     "metadata": {},
     "output_type": "execute_result"
    }
   ],
   "source": [
    "torch.logsumexp(gmm(data.view(data.shape[0], -1)), 0).mean()"
   ]
  },
  {
   "cell_type": "code",
   "execution_count": 40,
   "metadata": {},
   "outputs": [],
   "source": [
    "model.loglam.data = torch.tensor(-4196.)"
   ]
  },
  {
   "cell_type": "code",
   "execution_count": 39,
   "metadata": {},
   "outputs": [
    {
     "data": {
      "text/plain": [
       "tensor(-4193.0845, grad_fn=<MeanBackward1>)"
      ]
     },
     "execution_count": 39,
     "metadata": {},
     "output_type": "execute_result"
    }
   ],
   "source": [
    "data = enumerate(model_params.train_loader).__next__()[1][0]\n",
    "torch.logsumexp(gmm(data.view(data.shape[0], -1)), 0).mean()"
   ]
  },
  {
   "cell_type": "code",
   "execution_count": 42,
   "metadata": {},
   "outputs": [
    {
     "data": {
      "text/plain": [
       "<module 'model_params' from '/home/alexm/project/notebooks/gmm-robust/model_params.py'>"
      ]
     },
     "execution_count": 42,
     "metadata": {},
     "output_type": "execute_result"
    }
   ],
   "source": [
    "reload(params)"
   ]
  },
  {
   "cell_type": "code",
   "execution_count": null,
   "metadata": {},
   "outputs": [],
   "source": [
    "\n"
   ]
  }
 ],
 "metadata": {
  "kernelspec": {
   "display_name": "Python 3",
   "language": "python",
   "name": "python3"
  },
  "language_info": {
   "codemirror_mode": {
    "name": "ipython",
    "version": 3
   },
   "file_extension": ".py",
   "mimetype": "text/x-python",
   "name": "python",
   "nbconvert_exporter": "python",
   "pygments_lexer": "ipython3",
   "version": "3.5.2"
  }
 },
 "nbformat": 4,
 "nbformat_minor": 2
}
